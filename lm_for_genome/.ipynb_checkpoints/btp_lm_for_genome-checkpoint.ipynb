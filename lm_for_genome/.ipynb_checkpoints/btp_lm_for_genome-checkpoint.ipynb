{
  "nbformat": 4,
  "nbformat_minor": 0,
  "metadata": {
    "colab": {
      "name": "btp_lm_for_genome.ipynb",
      "provenance": [],
      "collapsed_sections": []
    },
    "kernelspec": {
      "name": "python3",
      "display_name": "Python 3"
    },
    "accelerator": "GPU"
  },
  "cells": [
    {
      "cell_type": "code",
      "metadata": {
        "id": "AdOU-wEIMS-J",
        "colab_type": "code",
        "outputId": "cea167bf-e869-4772-c8fc-f1efd1170ddf",
        "colab": {
          "base_uri": "https://localhost:8080/",
          "height": 122
        }
      },
      "source": [
        "from google.colab import drive\n",
        "drive.mount(\"/genome_data\")"
      ],
      "execution_count": 0,
      "outputs": [
        {
          "output_type": "stream",
          "text": [
            "Go to this URL in a browser: https://accounts.google.com/o/oauth2/auth?client_id=947318989803-6bn6qk8qdgf4n4g3pfee6491hc0brc4i.apps.googleusercontent.com&redirect_uri=urn%3aietf%3awg%3aoauth%3a2.0%3aoob&response_type=code&scope=email%20https%3a%2f%2fwww.googleapis.com%2fauth%2fdocs.test%20https%3a%2f%2fwww.googleapis.com%2fauth%2fdrive%20https%3a%2f%2fwww.googleapis.com%2fauth%2fdrive.photos.readonly%20https%3a%2f%2fwww.googleapis.com%2fauth%2fpeopleapi.readonly\n",
            "\n",
            "Enter your authorization code:\n",
            "··········\n",
            "Mounted at /genome_data\n"
          ],
          "name": "stdout"
        }
      ]
    },
    {
      "cell_type": "code",
      "metadata": {
        "id": "mmyjoofgMU_5",
        "colab_type": "code",
        "outputId": "0d44279a-bd29-405f-e11c-70ecccb67b63",
        "colab": {
          "base_uri": "https://localhost:8080/",
          "height": 34
        }
      },
      "source": [
        "pwd"
      ],
      "execution_count": 0,
      "outputs": [
        {
          "output_type": "execute_result",
          "data": {
            "text/plain": [
              "'/content'"
            ]
          },
          "metadata": {
            "tags": []
          },
          "execution_count": 2
        }
      ]
    },
    {
      "cell_type": "code",
      "metadata": {
        "id": "q5fz_WBZMX60",
        "colab_type": "code",
        "outputId": "f66dcd90-b3c2-4bb6-bf6c-bbb9705b1d48",
        "colab": {
          "base_uri": "https://localhost:8080/",
          "height": 97
        }
      },
      "source": [
        "import pandas as pd\n",
        "import tensorflow as tf\n",
        "import tensorflow_hub as hub\n",
        "from datetime import datetime\n",
        "from sklearn.model_selection import train_test_split\n",
        "import os\n",
        "\n",
        "print(\"tensorflow version : \", tf.__version__)\n",
        "print(\"tensorflow_hub version : \", hub.__version__)"
      ],
      "execution_count": 0,
      "outputs": [
        {
          "output_type": "display_data",
          "data": {
            "text/html": [
              "<p style=\"color: red;\">\n",
              "The default version of TensorFlow in Colab will soon switch to TensorFlow 2.x.<br>\n",
              "We recommend you <a href=\"https://www.tensorflow.org/guide/migrate\" target=\"_blank\">upgrade</a> now \n",
              "or ensure your notebook will continue to use TensorFlow 1.x via the <code>%tensorflow_version 1.x</code> magic:\n",
              "<a href=\"https://colab.research.google.com/notebooks/tensorflow_version.ipynb\" target=\"_blank\">more info</a>.</p>\n"
            ],
            "text/plain": [
              "<IPython.core.display.HTML object>"
            ]
          },
          "metadata": {
            "tags": []
          }
        },
        {
          "output_type": "stream",
          "text": [
            "tensorflow version :  1.15.0\n",
            "tensorflow_hub version :  0.7.0\n"
          ],
          "name": "stdout"
        }
      ]
    },
    {
      "cell_type": "code",
      "metadata": {
        "id": "c5mfuBjoMeHa",
        "colab_type": "code",
        "outputId": "8128c285-a06e-4178-c28f-526a9c0bd470",
        "colab": {
          "base_uri": "https://localhost:8080/",
          "height": 139
        }
      },
      "source": [
        "!pip install bert-tensorflow"
      ],
      "execution_count": 0,
      "outputs": [
        {
          "output_type": "stream",
          "text": [
            "Collecting bert-tensorflow\n",
            "\u001b[?25l  Downloading https://files.pythonhosted.org/packages/a6/66/7eb4e8b6ea35b7cc54c322c816f976167a43019750279a8473d355800a93/bert_tensorflow-1.0.1-py2.py3-none-any.whl (67kB)\n",
            "\r\u001b[K     |████▉                           | 10kB 27.1MB/s eta 0:00:01\r\u001b[K     |█████████▊                      | 20kB 6.1MB/s eta 0:00:01\r\u001b[K     |██████████████▋                 | 30kB 8.6MB/s eta 0:00:01\r\u001b[K     |███████████████████▍            | 40kB 5.5MB/s eta 0:00:01\r\u001b[K     |████████████████████████▎       | 51kB 6.7MB/s eta 0:00:01\r\u001b[K     |█████████████████████████████▏  | 61kB 7.9MB/s eta 0:00:01\r\u001b[K     |████████████████████████████████| 71kB 5.2MB/s \n",
            "\u001b[?25hRequirement already satisfied: six in /usr/local/lib/python3.6/dist-packages (from bert-tensorflow) (1.12.0)\n",
            "Installing collected packages: bert-tensorflow\n",
            "Successfully installed bert-tensorflow-1.0.1\n"
          ],
          "name": "stdout"
        }
      ]
    },
    {
      "cell_type": "code",
      "metadata": {
        "id": "mVwHONifMf5M",
        "colab_type": "code",
        "outputId": "ea42c718-8e83-4f41-b660-5f0632079ee5",
        "colab": {
          "base_uri": "https://localhost:8080/",
          "height": 71
        }
      },
      "source": [
        "#Importing BERT modules\n",
        "import bert\n",
        "from bert import run_classifier\n",
        "from bert import optimization\n",
        "from bert import tokenization"
      ],
      "execution_count": 0,
      "outputs": [
        {
          "output_type": "stream",
          "text": [
            "WARNING:tensorflow:From /usr/local/lib/python3.6/dist-packages/bert/optimization.py:87: The name tf.train.Optimizer is deprecated. Please use tf.compat.v1.train.Optimizer instead.\n",
            "\n"
          ],
          "name": "stdout"
        }
      ]
    },
    {
      "cell_type": "code",
      "metadata": {
        "id": "pq5u62-IMh4p",
        "colab_type": "code",
        "outputId": "ec8ba8b1-636d-4316-fe8a-cbdf9cb5d992",
        "colab": {
          "base_uri": "https://localhost:8080/",
          "height": 34
        }
      },
      "source": [
        "# Set the output directory for saving model file\n",
        "OUTPUT_DIR = '/genome_data/My Drive/Colab Notebooks/BERT/genome_data'\n",
        "\n",
        "#@markdown Whether or not to clear/delete the directory and create a new one\n",
        "DO_DELETE = False #@param {type:\"boolean\"}\n",
        "\n",
        "if DO_DELETE:\n",
        "  try:\n",
        "    tf.gfile.DeleteRecursively(OUTPUT_DIR)\n",
        "  except:\n",
        "    pass\n",
        "\n",
        "tf.gfile.MakeDirs(OUTPUT_DIR)\n",
        "print('***** Model output directory: {} *****'.format(OUTPUT_DIR))"
      ],
      "execution_count": 0,
      "outputs": [
        {
          "output_type": "stream",
          "text": [
            "***** Model output directory: /genome_data/My Drive/Colab Notebooks/BERT/genome_data *****\n"
          ],
          "name": "stdout"
        }
      ]
    },
    {
      "cell_type": "code",
      "metadata": {
        "id": "RGJf7eQcMjL5",
        "colab_type": "code",
        "colab": {}
      },
      "source": [
        "train = pd.read_csv(\"/genome_data/My Drive/Colab Notebooks/BERT/genome_data/train.csv\", delimiter=\"\\t\", header=None)\n",
        "test = pd.read_csv(\"/genome_data/My Drive/Colab Notebooks/BERT/genome_data/dev.csv\", delimiter=\"\\t\", header=None)\n",
        "\n",
        "from sklearn.model_selection import train_test_split\n",
        "\n",
        "train, val =  train_test_split(train, test_size = 0.2, random_state = 100)"
      ],
      "execution_count": 0,
      "outputs": []
    },
    {
      "cell_type": "code",
      "metadata": {
        "id": "4xCk7vYnMlK1",
        "colab_type": "code",
        "outputId": "2fed91c7-1a69-4523-c3a8-8e31f47b95c4",
        "colab": {
          "base_uri": "https://localhost:8080/",
          "height": 54
        }
      },
      "source": [
        "val[0][914]\n"
      ],
      "execution_count": 0,
      "outputs": [
        {
          "output_type": "execute_result",
          "data": {
            "text/plain": [
              "'T C A G A T A A G G T T A A A G G T C C G T A C G T A A C A A T T G A A T A T A G C T C A G T G A C G T C G C T C T G T T A G A G T G T A C A G A T G G G C T A A T T C G A C G T T T A T C T T A T A C T C T C C G A A G C G G A A T A C G T T G A A A G T G T C A C G C A G A C G C A C G G C G T C A G T T C C A G C G A A G T A A T T G C A A A T C G T G A A A T G A T A C C C G G G A C A C T C T A A A G'"
            ]
          },
          "metadata": {
            "tags": []
          },
          "execution_count": 36
        }
      ]
    },
    {
      "cell_type": "code",
      "metadata": {
        "id": "jkMLXWTWMm5Q",
        "colab_type": "code",
        "outputId": "90e7cb32-e3a4-4710-f44c-a3d11ceaac1e",
        "colab": {
          "base_uri": "https://localhost:8080/",
          "height": 68
        }
      },
      "source": [
        "print(\"Training Set Shape :\", train.shape)\n",
        "print(\"Validation Set Shape :\", val.shape)\n",
        "print(\"Test Set Shape :\", test.shape)"
      ],
      "execution_count": 0,
      "outputs": [
        {
          "output_type": "stream",
          "text": [
            "Training Set Shape : (5120, 2)\n",
            "Validation Set Shape : (1280, 2)\n",
            "Test Set Shape : (1600, 2)\n"
          ],
          "name": "stdout"
        }
      ]
    },
    {
      "cell_type": "code",
      "metadata": {
        "id": "O0UCPDRXMpFR",
        "colab_type": "code",
        "outputId": "0456f220-d80c-4818-cbf9-a95147364f55",
        "colab": {
          "base_uri": "https://localhost:8080/",
          "height": 279
        }
      },
      "source": [
        "train[1].value_counts().plot(kind = 'bar')"
      ],
      "execution_count": 0,
      "outputs": [
        {
          "output_type": "execute_result",
          "data": {
            "text/plain": [
              "<matplotlib.axes._subplots.AxesSubplot at 0x7f3fbe92a860>"
            ]
          },
          "metadata": {
            "tags": []
          },
          "execution_count": 10
        },
        {
          "output_type": "display_data",
          "data": {
            "image/png": "[encoded data removed]",
            "text/plain": [
              "<Figure size 432x288 with 1 Axes>"
            ]
          },
          "metadata": {
            "tags": []
          }
        }
      ]
    },
    {
      "cell_type": "code",
      "metadata": {
        "id": "fQ48HuudMqt3",
        "colab_type": "code",
        "colab": {}
      },
      "source": [
        "DATA_COLUMN = 0\n",
        "LABEL_COLUMN = 1\n",
        "# The list containing all the classes (train['SECTION'].unique())\n",
        "label_list = [0, 1, 2, 3]"
      ],
      "execution_count": 0,
      "outputs": []
    },
    {
      "cell_type": "code",
      "metadata": {
        "id": "646feYH3NdGO",
        "colab_type": "code",
        "colab": {}
      },
      "source": [
        "train_InputExamples = train.apply(lambda x: bert.run_classifier.InputExample(guid=None,\n",
        "                                                                   text_a = x[DATA_COLUMN], \n",
        "                                                                   text_b = None, \n",
        "                                                                   label = x[LABEL_COLUMN]), axis = 1)\n",
        "\n",
        "val_InputExamples = val.apply(lambda x: bert.run_classifier.InputExample(guid=None, \n",
        "                                                                   text_a = x[DATA_COLUMN], \n",
        "                                                                   text_b = None, \n",
        "                                                                   label = x[LABEL_COLUMN]), axis = 1)"
      ],
      "execution_count": 0,
      "outputs": []
    },
    {
      "cell_type": "code",
      "metadata": {
        "id": "gEAwwRMB449n",
        "colab_type": "code",
        "outputId": "3560b65c-d2af-4183-d046-1c896392d5af",
        "colab": {
          "base_uri": "https://localhost:8080/",
          "height": 459
        }
      },
      "source": [
        "val_InputExamples, val"
      ],
      "execution_count": 0,
      "outputs": [
        {
          "output_type": "execute_result",
          "data": {
            "text/plain": [
              "(2693    <bert.run_classifier.InputExample object at 0x...\n",
              " 5047    <bert.run_classifier.InputExample object at 0x...\n",
              " 2988    <bert.run_classifier.InputExample object at 0x...\n",
              " 1222    <bert.run_classifier.InputExample object at 0x...\n",
              " 3642    <bert.run_classifier.InputExample object at 0x...\n",
              "                               ...                        \n",
              " 2920    <bert.run_classifier.InputExample object at 0x...\n",
              " 5283    <bert.run_classifier.InputExample object at 0x...\n",
              " 914     <bert.run_classifier.InputExample object at 0x...\n",
              " 6133    <bert.run_classifier.InputExample object at 0x...\n",
              " 2553    <bert.run_classifier.InputExample object at 0x...\n",
              " Length: 1280, dtype: object,\n",
              "                                                       0  1\n",
              " 2693  T C G T G T G A T A C G G T T T T C C A C C T ...  1\n",
              " 5047  G G C T A T C T C C A C G C G A T A A G G T A ...  3\n",
              " 2988  T G C T A C C C A T A G G C C A C T C A T C G ...  0\n",
              " 1222  T C C A C C A A C C A C G C A A T A G T T T T ...  1\n",
              " 3642  A T A A A A C G G T A T A G T A T T C T T T C ...  2\n",
              " ...                                                 ... ..\n",
              " 2920  A C T C C A C T G T T G C G G G G A C T A T G ...  2\n",
              " 5283  T A T T C T G G A G A A G A A A T A A G G C C ...  0\n",
              " 914   T C A G A T A A G G T T A A A G G T C C G T A ...  3\n",
              " 6133  A A G T A T G G G G T T C A A C C C C A G C A ...  0\n",
              " 2553  G T G G T G A T A A G G C C G A C C A G T T G ...  3\n",
              " \n",
              " [1280 rows x 2 columns])"
            ]
          },
          "metadata": {
            "tags": []
          },
          "execution_count": 53
        }
      ]
    },
    {
      "cell_type": "code",
      "metadata": {
        "id": "_rbjnCxcKs1r",
        "colab_type": "code",
        "outputId": "2e602433-4527-4b1c-d224-ffb7daed9ae7",
        "colab": {
          "base_uri": "https://localhost:8080/",
          "height": 221
        }
      },
      "source": [
        "train_InputExamples"
      ],
      "execution_count": 0,
      "outputs": [
        {
          "output_type": "execute_result",
          "data": {
            "text/plain": [
              "2558    <bert.run_classifier.InputExample object at 0x...\n",
              "5044    <bert.run_classifier.InputExample object at 0x...\n",
              "2569    <bert.run_classifier.InputExample object at 0x...\n",
              "3414    <bert.run_classifier.InputExample object at 0x...\n",
              "2675    <bert.run_classifier.InputExample object at 0x...\n",
              "                              ...                        \n",
              "6026    <bert.run_classifier.InputExample object at 0x...\n",
              "79      <bert.run_classifier.InputExample object at 0x...\n",
              "3927    <bert.run_classifier.InputExample object at 0x...\n",
              "5955    <bert.run_classifier.InputExample object at 0x...\n",
              "5640    <bert.run_classifier.InputExample object at 0x...\n",
              "Length: 5120, dtype: object"
            ]
          },
          "metadata": {
            "tags": []
          },
          "execution_count": 13
        }
      ]
    },
    {
      "cell_type": "code",
      "metadata": {
        "id": "nR0NrS0fKu3P",
        "colab_type": "code",
        "outputId": "54f29fdc-42ee-4fd2-8594-e6bae99ebf09",
        "colab": {
          "base_uri": "https://localhost:8080/",
          "height": 207
        }
      },
      "source": [
        "\n",
        "print(\"Row 0 - guid of training set : \", train_InputExamples.iloc[0].guid)\n",
        "print(\"\\n__________\\nRow 0 - text_a of training set : \", train_InputExamples.iloc[0].text_a)\n",
        "print(\"\\n__________\\nRow 0 - text_b of training set : \", train_InputExamples.iloc[0].text_b)\n",
        "print(\"\\n__________\\nRow 0 - label of training set : \", train_InputExamples.iloc[0].label)"
      ],
      "execution_count": 0,
      "outputs": [
        {
          "output_type": "stream",
          "text": [
            "Row 0 - guid of training set :  None\n",
            "\n",
            "__________\n",
            "Row 0 - text_a of training set :  T C A A C C G C C T A C G G T T T C T T T A G T T T G T C C C A G A T C C T C T T A G A C A G G G A G G T G G C A T A C G G G T A C C A G C C A T G T A T A T C C T A C T A A C A T C C C T A C C T C C A T T C C A T T G G A A C A A T A G T G A T A C C G A T A A G A C G C G G G A G G G T A A G A T G A A A A G A C C A G A T A A G G G A G G G T T G A C G A A G T A C T T A T A A G C C A T C A A A C A C\n",
            "\n",
            "__________\n",
            "Row 0 - text_b of training set :  None\n",
            "\n",
            "__________\n",
            "Row 0 - label of training set :  1\n"
          ],
          "name": "stdout"
        }
      ]
    },
    {
      "cell_type": "code",
      "metadata": {
        "id": "glj42870KxUE",
        "colab_type": "code",
        "outputId": "b9af597d-4ccd-49c2-f672-66ef2979417f",
        "colab": {
          "base_uri": "https://localhost:8080/",
          "height": 139
        }
      },
      "source": [
        "# This is a path to an uncased (all lowercase) version of BERT\n",
        "BERT_MODEL_HUB = \"https://tfhub.dev/google/bert_uncased_L-12_H-768_A-12/1\"\n",
        "\n",
        "def create_tokenizer_from_hub_module():\n",
        "  \"\"\"Get the vocab file and casing info from the Hub module.\"\"\"\n",
        "  with tf.Graph().as_default():\n",
        "    bert_module = hub.Module(BERT_MODEL_HUB)\n",
        "    tokenization_info = bert_module(signature=\"tokenization_info\", as_dict=True)\n",
        "    with tf.Session() as sess:\n",
        "      vocab_file, do_lower_case = sess.run([tokenization_info[\"vocab_file\"],\n",
        "                                            tokenization_info[\"do_lower_case\"]])\n",
        "      \n",
        "  return bert.tokenization.FullTokenizer(\n",
        "      vocab_file=vocab_file, do_lower_case=do_lower_case)\n",
        "\n",
        "tokenizer = create_tokenizer_from_hub_module()"
      ],
      "execution_count": 0,
      "outputs": [
        {
          "output_type": "stream",
          "text": [
            "INFO:tensorflow:Saver not created because there are no variables in the graph to restore\n"
          ],
          "name": "stdout"
        },
        {
          "output_type": "stream",
          "text": [
            "INFO:tensorflow:Saver not created because there are no variables in the graph to restore\n"
          ],
          "name": "stderr"
        },
        {
          "output_type": "stream",
          "text": [
            "WARNING:tensorflow:From /usr/local/lib/python3.6/dist-packages/bert/tokenization.py:125: The name tf.gfile.GFile is deprecated. Please use tf.io.gfile.GFile instead.\n",
            "\n"
          ],
          "name": "stdout"
        },
        {
          "output_type": "stream",
          "text": [
            "WARNING:tensorflow:From /usr/local/lib/python3.6/dist-packages/bert/tokenization.py:125: The name tf.gfile.GFile is deprecated. Please use tf.io.gfile.GFile instead.\n",
            "\n"
          ],
          "name": "stderr"
        }
      ]
    },
    {
      "cell_type": "code",
      "metadata": {
        "id": "bwBgkQLcK2Z8",
        "colab_type": "code",
        "outputId": "2c9ad09c-b593-452c-c4a1-81f092c8f060",
        "colab": {
          "base_uri": "https://localhost:8080/",
          "height": 54
        }
      },
      "source": [
        "print(tokenizer.tokenize(train_InputExamples.iloc[0].text_a))"
      ],
      "execution_count": 0,
      "outputs": [
        {
          "output_type": "stream",
          "text": [
            "['t', 'c', 'a', 'a', 'c', 'c', 'g', 'c', 'c', 't', 'a', 'c', 'g', 'g', 't', 't', 't', 'c', 't', 't', 't', 'a', 'g', 't', 't', 't', 'g', 't', 'c', 'c', 'c', 'a', 'g', 'a', 't', 'c', 'c', 't', 'c', 't', 't', 'a', 'g', 'a', 'c', 'a', 'g', 'g', 'g', 'a', 'g', 'g', 't', 'g', 'g', 'c', 'a', 't', 'a', 'c', 'g', 'g', 'g', 't', 'a', 'c', 'c', 'a', 'g', 'c', 'c', 'a', 't', 'g', 't', 'a', 't', 'a', 't', 'c', 'c', 't', 'a', 'c', 't', 'a', 'a', 'c', 'a', 't', 'c', 'c', 'c', 't', 'a', 'c', 'c', 't', 'c', 'c', 'a', 't', 't', 'c', 'c', 'a', 't', 't', 'g', 'g', 'a', 'a', 'c', 'a', 'a', 't', 'a', 'g', 't', 'g', 'a', 't', 'a', 'c', 'c', 'g', 'a', 't', 'a', 'a', 'g', 'a', 'c', 'g', 'c', 'g', 'g', 'g', 'a', 'g', 'g', 'g', 't', 'a', 'a', 'g', 'a', 't', 'g', 'a', 'a', 'a', 'a', 'g', 'a', 'c', 'c', 'a', 'g', 'a', 't', 'a', 'a', 'g', 'g', 'g', 'a', 'g', 'g', 'g', 't', 't', 'g', 'a', 'c', 'g', 'a', 'a', 'g', 't', 'a', 'c', 't', 't', 'a', 't', 'a', 'a', 'g', 'c', 'c', 'a', 't', 'c', 'a', 'a', 'a', 'c', 'a', 'c']\n"
          ],
          "name": "stdout"
        }
      ]
    },
    {
      "cell_type": "code",
      "metadata": {
        "id": "esdQjBKzK5DL",
        "colab_type": "code",
        "outputId": "7b727f2d-09ce-4aab-d072-2ff27af866ea",
        "colab": {
          "base_uri": "https://localhost:8080/",
          "height": 1000
        }
      },
      "source": [
        "# We'll set sequences to be at most 128 tokens long.\n",
        "MAX_SEQ_LENGTH = 200\n",
        "\n",
        "# Convert our train and validation features to InputFeatures that BERT understands.\n",
        "train_features = bert.run_classifier.convert_examples_to_features(train_InputExamples, label_list, MAX_SEQ_LENGTH, tokenizer)\n",
        "\n",
        "val_features = bert.run_classifier.convert_examples_to_features(val_InputExamples, label_list, MAX_SEQ_LENGTH, tokenizer)"
      ],
      "execution_count": 0,
      "outputs": [
        {
          "output_type": "stream",
          "text": [
            "WARNING:tensorflow:From /usr/local/lib/python3.6/dist-packages/bert/run_classifier.py:774: The name tf.logging.info is deprecated. Please use tf.compat.v1.logging.info instead.\n",
            "\n"
          ],
          "name": "stdout"
        },
        {
          "output_type": "stream",
          "text": [
            "WARNING:tensorflow:From /usr/local/lib/python3.6/dist-packages/bert/run_classifier.py:774: The name tf.logging.info is deprecated. Please use tf.compat.v1.logging.info instead.\n",
            "\n"
          ],
          "name": "stderr"
        },
        {
          "output_type": "stream",
          "text": [
            "INFO:tensorflow:Writing example 0 of 5120\n"
          ],
          "name": "stdout"
        },
        {
          "output_type": "stream",
          "text": [
            "INFO:tensorflow:Writing example 0 of 5120\n"
          ],
          "name": "stderr"
        },
        {
          "output_type": "stream",
          "text": [
            "INFO:tensorflow:*** Example ***\n"
          ],
          "name": "stdout"
        },
        {
          "output_type": "stream",
          "text": [
            "INFO:tensorflow:*** Example ***\n"
          ],
          "name": "stderr"
        },
        {
          "output_type": "stream",
          "text": [
            "INFO:tensorflow:guid: None\n"
          ],
          "name": "stdout"
        },
        {
          "output_type": "stream",
          "text": [
            "INFO:tensorflow:guid: None\n"
          ],
          "name": "stderr"
        },
        {
          "output_type": "stream",
          "text": [
            "INFO:tensorflow:tokens: [CLS] t c a a c c g c c t a c g g t t t c t t t a g t t t g t c c c a g a t c c t c t t a g a c a g g g a g g t g g c a t a c g g g t a c c a g c c a t g t a t a t c c t a c t a a c a t c c c t a c c t c c a t t c c a t t g g a a c a a t a g t g a t a c c g a t a a g a c g c g g g a g g g t a a g a t g a a a a g a c c a g a t a a g g g a g g g t t g a c g a a g t a c t t a t a a g c c a t c a a a c [SEP]\n"
          ],
          "name": "stdout"
        },
        {
          "output_type": "stream",
          "text": [
            "INFO:tensorflow:tokens: [CLS] t c a a c c g c c t a c g g t t t c t t t a g t t t g t c c c a g a t c c t c t t a g a c a g g g a g g t g g c a t a c g g g t a c c a g c c a t g t a t a t c c t a c t a a c a t c c c t a c c t c c a t t c c a t t g g a a c a a t a g t g a t a c c g a t a a g a c g c g g g a g g g t a a g a t g a a a a g a c c a g a t a a g g g a g g g t t g a c g a a g t a c t t a t a a g c c a t c a a a c [SEP]\n"
          ],
          "name": "stderr"
        },
        {
          "output_type": "stream",
          "text": [
            "INFO:tensorflow:input_ids: 101 1056 1039 1037 1037 1039 1039 1043 1039 1039 1056 1037 1039 1043 1043 1056 1056 1056 1039 1056 1056 1056 1037 1043 1056 1056 1056 1043 1056 1039 1039 1039 1037 1043 1037 1056 1039 1039 1056 1039 1056 1056 1037 1043 1037 1039 1037 1043 1043 1043 1037 1043 1043 1056 1043 1043 1039 1037 1056 1037 1039 1043 1043 1043 1056 1037 1039 1039 1037 1043 1039 1039 1037 1056 1043 1056 1037 1056 1037 1056 1039 1039 1056 1037 1039 1056 1037 1037 1039 1037 1056 1039 1039 1039 1056 1037 1039 1039 1056 1039 1039 1037 1056 1056 1039 1039 1037 1056 1056 1043 1043 1037 1037 1039 1037 1037 1056 1037 1043 1056 1043 1037 1056 1037 1039 1039 1043 1037 1056 1037 1037 1043 1037 1039 1043 1039 1043 1043 1043 1037 1043 1043 1043 1056 1037 1037 1043 1037 1056 1043 1037 1037 1037 1037 1043 1037 1039 1039 1037 1043 1037 1056 1037 1037 1043 1043 1043 1037 1043 1043 1043 1056 1056 1043 1037 1039 1043 1037 1037 1043 1056 1037 1039 1056 1056 1037 1056 1037 1037 1043 1039 1039 1037 1056 1039 1037 1037 1037 1039 102\n"
          ],
          "name": "stdout"
        },
        {
          "output_type": "stream",
          "text": [
            "INFO:tensorflow:input_ids: 101 1056 1039 1037 1037 1039 1039 1043 1039 1039 1056 1037 1039 1043 1043 1056 1056 1056 1039 1056 1056 1056 1037 1043 1056 1056 1056 1043 1056 1039 1039 1039 1037 1043 1037 1056 1039 1039 1056 1039 1056 1056 1037 1043 1037 1039 1037 1043 1043 1043 1037 1043 1043 1056 1043 1043 1039 1037 1056 1037 1039 1043 1043 1043 1056 1037 1039 1039 1037 1043 1039 1039 1037 1056 1043 1056 1037 1056 1037 1056 1039 1039 1056 1037 1039 1056 1037 1037 1039 1037 1056 1039 1039 1039 1056 1037 1039 1039 1056 1039 1039 1037 1056 1056 1039 1039 1037 1056 1056 1043 1043 1037 1037 1039 1037 1037 1056 1037 1043 1056 1043 1037 1056 1037 1039 1039 1043 1037 1056 1037 1037 1043 1037 1039 1043 1039 1043 1043 1043 1037 1043 1043 1043 1056 1037 1037 1043 1037 1056 1043 1037 1037 1037 1037 1043 1037 1039 1039 1037 1043 1037 1056 1037 1037 1043 1043 1043 1037 1043 1043 1043 1056 1056 1043 1037 1039 1043 1037 1037 1043 1056 1037 1039 1056 1056 1037 1056 1037 1037 1043 1039 1039 1037 1056 1039 1037 1037 1037 1039 102\n"
          ],
          "name": "stderr"
        },
        {
          "output_type": "stream",
          "text": [
            "INFO:tensorflow:input_mask: 1 1 1 1 1 1 1 1 1 1 1 1 1 1 1 1 1 1 1 1 1 1 1 1 1 1 1 1 1 1 1 1 1 1 1 1 1 1 1 1 1 1 1 1 1 1 1 1 1 1 1 1 1 1 1 1 1 1 1 1 1 1 1 1 1 1 1 1 1 1 1 1 1 1 1 1 1 1 1 1 1 1 1 1 1 1 1 1 1 1 1 1 1 1 1 1 1 1 1 1 1 1 1 1 1 1 1 1 1 1 1 1 1 1 1 1 1 1 1 1 1 1 1 1 1 1 1 1 1 1 1 1 1 1 1 1 1 1 1 1 1 1 1 1 1 1 1 1 1 1 1 1 1 1 1 1 1 1 1 1 1 1 1 1 1 1 1 1 1 1 1 1 1 1 1 1 1 1 1 1 1 1 1 1 1 1 1 1 1 1 1 1 1 1 1 1 1 1 1 1\n"
          ],
          "name": "stdout"
        },
        {
          "output_type": "stream",
          "text": [
            "INFO:tensorflow:input_mask: 1 1 1 1 1 1 1 1 1 1 1 1 1 1 1 1 1 1 1 1 1 1 1 1 1 1 1 1 1 1 1 1 1 1 1 1 1 1 1 1 1 1 1 1 1 1 1 1 1 1 1 1 1 1 1 1 1 1 1 1 1 1 1 1 1 1 1 1 1 1 1 1 1 1 1 1 1 1 1 1 1 1 1 1 1 1 1 1 1 1 1 1 1 1 1 1 1 1 1 1 1 1 1 1 1 1 1 1 1 1 1 1 1 1 1 1 1 1 1 1 1 1 1 1 1 1 1 1 1 1 1 1 1 1 1 1 1 1 1 1 1 1 1 1 1 1 1 1 1 1 1 1 1 1 1 1 1 1 1 1 1 1 1 1 1 1 1 1 1 1 1 1 1 1 1 1 1 1 1 1 1 1 1 1 1 1 1 1 1 1 1 1 1 1 1 1 1 1 1 1\n"
          ],
          "name": "stderr"
        },
        {
          "output_type": "stream",
          "text": [
            "INFO:tensorflow:segment_ids: 0 0 0 0 0 0 0 0 0 0 0 0 0 0 0 0 0 0 0 0 0 0 0 0 0 0 0 0 0 0 0 0 0 0 0 0 0 0 0 0 0 0 0 0 0 0 0 0 0 0 0 0 0 0 0 0 0 0 0 0 0 0 0 0 0 0 0 0 0 0 0 0 0 0 0 0 0 0 0 0 0 0 0 0 0 0 0 0 0 0 0 0 0 0 0 0 0 0 0 0 0 0 0 0 0 0 0 0 0 0 0 0 0 0 0 0 0 0 0 0 0 0 0 0 0 0 0 0 0 0 0 0 0 0 0 0 0 0 0 0 0 0 0 0 0 0 0 0 0 0 0 0 0 0 0 0 0 0 0 0 0 0 0 0 0 0 0 0 0 0 0 0 0 0 0 0 0 0 0 0 0 0 0 0 0 0 0 0 0 0 0 0 0 0 0 0 0 0 0 0\n"
          ],
          "name": "stdout"
        },
        {
          "output_type": "stream",
          "text": [
            "INFO:tensorflow:segment_ids: 0 0 0 0 0 0 0 0 0 0 0 0 0 0 0 0 0 0 0 0 0 0 0 0 0 0 0 0 0 0 0 0 0 0 0 0 0 0 0 0 0 0 0 0 0 0 0 0 0 0 0 0 0 0 0 0 0 0 0 0 0 0 0 0 0 0 0 0 0 0 0 0 0 0 0 0 0 0 0 0 0 0 0 0 0 0 0 0 0 0 0 0 0 0 0 0 0 0 0 0 0 0 0 0 0 0 0 0 0 0 0 0 0 0 0 0 0 0 0 0 0 0 0 0 0 0 0 0 0 0 0 0 0 0 0 0 0 0 0 0 0 0 0 0 0 0 0 0 0 0 0 0 0 0 0 0 0 0 0 0 0 0 0 0 0 0 0 0 0 0 0 0 0 0 0 0 0 0 0 0 0 0 0 0 0 0 0 0 0 0 0 0 0 0 0 0 0 0 0 0\n"
          ],
          "name": "stderr"
        },
        {
          "output_type": "stream",
          "text": [
            "INFO:tensorflow:label: 1 (id = 1)\n"
          ],
          "name": "stdout"
        },
        {
          "output_type": "stream",
          "text": [
            "INFO:tensorflow:label: 1 (id = 1)\n"
          ],
          "name": "stderr"
        },
        {
          "output_type": "stream",
          "text": [
            "INFO:tensorflow:*** Example ***\n"
          ],
          "name": "stdout"
        },
        {
          "output_type": "stream",
          "text": [
            "INFO:tensorflow:*** Example ***\n"
          ],
          "name": "stderr"
        },
        {
          "output_type": "stream",
          "text": [
            "INFO:tensorflow:guid: None\n"
          ],
          "name": "stdout"
        },
        {
          "output_type": "stream",
          "text": [
            "INFO:tensorflow:guid: None\n"
          ],
          "name": "stderr"
        },
        {
          "output_type": "stream",
          "text": [
            "INFO:tensorflow:tokens: [CLS] g c g g t t t t g t t a t c t t a c a c t c t c a t a c t a c t a t c g a g g t a t a a c a a a t t g c c g g g a g c a c a t c c t a c t a t t a c a t c a a g t t t g g t t a t t c a g g t c t c a t t g t t g c c g t a t a g t c g c c t a g a t g c c a g g c t a a t g c a a c c g t c a a t t t g g c g g a a c t a c t a t g a t g c g a c c c c g a a g a a a t a c a g c a g g a g a t t c c c g [SEP]\n"
          ],
          "name": "stdout"
        },
        {
          "output_type": "stream",
          "text": [
            "INFO:tensorflow:tokens: [CLS] g c g g t t t t g t t a t c t t a c a c t c t c a t a c t a c t a t c g a g g t a t a a c a a a t t g c c g g g a g c a c a t c c t a c t a t t a c a t c a a g t t t g g t t a t t c a g g t c t c a t t g t t g c c g t a t a g t c g c c t a g a t g c c a g g c t a a t g c a a c c g t c a a t t t g g c g g a a c t a c t a t g a t g c g a c c c c g a a g a a a t a c a g c a g g a g a t t c c c g [SEP]\n"
          ],
          "name": "stderr"
        },
        {
          "output_type": "stream",
          "text": [
            "INFO:tensorflow:input_ids: 101 1043 1039 1043 1043 1056 1056 1056 1056 1043 1056 1056 1037 1056 1039 1056 1056 1037 1039 1037 1039 1056 1039 1056 1039 1037 1056 1037 1039 1056 1037 1039 1056 1037 1056 1039 1043 1037 1043 1043 1056 1037 1056 1037 1037 1039 1037 1037 1037 1056 1056 1043 1039 1039 1043 1043 1043 1037 1043 1039 1037 1039 1037 1056 1039 1039 1056 1037 1039 1056 1037 1056 1056 1037 1039 1037 1056 1039 1037 1037 1043 1056 1056 1056 1043 1043 1056 1056 1037 1056 1056 1039 1037 1043 1043 1056 1039 1056 1039 1037 1056 1056 1043 1056 1056 1043 1039 1039 1043 1056 1037 1056 1037 1043 1056 1039 1043 1039 1039 1056 1037 1043 1037 1056 1043 1039 1039 1037 1043 1043 1039 1056 1037 1037 1056 1043 1039 1037 1037 1039 1039 1043 1056 1039 1037 1037 1056 1056 1056 1043 1043 1039 1043 1043 1037 1037 1039 1056 1037 1039 1056 1037 1056 1043 1037 1056 1043 1039 1043 1037 1039 1039 1039 1039 1043 1037 1037 1043 1037 1037 1037 1056 1037 1039 1037 1043 1039 1037 1043 1043 1037 1043 1037 1056 1056 1039 1039 1039 1043 102\n"
          ],
          "name": "stdout"
        },
        {
          "output_type": "stream",
          "text": [
            "INFO:tensorflow:input_ids: 101 1043 1039 1043 1043 1056 1056 1056 1056 1043 1056 1056 1037 1056 1039 1056 1056 1037 1039 1037 1039 1056 1039 1056 1039 1037 1056 1037 1039 1056 1037 1039 1056 1037 1056 1039 1043 1037 1043 1043 1056 1037 1056 1037 1037 1039 1037 1037 1037 1056 1056 1043 1039 1039 1043 1043 1043 1037 1043 1039 1037 1039 1037 1056 1039 1039 1056 1037 1039 1056 1037 1056 1056 1037 1039 1037 1056 1039 1037 1037 1043 1056 1056 1056 1043 1043 1056 1056 1037 1056 1056 1039 1037 1043 1043 1056 1039 1056 1039 1037 1056 1056 1043 1056 1056 1043 1039 1039 1043 1056 1037 1056 1037 1043 1056 1039 1043 1039 1039 1056 1037 1043 1037 1056 1043 1039 1039 1037 1043 1043 1039 1056 1037 1037 1056 1043 1039 1037 1037 1039 1039 1043 1056 1039 1037 1037 1056 1056 1056 1043 1043 1039 1043 1043 1037 1037 1039 1056 1037 1039 1056 1037 1056 1043 1037 1056 1043 1039 1043 1037 1039 1039 1039 1039 1043 1037 1037 1043 1037 1037 1037 1056 1037 1039 1037 1043 1039 1037 1043 1043 1037 1043 1037 1056 1056 1039 1039 1039 1043 102\n"
          ],
          "name": "stderr"
        },
        {
          "output_type": "stream",
          "text": [
            "INFO:tensorflow:input_mask: 1 1 1 1 1 1 1 1 1 1 1 1 1 1 1 1 1 1 1 1 1 1 1 1 1 1 1 1 1 1 1 1 1 1 1 1 1 1 1 1 1 1 1 1 1 1 1 1 1 1 1 1 1 1 1 1 1 1 1 1 1 1 1 1 1 1 1 1 1 1 1 1 1 1 1 1 1 1 1 1 1 1 1 1 1 1 1 1 1 1 1 1 1 1 1 1 1 1 1 1 1 1 1 1 1 1 1 1 1 1 1 1 1 1 1 1 1 1 1 1 1 1 1 1 1 1 1 1 1 1 1 1 1 1 1 1 1 1 1 1 1 1 1 1 1 1 1 1 1 1 1 1 1 1 1 1 1 1 1 1 1 1 1 1 1 1 1 1 1 1 1 1 1 1 1 1 1 1 1 1 1 1 1 1 1 1 1 1 1 1 1 1 1 1 1 1 1 1 1 1\n"
          ],
          "name": "stdout"
        },
        {
          "output_type": "stream",
          "text": [
            "INFO:tensorflow:input_mask: 1 1 1 1 1 1 1 1 1 1 1 1 1 1 1 1 1 1 1 1 1 1 1 1 1 1 1 1 1 1 1 1 1 1 1 1 1 1 1 1 1 1 1 1 1 1 1 1 1 1 1 1 1 1 1 1 1 1 1 1 1 1 1 1 1 1 1 1 1 1 1 1 1 1 1 1 1 1 1 1 1 1 1 1 1 1 1 1 1 1 1 1 1 1 1 1 1 1 1 1 1 1 1 1 1 1 1 1 1 1 1 1 1 1 1 1 1 1 1 1 1 1 1 1 1 1 1 1 1 1 1 1 1 1 1 1 1 1 1 1 1 1 1 1 1 1 1 1 1 1 1 1 1 1 1 1 1 1 1 1 1 1 1 1 1 1 1 1 1 1 1 1 1 1 1 1 1 1 1 1 1 1 1 1 1 1 1 1 1 1 1 1 1 1 1 1 1 1 1 1\n"
          ],
          "name": "stderr"
        },
        {
          "output_type": "stream",
          "text": [
            "INFO:tensorflow:segment_ids: 0 0 0 0 0 0 0 0 0 0 0 0 0 0 0 0 0 0 0 0 0 0 0 0 0 0 0 0 0 0 0 0 0 0 0 0 0 0 0 0 0 0 0 0 0 0 0 0 0 0 0 0 0 0 0 0 0 0 0 0 0 0 0 0 0 0 0 0 0 0 0 0 0 0 0 0 0 0 0 0 0 0 0 0 0 0 0 0 0 0 0 0 0 0 0 0 0 0 0 0 0 0 0 0 0 0 0 0 0 0 0 0 0 0 0 0 0 0 0 0 0 0 0 0 0 0 0 0 0 0 0 0 0 0 0 0 0 0 0 0 0 0 0 0 0 0 0 0 0 0 0 0 0 0 0 0 0 0 0 0 0 0 0 0 0 0 0 0 0 0 0 0 0 0 0 0 0 0 0 0 0 0 0 0 0 0 0 0 0 0 0 0 0 0 0 0 0 0 0 0\n"
          ],
          "name": "stdout"
        },
        {
          "output_type": "stream",
          "text": [
            "INFO:tensorflow:segment_ids: 0 0 0 0 0 0 0 0 0 0 0 0 0 0 0 0 0 0 0 0 0 0 0 0 0 0 0 0 0 0 0 0 0 0 0 0 0 0 0 0 0 0 0 0 0 0 0 0 0 0 0 0 0 0 0 0 0 0 0 0 0 0 0 0 0 0 0 0 0 0 0 0 0 0 0 0 0 0 0 0 0 0 0 0 0 0 0 0 0 0 0 0 0 0 0 0 0 0 0 0 0 0 0 0 0 0 0 0 0 0 0 0 0 0 0 0 0 0 0 0 0 0 0 0 0 0 0 0 0 0 0 0 0 0 0 0 0 0 0 0 0 0 0 0 0 0 0 0 0 0 0 0 0 0 0 0 0 0 0 0 0 0 0 0 0 0 0 0 0 0 0 0 0 0 0 0 0 0 0 0 0 0 0 0 0 0 0 0 0 0 0 0 0 0 0 0 0 0 0 0\n"
          ],
          "name": "stderr"
        },
        {
          "output_type": "stream",
          "text": [
            "INFO:tensorflow:label: 0 (id = 0)\n"
          ],
          "name": "stdout"
        },
        {
          "output_type": "stream",
          "text": [
            "INFO:tensorflow:label: 0 (id = 0)\n"
          ],
          "name": "stderr"
        },
        {
          "output_type": "stream",
          "text": [
            "INFO:tensorflow:*** Example ***\n"
          ],
          "name": "stdout"
        },
        {
          "output_type": "stream",
          "text": [
            "INFO:tensorflow:*** Example ***\n"
          ],
          "name": "stderr"
        },
        {
          "output_type": "stream",
          "text": [
            "INFO:tensorflow:guid: None\n"
          ],
          "name": "stdout"
        },
        {
          "output_type": "stream",
          "text": [
            "INFO:tensorflow:guid: None\n"
          ],
          "name": "stderr"
        },
        {
          "output_type": "stream",
          "text": [
            "INFO:tensorflow:tokens: [CLS] a g c c c c a g a g c g c c g t g c a g a a c g a t a c a t a a t c a t c g t g c t a a g a g a a a a a a t t a a c a t c t t t g a t t a t t c a g a t c g g c g t t a t c c g a a a a c a t t c c g g t g g c c t a a c a a g g a t c c g g g c a c c g c a a t g c a t t g t c t g a g g c c c t t g a g g c a g g c t a a a c c g c c a g t c g c g c c g g g c c c t a c a t t c g t t a t c t t t c t [SEP]\n"
          ],
          "name": "stdout"
        },
        {
          "output_type": "stream",
          "text": [
            "INFO:tensorflow:tokens: [CLS] a g c c c c a g a g c g c c g t g c a g a a c g a t a c a t a a t c a t c g t g c t a a g a g a a a a a a t t a a c a t c t t t g a t t a t t c a g a t c g g c g t t a t c c g a a a a c a t t c c g g t g g c c t a a c a a g g a t c c g g g c a c c g c a a t g c a t t g t c t g a g g c c c t t g a g g c a g g c t a a a c c g c c a g t c g c g c c g g g c c c t a c a t t c g t t a t c t t t c t [SEP]\n"
          ],
          "name": "stderr"
        },
        {
          "output_type": "stream",
          "text": [
            "INFO:tensorflow:input_ids: 101 1037 1043 1039 1039 1039 1039 1037 1043 1037 1043 1039 1043 1039 1039 1043 1056 1043 1039 1037 1043 1037 1037 1039 1043 1037 1056 1037 1039 1037 1056 1037 1037 1056 1039 1037 1056 1039 1043 1056 1043 1039 1056 1037 1037 1043 1037 1043 1037 1037 1037 1037 1037 1037 1056 1056 1037 1037 1039 1037 1056 1039 1056 1056 1056 1043 1037 1056 1056 1037 1056 1056 1039 1037 1043 1037 1056 1039 1043 1043 1039 1043 1056 1056 1037 1056 1039 1039 1043 1037 1037 1037 1037 1039 1037 1056 1056 1039 1039 1043 1043 1056 1043 1043 1039 1039 1056 1037 1037 1039 1037 1037 1043 1043 1037 1056 1039 1039 1043 1043 1043 1039 1037 1039 1039 1043 1039 1037 1037 1056 1043 1039 1037 1056 1056 1043 1056 1039 1056 1043 1037 1043 1043 1039 1039 1039 1056 1056 1043 1037 1043 1043 1039 1037 1043 1043 1039 1056 1037 1037 1037 1039 1039 1043 1039 1039 1037 1043 1056 1039 1043 1039 1043 1039 1039 1043 1043 1043 1039 1039 1039 1056 1037 1039 1037 1056 1056 1039 1043 1056 1056 1037 1056 1039 1056 1056 1056 1039 1056 102\n"
          ],
          "name": "stdout"
        },
        {
          "output_type": "stream",
          "text": [
            "INFO:tensorflow:input_ids: 101 1037 1043 1039 1039 1039 1039 1037 1043 1037 1043 1039 1043 1039 1039 1043 1056 1043 1039 1037 1043 1037 1037 1039 1043 1037 1056 1037 1039 1037 1056 1037 1037 1056 1039 1037 1056 1039 1043 1056 1043 1039 1056 1037 1037 1043 1037 1043 1037 1037 1037 1037 1037 1037 1056 1056 1037 1037 1039 1037 1056 1039 1056 1056 1056 1043 1037 1056 1056 1037 1056 1056 1039 1037 1043 1037 1056 1039 1043 1043 1039 1043 1056 1056 1037 1056 1039 1039 1043 1037 1037 1037 1037 1039 1037 1056 1056 1039 1039 1043 1043 1056 1043 1043 1039 1039 1056 1037 1037 1039 1037 1037 1043 1043 1037 1056 1039 1039 1043 1043 1043 1039 1037 1039 1039 1043 1039 1037 1037 1056 1043 1039 1037 1056 1056 1043 1056 1039 1056 1043 1037 1043 1043 1039 1039 1039 1056 1056 1043 1037 1043 1043 1039 1037 1043 1043 1039 1056 1037 1037 1037 1039 1039 1043 1039 1039 1037 1043 1056 1039 1043 1039 1043 1039 1039 1043 1043 1043 1039 1039 1039 1056 1037 1039 1037 1056 1056 1039 1043 1056 1056 1037 1056 1039 1056 1056 1056 1039 1056 102\n"
          ],
          "name": "stderr"
        },
        {
          "output_type": "stream",
          "text": [
            "INFO:tensorflow:input_mask: 1 1 1 1 1 1 1 1 1 1 1 1 1 1 1 1 1 1 1 1 1 1 1 1 1 1 1 1 1 1 1 1 1 1 1 1 1 1 1 1 1 1 1 1 1 1 1 1 1 1 1 1 1 1 1 1 1 1 1 1 1 1 1 1 1 1 1 1 1 1 1 1 1 1 1 1 1 1 1 1 1 1 1 1 1 1 1 1 1 1 1 1 1 1 1 1 1 1 1 1 1 1 1 1 1 1 1 1 1 1 1 1 1 1 1 1 1 1 1 1 1 1 1 1 1 1 1 1 1 1 1 1 1 1 1 1 1 1 1 1 1 1 1 1 1 1 1 1 1 1 1 1 1 1 1 1 1 1 1 1 1 1 1 1 1 1 1 1 1 1 1 1 1 1 1 1 1 1 1 1 1 1 1 1 1 1 1 1 1 1 1 1 1 1 1 1 1 1 1 1\n"
          ],
          "name": "stdout"
        },
        {
          "output_type": "stream",
          "text": [
            "INFO:tensorflow:input_mask: 1 1 1 1 1 1 1 1 1 1 1 1 1 1 1 1 1 1 1 1 1 1 1 1 1 1 1 1 1 1 1 1 1 1 1 1 1 1 1 1 1 1 1 1 1 1 1 1 1 1 1 1 1 1 1 1 1 1 1 1 1 1 1 1 1 1 1 1 1 1 1 1 1 1 1 1 1 1 1 1 1 1 1 1 1 1 1 1 1 1 1 1 1 1 1 1 1 1 1 1 1 1 1 1 1 1 1 1 1 1 1 1 1 1 1 1 1 1 1 1 1 1 1 1 1 1 1 1 1 1 1 1 1 1 1 1 1 1 1 1 1 1 1 1 1 1 1 1 1 1 1 1 1 1 1 1 1 1 1 1 1 1 1 1 1 1 1 1 1 1 1 1 1 1 1 1 1 1 1 1 1 1 1 1 1 1 1 1 1 1 1 1 1 1 1 1 1 1 1 1\n"
          ],
          "name": "stderr"
        },
        {
          "output_type": "stream",
          "text": [
            "INFO:tensorflow:segment_ids: 0 0 0 0 0 0 0 0 0 0 0 0 0 0 0 0 0 0 0 0 0 0 0 0 0 0 0 0 0 0 0 0 0 0 0 0 0 0 0 0 0 0 0 0 0 0 0 0 0 0 0 0 0 0 0 0 0 0 0 0 0 0 0 0 0 0 0 0 0 0 0 0 0 0 0 0 0 0 0 0 0 0 0 0 0 0 0 0 0 0 0 0 0 0 0 0 0 0 0 0 0 0 0 0 0 0 0 0 0 0 0 0 0 0 0 0 0 0 0 0 0 0 0 0 0 0 0 0 0 0 0 0 0 0 0 0 0 0 0 0 0 0 0 0 0 0 0 0 0 0 0 0 0 0 0 0 0 0 0 0 0 0 0 0 0 0 0 0 0 0 0 0 0 0 0 0 0 0 0 0 0 0 0 0 0 0 0 0 0 0 0 0 0 0 0 0 0 0 0 0\n"
          ],
          "name": "stdout"
        },
        {
          "output_type": "stream",
          "text": [
            "INFO:tensorflow:segment_ids: 0 0 0 0 0 0 0 0 0 0 0 0 0 0 0 0 0 0 0 0 0 0 0 0 0 0 0 0 0 0 0 0 0 0 0 0 0 0 0 0 0 0 0 0 0 0 0 0 0 0 0 0 0 0 0 0 0 0 0 0 0 0 0 0 0 0 0 0 0 0 0 0 0 0 0 0 0 0 0 0 0 0 0 0 0 0 0 0 0 0 0 0 0 0 0 0 0 0 0 0 0 0 0 0 0 0 0 0 0 0 0 0 0 0 0 0 0 0 0 0 0 0 0 0 0 0 0 0 0 0 0 0 0 0 0 0 0 0 0 0 0 0 0 0 0 0 0 0 0 0 0 0 0 0 0 0 0 0 0 0 0 0 0 0 0 0 0 0 0 0 0 0 0 0 0 0 0 0 0 0 0 0 0 0 0 0 0 0 0 0 0 0 0 0 0 0 0 0 0 0\n"
          ],
          "name": "stderr"
        },
        {
          "output_type": "stream",
          "text": [
            "INFO:tensorflow:label: 0 (id = 0)\n"
          ],
          "name": "stdout"
        },
        {
          "output_type": "stream",
          "text": [
            "INFO:tensorflow:label: 0 (id = 0)\n"
          ],
          "name": "stderr"
        },
        {
          "output_type": "stream",
          "text": [
            "INFO:tensorflow:*** Example ***\n"
          ],
          "name": "stdout"
        },
        {
          "output_type": "stream",
          "text": [
            "INFO:tensorflow:*** Example ***\n"
          ],
          "name": "stderr"
        },
        {
          "output_type": "stream",
          "text": [
            "INFO:tensorflow:guid: None\n"
          ],
          "name": "stdout"
        },
        {
          "output_type": "stream",
          "text": [
            "INFO:tensorflow:guid: None\n"
          ],
          "name": "stderr"
        },
        {
          "output_type": "stream",
          "text": [
            "INFO:tensorflow:tokens: [CLS] c g t t t c c a g c g t a a g a t a g t a t g g c a c g a c a g a t c a a a t c t a t t t t g g c c a a g a t c g a c g a t a g a t t c a t g a g t g c a t c g a a c c g c t g c a g g t g c g g t c a c t g t c t c g g t g t t a g c t a c a g t c t t a c g c a t g t c c t c c t c c t a g t t c t c t t g c c t a c g c a g a t t t g c c t a g c c c t g t a a c a c a c g c g g t t a t c t c a a t [SEP]\n"
          ],
          "name": "stdout"
        },
        {
          "output_type": "stream",
          "text": [
            "INFO:tensorflow:tokens: [CLS] c g t t t c c a g c g t a a g a t a g t a t g g c a c g a c a g a t c a a a t c t a t t t t g g c c a a g a t c g a c g a t a g a t t c a t g a g t g c a t c g a a c c g c t g c a g g t g c g g t c a c t g t c t c g g t g t t a g c t a c a g t c t t a c g c a t g t c c t c c t c c t a g t t c t c t t g c c t a c g c a g a t t t g c c t a g c c c t g t a a c a c a c g c g g t t a t c t c a a t [SEP]\n"
          ],
          "name": "stderr"
        },
        {
          "output_type": "stream",
          "text": [
            "INFO:tensorflow:input_ids: 101 1039 1043 1056 1056 1056 1039 1039 1037 1043 1039 1043 1056 1037 1037 1043 1037 1056 1037 1043 1056 1037 1056 1043 1043 1039 1037 1039 1043 1037 1039 1037 1043 1037 1056 1039 1037 1037 1037 1056 1039 1056 1037 1056 1056 1056 1056 1043 1043 1039 1039 1037 1037 1043 1037 1056 1039 1043 1037 1039 1043 1037 1056 1037 1043 1037 1056 1056 1039 1037 1056 1043 1037 1043 1056 1043 1039 1037 1056 1039 1043 1037 1037 1039 1039 1043 1039 1056 1043 1039 1037 1043 1043 1056 1043 1039 1043 1043 1056 1039 1037 1039 1056 1043 1056 1039 1056 1039 1043 1043 1056 1043 1056 1056 1037 1043 1039 1056 1037 1039 1037 1043 1056 1039 1056 1056 1037 1039 1043 1039 1037 1056 1043 1056 1039 1039 1056 1039 1039 1056 1039 1039 1056 1037 1043 1056 1056 1039 1056 1039 1056 1056 1043 1039 1039 1056 1037 1039 1043 1039 1037 1043 1037 1056 1056 1056 1043 1039 1039 1056 1037 1043 1039 1039 1039 1056 1043 1056 1037 1037 1039 1037 1039 1037 1039 1043 1039 1043 1043 1056 1056 1037 1056 1039 1056 1039 1037 1037 1056 102\n"
          ],
          "name": "stdout"
        },
        {
          "output_type": "stream",
          "text": [
            "INFO:tensorflow:input_ids: 101 1039 1043 1056 1056 1056 1039 1039 1037 1043 1039 1043 1056 1037 1037 1043 1037 1056 1037 1043 1056 1037 1056 1043 1043 1039 1037 1039 1043 1037 1039 1037 1043 1037 1056 1039 1037 1037 1037 1056 1039 1056 1037 1056 1056 1056 1056 1043 1043 1039 1039 1037 1037 1043 1037 1056 1039 1043 1037 1039 1043 1037 1056 1037 1043 1037 1056 1056 1039 1037 1056 1043 1037 1043 1056 1043 1039 1037 1056 1039 1043 1037 1037 1039 1039 1043 1039 1056 1043 1039 1037 1043 1043 1056 1043 1039 1043 1043 1056 1039 1037 1039 1056 1043 1056 1039 1056 1039 1043 1043 1056 1043 1056 1056 1037 1043 1039 1056 1037 1039 1037 1043 1056 1039 1056 1056 1037 1039 1043 1039 1037 1056 1043 1056 1039 1039 1056 1039 1039 1056 1039 1039 1056 1037 1043 1056 1056 1039 1056 1039 1056 1056 1043 1039 1039 1056 1037 1039 1043 1039 1037 1043 1037 1056 1056 1056 1043 1039 1039 1056 1037 1043 1039 1039 1039 1056 1043 1056 1037 1037 1039 1037 1039 1037 1039 1043 1039 1043 1043 1056 1056 1037 1056 1039 1056 1039 1037 1037 1056 102\n"
          ],
          "name": "stderr"
        },
        {
          "output_type": "stream",
          "text": [
            "INFO:tensorflow:input_mask: 1 1 1 1 1 1 1 1 1 1 1 1 1 1 1 1 1 1 1 1 1 1 1 1 1 1 1 1 1 1 1 1 1 1 1 1 1 1 1 1 1 1 1 1 1 1 1 1 1 1 1 1 1 1 1 1 1 1 1 1 1 1 1 1 1 1 1 1 1 1 1 1 1 1 1 1 1 1 1 1 1 1 1 1 1 1 1 1 1 1 1 1 1 1 1 1 1 1 1 1 1 1 1 1 1 1 1 1 1 1 1 1 1 1 1 1 1 1 1 1 1 1 1 1 1 1 1 1 1 1 1 1 1 1 1 1 1 1 1 1 1 1 1 1 1 1 1 1 1 1 1 1 1 1 1 1 1 1 1 1 1 1 1 1 1 1 1 1 1 1 1 1 1 1 1 1 1 1 1 1 1 1 1 1 1 1 1 1 1 1 1 1 1 1 1 1 1 1 1 1\n"
          ],
          "name": "stdout"
        },
        {
          "output_type": "stream",
          "text": [
            "INFO:tensorflow:input_mask: 1 1 1 1 1 1 1 1 1 1 1 1 1 1 1 1 1 1 1 1 1 1 1 1 1 1 1 1 1 1 1 1 1 1 1 1 1 1 1 1 1 1 1 1 1 1 1 1 1 1 1 1 1 1 1 1 1 1 1 1 1 1 1 1 1 1 1 1 1 1 1 1 1 1 1 1 1 1 1 1 1 1 1 1 1 1 1 1 1 1 1 1 1 1 1 1 1 1 1 1 1 1 1 1 1 1 1 1 1 1 1 1 1 1 1 1 1 1 1 1 1 1 1 1 1 1 1 1 1 1 1 1 1 1 1 1 1 1 1 1 1 1 1 1 1 1 1 1 1 1 1 1 1 1 1 1 1 1 1 1 1 1 1 1 1 1 1 1 1 1 1 1 1 1 1 1 1 1 1 1 1 1 1 1 1 1 1 1 1 1 1 1 1 1 1 1 1 1 1 1\n"
          ],
          "name": "stderr"
        },
        {
          "output_type": "stream",
          "text": [
            "INFO:tensorflow:segment_ids: 0 0 0 0 0 0 0 0 0 0 0 0 0 0 0 0 0 0 0 0 0 0 0 0 0 0 0 0 0 0 0 0 0 0 0 0 0 0 0 0 0 0 0 0 0 0 0 0 0 0 0 0 0 0 0 0 0 0 0 0 0 0 0 0 0 0 0 0 0 0 0 0 0 0 0 0 0 0 0 0 0 0 0 0 0 0 0 0 0 0 0 0 0 0 0 0 0 0 0 0 0 0 0 0 0 0 0 0 0 0 0 0 0 0 0 0 0 0 0 0 0 0 0 0 0 0 0 0 0 0 0 0 0 0 0 0 0 0 0 0 0 0 0 0 0 0 0 0 0 0 0 0 0 0 0 0 0 0 0 0 0 0 0 0 0 0 0 0 0 0 0 0 0 0 0 0 0 0 0 0 0 0 0 0 0 0 0 0 0 0 0 0 0 0 0 0 0 0 0 0\n"
          ],
          "name": "stdout"
        },
        {
          "output_type": "stream",
          "text": [
            "INFO:tensorflow:segment_ids: 0 0 0 0 0 0 0 0 0 0 0 0 0 0 0 0 0 0 0 0 0 0 0 0 0 0 0 0 0 0 0 0 0 0 0 0 0 0 0 0 0 0 0 0 0 0 0 0 0 0 0 0 0 0 0 0 0 0 0 0 0 0 0 0 0 0 0 0 0 0 0 0 0 0 0 0 0 0 0 0 0 0 0 0 0 0 0 0 0 0 0 0 0 0 0 0 0 0 0 0 0 0 0 0 0 0 0 0 0 0 0 0 0 0 0 0 0 0 0 0 0 0 0 0 0 0 0 0 0 0 0 0 0 0 0 0 0 0 0 0 0 0 0 0 0 0 0 0 0 0 0 0 0 0 0 0 0 0 0 0 0 0 0 0 0 0 0 0 0 0 0 0 0 0 0 0 0 0 0 0 0 0 0 0 0 0 0 0 0 0 0 0 0 0 0 0 0 0 0 0\n"
          ],
          "name": "stderr"
        },
        {
          "output_type": "stream",
          "text": [
            "INFO:tensorflow:label: 0 (id = 0)\n"
          ],
          "name": "stdout"
        },
        {
          "output_type": "stream",
          "text": [
            "INFO:tensorflow:label: 0 (id = 0)\n"
          ],
          "name": "stderr"
        },
        {
          "output_type": "stream",
          "text": [
            "INFO:tensorflow:*** Example ***\n"
          ],
          "name": "stdout"
        },
        {
          "output_type": "stream",
          "text": [
            "INFO:tensorflow:*** Example ***\n"
          ],
          "name": "stderr"
        },
        {
          "output_type": "stream",
          "text": [
            "INFO:tensorflow:guid: None\n"
          ],
          "name": "stdout"
        },
        {
          "output_type": "stream",
          "text": [
            "INFO:tensorflow:guid: None\n"
          ],
          "name": "stderr"
        },
        {
          "output_type": "stream",
          "text": [
            "INFO:tensorflow:tokens: [CLS] c t g a t a g c g g a t a t c a c t a t a t g a a a g a t t c t c c a c a g a t a a g a a a a c a g a t g g t t a c c t t a t c a a g a t t t g g t g c g g a a a a a t t a g a c a a g a g c t t a c c a a a t t a a t a g a t t g a g g a c c t c g c a a t a g c g c t g t a c c a t g c a g g t g c g t a g g t g t g t a c c c g a t a a g g g t t g a g a g c a t a t a t g t g a c t g t t c c t a c [SEP]\n"
          ],
          "name": "stdout"
        },
        {
          "output_type": "stream",
          "text": [
            "INFO:tensorflow:tokens: [CLS] c t g a t a g c g g a t a t c a c t a t a t g a a a g a t t c t c c a c a g a t a a g a a a a c a g a t g g t t a c c t t a t c a a g a t t t g g t g c g g a a a a a t t a g a c a a g a g c t t a c c a a a t t a a t a g a t t g a g g a c c t c g c a a t a g c g c t g t a c c a t g c a g g t g c g t a g g t g t g t a c c c g a t a a g g g t t g a g a g c a t a t a t g t g a c t g t t c c t a c [SEP]\n"
          ],
          "name": "stderr"
        },
        {
          "output_type": "stream",
          "text": [
            "INFO:tensorflow:input_ids: 101 1039 1056 1043 1037 1056 1037 1043 1039 1043 1043 1037 1056 1037 1056 1039 1037 1039 1056 1037 1056 1037 1056 1043 1037 1037 1037 1043 1037 1056 1056 1039 1056 1039 1039 1037 1039 1037 1043 1037 1056 1037 1037 1043 1037 1037 1037 1037 1039 1037 1043 1037 1056 1043 1043 1056 1056 1037 1039 1039 1056 1056 1037 1056 1039 1037 1037 1043 1037 1056 1056 1056 1043 1043 1056 1043 1039 1043 1043 1037 1037 1037 1037 1037 1056 1056 1037 1043 1037 1039 1037 1037 1043 1037 1043 1039 1056 1056 1037 1039 1039 1037 1037 1037 1056 1056 1037 1037 1056 1037 1043 1037 1056 1056 1043 1037 1043 1043 1037 1039 1039 1056 1039 1043 1039 1037 1037 1056 1037 1043 1039 1043 1039 1056 1043 1056 1037 1039 1039 1037 1056 1043 1039 1037 1043 1043 1056 1043 1039 1043 1056 1037 1043 1043 1056 1043 1056 1043 1056 1037 1039 1039 1039 1043 1037 1056 1037 1037 1043 1043 1043 1056 1056 1043 1037 1043 1037 1043 1039 1037 1056 1037 1056 1037 1056 1043 1056 1043 1037 1039 1056 1043 1056 1056 1039 1039 1056 1037 1039 102\n"
          ],
          "name": "stdout"
        },
        {
          "output_type": "stream",
          "text": [
            "INFO:tensorflow:input_ids: 101 1039 1056 1043 1037 1056 1037 1043 1039 1043 1043 1037 1056 1037 1056 1039 1037 1039 1056 1037 1056 1037 1056 1043 1037 1037 1037 1043 1037 1056 1056 1039 1056 1039 1039 1037 1039 1037 1043 1037 1056 1037 1037 1043 1037 1037 1037 1037 1039 1037 1043 1037 1056 1043 1043 1056 1056 1037 1039 1039 1056 1056 1037 1056 1039 1037 1037 1043 1037 1056 1056 1056 1043 1043 1056 1043 1039 1043 1043 1037 1037 1037 1037 1037 1056 1056 1037 1043 1037 1039 1037 1037 1043 1037 1043 1039 1056 1056 1037 1039 1039 1037 1037 1037 1056 1056 1037 1037 1056 1037 1043 1037 1056 1056 1043 1037 1043 1043 1037 1039 1039 1056 1039 1043 1039 1037 1037 1056 1037 1043 1039 1043 1039 1056 1043 1056 1037 1039 1039 1037 1056 1043 1039 1037 1043 1043 1056 1043 1039 1043 1056 1037 1043 1043 1056 1043 1056 1043 1056 1037 1039 1039 1039 1043 1037 1056 1037 1037 1043 1043 1043 1056 1056 1043 1037 1043 1037 1043 1039 1037 1056 1037 1056 1037 1056 1043 1056 1043 1037 1039 1056 1043 1056 1056 1039 1039 1056 1037 1039 102\n"
          ],
          "name": "stderr"
        },
        {
          "output_type": "stream",
          "text": [
            "INFO:tensorflow:input_mask: 1 1 1 1 1 1 1 1 1 1 1 1 1 1 1 1 1 1 1 1 1 1 1 1 1 1 1 1 1 1 1 1 1 1 1 1 1 1 1 1 1 1 1 1 1 1 1 1 1 1 1 1 1 1 1 1 1 1 1 1 1 1 1 1 1 1 1 1 1 1 1 1 1 1 1 1 1 1 1 1 1 1 1 1 1 1 1 1 1 1 1 1 1 1 1 1 1 1 1 1 1 1 1 1 1 1 1 1 1 1 1 1 1 1 1 1 1 1 1 1 1 1 1 1 1 1 1 1 1 1 1 1 1 1 1 1 1 1 1 1 1 1 1 1 1 1 1 1 1 1 1 1 1 1 1 1 1 1 1 1 1 1 1 1 1 1 1 1 1 1 1 1 1 1 1 1 1 1 1 1 1 1 1 1 1 1 1 1 1 1 1 1 1 1 1 1 1 1 1 1\n"
          ],
          "name": "stdout"
        },
        {
          "output_type": "stream",
          "text": [
            "INFO:tensorflow:input_mask: 1 1 1 1 1 1 1 1 1 1 1 1 1 1 1 1 1 1 1 1 1 1 1 1 1 1 1 1 1 1 1 1 1 1 1 1 1 1 1 1 1 1 1 1 1 1 1 1 1 1 1 1 1 1 1 1 1 1 1 1 1 1 1 1 1 1 1 1 1 1 1 1 1 1 1 1 1 1 1 1 1 1 1 1 1 1 1 1 1 1 1 1 1 1 1 1 1 1 1 1 1 1 1 1 1 1 1 1 1 1 1 1 1 1 1 1 1 1 1 1 1 1 1 1 1 1 1 1 1 1 1 1 1 1 1 1 1 1 1 1 1 1 1 1 1 1 1 1 1 1 1 1 1 1 1 1 1 1 1 1 1 1 1 1 1 1 1 1 1 1 1 1 1 1 1 1 1 1 1 1 1 1 1 1 1 1 1 1 1 1 1 1 1 1 1 1 1 1 1 1\n"
          ],
          "name": "stderr"
        },
        {
          "output_type": "stream",
          "text": [
            "INFO:tensorflow:segment_ids: 0 0 0 0 0 0 0 0 0 0 0 0 0 0 0 0 0 0 0 0 0 0 0 0 0 0 0 0 0 0 0 0 0 0 0 0 0 0 0 0 0 0 0 0 0 0 0 0 0 0 0 0 0 0 0 0 0 0 0 0 0 0 0 0 0 0 0 0 0 0 0 0 0 0 0 0 0 0 0 0 0 0 0 0 0 0 0 0 0 0 0 0 0 0 0 0 0 0 0 0 0 0 0 0 0 0 0 0 0 0 0 0 0 0 0 0 0 0 0 0 0 0 0 0 0 0 0 0 0 0 0 0 0 0 0 0 0 0 0 0 0 0 0 0 0 0 0 0 0 0 0 0 0 0 0 0 0 0 0 0 0 0 0 0 0 0 0 0 0 0 0 0 0 0 0 0 0 0 0 0 0 0 0 0 0 0 0 0 0 0 0 0 0 0 0 0 0 0 0 0\n"
          ],
          "name": "stdout"
        },
        {
          "output_type": "stream",
          "text": [
            "INFO:tensorflow:segment_ids: 0 0 0 0 0 0 0 0 0 0 0 0 0 0 0 0 0 0 0 0 0 0 0 0 0 0 0 0 0 0 0 0 0 0 0 0 0 0 0 0 0 0 0 0 0 0 0 0 0 0 0 0 0 0 0 0 0 0 0 0 0 0 0 0 0 0 0 0 0 0 0 0 0 0 0 0 0 0 0 0 0 0 0 0 0 0 0 0 0 0 0 0 0 0 0 0 0 0 0 0 0 0 0 0 0 0 0 0 0 0 0 0 0 0 0 0 0 0 0 0 0 0 0 0 0 0 0 0 0 0 0 0 0 0 0 0 0 0 0 0 0 0 0 0 0 0 0 0 0 0 0 0 0 0 0 0 0 0 0 0 0 0 0 0 0 0 0 0 0 0 0 0 0 0 0 0 0 0 0 0 0 0 0 0 0 0 0 0 0 0 0 0 0 0 0 0 0 0 0 0\n"
          ],
          "name": "stderr"
        },
        {
          "output_type": "stream",
          "text": [
            "INFO:tensorflow:label: 3 (id = 3)\n"
          ],
          "name": "stdout"
        },
        {
          "output_type": "stream",
          "text": [
            "INFO:tensorflow:label: 3 (id = 3)\n"
          ],
          "name": "stderr"
        },
        {
          "output_type": "stream",
          "text": [
            "INFO:tensorflow:Writing example 0 of 1280\n"
          ],
          "name": "stdout"
        },
        {
          "output_type": "stream",
          "text": [
            "INFO:tensorflow:Writing example 0 of 1280\n"
          ],
          "name": "stderr"
        },
        {
          "output_type": "stream",
          "text": [
            "INFO:tensorflow:*** Example ***\n"
          ],
          "name": "stdout"
        },
        {
          "output_type": "stream",
          "text": [
            "INFO:tensorflow:*** Example ***\n"
          ],
          "name": "stderr"
        },
        {
          "output_type": "stream",
          "text": [
            "INFO:tensorflow:guid: None\n"
          ],
          "name": "stdout"
        },
        {
          "output_type": "stream",
          "text": [
            "INFO:tensorflow:guid: None\n"
          ],
          "name": "stderr"
        },
        {
          "output_type": "stream",
          "text": [
            "INFO:tensorflow:tokens: [CLS] t c g t g t g a t a c g g t t t t c c a c c t t a g a g g t a t c g g g t a c t a c t c c g g c c g g t a a t t t t g a c c c g a t t c a c a t t c c g c a a g a a c t g a c c c c a c t a a g t t a a t g a c g t t c c c c a a g a g t t t c c a g g g t a t t c c a c t a a t t g a g c c g t c a c a a g a t a a c t g g t t g a t c t c g a g a t a a g g g t g g g c g c g c c a c c a c a c t t g c [SEP]\n"
          ],
          "name": "stdout"
        },
        {
          "output_type": "stream",
          "text": [
            "INFO:tensorflow:tokens: [CLS] t c g t g t g a t a c g g t t t t c c a c c t t a g a g g t a t c g g g t a c t a c t c c g g c c g g t a a t t t t g a c c c g a t t c a c a t t c c g c a a g a a c t g a c c c c a c t a a g t t a a t g a c g t t c c c c a a g a g t t t c c a g g g t a t t c c a c t a a t t g a g c c g t c a c a a g a t a a c t g g t t g a t c t c g a g a t a a g g g t g g g c g c g c c a c c a c a c t t g c [SEP]\n"
          ],
          "name": "stderr"
        },
        {
          "output_type": "stream",
          "text": [
            "INFO:tensorflow:input_ids: 101 1056 1039 1043 1056 1043 1056 1043 1037 1056 1037 1039 1043 1043 1056 1056 1056 1056 1039 1039 1037 1039 1039 1056 1056 1037 1043 1037 1043 1043 1056 1037 1056 1039 1043 1043 1043 1056 1037 1039 1056 1037 1039 1056 1039 1039 1043 1043 1039 1039 1043 1043 1056 1037 1037 1056 1056 1056 1056 1043 1037 1039 1039 1039 1043 1037 1056 1056 1039 1037 1039 1037 1056 1056 1039 1039 1043 1039 1037 1037 1043 1037 1037 1039 1056 1043 1037 1039 1039 1039 1039 1037 1039 1056 1037 1037 1043 1056 1056 1037 1037 1056 1043 1037 1039 1043 1056 1056 1039 1039 1039 1039 1037 1037 1043 1037 1043 1056 1056 1056 1039 1039 1037 1043 1043 1043 1056 1037 1056 1056 1039 1039 1037 1039 1056 1037 1037 1056 1056 1043 1037 1043 1039 1039 1043 1056 1039 1037 1039 1037 1037 1043 1037 1056 1037 1037 1039 1056 1043 1043 1056 1056 1043 1037 1056 1039 1056 1039 1043 1037 1043 1037 1056 1037 1037 1043 1043 1043 1056 1043 1043 1043 1039 1043 1039 1043 1039 1039 1037 1039 1039 1037 1039 1037 1039 1056 1056 1043 1039 102\n"
          ],
          "name": "stdout"
        },
        {
          "output_type": "stream",
          "text": [
            "INFO:tensorflow:input_ids: 101 1056 1039 1043 1056 1043 1056 1043 1037 1056 1037 1039 1043 1043 1056 1056 1056 1056 1039 1039 1037 1039 1039 1056 1056 1037 1043 1037 1043 1043 1056 1037 1056 1039 1043 1043 1043 1056 1037 1039 1056 1037 1039 1056 1039 1039 1043 1043 1039 1039 1043 1043 1056 1037 1037 1056 1056 1056 1056 1043 1037 1039 1039 1039 1043 1037 1056 1056 1039 1037 1039 1037 1056 1056 1039 1039 1043 1039 1037 1037 1043 1037 1037 1039 1056 1043 1037 1039 1039 1039 1039 1037 1039 1056 1037 1037 1043 1056 1056 1037 1037 1056 1043 1037 1039 1043 1056 1056 1039 1039 1039 1039 1037 1037 1043 1037 1043 1056 1056 1056 1039 1039 1037 1043 1043 1043 1056 1037 1056 1056 1039 1039 1037 1039 1056 1037 1037 1056 1056 1043 1037 1043 1039 1039 1043 1056 1039 1037 1039 1037 1037 1043 1037 1056 1037 1037 1039 1056 1043 1043 1056 1056 1043 1037 1056 1039 1056 1039 1043 1037 1043 1037 1056 1037 1037 1043 1043 1043 1056 1043 1043 1043 1039 1043 1039 1043 1039 1039 1037 1039 1039 1037 1039 1037 1039 1056 1056 1043 1039 102\n"
          ],
          "name": "stderr"
        },
        {
          "output_type": "stream",
          "text": [
            "INFO:tensorflow:input_mask: 1 1 1 1 1 1 1 1 1 1 1 1 1 1 1 1 1 1 1 1 1 1 1 1 1 1 1 1 1 1 1 1 1 1 1 1 1 1 1 1 1 1 1 1 1 1 1 1 1 1 1 1 1 1 1 1 1 1 1 1 1 1 1 1 1 1 1 1 1 1 1 1 1 1 1 1 1 1 1 1 1 1 1 1 1 1 1 1 1 1 1 1 1 1 1 1 1 1 1 1 1 1 1 1 1 1 1 1 1 1 1 1 1 1 1 1 1 1 1 1 1 1 1 1 1 1 1 1 1 1 1 1 1 1 1 1 1 1 1 1 1 1 1 1 1 1 1 1 1 1 1 1 1 1 1 1 1 1 1 1 1 1 1 1 1 1 1 1 1 1 1 1 1 1 1 1 1 1 1 1 1 1 1 1 1 1 1 1 1 1 1 1 1 1 1 1 1 1 1 1\n"
          ],
          "name": "stdout"
        },
        {
          "output_type": "stream",
          "text": [
            "INFO:tensorflow:input_mask: 1 1 1 1 1 1 1 1 1 1 1 1 1 1 1 1 1 1 1 1 1 1 1 1 1 1 1 1 1 1 1 1 1 1 1 1 1 1 1 1 1 1 1 1 1 1 1 1 1 1 1 1 1 1 1 1 1 1 1 1 1 1 1 1 1 1 1 1 1 1 1 1 1 1 1 1 1 1 1 1 1 1 1 1 1 1 1 1 1 1 1 1 1 1 1 1 1 1 1 1 1 1 1 1 1 1 1 1 1 1 1 1 1 1 1 1 1 1 1 1 1 1 1 1 1 1 1 1 1 1 1 1 1 1 1 1 1 1 1 1 1 1 1 1 1 1 1 1 1 1 1 1 1 1 1 1 1 1 1 1 1 1 1 1 1 1 1 1 1 1 1 1 1 1 1 1 1 1 1 1 1 1 1 1 1 1 1 1 1 1 1 1 1 1 1 1 1 1 1 1\n"
          ],
          "name": "stderr"
        },
        {
          "output_type": "stream",
          "text": [
            "INFO:tensorflow:segment_ids: 0 0 0 0 0 0 0 0 0 0 0 0 0 0 0 0 0 0 0 0 0 0 0 0 0 0 0 0 0 0 0 0 0 0 0 0 0 0 0 0 0 0 0 0 0 0 0 0 0 0 0 0 0 0 0 0 0 0 0 0 0 0 0 0 0 0 0 0 0 0 0 0 0 0 0 0 0 0 0 0 0 0 0 0 0 0 0 0 0 0 0 0 0 0 0 0 0 0 0 0 0 0 0 0 0 0 0 0 0 0 0 0 0 0 0 0 0 0 0 0 0 0 0 0 0 0 0 0 0 0 0 0 0 0 0 0 0 0 0 0 0 0 0 0 0 0 0 0 0 0 0 0 0 0 0 0 0 0 0 0 0 0 0 0 0 0 0 0 0 0 0 0 0 0 0 0 0 0 0 0 0 0 0 0 0 0 0 0 0 0 0 0 0 0 0 0 0 0 0 0\n"
          ],
          "name": "stdout"
        },
        {
          "output_type": "stream",
          "text": [
            "INFO:tensorflow:segment_ids: 0 0 0 0 0 0 0 0 0 0 0 0 0 0 0 0 0 0 0 0 0 0 0 0 0 0 0 0 0 0 0 0 0 0 0 0 0 0 0 0 0 0 0 0 0 0 0 0 0 0 0 0 0 0 0 0 0 0 0 0 0 0 0 0 0 0 0 0 0 0 0 0 0 0 0 0 0 0 0 0 0 0 0 0 0 0 0 0 0 0 0 0 0 0 0 0 0 0 0 0 0 0 0 0 0 0 0 0 0 0 0 0 0 0 0 0 0 0 0 0 0 0 0 0 0 0 0 0 0 0 0 0 0 0 0 0 0 0 0 0 0 0 0 0 0 0 0 0 0 0 0 0 0 0 0 0 0 0 0 0 0 0 0 0 0 0 0 0 0 0 0 0 0 0 0 0 0 0 0 0 0 0 0 0 0 0 0 0 0 0 0 0 0 0 0 0 0 0 0 0\n"
          ],
          "name": "stderr"
        },
        {
          "output_type": "stream",
          "text": [
            "INFO:tensorflow:label: 1 (id = 1)\n"
          ],
          "name": "stdout"
        },
        {
          "output_type": "stream",
          "text": [
            "INFO:tensorflow:label: 1 (id = 1)\n"
          ],
          "name": "stderr"
        },
        {
          "output_type": "stream",
          "text": [
            "INFO:tensorflow:*** Example ***\n"
          ],
          "name": "stdout"
        },
        {
          "output_type": "stream",
          "text": [
            "INFO:tensorflow:*** Example ***\n"
          ],
          "name": "stderr"
        },
        {
          "output_type": "stream",
          "text": [
            "INFO:tensorflow:guid: None\n"
          ],
          "name": "stdout"
        },
        {
          "output_type": "stream",
          "text": [
            "INFO:tensorflow:guid: None\n"
          ],
          "name": "stderr"
        },
        {
          "output_type": "stream",
          "text": [
            "INFO:tensorflow:tokens: [CLS] g g c t a t c t c c a c g c g a t a a g g t a c g c a c a a a a a a g t g a t t t g t c a g t a c c g t g a g t a c c t a a c a c a c c g c t g a t a g a g a g a g g a t t t t a t t g a c a t g g c t a a c a t g t t a a a t t c t c t g a c c a g a t g t t g a t g a c a c g a c g t t t c g t c g g t g a a c t c c t t t a t c a t a t a g t g a g t a a a g a g c a g t t g a t c t g a g g t g g a [SEP]\n"
          ],
          "name": "stdout"
        },
        {
          "output_type": "stream",
          "text": [
            "INFO:tensorflow:tokens: [CLS] g g c t a t c t c c a c g c g a t a a g g t a c g c a c a a a a a a g t g a t t t g t c a g t a c c g t g a g t a c c t a a c a c a c c g c t g a t a g a g a g a g g a t t t t a t t g a c a t g g c t a a c a t g t t a a a t t c t c t g a c c a g a t g t t g a t g a c a c g a c g t t t c g t c g g t g a a c t c c t t t a t c a t a t a g t g a g t a a a g a g c a g t t g a t c t g a g g t g g a [SEP]\n"
          ],
          "name": "stderr"
        },
        {
          "output_type": "stream",
          "text": [
            "INFO:tensorflow:input_ids: 101 1043 1043 1039 1056 1037 1056 1039 1056 1039 1039 1037 1039 1043 1039 1043 1037 1056 1037 1037 1043 1043 1056 1037 1039 1043 1039 1037 1039 1037 1037 1037 1037 1037 1037 1043 1056 1043 1037 1056 1056 1056 1043 1056 1039 1037 1043 1056 1037 1039 1039 1043 1056 1043 1037 1043 1056 1037 1039 1039 1056 1037 1037 1039 1037 1039 1037 1039 1039 1043 1039 1056 1043 1037 1056 1037 1043 1037 1043 1037 1043 1037 1043 1043 1037 1056 1056 1056 1056 1037 1056 1056 1043 1037 1039 1037 1056 1043 1043 1039 1056 1037 1037 1039 1037 1056 1043 1056 1056 1037 1037 1037 1056 1056 1039 1056 1039 1056 1043 1037 1039 1039 1037 1043 1037 1056 1043 1056 1056 1043 1037 1056 1043 1037 1039 1037 1039 1043 1037 1039 1043 1056 1056 1056 1039 1043 1056 1039 1043 1043 1056 1043 1037 1037 1039 1056 1039 1039 1056 1056 1056 1037 1056 1039 1037 1056 1037 1056 1037 1043 1056 1043 1037 1043 1056 1037 1037 1037 1043 1037 1043 1039 1037 1043 1056 1056 1043 1037 1056 1039 1056 1043 1037 1043 1043 1056 1043 1043 1037 102\n"
          ],
          "name": "stdout"
        },
        {
          "output_type": "stream",
          "text": [
            "INFO:tensorflow:input_ids: 101 1043 1043 1039 1056 1037 1056 1039 1056 1039 1039 1037 1039 1043 1039 1043 1037 1056 1037 1037 1043 1043 1056 1037 1039 1043 1039 1037 1039 1037 1037 1037 1037 1037 1037 1043 1056 1043 1037 1056 1056 1056 1043 1056 1039 1037 1043 1056 1037 1039 1039 1043 1056 1043 1037 1043 1056 1037 1039 1039 1056 1037 1037 1039 1037 1039 1037 1039 1039 1043 1039 1056 1043 1037 1056 1037 1043 1037 1043 1037 1043 1037 1043 1043 1037 1056 1056 1056 1056 1037 1056 1056 1043 1037 1039 1037 1056 1043 1043 1039 1056 1037 1037 1039 1037 1056 1043 1056 1056 1037 1037 1037 1056 1056 1039 1056 1039 1056 1043 1037 1039 1039 1037 1043 1037 1056 1043 1056 1056 1043 1037 1056 1043 1037 1039 1037 1039 1043 1037 1039 1043 1056 1056 1056 1039 1043 1056 1039 1043 1043 1056 1043 1037 1037 1039 1056 1039 1039 1056 1056 1056 1037 1056 1039 1037 1056 1037 1056 1037 1043 1056 1043 1037 1043 1056 1037 1037 1037 1043 1037 1043 1039 1037 1043 1056 1056 1043 1037 1056 1039 1056 1043 1037 1043 1043 1056 1043 1043 1037 102\n"
          ],
          "name": "stderr"
        },
        {
          "output_type": "stream",
          "text": [
            "INFO:tensorflow:input_mask: 1 1 1 1 1 1 1 1 1 1 1 1 1 1 1 1 1 1 1 1 1 1 1 1 1 1 1 1 1 1 1 1 1 1 1 1 1 1 1 1 1 1 1 1 1 1 1 1 1 1 1 1 1 1 1 1 1 1 1 1 1 1 1 1 1 1 1 1 1 1 1 1 1 1 1 1 1 1 1 1 1 1 1 1 1 1 1 1 1 1 1 1 1 1 1 1 1 1 1 1 1 1 1 1 1 1 1 1 1 1 1 1 1 1 1 1 1 1 1 1 1 1 1 1 1 1 1 1 1 1 1 1 1 1 1 1 1 1 1 1 1 1 1 1 1 1 1 1 1 1 1 1 1 1 1 1 1 1 1 1 1 1 1 1 1 1 1 1 1 1 1 1 1 1 1 1 1 1 1 1 1 1 1 1 1 1 1 1 1 1 1 1 1 1 1 1 1 1 1 1\n"
          ],
          "name": "stdout"
        },
        {
          "output_type": "stream",
          "text": [
            "INFO:tensorflow:input_mask: 1 1 1 1 1 1 1 1 1 1 1 1 1 1 1 1 1 1 1 1 1 1 1 1 1 1 1 1 1 1 1 1 1 1 1 1 1 1 1 1 1 1 1 1 1 1 1 1 1 1 1 1 1 1 1 1 1 1 1 1 1 1 1 1 1 1 1 1 1 1 1 1 1 1 1 1 1 1 1 1 1 1 1 1 1 1 1 1 1 1 1 1 1 1 1 1 1 1 1 1 1 1 1 1 1 1 1 1 1 1 1 1 1 1 1 1 1 1 1 1 1 1 1 1 1 1 1 1 1 1 1 1 1 1 1 1 1 1 1 1 1 1 1 1 1 1 1 1 1 1 1 1 1 1 1 1 1 1 1 1 1 1 1 1 1 1 1 1 1 1 1 1 1 1 1 1 1 1 1 1 1 1 1 1 1 1 1 1 1 1 1 1 1 1 1 1 1 1 1 1\n"
          ],
          "name": "stderr"
        },
        {
          "output_type": "stream",
          "text": [
            "INFO:tensorflow:segment_ids: 0 0 0 0 0 0 0 0 0 0 0 0 0 0 0 0 0 0 0 0 0 0 0 0 0 0 0 0 0 0 0 0 0 0 0 0 0 0 0 0 0 0 0 0 0 0 0 0 0 0 0 0 0 0 0 0 0 0 0 0 0 0 0 0 0 0 0 0 0 0 0 0 0 0 0 0 0 0 0 0 0 0 0 0 0 0 0 0 0 0 0 0 0 0 0 0 0 0 0 0 0 0 0 0 0 0 0 0 0 0 0 0 0 0 0 0 0 0 0 0 0 0 0 0 0 0 0 0 0 0 0 0 0 0 0 0 0 0 0 0 0 0 0 0 0 0 0 0 0 0 0 0 0 0 0 0 0 0 0 0 0 0 0 0 0 0 0 0 0 0 0 0 0 0 0 0 0 0 0 0 0 0 0 0 0 0 0 0 0 0 0 0 0 0 0 0 0 0 0 0\n"
          ],
          "name": "stdout"
        },
        {
          "output_type": "stream",
          "text": [
            "INFO:tensorflow:segment_ids: 0 0 0 0 0 0 0 0 0 0 0 0 0 0 0 0 0 0 0 0 0 0 0 0 0 0 0 0 0 0 0 0 0 0 0 0 0 0 0 0 0 0 0 0 0 0 0 0 0 0 0 0 0 0 0 0 0 0 0 0 0 0 0 0 0 0 0 0 0 0 0 0 0 0 0 0 0 0 0 0 0 0 0 0 0 0 0 0 0 0 0 0 0 0 0 0 0 0 0 0 0 0 0 0 0 0 0 0 0 0 0 0 0 0 0 0 0 0 0 0 0 0 0 0 0 0 0 0 0 0 0 0 0 0 0 0 0 0 0 0 0 0 0 0 0 0 0 0 0 0 0 0 0 0 0 0 0 0 0 0 0 0 0 0 0 0 0 0 0 0 0 0 0 0 0 0 0 0 0 0 0 0 0 0 0 0 0 0 0 0 0 0 0 0 0 0 0 0 0 0\n"
          ],
          "name": "stderr"
        },
        {
          "output_type": "stream",
          "text": [
            "INFO:tensorflow:label: 3 (id = 3)\n"
          ],
          "name": "stdout"
        },
        {
          "output_type": "stream",
          "text": [
            "INFO:tensorflow:label: 3 (id = 3)\n"
          ],
          "name": "stderr"
        },
        {
          "output_type": "stream",
          "text": [
            "INFO:tensorflow:*** Example ***\n"
          ],
          "name": "stdout"
        },
        {
          "output_type": "stream",
          "text": [
            "INFO:tensorflow:*** Example ***\n"
          ],
          "name": "stderr"
        },
        {
          "output_type": "stream",
          "text": [
            "INFO:tensorflow:guid: None\n"
          ],
          "name": "stdout"
        },
        {
          "output_type": "stream",
          "text": [
            "INFO:tensorflow:guid: None\n"
          ],
          "name": "stderr"
        },
        {
          "output_type": "stream",
          "text": [
            "INFO:tensorflow:tokens: [CLS] t g c t a c c c a t a g g c c a c t c a t c g c t t t g g a c a t g c a a t g a t c t g a g a g t a a t t g a a g c a g t a t a c a c c c t t a g t g g t a g g a t c t g c t t a a t t t g g g t g c a g c c t a g t t a t g a c g a c c c c a c t c t a c a a a a t t c a a a c t a c g t c a a c c t c a g c t a a g a t c t a t c g t g a c g a a a t a g c g c g a c t a c g g a a g g c g t c g a g c [SEP]\n"
          ],
          "name": "stdout"
        },
        {
          "output_type": "stream",
          "text": [
            "INFO:tensorflow:tokens: [CLS] t g c t a c c c a t a g g c c a c t c a t c g c t t t g g a c a t g c a a t g a t c t g a g a g t a a t t g a a g c a g t a t a c a c c c t t a g t g g t a g g a t c t g c t t a a t t t g g g t g c a g c c t a g t t a t g a c g a c c c c a c t c t a c a a a a t t c a a a c t a c g t c a a c c t c a g c t a a g a t c t a t c g t g a c g a a a t a g c g c g a c t a c g g a a g g c g t c g a g c [SEP]\n"
          ],
          "name": "stderr"
        },
        {
          "output_type": "stream",
          "text": [
            "INFO:tensorflow:input_ids: 101 1056 1043 1039 1056 1037 1039 1039 1039 1037 1056 1037 1043 1043 1039 1039 1037 1039 1056 1039 1037 1056 1039 1043 1039 1056 1056 1056 1043 1043 1037 1039 1037 1056 1043 1039 1037 1037 1056 1043 1037 1056 1039 1056 1043 1037 1043 1037 1043 1056 1037 1037 1056 1056 1043 1037 1037 1043 1039 1037 1043 1056 1037 1056 1037 1039 1037 1039 1039 1039 1056 1056 1037 1043 1056 1043 1043 1056 1037 1043 1043 1037 1056 1039 1056 1043 1039 1056 1056 1037 1037 1056 1056 1056 1043 1043 1043 1056 1043 1039 1037 1043 1039 1039 1056 1037 1043 1056 1056 1037 1056 1043 1037 1039 1043 1037 1039 1039 1039 1039 1037 1039 1056 1039 1056 1037 1039 1037 1037 1037 1037 1056 1056 1039 1037 1037 1037 1039 1056 1037 1039 1043 1056 1039 1037 1037 1039 1039 1056 1039 1037 1043 1039 1056 1037 1037 1043 1037 1056 1039 1056 1037 1056 1039 1043 1056 1043 1037 1039 1043 1037 1037 1037 1056 1037 1043 1039 1043 1039 1043 1037 1039 1056 1037 1039 1043 1043 1037 1037 1043 1043 1039 1043 1056 1039 1043 1037 1043 1039 102\n"
          ],
          "name": "stdout"
        },
        {
          "output_type": "stream",
          "text": [
            "INFO:tensorflow:input_ids: 101 1056 1043 1039 1056 1037 1039 1039 1039 1037 1056 1037 1043 1043 1039 1039 1037 1039 1056 1039 1037 1056 1039 1043 1039 1056 1056 1056 1043 1043 1037 1039 1037 1056 1043 1039 1037 1037 1056 1043 1037 1056 1039 1056 1043 1037 1043 1037 1043 1056 1037 1037 1056 1056 1043 1037 1037 1043 1039 1037 1043 1056 1037 1056 1037 1039 1037 1039 1039 1039 1056 1056 1037 1043 1056 1043 1043 1056 1037 1043 1043 1037 1056 1039 1056 1043 1039 1056 1056 1037 1037 1056 1056 1056 1043 1043 1043 1056 1043 1039 1037 1043 1039 1039 1056 1037 1043 1056 1056 1037 1056 1043 1037 1039 1043 1037 1039 1039 1039 1039 1037 1039 1056 1039 1056 1037 1039 1037 1037 1037 1037 1056 1056 1039 1037 1037 1037 1039 1056 1037 1039 1043 1056 1039 1037 1037 1039 1039 1056 1039 1037 1043 1039 1056 1037 1037 1043 1037 1056 1039 1056 1037 1056 1039 1043 1056 1043 1037 1039 1043 1037 1037 1037 1056 1037 1043 1039 1043 1039 1043 1037 1039 1056 1037 1039 1043 1043 1037 1037 1043 1043 1039 1043 1056 1039 1043 1037 1043 1039 102\n"
          ],
          "name": "stderr"
        },
        {
          "output_type": "stream",
          "text": [
            "INFO:tensorflow:input_mask: 1 1 1 1 1 1 1 1 1 1 1 1 1 1 1 1 1 1 1 1 1 1 1 1 1 1 1 1 1 1 1 1 1 1 1 1 1 1 1 1 1 1 1 1 1 1 1 1 1 1 1 1 1 1 1 1 1 1 1 1 1 1 1 1 1 1 1 1 1 1 1 1 1 1 1 1 1 1 1 1 1 1 1 1 1 1 1 1 1 1 1 1 1 1 1 1 1 1 1 1 1 1 1 1 1 1 1 1 1 1 1 1 1 1 1 1 1 1 1 1 1 1 1 1 1 1 1 1 1 1 1 1 1 1 1 1 1 1 1 1 1 1 1 1 1 1 1 1 1 1 1 1 1 1 1 1 1 1 1 1 1 1 1 1 1 1 1 1 1 1 1 1 1 1 1 1 1 1 1 1 1 1 1 1 1 1 1 1 1 1 1 1 1 1 1 1 1 1 1 1\n"
          ],
          "name": "stdout"
        },
        {
          "output_type": "stream",
          "text": [
            "INFO:tensorflow:input_mask: 1 1 1 1 1 1 1 1 1 1 1 1 1 1 1 1 1 1 1 1 1 1 1 1 1 1 1 1 1 1 1 1 1 1 1 1 1 1 1 1 1 1 1 1 1 1 1 1 1 1 1 1 1 1 1 1 1 1 1 1 1 1 1 1 1 1 1 1 1 1 1 1 1 1 1 1 1 1 1 1 1 1 1 1 1 1 1 1 1 1 1 1 1 1 1 1 1 1 1 1 1 1 1 1 1 1 1 1 1 1 1 1 1 1 1 1 1 1 1 1 1 1 1 1 1 1 1 1 1 1 1 1 1 1 1 1 1 1 1 1 1 1 1 1 1 1 1 1 1 1 1 1 1 1 1 1 1 1 1 1 1 1 1 1 1 1 1 1 1 1 1 1 1 1 1 1 1 1 1 1 1 1 1 1 1 1 1 1 1 1 1 1 1 1 1 1 1 1 1 1\n"
          ],
          "name": "stderr"
        },
        {
          "output_type": "stream",
          "text": [
            "INFO:tensorflow:segment_ids: 0 0 0 0 0 0 0 0 0 0 0 0 0 0 0 0 0 0 0 0 0 0 0 0 0 0 0 0 0 0 0 0 0 0 0 0 0 0 0 0 0 0 0 0 0 0 0 0 0 0 0 0 0 0 0 0 0 0 0 0 0 0 0 0 0 0 0 0 0 0 0 0 0 0 0 0 0 0 0 0 0 0 0 0 0 0 0 0 0 0 0 0 0 0 0 0 0 0 0 0 0 0 0 0 0 0 0 0 0 0 0 0 0 0 0 0 0 0 0 0 0 0 0 0 0 0 0 0 0 0 0 0 0 0 0 0 0 0 0 0 0 0 0 0 0 0 0 0 0 0 0 0 0 0 0 0 0 0 0 0 0 0 0 0 0 0 0 0 0 0 0 0 0 0 0 0 0 0 0 0 0 0 0 0 0 0 0 0 0 0 0 0 0 0 0 0 0 0 0 0\n"
          ],
          "name": "stdout"
        },
        {
          "output_type": "stream",
          "text": [
            "INFO:tensorflow:segment_ids: 0 0 0 0 0 0 0 0 0 0 0 0 0 0 0 0 0 0 0 0 0 0 0 0 0 0 0 0 0 0 0 0 0 0 0 0 0 0 0 0 0 0 0 0 0 0 0 0 0 0 0 0 0 0 0 0 0 0 0 0 0 0 0 0 0 0 0 0 0 0 0 0 0 0 0 0 0 0 0 0 0 0 0 0 0 0 0 0 0 0 0 0 0 0 0 0 0 0 0 0 0 0 0 0 0 0 0 0 0 0 0 0 0 0 0 0 0 0 0 0 0 0 0 0 0 0 0 0 0 0 0 0 0 0 0 0 0 0 0 0 0 0 0 0 0 0 0 0 0 0 0 0 0 0 0 0 0 0 0 0 0 0 0 0 0 0 0 0 0 0 0 0 0 0 0 0 0 0 0 0 0 0 0 0 0 0 0 0 0 0 0 0 0 0 0 0 0 0 0 0\n"
          ],
          "name": "stderr"
        },
        {
          "output_type": "stream",
          "text": [
            "INFO:tensorflow:label: 0 (id = 0)\n"
          ],
          "name": "stdout"
        },
        {
          "output_type": "stream",
          "text": [
            "INFO:tensorflow:label: 0 (id = 0)\n"
          ],
          "name": "stderr"
        },
        {
          "output_type": "stream",
          "text": [
            "INFO:tensorflow:*** Example ***\n"
          ],
          "name": "stdout"
        },
        {
          "output_type": "stream",
          "text": [
            "INFO:tensorflow:*** Example ***\n"
          ],
          "name": "stderr"
        },
        {
          "output_type": "stream",
          "text": [
            "INFO:tensorflow:guid: None\n"
          ],
          "name": "stdout"
        },
        {
          "output_type": "stream",
          "text": [
            "INFO:tensorflow:guid: None\n"
          ],
          "name": "stderr"
        },
        {
          "output_type": "stream",
          "text": [
            "INFO:tensorflow:tokens: [CLS] t c c a c c a a c c a c g c a a t a g t t t t a c c c a t c t g c a a g a t g t g g c c g a t a t a g a t c a c g g g g a t t t t g a a a c a a a t t g c a g t t c a t t g t a g a a g a c g t c g c a g c t a c c g t g g c a c c c t g g c c t t t a t t a g g t c g a g a t a a g g g t t g g a c g g c c t t g c c a g a c a a a g g g a a a g g a g g t a g a t a a g a t t c g a a a a a t c g a a c [SEP]\n"
          ],
          "name": "stdout"
        },
        {
          "output_type": "stream",
          "text": [
            "INFO:tensorflow:tokens: [CLS] t c c a c c a a c c a c g c a a t a g t t t t a c c c a t c t g c a a g a t g t g g c c g a t a t a g a t c a c g g g g a t t t t g a a a c a a a t t g c a g t t c a t t g t a g a a g a c g t c g c a g c t a c c g t g g c a c c c t g g c c t t t a t t a g g t c g a g a t a a g g g t t g g a c g g c c t t g c c a g a c a a a g g g a a a g g a g g t a g a t a a g a t t c g a a a a a t c g a a c [SEP]\n"
          ],
          "name": "stderr"
        },
        {
          "output_type": "stream",
          "text": [
            "INFO:tensorflow:input_ids: 101 1056 1039 1039 1037 1039 1039 1037 1037 1039 1039 1037 1039 1043 1039 1037 1037 1056 1037 1043 1056 1056 1056 1056 1037 1039 1039 1039 1037 1056 1039 1056 1043 1039 1037 1037 1043 1037 1056 1043 1056 1043 1043 1039 1039 1043 1037 1056 1037 1056 1037 1043 1037 1056 1039 1037 1039 1043 1043 1043 1043 1037 1056 1056 1056 1056 1043 1037 1037 1037 1039 1037 1037 1037 1056 1056 1043 1039 1037 1043 1056 1056 1039 1037 1056 1056 1043 1056 1037 1043 1037 1037 1043 1037 1039 1043 1056 1039 1043 1039 1037 1043 1039 1056 1037 1039 1039 1043 1056 1043 1043 1039 1037 1039 1039 1039 1056 1043 1043 1039 1039 1056 1056 1056 1037 1056 1056 1037 1043 1043 1056 1039 1043 1037 1043 1037 1056 1037 1037 1043 1043 1043 1056 1056 1043 1043 1037 1039 1043 1043 1039 1039 1056 1056 1043 1039 1039 1037 1043 1037 1039 1037 1037 1037 1043 1043 1043 1037 1037 1037 1043 1043 1037 1043 1043 1056 1037 1043 1037 1056 1037 1037 1043 1037 1056 1056 1039 1043 1037 1037 1037 1037 1037 1056 1039 1043 1037 1037 1039 102\n"
          ],
          "name": "stdout"
        },
        {
          "output_type": "stream",
          "text": [
            "INFO:tensorflow:input_ids: 101 1056 1039 1039 1037 1039 1039 1037 1037 1039 1039 1037 1039 1043 1039 1037 1037 1056 1037 1043 1056 1056 1056 1056 1037 1039 1039 1039 1037 1056 1039 1056 1043 1039 1037 1037 1043 1037 1056 1043 1056 1043 1043 1039 1039 1043 1037 1056 1037 1056 1037 1043 1037 1056 1039 1037 1039 1043 1043 1043 1043 1037 1056 1056 1056 1056 1043 1037 1037 1037 1039 1037 1037 1037 1056 1056 1043 1039 1037 1043 1056 1056 1039 1037 1056 1056 1043 1056 1037 1043 1037 1037 1043 1037 1039 1043 1056 1039 1043 1039 1037 1043 1039 1056 1037 1039 1039 1043 1056 1043 1043 1039 1037 1039 1039 1039 1056 1043 1043 1039 1039 1056 1056 1056 1037 1056 1056 1037 1043 1043 1056 1039 1043 1037 1043 1037 1056 1037 1037 1043 1043 1043 1056 1056 1043 1043 1037 1039 1043 1043 1039 1039 1056 1056 1043 1039 1039 1037 1043 1037 1039 1037 1037 1037 1043 1043 1043 1037 1037 1037 1043 1043 1037 1043 1043 1056 1037 1043 1037 1056 1037 1037 1043 1037 1056 1056 1039 1043 1037 1037 1037 1037 1037 1056 1039 1043 1037 1037 1039 102\n"
          ],
          "name": "stderr"
        },
        {
          "output_type": "stream",
          "text": [
            "INFO:tensorflow:input_mask: 1 1 1 1 1 1 1 1 1 1 1 1 1 1 1 1 1 1 1 1 1 1 1 1 1 1 1 1 1 1 1 1 1 1 1 1 1 1 1 1 1 1 1 1 1 1 1 1 1 1 1 1 1 1 1 1 1 1 1 1 1 1 1 1 1 1 1 1 1 1 1 1 1 1 1 1 1 1 1 1 1 1 1 1 1 1 1 1 1 1 1 1 1 1 1 1 1 1 1 1 1 1 1 1 1 1 1 1 1 1 1 1 1 1 1 1 1 1 1 1 1 1 1 1 1 1 1 1 1 1 1 1 1 1 1 1 1 1 1 1 1 1 1 1 1 1 1 1 1 1 1 1 1 1 1 1 1 1 1 1 1 1 1 1 1 1 1 1 1 1 1 1 1 1 1 1 1 1 1 1 1 1 1 1 1 1 1 1 1 1 1 1 1 1 1 1 1 1 1 1\n"
          ],
          "name": "stdout"
        },
        {
          "output_type": "stream",
          "text": [
            "INFO:tensorflow:input_mask: 1 1 1 1 1 1 1 1 1 1 1 1 1 1 1 1 1 1 1 1 1 1 1 1 1 1 1 1 1 1 1 1 1 1 1 1 1 1 1 1 1 1 1 1 1 1 1 1 1 1 1 1 1 1 1 1 1 1 1 1 1 1 1 1 1 1 1 1 1 1 1 1 1 1 1 1 1 1 1 1 1 1 1 1 1 1 1 1 1 1 1 1 1 1 1 1 1 1 1 1 1 1 1 1 1 1 1 1 1 1 1 1 1 1 1 1 1 1 1 1 1 1 1 1 1 1 1 1 1 1 1 1 1 1 1 1 1 1 1 1 1 1 1 1 1 1 1 1 1 1 1 1 1 1 1 1 1 1 1 1 1 1 1 1 1 1 1 1 1 1 1 1 1 1 1 1 1 1 1 1 1 1 1 1 1 1 1 1 1 1 1 1 1 1 1 1 1 1 1 1\n"
          ],
          "name": "stderr"
        },
        {
          "output_type": "stream",
          "text": [
            "INFO:tensorflow:segment_ids: 0 0 0 0 0 0 0 0 0 0 0 0 0 0 0 0 0 0 0 0 0 0 0 0 0 0 0 0 0 0 0 0 0 0 0 0 0 0 0 0 0 0 0 0 0 0 0 0 0 0 0 0 0 0 0 0 0 0 0 0 0 0 0 0 0 0 0 0 0 0 0 0 0 0 0 0 0 0 0 0 0 0 0 0 0 0 0 0 0 0 0 0 0 0 0 0 0 0 0 0 0 0 0 0 0 0 0 0 0 0 0 0 0 0 0 0 0 0 0 0 0 0 0 0 0 0 0 0 0 0 0 0 0 0 0 0 0 0 0 0 0 0 0 0 0 0 0 0 0 0 0 0 0 0 0 0 0 0 0 0 0 0 0 0 0 0 0 0 0 0 0 0 0 0 0 0 0 0 0 0 0 0 0 0 0 0 0 0 0 0 0 0 0 0 0 0 0 0 0 0\n"
          ],
          "name": "stdout"
        },
        {
          "output_type": "stream",
          "text": [
            "INFO:tensorflow:segment_ids: 0 0 0 0 0 0 0 0 0 0 0 0 0 0 0 0 0 0 0 0 0 0 0 0 0 0 0 0 0 0 0 0 0 0 0 0 0 0 0 0 0 0 0 0 0 0 0 0 0 0 0 0 0 0 0 0 0 0 0 0 0 0 0 0 0 0 0 0 0 0 0 0 0 0 0 0 0 0 0 0 0 0 0 0 0 0 0 0 0 0 0 0 0 0 0 0 0 0 0 0 0 0 0 0 0 0 0 0 0 0 0 0 0 0 0 0 0 0 0 0 0 0 0 0 0 0 0 0 0 0 0 0 0 0 0 0 0 0 0 0 0 0 0 0 0 0 0 0 0 0 0 0 0 0 0 0 0 0 0 0 0 0 0 0 0 0 0 0 0 0 0 0 0 0 0 0 0 0 0 0 0 0 0 0 0 0 0 0 0 0 0 0 0 0 0 0 0 0 0 0\n"
          ],
          "name": "stderr"
        },
        {
          "output_type": "stream",
          "text": [
            "INFO:tensorflow:label: 1 (id = 1)\n"
          ],
          "name": "stdout"
        },
        {
          "output_type": "stream",
          "text": [
            "INFO:tensorflow:label: 1 (id = 1)\n"
          ],
          "name": "stderr"
        },
        {
          "output_type": "stream",
          "text": [
            "INFO:tensorflow:*** Example ***\n"
          ],
          "name": "stdout"
        },
        {
          "output_type": "stream",
          "text": [
            "INFO:tensorflow:*** Example ***\n"
          ],
          "name": "stderr"
        },
        {
          "output_type": "stream",
          "text": [
            "INFO:tensorflow:guid: None\n"
          ],
          "name": "stdout"
        },
        {
          "output_type": "stream",
          "text": [
            "INFO:tensorflow:guid: None\n"
          ],
          "name": "stderr"
        },
        {
          "output_type": "stream",
          "text": [
            "INFO:tensorflow:tokens: [CLS] a t a a a a c g g t a t a g t a t t c t t t c t c t a c c c t c t t a g a g t a a g t t t a c g a t t c a g g t g a t a a c g t c t c a c t c t g c c c a t g g t c t t a g a a g t a a c g c a a a c c t c a t t a t a g t t g c g a a c c a g a t g t t a t g t g a c c g g a t g a t a c a c a g a t t g g g t a c a g t t a t t c t a g c t g t g t g g t c g a t g a t a c c t c g t t a g g g t g a t [SEP]\n"
          ],
          "name": "stdout"
        },
        {
          "output_type": "stream",
          "text": [
            "INFO:tensorflow:tokens: [CLS] a t a a a a c g g t a t a g t a t t c t t t c t c t a c c c t c t t a g a g t a a g t t t a c g a t t c a g g t g a t a a c g t c t c a c t c t g c c c a t g g t c t t a g a a g t a a c g c a a a c c t c a t t a t a g t t g c g a a c c a g a t g t t a t g t g a c c g g a t g a t a c a c a g a t t g g g t a c a g t t a t t c t a g c t g t g t g g t c g a t g a t a c c t c g t t a g g g t g a t [SEP]\n"
          ],
          "name": "stderr"
        },
        {
          "output_type": "stream",
          "text": [
            "INFO:tensorflow:input_ids: 101 1037 1056 1037 1037 1037 1037 1039 1043 1043 1056 1037 1056 1037 1043 1056 1037 1056 1056 1039 1056 1056 1056 1039 1056 1039 1056 1037 1039 1039 1039 1056 1039 1056 1056 1037 1043 1037 1043 1056 1037 1037 1043 1056 1056 1056 1037 1039 1043 1037 1056 1056 1039 1037 1043 1043 1056 1043 1037 1056 1037 1037 1039 1043 1056 1039 1056 1039 1037 1039 1056 1039 1056 1043 1039 1039 1039 1037 1056 1043 1043 1056 1039 1056 1056 1037 1043 1037 1037 1043 1056 1037 1037 1039 1043 1039 1037 1037 1037 1039 1039 1056 1039 1037 1056 1056 1037 1056 1037 1043 1056 1056 1043 1039 1043 1037 1037 1039 1039 1037 1043 1037 1056 1043 1056 1056 1037 1056 1043 1056 1043 1037 1039 1039 1043 1043 1037 1056 1043 1037 1056 1037 1039 1037 1039 1037 1043 1037 1056 1056 1043 1043 1043 1056 1037 1039 1037 1043 1056 1056 1037 1056 1056 1039 1056 1037 1043 1039 1056 1043 1056 1043 1056 1043 1043 1056 1039 1043 1037 1056 1043 1037 1056 1037 1039 1039 1056 1039 1043 1056 1056 1037 1043 1043 1043 1056 1043 1037 1056 102\n"
          ],
          "name": "stdout"
        },
        {
          "output_type": "stream",
          "text": [
            "INFO:tensorflow:input_ids: 101 1037 1056 1037 1037 1037 1037 1039 1043 1043 1056 1037 1056 1037 1043 1056 1037 1056 1056 1039 1056 1056 1056 1039 1056 1039 1056 1037 1039 1039 1039 1056 1039 1056 1056 1037 1043 1037 1043 1056 1037 1037 1043 1056 1056 1056 1037 1039 1043 1037 1056 1056 1039 1037 1043 1043 1056 1043 1037 1056 1037 1037 1039 1043 1056 1039 1056 1039 1037 1039 1056 1039 1056 1043 1039 1039 1039 1037 1056 1043 1043 1056 1039 1056 1056 1037 1043 1037 1037 1043 1056 1037 1037 1039 1043 1039 1037 1037 1037 1039 1039 1056 1039 1037 1056 1056 1037 1056 1037 1043 1056 1056 1043 1039 1043 1037 1037 1039 1039 1037 1043 1037 1056 1043 1056 1056 1037 1056 1043 1056 1043 1037 1039 1039 1043 1043 1037 1056 1043 1037 1056 1037 1039 1037 1039 1037 1043 1037 1056 1056 1043 1043 1043 1056 1037 1039 1037 1043 1056 1056 1037 1056 1056 1039 1056 1037 1043 1039 1056 1043 1056 1043 1056 1043 1043 1056 1039 1043 1037 1056 1043 1037 1056 1037 1039 1039 1056 1039 1043 1056 1056 1037 1043 1043 1043 1056 1043 1037 1056 102\n"
          ],
          "name": "stderr"
        },
        {
          "output_type": "stream",
          "text": [
            "INFO:tensorflow:input_mask: 1 1 1 1 1 1 1 1 1 1 1 1 1 1 1 1 1 1 1 1 1 1 1 1 1 1 1 1 1 1 1 1 1 1 1 1 1 1 1 1 1 1 1 1 1 1 1 1 1 1 1 1 1 1 1 1 1 1 1 1 1 1 1 1 1 1 1 1 1 1 1 1 1 1 1 1 1 1 1 1 1 1 1 1 1 1 1 1 1 1 1 1 1 1 1 1 1 1 1 1 1 1 1 1 1 1 1 1 1 1 1 1 1 1 1 1 1 1 1 1 1 1 1 1 1 1 1 1 1 1 1 1 1 1 1 1 1 1 1 1 1 1 1 1 1 1 1 1 1 1 1 1 1 1 1 1 1 1 1 1 1 1 1 1 1 1 1 1 1 1 1 1 1 1 1 1 1 1 1 1 1 1 1 1 1 1 1 1 1 1 1 1 1 1 1 1 1 1 1 1\n"
          ],
          "name": "stdout"
        },
        {
          "output_type": "stream",
          "text": [
            "INFO:tensorflow:input_mask: 1 1 1 1 1 1 1 1 1 1 1 1 1 1 1 1 1 1 1 1 1 1 1 1 1 1 1 1 1 1 1 1 1 1 1 1 1 1 1 1 1 1 1 1 1 1 1 1 1 1 1 1 1 1 1 1 1 1 1 1 1 1 1 1 1 1 1 1 1 1 1 1 1 1 1 1 1 1 1 1 1 1 1 1 1 1 1 1 1 1 1 1 1 1 1 1 1 1 1 1 1 1 1 1 1 1 1 1 1 1 1 1 1 1 1 1 1 1 1 1 1 1 1 1 1 1 1 1 1 1 1 1 1 1 1 1 1 1 1 1 1 1 1 1 1 1 1 1 1 1 1 1 1 1 1 1 1 1 1 1 1 1 1 1 1 1 1 1 1 1 1 1 1 1 1 1 1 1 1 1 1 1 1 1 1 1 1 1 1 1 1 1 1 1 1 1 1 1 1 1\n"
          ],
          "name": "stderr"
        },
        {
          "output_type": "stream",
          "text": [
            "INFO:tensorflow:segment_ids: 0 0 0 0 0 0 0 0 0 0 0 0 0 0 0 0 0 0 0 0 0 0 0 0 0 0 0 0 0 0 0 0 0 0 0 0 0 0 0 0 0 0 0 0 0 0 0 0 0 0 0 0 0 0 0 0 0 0 0 0 0 0 0 0 0 0 0 0 0 0 0 0 0 0 0 0 0 0 0 0 0 0 0 0 0 0 0 0 0 0 0 0 0 0 0 0 0 0 0 0 0 0 0 0 0 0 0 0 0 0 0 0 0 0 0 0 0 0 0 0 0 0 0 0 0 0 0 0 0 0 0 0 0 0 0 0 0 0 0 0 0 0 0 0 0 0 0 0 0 0 0 0 0 0 0 0 0 0 0 0 0 0 0 0 0 0 0 0 0 0 0 0 0 0 0 0 0 0 0 0 0 0 0 0 0 0 0 0 0 0 0 0 0 0 0 0 0 0 0 0\n"
          ],
          "name": "stdout"
        },
        {
          "output_type": "stream",
          "text": [
            "INFO:tensorflow:segment_ids: 0 0 0 0 0 0 0 0 0 0 0 0 0 0 0 0 0 0 0 0 0 0 0 0 0 0 0 0 0 0 0 0 0 0 0 0 0 0 0 0 0 0 0 0 0 0 0 0 0 0 0 0 0 0 0 0 0 0 0 0 0 0 0 0 0 0 0 0 0 0 0 0 0 0 0 0 0 0 0 0 0 0 0 0 0 0 0 0 0 0 0 0 0 0 0 0 0 0 0 0 0 0 0 0 0 0 0 0 0 0 0 0 0 0 0 0 0 0 0 0 0 0 0 0 0 0 0 0 0 0 0 0 0 0 0 0 0 0 0 0 0 0 0 0 0 0 0 0 0 0 0 0 0 0 0 0 0 0 0 0 0 0 0 0 0 0 0 0 0 0 0 0 0 0 0 0 0 0 0 0 0 0 0 0 0 0 0 0 0 0 0 0 0 0 0 0 0 0 0 0\n"
          ],
          "name": "stderr"
        },
        {
          "output_type": "stream",
          "text": [
            "INFO:tensorflow:label: 2 (id = 2)\n"
          ],
          "name": "stdout"
        },
        {
          "output_type": "stream",
          "text": [
            "INFO:tensorflow:label: 2 (id = 2)\n"
          ],
          "name": "stderr"
        }
      ]
    },
    {
      "cell_type": "code",
      "metadata": {
        "id": "A0dzuBBmK7vL",
        "colab_type": "code",
        "colab": {}
      },
      "source": [
        "def create_model(is_predicting, input_ids, input_mask, segment_ids, labels,\n",
        "                 num_labels):\n",
        "  \n",
        "  bert_module = hub.Module(\n",
        "      BERT_MODEL_HUB,\n",
        "      trainable=True)\n",
        "  bert_inputs = dict(\n",
        "      input_ids=input_ids,\n",
        "      input_mask=input_mask,\n",
        "      segment_ids=segment_ids)\n",
        "  bert_outputs = bert_module(\n",
        "      inputs=bert_inputs,\n",
        "      signature=\"tokens\",\n",
        "      as_dict=True)\n",
        "\n",
        "  # Use \"pooled_output\" for classification tasks on an entire sentence.\n",
        "  # Use \"sequence_outputs\" for token-level output.\n",
        "  output_layer = bert_outputs[\"pooled_output\"]\n",
        "\n",
        "  hidden_size = output_layer.shape[-1].value\n",
        "\n",
        "  # Create our own layer to tune for politeness data.\n",
        "  output_weights = tf.get_variable(\n",
        "      \"output_weights\", [num_labels, hidden_size],\n",
        "      initializer=tf.truncated_normal_initializer(stddev=0.02))\n",
        "\n",
        "  output_bias = tf.get_variable(\n",
        "      \"output_bias\", [num_labels], initializer=tf.zeros_initializer())\n",
        "\n",
        "  with tf.variable_scope(\"loss\"):\n",
        "\n",
        "    # Dropout helps prevent overfitting\n",
        "    output_layer = tf.nn.dropout(output_layer, keep_prob=0.9)\n",
        "\n",
        "    logits = tf.matmul(output_layer, output_weights, transpose_b=True)\n",
        "    logits = tf.nn.bias_add(logits, output_bias)\n",
        "    log_probs = tf.nn.log_softmax(logits, axis=-1)\n",
        "\n",
        "    # Convert labels into one-hot encoding\n",
        "    one_hot_labels = tf.one_hot(labels, depth=num_labels, dtype=tf.float32)\n",
        "\n",
        "    predicted_labels = tf.squeeze(tf.argmax(log_probs, axis=-1, output_type=tf.int32))\n",
        "    # If we're predicting, we want predicted labels and the probabiltiies.\n",
        "    if is_predicting:\n",
        "      return (predicted_labels, log_probs)\n",
        "\n",
        "    # If we're train/eval, compute loss between predicted and actual label\n",
        "    per_example_loss = -tf.reduce_sum(one_hot_labels * log_probs, axis=-1)\n",
        "    loss = tf.reduce_mean(per_example_loss)\n",
        "    return (loss, predicted_labels, log_probs)"
      ],
      "execution_count": 0,
      "outputs": []
    },
    {
      "cell_type": "code",
      "metadata": {
        "id": "Ge_yokgvLD_o",
        "colab_type": "code",
        "colab": {}
      },
      "source": [
        "\n",
        "#A function that adapts our model to work for training, evaluation, and prediction.\n",
        "\n",
        "# model_fn_builder actually creates our model function\n",
        "# using the passed parameters for num_labels, learning_rate, etc.\n",
        "def model_fn_builder(num_labels, learning_rate, num_train_steps,\n",
        "                     num_warmup_steps):\n",
        "  \"\"\"Returns `model_fn` closure for TPUEstimator.\"\"\"\n",
        "  def model_fn(features, labels, mode, params):  # pylint: disable=unused-argument\n",
        "    \"\"\"The `model_fn` for TPUEstimator.\"\"\"\n",
        "\n",
        "    input_ids = features[\"input_ids\"]\n",
        "    input_mask = features[\"input_mask\"]\n",
        "    segment_ids = features[\"segment_ids\"]\n",
        "    label_ids = features[\"label_ids\"]\n",
        "\n",
        "    is_predicting = (mode == tf.estimator.ModeKeys.PREDICT)\n",
        "    \n",
        "    # TRAIN and EVAL\n",
        "    if not is_predicting:\n",
        "\n",
        "      (loss, predicted_labels, log_probs) = create_model(\n",
        "        is_predicting, input_ids, input_mask, segment_ids, label_ids, num_labels)\n",
        "\n",
        "      train_op = bert.optimization.create_optimizer(\n",
        "          loss, learning_rate, num_train_steps, num_warmup_steps, use_tpu=False)\n",
        "\n",
        "      # Calculate evaluation metrics. \n",
        "      def metric_fn(label_ids, predicted_labels):\n",
        "        accuracy = tf.metrics.accuracy(label_ids, predicted_labels)\n",
        "        true_pos = tf.metrics.true_positives(\n",
        "            label_ids,\n",
        "            predicted_labels)\n",
        "        true_neg = tf.metrics.true_negatives(\n",
        "            label_ids,\n",
        "            predicted_labels)   \n",
        "        false_pos = tf.metrics.false_positives(\n",
        "            label_ids,\n",
        "            predicted_labels)  \n",
        "        false_neg = tf.metrics.false_negatives(\n",
        "            label_ids,\n",
        "            predicted_labels)\n",
        "        return {\n",
        "            \"eval_accuracy\": accuracy,\n",
        "            \"true_positives\": true_pos,\n",
        "            \"true_negatives\": true_neg,\n",
        "            \"false_positives\": false_pos,\n",
        "            \"false_negatives\": false_neg\n",
        "            }\n",
        "\n",
        "      eval_metrics = metric_fn(label_ids, predicted_labels)\n",
        "\n",
        "      if mode == tf.estimator.ModeKeys.TRAIN:\n",
        "        return tf.estimator.EstimatorSpec(mode=mode,\n",
        "          loss=loss,\n",
        "          train_op=train_op)\n",
        "      else:\n",
        "          return tf.estimator.EstimatorSpec(mode=mode,\n",
        "            loss=loss,\n",
        "            eval_metric_ops=eval_metrics)\n",
        "    else:\n",
        "      (predicted_labels, log_probs) = create_model(\n",
        "        is_predicting, input_ids, input_mask, segment_ids, label_ids, num_labels)\n",
        "\n",
        "      predictions = {\n",
        "          'probabilities': log_probs,\n",
        "          'labels': predicted_labels\n",
        "      }\n",
        "      return tf.estimator.EstimatorSpec(mode, predictions=predictions)\n",
        "\n",
        "  # Return the actual model function in the closure\n",
        "  return model_fn"
      ],
      "execution_count": 0,
      "outputs": []
    },
    {
      "cell_type": "code",
      "metadata": {
        "id": "ZgxyrzBoLPiD",
        "colab_type": "code",
        "colab": {}
      },
      "source": [
        "# Compute train and warmup steps from batch size\n",
        "# These hyperparameters are copied from this colab notebook (https://colab.sandbox.google.com/github/tensorflow/tpu/blob/master/tools/colab/bert_finetuning_with_cloud_tpus.ipynb)\n",
        "BATCH_SIZE = 32\n",
        "LEARNING_RATE = 2e-5\n",
        "NUM_TRAIN_EPOCHS = 3.0\n",
        "# Warmup is a period of time where the learning rate is small and gradually increases--usually helps training.\n",
        "WARMUP_PROPORTION = 0.1\n",
        "# Model configs\n",
        "SAVE_CHECKPOINTS_STEPS = 300\n",
        "SAVE_SUMMARY_STEPS = 100\n",
        "\n",
        "# Compute train and warmup steps from batch size\n",
        "num_train_steps = int(len(train_features) / BATCH_SIZE * NUM_TRAIN_EPOCHS)\n",
        "num_warmup_steps = int(num_train_steps * WARMUP_PROPORTION)\n",
        "\n",
        "# Specify output directory and number of checkpoint steps to save\n",
        "run_config = tf.estimator.RunConfig(\n",
        "    model_dir=OUTPUT_DIR,\n",
        "    save_summary_steps=SAVE_SUMMARY_STEPS,\n",
        "    save_checkpoints_steps=SAVE_CHECKPOINTS_STEPS)\n",
        "\n",
        "# Specify output directory and number of checkpoint steps to save\n",
        "run_config = tf.estimator.RunConfig(\n",
        "    model_dir=OUTPUT_DIR,\n",
        "    save_summary_steps=SAVE_SUMMARY_STEPS,\n",
        "    save_checkpoints_steps=SAVE_CHECKPOINTS_STEPS)"
      ],
      "execution_count": 0,
      "outputs": []
    },
    {
      "cell_type": "code",
      "metadata": {
        "id": "JAOVJ_3cLQZY",
        "colab_type": "code",
        "outputId": "a7a9c345-744e-4285-eb48-d963ae087ff1",
        "colab": {
          "base_uri": "https://localhost:8080/",
          "height": 275
        }
      },
      "source": [
        "#Initializing the model and the estimator\n",
        "model_fn = model_fn_builder(\n",
        "  num_labels=len(label_list),\n",
        "  learning_rate=LEARNING_RATE,\n",
        "  num_train_steps=num_train_steps,\n",
        "  num_warmup_steps=num_warmup_steps)\n",
        "\n",
        "estimator = tf.estimator.Estimator(\n",
        "  model_fn=model_fn,\n",
        "  config=run_config,\n",
        "  params={\"batch_size\": BATCH_SIZE})"
      ],
      "execution_count": 0,
      "outputs": [
        {
          "output_type": "stream",
          "text": [
            "INFO:tensorflow:Using config: {'_model_dir': '/genome_data/My Drive/Colab Notebooks/BERT/genome_data', '_tf_random_seed': None, '_save_summary_steps': 100, '_save_checkpoints_steps': 300, '_save_checkpoints_secs': None, '_session_config': allow_soft_placement: true\n",
            "graph_options {\n",
            "  rewrite_options {\n",
            "    meta_optimizer_iterations: ONE\n",
            "  }\n",
            "}\n",
            ", '_keep_checkpoint_max': 5, '_keep_checkpoint_every_n_hours': 10000, '_log_step_count_steps': 100, '_train_distribute': None, '_device_fn': None, '_protocol': None, '_eval_distribute': None, '_experimental_distribute': None, '_experimental_max_worker_delay_secs': None, '_session_creation_timeout_secs': 7200, '_service': None, '_cluster_spec': <tensorflow.python.training.server_lib.ClusterSpec object at 0x7f3f56d43668>, '_task_type': 'worker', '_task_id': 0, '_global_id_in_cluster': 0, '_master': '', '_evaluation_master': '', '_is_chief': True, '_num_ps_replicas': 0, '_num_worker_replicas': 1}\n"
          ],
          "name": "stdout"
        },
        {
          "output_type": "stream",
          "text": [
            "INFO:tensorflow:Using config: {'_model_dir': '/genome_data/My Drive/Colab Notebooks/BERT/genome_data', '_tf_random_seed': None, '_save_summary_steps': 100, '_save_checkpoints_steps': 300, '_save_checkpoints_secs': None, '_session_config': allow_soft_placement: true\n",
            "graph_options {\n",
            "  rewrite_options {\n",
            "    meta_optimizer_iterations: ONE\n",
            "  }\n",
            "}\n",
            ", '_keep_checkpoint_max': 5, '_keep_checkpoint_every_n_hours': 10000, '_log_step_count_steps': 100, '_train_distribute': None, '_device_fn': None, '_protocol': None, '_eval_distribute': None, '_experimental_distribute': None, '_experimental_max_worker_delay_secs': None, '_session_creation_timeout_secs': 7200, '_service': None, '_cluster_spec': <tensorflow.python.training.server_lib.ClusterSpec object at 0x7f3f56d43668>, '_task_type': 'worker', '_task_id': 0, '_global_id_in_cluster': 0, '_master': '', '_evaluation_master': '', '_is_chief': True, '_num_ps_replicas': 0, '_num_worker_replicas': 1}\n"
          ],
          "name": "stderr"
        }
      ]
    },
    {
      "cell_type": "code",
      "metadata": {
        "id": "9CtHgC2pLSgU",
        "colab_type": "code",
        "colab": {}
      },
      "source": [
        "# Create an input function for training. drop_remainder = True for using TPUs.\n",
        "train_input_fn = bert.run_classifier.input_fn_builder(\n",
        "    features=train_features,\n",
        "    seq_length=MAX_SEQ_LENGTH,\n",
        "    is_training=True,\n",
        "    drop_remainder=False)\n",
        "\n",
        "# Create an input function for validating. drop_remainder = True for using TPUs.\n",
        "val_input_fn = run_classifier.input_fn_builder(\n",
        "    features=val_features,\n",
        "    seq_length=MAX_SEQ_LENGTH,\n",
        "    is_training=False,\n",
        "    drop_remainder=False)"
      ],
      "execution_count": 0,
      "outputs": []
    },
    {
      "cell_type": "code",
      "metadata": {
        "id": "Ze_j-vLDLUhZ",
        "colab_type": "code",
        "outputId": "82352c55-da9a-48e1-e2f2-dd0f1de482f0",
        "colab": {
          "base_uri": "https://localhost:8080/",
          "height": 1000
        }
      },
      "source": [
        "#Training the model\n",
        "print(f'Beginning Training!')\n",
        "current_time = datetime.now()\n",
        "estimator.train(input_fn=train_input_fn, max_steps=num_train_steps)\n",
        "print(\"Training took time \", datetime.now() - current_time)"
      ],
      "execution_count": 0,
      "outputs": [
        {
          "output_type": "stream",
          "text": [
            "Beginning Training!\n",
            "WARNING:tensorflow:From /tensorflow-1.15.0/python3.6/tensorflow_core/python/training/training_util.py:236: Variable.initialized_value (from tensorflow.python.ops.variables) is deprecated and will be removed in a future version.\n",
            "Instructions for updating:\n",
            "Use Variable.read_value. Variables in 2.X are initialized automatically both in eager and graph (inside tf.defun) contexts.\n"
          ],
          "name": "stdout"
        },
        {
          "output_type": "stream",
          "text": [
            "WARNING:tensorflow:From /tensorflow-1.15.0/python3.6/tensorflow_core/python/training/training_util.py:236: Variable.initialized_value (from tensorflow.python.ops.variables) is deprecated and will be removed in a future version.\n",
            "Instructions for updating:\n",
            "Use Variable.read_value. Variables in 2.X are initialized automatically both in eager and graph (inside tf.defun) contexts.\n"
          ],
          "name": "stderr"
        },
        {
          "output_type": "stream",
          "text": [
            "INFO:tensorflow:Calling model_fn.\n"
          ],
          "name": "stdout"
        },
        {
          "output_type": "stream",
          "text": [
            "INFO:tensorflow:Calling model_fn.\n"
          ],
          "name": "stderr"
        },
        {
          "output_type": "stream",
          "text": [
            "INFO:tensorflow:Saver not created because there are no variables in the graph to restore\n"
          ],
          "name": "stdout"
        },
        {
          "output_type": "stream",
          "text": [
            "INFO:tensorflow:Saver not created because there are no variables in the graph to restore\n"
          ],
          "name": "stderr"
        },
        {
          "output_type": "stream",
          "text": [
            "WARNING:tensorflow:From <ipython-input-18-bdfb628bf45b>:33: calling dropout (from tensorflow.python.ops.nn_ops) with keep_prob is deprecated and will be removed in a future version.\n",
            "Instructions for updating:\n",
            "Please use `rate` instead of `keep_prob`. Rate should be set to `rate = 1 - keep_prob`.\n"
          ],
          "name": "stdout"
        },
        {
          "output_type": "stream",
          "text": [
            "WARNING:tensorflow:From <ipython-input-18-bdfb628bf45b>:33: calling dropout (from tensorflow.python.ops.nn_ops) with keep_prob is deprecated and will be removed in a future version.\n",
            "Instructions for updating:\n",
            "Please use `rate` instead of `keep_prob`. Rate should be set to `rate = 1 - keep_prob`.\n"
          ],
          "name": "stderr"
        },
        {
          "output_type": "stream",
          "text": [
            "WARNING:tensorflow:From /usr/local/lib/python3.6/dist-packages/bert/optimization.py:27: The name tf.train.get_or_create_global_step is deprecated. Please use tf.compat.v1.train.get_or_create_global_step instead.\n",
            "\n"
          ],
          "name": "stdout"
        },
        {
          "output_type": "stream",
          "text": [
            "WARNING:tensorflow:From /usr/local/lib/python3.6/dist-packages/bert/optimization.py:27: The name tf.train.get_or_create_global_step is deprecated. Please use tf.compat.v1.train.get_or_create_global_step instead.\n",
            "\n"
          ],
          "name": "stderr"
        },
        {
          "output_type": "stream",
          "text": [
            "WARNING:tensorflow:From /usr/local/lib/python3.6/dist-packages/bert/optimization.py:32: The name tf.train.polynomial_decay is deprecated. Please use tf.compat.v1.train.polynomial_decay instead.\n",
            "\n"
          ],
          "name": "stdout"
        },
        {
          "output_type": "stream",
          "text": [
            "WARNING:tensorflow:From /usr/local/lib/python3.6/dist-packages/bert/optimization.py:32: The name tf.train.polynomial_decay is deprecated. Please use tf.compat.v1.train.polynomial_decay instead.\n",
            "\n"
          ],
          "name": "stderr"
        },
        {
          "output_type": "stream",
          "text": [
            "WARNING:tensorflow:From /usr/local/lib/python3.6/dist-packages/bert/optimization.py:70: The name tf.trainable_variables is deprecated. Please use tf.compat.v1.trainable_variables instead.\n",
            "\n"
          ],
          "name": "stdout"
        },
        {
          "output_type": "stream",
          "text": [
            "WARNING:tensorflow:From /usr/local/lib/python3.6/dist-packages/bert/optimization.py:70: The name tf.trainable_variables is deprecated. Please use tf.compat.v1.trainable_variables instead.\n",
            "\n"
          ],
          "name": "stderr"
        },
        {
          "output_type": "stream",
          "text": [
            "WARNING:tensorflow:From /tensorflow-1.15.0/python3.6/tensorflow_core/python/ops/math_grad.py:1375: where (from tensorflow.python.ops.array_ops) is deprecated and will be removed in a future version.\n",
            "Instructions for updating:\n",
            "Use tf.where in 2.0, which has the same broadcast rule as np.where\n"
          ],
          "name": "stdout"
        },
        {
          "output_type": "stream",
          "text": [
            "WARNING:tensorflow:From /tensorflow-1.15.0/python3.6/tensorflow_core/python/ops/math_grad.py:1375: where (from tensorflow.python.ops.array_ops) is deprecated and will be removed in a future version.\n",
            "Instructions for updating:\n",
            "Use tf.where in 2.0, which has the same broadcast rule as np.where\n",
            "/tensorflow-1.15.0/python3.6/tensorflow_core/python/framework/indexed_slices.py:424: UserWarning: Converting sparse IndexedSlices to a dense Tensor of unknown shape. This may consume a large amount of memory.\n",
            "  \"Converting sparse IndexedSlices to a dense Tensor of unknown shape. \"\n"
          ],
          "name": "stderr"
        },
        {
          "output_type": "stream",
          "text": [
            "INFO:tensorflow:Done calling model_fn.\n"
          ],
          "name": "stdout"
        },
        {
          "output_type": "stream",
          "text": [
            "INFO:tensorflow:Done calling model_fn.\n"
          ],
          "name": "stderr"
        },
        {
          "output_type": "stream",
          "text": [
            "INFO:tensorflow:Create CheckpointSaverHook.\n"
          ],
          "name": "stdout"
        },
        {
          "output_type": "stream",
          "text": [
            "INFO:tensorflow:Create CheckpointSaverHook.\n"
          ],
          "name": "stderr"
        },
        {
          "output_type": "stream",
          "text": [
            "INFO:tensorflow:Graph was finalized.\n"
          ],
          "name": "stdout"
        },
        {
          "output_type": "stream",
          "text": [
            "INFO:tensorflow:Graph was finalized.\n"
          ],
          "name": "stderr"
        },
        {
          "output_type": "stream",
          "text": [
            "INFO:tensorflow:Running local_init_op.\n"
          ],
          "name": "stdout"
        },
        {
          "output_type": "stream",
          "text": [
            "INFO:tensorflow:Running local_init_op.\n"
          ],
          "name": "stderr"
        },
        {
          "output_type": "stream",
          "text": [
            "INFO:tensorflow:Done running local_init_op.\n"
          ],
          "name": "stdout"
        },
        {
          "output_type": "stream",
          "text": [
            "INFO:tensorflow:Done running local_init_op.\n"
          ],
          "name": "stderr"
        },
        {
          "output_type": "stream",
          "text": [
            "INFO:tensorflow:Saving checkpoints for 0 into /genome_data/My Drive/Colab Notebooks/BERT/genome_data/model.ckpt.\n"
          ],
          "name": "stdout"
        },
        {
          "output_type": "stream",
          "text": [
            "INFO:tensorflow:Saving checkpoints for 0 into /genome_data/My Drive/Colab Notebooks/BERT/genome_data/model.ckpt.\n"
          ],
          "name": "stderr"
        },
        {
          "output_type": "stream",
          "text": [
            "INFO:tensorflow:loss = 1.3806467, step = 0\n"
          ],
          "name": "stdout"
        },
        {
          "output_type": "stream",
          "text": [
            "INFO:tensorflow:loss = 1.3806467, step = 0\n"
          ],
          "name": "stderr"
        },
        {
          "output_type": "stream",
          "text": [
            "INFO:tensorflow:global_step/sec: 0.644531\n"
          ],
          "name": "stdout"
        },
        {
          "output_type": "stream",
          "text": [
            "INFO:tensorflow:global_step/sec: 0.644531\n"
          ],
          "name": "stderr"
        },
        {
          "output_type": "stream",
          "text": [
            "INFO:tensorflow:loss = 1.4044104, step = 100 (155.154 sec)\n"
          ],
          "name": "stdout"
        },
        {
          "output_type": "stream",
          "text": [
            "INFO:tensorflow:loss = 1.4044104, step = 100 (155.154 sec)\n"
          ],
          "name": "stderr"
        },
        {
          "output_type": "stream",
          "text": [
            "INFO:tensorflow:global_step/sec: 0.701486\n"
          ],
          "name": "stdout"
        },
        {
          "output_type": "stream",
          "text": [
            "INFO:tensorflow:global_step/sec: 0.701486\n"
          ],
          "name": "stderr"
        },
        {
          "output_type": "stream",
          "text": [
            "INFO:tensorflow:loss = 1.339864, step = 200 (142.554 sec)\n"
          ],
          "name": "stdout"
        },
        {
          "output_type": "stream",
          "text": [
            "INFO:tensorflow:loss = 1.339864, step = 200 (142.554 sec)\n"
          ],
          "name": "stderr"
        },
        {
          "output_type": "stream",
          "text": [
            "INFO:tensorflow:Saving checkpoints for 300 into /genome_data/My Drive/Colab Notebooks/BERT/genome_data/model.ckpt.\n"
          ],
          "name": "stdout"
        },
        {
          "output_type": "stream",
          "text": [
            "INFO:tensorflow:Saving checkpoints for 300 into /genome_data/My Drive/Colab Notebooks/BERT/genome_data/model.ckpt.\n"
          ],
          "name": "stderr"
        },
        {
          "output_type": "stream",
          "text": [
            "INFO:tensorflow:global_step/sec: 0.670506\n"
          ],
          "name": "stdout"
        },
        {
          "output_type": "stream",
          "text": [
            "INFO:tensorflow:global_step/sec: 0.670506\n"
          ],
          "name": "stderr"
        },
        {
          "output_type": "stream",
          "text": [
            "INFO:tensorflow:loss = 0.90357625, step = 300 (149.142 sec)\n"
          ],
          "name": "stdout"
        },
        {
          "output_type": "stream",
          "text": [
            "INFO:tensorflow:loss = 0.90357625, step = 300 (149.142 sec)\n"
          ],
          "name": "stderr"
        },
        {
          "output_type": "stream",
          "text": [
            "INFO:tensorflow:global_step/sec: 0.700766\n"
          ],
          "name": "stdout"
        },
        {
          "output_type": "stream",
          "text": [
            "INFO:tensorflow:global_step/sec: 0.700766\n"
          ],
          "name": "stderr"
        },
        {
          "output_type": "stream",
          "text": [
            "INFO:tensorflow:loss = 0.6000093, step = 400 (142.699 sec)\n"
          ],
          "name": "stdout"
        },
        {
          "output_type": "stream",
          "text": [
            "INFO:tensorflow:loss = 0.6000093, step = 400 (142.699 sec)\n"
          ],
          "name": "stderr"
        },
        {
          "output_type": "stream",
          "text": [
            "INFO:tensorflow:Saving checkpoints for 480 into /genome_data/My Drive/Colab Notebooks/BERT/genome_data/model.ckpt.\n"
          ],
          "name": "stdout"
        },
        {
          "output_type": "stream",
          "text": [
            "INFO:tensorflow:Saving checkpoints for 480 into /genome_data/My Drive/Colab Notebooks/BERT/genome_data/model.ckpt.\n"
          ],
          "name": "stderr"
        },
        {
          "output_type": "stream",
          "text": [
            "INFO:tensorflow:Loss for final step: 0.37771952.\n"
          ],
          "name": "stdout"
        },
        {
          "output_type": "stream",
          "text": [
            "INFO:tensorflow:Loss for final step: 0.37771952.\n"
          ],
          "name": "stderr"
        },
        {
          "output_type": "stream",
          "text": [
            "Training took time  0:12:41.676022\n"
          ],
          "name": "stdout"
        }
      ]
    },
    {
      "cell_type": "code",
      "metadata": {
        "id": "ltEmqcfDLdtW",
        "colab_type": "code",
        "outputId": "e84bed11-aa81-4102-b21f-dabe4820c071",
        "colab": {
          "base_uri": "https://localhost:8080/",
          "height": 564
        }
      },
      "source": [
        "#Evaluating the model with Validation set\n",
        "estimator.evaluate(input_fn=val_input_fn, steps=None)"
      ],
      "execution_count": 0,
      "outputs": [
        {
          "output_type": "stream",
          "text": [
            "INFO:tensorflow:Calling model_fn.\n"
          ],
          "name": "stdout"
        },
        {
          "output_type": "stream",
          "text": [
            "INFO:tensorflow:Calling model_fn.\n"
          ],
          "name": "stderr"
        },
        {
          "output_type": "stream",
          "text": [
            "INFO:tensorflow:Saver not created because there are no variables in the graph to restore\n"
          ],
          "name": "stdout"
        },
        {
          "output_type": "stream",
          "text": [
            "INFO:tensorflow:Saver not created because there are no variables in the graph to restore\n",
            "/tensorflow-1.15.0/python3.6/tensorflow_core/python/framework/indexed_slices.py:424: UserWarning: Converting sparse IndexedSlices to a dense Tensor of unknown shape. This may consume a large amount of memory.\n",
            "  \"Converting sparse IndexedSlices to a dense Tensor of unknown shape. \"\n"
          ],
          "name": "stderr"
        },
        {
          "output_type": "stream",
          "text": [
            "INFO:tensorflow:Done calling model_fn.\n"
          ],
          "name": "stdout"
        },
        {
          "output_type": "stream",
          "text": [
            "INFO:tensorflow:Done calling model_fn.\n"
          ],
          "name": "stderr"
        },
        {
          "output_type": "stream",
          "text": [
            "INFO:tensorflow:Starting evaluation at 2020-03-21T15:47:48Z\n"
          ],
          "name": "stdout"
        },
        {
          "output_type": "stream",
          "text": [
            "INFO:tensorflow:Starting evaluation at 2020-03-21T15:47:48Z\n"
          ],
          "name": "stderr"
        },
        {
          "output_type": "stream",
          "text": [
            "INFO:tensorflow:Graph was finalized.\n"
          ],
          "name": "stdout"
        },
        {
          "output_type": "stream",
          "text": [
            "INFO:tensorflow:Graph was finalized.\n"
          ],
          "name": "stderr"
        },
        {
          "output_type": "stream",
          "text": [
            "INFO:tensorflow:Restoring parameters from /genome_data/My Drive/Colab Notebooks/BERT/genome_data/model.ckpt-480\n"
          ],
          "name": "stdout"
        },
        {
          "output_type": "stream",
          "text": [
            "INFO:tensorflow:Restoring parameters from /genome_data/My Drive/Colab Notebooks/BERT/genome_data/model.ckpt-480\n"
          ],
          "name": "stderr"
        },
        {
          "output_type": "stream",
          "text": [
            "INFO:tensorflow:Running local_init_op.\n"
          ],
          "name": "stdout"
        },
        {
          "output_type": "stream",
          "text": [
            "INFO:tensorflow:Running local_init_op.\n"
          ],
          "name": "stderr"
        },
        {
          "output_type": "stream",
          "text": [
            "INFO:tensorflow:Done running local_init_op.\n"
          ],
          "name": "stdout"
        },
        {
          "output_type": "stream",
          "text": [
            "INFO:tensorflow:Done running local_init_op.\n"
          ],
          "name": "stderr"
        },
        {
          "output_type": "stream",
          "text": [
            "INFO:tensorflow:Finished evaluation at 2020-03-21-15:48:14\n"
          ],
          "name": "stdout"
        },
        {
          "output_type": "stream",
          "text": [
            "INFO:tensorflow:Finished evaluation at 2020-03-21-15:48:14\n"
          ],
          "name": "stderr"
        },
        {
          "output_type": "stream",
          "text": [
            "INFO:tensorflow:Saving dict for global step 480: eval_accuracy = 0.89375, false_negatives = 24.0, false_positives = 38.0, global_step = 480, loss = 0.35719183, true_negatives = 284.0, true_positives = 934.0\n"
          ],
          "name": "stdout"
        },
        {
          "output_type": "stream",
          "text": [
            "INFO:tensorflow:Saving dict for global step 480: eval_accuracy = 0.89375, false_negatives = 24.0, false_positives = 38.0, global_step = 480, loss = 0.35719183, true_negatives = 284.0, true_positives = 934.0\n"
          ],
          "name": "stderr"
        },
        {
          "output_type": "stream",
          "text": [
            "INFO:tensorflow:Saving 'checkpoint_path' summary for global step 480: /genome_data/My Drive/Colab Notebooks/BERT/genome_data/model.ckpt-480\n"
          ],
          "name": "stdout"
        },
        {
          "output_type": "stream",
          "text": [
            "INFO:tensorflow:Saving 'checkpoint_path' summary for global step 480: /genome_data/My Drive/Colab Notebooks/BERT/genome_data/model.ckpt-480\n"
          ],
          "name": "stderr"
        },
        {
          "output_type": "execute_result",
          "data": {
            "text/plain": [
              "{'eval_accuracy': 0.89375,\n",
              " 'false_negatives': 24.0,\n",
              " 'false_positives': 38.0,\n",
              " 'global_step': 480,\n",
              " 'loss': 0.35719183,\n",
              " 'true_negatives': 284.0,\n",
              " 'true_positives': 934.0}"
            ]
          },
          "metadata": {
            "tags": []
          },
          "execution_count": 24
        }
      ]
    },
    {
      "cell_type": "code",
      "metadata": {
        "id": "zRqVdy9BNT9x",
        "colab_type": "code",
        "colab": {}
      },
      "source": [
        "# A method to get predictions\n",
        "def getPrediction(in_sentences):\n",
        "  #A list to map the actual labels to the predictions\n",
        "  labels = [\"empty\", \"gata_only\",\"tal1_only\",\"gata_tal1\"]\n",
        "\n",
        "  #Transforming the test data into BERT accepted form\n",
        "  input_examples = [run_classifier.InputExample(guid=\"\", text_a = x, text_b = None, label = 0) for x in in_sentences] \n",
        "  \n",
        "  #Creating input features for Test data\n",
        "  input_features = run_classifier.convert_examples_to_features(input_examples, label_list, MAX_SEQ_LENGTH, tokenizer)\n",
        "\n",
        "  #Predicting the classes \n",
        "  predict_input_fn = run_classifier.input_fn_builder(features=input_features, seq_length=MAX_SEQ_LENGTH, is_training=False, drop_remainder=False)\n",
        "  predictions = estimator.predict(predict_input_fn)\n",
        "  return [(sentence, prediction['probabilities'],prediction['labels'], labels[prediction['labels']]) for sentence, prediction in zip(in_sentences, predictions)]"
      ],
      "execution_count": 0,
      "outputs": []
    },
    {
      "cell_type": "code",
      "metadata": {
        "id": "yz91AlMINYmv",
        "colab_type": "code",
        "outputId": "f4beb4dd-a1ac-4eb1-eced-6d88a25e1b9b",
        "colab": {
          "base_uri": "https://localhost:8080/",
          "height": 1000
        }
      },
      "source": [
        "pred_sentences = list(test[0])\n",
        "predictions = getPrediction(pred_sentences)\n"
      ],
      "execution_count": 0,
      "outputs": [
        {
          "output_type": "stream",
          "text": [
            "INFO:tensorflow:Writing example 0 of 1600\n"
          ],
          "name": "stdout"
        },
        {
          "output_type": "stream",
          "text": [
            "INFO:tensorflow:Writing example 0 of 1600\n"
          ],
          "name": "stderr"
        },
        {
          "output_type": "stream",
          "text": [
            "INFO:tensorflow:*** Example ***\n"
          ],
          "name": "stdout"
        },
        {
          "output_type": "stream",
          "text": [
            "INFO:tensorflow:*** Example ***\n"
          ],
          "name": "stderr"
        },
        {
          "output_type": "stream",
          "text": [
            "INFO:tensorflow:guid: \n"
          ],
          "name": "stdout"
        },
        {
          "output_type": "stream",
          "text": [
            "INFO:tensorflow:guid: \n"
          ],
          "name": "stderr"
        },
        {
          "output_type": "stream",
          "text": [
            "INFO:tensorflow:tokens: [CLS] t g c t g t g c c a g a g t c g a a g a t a a g g t g a g c g t a g t t g a a a c a g a t g t g a c a g a t t t c g c c g t g c c c a t t g g g t a t t c g g c t c t g a a c a g a t g g t c t t c a g g a g c a a t t a a g a a t t t c a t t a t a a a a c c g c a t c t g a a c t g g a c t g g t g c t c t a g t a t c g g c t g c g c t g t t g g a c g g a t a a g c a t a t c t a c t t t t c a t t [SEP]\n"
          ],
          "name": "stdout"
        },
        {
          "output_type": "stream",
          "text": [
            "INFO:tensorflow:tokens: [CLS] t g c t g t g c c a g a g t c g a a g a t a a g g t g a g c g t a g t t g a a a c a g a t g t g a c a g a t t t c g c c g t g c c c a t t g g g t a t t c g g c t c t g a a c a g a t g g t c t t c a g g a g c a a t t a a g a a t t t c a t t a t a a a a c c g c a t c t g a a c t g g a c t g g t g c t c t a g t a t c g g c t g c g c t g t t g g a c g g a t a a g c a t a t c t a c t t t t c a t t [SEP]\n"
          ],
          "name": "stderr"
        },
        {
          "output_type": "stream",
          "text": [
            "INFO:tensorflow:input_ids: 101 1056 1043 1039 1056 1043 1056 1043 1039 1039 1037 1043 1037 1043 1056 1039 1043 1037 1037 1043 1037 1056 1037 1037 1043 1043 1056 1043 1037 1043 1039 1043 1056 1037 1043 1056 1056 1043 1037 1037 1037 1039 1037 1043 1037 1056 1043 1056 1043 1037 1039 1037 1043 1037 1056 1056 1056 1039 1043 1039 1039 1043 1056 1043 1039 1039 1039 1037 1056 1056 1043 1043 1043 1056 1037 1056 1056 1039 1043 1043 1039 1056 1039 1056 1043 1037 1037 1039 1037 1043 1037 1056 1043 1043 1056 1039 1056 1056 1039 1037 1043 1043 1037 1043 1039 1037 1037 1056 1056 1037 1037 1043 1037 1037 1056 1056 1056 1039 1037 1056 1056 1037 1056 1037 1037 1037 1037 1039 1039 1043 1039 1037 1056 1039 1056 1043 1037 1037 1039 1056 1043 1043 1037 1039 1056 1043 1043 1056 1043 1039 1056 1039 1056 1037 1043 1056 1037 1056 1039 1043 1043 1039 1056 1043 1039 1043 1039 1056 1043 1056 1056 1043 1043 1037 1039 1043 1043 1037 1056 1037 1037 1043 1039 1037 1056 1037 1056 1039 1056 1037 1039 1056 1056 1056 1056 1039 1037 1056 1056 102\n"
          ],
          "name": "stdout"
        },
        {
          "output_type": "stream",
          "text": [
            "INFO:tensorflow:input_ids: 101 1056 1043 1039 1056 1043 1056 1043 1039 1039 1037 1043 1037 1043 1056 1039 1043 1037 1037 1043 1037 1056 1037 1037 1043 1043 1056 1043 1037 1043 1039 1043 1056 1037 1043 1056 1056 1043 1037 1037 1037 1039 1037 1043 1037 1056 1043 1056 1043 1037 1039 1037 1043 1037 1056 1056 1056 1039 1043 1039 1039 1043 1056 1043 1039 1039 1039 1037 1056 1056 1043 1043 1043 1056 1037 1056 1056 1039 1043 1043 1039 1056 1039 1056 1043 1037 1037 1039 1037 1043 1037 1056 1043 1043 1056 1039 1056 1056 1039 1037 1043 1043 1037 1043 1039 1037 1037 1056 1056 1037 1037 1043 1037 1037 1056 1056 1056 1039 1037 1056 1056 1037 1056 1037 1037 1037 1037 1039 1039 1043 1039 1037 1056 1039 1056 1043 1037 1037 1039 1056 1043 1043 1037 1039 1056 1043 1043 1056 1043 1039 1056 1039 1056 1037 1043 1056 1037 1056 1039 1043 1043 1039 1056 1043 1039 1043 1039 1056 1043 1056 1056 1043 1043 1037 1039 1043 1043 1037 1056 1037 1037 1043 1039 1037 1056 1037 1056 1039 1056 1037 1039 1056 1056 1056 1056 1039 1037 1056 1056 102\n"
          ],
          "name": "stderr"
        },
        {
          "output_type": "stream",
          "text": [
            "INFO:tensorflow:input_mask: 1 1 1 1 1 1 1 1 1 1 1 1 1 1 1 1 1 1 1 1 1 1 1 1 1 1 1 1 1 1 1 1 1 1 1 1 1 1 1 1 1 1 1 1 1 1 1 1 1 1 1 1 1 1 1 1 1 1 1 1 1 1 1 1 1 1 1 1 1 1 1 1 1 1 1 1 1 1 1 1 1 1 1 1 1 1 1 1 1 1 1 1 1 1 1 1 1 1 1 1 1 1 1 1 1 1 1 1 1 1 1 1 1 1 1 1 1 1 1 1 1 1 1 1 1 1 1 1 1 1 1 1 1 1 1 1 1 1 1 1 1 1 1 1 1 1 1 1 1 1 1 1 1 1 1 1 1 1 1 1 1 1 1 1 1 1 1 1 1 1 1 1 1 1 1 1 1 1 1 1 1 1 1 1 1 1 1 1 1 1 1 1 1 1 1 1 1 1 1 1\n"
          ],
          "name": "stdout"
        },
        {
          "output_type": "stream",
          "text": [
            "INFO:tensorflow:input_mask: 1 1 1 1 1 1 1 1 1 1 1 1 1 1 1 1 1 1 1 1 1 1 1 1 1 1 1 1 1 1 1 1 1 1 1 1 1 1 1 1 1 1 1 1 1 1 1 1 1 1 1 1 1 1 1 1 1 1 1 1 1 1 1 1 1 1 1 1 1 1 1 1 1 1 1 1 1 1 1 1 1 1 1 1 1 1 1 1 1 1 1 1 1 1 1 1 1 1 1 1 1 1 1 1 1 1 1 1 1 1 1 1 1 1 1 1 1 1 1 1 1 1 1 1 1 1 1 1 1 1 1 1 1 1 1 1 1 1 1 1 1 1 1 1 1 1 1 1 1 1 1 1 1 1 1 1 1 1 1 1 1 1 1 1 1 1 1 1 1 1 1 1 1 1 1 1 1 1 1 1 1 1 1 1 1 1 1 1 1 1 1 1 1 1 1 1 1 1 1 1\n"
          ],
          "name": "stderr"
        },
        {
          "output_type": "stream",
          "text": [
            "INFO:tensorflow:segment_ids: 0 0 0 0 0 0 0 0 0 0 0 0 0 0 0 0 0 0 0 0 0 0 0 0 0 0 0 0 0 0 0 0 0 0 0 0 0 0 0 0 0 0 0 0 0 0 0 0 0 0 0 0 0 0 0 0 0 0 0 0 0 0 0 0 0 0 0 0 0 0 0 0 0 0 0 0 0 0 0 0 0 0 0 0 0 0 0 0 0 0 0 0 0 0 0 0 0 0 0 0 0 0 0 0 0 0 0 0 0 0 0 0 0 0 0 0 0 0 0 0 0 0 0 0 0 0 0 0 0 0 0 0 0 0 0 0 0 0 0 0 0 0 0 0 0 0 0 0 0 0 0 0 0 0 0 0 0 0 0 0 0 0 0 0 0 0 0 0 0 0 0 0 0 0 0 0 0 0 0 0 0 0 0 0 0 0 0 0 0 0 0 0 0 0 0 0 0 0 0 0\n"
          ],
          "name": "stdout"
        },
        {
          "output_type": "stream",
          "text": [
            "INFO:tensorflow:segment_ids: 0 0 0 0 0 0 0 0 0 0 0 0 0 0 0 0 0 0 0 0 0 0 0 0 0 0 0 0 0 0 0 0 0 0 0 0 0 0 0 0 0 0 0 0 0 0 0 0 0 0 0 0 0 0 0 0 0 0 0 0 0 0 0 0 0 0 0 0 0 0 0 0 0 0 0 0 0 0 0 0 0 0 0 0 0 0 0 0 0 0 0 0 0 0 0 0 0 0 0 0 0 0 0 0 0 0 0 0 0 0 0 0 0 0 0 0 0 0 0 0 0 0 0 0 0 0 0 0 0 0 0 0 0 0 0 0 0 0 0 0 0 0 0 0 0 0 0 0 0 0 0 0 0 0 0 0 0 0 0 0 0 0 0 0 0 0 0 0 0 0 0 0 0 0 0 0 0 0 0 0 0 0 0 0 0 0 0 0 0 0 0 0 0 0 0 0 0 0 0 0\n"
          ],
          "name": "stderr"
        },
        {
          "output_type": "stream",
          "text": [
            "INFO:tensorflow:label: 0 (id = 0)\n"
          ],
          "name": "stdout"
        },
        {
          "output_type": "stream",
          "text": [
            "INFO:tensorflow:label: 0 (id = 0)\n"
          ],
          "name": "stderr"
        },
        {
          "output_type": "stream",
          "text": [
            "INFO:tensorflow:*** Example ***\n"
          ],
          "name": "stdout"
        },
        {
          "output_type": "stream",
          "text": [
            "INFO:tensorflow:*** Example ***\n"
          ],
          "name": "stderr"
        },
        {
          "output_type": "stream",
          "text": [
            "INFO:tensorflow:guid: \n"
          ],
          "name": "stdout"
        },
        {
          "output_type": "stream",
          "text": [
            "INFO:tensorflow:guid: \n"
          ],
          "name": "stderr"
        },
        {
          "output_type": "stream",
          "text": [
            "INFO:tensorflow:tokens: [CLS] t a c c a c g g a c c a g a t g g t c g g g a a c c g t t a g g c g a a g c a c a t g c g g t c a a a a t t a c t t t c t g g g t c t g g a g c t g c g a c g g c c c c a t g a c g a a a g g a t t g c g c g c g g g g g c t a a a t t a a t g a t g g t c g c t g c g c a c c t c a g c c g g t t g t t a g a a a t c t t t a a c a c a g a t g g a c t c g g a g c c t t a a t g c g c g t c c g t a c a [SEP]\n"
          ],
          "name": "stdout"
        },
        {
          "output_type": "stream",
          "text": [
            "INFO:tensorflow:tokens: [CLS] t a c c a c g g a c c a g a t g g t c g g g a a c c g t t a g g c g a a g c a c a t g c g g t c a a a a t t a c t t t c t g g g t c t g g a g c t g c g a c g g c c c c a t g a c g a a a g g a t t g c g c g c g g g g g c t a a a t t a a t g a t g g t c g c t g c g c a c c t c a g c c g g t t g t t a g a a a t c t t t a a c a c a g a t g g a c t c g g a g c c t t a a t g c g c g t c c g t a c a [SEP]\n"
          ],
          "name": "stderr"
        },
        {
          "output_type": "stream",
          "text": [
            "INFO:tensorflow:input_ids: 101 1056 1037 1039 1039 1037 1039 1043 1043 1037 1039 1039 1037 1043 1037 1056 1043 1043 1056 1039 1043 1043 1043 1037 1037 1039 1039 1043 1056 1056 1037 1043 1043 1039 1043 1037 1037 1043 1039 1037 1039 1037 1056 1043 1039 1043 1043 1056 1039 1037 1037 1037 1037 1056 1056 1037 1039 1056 1056 1056 1039 1056 1043 1043 1043 1056 1039 1056 1043 1043 1037 1043 1039 1056 1043 1039 1043 1037 1039 1043 1043 1039 1039 1039 1039 1037 1056 1043 1037 1039 1043 1037 1037 1037 1043 1043 1037 1056 1056 1043 1039 1043 1039 1043 1039 1043 1043 1043 1043 1043 1039 1056 1037 1037 1037 1056 1056 1037 1037 1056 1043 1037 1056 1043 1043 1056 1039 1043 1039 1056 1043 1039 1043 1039 1037 1039 1039 1056 1039 1037 1043 1039 1039 1043 1043 1056 1056 1043 1056 1056 1037 1043 1037 1037 1037 1056 1039 1056 1056 1056 1037 1037 1039 1037 1039 1037 1043 1037 1056 1043 1043 1037 1039 1056 1039 1043 1043 1037 1043 1039 1039 1056 1056 1037 1037 1056 1043 1039 1043 1039 1043 1056 1039 1039 1043 1056 1037 1039 1037 102\n"
          ],
          "name": "stdout"
        },
        {
          "output_type": "stream",
          "text": [
            "INFO:tensorflow:input_ids: 101 1056 1037 1039 1039 1037 1039 1043 1043 1037 1039 1039 1037 1043 1037 1056 1043 1043 1056 1039 1043 1043 1043 1037 1037 1039 1039 1043 1056 1056 1037 1043 1043 1039 1043 1037 1037 1043 1039 1037 1039 1037 1056 1043 1039 1043 1043 1056 1039 1037 1037 1037 1037 1056 1056 1037 1039 1056 1056 1056 1039 1056 1043 1043 1043 1056 1039 1056 1043 1043 1037 1043 1039 1056 1043 1039 1043 1037 1039 1043 1043 1039 1039 1039 1039 1037 1056 1043 1037 1039 1043 1037 1037 1037 1043 1043 1037 1056 1056 1043 1039 1043 1039 1043 1039 1043 1043 1043 1043 1043 1039 1056 1037 1037 1037 1056 1056 1037 1037 1056 1043 1037 1056 1043 1043 1056 1039 1043 1039 1056 1043 1039 1043 1039 1037 1039 1039 1056 1039 1037 1043 1039 1039 1043 1043 1056 1056 1043 1056 1056 1037 1043 1037 1037 1037 1056 1039 1056 1056 1056 1037 1037 1039 1037 1039 1037 1043 1037 1056 1043 1043 1037 1039 1056 1039 1043 1043 1037 1043 1039 1039 1056 1056 1037 1037 1056 1043 1039 1043 1039 1043 1056 1039 1039 1043 1056 1037 1039 1037 102\n"
          ],
          "name": "stderr"
        },
        {
          "output_type": "stream",
          "text": [
            "INFO:tensorflow:input_mask: 1 1 1 1 1 1 1 1 1 1 1 1 1 1 1 1 1 1 1 1 1 1 1 1 1 1 1 1 1 1 1 1 1 1 1 1 1 1 1 1 1 1 1 1 1 1 1 1 1 1 1 1 1 1 1 1 1 1 1 1 1 1 1 1 1 1 1 1 1 1 1 1 1 1 1 1 1 1 1 1 1 1 1 1 1 1 1 1 1 1 1 1 1 1 1 1 1 1 1 1 1 1 1 1 1 1 1 1 1 1 1 1 1 1 1 1 1 1 1 1 1 1 1 1 1 1 1 1 1 1 1 1 1 1 1 1 1 1 1 1 1 1 1 1 1 1 1 1 1 1 1 1 1 1 1 1 1 1 1 1 1 1 1 1 1 1 1 1 1 1 1 1 1 1 1 1 1 1 1 1 1 1 1 1 1 1 1 1 1 1 1 1 1 1 1 1 1 1 1 1\n"
          ],
          "name": "stdout"
        },
        {
          "output_type": "stream",
          "text": [
            "INFO:tensorflow:input_mask: 1 1 1 1 1 1 1 1 1 1 1 1 1 1 1 1 1 1 1 1 1 1 1 1 1 1 1 1 1 1 1 1 1 1 1 1 1 1 1 1 1 1 1 1 1 1 1 1 1 1 1 1 1 1 1 1 1 1 1 1 1 1 1 1 1 1 1 1 1 1 1 1 1 1 1 1 1 1 1 1 1 1 1 1 1 1 1 1 1 1 1 1 1 1 1 1 1 1 1 1 1 1 1 1 1 1 1 1 1 1 1 1 1 1 1 1 1 1 1 1 1 1 1 1 1 1 1 1 1 1 1 1 1 1 1 1 1 1 1 1 1 1 1 1 1 1 1 1 1 1 1 1 1 1 1 1 1 1 1 1 1 1 1 1 1 1 1 1 1 1 1 1 1 1 1 1 1 1 1 1 1 1 1 1 1 1 1 1 1 1 1 1 1 1 1 1 1 1 1 1\n"
          ],
          "name": "stderr"
        },
        {
          "output_type": "stream",
          "text": [
            "INFO:tensorflow:segment_ids: 0 0 0 0 0 0 0 0 0 0 0 0 0 0 0 0 0 0 0 0 0 0 0 0 0 0 0 0 0 0 0 0 0 0 0 0 0 0 0 0 0 0 0 0 0 0 0 0 0 0 0 0 0 0 0 0 0 0 0 0 0 0 0 0 0 0 0 0 0 0 0 0 0 0 0 0 0 0 0 0 0 0 0 0 0 0 0 0 0 0 0 0 0 0 0 0 0 0 0 0 0 0 0 0 0 0 0 0 0 0 0 0 0 0 0 0 0 0 0 0 0 0 0 0 0 0 0 0 0 0 0 0 0 0 0 0 0 0 0 0 0 0 0 0 0 0 0 0 0 0 0 0 0 0 0 0 0 0 0 0 0 0 0 0 0 0 0 0 0 0 0 0 0 0 0 0 0 0 0 0 0 0 0 0 0 0 0 0 0 0 0 0 0 0 0 0 0 0 0 0\n"
          ],
          "name": "stdout"
        },
        {
          "output_type": "stream",
          "text": [
            "INFO:tensorflow:segment_ids: 0 0 0 0 0 0 0 0 0 0 0 0 0 0 0 0 0 0 0 0 0 0 0 0 0 0 0 0 0 0 0 0 0 0 0 0 0 0 0 0 0 0 0 0 0 0 0 0 0 0 0 0 0 0 0 0 0 0 0 0 0 0 0 0 0 0 0 0 0 0 0 0 0 0 0 0 0 0 0 0 0 0 0 0 0 0 0 0 0 0 0 0 0 0 0 0 0 0 0 0 0 0 0 0 0 0 0 0 0 0 0 0 0 0 0 0 0 0 0 0 0 0 0 0 0 0 0 0 0 0 0 0 0 0 0 0 0 0 0 0 0 0 0 0 0 0 0 0 0 0 0 0 0 0 0 0 0 0 0 0 0 0 0 0 0 0 0 0 0 0 0 0 0 0 0 0 0 0 0 0 0 0 0 0 0 0 0 0 0 0 0 0 0 0 0 0 0 0 0 0\n"
          ],
          "name": "stderr"
        },
        {
          "output_type": "stream",
          "text": [
            "INFO:tensorflow:label: 0 (id = 0)\n"
          ],
          "name": "stdout"
        },
        {
          "output_type": "stream",
          "text": [
            "INFO:tensorflow:label: 0 (id = 0)\n"
          ],
          "name": "stderr"
        },
        {
          "output_type": "stream",
          "text": [
            "INFO:tensorflow:*** Example ***\n"
          ],
          "name": "stdout"
        },
        {
          "output_type": "stream",
          "text": [
            "INFO:tensorflow:*** Example ***\n"
          ],
          "name": "stderr"
        },
        {
          "output_type": "stream",
          "text": [
            "INFO:tensorflow:guid: \n"
          ],
          "name": "stdout"
        },
        {
          "output_type": "stream",
          "text": [
            "INFO:tensorflow:guid: \n"
          ],
          "name": "stderr"
        },
        {
          "output_type": "stream",
          "text": [
            "INFO:tensorflow:tokens: [CLS] a t g a c t g a a a a t a c t a c t t a a a a a t t c g a t c g a g g t g g t t a g t a c a g c c g a a g t g t t g t g a t t a t a a a a t t g c t c c c a a c a g a t g g t c a t a c g t a g t a t a g t c c t t g g a a t a g t t g a c c a t a t a a t t t a a c c a t t g g c a c c c c a a c a c t c c c t g a a c c g c t g c g t t a t g t g c a c t a t a a a t a c a g t a c g t c c c g a a a a [SEP]\n"
          ],
          "name": "stdout"
        },
        {
          "output_type": "stream",
          "text": [
            "INFO:tensorflow:tokens: [CLS] a t g a c t g a a a a t a c t a c t t a a a a a t t c g a t c g a g g t g g t t a g t a c a g c c g a a g t g t t g t g a t t a t a a a a t t g c t c c c a a c a g a t g g t c a t a c g t a g t a t a g t c c t t g g a a t a g t t g a c c a t a t a a t t t a a c c a t t g g c a c c c c a a c a c t c c c t g a a c c g c t g c g t t a t g t g c a c t a t a a a t a c a g t a c g t c c c g a a a a [SEP]\n"
          ],
          "name": "stderr"
        },
        {
          "output_type": "stream",
          "text": [
            "INFO:tensorflow:input_ids: 101 1037 1056 1043 1037 1039 1056 1043 1037 1037 1037 1037 1056 1037 1039 1056 1037 1039 1056 1056 1037 1037 1037 1037 1037 1056 1056 1039 1043 1037 1056 1039 1043 1037 1043 1043 1056 1043 1043 1056 1056 1037 1043 1056 1037 1039 1037 1043 1039 1039 1043 1037 1037 1043 1056 1043 1056 1056 1043 1056 1043 1037 1056 1056 1037 1056 1037 1037 1037 1037 1056 1056 1043 1039 1056 1039 1039 1039 1037 1037 1039 1037 1043 1037 1056 1043 1043 1056 1039 1037 1056 1037 1039 1043 1056 1037 1043 1056 1037 1056 1037 1043 1056 1039 1039 1056 1056 1043 1043 1037 1037 1056 1037 1043 1056 1056 1043 1037 1039 1039 1037 1056 1037 1056 1037 1037 1056 1056 1056 1037 1037 1039 1039 1037 1056 1056 1043 1043 1039 1037 1039 1039 1039 1039 1037 1037 1039 1037 1039 1056 1039 1039 1039 1056 1043 1037 1037 1039 1039 1043 1039 1056 1043 1039 1043 1056 1056 1037 1056 1043 1056 1043 1039 1037 1039 1056 1037 1056 1037 1037 1037 1056 1037 1039 1037 1043 1056 1037 1039 1043 1056 1039 1039 1039 1043 1037 1037 1037 1037 102\n"
          ],
          "name": "stdout"
        },
        {
          "output_type": "stream",
          "text": [
            "INFO:tensorflow:input_ids: 101 1037 1056 1043 1037 1039 1056 1043 1037 1037 1037 1037 1056 1037 1039 1056 1037 1039 1056 1056 1037 1037 1037 1037 1037 1056 1056 1039 1043 1037 1056 1039 1043 1037 1043 1043 1056 1043 1043 1056 1056 1037 1043 1056 1037 1039 1037 1043 1039 1039 1043 1037 1037 1043 1056 1043 1056 1056 1043 1056 1043 1037 1056 1056 1037 1056 1037 1037 1037 1037 1056 1056 1043 1039 1056 1039 1039 1039 1037 1037 1039 1037 1043 1037 1056 1043 1043 1056 1039 1037 1056 1037 1039 1043 1056 1037 1043 1056 1037 1056 1037 1043 1056 1039 1039 1056 1056 1043 1043 1037 1037 1056 1037 1043 1056 1056 1043 1037 1039 1039 1037 1056 1037 1056 1037 1037 1056 1056 1056 1037 1037 1039 1039 1037 1056 1056 1043 1043 1039 1037 1039 1039 1039 1039 1037 1037 1039 1037 1039 1056 1039 1039 1039 1056 1043 1037 1037 1039 1039 1043 1039 1056 1043 1039 1043 1056 1056 1037 1056 1043 1056 1043 1039 1037 1039 1056 1037 1056 1037 1037 1037 1056 1037 1039 1037 1043 1056 1037 1039 1043 1056 1039 1039 1039 1043 1037 1037 1037 1037 102\n"
          ],
          "name": "stderr"
        },
        {
          "output_type": "stream",
          "text": [
            "INFO:tensorflow:input_mask: 1 1 1 1 1 1 1 1 1 1 1 1 1 1 1 1 1 1 1 1 1 1 1 1 1 1 1 1 1 1 1 1 1 1 1 1 1 1 1 1 1 1 1 1 1 1 1 1 1 1 1 1 1 1 1 1 1 1 1 1 1 1 1 1 1 1 1 1 1 1 1 1 1 1 1 1 1 1 1 1 1 1 1 1 1 1 1 1 1 1 1 1 1 1 1 1 1 1 1 1 1 1 1 1 1 1 1 1 1 1 1 1 1 1 1 1 1 1 1 1 1 1 1 1 1 1 1 1 1 1 1 1 1 1 1 1 1 1 1 1 1 1 1 1 1 1 1 1 1 1 1 1 1 1 1 1 1 1 1 1 1 1 1 1 1 1 1 1 1 1 1 1 1 1 1 1 1 1 1 1 1 1 1 1 1 1 1 1 1 1 1 1 1 1 1 1 1 1 1 1\n"
          ],
          "name": "stdout"
        },
        {
          "output_type": "stream",
          "text": [
            "INFO:tensorflow:input_mask: 1 1 1 1 1 1 1 1 1 1 1 1 1 1 1 1 1 1 1 1 1 1 1 1 1 1 1 1 1 1 1 1 1 1 1 1 1 1 1 1 1 1 1 1 1 1 1 1 1 1 1 1 1 1 1 1 1 1 1 1 1 1 1 1 1 1 1 1 1 1 1 1 1 1 1 1 1 1 1 1 1 1 1 1 1 1 1 1 1 1 1 1 1 1 1 1 1 1 1 1 1 1 1 1 1 1 1 1 1 1 1 1 1 1 1 1 1 1 1 1 1 1 1 1 1 1 1 1 1 1 1 1 1 1 1 1 1 1 1 1 1 1 1 1 1 1 1 1 1 1 1 1 1 1 1 1 1 1 1 1 1 1 1 1 1 1 1 1 1 1 1 1 1 1 1 1 1 1 1 1 1 1 1 1 1 1 1 1 1 1 1 1 1 1 1 1 1 1 1 1\n"
          ],
          "name": "stderr"
        },
        {
          "output_type": "stream",
          "text": [
            "INFO:tensorflow:segment_ids: 0 0 0 0 0 0 0 0 0 0 0 0 0 0 0 0 0 0 0 0 0 0 0 0 0 0 0 0 0 0 0 0 0 0 0 0 0 0 0 0 0 0 0 0 0 0 0 0 0 0 0 0 0 0 0 0 0 0 0 0 0 0 0 0 0 0 0 0 0 0 0 0 0 0 0 0 0 0 0 0 0 0 0 0 0 0 0 0 0 0 0 0 0 0 0 0 0 0 0 0 0 0 0 0 0 0 0 0 0 0 0 0 0 0 0 0 0 0 0 0 0 0 0 0 0 0 0 0 0 0 0 0 0 0 0 0 0 0 0 0 0 0 0 0 0 0 0 0 0 0 0 0 0 0 0 0 0 0 0 0 0 0 0 0 0 0 0 0 0 0 0 0 0 0 0 0 0 0 0 0 0 0 0 0 0 0 0 0 0 0 0 0 0 0 0 0 0 0 0 0\n"
          ],
          "name": "stdout"
        },
        {
          "output_type": "stream",
          "text": [
            "INFO:tensorflow:segment_ids: 0 0 0 0 0 0 0 0 0 0 0 0 0 0 0 0 0 0 0 0 0 0 0 0 0 0 0 0 0 0 0 0 0 0 0 0 0 0 0 0 0 0 0 0 0 0 0 0 0 0 0 0 0 0 0 0 0 0 0 0 0 0 0 0 0 0 0 0 0 0 0 0 0 0 0 0 0 0 0 0 0 0 0 0 0 0 0 0 0 0 0 0 0 0 0 0 0 0 0 0 0 0 0 0 0 0 0 0 0 0 0 0 0 0 0 0 0 0 0 0 0 0 0 0 0 0 0 0 0 0 0 0 0 0 0 0 0 0 0 0 0 0 0 0 0 0 0 0 0 0 0 0 0 0 0 0 0 0 0 0 0 0 0 0 0 0 0 0 0 0 0 0 0 0 0 0 0 0 0 0 0 0 0 0 0 0 0 0 0 0 0 0 0 0 0 0 0 0 0 0\n"
          ],
          "name": "stderr"
        },
        {
          "output_type": "stream",
          "text": [
            "INFO:tensorflow:label: 0 (id = 0)\n"
          ],
          "name": "stdout"
        },
        {
          "output_type": "stream",
          "text": [
            "INFO:tensorflow:label: 0 (id = 0)\n"
          ],
          "name": "stderr"
        },
        {
          "output_type": "stream",
          "text": [
            "INFO:tensorflow:*** Example ***\n"
          ],
          "name": "stdout"
        },
        {
          "output_type": "stream",
          "text": [
            "INFO:tensorflow:*** Example ***\n"
          ],
          "name": "stderr"
        },
        {
          "output_type": "stream",
          "text": [
            "INFO:tensorflow:guid: \n"
          ],
          "name": "stdout"
        },
        {
          "output_type": "stream",
          "text": [
            "INFO:tensorflow:guid: \n"
          ],
          "name": "stderr"
        },
        {
          "output_type": "stream",
          "text": [
            "INFO:tensorflow:tokens: [CLS] a a g t c c g g c a a t t a c t t a a t a a a g a a a t c a a c a g a t g g t t a c a c a t g a g a t t a g g a g a t g a g g c g a g t t c g c c a g g t a g a t c t a t t t c g a a g t t a g t c g t g a t t a a c t c g a g g a t c a t g t a a t a a a g a g g t a c g a c t a a g g t c g a a c g t a t t g g g g t g t t t a c c c t a a a a g g t g t a g c t a t g g t g a t a a c g g t t c t a a [SEP]\n"
          ],
          "name": "stdout"
        },
        {
          "output_type": "stream",
          "text": [
            "INFO:tensorflow:tokens: [CLS] a a g t c c g g c a a t t a c t t a a t a a a g a a a t c a a c a g a t g g t t a c a c a t g a g a t t a g g a g a t g a g g c g a g t t c g c c a g g t a g a t c t a t t t c g a a g t t a g t c g t g a t t a a c t c g a g g a t c a t g t a a t a a a g a g g t a c g a c t a a g g t c g a a c g t a t t g g g g t g t t t a c c c t a a a a g g t g t a g c t a t g g t g a t a a c g g t t c t a a [SEP]\n"
          ],
          "name": "stderr"
        },
        {
          "output_type": "stream",
          "text": [
            "INFO:tensorflow:input_ids: 101 1037 1037 1043 1056 1039 1039 1043 1043 1039 1037 1037 1056 1056 1037 1039 1056 1056 1037 1037 1056 1037 1037 1037 1043 1037 1037 1037 1056 1039 1037 1037 1039 1037 1043 1037 1056 1043 1043 1056 1056 1037 1039 1037 1039 1037 1056 1043 1037 1043 1037 1056 1056 1037 1043 1043 1037 1043 1037 1056 1043 1037 1043 1043 1039 1043 1037 1043 1056 1056 1039 1043 1039 1039 1037 1043 1043 1056 1037 1043 1037 1056 1039 1056 1037 1056 1056 1056 1039 1043 1037 1037 1043 1056 1056 1037 1043 1056 1039 1043 1056 1043 1037 1056 1056 1037 1037 1039 1056 1039 1043 1037 1043 1043 1037 1056 1039 1037 1056 1043 1056 1037 1037 1056 1037 1037 1037 1043 1037 1043 1043 1056 1037 1039 1043 1037 1039 1056 1037 1037 1043 1043 1056 1039 1043 1037 1037 1039 1043 1056 1037 1056 1056 1043 1043 1043 1043 1056 1043 1056 1056 1056 1037 1039 1039 1039 1056 1037 1037 1037 1037 1043 1043 1056 1043 1056 1037 1043 1039 1056 1037 1056 1043 1043 1056 1043 1037 1056 1037 1037 1039 1043 1043 1056 1056 1039 1056 1037 1037 102\n"
          ],
          "name": "stdout"
        },
        {
          "output_type": "stream",
          "text": [
            "INFO:tensorflow:input_ids: 101 1037 1037 1043 1056 1039 1039 1043 1043 1039 1037 1037 1056 1056 1037 1039 1056 1056 1037 1037 1056 1037 1037 1037 1043 1037 1037 1037 1056 1039 1037 1037 1039 1037 1043 1037 1056 1043 1043 1056 1056 1037 1039 1037 1039 1037 1056 1043 1037 1043 1037 1056 1056 1037 1043 1043 1037 1043 1037 1056 1043 1037 1043 1043 1039 1043 1037 1043 1056 1056 1039 1043 1039 1039 1037 1043 1043 1056 1037 1043 1037 1056 1039 1056 1037 1056 1056 1056 1039 1043 1037 1037 1043 1056 1056 1037 1043 1056 1039 1043 1056 1043 1037 1056 1056 1037 1037 1039 1056 1039 1043 1037 1043 1043 1037 1056 1039 1037 1056 1043 1056 1037 1037 1056 1037 1037 1037 1043 1037 1043 1043 1056 1037 1039 1043 1037 1039 1056 1037 1037 1043 1043 1056 1039 1043 1037 1037 1039 1043 1056 1037 1056 1056 1043 1043 1043 1043 1056 1043 1056 1056 1056 1037 1039 1039 1039 1056 1037 1037 1037 1037 1043 1043 1056 1043 1056 1037 1043 1039 1056 1037 1056 1043 1043 1056 1043 1037 1056 1037 1037 1039 1043 1043 1056 1056 1039 1056 1037 1037 102\n"
          ],
          "name": "stderr"
        },
        {
          "output_type": "stream",
          "text": [
            "INFO:tensorflow:input_mask: 1 1 1 1 1 1 1 1 1 1 1 1 1 1 1 1 1 1 1 1 1 1 1 1 1 1 1 1 1 1 1 1 1 1 1 1 1 1 1 1 1 1 1 1 1 1 1 1 1 1 1 1 1 1 1 1 1 1 1 1 1 1 1 1 1 1 1 1 1 1 1 1 1 1 1 1 1 1 1 1 1 1 1 1 1 1 1 1 1 1 1 1 1 1 1 1 1 1 1 1 1 1 1 1 1 1 1 1 1 1 1 1 1 1 1 1 1 1 1 1 1 1 1 1 1 1 1 1 1 1 1 1 1 1 1 1 1 1 1 1 1 1 1 1 1 1 1 1 1 1 1 1 1 1 1 1 1 1 1 1 1 1 1 1 1 1 1 1 1 1 1 1 1 1 1 1 1 1 1 1 1 1 1 1 1 1 1 1 1 1 1 1 1 1 1 1 1 1 1 1\n"
          ],
          "name": "stdout"
        },
        {
          "output_type": "stream",
          "text": [
            "INFO:tensorflow:input_mask: 1 1 1 1 1 1 1 1 1 1 1 1 1 1 1 1 1 1 1 1 1 1 1 1 1 1 1 1 1 1 1 1 1 1 1 1 1 1 1 1 1 1 1 1 1 1 1 1 1 1 1 1 1 1 1 1 1 1 1 1 1 1 1 1 1 1 1 1 1 1 1 1 1 1 1 1 1 1 1 1 1 1 1 1 1 1 1 1 1 1 1 1 1 1 1 1 1 1 1 1 1 1 1 1 1 1 1 1 1 1 1 1 1 1 1 1 1 1 1 1 1 1 1 1 1 1 1 1 1 1 1 1 1 1 1 1 1 1 1 1 1 1 1 1 1 1 1 1 1 1 1 1 1 1 1 1 1 1 1 1 1 1 1 1 1 1 1 1 1 1 1 1 1 1 1 1 1 1 1 1 1 1 1 1 1 1 1 1 1 1 1 1 1 1 1 1 1 1 1 1\n"
          ],
          "name": "stderr"
        },
        {
          "output_type": "stream",
          "text": [
            "INFO:tensorflow:segment_ids: 0 0 0 0 0 0 0 0 0 0 0 0 0 0 0 0 0 0 0 0 0 0 0 0 0 0 0 0 0 0 0 0 0 0 0 0 0 0 0 0 0 0 0 0 0 0 0 0 0 0 0 0 0 0 0 0 0 0 0 0 0 0 0 0 0 0 0 0 0 0 0 0 0 0 0 0 0 0 0 0 0 0 0 0 0 0 0 0 0 0 0 0 0 0 0 0 0 0 0 0 0 0 0 0 0 0 0 0 0 0 0 0 0 0 0 0 0 0 0 0 0 0 0 0 0 0 0 0 0 0 0 0 0 0 0 0 0 0 0 0 0 0 0 0 0 0 0 0 0 0 0 0 0 0 0 0 0 0 0 0 0 0 0 0 0 0 0 0 0 0 0 0 0 0 0 0 0 0 0 0 0 0 0 0 0 0 0 0 0 0 0 0 0 0 0 0 0 0 0 0\n"
          ],
          "name": "stdout"
        },
        {
          "output_type": "stream",
          "text": [
            "INFO:tensorflow:segment_ids: 0 0 0 0 0 0 0 0 0 0 0 0 0 0 0 0 0 0 0 0 0 0 0 0 0 0 0 0 0 0 0 0 0 0 0 0 0 0 0 0 0 0 0 0 0 0 0 0 0 0 0 0 0 0 0 0 0 0 0 0 0 0 0 0 0 0 0 0 0 0 0 0 0 0 0 0 0 0 0 0 0 0 0 0 0 0 0 0 0 0 0 0 0 0 0 0 0 0 0 0 0 0 0 0 0 0 0 0 0 0 0 0 0 0 0 0 0 0 0 0 0 0 0 0 0 0 0 0 0 0 0 0 0 0 0 0 0 0 0 0 0 0 0 0 0 0 0 0 0 0 0 0 0 0 0 0 0 0 0 0 0 0 0 0 0 0 0 0 0 0 0 0 0 0 0 0 0 0 0 0 0 0 0 0 0 0 0 0 0 0 0 0 0 0 0 0 0 0 0 0\n"
          ],
          "name": "stderr"
        },
        {
          "output_type": "stream",
          "text": [
            "INFO:tensorflow:label: 0 (id = 0)\n"
          ],
          "name": "stdout"
        },
        {
          "output_type": "stream",
          "text": [
            "INFO:tensorflow:label: 0 (id = 0)\n"
          ],
          "name": "stderr"
        },
        {
          "output_type": "stream",
          "text": [
            "INFO:tensorflow:*** Example ***\n"
          ],
          "name": "stdout"
        },
        {
          "output_type": "stream",
          "text": [
            "INFO:tensorflow:*** Example ***\n"
          ],
          "name": "stderr"
        },
        {
          "output_type": "stream",
          "text": [
            "INFO:tensorflow:guid: \n"
          ],
          "name": "stdout"
        },
        {
          "output_type": "stream",
          "text": [
            "INFO:tensorflow:guid: \n"
          ],
          "name": "stderr"
        },
        {
          "output_type": "stream",
          "text": [
            "INFO:tensorflow:tokens: [CLS] g c g t c a g t g t g g g a t t a t t g t a c c g g t a a a t t t t t g t a a t a a g a t g t c g c g a a a c a a g t t g g c c a c t c g a g c a g a t g t c t a c t c a a t t g t t c g g c t a g t c a t t a g c g g t a c c g t t c g t t t t t t t c a a c t g g g g a g a g a c a g c g a g c t a g c a a a c a c g t a c t t t a g c c c a a a a a t a t c t a g c g c c c c g c a g a t a a g g t g [SEP]\n"
          ],
          "name": "stdout"
        },
        {
          "output_type": "stream",
          "text": [
            "INFO:tensorflow:tokens: [CLS] g c g t c a g t g t g g g a t t a t t g t a c c g g t a a a t t t t t g t a a t a a g a t g t c g c g a a a c a a g t t g g c c a c t c g a g c a g a t g t c t a c t c a a t t g t t c g g c t a g t c a t t a g c g g t a c c g t t c g t t t t t t t c a a c t g g g g a g a g a c a g c g a g c t a g c a a a c a c g t a c t t t a g c c c a a a a a t a t c t a g c g c c c c g c a g a t a a g g t g [SEP]\n"
          ],
          "name": "stderr"
        },
        {
          "output_type": "stream",
          "text": [
            "INFO:tensorflow:input_ids: 101 1043 1039 1043 1056 1039 1037 1043 1056 1043 1056 1043 1043 1043 1037 1056 1056 1037 1056 1056 1043 1056 1037 1039 1039 1043 1043 1056 1037 1037 1037 1056 1056 1056 1056 1056 1043 1056 1037 1037 1056 1037 1037 1043 1037 1056 1043 1056 1039 1043 1039 1043 1037 1037 1037 1039 1037 1037 1043 1056 1056 1043 1043 1039 1039 1037 1039 1056 1039 1043 1037 1043 1039 1037 1043 1037 1056 1043 1056 1039 1056 1037 1039 1056 1039 1037 1037 1056 1056 1043 1056 1056 1039 1043 1043 1039 1056 1037 1043 1056 1039 1037 1056 1056 1037 1043 1039 1043 1043 1056 1037 1039 1039 1043 1056 1056 1039 1043 1056 1056 1056 1056 1056 1056 1056 1039 1037 1037 1039 1056 1043 1043 1043 1043 1037 1043 1037 1043 1037 1039 1037 1043 1039 1043 1037 1043 1039 1056 1037 1043 1039 1037 1037 1037 1039 1037 1039 1043 1056 1037 1039 1056 1056 1056 1037 1043 1039 1039 1039 1037 1037 1037 1037 1037 1056 1037 1056 1039 1056 1037 1043 1039 1043 1039 1039 1039 1039 1043 1039 1037 1043 1037 1056 1037 1037 1043 1043 1056 1043 102\n"
          ],
          "name": "stdout"
        },
        {
          "output_type": "stream",
          "text": [
            "INFO:tensorflow:input_ids: 101 1043 1039 1043 1056 1039 1037 1043 1056 1043 1056 1043 1043 1043 1037 1056 1056 1037 1056 1056 1043 1056 1037 1039 1039 1043 1043 1056 1037 1037 1037 1056 1056 1056 1056 1056 1043 1056 1037 1037 1056 1037 1037 1043 1037 1056 1043 1056 1039 1043 1039 1043 1037 1037 1037 1039 1037 1037 1043 1056 1056 1043 1043 1039 1039 1037 1039 1056 1039 1043 1037 1043 1039 1037 1043 1037 1056 1043 1056 1039 1056 1037 1039 1056 1039 1037 1037 1056 1056 1043 1056 1056 1039 1043 1043 1039 1056 1037 1043 1056 1039 1037 1056 1056 1037 1043 1039 1043 1043 1056 1037 1039 1039 1043 1056 1056 1039 1043 1056 1056 1056 1056 1056 1056 1056 1039 1037 1037 1039 1056 1043 1043 1043 1043 1037 1043 1037 1043 1037 1039 1037 1043 1039 1043 1037 1043 1039 1056 1037 1043 1039 1037 1037 1037 1039 1037 1039 1043 1056 1037 1039 1056 1056 1056 1037 1043 1039 1039 1039 1037 1037 1037 1037 1037 1056 1037 1056 1039 1056 1037 1043 1039 1043 1039 1039 1039 1039 1043 1039 1037 1043 1037 1056 1037 1037 1043 1043 1056 1043 102\n"
          ],
          "name": "stderr"
        },
        {
          "output_type": "stream",
          "text": [
            "INFO:tensorflow:input_mask: 1 1 1 1 1 1 1 1 1 1 1 1 1 1 1 1 1 1 1 1 1 1 1 1 1 1 1 1 1 1 1 1 1 1 1 1 1 1 1 1 1 1 1 1 1 1 1 1 1 1 1 1 1 1 1 1 1 1 1 1 1 1 1 1 1 1 1 1 1 1 1 1 1 1 1 1 1 1 1 1 1 1 1 1 1 1 1 1 1 1 1 1 1 1 1 1 1 1 1 1 1 1 1 1 1 1 1 1 1 1 1 1 1 1 1 1 1 1 1 1 1 1 1 1 1 1 1 1 1 1 1 1 1 1 1 1 1 1 1 1 1 1 1 1 1 1 1 1 1 1 1 1 1 1 1 1 1 1 1 1 1 1 1 1 1 1 1 1 1 1 1 1 1 1 1 1 1 1 1 1 1 1 1 1 1 1 1 1 1 1 1 1 1 1 1 1 1 1 1 1\n"
          ],
          "name": "stdout"
        },
        {
          "output_type": "stream",
          "text": [
            "INFO:tensorflow:input_mask: 1 1 1 1 1 1 1 1 1 1 1 1 1 1 1 1 1 1 1 1 1 1 1 1 1 1 1 1 1 1 1 1 1 1 1 1 1 1 1 1 1 1 1 1 1 1 1 1 1 1 1 1 1 1 1 1 1 1 1 1 1 1 1 1 1 1 1 1 1 1 1 1 1 1 1 1 1 1 1 1 1 1 1 1 1 1 1 1 1 1 1 1 1 1 1 1 1 1 1 1 1 1 1 1 1 1 1 1 1 1 1 1 1 1 1 1 1 1 1 1 1 1 1 1 1 1 1 1 1 1 1 1 1 1 1 1 1 1 1 1 1 1 1 1 1 1 1 1 1 1 1 1 1 1 1 1 1 1 1 1 1 1 1 1 1 1 1 1 1 1 1 1 1 1 1 1 1 1 1 1 1 1 1 1 1 1 1 1 1 1 1 1 1 1 1 1 1 1 1 1\n"
          ],
          "name": "stderr"
        },
        {
          "output_type": "stream",
          "text": [
            "INFO:tensorflow:segment_ids: 0 0 0 0 0 0 0 0 0 0 0 0 0 0 0 0 0 0 0 0 0 0 0 0 0 0 0 0 0 0 0 0 0 0 0 0 0 0 0 0 0 0 0 0 0 0 0 0 0 0 0 0 0 0 0 0 0 0 0 0 0 0 0 0 0 0 0 0 0 0 0 0 0 0 0 0 0 0 0 0 0 0 0 0 0 0 0 0 0 0 0 0 0 0 0 0 0 0 0 0 0 0 0 0 0 0 0 0 0 0 0 0 0 0 0 0 0 0 0 0 0 0 0 0 0 0 0 0 0 0 0 0 0 0 0 0 0 0 0 0 0 0 0 0 0 0 0 0 0 0 0 0 0 0 0 0 0 0 0 0 0 0 0 0 0 0 0 0 0 0 0 0 0 0 0 0 0 0 0 0 0 0 0 0 0 0 0 0 0 0 0 0 0 0 0 0 0 0 0 0\n"
          ],
          "name": "stdout"
        },
        {
          "output_type": "stream",
          "text": [
            "INFO:tensorflow:segment_ids: 0 0 0 0 0 0 0 0 0 0 0 0 0 0 0 0 0 0 0 0 0 0 0 0 0 0 0 0 0 0 0 0 0 0 0 0 0 0 0 0 0 0 0 0 0 0 0 0 0 0 0 0 0 0 0 0 0 0 0 0 0 0 0 0 0 0 0 0 0 0 0 0 0 0 0 0 0 0 0 0 0 0 0 0 0 0 0 0 0 0 0 0 0 0 0 0 0 0 0 0 0 0 0 0 0 0 0 0 0 0 0 0 0 0 0 0 0 0 0 0 0 0 0 0 0 0 0 0 0 0 0 0 0 0 0 0 0 0 0 0 0 0 0 0 0 0 0 0 0 0 0 0 0 0 0 0 0 0 0 0 0 0 0 0 0 0 0 0 0 0 0 0 0 0 0 0 0 0 0 0 0 0 0 0 0 0 0 0 0 0 0 0 0 0 0 0 0 0 0 0\n"
          ],
          "name": "stderr"
        },
        {
          "output_type": "stream",
          "text": [
            "INFO:tensorflow:label: 0 (id = 0)\n"
          ],
          "name": "stdout"
        },
        {
          "output_type": "stream",
          "text": [
            "INFO:tensorflow:label: 0 (id = 0)\n"
          ],
          "name": "stderr"
        },
        {
          "output_type": "stream",
          "text": [
            "INFO:tensorflow:Calling model_fn.\n"
          ],
          "name": "stdout"
        },
        {
          "output_type": "stream",
          "text": [
            "INFO:tensorflow:Calling model_fn.\n"
          ],
          "name": "stderr"
        },
        {
          "output_type": "stream",
          "text": [
            "INFO:tensorflow:Saver not created because there are no variables in the graph to restore\n"
          ],
          "name": "stdout"
        },
        {
          "output_type": "stream",
          "text": [
            "INFO:tensorflow:Saver not created because there are no variables in the graph to restore\n"
          ],
          "name": "stderr"
        },
        {
          "output_type": "stream",
          "text": [
            "INFO:tensorflow:Done calling model_fn.\n"
          ],
          "name": "stdout"
        },
        {
          "output_type": "stream",
          "text": [
            "INFO:tensorflow:Done calling model_fn.\n"
          ],
          "name": "stderr"
        },
        {
          "output_type": "stream",
          "text": [
            "INFO:tensorflow:Graph was finalized.\n"
          ],
          "name": "stdout"
        },
        {
          "output_type": "stream",
          "text": [
            "INFO:tensorflow:Graph was finalized.\n"
          ],
          "name": "stderr"
        },
        {
          "output_type": "stream",
          "text": [
            "INFO:tensorflow:Restoring parameters from /genome_data/My Drive/Colab Notebooks/BERT/genome_data/model.ckpt-480\n"
          ],
          "name": "stdout"
        },
        {
          "output_type": "stream",
          "text": [
            "INFO:tensorflow:Restoring parameters from /genome_data/My Drive/Colab Notebooks/BERT/genome_data/model.ckpt-480\n"
          ],
          "name": "stderr"
        },
        {
          "output_type": "stream",
          "text": [
            "INFO:tensorflow:Running local_init_op.\n"
          ],
          "name": "stdout"
        },
        {
          "output_type": "stream",
          "text": [
            "INFO:tensorflow:Running local_init_op.\n"
          ],
          "name": "stderr"
        },
        {
          "output_type": "stream",
          "text": [
            "INFO:tensorflow:Done running local_init_op.\n"
          ],
          "name": "stdout"
        },
        {
          "output_type": "stream",
          "text": [
            "INFO:tensorflow:Done running local_init_op.\n"
          ],
          "name": "stderr"
        }
      ]
    },
    {
      "cell_type": "code",
      "metadata": {
        "id": "3JHdXZhhOYHf",
        "colab_type": "code",
        "colab": {}
      },
      "source": [
        "predictions[0]\n",
        "enc_labels = []\n",
        "act_labels = []\n",
        "for i in range(len(predictions)):\n",
        "  enc_labels.append(predictions[i][2])\n",
        "  act_labels.append(predictions[i][3])\n",
        "\n",
        "pd.DataFrame(enc_labels, columns = [1]).to_excel('/genome_data/My Drive/Colab Notebooks/BERT/submission_bert.xlsx', index = False)\n"
      ],
      "execution_count": 0,
      "outputs": []
    },
    {
      "cell_type": "code",
      "metadata": {
        "id": "S-PYgv3pOhjM",
        "colab_type": "code",
        "outputId": "ad5cec51-7a63-4100-ff6e-023288fc03dd",
        "colab": {
          "base_uri": "https://localhost:8080/",
          "height": 1000
        }
      },
      "source": [
        "#Classifying random sentences\n",
        "tests = getPrediction([val[0][2693], val[0][5047], val[0][2988], val[0][1222]])"
      ],
      "execution_count": 0,
      "outputs": [
        {
          "output_type": "stream",
          "text": [
            "INFO:tensorflow:Writing example 0 of 4\n"
          ],
          "name": "stdout"
        },
        {
          "output_type": "stream",
          "text": [
            "INFO:tensorflow:Writing example 0 of 4\n"
          ],
          "name": "stderr"
        },
        {
          "output_type": "stream",
          "text": [
            "INFO:tensorflow:*** Example ***\n"
          ],
          "name": "stdout"
        },
        {
          "output_type": "stream",
          "text": [
            "INFO:tensorflow:*** Example ***\n"
          ],
          "name": "stderr"
        },
        {
          "output_type": "stream",
          "text": [
            "INFO:tensorflow:guid: \n"
          ],
          "name": "stdout"
        },
        {
          "output_type": "stream",
          "text": [
            "INFO:tensorflow:guid: \n"
          ],
          "name": "stderr"
        },
        {
          "output_type": "stream",
          "text": [
            "INFO:tensorflow:tokens: [CLS] t c g t g t g a t a c g g t t t t c c a c c t t a g a g g t a t c g g g t a c t a c t c c g g c c g g t a a t t t t g a c c c g a t t c a c a t t c c g c a a g a a c t g a c c c c a c t a a g t t a a t g a c g t t c c c c a a g a g t t t c c a g g g t a t t c c a c t a a t t g a g c c g t c a c a a g a t a a c t g g t t g a t c t c g a g a t a a g g g t g g g c g c g c c a c c a c a c t t g c [SEP]\n"
          ],
          "name": "stdout"
        },
        {
          "output_type": "stream",
          "text": [
            "INFO:tensorflow:tokens: [CLS] t c g t g t g a t a c g g t t t t c c a c c t t a g a g g t a t c g g g t a c t a c t c c g g c c g g t a a t t t t g a c c c g a t t c a c a t t c c g c a a g a a c t g a c c c c a c t a a g t t a a t g a c g t t c c c c a a g a g t t t c c a g g g t a t t c c a c t a a t t g a g c c g t c a c a a g a t a a c t g g t t g a t c t c g a g a t a a g g g t g g g c g c g c c a c c a c a c t t g c [SEP]\n"
          ],
          "name": "stderr"
        },
        {
          "output_type": "stream",
          "text": [
            "INFO:tensorflow:input_ids: 101 1056 1039 1043 1056 1043 1056 1043 1037 1056 1037 1039 1043 1043 1056 1056 1056 1056 1039 1039 1037 1039 1039 1056 1056 1037 1043 1037 1043 1043 1056 1037 1056 1039 1043 1043 1043 1056 1037 1039 1056 1037 1039 1056 1039 1039 1043 1043 1039 1039 1043 1043 1056 1037 1037 1056 1056 1056 1056 1043 1037 1039 1039 1039 1043 1037 1056 1056 1039 1037 1039 1037 1056 1056 1039 1039 1043 1039 1037 1037 1043 1037 1037 1039 1056 1043 1037 1039 1039 1039 1039 1037 1039 1056 1037 1037 1043 1056 1056 1037 1037 1056 1043 1037 1039 1043 1056 1056 1039 1039 1039 1039 1037 1037 1043 1037 1043 1056 1056 1056 1039 1039 1037 1043 1043 1043 1056 1037 1056 1056 1039 1039 1037 1039 1056 1037 1037 1056 1056 1043 1037 1043 1039 1039 1043 1056 1039 1037 1039 1037 1037 1043 1037 1056 1037 1037 1039 1056 1043 1043 1056 1056 1043 1037 1056 1039 1056 1039 1043 1037 1043 1037 1056 1037 1037 1043 1043 1043 1056 1043 1043 1043 1039 1043 1039 1043 1039 1039 1037 1039 1039 1037 1039 1037 1039 1056 1056 1043 1039 102\n"
          ],
          "name": "stdout"
        },
        {
          "output_type": "stream",
          "text": [
            "INFO:tensorflow:input_ids: 101 1056 1039 1043 1056 1043 1056 1043 1037 1056 1037 1039 1043 1043 1056 1056 1056 1056 1039 1039 1037 1039 1039 1056 1056 1037 1043 1037 1043 1043 1056 1037 1056 1039 1043 1043 1043 1056 1037 1039 1056 1037 1039 1056 1039 1039 1043 1043 1039 1039 1043 1043 1056 1037 1037 1056 1056 1056 1056 1043 1037 1039 1039 1039 1043 1037 1056 1056 1039 1037 1039 1037 1056 1056 1039 1039 1043 1039 1037 1037 1043 1037 1037 1039 1056 1043 1037 1039 1039 1039 1039 1037 1039 1056 1037 1037 1043 1056 1056 1037 1037 1056 1043 1037 1039 1043 1056 1056 1039 1039 1039 1039 1037 1037 1043 1037 1043 1056 1056 1056 1039 1039 1037 1043 1043 1043 1056 1037 1056 1056 1039 1039 1037 1039 1056 1037 1037 1056 1056 1043 1037 1043 1039 1039 1043 1056 1039 1037 1039 1037 1037 1043 1037 1056 1037 1037 1039 1056 1043 1043 1056 1056 1043 1037 1056 1039 1056 1039 1043 1037 1043 1037 1056 1037 1037 1043 1043 1043 1056 1043 1043 1043 1039 1043 1039 1043 1039 1039 1037 1039 1039 1037 1039 1037 1039 1056 1056 1043 1039 102\n"
          ],
          "name": "stderr"
        },
        {
          "output_type": "stream",
          "text": [
            "INFO:tensorflow:input_mask: 1 1 1 1 1 1 1 1 1 1 1 1 1 1 1 1 1 1 1 1 1 1 1 1 1 1 1 1 1 1 1 1 1 1 1 1 1 1 1 1 1 1 1 1 1 1 1 1 1 1 1 1 1 1 1 1 1 1 1 1 1 1 1 1 1 1 1 1 1 1 1 1 1 1 1 1 1 1 1 1 1 1 1 1 1 1 1 1 1 1 1 1 1 1 1 1 1 1 1 1 1 1 1 1 1 1 1 1 1 1 1 1 1 1 1 1 1 1 1 1 1 1 1 1 1 1 1 1 1 1 1 1 1 1 1 1 1 1 1 1 1 1 1 1 1 1 1 1 1 1 1 1 1 1 1 1 1 1 1 1 1 1 1 1 1 1 1 1 1 1 1 1 1 1 1 1 1 1 1 1 1 1 1 1 1 1 1 1 1 1 1 1 1 1 1 1 1 1 1 1\n"
          ],
          "name": "stdout"
        },
        {
          "output_type": "stream",
          "text": [
            "INFO:tensorflow:input_mask: 1 1 1 1 1 1 1 1 1 1 1 1 1 1 1 1 1 1 1 1 1 1 1 1 1 1 1 1 1 1 1 1 1 1 1 1 1 1 1 1 1 1 1 1 1 1 1 1 1 1 1 1 1 1 1 1 1 1 1 1 1 1 1 1 1 1 1 1 1 1 1 1 1 1 1 1 1 1 1 1 1 1 1 1 1 1 1 1 1 1 1 1 1 1 1 1 1 1 1 1 1 1 1 1 1 1 1 1 1 1 1 1 1 1 1 1 1 1 1 1 1 1 1 1 1 1 1 1 1 1 1 1 1 1 1 1 1 1 1 1 1 1 1 1 1 1 1 1 1 1 1 1 1 1 1 1 1 1 1 1 1 1 1 1 1 1 1 1 1 1 1 1 1 1 1 1 1 1 1 1 1 1 1 1 1 1 1 1 1 1 1 1 1 1 1 1 1 1 1 1\n"
          ],
          "name": "stderr"
        },
        {
          "output_type": "stream",
          "text": [
            "INFO:tensorflow:segment_ids: 0 0 0 0 0 0 0 0 0 0 0 0 0 0 0 0 0 0 0 0 0 0 0 0 0 0 0 0 0 0 0 0 0 0 0 0 0 0 0 0 0 0 0 0 0 0 0 0 0 0 0 0 0 0 0 0 0 0 0 0 0 0 0 0 0 0 0 0 0 0 0 0 0 0 0 0 0 0 0 0 0 0 0 0 0 0 0 0 0 0 0 0 0 0 0 0 0 0 0 0 0 0 0 0 0 0 0 0 0 0 0 0 0 0 0 0 0 0 0 0 0 0 0 0 0 0 0 0 0 0 0 0 0 0 0 0 0 0 0 0 0 0 0 0 0 0 0 0 0 0 0 0 0 0 0 0 0 0 0 0 0 0 0 0 0 0 0 0 0 0 0 0 0 0 0 0 0 0 0 0 0 0 0 0 0 0 0 0 0 0 0 0 0 0 0 0 0 0 0 0\n"
          ],
          "name": "stdout"
        },
        {
          "output_type": "stream",
          "text": [
            "INFO:tensorflow:segment_ids: 0 0 0 0 0 0 0 0 0 0 0 0 0 0 0 0 0 0 0 0 0 0 0 0 0 0 0 0 0 0 0 0 0 0 0 0 0 0 0 0 0 0 0 0 0 0 0 0 0 0 0 0 0 0 0 0 0 0 0 0 0 0 0 0 0 0 0 0 0 0 0 0 0 0 0 0 0 0 0 0 0 0 0 0 0 0 0 0 0 0 0 0 0 0 0 0 0 0 0 0 0 0 0 0 0 0 0 0 0 0 0 0 0 0 0 0 0 0 0 0 0 0 0 0 0 0 0 0 0 0 0 0 0 0 0 0 0 0 0 0 0 0 0 0 0 0 0 0 0 0 0 0 0 0 0 0 0 0 0 0 0 0 0 0 0 0 0 0 0 0 0 0 0 0 0 0 0 0 0 0 0 0 0 0 0 0 0 0 0 0 0 0 0 0 0 0 0 0 0 0\n"
          ],
          "name": "stderr"
        },
        {
          "output_type": "stream",
          "text": [
            "INFO:tensorflow:label: 0 (id = 0)\n"
          ],
          "name": "stdout"
        },
        {
          "output_type": "stream",
          "text": [
            "INFO:tensorflow:label: 0 (id = 0)\n"
          ],
          "name": "stderr"
        },
        {
          "output_type": "stream",
          "text": [
            "INFO:tensorflow:*** Example ***\n"
          ],
          "name": "stdout"
        },
        {
          "output_type": "stream",
          "text": [
            "INFO:tensorflow:*** Example ***\n"
          ],
          "name": "stderr"
        },
        {
          "output_type": "stream",
          "text": [
            "INFO:tensorflow:guid: \n"
          ],
          "name": "stdout"
        },
        {
          "output_type": "stream",
          "text": [
            "INFO:tensorflow:guid: \n"
          ],
          "name": "stderr"
        },
        {
          "output_type": "stream",
          "text": [
            "INFO:tensorflow:tokens: [CLS] g g c t a t c t c c a c g c g a t a a g g t a c g c a c a a a a a a g t g a t t t g t c a g t a c c g t g a g t a c c t a a c a c a c c g c t g a t a g a g a g a g g a t t t t a t t g a c a t g g c t a a c a t g t t a a a t t c t c t g a c c a g a t g t t g a t g a c a c g a c g t t t c g t c g g t g a a c t c c t t t a t c a t a t a g t g a g t a a a g a g c a g t t g a t c t g a g g t g g a [SEP]\n"
          ],
          "name": "stdout"
        },
        {
          "output_type": "stream",
          "text": [
            "INFO:tensorflow:tokens: [CLS] g g c t a t c t c c a c g c g a t a a g g t a c g c a c a a a a a a g t g a t t t g t c a g t a c c g t g a g t a c c t a a c a c a c c g c t g a t a g a g a g a g g a t t t t a t t g a c a t g g c t a a c a t g t t a a a t t c t c t g a c c a g a t g t t g a t g a c a c g a c g t t t c g t c g g t g a a c t c c t t t a t c a t a t a g t g a g t a a a g a g c a g t t g a t c t g a g g t g g a [SEP]\n"
          ],
          "name": "stderr"
        },
        {
          "output_type": "stream",
          "text": [
            "INFO:tensorflow:input_ids: 101 1043 1043 1039 1056 1037 1056 1039 1056 1039 1039 1037 1039 1043 1039 1043 1037 1056 1037 1037 1043 1043 1056 1037 1039 1043 1039 1037 1039 1037 1037 1037 1037 1037 1037 1043 1056 1043 1037 1056 1056 1056 1043 1056 1039 1037 1043 1056 1037 1039 1039 1043 1056 1043 1037 1043 1056 1037 1039 1039 1056 1037 1037 1039 1037 1039 1037 1039 1039 1043 1039 1056 1043 1037 1056 1037 1043 1037 1043 1037 1043 1037 1043 1043 1037 1056 1056 1056 1056 1037 1056 1056 1043 1037 1039 1037 1056 1043 1043 1039 1056 1037 1037 1039 1037 1056 1043 1056 1056 1037 1037 1037 1056 1056 1039 1056 1039 1056 1043 1037 1039 1039 1037 1043 1037 1056 1043 1056 1056 1043 1037 1056 1043 1037 1039 1037 1039 1043 1037 1039 1043 1056 1056 1056 1039 1043 1056 1039 1043 1043 1056 1043 1037 1037 1039 1056 1039 1039 1056 1056 1056 1037 1056 1039 1037 1056 1037 1056 1037 1043 1056 1043 1037 1043 1056 1037 1037 1037 1043 1037 1043 1039 1037 1043 1056 1056 1043 1037 1056 1039 1056 1043 1037 1043 1043 1056 1043 1043 1037 102\n"
          ],
          "name": "stdout"
        },
        {
          "output_type": "stream",
          "text": [
            "INFO:tensorflow:input_ids: 101 1043 1043 1039 1056 1037 1056 1039 1056 1039 1039 1037 1039 1043 1039 1043 1037 1056 1037 1037 1043 1043 1056 1037 1039 1043 1039 1037 1039 1037 1037 1037 1037 1037 1037 1043 1056 1043 1037 1056 1056 1056 1043 1056 1039 1037 1043 1056 1037 1039 1039 1043 1056 1043 1037 1043 1056 1037 1039 1039 1056 1037 1037 1039 1037 1039 1037 1039 1039 1043 1039 1056 1043 1037 1056 1037 1043 1037 1043 1037 1043 1037 1043 1043 1037 1056 1056 1056 1056 1037 1056 1056 1043 1037 1039 1037 1056 1043 1043 1039 1056 1037 1037 1039 1037 1056 1043 1056 1056 1037 1037 1037 1056 1056 1039 1056 1039 1056 1043 1037 1039 1039 1037 1043 1037 1056 1043 1056 1056 1043 1037 1056 1043 1037 1039 1037 1039 1043 1037 1039 1043 1056 1056 1056 1039 1043 1056 1039 1043 1043 1056 1043 1037 1037 1039 1056 1039 1039 1056 1056 1056 1037 1056 1039 1037 1056 1037 1056 1037 1043 1056 1043 1037 1043 1056 1037 1037 1037 1043 1037 1043 1039 1037 1043 1056 1056 1043 1037 1056 1039 1056 1043 1037 1043 1043 1056 1043 1043 1037 102\n"
          ],
          "name": "stderr"
        },
        {
          "output_type": "stream",
          "text": [
            "INFO:tensorflow:input_mask: 1 1 1 1 1 1 1 1 1 1 1 1 1 1 1 1 1 1 1 1 1 1 1 1 1 1 1 1 1 1 1 1 1 1 1 1 1 1 1 1 1 1 1 1 1 1 1 1 1 1 1 1 1 1 1 1 1 1 1 1 1 1 1 1 1 1 1 1 1 1 1 1 1 1 1 1 1 1 1 1 1 1 1 1 1 1 1 1 1 1 1 1 1 1 1 1 1 1 1 1 1 1 1 1 1 1 1 1 1 1 1 1 1 1 1 1 1 1 1 1 1 1 1 1 1 1 1 1 1 1 1 1 1 1 1 1 1 1 1 1 1 1 1 1 1 1 1 1 1 1 1 1 1 1 1 1 1 1 1 1 1 1 1 1 1 1 1 1 1 1 1 1 1 1 1 1 1 1 1 1 1 1 1 1 1 1 1 1 1 1 1 1 1 1 1 1 1 1 1 1\n"
          ],
          "name": "stdout"
        },
        {
          "output_type": "stream",
          "text": [
            "INFO:tensorflow:input_mask: 1 1 1 1 1 1 1 1 1 1 1 1 1 1 1 1 1 1 1 1 1 1 1 1 1 1 1 1 1 1 1 1 1 1 1 1 1 1 1 1 1 1 1 1 1 1 1 1 1 1 1 1 1 1 1 1 1 1 1 1 1 1 1 1 1 1 1 1 1 1 1 1 1 1 1 1 1 1 1 1 1 1 1 1 1 1 1 1 1 1 1 1 1 1 1 1 1 1 1 1 1 1 1 1 1 1 1 1 1 1 1 1 1 1 1 1 1 1 1 1 1 1 1 1 1 1 1 1 1 1 1 1 1 1 1 1 1 1 1 1 1 1 1 1 1 1 1 1 1 1 1 1 1 1 1 1 1 1 1 1 1 1 1 1 1 1 1 1 1 1 1 1 1 1 1 1 1 1 1 1 1 1 1 1 1 1 1 1 1 1 1 1 1 1 1 1 1 1 1 1\n"
          ],
          "name": "stderr"
        },
        {
          "output_type": "stream",
          "text": [
            "INFO:tensorflow:segment_ids: 0 0 0 0 0 0 0 0 0 0 0 0 0 0 0 0 0 0 0 0 0 0 0 0 0 0 0 0 0 0 0 0 0 0 0 0 0 0 0 0 0 0 0 0 0 0 0 0 0 0 0 0 0 0 0 0 0 0 0 0 0 0 0 0 0 0 0 0 0 0 0 0 0 0 0 0 0 0 0 0 0 0 0 0 0 0 0 0 0 0 0 0 0 0 0 0 0 0 0 0 0 0 0 0 0 0 0 0 0 0 0 0 0 0 0 0 0 0 0 0 0 0 0 0 0 0 0 0 0 0 0 0 0 0 0 0 0 0 0 0 0 0 0 0 0 0 0 0 0 0 0 0 0 0 0 0 0 0 0 0 0 0 0 0 0 0 0 0 0 0 0 0 0 0 0 0 0 0 0 0 0 0 0 0 0 0 0 0 0 0 0 0 0 0 0 0 0 0 0 0\n"
          ],
          "name": "stdout"
        },
        {
          "output_type": "stream",
          "text": [
            "INFO:tensorflow:segment_ids: 0 0 0 0 0 0 0 0 0 0 0 0 0 0 0 0 0 0 0 0 0 0 0 0 0 0 0 0 0 0 0 0 0 0 0 0 0 0 0 0 0 0 0 0 0 0 0 0 0 0 0 0 0 0 0 0 0 0 0 0 0 0 0 0 0 0 0 0 0 0 0 0 0 0 0 0 0 0 0 0 0 0 0 0 0 0 0 0 0 0 0 0 0 0 0 0 0 0 0 0 0 0 0 0 0 0 0 0 0 0 0 0 0 0 0 0 0 0 0 0 0 0 0 0 0 0 0 0 0 0 0 0 0 0 0 0 0 0 0 0 0 0 0 0 0 0 0 0 0 0 0 0 0 0 0 0 0 0 0 0 0 0 0 0 0 0 0 0 0 0 0 0 0 0 0 0 0 0 0 0 0 0 0 0 0 0 0 0 0 0 0 0 0 0 0 0 0 0 0 0\n"
          ],
          "name": "stderr"
        },
        {
          "output_type": "stream",
          "text": [
            "INFO:tensorflow:label: 0 (id = 0)\n"
          ],
          "name": "stdout"
        },
        {
          "output_type": "stream",
          "text": [
            "INFO:tensorflow:label: 0 (id = 0)\n"
          ],
          "name": "stderr"
        },
        {
          "output_type": "stream",
          "text": [
            "INFO:tensorflow:*** Example ***\n"
          ],
          "name": "stdout"
        },
        {
          "output_type": "stream",
          "text": [
            "INFO:tensorflow:*** Example ***\n"
          ],
          "name": "stderr"
        },
        {
          "output_type": "stream",
          "text": [
            "INFO:tensorflow:guid: \n"
          ],
          "name": "stdout"
        },
        {
          "output_type": "stream",
          "text": [
            "INFO:tensorflow:guid: \n"
          ],
          "name": "stderr"
        },
        {
          "output_type": "stream",
          "text": [
            "INFO:tensorflow:tokens: [CLS] t g c t a c c c a t a g g c c a c t c a t c g c t t t g g a c a t g c a a t g a t c t g a g a g t a a t t g a a g c a g t a t a c a c c c t t a g t g g t a g g a t c t g c t t a a t t t g g g t g c a g c c t a g t t a t g a c g a c c c c a c t c t a c a a a a t t c a a a c t a c g t c a a c c t c a g c t a a g a t c t a t c g t g a c g a a a t a g c g c g a c t a c g g a a g g c g t c g a g c [SEP]\n"
          ],
          "name": "stdout"
        },
        {
          "output_type": "stream",
          "text": [
            "INFO:tensorflow:tokens: [CLS] t g c t a c c c a t a g g c c a c t c a t c g c t t t g g a c a t g c a a t g a t c t g a g a g t a a t t g a a g c a g t a t a c a c c c t t a g t g g t a g g a t c t g c t t a a t t t g g g t g c a g c c t a g t t a t g a c g a c c c c a c t c t a c a a a a t t c a a a c t a c g t c a a c c t c a g c t a a g a t c t a t c g t g a c g a a a t a g c g c g a c t a c g g a a g g c g t c g a g c [SEP]\n"
          ],
          "name": "stderr"
        },
        {
          "output_type": "stream",
          "text": [
            "INFO:tensorflow:input_ids: 101 1056 1043 1039 1056 1037 1039 1039 1039 1037 1056 1037 1043 1043 1039 1039 1037 1039 1056 1039 1037 1056 1039 1043 1039 1056 1056 1056 1043 1043 1037 1039 1037 1056 1043 1039 1037 1037 1056 1043 1037 1056 1039 1056 1043 1037 1043 1037 1043 1056 1037 1037 1056 1056 1043 1037 1037 1043 1039 1037 1043 1056 1037 1056 1037 1039 1037 1039 1039 1039 1056 1056 1037 1043 1056 1043 1043 1056 1037 1043 1043 1037 1056 1039 1056 1043 1039 1056 1056 1037 1037 1056 1056 1056 1043 1043 1043 1056 1043 1039 1037 1043 1039 1039 1056 1037 1043 1056 1056 1037 1056 1043 1037 1039 1043 1037 1039 1039 1039 1039 1037 1039 1056 1039 1056 1037 1039 1037 1037 1037 1037 1056 1056 1039 1037 1037 1037 1039 1056 1037 1039 1043 1056 1039 1037 1037 1039 1039 1056 1039 1037 1043 1039 1056 1037 1037 1043 1037 1056 1039 1056 1037 1056 1039 1043 1056 1043 1037 1039 1043 1037 1037 1037 1056 1037 1043 1039 1043 1039 1043 1037 1039 1056 1037 1039 1043 1043 1037 1037 1043 1043 1039 1043 1056 1039 1043 1037 1043 1039 102\n"
          ],
          "name": "stdout"
        },
        {
          "output_type": "stream",
          "text": [
            "INFO:tensorflow:input_ids: 101 1056 1043 1039 1056 1037 1039 1039 1039 1037 1056 1037 1043 1043 1039 1039 1037 1039 1056 1039 1037 1056 1039 1043 1039 1056 1056 1056 1043 1043 1037 1039 1037 1056 1043 1039 1037 1037 1056 1043 1037 1056 1039 1056 1043 1037 1043 1037 1043 1056 1037 1037 1056 1056 1043 1037 1037 1043 1039 1037 1043 1056 1037 1056 1037 1039 1037 1039 1039 1039 1056 1056 1037 1043 1056 1043 1043 1056 1037 1043 1043 1037 1056 1039 1056 1043 1039 1056 1056 1037 1037 1056 1056 1056 1043 1043 1043 1056 1043 1039 1037 1043 1039 1039 1056 1037 1043 1056 1056 1037 1056 1043 1037 1039 1043 1037 1039 1039 1039 1039 1037 1039 1056 1039 1056 1037 1039 1037 1037 1037 1037 1056 1056 1039 1037 1037 1037 1039 1056 1037 1039 1043 1056 1039 1037 1037 1039 1039 1056 1039 1037 1043 1039 1056 1037 1037 1043 1037 1056 1039 1056 1037 1056 1039 1043 1056 1043 1037 1039 1043 1037 1037 1037 1056 1037 1043 1039 1043 1039 1043 1037 1039 1056 1037 1039 1043 1043 1037 1037 1043 1043 1039 1043 1056 1039 1043 1037 1043 1039 102\n"
          ],
          "name": "stderr"
        },
        {
          "output_type": "stream",
          "text": [
            "INFO:tensorflow:input_mask: 1 1 1 1 1 1 1 1 1 1 1 1 1 1 1 1 1 1 1 1 1 1 1 1 1 1 1 1 1 1 1 1 1 1 1 1 1 1 1 1 1 1 1 1 1 1 1 1 1 1 1 1 1 1 1 1 1 1 1 1 1 1 1 1 1 1 1 1 1 1 1 1 1 1 1 1 1 1 1 1 1 1 1 1 1 1 1 1 1 1 1 1 1 1 1 1 1 1 1 1 1 1 1 1 1 1 1 1 1 1 1 1 1 1 1 1 1 1 1 1 1 1 1 1 1 1 1 1 1 1 1 1 1 1 1 1 1 1 1 1 1 1 1 1 1 1 1 1 1 1 1 1 1 1 1 1 1 1 1 1 1 1 1 1 1 1 1 1 1 1 1 1 1 1 1 1 1 1 1 1 1 1 1 1 1 1 1 1 1 1 1 1 1 1 1 1 1 1 1 1\n"
          ],
          "name": "stdout"
        },
        {
          "output_type": "stream",
          "text": [
            "INFO:tensorflow:input_mask: 1 1 1 1 1 1 1 1 1 1 1 1 1 1 1 1 1 1 1 1 1 1 1 1 1 1 1 1 1 1 1 1 1 1 1 1 1 1 1 1 1 1 1 1 1 1 1 1 1 1 1 1 1 1 1 1 1 1 1 1 1 1 1 1 1 1 1 1 1 1 1 1 1 1 1 1 1 1 1 1 1 1 1 1 1 1 1 1 1 1 1 1 1 1 1 1 1 1 1 1 1 1 1 1 1 1 1 1 1 1 1 1 1 1 1 1 1 1 1 1 1 1 1 1 1 1 1 1 1 1 1 1 1 1 1 1 1 1 1 1 1 1 1 1 1 1 1 1 1 1 1 1 1 1 1 1 1 1 1 1 1 1 1 1 1 1 1 1 1 1 1 1 1 1 1 1 1 1 1 1 1 1 1 1 1 1 1 1 1 1 1 1 1 1 1 1 1 1 1 1\n"
          ],
          "name": "stderr"
        },
        {
          "output_type": "stream",
          "text": [
            "INFO:tensorflow:segment_ids: 0 0 0 0 0 0 0 0 0 0 0 0 0 0 0 0 0 0 0 0 0 0 0 0 0 0 0 0 0 0 0 0 0 0 0 0 0 0 0 0 0 0 0 0 0 0 0 0 0 0 0 0 0 0 0 0 0 0 0 0 0 0 0 0 0 0 0 0 0 0 0 0 0 0 0 0 0 0 0 0 0 0 0 0 0 0 0 0 0 0 0 0 0 0 0 0 0 0 0 0 0 0 0 0 0 0 0 0 0 0 0 0 0 0 0 0 0 0 0 0 0 0 0 0 0 0 0 0 0 0 0 0 0 0 0 0 0 0 0 0 0 0 0 0 0 0 0 0 0 0 0 0 0 0 0 0 0 0 0 0 0 0 0 0 0 0 0 0 0 0 0 0 0 0 0 0 0 0 0 0 0 0 0 0 0 0 0 0 0 0 0 0 0 0 0 0 0 0 0 0\n"
          ],
          "name": "stdout"
        },
        {
          "output_type": "stream",
          "text": [
            "INFO:tensorflow:segment_ids: 0 0 0 0 0 0 0 0 0 0 0 0 0 0 0 0 0 0 0 0 0 0 0 0 0 0 0 0 0 0 0 0 0 0 0 0 0 0 0 0 0 0 0 0 0 0 0 0 0 0 0 0 0 0 0 0 0 0 0 0 0 0 0 0 0 0 0 0 0 0 0 0 0 0 0 0 0 0 0 0 0 0 0 0 0 0 0 0 0 0 0 0 0 0 0 0 0 0 0 0 0 0 0 0 0 0 0 0 0 0 0 0 0 0 0 0 0 0 0 0 0 0 0 0 0 0 0 0 0 0 0 0 0 0 0 0 0 0 0 0 0 0 0 0 0 0 0 0 0 0 0 0 0 0 0 0 0 0 0 0 0 0 0 0 0 0 0 0 0 0 0 0 0 0 0 0 0 0 0 0 0 0 0 0 0 0 0 0 0 0 0 0 0 0 0 0 0 0 0 0\n"
          ],
          "name": "stderr"
        },
        {
          "output_type": "stream",
          "text": [
            "INFO:tensorflow:label: 0 (id = 0)\n"
          ],
          "name": "stdout"
        },
        {
          "output_type": "stream",
          "text": [
            "INFO:tensorflow:label: 0 (id = 0)\n"
          ],
          "name": "stderr"
        },
        {
          "output_type": "stream",
          "text": [
            "INFO:tensorflow:*** Example ***\n"
          ],
          "name": "stdout"
        },
        {
          "output_type": "stream",
          "text": [
            "INFO:tensorflow:*** Example ***\n"
          ],
          "name": "stderr"
        },
        {
          "output_type": "stream",
          "text": [
            "INFO:tensorflow:guid: \n"
          ],
          "name": "stdout"
        },
        {
          "output_type": "stream",
          "text": [
            "INFO:tensorflow:guid: \n"
          ],
          "name": "stderr"
        },
        {
          "output_type": "stream",
          "text": [
            "INFO:tensorflow:tokens: [CLS] t c c a c c a a c c a c g c a a t a g t t t t a c c c a t c t g c a a g a t g t g g c c g a t a t a g a t c a c g g g g a t t t t g a a a c a a a t t g c a g t t c a t t g t a g a a g a c g t c g c a g c t a c c g t g g c a c c c t g g c c t t t a t t a g g t c g a g a t a a g g g t t g g a c g g c c t t g c c a g a c a a a g g g a a a g g a g g t a g a t a a g a t t c g a a a a a t c g a a c [SEP]\n"
          ],
          "name": "stdout"
        },
        {
          "output_type": "stream",
          "text": [
            "INFO:tensorflow:tokens: [CLS] t c c a c c a a c c a c g c a a t a g t t t t a c c c a t c t g c a a g a t g t g g c c g a t a t a g a t c a c g g g g a t t t t g a a a c a a a t t g c a g t t c a t t g t a g a a g a c g t c g c a g c t a c c g t g g c a c c c t g g c c t t t a t t a g g t c g a g a t a a g g g t t g g a c g g c c t t g c c a g a c a a a g g g a a a g g a g g t a g a t a a g a t t c g a a a a a t c g a a c [SEP]\n"
          ],
          "name": "stderr"
        },
        {
          "output_type": "stream",
          "text": [
            "INFO:tensorflow:input_ids: 101 1056 1039 1039 1037 1039 1039 1037 1037 1039 1039 1037 1039 1043 1039 1037 1037 1056 1037 1043 1056 1056 1056 1056 1037 1039 1039 1039 1037 1056 1039 1056 1043 1039 1037 1037 1043 1037 1056 1043 1056 1043 1043 1039 1039 1043 1037 1056 1037 1056 1037 1043 1037 1056 1039 1037 1039 1043 1043 1043 1043 1037 1056 1056 1056 1056 1043 1037 1037 1037 1039 1037 1037 1037 1056 1056 1043 1039 1037 1043 1056 1056 1039 1037 1056 1056 1043 1056 1037 1043 1037 1037 1043 1037 1039 1043 1056 1039 1043 1039 1037 1043 1039 1056 1037 1039 1039 1043 1056 1043 1043 1039 1037 1039 1039 1039 1056 1043 1043 1039 1039 1056 1056 1056 1037 1056 1056 1037 1043 1043 1056 1039 1043 1037 1043 1037 1056 1037 1037 1043 1043 1043 1056 1056 1043 1043 1037 1039 1043 1043 1039 1039 1056 1056 1043 1039 1039 1037 1043 1037 1039 1037 1037 1037 1043 1043 1043 1037 1037 1037 1043 1043 1037 1043 1043 1056 1037 1043 1037 1056 1037 1037 1043 1037 1056 1056 1039 1043 1037 1037 1037 1037 1037 1056 1039 1043 1037 1037 1039 102\n"
          ],
          "name": "stdout"
        },
        {
          "output_type": "stream",
          "text": [
            "INFO:tensorflow:input_ids: 101 1056 1039 1039 1037 1039 1039 1037 1037 1039 1039 1037 1039 1043 1039 1037 1037 1056 1037 1043 1056 1056 1056 1056 1037 1039 1039 1039 1037 1056 1039 1056 1043 1039 1037 1037 1043 1037 1056 1043 1056 1043 1043 1039 1039 1043 1037 1056 1037 1056 1037 1043 1037 1056 1039 1037 1039 1043 1043 1043 1043 1037 1056 1056 1056 1056 1043 1037 1037 1037 1039 1037 1037 1037 1056 1056 1043 1039 1037 1043 1056 1056 1039 1037 1056 1056 1043 1056 1037 1043 1037 1037 1043 1037 1039 1043 1056 1039 1043 1039 1037 1043 1039 1056 1037 1039 1039 1043 1056 1043 1043 1039 1037 1039 1039 1039 1056 1043 1043 1039 1039 1056 1056 1056 1037 1056 1056 1037 1043 1043 1056 1039 1043 1037 1043 1037 1056 1037 1037 1043 1043 1043 1056 1056 1043 1043 1037 1039 1043 1043 1039 1039 1056 1056 1043 1039 1039 1037 1043 1037 1039 1037 1037 1037 1043 1043 1043 1037 1037 1037 1043 1043 1037 1043 1043 1056 1037 1043 1037 1056 1037 1037 1043 1037 1056 1056 1039 1043 1037 1037 1037 1037 1037 1056 1039 1043 1037 1037 1039 102\n"
          ],
          "name": "stderr"
        },
        {
          "output_type": "stream",
          "text": [
            "INFO:tensorflow:input_mask: 1 1 1 1 1 1 1 1 1 1 1 1 1 1 1 1 1 1 1 1 1 1 1 1 1 1 1 1 1 1 1 1 1 1 1 1 1 1 1 1 1 1 1 1 1 1 1 1 1 1 1 1 1 1 1 1 1 1 1 1 1 1 1 1 1 1 1 1 1 1 1 1 1 1 1 1 1 1 1 1 1 1 1 1 1 1 1 1 1 1 1 1 1 1 1 1 1 1 1 1 1 1 1 1 1 1 1 1 1 1 1 1 1 1 1 1 1 1 1 1 1 1 1 1 1 1 1 1 1 1 1 1 1 1 1 1 1 1 1 1 1 1 1 1 1 1 1 1 1 1 1 1 1 1 1 1 1 1 1 1 1 1 1 1 1 1 1 1 1 1 1 1 1 1 1 1 1 1 1 1 1 1 1 1 1 1 1 1 1 1 1 1 1 1 1 1 1 1 1 1\n"
          ],
          "name": "stdout"
        },
        {
          "output_type": "stream",
          "text": [
            "INFO:tensorflow:input_mask: 1 1 1 1 1 1 1 1 1 1 1 1 1 1 1 1 1 1 1 1 1 1 1 1 1 1 1 1 1 1 1 1 1 1 1 1 1 1 1 1 1 1 1 1 1 1 1 1 1 1 1 1 1 1 1 1 1 1 1 1 1 1 1 1 1 1 1 1 1 1 1 1 1 1 1 1 1 1 1 1 1 1 1 1 1 1 1 1 1 1 1 1 1 1 1 1 1 1 1 1 1 1 1 1 1 1 1 1 1 1 1 1 1 1 1 1 1 1 1 1 1 1 1 1 1 1 1 1 1 1 1 1 1 1 1 1 1 1 1 1 1 1 1 1 1 1 1 1 1 1 1 1 1 1 1 1 1 1 1 1 1 1 1 1 1 1 1 1 1 1 1 1 1 1 1 1 1 1 1 1 1 1 1 1 1 1 1 1 1 1 1 1 1 1 1 1 1 1 1 1\n"
          ],
          "name": "stderr"
        },
        {
          "output_type": "stream",
          "text": [
            "INFO:tensorflow:segment_ids: 0 0 0 0 0 0 0 0 0 0 0 0 0 0 0 0 0 0 0 0 0 0 0 0 0 0 0 0 0 0 0 0 0 0 0 0 0 0 0 0 0 0 0 0 0 0 0 0 0 0 0 0 0 0 0 0 0 0 0 0 0 0 0 0 0 0 0 0 0 0 0 0 0 0 0 0 0 0 0 0 0 0 0 0 0 0 0 0 0 0 0 0 0 0 0 0 0 0 0 0 0 0 0 0 0 0 0 0 0 0 0 0 0 0 0 0 0 0 0 0 0 0 0 0 0 0 0 0 0 0 0 0 0 0 0 0 0 0 0 0 0 0 0 0 0 0 0 0 0 0 0 0 0 0 0 0 0 0 0 0 0 0 0 0 0 0 0 0 0 0 0 0 0 0 0 0 0 0 0 0 0 0 0 0 0 0 0 0 0 0 0 0 0 0 0 0 0 0 0 0\n"
          ],
          "name": "stdout"
        },
        {
          "output_type": "stream",
          "text": [
            "INFO:tensorflow:segment_ids: 0 0 0 0 0 0 0 0 0 0 0 0 0 0 0 0 0 0 0 0 0 0 0 0 0 0 0 0 0 0 0 0 0 0 0 0 0 0 0 0 0 0 0 0 0 0 0 0 0 0 0 0 0 0 0 0 0 0 0 0 0 0 0 0 0 0 0 0 0 0 0 0 0 0 0 0 0 0 0 0 0 0 0 0 0 0 0 0 0 0 0 0 0 0 0 0 0 0 0 0 0 0 0 0 0 0 0 0 0 0 0 0 0 0 0 0 0 0 0 0 0 0 0 0 0 0 0 0 0 0 0 0 0 0 0 0 0 0 0 0 0 0 0 0 0 0 0 0 0 0 0 0 0 0 0 0 0 0 0 0 0 0 0 0 0 0 0 0 0 0 0 0 0 0 0 0 0 0 0 0 0 0 0 0 0 0 0 0 0 0 0 0 0 0 0 0 0 0 0 0\n"
          ],
          "name": "stderr"
        },
        {
          "output_type": "stream",
          "text": [
            "INFO:tensorflow:label: 0 (id = 0)\n"
          ],
          "name": "stdout"
        },
        {
          "output_type": "stream",
          "text": [
            "INFO:tensorflow:label: 0 (id = 0)\n"
          ],
          "name": "stderr"
        },
        {
          "output_type": "stream",
          "text": [
            "INFO:tensorflow:Calling model_fn.\n"
          ],
          "name": "stdout"
        },
        {
          "output_type": "stream",
          "text": [
            "INFO:tensorflow:Calling model_fn.\n"
          ],
          "name": "stderr"
        },
        {
          "output_type": "stream",
          "text": [
            "INFO:tensorflow:Saver not created because there are no variables in the graph to restore\n"
          ],
          "name": "stdout"
        },
        {
          "output_type": "stream",
          "text": [
            "INFO:tensorflow:Saver not created because there are no variables in the graph to restore\n"
          ],
          "name": "stderr"
        },
        {
          "output_type": "stream",
          "text": [
            "INFO:tensorflow:Done calling model_fn.\n"
          ],
          "name": "stdout"
        },
        {
          "output_type": "stream",
          "text": [
            "INFO:tensorflow:Done calling model_fn.\n"
          ],
          "name": "stderr"
        },
        {
          "output_type": "stream",
          "text": [
            "INFO:tensorflow:Graph was finalized.\n"
          ],
          "name": "stdout"
        },
        {
          "output_type": "stream",
          "text": [
            "INFO:tensorflow:Graph was finalized.\n"
          ],
          "name": "stderr"
        },
        {
          "output_type": "stream",
          "text": [
            "INFO:tensorflow:Restoring parameters from /genome_data/My Drive/Colab Notebooks/BERT/genome_data/model.ckpt-480\n"
          ],
          "name": "stdout"
        },
        {
          "output_type": "stream",
          "text": [
            "INFO:tensorflow:Restoring parameters from /genome_data/My Drive/Colab Notebooks/BERT/genome_data/model.ckpt-480\n"
          ],
          "name": "stderr"
        },
        {
          "output_type": "stream",
          "text": [
            "INFO:tensorflow:Running local_init_op.\n"
          ],
          "name": "stdout"
        },
        {
          "output_type": "stream",
          "text": [
            "INFO:tensorflow:Running local_init_op.\n"
          ],
          "name": "stderr"
        },
        {
          "output_type": "stream",
          "text": [
            "INFO:tensorflow:Done running local_init_op.\n"
          ],
          "name": "stdout"
        },
        {
          "output_type": "stream",
          "text": [
            "INFO:tensorflow:Done running local_init_op.\n"
          ],
          "name": "stderr"
        }
      ]
    },
    {
      "cell_type": "code",
      "metadata": {
        "id": "c3Y45mgo3usv",
        "colab_type": "code",
        "outputId": "a846e66d-f8f6-455e-d3ec-e13d7ce82435",
        "colab": {
          "base_uri": "https://localhost:8080/",
          "height": 1000
        }
      },
      "source": [
        "predictions[0][2]\n",
        "for i,j in zip(list(test[1]), predictions):\n",
        "  print(i, j[2], j[0])"
      ],
      "execution_count": 0,
      "outputs": [
        {
          "output_type": "stream",
          "text": [
            "3 3 T G C T G T G C C A G A G T C G A A G A T A A G G T G A G C G T A G T T G A A A C A G A T G T G A C A G A T T T C G C C G T G C C C A T T G G G T A T T C G G C T C T G A A C A G A T G G T C T T C A G G A G C A A T T A A G A A T T T C A T T A T A A A A C C G C A T C T G A A C T G G A C T G G T G C T C T A G T A T C G G C T G C G C T G T T G G A C G G A T A A G C A T A T C T A C T T T T C A T T A T\n",
            "2 2 T A C C A C G G A C C A G A T G G T C G G G A A C C G T T A G G C G A A G C A C A T G C G G T C A A A A T T A C T T T C T G G G T C T G G A G C T G C G A C G G C C C C A T G A C G A A A G G A T T G C G C G C G G G G G C T A A A T T A A T G A T G G T C G C T G C G C A C C T C A G C C G G T T G T T A G A A A T C T T T A A C A C A G A T G G A C T C G G A G C C T T A A T G C G C G T C C G T A C A G T\n",
            "2 2 A T G A C T G A A A A T A C T A C T T A A A A A T T C G A T C G A G G T G G T T A G T A C A G C C G A A G T G T T G T G A T T A T A A A A T T G C T C C C A A C A G A T G G T C A T A C G T A G T A T A G T C C T T G G A A T A G T T G A C C A T A T A A T T T A A C C A T T G G C A C C C C A A C A C T C C C T G A A C C G C T G C G T T A T G T G C A C T A T A A A T A C A G T A C G T C C C G A A A A T A\n",
            "3 3 A A G T C C G G C A A T T A C T T A A T A A A G A A A T C A A C A G A T G G T T A C A C A T G A G A T T A G G A G A T G A G G C G A G T T C G C C A G G T A G A T C T A T T T C G A A G T T A G T C G T G A T T A A C T C G A G G A T C A T G T A A T A A A G A G G T A C G A C T A A G G T C G A A C G T A T T G G G G T G T T T A C C C T A A A A G G T G T A G C T A T G G T G A T A A C G G T T C T A A T A\n",
            "3 3 G C G T C A G T G T G G G A T T A T T G T A C C G G T A A A T T T T T G T A A T A A G A T G T C G C G A A A C A A G T T G G C C A C T C G A G C A G A T G T C T A C T C A A T T G T T C G G C T A G T C A T T A G C G G T A C C G T T C G T T T T T T T C A A C T G G G G A G A G A C A G C G A G C T A G C A A A C A C G T A C T T T A G C C C A A A A A T A T C T A G C G C C C C G C A G A T A A G G T G G T\n",
            "1 1 A T C G G G G A C A C A T G G A T A G G T C C C G C A C A G T A G G A A T C T A A T C T T T C A C T T A T C T A C A C G A G T C G A A A G G G G T C T A T A A T A C A A G T C A T A A A A T T T A T G C T G A A A G G G A A C A A C G C T G G T C A T G A T T A G C C G C T G T A A T A C A T A C T G A C C G A T A A G G T A A G A T A C A G T C A A G C A C A T G C T A A A G G A A A T C G C G C T C G G T C\n",
            "1 1 G G T T C A G A A A G C T C A C T T A C T T C G A G T A T C C C G T G A C A T T C T C A A A A G T G T A C C T T C T A A C G T C G T A A T G C T G C C C T G G T A T T C T A T A C A A G G T G A A G T T C C C C A G G A G A T A A G G G T T C G C T T T C T G T A A C T C T A T A G G A C T T A A G A T A A G A G A T T G C G C T G C A A G A G A T A A G G C A A A C G G A A T A G C C T T G A A G G C C A G A\n",
            "0 0 G T G T C A A G A T C C T T C A G T T G T G C T G G C A G T A A G C T A T C A G A A G G A T T T T T A C C G T G T T G C T A T T T C C C T G T C T T G G A A T A T G T T T C A A C T C T A C G T G A A A C A A T A A A C C A G C C G A T A T G A C C T T T T A C C A G G C C T C T T C G A A A G C T C C G C C C G G G T A C C T T C T C C T A G A T C A G C G G C T G T A T G A C A T A A T A G C A G T T C G G\n",
            "2 2 G T T T A G A G T G T G C T T A C C A A A A A T A A C A G A T G G T C A C C C G T G C A C A T A T T A T C A A T A A C G A A C A G A T G T T A A A G C A G C A A G T A C T A C G T G C T G G C T C G G C C A G G G A G G C G G C A C G C A T A T T A C A G T A C T A G A G T T C G G G T T A A C T T C C A C T A A A T A G C T G T T T T C T A G C A A T A C T C A T C A G T T G G T T G T G T T C G T T A T G A\n",
            "1 1 C T A A T C C C A C T C A A T A A A A G A A T A T C A T C T G G A T A T A T C G A C T C G A A A T G A C T T C G T C C C G T G T G T A C T A C A C T C G T C A G A T T A G A G C A G T C C C C A T T A G G A T G C C T A T T T C T C G G G A C C G A G G G T G T A A A C T G T C A A G A T G A A C G C C G G C C T A T C A T A T T T G G C T A G T A C T T A G T C T T T C C T G T C T C T T T T T T C G A C A C\n",
            "2 2 T G A C C G A A C T A T G G G C A G T A G A G A C T G A C C A A T G G A G A G T C A T C T C C A G A T G A T C A G G G A T C T T T C G T T G A G C T G G A T T T A C G G A T T T A A A G T A A C G C A C C G G C T A A C G T T C C T A C T G A C C G A A G T C A C A T C C T A G A C A G C T A G A T G T A C G C G G A C A G A T G G C C T T G C A G T G G C G A C C G C G T C A C T T C G A G T A A G T C T C G\n",
            "1 1 A T C G G G C C T A C A G A G T T A C T C C A C T G C G A T C C G G A T G T G G T A G A C A C C G C G C T T A T T C G T A A T A G C A A G A T A A G G A G G G C A G G G G A C C C G A C C C A A T G T A G A C A T T T A G A A G G A T G A T T A C A G T T T A C G C C A T T C T C C G A T C G A T G G A G A T T A G C A T T A T T A G T T T T C A T A T A C A T T G A C T T T G C C A C A A C C A A C T A T G T\n",
            "0 0 T T G T T T G C T G A G A C C C A C T G T C C C C A G A G T G A C T C A G C A A C G T A C C T A A A T G G T C G G C A T T A G T A C T G G C G A T A A T T G C A C C A G A T T G A T T A C A T G A A A G C T T A T T G C C C T T A T G C T A A A A A G A G G C T A T G G C A C A G A T T G A G A T T T T T A G C C T A T A G A C T A G A G A C G A T G C T C A T A A T A T C C A A A C A T A C G G A C T A G G A\n",
            "0 0 A G G A G C A A G T T T T T A T T A G T A A C C A A C C T C T G A G C C C C G A C A T A T T G T C T G C T G G T C T T G T G T T G A A C C G G T G G A C A A A G T A G G G T T C A A T A A A T G G G T A A A A T A T A G C G C G C G A G G C G A A G T C T C C A G C A T C A G G G C G C A G C C T A A C A T A A A T A G C A A T C G A T T A A A C A T A A T G A A C A T G G A G C A G G G C G C A G G A G C T A\n",
            "2 2 A T C G A T A G A T G A G T A T G C C C A G C T T T A A C A A G C T G T C C A T A T T T G A T T C G A C T T C A A T C T A T C G C G G T G A A G T A T G A C G C C C G A A G A G A A A T A T A A A G C G A G C T G T G A C C G A C C C T G T C T G C C T A A T G T C A A C A G G T G C C G G G T G A C G A G A G G T A C C T T A G A C G A C C A G A T G G T C G T G C A A T G A C G C C A G T T A T A A T C G C\n",
            "1 1 T T G G T G G A G A A C A T C C A C A C T C T T C A T T C A T C G T T T T A C A T T T G G G T C T T C G C C T C A A A A A C A T C T T T G A C T A T A G T C C A G G A G A T A A G G T T G C A A G T C T G C A G G T A T G C T A T G C T T A C A A A C A T C T G A T C T A G C C T T T G G T T G A C A C C C A A C A A C A C T C G C T T G T T G C T T T T A G A C T T G A T G T C T G C C C C C A A T A C G A G\n",
            "3 2 A C A A G T C C A G A T G T T T A T T T A G G T T C T T A T T T C C C C A T A G C G A G A T A C C G C A T T T A C A T C C A T T A G T C C A A G A C C A C C C A A C C G C T T G C T C T G G T G C G A A A T T T T G G G T T A G G T A A C A G A T G G C G C C A A A G T G A C T G T A C T C G A A G T C G T A C T G C C A A C C G C G G A A T T T A T A C A C A C C T G A T T A G C C T G A C A T C G G T G G T\n",
            "1 3 C G A A T A A C A A G T A G G G C G A A C G T C G A G T G G G A A C A G G C A C T C A G A T G G G T T G T T T G T G T T G C C A T A T A C T A A C G G T T G C G C A A A A A T T T A G C T C T C G A T C G T T A T G C G G G C C T A A C G C C G C G C A G C T A A C C A T G A G G T G G G G C C G T A A C A G A T A A G G C C C A C C G G T T G G A T T A T T A A T G G T G C A G A G C G A T G A T A C C T G T\n",
            "2 2 A C G C G A C A C G T G T G G G T A T C T A G C C T A A A G A A C A G A T G G T C G A T A C G C G T C G C T A G C G G T G G G C G C C G G T C C T A C A T A T C G G G C A A G T G A C G A G C T A C C T A G T T C A G T G A A G T G A C T C A A C C T A A G G G A A A G C A C C T C A G T A T A A C T G T A A T G G A A C C G A A C A G A T G G T A A G A C C C C C A T G T A A G A A C G T T A C A A G T G A G\n",
            "0 0 G A C T A T A A T A A G C A T T A C C G A G C C G C C G G A C G G T A A G A G A T A C A A T G G G A A G A A C C G C T A C A G A T C G A A C C C G T C G A C C T C T C C T G T T A T C C C T T G G A T C T C G C A A T G A T A T G A T T C T A G A C A A T C C C C G G A G A C T C G A G C T C A C C T G T T C G A T T G C G C G T C T C A A G C C A G G A A T A G G C A T G A A T A C A A G C G A T A G T A G A\n",
            "1 1 G C G A A T A C T T T C T A G A G C G G A C C C C C T A C A A G T C T G A T C T C G T C A C G C C C A A A A G T G C C T A A G C A G G T C T G G G G T A A C C G A C A G A T A A G G C G T A C G T T A T G C A A A T C A G T T C A T C G G G A T C A C T C G T C G C C G T G T T C C A G T T T T T A G T T G A C A A T A A G C G A G A T A A G C T T A T A G C C C G C C T C T T C A C A C G T A C T C A C A A G\n",
            "2 2 T A G C T C C C C A T A T G T G G T A T A C A C A C C T C A G A A A T T T G T G G T T C A A C G A C G A T C A A C A G A T G G T T G T A G T C A A T G C T C G A G A A A T T T T G T C T A T T G G G T C C A A A T G T A C T G C G G A A C A G T T G G T A C G T G C C G T G T C G T C A A T A T C G G G A A T A C T G A T T A A C T C T A A C G A A T C T T T T T C A T G C C G G A T C A C T C T C C G T C T C\n",
            "2 2 C T C T G T A C C T A A C T G T T A G G G A A A T G A A A C A C A T A C G A A G G C T T G C T G T C A A C C G G C C T A T G C A T G C C C A G G A C A A G A A T T T G G C A T G A C A C G A T T A C A T G C T T A T T C A C G A A C A G A T G G T C A G A G C A T T T G T A T C G A G T T A T A A G C A G C G A T G T A G T T A G C A A G A A C C A G A T G G T C C T A C G T T T A A G C T T C G T A A C A C T\n",
            "2 2 T C A G G C T A G G A A C G C C G A T A A A C T A A C A G G T G T C C A C T G C A A G A C G A G A T T A T G G C A C A A A G A T A G A C G T C C T T G T T C A A C A G A T G G T C T A C T C G T T T G G G G A G C A G A T G G T A C G A C T T T T C A C T A A T C G A G A C C G A G A T C G A G C G G G A A A A G G C T T A G C A T A C G T G T G T T T C G C A T C G A G T G T A C A A G C T C C G A A C G G G\n",
            "1 1 C A G G G C A G A T A A G G C T C T G G T T G C G G C T G G C G T T A T T T C G G T C G G T C G A C G G C G T A T C T G T G C A C A C T C A C T T T T G T G T A G C C G A T A A G G A G A C G T T C C A A C A G T A T G C G G T C G G T T C C C G T A G A G C G A T A T G A T A T T G T A A T A G T C T T T G G T C T T A T A G T A G C C C T G C T T T A A T C G G A G G A G A A G T A C C C C C G G A G A T G\n",
            "2 2 A C T G G C T C A T G G G C C T A C A T T G A C A G A C G C G A T C A A C A G A T G G C C C A T G C A G C G T C G G A T T G G A G G T G T A C G C A T A G T T C T T A T T G T C G G G C C C G T C G T A A T C A A T A T G C T G G G T A T C T T C T C A T G T G T A C T T A C G A G C G C G A T C A C T C C T G A C G T A C C T T T T G A G C G C C T G T G A A C A G A T G G T C G G T C T G T C C T C A A G A\n",
            "0 0 A T T G C T G T C T C A T C T T G C T G T C G T T T A A A A T T G A G T C T A A A A T A C C T C C C C C G C T A A A C G A A A A G C G A C G C C T C A T G G T A T C A T A A A A C T C C C T C A G G C T C T C A T T C A A T C C A T T A G G A C G A T G T C G G G G T T T A A G G T A G C C G A T C G G T A A G T C A T C G A G A G G T A T C A A T C G C T A A T G A T C C C T C A C C G T T A T T G A A A G C\n",
            "0 0 C T A A G T C C G T T A G T A G G T T G C C G G A A T T T T C A C T T T C A G T C T A C G A C C T C G T G T G A T T T A C A C T T A T A C A T A C C C A T G T T T G A T C G A T C A A A A C C C A G A C A T C T C A A A A A A A G A A C T T G T G G G C G T T A C A T C A C T C A C A C T C G C C C G A T G G A G G C G C G T G C T G T C C C A T T G C A C T G T C T G A C C C T G T T A A G G C C A A A G A C\n",
            "1 1 T T G G C A G A T A A G G T T G T T A G G C A A A T T A T G A C G T A A C A A T G A C A G C A C T A T T C A T T A A C T C C G T A A G A G C G C C C G A T A A G G G G C G T A T G G C C C A T C C T G G G G T G A C G A A A A G T C C C T T C C G A G C G C A C A T G T A C T T C G T A T A G A A C A C G A C C T C G G G A T G C A G C G G A G C A T A T G T T C C T A G G T A A T A A T T T T G C G G G C C G\n",
            "2 2 C G T G C G T T A G A C A A C A C T C T C T G G C C A C T C T A G C G A C A G A A T G T T C A C G A T C G T G T G T A C A A C A T C A T T A G T A C G A C G T A C T T T G C C A A C A T A A T A G C C T G G T A G G T A G T T T G C C T C C T A G C C T A A A T G C T A T T T T A C A C T T A A C C A G A T G G T C T C T G T C T C C T T G C A C A G A T G G T A G G T T G G C C C T A G G A A G A C C T A T T\n",
            "1 1 C T G A C G G A C C G G C G G A A T G T A T T T C A C C T T A A G C C A C A A A A T G T C A T G A A C A T C A G T A A T T C A T A T A G G C A A T A A G A T T A G G C G C A G A T A A G G T C T C A T T A A C A A G T C T T T G A A T G C G C A C G A C G T T A C T C G A C G T G C A A T T T G G C T A G T T T T T T C G T A G G G A A G A T A A G G A G T G A T G A A C C A T T T G C A G A T C G T C T T T G\n",
            "3 3 A C G G G G G T T G T C T G T G G G A A G G C A T A A A C T G G A G C T G A T A A G G T T A T C G G G G A G T C G A C A G T T A T C T A T A T A A C C C G T T A C G C A T A G C A T C A A G G C A C G A C G A A A A T T A A A C A T T A T T A T A T G A T G G A T C A C C T T T T A C G A T A C C C G T C A G T G C C T T T T G C A A G G A C T T G C G G T T G G C A G A T G G T T A C A G A C G A G G T T C T\n",
            "0 0 C G G A C T T T G T T C C G G C A G G T C C T G C G A G T C C A A A G T C T T C C A C C T A A C A A C C G G G C G C C C C A T A C T T C G A A G C C T T A C C T A T G T T C T A C C C G C C G T T T G C G C C A G T T A A A C G A G T G A G G G T A G T T G T G C A A G A T A T C T C T T T A C T C T T C C G A C G C T A A C C T A T T C A A C G C G A C A G A A A C A G G T C G T T A A G C T T A A C A G G G\n",
            "3 3 A A T A A C T C A C A C G G G A A T C A T C C G A A A G G G T T C T T T T G C T G C A G A T A A G G T C C C C G C C G C T G T G C A G A G A T A A G G C C C T T G A G T T C A A C A G A T G T T C T G T A T T G T G A C C A G A T G G T C C T T T T A A G G C A T C C T G A T A A G T G T T A C A T T C T T A A A T A C T G T A T C G T A G C C A T C G C A T C T C A C C A C C A G T A C G G T T A T T G T T C\n",
            "1 1 A G C T G C T G T T A A C G A A T T C G C G G G A C G A A T A G A A G T G A C T C T C T A C G G T C C G A G C G T C G A A A G C G G G T G G C C T A C A C T T T T A G A C T A C T T T T C C G T T A C T C A C G C A T C A T A C C C G G G A C A G T T A A A C A A T C C T A T T A A T A A G G T C T G A T A A G G A C T A A G T C G G A G G G T T C A T A A G A A A A A A T C C A C T A A C G A G T A A G T A C\n",
            "3 3 T C A C C C G G G C G A C G C G T G C A T T C A A G A A A C A A G A A A C G C C C G A T T A T T C G G G T A T G G C G T C T T T C C C A C T T T C G T C T C C C T A G C G T C A T G T G C T A G A T A T T C C A T C T C G T C G A A T G T T G G A T T G C G G A A C A G A T G G T G G G C A G C A A G T A T A T T G C G T C G G G G A G A C A G A T A A G A A G C G C G G G T G C C T T C T C C T C A C C A T T\n",
            "2 2 C G T A A C C G A T T T A G T G A T A C C T T G C G C C A T C A G A T G G T C A T G A G G G T C A T C A A A T T T T T T A G G G A T A T A A T C G T A C T T A A T T G G T G T C A T A T C T T T A A C T A G G C A T C C A A C T C G T T A T C A A A T C T C C G T G T A A C C A A G C T A T T T G G G G T G C G A T A G A G G C C G T T A A T C C T C A A C T G C T T G G C C A A C C C C T A A T G A T A A A G\n",
            "1 1 T C A T A T T A A G C C A C A G C C A C T C A T A T G C C G T G A A C C C A G T T G G A G G A C C G A G A G T T C C A G C C A A T C T G C T C G C G T T G A G T A C C C G T C C G G A G A A A T A A A T T A G A G G G A C T C T T T A A C T A C G T A T A A C A A T C T C T T G C A G A T T A G G G A G A A C A C A T C C T A A G C G T G T G T G T G G G G T A C G C C A C T C A G T A G A A C T A C T A T A T\n",
            "0 0 G T T T C T T G G T A A G A T A A A A A C A A C G T A C A A T T A G A G G T T A G A A A T C G A G C T A G C C A G T C C A A T A A T A G T G T G G A A G T G A C G C C G T C A A G A G C G A C T C G T C A A C G A T T C T T G G A T G T T G C A T G G A G C T G T A G A G T G G T A T A C C G T A A T A A T G A A C C A A T G C T T C C A A A G A G G A G T C C A G G C G C G T T G C C C A T A T C C C C C A A\n",
            "2 2 C T A G G A T T G T A C C G G A G A G G C T T A T C T A C A T T T C T G A T T G C A G C T A C T C G A C C G G G C T A A G A A G C C T T C T A C A G A C A G A T G G T T A G T T C A C T T C C A A C T A A A T T T T T A A T T A C C C C G C A C G A C T T A G C T C G A C T A A T G G C G A G C G T A T A A C A G G A A C T A T G A A C G T C C A T G G A T T A T A A C A A C C A A A G A A A T C A G A C G G G\n",
            "0 0 A G A C T T G A G C G G G C C C T T G T C G G G T C T G C A T A G T T T T T G G A A G A A C A A A A G C G C G A G C A G T T C A C T C C C C A A A A C A G T A T G C G C A T C A C C A G T T T T A A T C T C A G G G G A G C G A G C C C T A G A A C C C T C T A C C C A T A C A T T T A G T A T T A T T C T T A A G A A C A A A T G G A T C C G A C T A T T G T A T A T T C C C C T G A T T T C G T A G G C G T\n",
            "2 3 C A A C A A G A G G A T A A G G T G A A T G G G G G C T T C T G A G C C A T C G C C A C A C C C T T C C C G A A G C G G T G C A C G A C A G A T G G T C T A G G G C T T A A G T G A C A G C T G G T A G T T T C C C G A T C G T G G C G C G A C A G A T G G T C G G C T C G T C A G T G T C C T C A A G T G G T A A A A C C T G A A T T T C T T A C T A A A A C A T G G G C A A T T G A T C G G C C A T G A G T\n",
            "1 1 C A T T G A G T G A A A G A T A A G G C C A A A G T C C C C A T C G T C A A A T C G A C G T A G A C A C G A A G A A A A G G A T C C T T T G A G G A T T T T G C A A T C A A T A T C G G T T T T G T T C A A G C A A T C C A C A G C C C A C G G T A T G T T T G G C C T G A T C C A G C G A G T T A T G A T C A C C T G C T C G A T C A A T T A T C C T G C G G T A A T A C G G C T G A T A G T G G C A A T C G\n",
            "1 1 A A T T C A A T G C A G T C T T C T A G C A G G A A G G A G C A A G G A A A T C C G G A G T T A G C A T T G G T G A T A A G C A C C A A T A G C G A T T T G A A A T A T T A G T A A A C C A T G T A C A T T T G A A G T C T C G G C G C G G T T A T G A C G T G G T A A A T C A T T A A C G G T A C T T T A C A G G T T A T T G A C G T G T G A G A G A T A A G A A C C A G C G T A G G A C C A T T C T G G C C\n",
            "2 2 G G G A A G C A T C T G C A A T T C G A C G G C C A G A A A A A G C A A T C C A A C A T A A G G T G A G T C G A T C G T T C C A G T G A C G T G T G T G T T G C G A G G G C C G C C A G T C C A G C T G G C C C C C G C T C T G T A T C T G G C T C C A A C A C C C A A T T C A G T G T G A A C A T A T T T G T G G A A C T T A C A G A T T C T G C A C C T T T A A C G T T T A G A A C A G A T G T T C A A C C\n",
            "0 0 C T G G G A T G A G A C T G T T A A A A A T A C C A G C A T G G T A T A C C T G T A G T C T G G T T T A A A A A G C T T G G A C T A T T A G T C T A A T G G G A T G C T A A C C A C G C C A A C T T G C G C A C A A T A A C G C T T A A G C G C T A T T G A G G G A C C A A A G G C C T T T C T T T C A A A A T C A C G T C A A A C A T A G T A G T T T C T A G T T C A T C G C C T C A C T C A G G A A T G A A\n",
            "3 3 G A T A C A T C A T A A A G A A T T T T C A G A T A A G C A G T A A A C G T G G A G A T A T A T C C G A G G T G T A A G T A A G A A T C T A T C T C T G G C C C T T C T T A A C G A A C T A C A C A C A G A T G G T G A C T C G T T G A T A T T A T A C C T A C G A A A C C A G A T G A T T T G A A G T G A G A A C T A A T C A T A C C G C G C A G T G A G A G G T A T G T C C G A T G C A A G A A A A T C G T\n",
            "2 2 G T G C C C A A A A T A A G C C A G C T T T G C G A C A G A G C A T G A A G T C T A A C T G C C A A A C A A T T G T A G A C T G C G A C A T G A G C G C G C A C C A G A T G T T C A G C T G A C A T G T A C A T A G T T A T T A T A G T G C T A A A A A C T C G C C A A T G G C T C T A T A G C T G C G A G A C A G G A C T G T A C T A A A G T T C G G C T G T T C T A A C C A G A T G G T C A A A G C A A T A\n",
            "0 0 T G A G A A A C A A G G T A A A C G T C T A C T A G G G C G T A A T T A T G A A C G G A A G G T T T T A T T G T G T T G C G A A G C A G A T C G C A C G G A T A A C T A C C C T T T C C T A T C G G A C G A G A A T G A C A A T A T A G T G T A G G G A T A G A T A C A T C A C A C C C G A C A C G T C C G T T T C C C A A A T C C G A G G C G C C G G A G T G G T A A T C G C T C T A G A C G T T A G T A T T\n",
            "3 3 T A T G A T C T T G T C T A C T T T T C T A G C G T A A C A G A T G T T C G C T A T A C T T T C A A T A C A G A T A A G G A G A C A G G G G G T A T A C A G G A C C A A A G A A A A G G G A G A T A A G A A G G C T G C A T C G G G C G G T A C T A C A C A A A G A C A A A T A C G A T T C C G G A A C G A C A G T C C C T T T T T T T G C C A C T T G C A G A G T T T A G A A C G A G T T C G C C G T G T A A\n",
            "0 0 C A G A A A A A C A C G T T G T G A C C T C C T G A A T C G C A T T T A G A T G A A T C G C T A C G T T C T A A G T G C G T G A G C A G A C T A G A G T T T C C T A G T G A C A A T T A C C T C G T A G A A A T T A G G C G C A C A T T A G G G T C G T C T T C T A C G G G G A C G A A C T T T C T T G A G G T C T T A C G T C G G G A G T C G G A G T T A T G T A T G G G G G G A A T A C T C G T C C T A T T\n",
            "2 2 T A G A G A G G A C T A T A A T A A C C A T C A G A C C C A T G G T G G T G C T G A A C A G A T G G T A A A T G T G C T T T T T T T C A C A T A C C G T C G G C T A C T G T A T G T C A T T G G G C T T G A T C C G T T T T A C T G C A G C C C A A C T C C G G T T A G A T G C G T T G G C T G C G G C C C G C G A T T G A C A C G A G G G G A C T T T C G A A T A G G T A T A C A A G C C T T A A C C A A T C\n",
            "0 0 A T G C T G A T G G G T C C T T T C C T C C T G G C G A A C T G C T C A C T T G G T C C T T A A G A T A A C A G C G A C A G T C T C C G A G T C A T A G A A G G T G T C A C A T A A A G A T T C A T A G C G C T T C C T G C A C A T C G C T A C C G C G T G A G T C C C A T C G T A T G T A G A A A G C C C C G A G C A A G G C C C G T G G T C T A C A A T A A C A T A C G G A A C G A A T C C A T G T A A C C\n",
            "2 2 G G C A G T G T A C A G A C T T A A G T C C G A C T T T G T T G C A G T T C T C A T G A C C G G A T T A T G T A A G C A A T T T G C T C G T T T T A G G G A C C C T G C C G G A G A C C C C A A A C T A T A T C T C T A T G C T G C G G T G T C A C C G C G A A A G C G G G G C C A G A T G T T C A A C C G T G C G G A C C C G G T G C A A C T T T T G G A A C A T G G T G C T G G A C A G A T G G T A C C A T\n",
            "0 0 T C T C C A A G G T C G T T G T T T C A C C G A A G T C G T G C A C C A T T G G C A G A T T C C T G G T G A C T C T G T T T C G T G A T A C A A C A T A A G A G G T C A G T A C A C C G G C A C G C G T G T G C G G A T A C G A T C C A A C A A T T C C C T T G T C A G A A C A A C G T T A G G T G G T C A C T G T G A T T T T C T G T A T G T G A G T A T G A G A A A A A G G G A T C G G A C A G T G G G T A\n",
            "1 1 C C C A C A C T G C A A G A T C T T C A C C A C G T A C A T T T T C G C G A T C G T C G T C T A G T A A T C A T T T G T G T C C C A G T A G T A C T A G C A G G A C A C T A C T G A G T A C C C A C G C A G A T A C G A C C C G G C A G A T A A G A G G A C G T C T C C A T G C G C A T A G A A C A C A G A T A A C A T T A C A G A C G G C C C T T T A A G T A C T T A T A C G C G T T G G A C C C C C T T G G\n",
            "0 0 T A T C T A T T G C A G G C A T C G T C G C G T A C A C G C C C T T C G A G G A C C T G A G C G G G C A C A A T A A A A T C G A T G A A T T G T T A G T A T T A T T A T A T G G G C G T A A G T G A G A G T C T G C T G G T T C T A T C T A G T T C G T G A C T G T A T G C T T T A A C G G G G C G A C G G T C A T C G G C A C T G T G T T T G T T A C C A T A T A G G A A A T G A A T A G A T T T C A A C A T\n",
            "0 0 T A A A G A A C T C T A T T A A C A T C A C C G T G T A C C A T G A C C T A G A C G A T C G C G T A A G G G A T C T G T C C T C G G C G A A G G C A C T T G T T C A T C A A A T G C A A C A A G G A T G T C C T G T T A G T A G T A A G G T T A A A G C T A T A A C A C C C C A G A G T G G T A A T G C A A A T C C G A G A G T A C C T C C G C A T T C A G C T T C G C T G C T T T T A A T G C C A T C A T T T\n",
            "1 3 T A G A A G T A T C C A C C G G T A T T T T G C C C T T A T G A A T C G C G G A A C G A A C A A G A C C G A G A T A A G G C T C G C A T G C T G A G A T A C T A T T G G A G G T G A A T T C T C G C C C G T G C A T G A T C A A T T A T C A A T T G T A T G G T A G A T G A C A G A T G G G T A G A G C A G A G A T G G C A C G G T T C C A A G T C T T G A A T A T G A T T C G T A C A G A A A T G A A A C T C\n",
            "3 3 A T T C C A A A T G A G A T A A G G A G C T G A C G C C T C A C T G G G C T G G C C G G G T C A G C C G C T A C A C A A T T T C G T T C A G A T T A G A T C C A T T C T A T G C A G T T A G C A G A T G G A C G A G C A G A C A G C T G T C C T G C C A G A T G G A A C T A G G A A G G C G A T A A T C T G C G T G A T A C T G A A T G C A A A G A G T G T C A G C C G C C A A T A A G A G A T C T A A C A A T\n",
            "2 2 G C G C G G A A C A C A G G T C A A C A G G T G G C G C A T A T T T G G A T G G C T C G T C A G C G G A G T G C G A G C C A G A T G G T C G A T T A C T T T C A T G C G T T T A G T T A C T A G G G G C C T C C G C T A C A G C G T T T T C C A G T A A A G C T C T A A T C G A T T A C C A C T A G C C G A A A T C A C T A C T C A C C A G A T G T C C G T A T T T T T C A G T T A G C C T A C C C C A G C T A\n",
            "0 0 T A G A C C C T T G T T G C G A C T A A C A G G C A A T A T G C A A T T C A T T A C T A C A A C C T T T A C T A T A G A G T A C C G A T A C G C A A G C A T A G G G A C A C T T G A C C A T T A C C A A C G A G C G G T G G A C A C G T G A C G A T A C T T A A T A C A G C C A T T C T C G T G G C T C T C G T T C T A G C A T T C A T C G G T A C T G T T C A T C C T A T C G T A A T T C A G G T A G G C T C\n",
            "1 1 A G A T A T C A A C A G A T A A G G A T T T G C A G A T C A A T T A G T T A C C C G A G A A G A C T T A G A A C G G G A A A A A T C C C C C G T T C G C A T G G G T G T A T G A C T G T T T T G T A G G A G G C G T C C A T A A A C A G G T A A G T C G G A T A A C T A C A A A A A T G A G G T G G C T A A G T A G C T A T C C C T T A A G G C C A C T C G A G G G T T A A C T A G G C C T G A A C T G A C T A\n",
            "1 1 G T A A C G A A C A T A A G T A G T A A T T T A A T C G G G G T T C T A T T A T G T T T T G T T G C G C C G T G A T A A G A T A C C G A C A A G C T A C T G C T T A C C T G A C C T A A A G G G G G G C A A A G T A T T G G T T T C T G C G A G C T T T A A A T C T G A T A C A C T C T A C C G T A A C A G T T T T A C C C T T C T G T A G T A A G T T C C T G A G T G C A G C C G A G C G G G T G G A A A C A\n",
            "1 1 G A G G C A A C C G A T C A A T G G G T A T G G A T C G C A A T C A T T C T G C C A G G T T C T T T G A G G T C C C G C C G G G G T C C T T C T G A T A T C T A G C C T C G G A T T A G A G A A T A T T G T C C A A G G A C G A T T A A A C G A T T G A T T T A C T T G A C G G A A T A C A G C T C A G C T A T C G T T C A A T T T C T C G A G C C A G C C C T T A A T T A C G C T T A A G C G A T A A G G A T\n",
            "0 0 G A C A T A T G C G T C A A G C T G A T C C T T A T A C G G T C C T A T T C G A C C G G A C T G A C T A C T C T G T A A T G C T A T A G A T A A T A T T G C T G G T T C T T T T G G A A C T A A T C C T T C A G C T G A C G C C G A T G A A A A C A G T A A G T G T G T A G C A A A A A T C C C T A G T A T T T C A C G G A A T A C A T A A T T C A T T T A T A G A T C T C A A G T G C G C G A C C A C A A C C\n",
            "2 2 C C A A T T A A A C A C C C G A G C A T G C C A G C G A T T C G A G T C G T C T G G C C G A A A C G A A T C G T A C A G C T T G T T A T C A C T A T G A C G T A A G T T A C T G A T T G G G C C T C C T A A G C A G A G A G C C C G C A G T G A T A C C A T T G A C T A A T T G C G C A T C T T C C G A T G T T C C T C T C A A T A C G A T C A G G A T G A G C T T C C C A G A T G G T C C G A T A T C T T G A\n",
            "0 1 C G T G G G T T G T G G G C G T G A T A A G A C T A A C G C A C T A C C G G T T C T C T C T A T G G T G G C T C T T C C A T A T C A C C A G A T T G T T G C A C T G C A A G A C G C G A C T T T G A A A T C A C C C A G C C C G C T T T A T C C A C T A T T C T G G A G T T T T C C T T G T T C T G C G G A C G T A T C A A G A T G A C G T C A A A A A A A T A C G A G T G G G A A C A C C C T C A T T C A T T\n",
            "3 3 G C T T A A G A C T A T G T T A G A G A T A A G A T C T T A G G T A G C A A C T C G A T A C T A C G T G G A G C C C T A A A C A G A T G T T G A A C T C G A A C C C G A T T T G G C T C C C A T A C A C A A C A A A T A T T A T A T C T A A A T A A A C G G G G C A C T A G T C C C G C T T G T G A G G A T G G A T T C G A C C T G C G G G T T A G C A C G C A G T T T C A C A C T T A G A A T T G G C A A C C\n",
            "1 1 A T A C A G A A G T C C T G A G C G A C G C T T G T T C G T C T G C A C T C T A T C A G G A T C C A A A A A T T C T C G A A C T C C G T G A C C C A G C A A G T G A C T G C T A C G T T T C T T T G G T A T C G A A A T T A G A C T T C C T C G A T A T G T A G T G C G A A T G C T C G C T G A T A A G G C A T A G T T T C C C G A G T A G G G C T A C C A A T T A C A T C G A A G T C G G A G A T T A G C T C\n",
            "2 2 G G A A A C T A A T C A C T C G G A A C C C C A G C A G A T G T T G A G A A C T T C G A C A C G T A T A G G A A C A G A T G T T G G C G C A G C T T A A C C T C T A T T T G C T G T A G C T G A C A A C A G A T G G T C G A C A A G T G A C G T A T A C T G T T G A T G G G C T A G A G T C A A T T A C C T T G T A C G C C A T A T C C A A T C G C A A A A T G A T A C G T T G T C T T C T C C C A G A C G G A\n",
            "1 1 A G A G T T A C C C C T A A T T T G A A A G T G A T A A G G G G C T G G T T A A A A T G T G A C T T C T T A C C T T A G C A T T A C G A A C T G T T G T A C A G G G G A T T G T C C G A T C C T A T T A A A A T A G T G C G G C T C T G A C C G G T A T C A G G C C T C C A G A G T G A T A G G G A G T T C T G A G T C T C T A C T A T G C A T T C T G A T T A G A T T A G G T C C A G C T T T T C G G A C A T\n",
            "0 0 C A G A T T T A C G A A C T A C T T C A G A C G T A C C A T A A T T G G A C G C G A A C C A T G C T C G T T G A G T G C C G G C T A C A T A G A A G G A A G C C C T C C C A T G C A G T A A C A A C T C G G G T C T T T T G G T T T A T A G G A A C A T A A A T T G T A A G T G G G G A G A A A C T T C C G T G T C A A T A C C A G T A C T G T T G C T G G G A C T G C A G G T G C G A A A A T C T A C C C C G\n",
            "3 1 G T G T A C T C C T T T C C G A T A A C A A C A T G A C C C A C C T G T T A C C C C T G G C T A C C A A C A A C A T G A T T G A T C C C G T C A G A T G T T A A G A T T C T G G T T C T A C C T T A T A A T C C T A C G A C G G G A G A G C C C C A G A T T A G G G C A C C C G C C G A T A A T C T T C A G G A T C G A T A T G T A C A A T A T A A T T A C C C T T A G A T C G G T T A G T C G T T A A T C A G\n",
            "3 3 C A C A A A G G A C C T C A T A T A A T G G A A C C G G C G A G C C G A G C A A C T A A T C C G G A A G T T C A G T A T G A A C A A C A T G G T C A G G A T C A C T T A G C T G A G C C C T C G A C A G A T G G T C T C C C T G A C C C C C G T A T T G G T A A G T T A A A T A C C A T C A A A T A G A C T A G A T A G A T A A G C C C A C T T T G T C A C G C A A G T C C A C T A G T A A A T A C C T T T G A\n",
            "2 2 T G T T G G A A C A G A T G G T T A G A G A A C C T T T C T T A T C G T C G G C A T G T A A G C G C A G G T A A C C G C T T A T C A G A T G G C C C C A G C C A T A G G A G T A C A T A T G A C G G G C C C T C C C G C C C C A T C C G T C G G T C C C A C T G A T G A G T C T T T T A G C A G C C T T C G G A C T C T G T A T T A A G T C G C T C A T A A G A A T G A A T A G T A A G C T C T G C C T C A T C\n",
            "1 1 C T G T A G A T A A T T G A C C T G T A T C G T G T T G G A C C T T A C A G A C T T T A G T A G C T A A T A T C G G G C G G G A G T A A G T T G A T T C A T G A A G A T A A G A C C T A C C G A T A A T C T G C C T G C T T A A C A C A A G C G A T T A G C A T A G A T T T C G T C C C C T A T A A T T C C T A A T C C C T G A A C A C T T C G T A T C C T T T C T G A T T G G G A A T A C C A C C G T G A A C\n",
            "1 1 A C T C A T T G G G G G T C T T A C T A T G T A C A G A T A C C A G A A T A T G G C T G A C A A G G C G A G T A C A C G T G A G T G A T G G C G T C A T T G G A T G A T G A A T G C C G G T G T A G A T G A A C C C T G A A G C T T A C A A T A A G A A A T G T T C C G A C C T A G T T G C T G A T A A G G A T A C G C G A C G C A C C T C G A A G A C C A T G G T G T A C T A G G A G A A T G C G T T A T A C\n",
            "0 0 G A T A G C C T G A C C T G C G A G C G T C A A A C T G T G C C A G G A T A T T C C A T A T T C A A G C G G T A T C C C C T A A T C A G T G C G A C T A T A A G A G G G T G A T C A A C T C C C G T G A T T C T T C G C T C A A G C T C C T T G C A A G T A C G G G C C C A A A G A A C T C G C G C G C T G A C G C G A A G T A C C A T A T C T C T T G A A T C G G G A T C G T C C A G A A T T A T T A G G T C\n",
            "3 3 G A T A C C G C C A A G C C T C A G G G G T C A C G A G T A C C C C A T C G G T C C C T T G G T T T G T G C C C A C G A G T A A T T T G C C T T C A G C T T G A T C G T A G C G G C T A C G T T A G T C G A G A G C T C C G G A A T G G A G A C G T T A C T A A A C C C T C A T T C A A G T A A G G G G T A T A T A A A G C T G T C G C C T A G T A T G A A C A G A T G G T A C C A A A C A G A T A A G C A G G\n",
            "2 3 T A C C A C T G A C G T C T A A A A G G C T A A C A C T G G G C C A G T G C A C T T A G G C A A C C T C C G C C T A T C C T C T G G T T A G C C C G T A T G A T A A G A A T A T A T G T A C G G T C C G T C A T C T A G C C T C T A C A G A T G G T A A C G G T T G A T T G A T A C A A C T T T C G T T T A T G C A G G A A T T A C C A A G T A A T C T A A A T A C T G G C C A T T C T A T G A T C T A T T C G\n",
            "2 2 G G G A A C A C G C A G A C T G A G C A A A T G T A A T T C C C G T C C G G A A C G T A C C A G A T G T T G A G C C C C T A C C A A A T G G G T A A A A C G C A C T A C G T G C G T G C A C C T G C G A G A T G A A G G C C C T C T A G G T C T C T T A C G T T T A T A A A T A C T G T A T A C T T A G A C G T T G T G G C A T C T A T A C T G A G G T T G G T T C C A T A C C T G T A C G T A T G G G G A G T\n",
            "1 1 G C G C T T T A C C T T G A T T C T G T G A G C A A G C G T G C A A G G T T A C A G C G G G C G A T A A G C T A C C A A C C T G A T T A G C A A C A A A A G C T T T G T T G G A C G G T T C C C T A T T T G G T T T G G G T A C T C A G A C G C G G A A G C A A A G A C T A G T G C T A G A G G A T T G A A T A A T T C G T A T A C C C T G G A T T G T T C C A G G C T C C C C T C C C C T A A C C T C T A A G\n",
            "3 3 G C A G A T A A G C G A G T G A C C T G G C G T A T C C G G G G C G G T G G C C T A G C A T C G G A G G T T C G G T C C A C C A T A G C A G A T G G T C A C T A C T C C C T A C C T C C G T T A A A T C G A C G T A C C T T A T T T T A T C A T A A C A G A T G T C G C A T T T C C T G G G C C T A C C G G G C A T A G G G C A G C T G T T T T T C A G A T A A G G T A C A A T T G G G G G G C C T T C T C G T\n",
            "0 1 A G A T C G G T G A G A A G C C C C G G C G G A T T A G A G C A A C G A A G T A C G T T A A C A G T C C C A G A G A A A A G T C C A C C G A T A G C C A C C G C C C T T T A G A G A T A G A C C G T T A T T G T A T A T T G A A A G A T G A G C A T T A A A T C G T C T G G T G A A T C A T A A T C T A C G A T G T G T A T T G A A A A C T A T A A C C A T T G G G G C T T A C A G G T G G A T G G G T C A A T\n",
            "0 0 G G C T A A C G C C A A T T C A C G G G T G G G A T C C C T A A A T T G A G C A T C C G C C A C G T T T A A C C G G C C A C C G T T G T T T G G A C A T G C A G G C T T T C T G C G A A C T T C G T A G T C C A A C A G T C A A T T A T C A T T A A A T T C T G G T T T T T T A A G C A G A T C T T T T A C A C A G A A T A C G T C C A G A A T T G G G T T A A A A T C A A G T T A T A C G G T A C T A G T A T\n",
            "1 1 T G A T A C T C G A C T C A A T G A A A T T T A C A T C T C T G T C C A A A A A G C C G A T A A G G G A A C A G C T A C C A T C G A A G A G A A G A T A T T T T C C G A T A C C T A C T T A T G A G A C A A A A C C C T T A T A A A G C T A A T T C T G G T T T A C G T G C C A A A A T A T A G T A G C A C T A A T T G T C T A T T T A G G A G G C C T A T C C G A A C T C C T C C T G A A G G T G C T A A A C\n",
            "0 0 C G C C A A G C T G G A C T C A C A T T C A C A G C G C T T G A G G G G A G A C G A G A A G G T T T T G T T G G C G G C T A A C T A T A A G A C C C C T G T T T G A T G T T A C C A T A A C A G G T C G G A G A C C T C C G T C A C C G T T T T G A A T A T C C A C G C T G A C G T A C C T A G T T G G G T T G T A A T C T C A A T T C C T T C G A G A A T C C A C C G T T T A C A A A T T A T C A A A G T C C\n",
            "2 2 T G G T C C T C T C G A G G C T A C C T T A C A G A T G T C C G A A C G C G C A T G C T A C C A G A T G G C C A C G A A C A C A G A C G G G T T C G T G A C T G A G G C T C A G A T G G C T C A G G C C G A C T G T C G C T C A G T T G A A G A A T A G C A C G A G C T C C C T G G T C T G T A G T G C G C G G A G G G C C T C C T T T G C G A T G T C C G T A T T C A A C G A T A T C C T T G T A T C A A T T\n",
            "0 0 C G G T A T T T A G G C T A C A C A C G A C A G C A A C G T T T T G T T A G A C T A A A G A A A C G A A C C G G C T C T C C T T C G A A T G G G T A G C A A A C C C A G T A C G G C T G A T T G T A T C A C G T T T A T T T T T T C G G T C T A A G T G T G C G A T A T G C G A G A G G C T A A T G T A A A G T A G G A C G C C T C A C T T C T T C C A G G C A C C C G C T G C G C A G A C C T G T C T T C T G\n",
            "2 2 A T T G G G A T A A T C T T G A A T G C G T T C G C T T G G A G C A C T A T A T A G G T G T T A T T C A C G T C A C C A G A T G T T C A C T A T G C T T G G T G A G A T T A C T T G A C T G T G G T A T C T T G T A T G G T T G T C T G T G T T T T T A G A T T G T T G C G C C T C T A A C G G G T A T T G T A G A C G G T T C C T T G T G A T C A A A A G T A G T T G C A G A A T A T T T A G A A T C G T T T\n",
            "1 1 C A T T A T G C T A A T C C T C A G A A C C A G T C A A A T G T T C G T G C A G A T A A G G T C A T G C T A T C G C A G C T A T C C C T T T T C A G G T T T A G C A G G T G A T T A G G A A A G T T A C A T G C G A T T C G G T T T C T C G T C G T C G C T T T A A G G A G A T T A G G T T T T C T G A T G T C T T T C C C A T A C T A A G C C G C T C G G C A A T G T G A T T T T T G T A A C A C T G T G C T\n",
            "0 0 C G G G G T C A T T T G C C A G T A T C C G A G C T T C G T G G T T T G C A A A C G T A A T T G C A C A C C A A G G C T T C A C A A G T G T T T A T G T T C T G A A G C A G T C G A C A A T T A A C C T T G A G G A A T A C G A G G T C G A T G C A C T C G T G G C A C T C G C C A C C C C C C G G A A A C C T C T C A C T A A T T C G A A G T C C G G G C G A T C A A C A A T G T T T C C A A C T G T G G C T\n",
            "1 3 T A T G T T A C G C A T C T A A T T A A C T A A C A G A T G C C G G G C A G T A C T C T G A C A T A A G A C C C T T G G G G T A A G T T G G T G G C G G C T T A G A C C T G T G C G A G A C G G A A G C G C A G A C A G A T G G A A C A G G G A T C A G G A G A T A A G G C C G G T A A T C T G A T G C C C T G A A G T A A A C T T A G C C T G A T A A G G G T A T G T T A T A A A A T T A C T T C T T C G T G\n",
            "3 3 T G A C A G A C A G A T A A G G G C G T A C A G T T G G A C A T G C G A G T T A C A T C A G T A G C A A C A G A T G G C A C C C C A C A C C G T T T T C A A A C A C A T G T C C T C G T G G C G A G G T T A C G C G G C C C G A A A A G C A C T T G C G T C T C G G C A C A G A T A A G C T C A G A T T A G A C T A T A A G C T G A A G G A A C G A A C A A C T C A A T A T C T T A T A T C A A G C G T A A A T\n",
            "0 0 T T C T T A C T G G G G G G G G C A T A C T A C A A C T T C G T G A T T C T T T C G G G G C G A A G T T A G G A C G T T A A T C G A A G T T G T A G A T C A G C G A C G T T C T A A C C C G T T A T C T T G A T C A T T A C C A A T T A T A T A T G A G A T T G A C T T T G A T A T C T T G A T A A G T A A T T G G T T G T T C C A T A A C C G G A A A G T A A T G T C G T A G G G C A C T T A C A C G A C A T\n",
            "1 1 C T A A A A G C C C C C G T T T G G G T A A A G G A G A T G C G G G C A A G A G A T A A G G C A G T G C C C A C C A T G T T C G A T C G C A G A A T A G T A C T A C C A T G G T A G T A T A T A T A G A G T A T C C G A T A A G A C G A G A G T A T T C T G T A G C T G T G G T A C G G T A C G T G C A T A A A T T C G T T C A A G A T T C G T T T T C C A C G T A C T G G C C A T C G C G A G A T T A G A G C\n",
            "3 3 C T C T T G A C T G G A A A A G T G C T A T C G A G C G A A T T T A C G A G A G A T T G C G G A C G G T C A C A T A A C C C G C A G A T A A G G G A G T C A G G T T A A T T A C A C G A T T C G G C C G C C G A G T T A A A T A G G G G A C T A G A G A G A C C A T C T C T T G A C C A T G T G C A T G T T A A T A C G T A T C A G A T G G T G T T C G G A A C C T T C C C T A A A A G T T A A A T C T G A T C\n",
            "1 1 T C A C C G G G C G C T G A G T A A C C C G G A G T G C T G A T G G G A A T A A A T G G C T A T C T G G G G C G G T T C T C A T A T A T T G T T T C A G T C T G A C A T A T A G C T A G C A T C C G T T G T A G T T A A A A T G T A A T T A G A T A A G G A T T A C G A G C G A C A C C A G A G C G C C G A G A A C G C T G G A A T A C A A T A C A A A C T G T T T A T C T C G A T A G C A C T T G G A G T A A\n",
            "3 3 G G T T C G T C A T C A C T A G A C G A A C G G T T C T A C A T C G C T T G G G C C A A C T T A C T G A G C A A T C C G C A G C A C C T A C A A C A G A T G T T G C C G T A A A T G G C G C T C G T T A T A T G G T T A T T T C G G A G G G T G G A G G A A C C C C A T G G T C G A T T T C C T T C C G G A G A T A A G A G T G G T A G A G T G T A T C C A A T T A A G G G A A G T G G A T G T A G A C T T C C\n",
            "0 0 T T G T T A A T C C T G C A T G T C A A C T G G C C C C T T G T T T T T C T T T A G T G T T C T A C A C A A C G A C A A C T T G G G C G T A T T G G A A T A A C C G G C G G T G C G T T G T T C T G G A G T G T T T T T G A C T G A C T T C G A A G A C C C T T T C T G A A G T T G T G G A T T G A T T T T T G C T C G C A T C A A C T G A A G A A C G G A G C G C C C T T A A A A C C A G T A G T T C A T T C\n",
            "0 0 T A T G C T T T C A A T T A C T G C G G T G C T A T A A G G C G T C C A G A C T T A A A T G T C A T A A A A A T C A G A G A G C A T T T C A A G G G A A A T T G A T A A T T A T G C T C A T G A G T A C A G A C C A C G T G C A C C C C G A C T T G T T T G T C C A T C C T C A A C A C A G T T A A A C G A A A T T G G A A G T A A A T A T G G G A A A C T C T T T C C T C C C A C C A T T G G G C G G T G T A\n",
            "0 0 C C A T C T G G T C A G C C C T C C T G G A G A C A G A C A C T A G C A T T C C C G G A A A G T C T C T A C G A T G T G T T G C T A C T A A G C T G C G T A G T T A G T A G A G C A C A C C G C A G C G A G C A A T C T G G G A A T C C A C C G G T C C C G C T A A A G C T C A C C A C C A A G T A G A A G C C G T C C A C T C T G C C G T C T C T T A G G G T C G T C A G A T G A A G T G T A T G C A T T T T\n",
            "3 3 A T T A C C T G T C C T T A C A C G C C A A C A G T T G G T A A C G T G A C G A C C C A T T T C C T T G T G A A G C T C A G C T A A G G C G C T C T G C A A G A C A G G C A C G A A C G G G T C T C C A A C A T G G T T C C C A T T C G C A G A G A T A A G A T T G C A G A T G C G G A T T C C A C T A A G C C A C A C C T A C T T C G C C A T A G T C A T T G A A A A G T A T T T G G T A A A T T C G G C C A\n",
            "0 0 T C G A A T T G A C G G T T T T C A G A G A C T A A C A A T C G G A C A A C A G C C C A C G A A A G G C C C A C A G A T T G A C A T G A A T C C T A A C G A A A C C T G G A G T T T T C G G T C T A T T T A C C A G T C T A A T G A G T A T T A T T T T T G T C A T C A T T A G C G A T C G T A A G C C A T G C T A C T C G A A A G A A G C C T A C T A T C G G G G G C G G T A G C A G A T C A G A A A G C A T\n",
            "2 2 A T C A A C T G T T G G A A T T A G C A A A A C T G G C C A C A C A A G C G A C T C T G A G C C A T G A C A A C A G G G T A C T C A T G G T C C C C C T T C T T A C T C A A C C G C C T A T G A T A C A G T C C A G G T G C T G G G C T T C A T A A C T C G G G T T C G G A A C C T A T A G T C G G C T G T T C A G C C A G G C C C A C C C C T G G A A C C T T C C C C A C A G A T G G T C G G G C A G T C T A\n",
            "1 1 G A G A A C G T C A A G C A C C A A T T G A G T G A T A A G G A A G T C T T T G C T C A G C T T T A G A C C A A T C C A C T G A C C T G A A G A T A T T A A G A A G A G G T G A A G G T G A T A A G G A G G G C G T G A A C C T A A C G A T G T C A C T A A C C T C A G A C A G A T T G C C C T A C A C G T A A A G C C T G T G A T T C A C C A A A A C A G A A T A T G A C T A C A T A C A C A A C T C G T G C\n",
            "1 1 C A A G T G G T A T A G G C C T T A C C C C C T C T C T C T G T C G A A G C A G G T T A A A C A G G C C G G A C A T T A G A A G A T A A G G G A A G C G A T A A G C A T G C T A A C G T G A A T G C A T T C G T G C T C A C G T T T A C A G T T G A T A A G G A G G T A T T T A G C C G A C C G A A G T C T G C C T G C A A A T A T G A G T T A A T T C C T G T A T C T C T G A A G G T C G C T T G A T G G C A\n",
            "1 1 T G C T G G G T T T G A T C T T C G C T G C T A A G T T C T A C G G A A A G G T A C G T A G A A A C T C A G G A A C G C C C C A A C A C G T G A A A A C T G C G A C G G G A A G T T G G C G C A G A T A A G G A A T T C C T T G A A C T A A C C C G T T G A G A C A T T C T G A A G C A T A T A T C A T G T T T G C G G C A G C T A C T A G A G T G C A A C A T T A T A C T T T G A C T A C G A T C T G C C A C\n",
            "3 3 A G A A T T G G T A T G A T A C A C T C T T G G A A G T A G T G G T A A C A G A T G G T C G C T C G G C T T A C G C A T G T A G G A T G G G G G C C G G C T T G G A G T G T T C G T T G T T C C T T C G C A T A C C G G C A A A G A C G A A T A T T C A A A C G G A G T A A T C C C C C T T A G C A G A T A A G G T A A A G T T T T G T A A A C A G C A T C A T G A T A C G A C G C G C C A G A T G G T A C G G\n",
            "3 3 T A G A G T G A G A G T A G A C C C T C C C G A G A T T A C A T A A C G T A A A A G A T A A G G A C C A C G A A C A G G T G G T C G A G A G G G G G C A A T G T T G T T C T A T T C A T C A T T A T T T C T C G C C T G G G C A T C T T T T A C A T G G A T C T G A T A A C G T T G T G G C C C G A T C C C A C A G A C T C T T T G G A A A C T A A C A T A A C T A T G A G G T C C T T A C A T G T C G T T A C\n",
            "1 1 G T G T A G T T G T T T T T C A T C T A G T G A C T A T T T G G T A A A T A T T T A A T A T A T C C T C G G G T G A A T T T A G T T A T T A G G T T T T G C G A A C A C T C C C T C C C C T G G C G T G C T A T C C T G T T C G T T G A G A C G G A G C G C T T T G G T G T A A C G A T G A T A A G A C G C A C C A G A G A A C A T G T T G T T C C T T A A G G T G T T G T T A G C C T A T G A A T A G A C G C\n",
            "1 1 G A G A G A T A A G C A G T G C G T A C T A A T C A C A C T A G G A G A T A A G G T T T G T C C G G A G C C T G G T A T C A T C T T G G G T T A G C A C T A A C C C G A T G T G G A C G A A A A A A A G G C T T T T C T A T A A A A C G C A C T T C C C G G A G G T G G T G C T T T C T G T C A C G A A A A A A T A G C A A A T A A A G T G A T G G A T C A C G G A G A T A A G G T T A T A T G A T C A T T T T\n",
            "0 0 T T G C G A C G C T G G G T G T A G A G G C T C T C A G G A T C A G T C T T C A C C T A A C T T G C G C G G C A A G A A G C T T C T A C A T G C G T A C A C T A T C A A A T C C A C C C T T C T A A G G A A C C C A A G C A G G G C C G G C C C C G C A G T A A T G A C A T C G G G C G T C T G T G T G C C G T A A T A T C T A A A A G T A T A G C A T A A C C C T G T A C T A T G C C C T G T T C C C A A C C\n",
            "2 2 A T G A A A T A T A T T C T A G C C C T A C T C G G T G C A G G A A G C G G C A A C A T T C A T A A G G T C C C A A G A A C A G A T G G T C G G A C A A G G G G G T A G A C G A T A A C G C C A C T G A T T G A A A A C C G G A C A G A A C A G A T G G T G C T A G G C C C A C C C G T A C A C T C A A G T A T G G A C T C T G G C G A G A G C C T G T T T A G G T G A C T A G T T G G A A T G A T C T T G G T\n",
            "2 2 T C A G A T G T C T G A A T A G G C T T A T T T T G G T G G C T G T C C T A A C T A T C G A C G A A T T G C T T C A G T T G G G A T A G G G G C G A T C T G G A C T A G G T A G T T A C C T G T C G T A T G G C C G C C C A G A T G G C A A G A A T G G A A C A G C C G A A T A C G A C C G C A G A A T C A A T G A C T C C T G G C G C T C G A G G A C A T T T T T T T A T A T A A T T T T A A A A A T A A T T\n",
            "1 1 T G C C G G G A C A T A T T A T G T A T C A A T T C A T T G C A C A C G A C T T A C A G C T A G A A T A G C T G C C G G T T T C T A C C C C G G G G T T C A C C C T T A G G T T C A G A A T G A T T A C T T A C C C C G T C G G A A A G A T G G C C G C T T A T A T C G C G A C G A T A A G C T T G T C G G G C C A G T G A A C C T T A G C T C T G A T A A G C A A G A C A T A C C A T G A T G T T G G A G A C\n",
            "1 1 T T C G G A T T A C C T G G C C A C G A A C A C A C T A T A A C A T C T A G T C C T A T T C C G A C A A G G C T C C A T T A G T A T G A A C G T T T C A C A C G G G T A A G G T C G A A G C A T C C C G A C T G A C G T G G T C G A A A T A A A A T A C G C C A C C G C A C T A T G T T T G A A A A A C T G A C A G A T A A G G A T C A A C G C C C G T A A A A T C G T C G G C G A G G G A T G C T T A A T C C\n",
            "0 0 A T G G G G G T T C A G G A C T A T T A A A G A A A C G A C G T A C A G A A T G A C C C G T T A C T A C G A A A T C A A A A A C A A C T G C T C C T T G A A A T C C C T C C A T T G C A G T T A G G T A G G C A T A C G C T T T A T G C C T A C G T A A C G T A C A T G C A C G G C T C G G G G A T A A A A T A G A A G C A C A C T A G T T A T T C T T G C C G T G A C T T G G A C T C C G G T A C C A A T T A\n",
            "0 0 C C G T A T A C G T T T A C C G A C A A A G C T C C A G C T T C T A C T G T A T C T A C T G G A G C C A C T C G C G G T C A G A C T G C A T A T T G T G T G C G A T A G C A G T G C A C T C C A G T C A C T T T G C A C G A T A C A G A T T G G C A C G A C C C C A G G G C G A G A G C A C C C T G C T A C T T C C T G T G T G A C G T C T T G A T A T C G A A G C C G A T C T G A A T T T T G A G C G A G C T\n",
            "0 0 T T A T C T G G C C A C T A C A T A C T A C G A G T G T T A A A G C G T T T C T A A A T T C G C A T G T A T T A G C A T A A C G C T A A A A T G T C G A T T G T C C C G T C A A C A A A G G C G T T C G T C T C C G T C T G A A A C G A G G A C T G G G G C A G A G T C C T G A A T G T A T C G C A A C A G C A C A A T G C C T T G C A A T T G A G G G A A C C C C C T T C T T A A C A G G A T A G T T G G A T\n",
            "2 2 G G C G G C G C G T A G C C G T G A G T A G T G A G A G G T G C G C A T T G A A C T C C G A G C C T G G G A T A C A T T A A T C T T A A T G C C A C C C G A A C A G A T G G C T C T G A G A A C A G A T G T A A T T G T G C T A G C G G C G G T T A C A T A T G T A T C G C C T G C C A G A T G G T C A G G C G G C A C A C G A T C T C C T G T C C T G G C T T A T G C G A A T T A C C G A G G G A G T A T C C\n",
            "1 1 A C G T C A C A G G T G A T T A G G T G G C A A T G G T A G G A T G C A A G C C G G A T A G T T A G T A C G A A A A T A T C A A T T T C T G T A T T C G T A A T A C C C A G C G T C T G A G A T C A C G C T T C G T C T G G G T G C G T G A C T A A G A T T T C G A T C C A A G G C T T T C T G G A C A G G A C A G G G T T A A A A C A G T C G T T T C T T T G T C T A G A C C C A C A C G G T C T A C T T A A\n",
            "1 1 G T T G C C C C G G G T C G T G G A A G A G A T A A G A A C G C G C C G C A C G T A C T T A T G A A T A C A C T C C T C A C G C C G A C C C C G A A T C G C G G G T C C T T G C T G G C G A A A T T T A G T A G C G T C G C A G T G C T A G T T C C G C A T C C C T G A A G A T A A G G C G A T T C T T G T A G T A A C C T C T T G C C A A C C A A T C A A A G T C A A A C T T G A C G C T G C A C T A A A C A\n",
            "2 2 G T C T C C G G T A C G A A T G C T C T A G A C T C T T C C G A G G T A A G C G A T G A T T G T G T T T C T T G T C A A A C C A G T C G A T G A T A T T G G T A C A A A G T A C C G A G C T A C C T T C T A C C A T T C A C A G T A C C C T G A A G G T A G G C C T G C T C C G A T G C A C G A A A C A G G T G G T A G G A C T C G T T G G G G T A A G A C C A G C C T C T T C C A T T C A G T C A T A C A G C\n",
            "2 2 G A C C C G C T T A T A G A T G C A C T A C A A A G G T C A T C G T A T G A T C C G G G T G A C G T T T A C T C A C G T G A G A T A G T G T A C G T T A A A G G G C G C C G G A G C G C G T G A C A G A G G A C A A G C T T T C G A C G T G G A C G G A A C A G A T G T T G C T T A T T G T A G A C C T A T T C T C A T A C A T T A T A A G G G A T G G C G T T A T A T G T A G T A G A A A T T G A A T T T T G\n",
            "0 1 A T A T A A G A A C C G T T A T A G A A C A G A T T C T A G G T C C T A T C T A T A A C C G T C T G T T A G C T C G T A C G G T A C T A T T G A T T T C A A C C T C A A T A A A G A G C C C G T T C T C C T G C T C C A G T T A T C A G T A G A T G T C A A C G A T C T G C A A C G T A G A T T G C A G C G G C A A G A T T C C C G C G A T A A G G G G G G T G A A G A A C G A A T C T T T G C C A A T T A C T\n",
            "2 3 G C T T T T C C A G G T G C T G T G G C T T T T G T A T A G C T C T C C C C C A C C A G A T G G T G T T C C A A T A T G T A C G A T G A C G C C G A C G A T T A T A C A T A G C A G A G A T T A G C C G A G A G G A G T T C T T G A G G T T C T A A T C G G A C A A G C G G C T A C G G A A G C G T T T T T T T G G A C G C G T G T G C A A C T A T G C T C A T C G C C T C T C T C T A T C C C T T T A C T T C\n",
            "1 1 C A C G A A C G A C A G A T A A G G G G A C G C G A C T C A G A T G C A C A A A G C G G C G G G A C T C G C C T T C G T C C T T T T A T G G T G C C G A C G G T A T A T G C C A C C A G C A T C T T A G A C G C T C A T C G G A A C C C G A A C G C G G G A T T T A G T G A C T G T G C C A A C A G A G G A T C G C T G G A C T A T T C T G A T C G T A C A T G A G T G A T C T A C A G A T T A A A A A C T G G\n",
            "2 2 T T C A G T G T T T T A T G A C T T T T T C A T A G G A G T C C G T A T C A T C C G G A C C G G A T C G A T A A A T T T T A T C A G T T G T A T C A G A A A T C C A T C G A G G A G T G T A C T G A C C A G A T G G T G G G T A T G A C A C A C T G A G A A A G A C G C C C T G C A A C C A G T T G G C C A T T T T G G G T A A C A C G C T T C G A A C A G A T G T T C T T C T G G A T G T T A C A C T T G G T\n",
            "1 1 A G A A A A G G G G C A G T A C C G A T A A G T T A T T G T T A A T C T G G T A T A C A A T A G C A T A T T T T G T G T G A A T G C C A C A C T A G G T C T A T C T C A T T C A T C G C A G G G G C C T T T G G A T C C G T G T C G T G G A C G T G G C A G A G T A G C A A A T G G T A C C T G G A T C G G A A C A C C G A T A G C T T C C A G C G A T A A G A T A T A G G G C T G A T A A G G A G A G T T T A\n",
            "0 0 T A A A T C A T C C T A T C C C C T G T G T T C G A G T A A T G A C C G T G G G A T A A T C A G A A G A C A G A A G T T A A C T T C T A C A A A A C G G C G A A G T T C C A G A T A C A G T G C A A C C C G C A T C A T G C T G A C A A A A T T C C G A G G T T G T G G A T G C T A G C G C T C C T C G G C A G C T C C A G T A G G T T T C G G A C G A A A G G G C C T T T C C C G G T G C T A A T C G A T C C\n",
            "1 1 C G T A G C A T C T C G G T A T C T C A A G G T A G A A T C T C T T G T T A T T T G T T A T G C G T C A A C G T C C A C A T A C C C A G C G T T G A G G G C G G A A T G G C T G A T A A G A A T A A A T A C A G T G G A A A A T C A C A G G T G A A G A T A A C T G G A C T C T T A G A A A C T A A T C T C T G A A T C A A G A T C T G C A T G C A C C A C T T A A T T T C C T A A A G T G A T T A G G C T G G\n",
            "1 1 T G T A A A T T A A T C C T G A T T T C T A A A G C C T T A T A A C C G T G T C G G T A C A T A T A C A A G C T T T T A G G A C T C C A A C C A C G C C T T A G T G A A G T A G T A A T T A C G C T G A G A A T A C T A C C A T G G C G G G T C G T G G A C A A A G T G C C G A T A A G G C G G G G A C A G A T A A G A A A C T A C T A T T G C C C G C G G A G T T A A C A G G A A A C T C A A A A G A C C C C\n",
            "1 1 T G C A T A A T T A G C T C A T C G T A A C T C G G G T C T G C C C A C C G G G T A C C G A T A A G G T A A C T C G A T A G T A C A C C C A G C G G G T G A T T A G G C C G T G A G T T A C A A G G T C G C C T A C A C T G T C T G C A C A A T A G C A G T G T A T C A A T A C C T G A A T T C A T G T T C C A A A G G A A G T T G G G G T A A G A T A A G A C C A G G T T A C T A T A A C A T G A C A T A A A\n",
            "1 1 A T T G T T G A A C C G A G A C T C C C G C G T G G C T A G G T T T C T T G G A A A T G T A A T G T C C T C G A C C G T T G T G T C C G A G A T A A C C C T C T G A T T G A T T T T A C C G G C T G T G G T G G C C C A T T C A G T C T T A G G T C C A C G A C G G G C G C T A A T C C T A A T C A G T T C G G G G T T T T T G A A A C A C G G C A G G A G A T A A G A A A C G A G C C G A T C A A C A T C T A\n",
            "0 0 T A C C C T C G T A A T T G G T T C C G C C T T A G C A T C T A T A C A C T G A C T G C G G T T T A C G T G G A T G G T A G C T C C T T A C T G T A T T G T C C T A T T T G T A C C G T T T T A T C G T A T C C A C G C T G T A T C A T C A C A A A G A G T A T A A C A A A G T G A G A C A T A G A G G T G A C T G C C A A G A C C A T C A A T C A A A C T G G G C T A T T C C A A C G A T C A G G C G T A T G\n",
            "2 2 C A C A A G A T C A T A A C G A T T G T C A A T G A T G T T G A A C A G T T G G T C A G T G T T G C A G A G C A G G G G A C C A G A T G T T C A C T C G G G A C A G C T G T G A G C C A G G T A A C C A T C A T A G C A G A C A T G A C A C T T A A A C T T A T A C C A A G T T A A T G T G C G C G G C A A G T T G G T C C A G T T C A A T C G T T G C T G A C C A G A T G G T C T T A G A C C G G A T T T C T\n",
            "2 2 A T A G A T C T A C A C T T A T C G A T G C G A A A T T G A A A G C T T T G A T C C A A C A A T C C A A A T C C G T C G T C T C T C G A C A A C A C T G G T A A G G A C G A A G C T A C T T G C T T G T G T C C A G A T G G T T C A C A C A T G G A A C T G A T T A A G T C T A C G A G G A C T C A T G T T T T T T G G T A G T G T A T C G A C C T A G C A G C A G A T G G T G C C G G G C A T T C T G A T G T\n",
            "1 1 C A C G T T G G A T A A A A G A C C C T A T C C G T A A A T G A T A T A C T A C C T G A T A A G C A G T C G C A C G C G G C A G T A A T C T C T T C C A A T C G T G C G A G T A T C C C A C C C G C A T T A T G A C C C T T T A A A G C T G A T A A G G C A G T C C A C C T T A A G C G C G T A C G T C G A A C G T G T T T A A A A C A G A T A A G G A A A T A C T A A C C C T C A T C C A G G T G C T T A T A\n",
            "3 3 G G G G A C A G A T G G T T T G C T A C C T C T C G C G C A T G A T A A G A A G T A C G T T G T G A T G A C A A A C T T A G C G A A G G C A C C C A C A G C C A T C T T A G A G C G A T A A G A G G T C C C C C T C C G G G T A G A C C T C A C A T G G C C A G T G A G C C T C T G C C C A A C C A C T C T G C T T G T T A G G A A T A G A G G C A A T G T C C G G T A A T T T T G C T C A T G G C C C T C G G\n",
            "1 0 A G T A G A C A A G T A G G T T G T T T C A G A A G G G T A C C C G C A G G T A T G T C C G T T A C G G G T G G T G T T G G A C A C A T T T T T C G G G C T T A C T A T C A T C T A T A T G A A G T T A C G A C T T T C A A T T T A C T T C A C A G G A C C A G C T C C A T C A G A A T G T C C A T T T T A G T G T T C T A G A C A A A C C C A T T T A G A T A A C A A A A C T A C C T C G A G C A G C A A A G\n",
            "3 3 T T C G G G T C C T C G A T G A A T C C G A G T A G C G A C A A G C T C C T G A C A C C T G C A A C A G A T G T T G G C C C G G T T G G A G A G A A G T T T G T C G T T T G C A A G T C A T A C A T G A C C A G A T G G T G C G T G T C G G A C G C A G T T T G A C G A T T T T G A A T G G T T C G A G A G A T A A G C G T G A G T T C A C G G T C A G A T C C A C A A C C A C T G A A T G A C T A C C A T C T\n",
            "3 1 C T T T T A T T C A T A G G T C C C C C A A T C G G C C T G G T G G A C C C T A A T T C C G G A A G T G A G A G A T T A G G G T C C A T C G A G C T T A A A T T T T T T T T T G A G T G A A A T T C G G T G A G A G C A G A T A T G C A T C A C G T T C A C A T A A G C G G A T C C G A G C A G G T G G C T G T G C A A A A A G T A G G A A C C A C G A A G T T G C C C A C G C C T T C G T T C T G T T C A A T\n",
            "3 3 A G A G A A G T T C A C A C T A G C A G A A C T G A C G T G G T A T T G A A G A A C C T G G T G A C T G T T C A G C C A T G T G A G T G A C A T A C T T A G A T G T A T C G A G T G A T A A C C G C G A C G T T T C C C T G G A G A T A A G G A T A T T C A G A G C C C A T C A T C A A T C A G C G C G G A C A G A T G G T T G G G T G T G G T G T T G T A G G G T C T G A T T T G T G A A T C A C A C A A C C\n",
            "3 3 G T T G C T T C T C T C A T A G A T C A G C C C T C G C G T G C T T A T T A G A A C T C T A G A C A C C T A C G C C T C A A C A G A T G G T A A A T G G G C T G A G A C A T T T T G A A A C C T G C T T A T G G G C C A T A T G G G G C T C A T C G A A C A G G T G T T G T A A G T A T A G T A G T G A T T G C A T A A G A T A A C C C A C T T A G T T C C G T G A T A A G C C C G A C T G T A A A A A T C C T\n",
            "2 2 A C C A G C T A A T A G C A A T T A A G G T C C G T G A C G A C G C T T G A T A A C A G A T G G T T T T G C C G C G T A A C T C T A T T A T A A G T T C C T T A G G G A G A A T G A A C G A C G C A A A T C T G C T A G G C A A T C A T A A G T G A A C G T A A T G G A A A G A G C T C A A G A A A T T A T G T T C G C A G A C G G T T A G C A G C T G G C C G C T C A T G T T C T T G T A G T G C A A T C T G\n",
            "3 1 G A A T G A T A G A T A A A A A T C T T G T C A C A C T A C T T T A T G G T A A G T C T C T T G A A C A A G T A T C G C T C C A G C A C G A A G C A G A T A C G A A C T A T T T A C A C T G G G A A C G G G A G C A C A G C A A T C C T G G T T T G T G C T A A T G C C A G G T C C A G G T G G T C A A T A T T C T T T A T C G C C G A T A A G A T C G G A A C G A A A C A T T A G G A T T A A C G T G T G G A\n",
            "2 2 C T T A A T T G T C A T G A C A C T T A T A C A C C T A C C A C G A C A A A A C A G A T G G T A A A A C T T G T C G C G G G T G G C T A C A A T A T A T A A C C G T A A T A C C T T A A C C C C G T G C A G T C G C T G G A C A G A T G G C A T A G A G C A T T C C G C C T T A A A G T C G T A T A C C G A A G A G C T T C T A T C G C A G T C A A G T G A A T C G C C T C A C A A A A T T A A T G C T T A A T\n",
            "3 3 C T G G C G G G C A G G T G G T C C C T C G G G A G T C A T G C A T G T G C G T T A A T G C A G C C A T A C A A C C A A C A G A T G G T T G T T C C T G T A C A G A T A A G G A A A G T A T G C T A G A T A A G A A A G A T G G A G C C A C A G T T T G G A G T T C A G A T G G G C C C T G T G A C C A G T A C C G T A A C G G C C A A A G A G A T A A G G T G T A C G A A G T T A G G T C G T A A C C A C A C\n",
            "1 1 A T A G C A G A T A A G C C T C G A T C G A G A T A A G G A C T A C G A G T T T G C T C T T G A T T G C A G G G G T G A C C T T C C T A G A G G C G G G C T C A C A T T T T T T A T T A T T C T T G T C C A C G C A A C G A C C C T T T C A C T C G T C T G A C T C T G C A C C C C C A C A T C A G A T T A C C T T A C C G G A A A A T C A C A A T G G A G A G G A A C C C C T C C C C A A T G C T C T T G T T\n",
            "0 0 C T C T C C T G G T G G G A G T T A A G A A C A C T A C C T G T T T A T G C C T C A G G G C T A C C T T T A T T G C T A T A T C A T A T C C G T A T A C C T T G C A T G A G A A C G A T G G C G C G A C G T G C T T A T T A A A T T G A C C C A G C T C T G A T G T T G G A C C C C A T G G A A A C A C C G T C T A A A G C T A G A A T C C G C G G G C C T T C T T G A T C G C A C T C A A T G G T G C T A T G\n",
            "0 0 C G A C A G T A T T A C G A G C A A A C G T A C C G A T T T C A C T C A G T T T A C A A A G T T T A T T T T C G T C G G G C T C C A G A C G C G T C G A C A C C G T G A A G C C C T G T G A T C G A A T A C C A T T A T G T A A C C C G A A G A G A C A G T T T A C A C C G C C C G T T T T T T A G T C A C T A T G C C G T C G A G A C T T C C T G T G G G T A A C C A T C G T G T A A G A T C T C A A A G C G\n",
            "1 1 A A G A A G C A G A T C T G T G A A C T A T G C A C G T T G A T T A C C C T T A T T A C C A C C A C C T G A C A T C C A A C T A G A T A A G A T A C C G G T A A A C A G C C A C C A C A C C A G T A T C A T A G A C T G C G A A C T T C C G G A G A T T A G A G T C A G T G T A A T T A T A C A T G G A T T A G A G C A G G T T A C T C G T G A G G G A C T A T A C C T T T C C A A G T T A T A C A C C T G A T\n",
            "1 1 T T C T G A G C C C C C A T T T G G A A G T G A T A A G A A G C G C C A C A T C C T G G G G A T A A G A G A A C C T G G A G A C T T G C T C C G T T A T T C T T A A C C A T G T G C G A A A G G G A T C T A G A T G T T C A G G T T A G T A T T G G T A C C G C T A T A C C C T A C G C T G G G A G T A T C T G T T T G A T T G A A T G C A G G C G C T C A A A G T A C G C A T G T C T G A C A A C C C A G G G\n",
            "2 2 A A T T G T C A G A G C G T G G A T T T C T G T C A A T C C G C A G G C G C G T C G T C C T C C A T G T G T G T T T T G A C G A G G T T T G G G C G T C T A C C C G T G G C T G A A C A G A T G G T C A T C A C G C T C T A A A A G A C G T T A C T C T A A T G A G T C C A G C T A C G C C A A A C A G A T G G T C A G A C T G A G A C C T A G T T C T T C C G G T G T T G T C G T C T G G A C A T A A C G T A\n",
            "0 0 G G A A A C T T A A C G A A A C T G C G G G T C C G T A A C A C T C C T T G T G A C C G A T C A T A T T A A A T A A T A C A T C G C C G G A C G T C A G A G A C C G T T C C A G A G C C T A A G T A A A C C A G A T T G T C G A G G C C T C T T C G A A T A C C C A G G T A A T C C T A T C T C G A A T G G T G T A T G G A C G T T G G C A C A G A A G T T G A T C A A C G T T T T T T G A G A A A T T T G G G\n",
            "3 3 G C C C A C G A C C T T C A G T T C A G G G C G A T T A G G T G A T A A G G C A A A T A T C G C A C A T T A A G C A A G A T G A C C C T C C C A G A T G G T C A C T G G A T A T A A A A T G T G T C C A C T C A G C C T G C T G C T T T G A G A C A G C C T C A T T T C C C C A T G T A C C T T C T T T G C T G A T T C G A T A A G A G T C A G A G A T A A G G A C G A T A A C G C T T G C G A T G T G A A G A\n",
            "3 3 A A G C T T G T A G G A T T G C T G G A T T T T C T A G T T T A G A A T T G A G T T T C G A T G C T A A A A A C A G A T G G T A T G C T G A G C A C G G T G C A A T A G G A A G C T T G A G C C C C G A A C C T A T G A C C C G G T A T G G T G C C T G G T T C G A C A T T A C G G G C T T A A A A G A T A A G G C A C T T G A T C G G G T A T T A T T T T A C G G G C G A T T G C T A A A C T A T G A T A C T\n",
            "0 0 T T C C T G G C C A T T C A A G T T A A A A T A C A T G T G A G C A A C G T A T A C C C C T A G A G G C T T T G G G A G C C G T T A A G G T A C A C T T G A A G T G A C T C A A T T T C T T G A T G C T A A G G A G T C A T A G A T G A A T A G T G A A C A T G A C T G G C C C C G T G T G C A C C C G A T A G A A T A A T G G G G T C C G C C C T G G T A T T G T A G T G T A C C C C A T A A C G G G A G A T\n",
            "0 0 T G G G C T A A A C A C A T T G C A C T C T T T C C A G G G T G G A C G G A C G T T C A C A A C G G A A G G C A G T G C C T A G T G G G C G A G G T T T T G T G A A T C C A T C A T T A G T C G C C T C G G G G G G C G T G A C A A T G T A A T A T A C T T T G T G A G T G T A C A T T A C T C A C G G C C A A T C G A C T C G G T A T T T A G C T T T T C C C C T C C C C G A C T G A T A T T C C C G A C T C\n",
            "2 2 C G A G T G C G C T A C T G C G A C G T A G T G G T A T G G C A T G A C G G A C G T A A C T G C T A G T A C C A T A C G C T A T G C A G G T C G G T G G C T G C A G C G T T T G C A G C C A C G G C G A G A C C A G A T G G T A C C T C T T A C C G G G A T C A T C G T T A A T G G G A A C T A C C A G A T G G T C G C G C T T A A A T C G G T T G C G G G G T T T T T G C C G T A T A T C C C C C A C G A T T\n",
            "0 0 T C A T T T T G T A A C A T A G G A T G G A G C T G C C A A A C A T T G C A C C C A T G C G G C T G A G A A G C C T A T G C A T C A A T T G C T G G G T C G T A C T T A G G T T A A G C T T G T A G G C G T A C C T T A A C T A A T C T C G C T A A A C C C G C C A G T G A T G A C T C T C T T G A T A G C G T T T T T A A C G T A C C A T C G C A A A G T T A G C A G A A T G G C C T A C A C C C T T G A C G\n",
            "1 1 C C G C G G G T C T T C G G T G G G G G C A G A A T A T A T C C T C G C A T G G A G T A C T G A T A A G G G G T C A G T C T T A A T G A T A A G G A C G T A G A T C T A T G C T A A T T T G C G T G T A T A T A G A G T T T G T A G T T T C T A A A C T C A A A A T C C A A A C G C T T A C T C A C T T T T G G T A G A C G A A G A T T G A C T A G T A A A T A C A G C C T T C C A G A T A A G A C C G T T T T\n",
            "1 1 A C G G T A A C C C T A T G C T A A C A T G A C A G G T C G G C T C G A T G C G G C G G T T G A T A G G A C G C A C G A T T T T A G C A C G G T C G C A G C T T T A T T C C C A A T G T G A A T T G T T T T A C C G C A G A T T A G C G G T G A T T A G G T T C A G T T A G T G C A T A G A G T A T A C T T C T G A G T T C G C T G T T G T A A G T C T A T T T G A A A A T G T A T G A A A G A T G A T A A G C\n",
            "0 0 A A T A T A C G A A A T A T T A G C T T T T T C G A T C A C T G C C C G T T G A A T T C G G C T T A T T T T T A T T A T A C A T A A A G A G G G G C A A A G G T A A A A C G G C A G G C C C T C G C T A A T T G T T C A A A G T T T C G T A A G T A C A A G A G C A G T A G T C A A G A T C A C A A G C A C A G T G G A T G A T T T T A T T G A A A C G T C G C C C A A C C G A T A G G C T C A G A A G C G G G\n",
            "3 3 G T T C T T A T T A C A A C A T G G C G T T T G C C C A G A T A A G C A A T C A T G A C T C G A A A C C G A C C A G G T G G T T A A G A A C C G C G T T T C T A T T T T T C G C G G T T G C G T G A T A A G A A G G G A A G G T C A T A A T A C T T T C C T T C G C G C A A C G G T A C A A A A G A A G C C T G T A A C C T G T T A G C C T A G A G A T A A G C C G T T G C T T A C T C A A A G C C T T C C A A\n",
            "1 1 A A C G C T G A A A T G A T C G G T G A T T A G G G C T G G C T T G G T C C A A A A T T G A C A A T A T T T G G G A T T C G A A A T G T A A G A T G G G C A T T G T G C T G T C G G T G T A T T G A T T C T T T C G G A G G T A C A G C T G T G G G C G G C A C C A T C G A G T A C A A G G C C G G A T T A C G T A A C C C G A A C T A C A A T T C G G C A T A A T G T A A G T G G C T C G T T T G A G T A C G\n",
            "3 3 C T C G T T T T C C A G A G A T A A G C T G C A A G G C T T A C G T T T A C C T A A G C G T A T T G T A T G A C A T T C A A G A T A A G A T C T A C A T C T T A C T A C A C T T T T C C A A A A A G G T G T A A T T A T A A G G C A C G C A C G C G A T G A A C A G A T G G T T T A T T T A A G C T T T T T C G G T A T C C T A T C C G T C A A G G A A C A T G A A G G G T G A T A A G G T T T G A C A A G G T\n",
            "0 0 A A T G A C C A G C C T C T T A A T T G T G C T A C T T T C C A T C G A A G C T C T G T C A C T G G A T C T G A T T C C A T A T G A G C A G A A T T G C T C T T C C A T C A G C T A A T T A G A A G A T A C C T C C G A A A C C G G C G T T G A G A C A T G C C A A T T C C C C C C T T G T T A T T G G A A C G A G C A G A A G G A A C T G C C C G T T C G A A C A C A T C G T A G A A T T A G T C G C A A A A\n",
            "0 0 G G G C C A C T A G T T C C C C C G T T T T T A C C T A G A T A C G G T C T G A G T T C C G C T A A T T C A C T A G T C T T C T G T A T C A T T A A T T T C G G A T T G T C G C G C G T G A T G G T C C A C C G G T G G T A T A C A C T C A C G A A A T T A C A T C G T C C A T C A G G A G T A A G A A C T C G A T C A T A A A T C T G A G T T G G T A G C A T T T T A A T A G C A A T G C C C G T T C G C A A\n",
            "0 0 T A A A T C T C A C C G C C T C C G A C T A C C G A A A A T A T A A A C T T C T T A C C T T A A C G A C G G A A A T T G T G T A G A A T A C A T A G A C C C T A G C G T A T T G T G A T A G A T T G G T A G A T C T C T C G G T T A T A A A G T C T A C T A G A A T A A A C A T G A T T A A G A T A A T G A C A C T G C T A A C C A G A A G G C C T A C C C C C A G A C T T T G G C C T G C T T T A G C C T T G\n",
            "2 2 G C A T C T T A C C G T A A A C G A G T T T C C A A C A G C A A A G G A C C G C A T A C G G A T G T T C A C C C G G G G A A T T C A C T T A T T C G A A T T A T G T A A T A A C G G G C T A C A T C C A T C C G C T C T T G C C C T G T T T G C A T T A T T A T A G C G C A T T T T T G A T G A G T G G G A C C A G A T G T T C T A T T A A A A A A C A T A A C C C G T A G G T T A A A T C G G C T T G G A G A\n",
            "1 1 G G G G T T A T C G G C C A T C A T G G G C T C C G C A T A T A T G G T T G T G T T C C T G G C T A T T C A C A T C C G G G G T A T A G C A A A G T C C T G A G A T A A G A T A T C A A T T C G A T G T C A A T C A G G C C G A C A A T A T A T T G A G A T G T T G A T C A T A T G C A C C A A T A A G T A A C A A A G A T A A G G C C T C T G T G C A T C T G T A C T G A A T T C T A C G C A T C G C A G A T\n",
            "0 0 A A A G T G G A G G T A A G C G A G G G C T A T T G A G G T C C A G G C A T G T T A A C A C A A C T T A A T T G T C T T A T T T A A G T C C A G T A C G T A C A A C C G A G A T G A G C T T T G A G G A T C T A C T G G A T G A G A G G G C C C A T T T T T G A C G T G T A A C G C T C A T A C A G T C A T G C A T T T A C G T T G G T A G T C T C G G C G A T G G G C T T C A A C T A G A C A A A T T T T C T\n",
            "1 1 G T G A C G G T G C A A T T A G G T T T T A T T T C C G G A G C A T G G C C G C G A T A A G A C G C G A A A C G A A G G A C G C A G C C A T C A A G G T C A A A G A C T G T G A C T T A C A T G C G T G A C T C G C C C C C T A T A A C T C T C T A A A T T G G A A T T C A C A T T C A A A C C T G C G G T A C C T G G G A C A C T A G A T A A G G A T A A T A C T T T C G T A G C C C C C C G G T C T A A T A\n",
            "2 2 A C A C G G C C G T A T A T A C T C C A C A A G C T A A A A G T C C T G C C G T G G T G T G T G G A G G A C A G A T G G T C A A C T G A C G A A T T C A T A G A G T T A C T T C A T C C C A G A T G G C T A T C T T G C C G A C T A T G G T T G T G T G G A G C A G A T G T C G G A T A C A C G A T A C G A G G A T T G A G C C T A A T T C A C T T A T A A A G G C T T T A A A G T T A C G G A G G A G A A C A\n",
            "0 0 T G C T A A C C C T T G G A C C T T T T A C A T A G A G C G C G A G C A A A A C C T G T A T A T C T T A A C A A C C T A T T A C G A C A G A C C A A C A T C C G A A T A A G A A T T A C A A C G C T A G C T T A T C C C A A A T G A T G T G T A T A C G G C A T T T T A G C A G A C G G G A A T T C C C C T T C G G C G A T A A T C G T A A T A C T G T C G C T C C G A G A G G G A C T G C T C G A A T G T G T\n",
            "1 1 T T T G C G T A T G T T A G A G T C C T T G C C C A T T A C T T G T G A T A A G C G A A T G T A C T C T A C G T T G T A G G T T T T C T A G G G G A A G T G A C G C A C T T C T A C T T G C G T C T T T T A A A A A T G T C A T G A T G C C T A A C G A A G A C T A A C T C G T G C C G A T T C A T G C C G A G T C T T A G C T A C T C T T A A G T C A G C T G T A T C G A A T A A A G A T T A G G A T T G C T\n",
            "1 1 T G T G A G T C T G T G T T T A C C T T T C C C T G C C C C A A C A T G A T T G G C C G T C A T C G A G C C T T C A A A T C A G A A A G A T A A G A G A G A T A G C T C A G T C A T G A T A T A T T C C C C A A T T A A C C T C A G C T T G C C T T T A T C G G T G T G A T C A C G A A C T A T A A A C G A T G C T T A G G C C A G C T T T T T T C A C T A A A T A G A G C T C A T A T T A T A T T A C C T A A\n",
            "1 1 T G A C A A T G T A A G A T T A G A T A C A A G G G A T A T C A C G A T A A C G C A A C C C T C G G A C A G A T A A G G G G G T C G T A T A G A A C G G C G G C A T G G T T C A A A T A T T T T C G G C C G G T G T A T C A A C G T T T T G T C T T C C G C A C T C A T A T C G A A A A C C A T A C A A A G C G T G C T T A T A G T T A T C C G A A A T G A A T A T C C A G A T A A G G A A C A T C G A T A G T\n",
            "0 0 G T C G A G G G C C C A G A A G C T A C A T C A G A C C C T T T T G T T G G C A A A T A C A C A A A T T T T T C C A A C T G T G G G G A A G T C A T C T A G T T T T C G T G C A C A A T C G T G G A G C T C G C C G A T C T T T C C T T A T C T A G G C T C T A G T A C G C A G G C C T T C T C A G C G T T A C A C G T T G G C C G G A T G G C G T C T T A T A T T C T C A C G G G A T A A A G T T T C A G T T\n",
            "2 2 T C C G G A T C G A T A A T A C G A G T G T T A C G A T A G C T A G T G G A A A A G A T C A T T T T G C G G C T A G T G A G C T A C A G A T G T T T T C T G C A A A C A G A T G T C T G C C A T T T G A G A G T A A C T A G T A G C A C C C A C C C T A T T A A A C T A A A A A G G C G C G A A C C A G A T G G C C C G T T C A A G A G C A T A C G T T A G A T T C G C T G T T G G A A G C T A T C A T G G T C\n",
            "0 0 A C T A A A C T T T T G T C C C C T G G T A A A C C C T A C A C T G A T C A A G A A G C A A A T T T C A G T G C T A A T T A T T A C C A G T G G G A T T G G G A A C G T T A C A A G A T G G T A T A C A G C T C C G T A C C G T A G C A T C T G G T A C C A T T T G G C G G T T T C T A T A C T C T T T T T A T T A T A T A G C T C G G C T C C A T T C T C T T T G C G T T G T T T A A T A G T A G A T T C A T\n",
            "1 1 T T G A A A A G T C T C A T G A A A T A A A A G T C A G A T A A G G T G G T G A C T T T G G A C G C C T C T A G T C A G T G C G C C T A A C G A A C A C T G G A A A G C G T T A C A A A G T T C G G T A C A G C C C C C A G A C A A C A C T A C C C C A C T G G G C A G A T A A G A A A A C T G A T A A G G C C G A T A A A A A A T A T A A C T T T G T C A A G G A C T C T T T G G T A G A G G C A C G C C A A\n",
            "0 0 G A T T A T G C A T T C T T G C C G T T G G C A G T G T C A G C A T G A C T A T A T T A A C C C G A C C C T G A G G G A G A C A T G C A C T T G G C G T A A G G A T C A G T A C A C T G G A C T A A A T T C G A T C T A G C C A C G A T A C A A A T G C G T T C C C C G T G G A T C A G A C C T T G T G G C A T A C C G C T T A T G C G G A A A G G G A G C C T C T T A T A C A T T C C T T G C T C T A C T A C\n",
            "1 1 A T C C G A G T C T T A A A C G G G C A A G G T C T G G G G T T C A T C T C A C G C G C T G A G A G C G T C A T C G C A G T G C A T G T T T A T A G T A T G G A A G A G A A C G G C A T A G C C C G C C A C C A T T T A T A T C T A T G T A T T C A T C G G T T A G A C T C T A C T C C A A C G T T A C T G G C C G A T T A G G G C A A C T A C C C T A C C T G A T A A G C C T A T G A G A A C A T A A G T A A\n",
            "1 1 A T A T G G A T G C T T C G C T C C C T G A G C A G A C T T T T T T G C C A G T A C C A T G T T C T T A T G G C A A G A C A A A G A T G T G T A T C C G A G G T C A C A G T A T A T A C G G A T C C A A T A A T T G G G A T G G G A T T G T A T T G A T A A G A C C G G A T T A G A C T T C G T A G A G A T A A G C A T G T C A T T G G T T G G T A T T C T T A T T G C T C T G C T C C A G T G G G T T G G G A\n",
            "2 2 C T T A T G T C C A C G T T C T C C A T A C C C T C T G G G T C C G A T C A A C A C T A T G C A T T G C A A A T A G A A G G A T G A A T G T A C A C G C T T A A A G G G T G A G C G A C G A A G T T A C A G C G G C A A C A G A T G T T C T G C T G C A A C G G T G T G C C T C T C T A A A C C T G C G C G G G A A C C G G A T A T C A C A T A A T T T T G G C A T T C C G A T G G C G G T G C G T G T A A G T\n",
            "2 2 A T T G A G T A T T C C G A G C G G C C T T A C A T T A T A A G A A A G C A G C A T A G T C C T G A A C G C T T A G T T A C G A T G T G G T C A A C A G A T G G C C A C A C T A C T G T T G G T C A G G A G A T A T T C A G G A T C T T A C G C T C C G T G A C A T A A T G T C A T A C G C G G C T T A T G T T T C A G T A T T G A T A T G T A A A A A T G C A C A G A T C C T A G A C G A G T T T T A C G C T\n",
            "0 0 C A G A G T T T G T A A C C G C T C A C G C T T A T T C T G G A T C G A C C A T A T A G A C G A T T T C A C T T C T A C A C C T C G T T C T T T G T G T T T A T T C C A T T C C A G T C G A G T G C C T A G C G C G T G C A G T A G C G G C A T A A G T T A T C A T G G A G A A G T G T G A G G C G G A A C T T T T G C A G A G C T G C C A C C G G G G G G A C T G G C T C C C C G G A A A A C T T A C A G C A\n",
            "1 1 G T T T A C T C C C T T A A C A A A A G C T C G C T A C T G T T G A G C G G T A A G T A A T T T G A A A T A T A G A G G G T C T A T G A A A C A C T T C T T C C A G T A A C T G G C G A C G G C C T T T G C T C T A A C T C G T T G T T C G C A T C G T A C A G A T A A G G T T C A A C A A G A T C C C A T G G C T A A T G T C G G T A T G A C T C G C G T G A A A G T G C G T G T C G A C T C T G C A A G A T\n",
            "1 1 G C T G C T T G C T C T C A C G A G T G C C T A C T T C C C G C G G A A A A A C T A C A T T G A A C C T G A C A G A T T A G G T G G G A C T A T A T A C T T C T G A T A C G G C C A T C A T C A A T G A A T T C A A C A G T T C C A C T T C T T T A G T T G C T G A T A A C G A A T A G C T C C A T A G C C G A A T T T G A T C G T A T T C T C G T A C G A C T C T A A T C T G T C T G A C T T G T C G T T G C\n",
            "1 1 G A T G C C A T G A G C T T G A C T G A T T T G A G A G C A G G C G C A T C G T T A G C G T G T A A T A A T A G A A T G T A G C T G A T A A G A T A A C T T T A C G C A A A T C G G C C C G A G T G C A T C C G A C C C T T C A A A T T G T G C T G C G C A T T C C C G C T C A G C A C G T T C C A T G G T A A A A T A A C C A C A G T C A A C T G C G A T A A G A A T C C A C A A C A G C A C A G C A T A C C\n",
            "1 1 C G A A T G C T G T A T C A T A G G A C A C T C C A T G G G T C C A A C C G C C C T A T C T A C C A C T T C T A A C G A G T A T A T A G T G C C A G T T A G T C A A A G T A T A C C C G A G A T A A G C C A G C A G T C A A A G A A T A T G C T A C A A T A A G C C C C C T A T G G T G T C G G A C G A T A C G C C G C G T A G A T A A G G G G G G T G C C C C A T C A A A T G T A T T A A T T A A C A A C G T\n",
            "1 1 T C G A G A A G G A G C C A C C T G G T T C G T C A T G A T G G G A T G T A T C G T C T G G C A G A T A A G G T T T G A T G G G A G T C T G G C A T G T A G G T C G G C G A C C G T C G A G T C A C A C G C T G G A C G A G G A G C T A T A T T G A G C T T C G A T G G C T A T C T T C A G T T G A T A A A C A A C T T T T G G G A G A A G A A G G G C A G A T A A G A G T T G T A C C T G G A C T C A T C T A\n",
            "0 0 G C T T A T A T C G T G T T C G C C A A C A C T G T T A G T T G A T C A A A A T C A G A G G A C T G G T A T A A C T G C G G A T C G A C G G G A A G C C C G T C C G C A G G C T G G C A G G T T A G A A A T A C C C C T T G G T A T T A T T G C T C T A A C A G T A C A A G C C T A T C G C T T C C A A G G G T C C C T A C G A T C T T C A T G T G A C T C A A T G T T C A T A G T A A A C T A A G A T A T T G\n",
            "0 0 G A G C C G A T A G A A G G G C C A T G G T T T G C A G C A T C T A T C A A T T A A T G A A A T T G G G T T A A C G A C T C C C T A C A G C G A C A T T T T A C T A G T G T T A C T T T G T C C G T G C C C A T G A T A A C C A G A T A G A T A A C C A T T T A T A A A A T C T G G C T A A T T T A T C A G G C C T G G A A T G G A C C T T T C T T T G A A A G T C C A C T C T T G T C G C A A T C G A G G C T\n",
            "1 1 T A G C C A C T C A C T A T T G T C T T G A C C A G A T A A G A C T G T G A T C G A A A A A C G A G C G G A G T G A C C C T A C T A G C C A C A T T G A T A A G C T T T G T G C A A C A T A A G A A G C T A G C C C G G A G A A T A T C A T A A G G C A T G T C A C A C C G C T G T T G T T C G C T T T A T T T C A C A C T T G A T C G G T T A C G G G T T G A A T T G G G A T G A T A A A T C T T G G A C T T\n",
            "2 2 A T T G T A G G T A T G A T C G G G T A T G C T A T T A T A C A A A C G G G C T C C G G A T C G A T T T G G A T C G T G C C A T A C T T T G G T T G G A C G G T C G A G A A A A C A G A T G T T C C G T C A C C C G G C C G C C A T A T C A T C G A C A G A T G T T A T A A G G A A A A C A G G T T A T T C A C G A T G G G G A A T C G G G C C A C C G C C A G A T G G C A G C C T T A G T A G T G A G C T T G\n",
            "0 0 C A T T T T T C G A T G T A T C T C G A T T T A C T T C T C C A G T T A C T T T C C T C T T C A A G C C G C A C T C T A A G A C A C A T C A G A T A A T T G G C A G C T T C C C G A G C T T A A T A A A A G T A C C T G C A C C A C A C A A T T C A T G G G A C A C A A T C T A G G T C G C C G A G A G G T T T G G A G G A G A T A C G C T C G C A T G G T T A G A C C T T C A G C A A A G G T G C T G A A T T\n",
            "2 3 T C A T T T C G C T A T C C C A T C G C A T T G C G A G C C G C A G T A T A C T A T G C G A C G A T G G C A G C A G A C T C A T A C A C G A T T C G C A C G G T T T A T T T G C T C T G T C T A A C T T G A T T A G C T T T A A G T C G C T A C C A G A T G G C T A G A T T A G A T A T G G A T C T T G T T G A G T C A A T A A T T A G A C T A G G C G C T T T T G G T T A A C A T G A C C G T C G A G A C A G\n",
            "1 1 G T G T G A A T A G C T G A A C T A G T A A A T T G A G T C C A A C G C T G A T A C C A T C C C A G C T A C C A T T T C A T C C A T A C T A C T A A G T T T C C C G A C T A A C C T G T C G G G A A T G T A A C A A T C A T A C T T G C G G G T G A A T A G G C C C A C A C C G T T C A G G T G T G G G A A G A T A A G G T G A T A G C T G A C C A T T A G A G G A G T T T G T G A T T C C T G G C A T G C C A\n",
            "0 0 A T T A C A C C G T G C T A C C G T C A G G C A C T G C T C C G A T C C G T C A C A G T T G C A C C T C G A T G T C A A C C A T C A T G C G A G A C A A G G G G G T T T A T T C T T T G T G G G T T G C A T G T T G T C A T T A C A T C A T C A G C A G G T T C A G A C T G T C T T A C C G C A A A G T G T C T A T T C A C C G A T T A T A C G A A T T T G A G G G A G G C T G C A C A G G A A A C T C G G G A\n",
            "0 0 A C G C A C T T A G A A T C G G G T T A T T T A G C G C G T G T A A C T C C T T A T G T A C C C C A C C C C G T T G T G A T A A A T G G G A G G T T T C A T A A G T A A G A G A A G T G A A C T G T A A T T C C G A A A T T C T A G C G C T C A C G A A C A T T C A C T T T C T C C A C G G G T A T C C A A T A A G C T T G T C T A A G T T A A T A C T G C T C T A A T C A G A G T A T G C C G C A G G T G A A\n",
            "3 3 A C T A C A G G C T T C G A C G G A G C A A A T G A T A A G G T T C T G A C G C G A A T G T T T G C A G C C C T C C G A A G T T A A T G C A C C A A T G T T T G A A T G A A T G A A G A T A G T A C C T T T A T G A G T C A T C G C C G C G T A C A C G T G C G A G G C T T G C T T A T A G T T G G G G A T A A A G T G G C T A A C T A A G T T A T A A G G C C A A C A G A T G G C A G G C G A C C T C T C G G\n",
            "2 2 T G G G G T C A G A G A C G A C A C T C G G G T A C A A A C T T G A T T G A T A A T A C A C A A A A G G A A C C G A G C G A T G T C G T T C A C T G G G A C A C T A C G G C T T T C G T A C C A G A T G T T C C G A T A A C T G C C G T A C A G T T G G T T G A G T T T T G G A A A G A T G C A G A A C T A T G T A C A C C T A A A T G C C C G T G T G G A G A C G C T A T T G T A A T A C C C A T A C T C G G\n",
            "3 3 A C G A C T T T C T G C T G A C C A G A T G G T T A C C T C A T A T C A G A C G G G T T T C A A G A G C A G T T A G G G A A A G A C T T A A A T G A A C A G A T G G T T A A A A T G G G G T T G G T A C A C C A G A T A A G C T G G T T A T C A C G A C G C A G A A G G G A C A T C C C A G T T G A A C C A C T G C T T C G T T G C T C C C G A C G T A A A C A A A G A T A A G G C C G C G C T T T T A A A C A\n",
            "0 0 T T C A G G G A G G T T C G T T T G G C G G G A T C G G T T A C C T A G T T T G G T A G T G T G C A G G T T T C G A G A T T C A A A C C A A C T A A G T T A C C C G C C G C A T G T T C G T C G C C G A A A A G A G T C T T C T G A G A A C A A C T A A G C A G C T T A T A T T C A A G A A G T C T C A A C T C T T C A A C T T C A A A T A G A T A A T T C G G G A A C T A G A G G C A T T C G C T T G C G T C\n",
            "3 3 T C T T C A G T G G T C C T A T A G C T C A G T T T C T C A T C A C T T T T A G A C A T A T A A A G T A C A T G A A C A G A T G G T C G T C A A C G A C A A A A A G C A A C T C C T A A G C G G A G A T A A G G G C T T T A G G C T G G A C A C A C A C T G A C T G A A A T C T T T A A A A T G T G A C C A G A A A T T T G T T C A A A G G C C C C A G G G C C G G A C A C T C T C G T T A C T C C A G A T A A\n",
            "2 2 T G G T T A A G T T G A C T C T C G G T C T A C T G A T G T T G C A G A T T C C A T G C T T T T G G A C A C A C T A T T T C A C C C G T G A C C A A G A C C T A T C A G A G G T A A A C G T T A C C A G A T G G T G G A T G A C G T T A T T A A C G T A G T C G T T A A G C G G T T A A A G G A A G T G T C T T T T T C C T A T T C C G G G T G A A T A T G A C A A A C A G C T G T T A T G G G T T C C G A A C\n",
            "1 1 T A A G G T T G G C C T G G T A T A G C T G A T G G A T G T G C G G A T T G G T A T T T C C A T A G C T C A A G T A A C A C T T C G T T G T T T A T C G G C G A A T G C C C G C T T C C C T A C T C G T T A C T A T A C G C C T A G T G A G C T A A C C T T T G C G G G C C C A T T G T C T G C A G T G A T T G T T A G A C C T T A C G G C G G C A G A T A A G G T G G C G T C A C T T G C A T T T C G T A T G\n",
            "2 2 C G T C T G A A G A T G G G C T C A T T A A T T A A A G T C T C C C G C A A T A C A C A G T C G C A C T G C T T C C A C T A T A A G A G A C A T T T G T C T G G T C A G A T G G T C T G G C T C A T C A T C A G A T T C T C A T G G A T T G T T T G C T A A A A A C T T C A A T T G G C A C G T T C T T T A T G G T A C C C C T C G C A T C G G G G G A A T G C C A C T C T G A A A G A A A A G A C C C T A G A\n",
            "2 2 G C C C T T C T C T G T A T G G A G C A G T T C T C T A A C G G T G T A C A G C G C C C C A G A T G G T C G C C T A C G T G A T A T A G G G A T A T G T G C T A G C G G T G T G G A A G C T T G T A A T A G T A C G A A A A G C C A G C A A T T G G G G G T G T A C A G A T G G T G C C T C A A T C T A T A T T A C A T A T A G A C T A G G A A A G T G G A A G G T T G G A A G A A T G A C T A G C G G C A G G\n",
            "2 2 A A G G C G A T A G T A G G T G C A A C A G A T G T T G T T A G A G G G T C A C T C T G T C C C G C A A C C G A A A C C A A A A A G T T T C C T T A G G C T A G A G A T A T C A A G C T T G T G T A T A G A T A T A C T A A G T G A C T G G G A G A G G A A C A G A T G G T C G A T C G T A A G G T C T G G A G A C G C A T G C A C A C A A T A T A A A T C C G G C T G T A T T C T T G A A T C C C A T A C T A\n",
            "1 1 C T G A A T T G C A G A T A A G A G G G C G G T A T A G A A A G T G A A G G C A A T T T G A G T C T T A C A C T C A A A G C C T G A G G A T T T C T A A T A A T A T C T T G T G T A T T C A G C T A A G A T A T T G C A T T T A A A G G A C A T T A C A T C G A A C G T A G G T C T G C T T G C T T G G G C G A G C T G T G A A T G T C C T T G C T G T A G A C C T T T G A C C A T T A T C A C C G G C C T G A\n",
            "1 1 T C G C T G A G A G A T T A G G A A C G C T T C C G T A G A A A G A A T C T T T T T T G C A A T C T T G A C T C G C G A G G A C T A A T C A G G A G A A C C A A C C A G C G A T T A T C T C A T C A A A A C C A C C A G A G G T G G T T A G T C A G T T A A A G G A T C G T C T C G A G C G A A C A G A G A T A G A C T C T C T G C A C G T T T T T A G C A G A T A A G A T G A C A T C A G C A G G A A A G T A\n",
            "0 0 T A C G C A T T G G A G G T T A G G C A A A T A T T T C C T A C C T T T T C A T T G A A G A C G G C G T A C T C A G A C A C C A C T A A G C A G C T G A A C T A A T T C A T T G A C A A G A T G A G G A T A T A T C G T C G G A C G T T G G A C A C T G C T T G A T G T C A T A T C C T A A C G G C G G G C A T G C G C C T T C C C C A A A C C C C A A G T G C A C C G C C T A T A G C A T A A T A T T A A A A\n",
            "0 0 T G G T T C T T T T A G G C C C C C T G A C C A C C A T T G T T C T A C T G G A G G T T G T T A A T G A T A G C T G A T A T A A C G T G A C C A T C T G G T T T T T C G C T A G A A A A T T A A G A A C C C G A A G A G A C G G A C G A C C T A A T T T A A C G C A G G A A T G T G C G T A A G A T A G A A A G T G T T A T G C G C T G C G A G C T G C C C G T A G G A G T G G C G A A T A C G C T C T G T C A\n",
            "3 3 T T T G T G C G A C A T G C G G C C A T A G G A T G A C G G A A C A G A T G G T G T G C T A T G G T T C A G T C G A T C A T T T A G T T A A G G T C C G T C T C A T A A T C A A C A C A G T T C T T G A C G A C T T C C G C C A C C C C C A C A G G T G G T C T T A A A A C A A A T A G T G A A T T T C G A T G A A T T T A A T T C G A A C G T T T G C G T A T T C C T A A A G A T A A G C C A C A T T T A G C\n",
            "2 2 G G G C G A T G T A C A C G G T A A T G T A C C A T T T C T A G C C G T C A A G A C A A C C T C T T A A G A T T G T A C G T G T G A C A A G A A G A C T T C A G C G A T C C A G T A C G T A T A C T C T T A T G T T A G T A T C T T C T T G T T A T G T G G T T T C C G A A A G A A C A T G G T C A T A C C C C A C C T C C A A T C T T A T T A G C A T G A A C A G C T C A A C A G A T G G T T A G G G G C G T\n",
            "2 2 G G C G A T C T T G T C A T C A C C A G A T G C C T G G T A A T G T T T C A C C C A A A T G T T G A G T A A A G C T T G G T G C C A G A T G G T T A C G C A A C A T A T T C G T A T T T G T C G G G C C G A T G G T G C G G A C A G A T G T T C T A A C G T T T A A T T A T C A A G G C C G A A T A G A T A A C A G T C T G A G C T A G C C C C T C A T T T T T T T C G G G C C C A T C G A G A A G A T T C T C\n",
            "2 2 C G C C T C A C C C A A A C A T T G G A T T A T G C T G A A C C A C C A G A T G G C C C A A T T T A C T T C C T A T T G C G G A C G T A T G T C G T C C C A C T G C C G C A A T C A C A T T C T C C C C T T G T C A C T T C A T G G G G A G A C G T T G T T T A G G T T G A T A C C T A A C T T T T T G G C A C A G G T G G T A T T C T C C G C C C A G C G C A T G A C G A T G T A G G C T G G A A A G T T G A\n",
            "3 3 A T T C C C C T G A C T T T G T T G G A T G A A T T A C G T C T A C A T G T T T G T T A G T C T A T C A G C T T T T G G A A C G T A G T G A T A G G T A G C T T G A G T C C T G G G T T G C T A C A C T C C A G G C G A C A C A A A T C T A A G T T C T T T C T A C A G A T G G C T A A T A G G A G T A C T C T A C T A A A C G C T G A C C C G A T A A G G G G G C A T G A T T G G C C C A C G T T C A A C A A\n",
            "2 0 G T C G G C A C G G C A C T C A T C G T A T C A C G A T A G G C A A A A T A C G G C G A C G C A G C G C G T T A A G C T T C A C A C A T G A T A T A A T G T G A G G T T T C C C T T C C A G C T T C T G C T G G A C A G G T G G T C G G G T T G G G A C T T T T G C T G T T C G C G C A C C G A G A G C A A G C A T C A C G C A T A G G C T T G T A T C G T T A A G T A T G G G G A G C C C A T T T G T T C A C\n",
            "1 1 A G G T T C C C C T T A T A C C A A A A A A T A C C G C G G T A C T A C A G G C A T A G A A A G A T A A G A C T A G C T A T A T A A T C T T A G T T G C A G A G A T T A G G A A G T T A T A G T C C T T G G C A T T G G A G C T C C A C C C A T G A C C G T T A T A T G A C T T G A G A T T A A C A A T G T G T G C G C C T G T G C G T C G G T C C C C C G C G C G C T G C C G A G A T A A G A T A A C T A G T\n",
            "2 2 G A A C G C A G T A G C T A T T C C A A A T A T T A C A C A G C T A T G G C C A T A T G A A C G A T C C T T C G G C A T T A T T T A C A T G C G G T G C C C T G A C C C A A T G C C A G T T A A C A T A C G A A G A A A C A G A T G T T A G C A A T T C T G G T G G G T A A C A A C T T T C A A A G C T C C A A G C T A A T A A C C A C T G T T T C T G A T C C T A C C G C G T C A T C T G G G T C A T G G A G\n",
            "0 0 T A A G C A T A A C T T A T T A T T C T C A T A C C G A T T C G C A C C T A T A C G T T G T G G C A C C T A G G T C T G C G G A C T C C A T C T T C T G A C A C G A T A G T G T G C G G A T A G T A C T T C A G T G G G A T C T C G T A A A T G T G A C C C T A C T T G A T G A C A C A G A A C T G T A C A C G T C A G T T A C C T T T T A C T C A C T C C T A G T G A T T T G A A A T A T C G G C G C T A T G\n",
            "2 2 G C C G A A T G G T T A A G C A T G C C T G C C A T G G C G C A C C A G T T G T C C C T G G A C A G C C G C A T C G C G C G T G G C C G T A C A G A T G G T A G A C T A T T G A G C C G T T A T C A A A C G G C T G A T G T C G A C A G A C A G C T C C G T A C C A G A T G T T G A G A A A T C A A C C T T T C C G T G C T C A C A A C C T T C G G C G C T G C G C A G A G C C T C G A A T G A A C T A G A A T\n",
            "1 3 A G G A T A A A A G G A T G T C G T T T G A G T A A A G C A A A T A C A A C A A C A A T T C A A C T T G T T G C A C G A A T T C C T A T A G A T T T C A G A T T G C A G A A A A T A C G C A C A T T T T G T A C A T C A A C A G A T G G G T A A A G G A A G A G A C C A G A G C A C T A C T T A G C G A T A G G A T T A T A T G T A A C A T C C C G A G T G G G T A G A T A A G A G G C G C A A T C T A A G C T\n",
            "2 3 A A A T G T T C A G T A T A G A A A T T A A G G G C A C A G G A T G G A G G T C A T C G G A T A T C T G G T C G G T G G G A A G A G T C T T G A A A G A C A G T G G G G G C T T T C A G C C A G A T G G T A A G C G T C T C C C A A G T T G C C C A G T G A T T A G T T G A T G C T G A C C C T C G A C T C T A T G G C C A G A T G G T C G G G T T T A A T A A A C C C C A T C A G C G G A T A A G G T C A A T\n",
            "3 3 C C T G A G A A T A G G G T G C T C A T A G T T A C C C G C G C G A G A T A A G C C G C C G G T A A T A T A C A A G C T G C T G C G A C T T T T A G G G G T T A G A A A C A A T G A T T G A G A T A C G G T T T G T G C C T T C G C C G G G G T C C A G A T G T T T G A C T A T G A C G C A T A A A A A C C G A T A A G C C T G C A A T A T T T A G T G A C G C G C T G C A T G G T A A T G A A C T A T G G G A\n",
            "0 0 G T C C G A C A T T A C A T C C T A G C T G A C T C A A C T C A A C T A C A G A T T G G A A T A A T G G C G A C A A C C A C T C G A A T C G G C G G G G T G C C G G T G G A G T G C G T A C T A A T T G G T A G T T A T A G A T T A T G T A A G A C C A C G C G T C G T A A T T T C G C T T T A A G G C G G T T A A C A T C A G A T A G G C C A T C C T C A T A T T A C T A A C A C G A A T G T G C A G A T C A\n",
            "2 2 A T G A T T T T A T G G T A A A G C G T T T T C T A T T C T G A C A G G A G G T T T C G T G A A C A G A T G T T A A A T T G C G A T T G A A T G G G T G A T G T G G C T C T T C G A A A G A A G A T C A A C G A A G A A A A C T C A A C T G C C A G A T G T T T G C A C T C G G G A C G C C A A A T A G A C C C T T C C G T C T T A G C A T A G G T T T G G A T A A A C G G G A A T C A C A A T A C C T C C G A\n",
            "0 0 G T G T G A C G A G C T T A C C C A G A T C C T T C C C C A A T C G T C G C T G T C A T A C C G T C A A G T G C G T G G C T C T C C G A G C G C G G A G G A A A A A T A T C G C C A T G A C A G T T A T T T T G T T G G A T A T T G C A G C T C G G T A A A G T T G G G A T T T A G T G C A T T A T A C A T T G T T C A T C G G C A A C C T G T A C A C T C G T C T T G A A G G C A G T A C G T A G G A G C A A\n",
            "0 0 A C T T C A T C T T C T G A T G C G A A T T G T T G T T T G C G C G A T G A G A G T C T G T A A G C C T G T G A C C T T A A T T A T G T C T C C A T C A T A A C C G G C G G C T C T A G G G A G A T T T C G T G C T G G T T A C A T A A T T A T G G G A T C C A T T T T C A T T T T A C C A A T T T T T C G G T C T G T T G C G A C A T T T T A C T A G T G A A A T T C A T G A G T A T A C T T C T A C A C C G\n",
            "2 2 T C T A A C A A C C T C C G G T A G C T C C G T C T C T G A T A A C A T G C A T C T A A C G G G A T T T G T C C G G C T A G A G T A A G C T A C T A C T A C A T G C C G A C T T C C G A A C A G A T G T T T C C T A T A T A A A C T A C C T A C T T A C T A G T A T T A A T T T A T C C T G C C T C G G C A T A G C T C A G C C G C G C G A A G T T G G T T A G A C C C G A A G T C T C G G C A T C A T C G G G\n",
            "1 1 T A A T T G A G C A G A T A A G A T C G C C C G C C T A C T G G T T C T C C C A A T C A G A A C T C T C T C T C A A G T T T T A A G A G C A A G A G G A T A G A T T G C C T G A T A T G T C C T C T A C G G C T G A T G T G T G C G C A G C G T C G G C A G T T T A G G G A T G T C C A C G A T C G A T T C T G G A A A T C A G A G T G G T T G A G A T A A G A G A G T C G G G G T G A G G T C C A A C G C T G\n",
            "2 2 A A G T A A A A C A T G A G G C C T C G A T C C A G C A C C A G A T A T A C G C C C G A T C T T T G A A C A G T A A A G C A T A G T T A A G C G G A T T G G T A A T G C A T C A C G T G A T C A A C A A A T G A C C C C C T G C C G A G C T C A A G C G G T C G A C C C C C T G T G A T G A C T T A T T C A A C A G A G A C G T C A A C A G A T G C T T G G A A C G G T G C C G A C C A T A T G T A C C A G A T\n",
            "3 1 C T T A A G T C A A A T A A C G A G A T A A G G C G C C C T C G A G C C C G G C A G A T A A G G G A A C T A T A C T T C G C G A T C G G G C A G A T G G T C A T A G G G T T C C A T C T T T G T T G T G C T C A A C G A T T A A T C C C G C C C A A A G A G A T C A T C A T A A A A G G C A G A G T T C T C A A G C T A C A T G G C A T G A G C T A G G A A G A T T A G C T G G T C C T T G C C A T G G C A C A\n",
            "0 0 A A C A G C C C A T A G A C A G C A G T T G A C T T A T T C G G A C A A A A T A C C A A G C T T G C C G G A A G G G G C A T T T G A A T C A A A C G A A G T G T T T A C T A G A T A A A C G A C C C T T C T T A G A A T T G T G C T A G G C T G A G G C T G C C C T C T C C T G G A G T C G G T A C A G T G G G G C A T C A G C A T T G G T G G T T A C G G G G T A G T G G A C G C C C T A A T T G T C T T A A\n",
            "1 1 C G G T T C T G C T G C A A C A A G G T T T C T G T G T G T A C A A G G A G T T A C A A A T G A G C G T C A C C T C T G T T T T C G G G A A G A A A C T A T G G T G A T A C G G A G T C A C T C G C T T G G T G G T A T C G A A A T G G C A C C C C A T G T G G T A A T C C C A T T A A G G A G A T A A G G C C A G G C G C G A G A A C G G G G A G G A T T A G G T T G T C T T A C T G A T G G G G G T C T C T\n",
            "1 1 T C T A T G C C T C A T A A A G A T A A G A C A T C C G C G C A G C T G G C G C A G T G A G G G G G A T A T A T A T G T A T A C T A G C G T G T T C C C T T C T T T G C T A G A G T A C T C C C T G A C G T A G G T T T T C G T A A T A G T C T T G G A T C T T A C T G C T C A T T T G G A A T T A C G G A A G T T A A T A G G C T G A T T A G G G T T G T A T A G C T T T C T G C A T G A A C G T G T A A A C\n",
            "1 1 G A G C A G C T T T A A G G A G C A A G A G G A G G T G C C G A A A A A A G A T G C T T C A C G C T C G G C G A C A C T G G G T G C A C G A T T C A A G A T T A G C T G A G A C C C T T T G C C C G T A G C G A G T C C C A C T A G G G T G A A A A T C T A C C T A T C T G C G G T G A T A T A G G G A T A C T G G C T T A G G A A T C G C G A G T T G A T C A T G A T T A T G T G G G T G A T A A G G G A G T\n",
            "1 1 T T C T C A T T G T G G G G G C A G A T T A G G T T A A C T T G C G T C A T G T C T T A A T C T C A G G C G G G G C T T C A C A A C G A C T T A C C C G G T C A G A T A A G A T C T A C A G A T A A G G C G C C A G G G A G A T A A C A T C T A A T A T A A A C A A C A C G G C G A A G T A C C T A T C G A A G C C G G T G A T C C G G C C G A C A C A C C A C T T C T C T T G G C G A C A C A C C A G C A T G\n",
            "3 3 A T C C G T G A A A G A A C A G C C C G T G C A A G C T G G G C T C T T A A G A T G C C G T T C C G C G T T T T G C T C C G C C C C A C C G T C A A A C G C T A A A T A C C G C C A T T T A G T A G T T T G A C A C C A C A G A A A T G A T G A T T G G A T C T C C A G A T G G T T T C G T A A G C G T T T A C T A A C C T A C G G G A T T T G C T A G C A T A C A G A T A A G A G A A T C C G C C A C A A A G\n",
            "0 0 C T T T A A C A T C G A G A A T A C C G G T T T C G T T A G G T G G T C C C C A G C T A C G T G T T C C A G G A A T T C A C A C T T A G T A A C C T C C G T C C T G T G T T T G T T A C G A G C G C G C G A G G G G A G A A A G A T C T G G C A T G C A A T C T A T A C C T A A C G A G T T G G T A T T T A T T G C C G A G T T T A G A G G T C A T C C A A A C T A C G A A C A G A G C A T G G C T A G C C A A\n",
            "0 0 T C A A T C A G T A T A A T T T G C C C C C T T A G T G C T T A C T A T A A T T A A A A G A A G A T A A A G A G A G G G T T T G T G T A A C G A G T G T C C A T A T A C C A T A G T A C A A C T T T T C T T G C A C G T T G A T A G G A C C G C G C A G T A T C C C A T G T G A G A C G C A A A T T T C T A A C C G G G A G G C T A A G G C G C T T C A G A A A A A G T T C C G C C T A A A A T G A C A T G C C\n",
            "3 3 T A C T A A T C G G A C C G A C T C G G C G T G T G G A A T C T C C A C C A A C A C C T T G T A A A C A G A T G G T G A A A T G G A T T A C G C C G T G C C C A A G A T A A G C A T A G G T G G G A C A C A C G T A A C A G A T G G C A G T A C A C A G T T A G C C T T G G C C G C C T C T C A C A G A T A A G G T C G A A C T C G G C A A C T T C G T A A A A A G A C T C T A A C A T G C C G G A A A G A G A\n",
            "3 3 G A C T G A T A C G G T C A T G A G C T G A T A C T T C A A C T A A G T G A T A C A T C C G G A C C A C T C G T T A T G A T C A C A C A C A A G C A G G G T T T T C G T T G A A G G G C G G G C A G G G G T A T T T T C A A T A A A A C C C A G A T A A G A T G G C T G C T G C G A T C A G A T G G C C T T G G T T T T A G G A C C C G C A A G C T T T A C G T T C C A A T A T T C T G G G C C T C A A C G G A\n",
            "2 2 C G A A A G G T G A A A G C A C G G A C C A G C A C C T T G C T G T T A C G C T T A T A A C G G G T C G T G G C A G A A C T A A G G T T A G A G T G A A C A G A T G T T T C A G A G T A G G T C A C G T A A G G G C A G T C G C G A G G C A G A A A C G G C T C G A A C A G A T G G T T C C A T T G T T G T T C A C C A C A C A A A A T T C A C A A T C A A A T A T A T T A T T T C A G A T T A A G A A C G T C\n",
            "0 0 A A T G T A G C T T C T C A A A G C C T G G T C T G T C T C C T G G T T G C G G C C G A A G G C C T A T A C A C C C C A A A T G C G G G T A A A C A T T A G A T C A A A C G G C A T C A A G A T C C A C T A C C G A C C A A T A G T A T G T A C A T T G A A G T T A T G G A T A G T T G C G T A C G G A T G G G C T A T A C T T A G A T G C T T G T G T T A A A A A C T A C T A A A A A G T T G G A C G G T T T\n",
            "1 1 T A A T G C C T G G G A T C A G G G G G C G T A C A T T A C C A G C T A T G A T A A G A G G T G T T A C C G T G C A G T T A A G A A A T C G G C C C G T G C T T T A G T C G A C G T A G A A C G A G C A G A T A A G G T A A C A C G T A G T C A A C A A T A T C G T T A T C A C A C G T A C G G C T A G G G A C T A T G T A C T G A T A A G A A T T G A C G G A A A T C C A G C G T A A C G T T C C G C A C C C\n",
            "0 0 A C G A C A C C C G A T T G C G T C T G G A A C T T C C T T C C G A G G A C C T T T G C C T A C A C A A C G A C C A T T C A C G A A T C T A A C G T T A A G T T T A C C T G G G A C A T T G T T G G G T C G G C G A G G T C C G G A A C T A G G T C T G C T G T A C A C C C C G G T T A A T T C G A T C C G T C G G A A T G A T G C T G G C A G G T C T G A G T A T G G T G C C A T C G G A C A A C G T C T C A\n",
            "0 0 G A C C T A C G T T G C T A G G A C T C G G G C C C A T C G T G A G T G G G A T T A T G C G C A C T A T G G G C A T G A C C A T A A G A T G T G G A A A C T T G G G C T C T T T A T C C A C T T C T G T G A A G C A G T A C T T G T T C T A A A C A A A T C T A A T A C T T G A T T A G T C T T C C T T C G A A T T T A G C A A C G A C G G G G A A G T T A A C T G T G A C T G C T G A G C A T G T G A A C G A\n",
            "1 1 T G T A G G T T C C T T T A A T G A C A G A A C C G T C G A A A T A A T C G G C A A C A T A T A C A G T T A A T A A C G G C A T T C C A C T T A G C C T T A T A A A C C G C A A G C A A G G A T T C C G C G T G T A G G C A C C A G C C G T C C G A T A G A A A T A T C C A T C T C T G A T A C C T A G T G C C A T G T G A T C C T T T C A T G A G C A T T C A C A T T T A A A G G C C A A G A T A A G C T T G\n",
            "3 3 A G A T A C T T G T T G G T A A T G C A G C C A T C A A A A T T G G T A A G T A G A C T C G T A G A C G G C C G C G C G C A T A A C T C G C T G C A G T A G T A T G C G T C G A A C C G C A G A T T A G G A A A A T C T G G G G G C A A T G A A C A G A T G T T A G A A G C T A C A T T A T G C C C A G A C G T T G T C C C C C C G T T G C T A A G G A C T A C C C C A T T A G T C A G A G G G C C G G T G T A\n",
            "2 2 G T A C G G C A C A A A C G A T C G T T G A T A A A C G G C A A C T G A G G A A A A C G G A G C A A C C T G G T A T G G A C C A A G A G T C G T A C T A C T C C A G G G T A C T T T A A T G A C A C A G A T G G T C A G A T A C C T C T T C G A C G A G C A T C C T T G C T G T T T C A C C C A C C T C G G T A A C C A A G C T T A A C A G A T G T T C G C C G T C T G C T G G C C A G A T G T T C T C C C G C\n",
            "3 1 G A A G A G G T C A A C G A G C T A G G G T T C A A C A G A T A A G C C A A T C T A T A C T A G G C A A T G A T A C C G C G T G T C A C C C T T G A G A T A A G C A T A C A T T A T A T T G A G T A G G G T G T C G T A G C G T A A A T A G A A T A T C A G G T G T C A A G G A C T T G T C G A C A C A G C G A T A C T C C T T T A T C G G C C C A A A A C T T T C T C C T T A C T A A C A A A C A A A T G C A\n",
            "1 3 T C T G G A C G A A T A T T T T C T C T G G G A C A C G A T A A T A A T C T A A T T G G G C C C G G T T C T T C C G G T A G T C C A G A A C A A T C C C C A A C C T T G C G C G T C G A C G A G A C C T C G A G A C T C G A A C C A G A T A A G G G T A A T A T C T G T G C A C T T T A G G T A T A A C G G T T G A G T T C T G T C G C A G A T G G A C T A C G C G T A C G G T A C G C T A A C G T C T G C A A\n",
            "3 3 A A C C A G C G A T T T A C G G C C C G A A T G C T A G G C G G C A T C T G G C G A C A G A T G G T A A T G T T C A G C A T A A G A C T C A T C C A T A T A T T A A C C T A A T T T A C G G T C T T C A A G C G C T G G C T T T C T T T G T A A T C A C G A A C C A G A A A G T C T T A A G A T A A G A A T A T G T T T G C C T T C C T T A T A C A C G A C T T A G G T A T C C G C C G C T G C A C C C G C T G\n",
            "1 1 C C T C C A G C G C A T A G T C A A G A C C T T T G T A A G G A A C A A T T A A A A T C C T C A G G C C T T T G C G A A C C A C A A G G G A A A A G A G A T A A G A T G G T C A T G T C A C T G G A T C A G C C A T T C A A A T C G G G G A T C C T G T T A T C T G A G A A A C A T A G T G G G A C T G G T T T G G G G G C G A A T G G A A G A T A A G C T T T A A T G A T A C T T G A C C A C A T T A A G T G\n",
            "0 0 A C T C C G T A T G C A G A G G C T C T T T C G A G T G G A T G T T T A C A A A A C T A C A C A A T A C G T T C C G C T T A T A G C G C G T T C C G T G A G T C C T C A G A C C C G T A C G G C C C T C G A G T C T G A C C C A C G T T A C T T G G T C T G T A A C C C C T C C G G A G C A T C C G A A T G T G A C G G G C G T A C T C A G A G C C A A A T C T G G A C A A G A G C G A T G C G G G G C G T A A\n",
            "2 2 C A T T C C T G T C T C T A T T G A G T C A T G A C A G T A A T T T A G G C T G C G A G G C T T G A A G C A T C C C A A C A G A T G G C T T C A C T T C C G G C A T A G A G T T T A G G C A G G T T A G G G C C T A A G A T C A G T A T A A C A G G T A C C A G A T G G T A C C A G A T T A T G A G C A C C A C T C A G T C C G C G G A T A T C A A G G A T T G A T C C A A T C T G G C C C A C C T T G C T T C\n",
            "3 3 A G A C A G A T A A G C T T T C T A A T T A C A T T T T C G T G A A C A G A T G G T C G C A C G G T T A G A G C T C A G C A T T T C T A C C C T G C G A G A C T T A G A A G A A T C G A T A A A A G A A A C T A A T C A C G C T A G T T A G T T G A C G A G T T C G G T T G T G A G C G T T T T C A T A T A T C A A T A T C A C C A C C T C C G A A G T C A G G T T C G G G G C G T G G A A C T G G A C A T C G\n",
            "3 3 A G C A C T G T A G T T C T A A G A T A A G A G A C A T G A A T G C T C A C T G A G T A A A C C T C A G A C T C C T C A G A T G T C G G G A C C C C A T A A G T G T A C A T T T C C G G A C T C G C C A A G A G T G T C A T G T T A G A C C C T C A A T C T C G C A G C A T G T G A C A T C C A G G G G T G C G G C G G T C A C T C A G G T C G A A A C C C A C G G C T C T A A A C C G G T T G A A G C T T C A\n",
            "2 2 A A A G G T T C G G A A C A T T A C G T G T T T C G C T T T T A T A C A G A T G T T A C C T T G T G G T G T A A A C G C G C T A G C A T G C G C G T T T G A A G G T A C A G G A A G C A A C C C T A C T A C T T A T T A C C C G T T G A T A T A C A A T A C C G G A T G A T A T A T C C G A A G G A C T T A A C T A A T T A C C A G C T C T G A T A A T C T A G C C A G A T G G T T G A A T T G T G C T G C G T\n",
            "1 1 A A T A C A A G C C G G T T T T A A A G G C T C C G C G G G G T G T T G C A G A G C A C A G G T A T A A C G T T A G G A A C T A A G G A G C T G T A G A G G G T T C A T A C A G T C A C A G T C T G G C G A T C A T C C T T C G G G T A T G A G G G T T C T C C T A A A G G T G G G G G C C C A A C A A T A A G A A G T C A A T G C A T T A G C A G A T T A G G A C T A A G A G G G C G G T G G G A T C G C A C\n",
            "0 0 C T C T T C C G T A G C A A A A A T A C G C C T T G A A G T G T T T A G A C A T C C G C T G G C C G T T G C C T A G A T G A G T A A G G T C G G T G C C A A T G T T A C T G C G A C A C G C C G C A G A C C G C C A A T G C C G C T G A G C C A A C A C T G C T T G G T C T C A G T A C A G T C C T A A C T A T G G C G A G C T A A G C T A T A A G A C C A G A T T C A C C C C G G A T C T G T G T T T T C C T\n",
            "3 3 G G A C A T T C T T A T A A G T C T G T A A G T T A G A T A C T A C T G T G T T C T T G C C G A T A A G G T C T A G G A C A G A T G T T C A T T T G A C C C C C T G T C T C C T C G G T C C A A G T G T C C C A T C A G A T G G T C G A T A A T A A G C C G A G A T G A T C A A A A A G A T G A C C A G T A T A C G T G A T A A G C G T G A A G C G A T A A G A C A T A A C C A C C C G A A T C C A T T T T T A\n",
            "1 1 T T G G C T T A G A G C C T G C C T G T C G G A G C G A A T T A A T A C T C A A C T T A T C G G A C A C A T A G G C G G C T A T T A A C T A C T G G C A T A C C G T G T G G G A T G T T G C A A T T C G T T G C A A C G G G C G C A T G A T T T A A G T A C C G A A A T G C C A G A G A T A A G G A G G G C A A A T C G A C G A G C G G C A A G T A T A A G G T T C C T T T T A T C G A G G G T C A A G A C T A\n",
            "3 3 T A A T T A T T T G C A A T A T T G T G T A A A A A A A C T C C G G T G A C T T A C A A G T C G C C T T G C C T T C T T A T T A T T C C G C G A A G T C T A T C T A G G A A T T A A T G T T G G A A C C G G G G A C A G A T G T C G C T C A G C T C C T C A G A G A C T T A G C A G T T T T T G A A T T G T C T G A T A A G A G T T A G A G A T A A G G A T C A C C A A G T G A G T A A T T T C G A A A T T T C\n",
            "2 2 T T A T T C G C A T C T C T G T G A A C A G A T G T T C G C G G T C C A C T A T C C C A T A C A G A T G G T A C G G G T T C A T C T T A C A C C A T A C A G A T G G C T T G T T A C G C T G T T T A G C C G T G A A T A G C A T G T A T C T T G G A G A A A G C T T G G G A C G C G T A T C C C T C A T T C T A T C A A A T T A T A A A A C A A G C T C G C A A T G C G G T G A C A A G G G T A A C C C C T G T\n",
            "2 2 T A A A C A A T C C G A A G T G G G A C T A T A G A G G T C C C A A G A C C A G C A A G G G C G C A G A C G C C A C G A A G A A T C G T G T A C T G T C T G G A G C T T C C C A G A G G T T A C A C C C T A T T A T C T T T A T C T C C A C C A A T G T A G G T T A T G G C C A C A T C T A C A G A T G T T A A C G C C C G G C A A T T G A G G G A G G G T A C A T T C C A C A A A T G C G C T C C T T G A T A\n",
            "0 0 G T A A C C T G A C T C T C C A G G G G A C G A A A T C C A G G C A T C A G G C G G G A G A G C T C C G T C T G C T G T A G C C G A T G G G C A C T G T A C G T A A G C G A A A A A C C A C A T A T T G T A A C G G T C T A G C T G T T A C G T G A A G T T G T T T C G G G G T G G G T G T G G C C A G G T G A T A T T G A C G A C T T G C C A A C A A C T A A G T G A T T C A G G C T G A T G T C T T T G G T\n",
            "3 3 A G T A A G G C C C G T C C G T C G C A G A T A A G G G G A C G G C A C A G A T G G C T A G C G A C C T A C T T T A T C A T G C T G C C T A A G G T A T A T C C A G G G A C G T A G A T A A G G G T G T A T A T C T A T G T A A C A A T T G G A G A C C T G G A A C G G T T A C G C C C G C G T G C C A G T C A G A C A G A G T A C T C A G G T C G T T A T A T T G T A A A A A A C T G A C A C T C T T T C A T\n",
            "3 3 C A A C T A T A C A T A A T C G G A C C A G A T G G T G T G C T T G T A A A A G C T T A T A T T T G C A T C T A C A G A T A A G G T T C T A T T T T C G A C A G C T T A A C G A G G A C T G C G A A A T T G T A T A G C G A A C A G A T G G T C T G G G G T G T A A A G G T A C T G T T A G C T A C G T A T C C G C G T C A A A C A G C T G T T C G G A C G A T A A T G G T C G A G T A A C A C T C C A T T G T\n",
            "3 3 G T T C T A G C A T A A T A T C C T A G A G G T A C C T C A A T T C A C T T T T C T C A C A G A T A A G G C G G T C A T A C T C G T A A T T A T C A T T C G A T A T T C G C T G T A A A A G C G A C G G C G A G C T C A C T T G T A A T C A T T C C T T C T G C T G A C A G A T G G T T C T C A G T C T C A C A C G A G T C G T A A G A G G G T C G C C C T G T G T G T A T G T G T A T G T T C G G T T G A G C\n",
            "2 3 A A A A G C T C G C C G A A C A G G T G C C T G T T A C T T G G C G A T T A G A A T C C A G A C T G T T G G A T G C G T A C C G G T T G C C A G C G A A T A T G T C A C G T G T T T G A T C T C C A C G A G T C T A T G A T G A T G C T G G A T C T T C G C G A A T C C C G T C T T C A C A C T G G G T C A C G G G C C C A C T G T C A G G A T G C G A T A C C T T A G G G C G A C C A G G T G G T C A C T A A\n",
            "3 3 A C T T T T T A C G C T G G A A A G G A C A A G G G G C G G G A C A A T T A C A C T A A A T A A G A C C G A C C A G A T G G T A C G G T T A A A G G G G C T C T T T A G A T T C A G A T T A G G C G T C T A A T G G G C G T T C C A G A T A A G G T T A A G A T A C C A G A G G T T G C C C A A G G C T A G C G T C A C G T T G C T T T T G G T C T A C A C G G T A T A A G T T A A T C A G T C T C T A A T T G\n",
            "1 1 G A T G T C G A G C G T G A T C T C T C T T A C C T C T G C T T A A C T G A G C A T G G G T G A T G A A C G T C A A C C G T G C C G G A A A C C A C A T C T C C A A T T A G T G C T G A A C A G C A A A G A T A A G C G T G G G T G G A A G C A G A T A A G G T A T C T A T A G G A C A T G A T C C G A C T C G T C C A T C C G T T G A C T G C A A C A G C A T A G A T T A C A A C G A C A G A T A A G A C C A\n",
            "0 0 C G C A G T T T G T C T A C A A G T C G T G G G C C A T T A A T G T A A T A A G G G A A T A G C T G A C A T C C C C T G T T C A T T T G G A C C A T T C G C G G G T A T T T A A A G A C G A A C C T G C A C C C A T A A T T T C T C A C C T A A C A T A G T T C C A G T A A C G G T C G A T G T C C G G G T A G T T A A G T G T A A A T A A C C A A T T A G A A T G C T G C T G C C T C T T C T G G T T C A T G\n",
            "3 3 T C A C T C G G A T A G C T T T T T C C G G C G A T A A G G G A T G A C G G A C C C A C A A G T A T A C T G A C T A A C A C G C C T T G G G G T C A C T A T C G T C C T C T T C G T C C T T T A T C T A T A C A A A G A A A G A T A A G C A G T T T G C T A T A T G A C T G G A G A C T T G C C C G G A A T A T C G G T G G C C A G A T G G C C T T T A C G T T G T A A C C C T C A T G C G A A A C C A C T G A\n",
            "2 2 C T C G C C A A A A A C T A A G C C T G C G C G G T G T T G T A A T A C T C G G G G A C A G A T G G T C C A A C C G A G T A C C T A A G T G C C G G G A A A A C A G G T G T T C C G T A T G T A G T A A A T T C C A G T G C T A G T A T A T A A A C C A T G A A A C A G A C C A A C T T T T A T G A T G A A C T G A A T T G T T G C T G A A G C G G A C C A G G T G C T A C G G C A C T C C T A A G T T C A G G\n",
            "0 0 A T C A C T G T C C A C T T T T A G G A T C G T G C C C C G A C T A T T A A C G G T A A G C C A A T G C T A C C G G C G G C A A C A G T T A C G A T G A C T G T T T C C G C A C G C C T A T T T C G G T T A A C G C A T A T A C G A A T G T A G G C T C A A A G T A G A A G C C A G A A G G C G T G A C A C C T G A G G C G C C A C G T T T A G T G A A T T T C C A A C G G T T A G C C G T C A T A C G T T A T\n",
            "3 3 G C A A T A T C C A C A G G G G A C T G A A A A A A C C T T G A C C G C A T A G G A A T A G G G C C T T G A C C A A G G G C A C A G A T G G T C C C G C A T G T G G A T T T T T T C A T T A G T T T T G G T T C C T T C G C A T T G A C A C C A A C C A G T T A G A T G C T G C G C C G T T T C G C T C C T C G G C T G G A G A A G A T A A G A G T A G C T T G T A A A T C A T T T T C G A G A A C G C T G T G\n",
            "3 3 C A T T A A C A G T A G T T T T G G A C T C A G A T C T A C A C A A C T G A T A A G A G T A T T G T T G C A C A A C G G A C G T T C A G G G C C G G A G C C G T A C G G T T G C T T G T A A G T C C G G T A A T A T T G T T T G G A G A T A A G C T C G T C A G A A C C A G G T T T A A T G C A A T A T T G A T T C G A T G C A C G A C T A G T A T T G T G A A C A G A T G T T T A A T C A G T C A A G T A T C\n",
            "3 3 T G G T A A G T C A T G T C A A A A A G T A T G A G T A A C A G C G C G A A C T A G G A C C G A C A C T G A T A A G A A C C G G T C G C T G T A T T C C T C C T T T T G G A C G A A A A A T A C C A A C A G A T G T T C A A C T C T T A C G T G G T C G A C A G A T A A G A G G G G T A C G A G A G A T A A G G A C A A G A T G T A G G A C A C C A T T A T G T G A A A A C T A G C G C T A A G T A A A T C C A\n",
            "0 3 A T C G C T G G T G A T G C G G C G G T C A C G A T T A T A A C C A G A C T A T G G G A A C C T T C G A T C A G A C G C G G G T T G G A G A T A G A C T C T A G T C G T T G C A T T T G T G G T C C G C G A T A A G C T C A C T T C A T A A G G T G C A T A A A C A T C T G C C G A A C G T A G C A C A G G T G A C C A C C G T T G G G A T T C T T C A C G A A T T C G G G A A A A A G C C T A C G C C T G T T\n",
            "1 1 T C C G G C G C T C A G G G A A G A T A A G G C A C T A A C G C A A T G T C G C A T A A A G G A G C T G G C A C A T T A G A C G A G T T T C T A C C A G T G T G A A A C C A G A C C T A A A A T T A C T G G A T C A A A C C T C C A A G A C A G C A T G A T A A G C G C T C T A A T C A C G T C C T A C A C A G T C T T G A A G A C T A G C C A G G C A G A C C G T A A A A A A C A T C G A G T C G T A A C T A\n",
            "1 1 A G T T C T T T A A T C A T T C C G G T A C G A T G C T C G A G T A T G G G G A G A G A T A A G G A G C G T T A T C T C A A G T T T A T T A G C A G G A G A T A A G G T C T T T T C T C T G G T T G A T G A G T G T T A T G A A C A A A A G C T G T T A A C G G A C C G A A C G G T G T C T T T C A T C G A C C T G A T G A C C T G T T C C T G T A G T T C A G G C G T T A T A C G G T A T G A C C T G T A A A\n",
            "2 2 T T C C T A T T G A T T T A C A C A C G T C G T A T G A A C A G G T G T T A G A T T C C T T C G A A C T C G A A G C G A T A A A C A T C A C C C A A C A G A T G T T C C T G T T T C T G C A G T T A A C T C T T T C G G T T T T T T A T A A G T A G T T G A A T A T A C C A C T T G T G C T C G A C A G C C T C A T A A T C T C G T A A C G C C T C G G G G T T C C T T G T C C T G G T T C T T C A T G T T G C\n",
            "1 3 G G C G A T T A C C C A G G T T G T T A C T G A A C T G T A G T A T C C A A A T T A C C A A T T G A T A C A C C T C T C A C T C A A A C A C A A G A G A T A A G G C G G C T T A A T A G T T G T C A T T A C C A T C A A T C G C C T T T G C C T A A G T C C C T C T C T A C G T T C A T G T C T T C T C G T C T C A G G T A T A T T T C G A G T T G C G G A T C T G A T A A C G C C C A C G A A C A G T G G C A\n",
            "1 1 T T T G T C T A G C G A G A T A A G C A A C G T G A T A A G A G C C C T G C A G A T A A G C A A T C C G C C T T C A G T C A A A T C G A C T A C A C T A A G A G T T C G C G G A T T T G C A C T A C T T T T A T A C G A G G A G C C A T T G T G T A T T G G A A G A G G C C T C G A C C A A T G C A C G T G G A C C A G C A T T G A T G A A T T T T C C A T G A T A G C T A C A T A A G A G A C C C G T G T T A\n",
            "0 0 A T T A C A T C C G A A A T T T G A G A A C A T A C G C T T A A G G T A G A G C T T G T G A A T A G G C A G A T G C C T A A C C A A T T G T T C G C T G T A G T C A G T A A A C G T G T T G C A T C G G T G A G C G T C A T C A A T A A G G A T G C G G C C A T T G G A T T G T C G A A C G T A G T C G G A A G C G T G C T A A G C G A T T G A A A T C T G T G T C G A G C C A C A A T T C G G C T T T T C A C\n",
            "2 3 T G G T G G G G T C C A C C A G A G T A G G A T T C A G A T A G G G C A G C A T A T T T T G C A A A A A T A C T G A A T T T T G A C T A A G C A T T T T C C T T A A G T A C A C A A A G C C T G T G G C C G G A C A G A T G T T T C G C C G A T T A G C T C T T A C A T T T G G G G T G C A A T G T C T A C A G A T G T C T T C T A G T A C G A T G G A A A G G T G G C G G T C C T A G G T T G T C T T T A C A\n",
            "2 2 A A G G G C T C G A C C C A A T G G A T A C T T A T G G C T G C T C G T A C T C A G A T G G T A C C G T C A A G A A A T C G T A A G G C G C T T A T G G G G G G C T G G A T T A T G A G C C C G C A G T T C G A T C T G G A C C T T A A T A T G C G C A A C A G G T G G T A T C C A A T G T A A A A G T G C A T A A C A G A T G G T A G A T A T C A A A A G C C G G T T T A A G G C T G G C A T T G C C T C T A\n",
            "1 1 G A G A C A G G C G T G A G A C A C T C T G T G G T C G T C C A G G C A C A C T T G C G C C C C T T C A C G T C C C T A T G T C T C T T T G G A T A A T G G C T G A T A A G C A T T G C A C A A A A T C C G C A T C C G T G A C T A T G A T G A A C T T T A C A G T C T A G T A T T T G A G C G T T G C G G C T A G A T T T C T C G A C G A T T A T T A T G G A C T T A C A C C A A A G A A T T T A G C A A A A\n",
            "1 1 A A T A G C G T A A T T T G A C G A T A A C T A A T A A T G A T A T G A A A G A T A A G G A G G G C G A C A A T A G C A T G T C T C G A T A A G G G T T C G T A T T T G G G C A G T A T C G A A G T G T G T C A G A A G A T T C T C G G A A G A T A A G C C A G T A T G C C T T G T C G T C T T C T G A T G G C T C A G T T A G C A T G G T T T C C G C A T A G T C G C T G A T C G A A C A C T G T C T C G G C\n",
            "1 1 C A T A A T T C T A A G A C G T T A A A A G G C A C G A C A G A T T A G G G C G C C C T A G G G A C A C T T G C T G T G T T A T C G A T G C G C A A A A T C G T C C T T G T C C G G T C T T A A G G T A T C A G A G G G T G A C C A C T G T A T C G A G T T C C C A G A G A T A A G G G G T T G G C T G T A A G C C A G T T C A C T T C A C C G C G G T C C T A C C A G C G T C T G T T A C G G C A C C G T A C\n",
            "1 1 T T G C G G G C G A C C T A G G T T A G T C T A C G G A T T G G G C A C C C C C G A A G A T G T A G G A T G G T A G T G T T G G C C T G G T T T C C G T T A G C A T T C A T A T A A C G A A G T C G A T A C T C G G C C C G T C G A A C T T A G T A A A G C G A A T T C G G G G G A G G G G G C C A G G C C T T T A A A A G A T A A G A A T C A T G C A C C A G A C G T G C C T G C A C A T A T G C A A T A C T\n",
            "3 3 C A A C C C T T T A C G T C C G C A G A T T A G G A C T C T T C A A A C C C C C G G C T G C A A T C T A T T A C T G C C C C C C C T T T C T G C T G G G T T A A G C T A C A A A G A C G T A T A A A A A C T C A T C T G C A C A G A T G G T A A C A G T G A G C G C A C A G T T G T T C A C G T G C A T C A A A C T T T T A C T T A T G T A A C T A T C A A A C C G T T G G C G G A G G A A G C T G A T A A G G\n",
            "1 1 A G G A A G T G A A C T T T G G G T T T G T G C A C A A A A T G A T C T A C C C C T T A A G A G C A A C A A T C G C G T T G T C T A A G T G T A A C T A C A A C T T A A G T A A G C A G C A G C G T T A A T A G A T T G C A T G C A G C G T G A C A C A T G A A A A G C G G T G A T A A G A C C C C T G G T G C T G A A T G C G T A A T T C A T A C T T G C T A T G C T C T C T G A C A G C G C A T A C G G A A\n",
            "1 1 A G G T T G C C C C G C A G A T A A G C C A C T C A T G T C T T A T G T A G C C G T A G T A G A T G A G A A T A A T A A C T A A C T T C A T G G T A A C T C A T C C G A T T T A A T G C T A A G A T A A T A G G G G T T A T T T T T G T T T A G A G C C G C G T T C C A A A T C G T T C A T T A C C T A T G A C G T A A T C G T T G A C C T T A C C C C G A T T A G C G T A C G G C T T C A C T C T T G C C T G\n",
            "2 2 T T T A A G A T G A A C C A T A G G A C A G T T G A A T G T T T G A T C A A A G A G G A A C A G A T G T T C G C T C T T A A G G C A T T G G T A A A C A T A T A T A G T C A G A A A G G A T T C A A T C A A C A C A C C A G A T G G T A A T A A G G C T C G C C A C A A T A C T A A G T G A A T T G A T C G G C T C T C C T T C T T C C T G G C A C G C C C G A A C G G A G A A A C C C G T G C C A G A G G A C\n",
            "1 1 A G G C C C G A A C G C T C A A C A A C G A T A A G A T T A G A C G A A G A C A C G G G T C T T A A A G G G A G T T G C G A C A C G T T A A T T C T T A A T T G T G T A A T C C C T T T A A C G T G C T C T G G T G G G T A A C A G G T T T G A G T T G A T A G C T C A C T G T T C A G A C G C C T T C G A G A T A A G G T C G C A G T A C C A A G A T G C C T C G A A C C G T G C C T A G T A G C T G A C C G\n",
            "1 1 C T C C C A G A T A T G T C G T C T A G A T T T T T C G G A A C T G C A T G A A G A A C A T T C A G A A G T C A G T A G C T A T T C A C T G A C G C G A T G T C G A A T G C C T A T A T G C C G A A T C T G C T A T A C A G T G C T G T T G T A G A T A A G C A G A C G C G C T T A T A A T C A G A T A A C G G T C A A C G C A G T T A T G T A G C C T G C T C G T C T G G G T G A T A A G C T A A G C A C G C\n",
            "2 2 A C C G C C G T A C T A T C C C G C T C T C G A T A C A G A T G G T C T A C T T A T A G C C A T A T G C G G T A C A C A T A T T C T G G G G A T C A C G A A A C G T A C A C A G A G T A A T G G T G G T T T G A A G C T T C T A C G T C T T A A T T A A G T C A T A G A T C T T A T A A T T A G A A C T G C A C C A G A T G G T T A G A T T T G T C A C C G A C C A G C G A C T A C C C G A T A C T C C A T C T\n",
            "1 1 G T G T C C A C C G A G C C A C C T C A A T A C C A T T G T C G A A C A C C C T C T C G C A G T T C C A T C C A G A T A A G G G A A G T G A T A T C T C C G A C G A C T C C A G T C A A A T A G T T C C C A A T G G A T A T C T C C A C G A A A G C C G A T G T A T T G G A G G C G C G C T A T T T T G A G G T A A A C A C C T A A C A A T T T A C C T T G A T T G A T T A G C T A T C T T G C A G C T T G C G\n",
            "2 2 C A A T A T C T T A A C T A T C C A A C T C G T T C T G A G A C T A A T G C T G C T C T G G T G G G C C A G A T G G T C T C C T C C A A C A A C G G G G G T C T T A C T A T T G T T A G C G T G A T C C T G A C A T C T A C G G A T A G G A T A C C T T G T C T C C A G G T A A T T A C G C A C A G C T T T A A T C A A G C C G A G A G T G A C T A G A T G C T G A T T A T G G T C C A T T A T C A G C T G C A\n",
            "2 2 T C T C C C T A C T A A C T G A A A A G G G G T T T T T G T A G C C A G A T G G T C A G G T G A A T T C C C T G A C T A A T C G G G C T T G A G T C G T C T A C A T C G T A T C G G C A G G G G A C C A T A G G A C T C A C G T A T C T T G C G A G T C A T A C C A C A T A T T A T T G A A A C G A A G G A A T A C T A G T G A A C A G A T G C T G T C C A A T A A A C G A A C G G G G T C A A T A C T A A G T\n",
            "3 3 C G A G A G A T C C A C G T G G G A T C A A G G A T A T T C A G T G G A T C T C A T C C T C G C A A C A G A T G G C T A G T A C G A A T A G A A C C T A T G G G C G G G T T G T C A G A T G G T C A C A G C T T G T T A T T G T A G T A T A A C T A T A C C A A T C A T A T G A A A G T G A T A A G A G T C C C G C C T G T A A G G A A G A C G T A G G T G G A C T A C G T T C T C A T A C C A G G A G A A A A\n",
            "0 0 A G G G T C T C A C T T A G C T C T A G A C T A A C C A T G T A T G A C C T T G T C C G C G G G C A T T A C G C A T A T T G G G A C C T G T G A A T T G T C G A C A T A A C T T G G T A T T C T T C C A G T A G G T T G T A C C T A T A A C C C G C G T T C G C G C A G G C A C A C C G C T C A G T A G A T A C A G A C A C A A T T T G C C T C T C C C T C C C A C A A G G C C G A T C G C T C G G C G C G C G\n",
            "1 1 G G G T G G C C G A A A C T C A G T C T C T A A G C A T A G T G G A G A C C T A G T T C A C A C T G G A C C A G A A C A A T A G C A T G G A G A A G G T C A G A G A T A A G G C A C G G A C T T G C A A T T T C T T C T T T C C T G T T T C T T T A C C G A A G T T A C C T G A T A A G G C T C T C T T T G C T G C T A A C A T C G C T C G A C T A C G A T G T C A C A G C C G G A C T T T A T C A A C A T G C\n",
            "0 0 C A C A T C T T C C A A T T C G G C A C G G T G A T A A C G T A T C C C C A T G C A G G A C C G A T C G A C A T A A T T T G A A T G T T G A C C T T A C T A A A T A T A A G T G A G T C A T T G T T C G G A T A G T A T T T C A C T G T A G T C T A A T C T G A A A A A A C G G T T A A T C C G G A A G T G C G G A T A A A T A C T T A T A C T C A A A G T C A A A C A G C A T G A T G G G A A A G T A C G A T\n",
            "3 3 G G A A G A G C G A G A T T G A A T G C A G T T G A T A A C T C G A T C T C C T A A G A A A G C T C A C C A G A T G T C A G A G G T C C T A T T G G C G C T G G T G T G A A A T G A T G T A T A T A C G C T A A C A G A T G G T C A G T T C A T C T G T T G A A A A A T C T C T A G A C C T G G G T T A C A C T A A A T T A T A A A A G T T G A T T A A G G A G G G A G A C C A C A G A T T A G A T G G C A G C\n",
            "3 3 C G C A G A T A A C C T G C C T A C G A G T C T A C A G A T A A G G C T C C A C C A A G G A C G C G T G T A A C T T C T T C A C C G T G A T T C C T A G A G T G A G A T A A G A C T A C C C A A A G T G G C G T A A C A G A T G G T A C A G C A C G G C A C T G T T C A C T T C C A A A A A T T C G C C G T G C G G T G A T G T C A T G T T G A T G T T A T A G A T A T A A C A C C C T T G A A G A G A G C G G\n",
            "1 1 C G C G C C A C T C T T T G G A A C T A A G G T C G G G A G C T G G T A T T C A C T G A A T T T C C A T A T A G A C C T T G T T T C T A G C G C G G A C T T A A C A G T G A C G A T A A G G C A G A G A T G C A A G A T A A G C T G G C A T G T G G A T C C T T A G C T A A A C C A G T C A A T T A A G C G G C T A A T G C T T C G A G A T A A G C A C T A A A C A G C C C T A A A A C T G T T T A T G A A C C\n",
            "1 1 T C T A T C G G A A C T T A A G G G T G T G T G G C T T G C G G C G C C C G T T A A G A T A A G A G A C G T A T A G A A T C A G C T T T G A C A C C C A C T C G G T G G T C T C C T G G C C G C C G C A G G A T T G G A G C G T T C C A A T T A T C C G C A C A A T G T C T G G T C A A A C G T T C C C C A G C A T A A A T A A T G G G A T T T C A G C A T T A T A C G C A A A T A C T C C C A A A C G A T A G\n",
            "0 0 A C A G A A A C G G A G G T T C G A C C A C C C C A T G C C C A T A A C G G A T A G C T T T C A G G C A C C T C A C A G A G G C C G C T A A A A T A C T G A T A T A T T G C C T T T A T C G C T A A T C A T A T A C A C A C C C T C C T T A T G C A G T A C A A T G A T C T T T A A T T T T C C C T A A G A G G T A T C C A C G C G T C A G C G T G A T C C C A C C C G C T G T A A T T T G C T G G A T T G G A\n",
            "1 1 T C T T C T C C C T C T A C C C A C A C A C C C A A G G G G A A C A T T A A G T G C C G T C A G G T C G A A T G T T G C T G A G A T A A G C G T T C G G C A A G G T A A C G C T C A T G T A A T T A A C G C C T C C T T A T C T T C A T C G A C G C C G G G A G A G A T G A T G C T G G C A T C G C A T A A T C G A A A T G T T C T G A T T C T G A G A C A A A G G C C G A C C T G A A C T A A A T T G A T A C\n",
            "2 2 C C T T A C C A T G G C C T T C T G C T T A C A T A G G T T A A T A T T T C T A G T C A G T A A C G C A T C C G A A A G T A T C A T T G C G A G G T T T C T G T C T A A T G G C T G A A C A C A G A T G G T G C T C T A G C T A G C A T T T G G T T A C T A G T A T A G A G G G A C T G G G T C C A T C T A T G A G A C A A A G G T C C G A G C G A A C A G A T G G T C A A T T G T G A C T A A A G T T T A C T\n",
            "1 1 T T G T A A A A T A T G G A C G A C G G C G G C C G G A T C T G A G T C T G C T A A T T T G G T A A G T A C A C T G G G A C A G A T T C G C T G C C T T T G A C T A C T T A G T G A C A C T G C T A A A T G T G A G A G C C A C G G G G G A A C A A A C G C C G C C G T T C C C C T T A T T T A T A T A T T T A G T T T G G T T T A T A G A G C A A A G A T A A G C C A A C A T C C T A T A C A T C T C T A T T\n",
            "1 1 G C C T T C T T G C C T T G A C A T G G G T T A C C G A G C A C G T T G T A G T T T T G T A C C T A A T C T A G T G T T G T A T T C A T G A C A G A A G T A C T A G G A A T G T A A G G G G C A G A T T C C T A C C G C G T G C C C A G T G T A A A G C C T C C T A C T G A A A C C A T A C G A G A G A T T A G C C A C A G G T A A C C A A C C G G C C T C T C G C T G C A T A T A G A G G A A A C T G G T T T\n",
            "3 3 T G G A C C T T G A C C C A T C T C T T T C C T G A C A G C C T C A T A T G A A C T G A T A A G C A C A T A C T A C C C C A T T G C G A C A G A T T A C G C A T T T C G T C T G C T G G A A T T T A T T C A A T C G G G C A T G G T T A T G A T A A C A C C A A T A C A C T T A A T T A G A A C A G A T G T T C A C A C A A T A T C G C A T C A G G G T A C C A T C C T C G T C T A A G A C C A T T A A A G G T\n",
            "1 1 T C A A T G A T A C G G A C T C C C T T G A G G T A T C T G G G G T C A T C A A A C C C C G A T T A A A A C G T C A T A G T G A T A A G A T T A A G G T G A G C A C T C T G A G A T A T A T G G G T T A C C T T G G T G A A G C C T T A T C T A T C G T G A C G A C T T A G A G T T A A A A A G C C T C C C C T T G C T T T A T G A T C A G G A T G C A A A G T C G C A G T A G G G T C T A A A G C T A A T G A\n",
            "3 3 A C A C G A A G A T G A C A A A G T C A T C C C C G T A G A T A A G G T C C T T A A A T A A A C C A G T G G A G T A T C T G C G G A A C A G A T G G T C A G T T C G A A G A G C T G A A C A G A T G G T A A C A G G C A G A T A A G A A A T C C G A T C C A C G G T G A T A A G G A G T A A T C G T A A A A A T C C C A G C C C G A C T A A T G C G G G C A A A A C C T T A C C A G A T G G T A C G C G G T C C\n",
            "0 0 A G C C T A T C G T G T A G T A C C T T C G A A T T T A G T A A G A T A T C T A C G A C A C T G C C A T T C G A G T T A A T T A A A T G G C A A A C T A A A G C G G T A T G A T A T A T C C G A G A T G C A A A T A G C A G G G T G C C T G C A A A A T A T T T G G G G C C A A C A C T C G A C T A G G T G C T T A C A T G T C C T G C T T G T G G G T G C A G G A T A G A G G G T C C C T C A T C A G C A G C\n",
            "0 1 G C A C A A T A G G A T G T A C G A G C G A A T A A G C A T T T C C T C G C A A T T G T C G G T A T G G G C A G C C A C G G G C T C T C T G A A G G T C C C A A A G A A A A C G G G T C C G T G G T A G A A A C C T T T C T A A A A G T T T A C G T C G A G T A T T T G T G T A A C T A G A G C T T T G T G A T T A G G A T C T C T T G T T G G T C T T A G C A C A G A A G A C T G T G G T G A C T T T T G A G\n",
            "1 1 T G C T T G G C G C A T T G C C A C G C C A C C A T T C A A T C A C C C C T A T C T T T G C G G C A A T A T T C C C C A C T A A G C G G A T G C G G G G G G T G T G G C C T C A A T T T T A G A A A C C G T A T T C G A T C A C C C G G A G A T A A G G C G A C G G T A G T G A T A A G G A T A A C G A A C C A C T A T T G C T T C T G C T T C T G T C C C A A G A T A A G T T A G A C C C A G A G T T G T C T\n",
            "1 1 A C T A T G C G T T C C C A A C G A C G A C T A T T A G C A G T A A A A T G A T G C C G T T A A G C G A G T A G A C A T T A A C T G A A G C A T A T A C A A G G T C C G A C C T G C C T T G G C A C A T A C C G A A T A A T T T G G T C T C G A T A A G G C C C A A T A T G C A G A T A A G A T G A A C G T T G T C T C A G C G T A G A A A T T T A A G T C T A G G C A T T G C T G A G G C A T G A C A C A G G\n",
            "2 2 T T A G T A T A C G G G G C T T G T A T T G G T A C A A C A C G G A A G G A C T T T T C T G G C A A T C A C A T A T A G A T T G T G A C A A C G A G A C A A C T A G C C T A C C A G A T G G T A T G G G A C C T A T T C C A G T G T C G T T A A C A G G T G T T G C G A G C T T A G G C A G A C A A C C G C T G C C G T G A C A G A C T T T A G G A C A T A C T G G A A T G G T C G T C A G A T G G C A G A A G\n",
            "2 2 C T T C A C C C T T T C G G T G G T G A A C T T A A C C T T C A G T G G A C A G A T G T T G A G A G C G G G A C C T A G A T T A A C C T A T A C C C C C T C A A A T A C A T A G G A C G G T C C A G A T G G T T G A T T G T A T G G A C G C C C A T G A C G T T A G T A G C C T C A C T T T A C T G T C T T A T T A A G T T C A G T A T T T A G G T G C T T A G G A T T C C T T A C C G G C T C G T A A T A A T\n",
            "1 1 T C G G C A C A C A G C C A G A G A T A A G G T G A T G C G T C T A C T C G T T C T C G A T T T G A C C A G C T G A G T A A T A G A T A A G G C A A A T T C C A C A G T T T A G T T G A T A A C A G A T A A G C T T C A A G G A T A A T G C C T C G G C T T A C T C T G C G G C G T C G A A C T G A C T G A G A A C C A A T C A T A G T G C A C A A A A T A G G T A C A C C T T A T C C C A C T A C G T T T C A\n",
            "2 2 A G G G C T A G T T T C C C G C A A A A G T A C T T G T T C A T A T G A G A T C A T C C C G G C C G T A A T C G C C T G A C G T C G G T T T A C T C T A A A A A A A C C T C A T G C A A G G C A T G C T C C C C C G T T T G T G A A C A G A T G G C T G A T T T T T C T C C G C A C G G A A A C G C T C A A G T A A A T A T A T C A C A G C T T A C T G A C C A G A T G G T G G A C A G G A A T G C T T T A G C\n",
            "1 1 C C G A G A G C C G C G C A T C T A T A T T C A C C T T G A C T C C G C G G G G T A C C G G A A T G A T T C G G A A C T G T C A G G A G T C T T T G C C A G A A C A C A A A G A T T A G G G C C C G C T T T T T T C A A T T C T C A A G T C T C G G T G A T A A G G C C G C G C G C G G A G T G T C T G G A A T A A A T T G T T A T A G G C C C A A A A G G A C G T G A T T A G A C T A T G T T G T A G T G A C\n",
            "0 0 C A G A G T A A G T G G C C G A G C T A T A T T G T A A G C G A T G C G T G A T A C C A A G A C C C T G G A C G T T T G C A A C C G T T A T G C G A G G C A G C A A G A C C A T A A G T G G A G T G G C G G G T A G A A A C C C A A C T G T T C A T C A G G T T C G G G G A C G A A G A C A G C T C G C G G C C T A A T A T A A G C G G G C T G C C T A T A T G A G T A C A A G T T A T G C T C G C T G C A A A\n",
            "0 0 T A G G C T C A G T G G G A G A A T T G C C G C C G A G A T C T C T A G G G T G A A T C T A C C G C G A C A G C T A T G A T T G A G T T A T T T G G G G C C T T G T C A T A A T A T T G T G A T A G C C A T G A T G T G T A A T A A T T G A G A C C T C A C G C T G C C C T G T G C A G C T G C G G C T A G C T C C T C T C C C C A T G G T T T C G T A G C C C G C T T C C C G G A C T G G T G A G T T A C A T\n",
            "0 0 C T G T A G A T C T A T G C T T T T A T C C T G A T T A G T C C T T C T A G A A A T C A G T T A C A C T G C T A G T T T C C G A A T G G C A G A A T C A C G A T T T A T T T A C T C G T T C G A G T G C G C C G A T G G A A A C C G T T C G C T G A T C A T T G C T A A C G T G T T G A T C T C C C A G C T G A G A C C C C G C T A A G C T T T C T G G T G T T G T G T T T A G T G T G G G T T A A A A T A G T\n",
            "3 3 T C A T T T T C G A T T T A A C A G T C A G A A G C A G A T A A G C C T A A C G A A A C G G A T T T G C A T A A G C A G C A A C A A T T C C A G A A C A G A C C A T A A A G A T G A A G C G G A G T G T C G A A C A G A T G G G T A C A C T C T G C C T G A T C C A T A T C C G C C C T G A G G G T A A T T C C T A G A G C A G A T A A G C G C A A T T C C C C G C T G T G T A C A T A T T A G G A C C A T A A\n",
            "3 1 C A A C A T A C T A C A A C T A T T G C G C G A A C C T T A T C G G T G A C A G A C A C T T C A G C G T A T T A C C T A A C C A G T T T C G G C T T G T T C T T C G G A G A A T T G G C C A A G C G T C G C G C T C T A C T G C G A G A G T A T G A C A A T G G G C T T T C T A T G T G T T G T G T C A G A G A T A A G C A C A G C T C C A G G T G T T C A A T C A C A T A G T A C C T C C T G G A G T T T T G\n",
            "3 3 A T T C A A A T C A A C C A C A G C T A T T A G C T T T A T C T C G A T A G A T A A G C C C G C A C A G A T G T T G C C A G C C G G A C A T A A A C G T A C A G G T G T T A C A T T T A A C C G G A T C T C T T T T T G C G G C T C G T A C T A C C C C C A A C C A T T A G A A C G G G C G G A A A T G C T A A A C T T C A G T G T A C A A G A C T A A T C A G A T G G T A A G T A T C G C A A C C T A A T G G\n",
            "2 2 A A T T C G C G G G G G A T G G T T C C G G T T G A T T T A T C G C G T A A G C G C C C C T A G C T T C T T G G T C C T G C T A A C C A G A T G G C C A G C G A G G T C C T G A A C C A C A A C G G A T A G T C T A C A C T A G G A A T C A G C T A C A A A T C A G G T G T T G A C A A T A C C T C C C C G G A T T T G T G C G C G C A C T C C C T C T C G C G A T C G C T G C C A T T T G A T A A T C T C C C\n",
            "3 3 C G G C T G T G T T G G A A T T G G A A A T G T A G T A T G C A T G T G T C G C A G A T A A G G A T G A T T A G T A T C A C T G A G C T G G T A T A T A G G C T T A T T A C T C A T C T G A G G A T T G C G G G G T T C C C T A T G T G T A T T G G T T A G G A C A C G A A A A T T G A G A A A A C A C C G T A T G G A T C T C G C C A G A T G T T C T A T C C T A C T G A T C A A C A C G T T A T G C T T T T\n",
            "2 2 T T G C A C T G A C G C T A A A A A C C A A A A T G T A G A A T C C T A G T A A C A T A A C T C C T A T A G T A A A T G C T T G T C G G T C C A C C G A C C A G A T G G T C C T T T A T C T C T C G C T T G T A A C T G G A C C A A C G T T T C A G T A A C A C G A T A T T T C A A G C T A T G A A T C A A G G G A C C A G A T G G T A T C C G A C T A G T T A A C A T T C T G T C A T T G A T T A A T C G C A\n",
            "0 0 A G T T C C A T T G T C T C A G C A T C G G T T T C T A A A A A A T G A T T A C G A T C C A C C T G C G A C A A T T G C G A C A C T G G A C C T T G T A A A G A A A A T A A G A A G C T C C A T T T A C T T G G C A A G C T G C A T T C A T C A T G G T A G A G G C T A C C G C T G T T G A T A A A A C T T G A C C C A T T G C A C C T G T G C G A A C A A A G G T A A A A G T A C C C T G C T T A A G C C G G\n",
            "2 2 G G A T A C A G C C G T A A C C A A T C T A G T A A C G G C C C A C A T A C C C T G G C A T T G T T T A C A A A C A A A G G C C A A G A G C T G A G A C A G A C T C A A A C C T G A A A C C T T G C C A T G A A T C T A A T G C A C A G G T G G T A T A G G C C A C C A A A A C G G A C C A G A T G G T C A T T T T A G C A C G T C C A T A G A A A C T C T A A C A T T A C T G C T G A A G G A T T A T T A C G\n",
            "2 3 T C A G A T G A A C A G A T G G T T G C A A C A C T T A A C T A C G A T G C A C A G A T G G T A C T T T C C C T G G G G C G G A A T C A T A A C T A G T A G A T C C A A C C T T G A C G A T G G T G G C A T C T A C T G G T A G C T C T A A T A C C C T C G C G T G G A A T C G C C A C A C G T T A T C T G A T G T C C A C G C A C T C C A T A G A A A G A T T A G C G G A T A C A T A C T A T A T G A T G A A\n",
            "3 3 T C A T C T G C G G T C G A C C T G T C T G C A A T T T T C G A T A A G A A A G A G T C T C T C T C C A G A T C A C C C A G C G C C C G G A A C A G G T G T T C A C T G A C A T C T G T G C G T C C A C A A G T T G C A T C A G A A T G A G T T T G A G A C A A G C T C A T A T A C A A C A G A T G T T T C A A C T A T C G A G A C C C C T C C T A A T C C C A C A G T A T G T T T G A C C C C G G T A A G A A\n",
            "1 1 C A T A G C T G G C A C G T G C T A G G G T A C A T A T A T T G G G T G T A G C C A G G T A G A G G G A T A C A C A G G C A A A G C G A T A A G G A G A G A T A A G C T A T A A C T C A A C G G G T G A G A G G C G G C G T G C G A G G C T A G C G A T A C C G G G T C A A T T G A A A A C T G G A G A T A A G C A G C A T A A T G G G A C C T C A T T G C T T A G A A C A T A G T C C C A G A G T A G G A G G\n",
            "0 0 T A A T T T A T A G C T G A T G C A A T T A T G G T G A T A C G T C G C C G T A G C G A C T G A T A G C C G C C G C T A C A A T C A G G C G T A A A C C G C G T A C A A T T A A C A G T G G A C A C A A T G A G A G G C G C A C A C T A T T G C G C T T A C G G C G G G A T A G A G G G C G G A C A T G G T C A A G A T T C T G T A G A C G C A T A G C G C A T C A G C G C A C C C G A G T G T C G C C C A T A\n",
            "2 2 C T C C T A G G C G C C C G T G G T T T G G A G C C T T G C A T A A T G A A T T T C C C T C T A T G T T G C C C T T G A C G G C A A T T T A G G T G T A C G A C G C C C A T G C A G T C A C G T A G C A A T C T G G A G A G G A C A T C A A G T T G C T A G C G A C G A G A C A G A G G C A A A A T C A T A T T C C C A G A T G T T C G A T C A G A A T A G A T C G A C A G G G A T C C G C T C G T T G A C G A\n",
            "3 3 T G T T A C G G C A C G G C C A G A T G G T T C T C T T T A G A A A C C G T G C T T G G G C T T T A G C G T G A G G A A C T G C C T A G A T T A G G C T C A C G C C G C G T C A C A A A A C G G C G T A A G C G G A G G T T T C A A T C G A A G G T C C T T C A T A T T T G C T C A T T A C A G C T C T C T G T C C A C C G A A T T C T A C T G A T A A G C A T G G G T C T C A A A A A C T G A C C G G C G G T\n",
            "0 2 C T T A A A G A T C T C A T T C T G A C C C A C T T T T T C G A C A C A A G G T T G A T A T C T C T G G C T G T T C T C C A T T C C G T C A C T G C A G A C T A A T C A A A G C G T C A C A G A T G C G A G A A A A T T A G G A G A C T G A A C G G A C A C A C G T A A C C A A T G T T A C G A T A G G T A A G C T T C G G A G G A C A A A G T G G C C T G G C T G A G T A T G T A A G T C A G T T A G A T T G\n",
            "2 2 A C T G T A A C T C A G A G A C G C A T G A G A G G C C T A C T A G T T C T C T C A G C A A A A C G C A A C T T G T G T G G T G A C T G A A G G T C G A G G A A C A G T T G G T C G C C C C T T A A G C A C A C G T A A C T C A T A G T A A C T G T G G G T G A A A A T A C C G A G A C G A A C T A T T A C C A A T T A C A C C A T A C G G C C C A T A C C T T A C G T A G A G T T T A A C A C C C T C T T T G\n",
            "3 3 T C A T G G G A A G G T C A T G G T T T T G T T A A G G C G T A T G G T A G T T T G G A T C A C C A G A T G T A A A A T C A C T A A T A C G C C A A G A A A G A T A A G C T C T T A C A A A C G T T G A G C T A G C T A C C A G C T C A A T A G T A G A G G G A T C C G C A G A C C T A C A A A C A G C T G T T A A T T A G G T C T G T C A C G G A T A T C A G G G C G T C G T C T T C G C G G T T T T G T C G\n",
            "3 3 C C G C G T G G A A G T T G A T A T G A A T G T C G A T T G T C G C G C C G T A G G T A T C T T G C T C T G A T G G C C T G A C A G A T G T T C T A C A C A G A T A A G C A A G A G A C T G C A C G A C C G T G G C T C T C C C T C C A C T A A T G G T T T G T A A T C T T A T T C A G T A T T A G A G C G T A A T G A C A C T A G G A T A C G T T G A C T C A T C C G A A T A C G C A A A G T T G A C G C A A\n",
            "3 3 C A A A G A T A A G G G C C G T T C T T T T T A G C G A T T A C G A T T C T C G C C G G A A G C C A T A T C A G C C T A C T T C T C C T T G T G C C T G A C C G A A T T G T C G A G C G T G A A C A G A T G G T C G T A C A T C C T G G A A T C A C C A G A T G A C A C T T G T T G G G T G T A G T G T T C A G C T A G T T G C G C C C G A C T G T C A G G C C A T T A A C A G A T G T C C C C T C T T T C A T\n",
            "2 2 T C G A T A T A T G T C A A C A G A T G G G C T G T G T A C G C A G G G G C G T T T C C T G G T C C A A T G T C T T T G G C A C C A C T A G A T G A A T T G T T A G G T A C T A T G C A T A G T C C C T G G A T T G G C C C G G T A T A C C C G A A A C G T C T C A T A A C C A G A T G C T A A T G G A T G T G A T C T A C G A G A A A G A G T A C A G A T C T T A A A A G A T G G T A A A A G T C C T A T A G\n",
            "3 3 G A T A T T G T G A T T A A C C A A G A T T T T G G A G T G G T G C G C T A A G C C A C T G T C A G A T A A G C A A A G C T C T T T A A T C T T C A T T T T C G G C G T C A C G G G G C A G T T G A A G A T A A T G A A G T T G T C T C G T T C A T G T C A G A C A T T T A G A A C G C G A C A A C A T A T C A T C T A A C A C C A G A T G G T A A A C G G T A C T G C G A T G G G T C A C A C G G T C T A T C\n",
            "2 2 T C A A C T C A T A A G C A T T A G C G C A T C A A G C A C C C A G C C T G T A T A A A A C C T A G G T A A G A C G A A C A G A T G G C C A C C G C C C G C T T A G A G G G C G T C T G T A T C A A C G G C A A C C A G A T T A T G A G G A G G T A C G G A C T T A G A C G C A C A A T A T T A T A T C C G A G A A C C T T G C T A T T T T G G A T G A C G A G A G T C T A C G G C G G C T C T T C T C C C C G\n",
            "3 3 T G T A T A A T T C T T T C G T T G C A G T A G G T T C A C C C C C C G A C T G T A G C T T T A G C A G C A A G G T T G C A A C A T C G C A A G T G C C C T G A T A A G G T T G T T C C A G C A G A C T C G G C T G T C C T C G A G T A G G C T C A C A T C A C A C T A T A T G A G A A C A G A T G T T G A T A A A A G A T A A G G G A G C A T T A A A T C A G A T T A G C G G C C G A C C C G A C A C C C C T\n",
            "1 1 A A C T T T G C A A T G A T A A G G A C C T A T A T T C C A G C C A C T G A T A A G A T G T A A A G G G C A G T T A A A A T G G T T T C T C A T C C G C G T A G G T A A G G C T T A T A G A T G A G C C G T G T T C C G G C G C A A A G A G T T G C C G C C A C G C C T A A T T G C A A T A G T C C G C G G G T C T A T A A T T C T G A C C T T A A A C C T G T A A G T C C G G C G T A G T C A G C T A C G C G\n",
            "1 1 C C A G G G C C G T C C A A G T G G C C T A A G T G G C G C C A T A C C A T A A T C G T T C T C T A G C A A T C C A A G C T C G A C G A T T A G C A C A C T A C T G G C C A C A C C A G A G G T T T T A G T T C C G G C C G T T T A C T G T T G C T A C G T C A C T T T G A A T C G G G T G G A A C A A G T G T G A A A C T A G A C G T C G T G A T C A G G A A T T T G G C A G T A G G G A A G A T A A G G A G\n",
            "1 1 G C A A G G T C C T A C G T C A G T C T T T G T C A C G T T T T A G G A T A G C C A C C G A A G A T T G C A G G G C A G A T A A G G T G T T G A G A G A A T C G C T A C A A A G G T T G A T T C T G A A C G A C G A G T C T A T G C T T G C A G G G C T A T T C A T C G C A A G C T A A T G T C A A C A C G T G A G A C G T G T A T A C A G A T A A G G A C T C C T C G A A T G C G A C T A A A C C G G T A T A\n",
            "1 1 T T A A A C A T G C T G A T T A G G A C G C T G T G G C G C C C T A T G A T C A T G T T A C T G T C G C T T T A T A A G T G A T A A C G G A A T T C T T C A T G G G A T T T A C C A C A G C G T C T G T A C G C T T C A G A T G A T A A G G C A T T T T A A A A C G A T A A G A G C T C A T G T G G C C G A G T T C G C A G C A T A A G G T A G T C G T T C G G C T A G T G C G C T A A A G T C G C C C T T T A\n",
            "2 2 T T C A A C A C A G A T G T T A A T C T G A G T C A G G A A T T T C C A C T A G A C A G G C T A A C T T C C G T T C G A C T T T A G A C A C T C C A C G A A G G T T T G A T C A T A A G C T G A T T A A C G A C T A G G T C C A G G A T A A C C A A A G T C T G T T C T A A A C A C A A A T T C G C C G C G A A G C A G T A C C T A T T T C G T T G T G G T A A A C C A G A T G G T G C C A C T A T C G T T G T\n",
            "2 2 T G T G A C T T C A G G G A A C G A C T T T C T G T T G G A G T G T C A A A A T T T A G T A A G C C C T G G T C C G T A T G A T A G G A T G T G G T G C A A T C T A A T G G A G T A T C C A T A T C C T G T C T G G C G G T G G A C A G T A C C T C A T C G C G G A C C G T A G A G C T A G A C T G C T A G C A G G G C A T C G A C C T G A G A G G G C C C G A A C A G A T G G T T G C T C C G T A A G G T A T\n",
            "2 2 T T A A G A T A G A A G C G C A A G A T T G C A A T A T C G C T A C A T T T C G G A A T T A T C C G G A G A A A A C G A C T T T G G A T C G C A A T C C T C A T C C G G A C A C G A C T T G A A C A G A T G G C C C T A C G A C T C G C T C T A G C G T G G T C A C A G A T G T T A A A T T A A C A A A G G A A T G C C T T T G T G A G C G A A C A G A T G G T T T T A C C A G G C A T A T T C A T A A C C T T\n",
            "3 3 G A A C C G T C T T G T C T C G C T G A T T C T C G T A T G C T T G C A C A C A G A T G T T C A T A G A A A A C A C G G C A A C T A A G G G C C G C C G T T T A G C G C A T G G G C G T G G G A A A T C G A G G G A G A T A A G C G C G C A A A A A T A G A A T C A A G C T C G T T G A A C C T A C T T G C C G C T T A A G A T G G T T T T C T G G T G C A C A G A T A A G C C T G G A G C T G T G C T A T T T\n",
            "0 0 T G G C T C T C A T C T T A T G A G G T C A G C C A A T C A C G G C G G A T G C C T G A T T A G G G G G G C C A G A G A T T G C G C G T T A T T A T T A C T C A A C A C C G A T A A A C A G A A T T C C A G T A A A G T T G C A T C A A G T G G C T T G A A C T T G C A G C T C G A G T A T C A C G A T A C C G A T G T T A T C C A C T C C C G T C A G G A A T A C C A A C A G C T G A G A G T A C A C C G A G\n",
            "0 0 T A G G A G C T T T G T C T A A G A G G T G A A A A T G C C T T T A G G T A T C A G T T T A A T A G G G C G T T A T A C A G C A A A C G T C T C G A A T C A C C A C G T A T G A A C G G A G C A T G A T A T T G A A A G A C A C T A G A C G C T C A T C A A T G T A C T A G T C T C G A G C T T A A G A C A T G G A G G C T G T T A T T C A C A C C G A A C A A C C C G T C C G C G T C G A C C A G A C G A A A\n",
            "0 0 A A A C C G G C G G A C T T T G C A A A G C C C G C A A G G G A A C T G A A G T A C G A T T A C A T G C G C G T T T G A A A T G C T A G T G T A A A G G T T G A T A C C A T C T A T A T C T T A C C T C A G G G A G G A C G T G T A A A A T G G A G A A G G G C G G T C T T C A G C T T C A T T C C C G C G G A C C A T T G C C C T C G G G T C T C A T T C A T A G T A G A C A A A T A C C C A A A A T A T A T\n",
            "0 0 C A A G G C T G T T A A A G A C T A C T T T G T T T G G G T G G G T G C C C A G A G T T A C G A A T A C G C A A C G G C C T G T G A A C C A T C A G G G A T T C C C T G A T C G A C G A A G C A A G A C T A A A C G C T G A C T A A A C G C G C A C T G C C C T G T T G T A G C G C G G T G T G A C G C A G T T C C G G T T C A T A G T A C A T A A C T A T C G G A G G T T G C C A C T T C A C G A T G A G A T\n",
            "2 2 T T C C G A G G T T G G C C T T A A T C G T C A T C T C T A A A G A T T G T C C C C T C T T C G G T A G A T A G G T G C G C G A A G A T C T G T T G A A C G C G A A C A G G T G T T G T C A G G A G C C A G A C G G G A A C A G G T G T T C C A C A T A G A C C C G G T A C A G A T G G T G A C G T C G T T G A T C G A T T C T T T G A C C G A A C C T C C C T T A T C T A G C A C C G T G G T T G T G A C T G\n",
            "1 1 G T C G A C T C C A G A A A C A A A G C T T G A A T A T C G T C T T G A C G G C C A C T A G T T T A T A T A G T T G G C A G A T A A G C C G G G G T G A C G G G G G C G C T A A A G G T G A T T A G G T A T G C A C G C A C A A A A T T A C C A A A A C C A A G A T G T C A G C G G A C T T T C G A T G C C G C A T T G T A C C A G C C C G C T C G G T A T T C A G G T T T G T A A C T G T A A A C T A G C T A\n",
            "1 1 G A A T T T C T A T T G G T G A G G A T T G C T A A A A G G T T G A T T G A G G T T C T G A G A C C G T G G C T C C T T A C A C C C T T G G G C G C A C A G G A C A A G C G C C G A A C G G G C T G C C G A T T A G G G C C A C A A T G T A A A T G A G T C A A A T T A C A G C G A G C T C A G G G T A G T A A T G C A G A G T T T T A A A C G T C C T T A G T G A C T G A T G A C C T C T T G A A T C T A T A\n",
            "1 1 A G G A C G G A A G G C T C T T C T T G C T G A A T G G A G C T G G T A G A T A A G A T G G G G G T G T A T C T A T A C T G A T C T T C A G A G G G G T G A T T T T C A G C C C A T T A G T G C G A C C T A T G C T A C T A G G A A T T A G T A A T A A C T T G G G T G G T T G C G C A A T C A C A T A G C A A G G C C C C A C T C C A T T A A A G T G A G A T A A G G G C A A A T T T G G A T A A A A T T C A\n",
            "1 1 C A G T A A G T A G G C G A G T A A T C A A T C C G C A A G A C C G A A A C T G C C T C T G A G C G C C G A T G C T T T A C T T T T C T T A G A C G A A C G A A A G G T G T G C T C A T T T G A A T C G A G C A G C C T G G T T A T T T A C C T A G A T T A A A T T G A T G A C A C C A G A C C C G T A A C G G T G A A T A G A T T A G G A T C G C A G T A A G A A A A G T A C C A T A C G T C G G G T C G G G\n",
            "1 1 T T A T A C A C G C C G T A C C C A A G G G G A T G G G C A C A C T C A C C T C C C A G A T A A G G A C G T T T T A A G A A A A C T G A T A T T A A G T T T C A G A A T A A C C G C T A A C G T A T C G C G C T C T G T A C G G A A A A G T G C A A A A A A A T G T T C A T C A T G C T G T T T G C C G T G C C C A C T A T C G C G G A G A T A A G G C T T T C T T G C G A T T A T A A G C G C C G A T C T C G\n",
            "3 3 C C C C A T A A G T A T C T T A A A T C A A T A A T C C A C A C A G A C G C A G T G T A G A C G G A A A A T A G A C C A A A G T A C A G A C C C G G T C C A G A T G T T C G C C A G A A G A T G A G G A C T T G T A C C G A T A A G A G T T T C G C C G T T G G A T G C T C G C A A G G C T T T T C C A G A A T T G C C A A A T A T G C A C C T G T T C A T A G T T C A A A T A C T T C C G C A C A C A T C C G\n",
            "3 3 C C T T C C G A T G G A G C T T T G C T G C A G G T C G T T T T A A C G A A A T G T A A A A G G T G A T A A G G T T T C T A T A G G G C A C C C T A G A T A A G G C G A C T A C A C T T T T T C G A G G T C G A G T G C T C G A C C G T C A A A T A C C C T A G C G A A T A T T A C T T C C A C T C G G A A T A A T A T G A A T C A T T T G C A C G A A C A G A T G G C C A G A C C G A A C A G A T G G A T G T\n",
            "0 0 A T G G A G T C T G T C A A C C A A A G G A T A C G C G T G T A C A A C T C A T A G A T C T G A T T C C T A C C A T C G T A A T T A T A C C G C C T T T G T T G T G T T G A G G G A A A A G A T T A C C G T T G G A G A A A G G A T C C T A T C T T G T A A G G T T G G G G A A G C A G A G G T C T G C A T T G G C T T C T A T G A A T G G T A G A A C T A G A A C G C A T A T C T G A A T G A G G T A A G A G\n",
            "3 3 C C A C A T A A A C A T T T G A A T G T T A T A T T A T A T C C T A T A G T A T C T T G A C C A C T A A A T T G T A C C T G A T A A G G G G G A C C G A T C G C A A C C C T A C A T T G A G T C T C A T C A G A T G T T T G G A T C A A A G T A T C G T G A T A T T A T A C A A C T A A A G G A G T G G T G G G A T G G C C G C T G A A G G C G G G G T T G A G A T T A G A C T A G G C C T T C A T C T A A C T\n",
            "0 0 A A G T A A C T T T A A G A G G G G G G C C G T A T G A G A T A C T A A A T G T A C G G G G C A C A G G G C A T T A C A A A T T A A G C A C A T A C A A T T A A T T T T T T T G A C G G C T G G A A A T T A A G T A A T C C T G A A G G T G C C T C C T A A G C C C C C T G C T G T G G A G G T G G C T T G T G C C C G C A T T A G G C G A A G T T T G A A C C A C C C G T A T C T C G C A G C A G A T C T T G\n",
            "1 1 A A G C T T C C G G A G T A T C T C A C G G G A C A G A T A A C G C T C C A A G A C C G T G A G C A G A C G A C A A A C G C A T G G A G T C T A G T G A A C T C A C C T G G T C A C A T T T A G G A A G A T A A G G T G C T G G T G T G C A G T A T T G A G G T G A T A A G G T C G T A C G T A G C G A C T G G T T T T G G C G A A G C G A A G G T A A C A A C G G A C C T A T T T T C T G A T A G A A A C G A\n",
            "2 2 A T G C T C T A T C A A G G T A A T T G T G T G T C G C A T T G C C G A G T T T T T C C C C C C C C C A C C A G A T G T T C C T G G C G A G A G A C G C C T A G T G C C A C T A C C G A G T T T T A G C T T C T C A G C A T A G T A T G G T C T C A A C A G A T G T C T G T G C A T G A G T T G T C T T T G G C G C T T C A A T C C G G T A A G T C G A C C C G A G A C A G A T G G T T A T C G A G A C A A T G\n",
            "2 2 G T G T C T G T C T T A C G A A T A T C A C C A T G A A G A C T C T T T A G T G A A A T T T T C T T C A C T C C C T G T C A A G G A T C A C A C C A A T T G C T A G T G T C G C C A A C A G A T G G C T T T C T G G A C A G A T G G T G T G C C C G G C G T A C C A G A T G T T C A A T A A C T A C A A G A C C T G G A C T T T T G A T C T A C C A G T T G T T T G A C T T T C C C G G A C A T C T T A C C T C\n",
            "2 3 C T A G G A G G A C A G G A G T T C T T T C G A A G G C A A T A G T A G A T T T T C A A C A G A T G G C T T C G A G C C T G C A G T A T G T T A C G T C T A T A C G G A C C T G G A C C G T T G C T G T A T G G A T A A G T C C G C C A T T G C T C T C C C A C T G T C T A A C G A A G A G T C T A T T A A G T G G A C T C A G A T G G T C T G A A G G A A A A T G T G G G A G A A C C C G T A G T T C G T C T\n",
            "2 2 C G G G G C T G A T A C C T T T T G G T A G T A G A G C A T T C A T C A G A T G A T C C A A C C G C T G C G C C G G T A A G A G C A A T C G C A C T T T G C A G C G T C C T C T T A T G C G A G C T T T C C T C T G T A T C A A G A C G G A C A T G A A C A G A T G G T C G G C T A G G T A A G T A A C A T A C C A T C C G T C C A G T G T A G A G G G C C G G A C G A T T G T T G C C T T A G A T C G G T C T\n",
            "2 2 G C A T G A G C C T T C C A C T A A C T C T A A A T G C T G C G G T A G A G G G A T C A G A T G T C T G C A T A C T T T A G G T T G A A A A C A C A T T A T T T G C G G A C G C T A T A C C A C A G A T G G T G G T A G C A A G G T C T A C T G G A G T C G G G G C G T A A A C A G A T G G T C G G G A C A G A C A G T T G A A G A A C C G C T T C A A G A T A T G T C C T T T G T T A T T T G T A C C A A A T\n",
            "0 0 T G C T A T A G A G A A A A A G C T T T A C A T A A A C A T G T C G C A A C A C A C T A T T T T A G A G G T G T A G C G C G C A C A T G T T A G T G A C C T G A T A T A C G C C G C C T T T A G C G T A T G C C G T G T A T G A G C G T T T G G G G A T C G G C T T T A G G C G G A T A G C C A G G G G A C C C G G G C A G T A G C T T T G T T C C C T T G A A C T C A G T T A G A C T G A C T C T T A G T G C\n",
            "1 1 A T A A A G A A G T T C T T A G G T T G G G A A T T A G G G C G A T A A G G C C A C A C C G A C A G G A A G T A T C G A A A C G G G C C T G C T C A G T T G C T G T A T T G T C G T A C C C C A C G A A T C T G G T T A A A A T T C T C A T A A A C G A T C G G A T T A T A A T C T T T A A G A T A T T C A A C G C A A T A C C G G T T A T G A T G A T A A G G G T T T G C G G T C C C G G C T A T A C A G C C\n",
            "1 1 A T C A C T G C T A C A C A A C C C A T T T A T C G A G A C T T A G T A A T A T G C G G C A G C T A T T A T C C G T A T A A T T A C A A T G C C T C T C C T T C T G T G T T G T A A G A T A A G C C G A A C T T C T T A T C G A A A G A T T A G G C A T A G A A C T T A T T T A T C G C T A C C C T C C A T C A G A G A C C T A T T G C A T G G G T T G T T A T A C A A G A T G C C T G T A A A G T G A C G A G\n",
            "2 2 T A C T G C T T T C T A A A G A A G C T T A C C A G A T G T T T C C C T C A C C A G A T G G T G T A C G A C C C T C A C A G A A T G T G A T T T T A G T T C T C C A C C G C G A T T G C C A G T T C T T T G C C C A T T G C C T A A A C A G A T G G T C T G C G C C C C G T T T A T A C T T G C G G C A A A C T T C G C G G T G T T G T A C A T G A T A T T C T T A A T A G A A C C C C T C G C T T G C G G T A\n",
            "2 2 C G A A A C G C T A A A G A A A C G T A A A G C G C G A A C C T A C C G A T T C T C C A T T A A C T T T C T G G A T G G A C T C T C G G G T G A T C C G A G C C G A T C A G A T C A A T A C T C C T G T C G G A T C A G G G G A A A G C C A G A T G G C T A G A T C A C T G T A T G T T A C G A G C C T T A C C T G G C A A G T G T C A A G C A C T A G C G C G A G G T C T T T A T A G G T A C T C G C A G C C\n",
            "2 2 A G A C C T T T C T T T A A T G T T C C A G A C C A T C C A T C T G T A C G C A G T C A G A T G T T C G G G G G C A G G A T T T A A C T C G T T A G G C T G A C G T C A A A T T A C A C G A A G G T G G G C C T A A A T C C A C T T A C A G A C C A G A T G G T C A G G G A C T C T C G A C A A A C C T C G C A T T G C C A A G G A T T A T G C T A T G A A A C C C A C G G G T A T T A T G C G A A T T A G A T\n",
            "2 0 G G C C A C T C C A T G G G A C C T T A C A T A G T T T A G A G G T T T G G T T G G T G G T G T A T T C G A C A T T C A A A T T C G A T A T G A G C A G T T G G T C G T C C A G T G T A A C C G A G A C G G G A T T G G G C A G T T A A T G A C A G T T T A T C A T A T A T T A T G A T G A T G T A A C T G A C C T T C G T C T G A G T C T G A T G C T C A G A T C C T A A A C T A C G A G C C C T C A C G G A\n",
            "0 0 T A C T T G C C A G C A T A T T A C C G G G A T C T A T G C A T A T C C A T T T G C T C T T A G C T A C A G C A T G T A G T A C T A G T T C T G T C C C A T T C T T A C T A G T C G G A T T T A A T C A A A C C A T A G T T A G G G C C T G C T A G C C A C T T A A T T G C C T A T G T A A G T A A T C C G T T C A G A T T C C G C C A C A A T A G A G A T C C T C G C A C A A G G A G C T G C C T A C T T G G\n",
            "1 1 T A C C C C T G A G C A G A T A A G G A T T C A T C G C A T G C G A A T C G C A G G G A A C T C T C T C A T A G A G G T T G C A T G A G C A T C A T T T A T A A C A T G A G A A G C T G A T C A G C A C T T A T A T G T G G A C G A C T T A G A A T C A T C C A T T A A G G T T C T C A A A T A G A C A T G C C A G A A A G A G T A T G C A C G C T C G C G A A T T A G C G G A A A A A A G A G T G A T A A C A\n",
            "3 1 G G A C T T A A A G A T A A G A G T A A G G G G C A A C C G C G G A A T T G C G C C T A A G A T G T G T C A T A A C A A G T C A A T A G C A G A T A A G C A G A G T T T A G T A C T G C C A A C C A A T T A G G C C G G G A G T A C A G G T G T T C G C C A A G G C C T A T T T A C A A C T G T G G G G A A G C G T T A A G A C A C A C A C A T G C C T C T A G T A A A T T A C G T G C G A A C T T T A G C T G\n",
            "3 3 T A T T C T A C T G A T A A G G C T G C T T A T C G G C A T T G T T A T C T C A A C A G A T G G C A G T C A T T T T T A G A G A G T T G A T A A A C A G A T A A G G A C C G C C A C C A G A T G G T T G G A G C T T A C G G T C A G C G C A G C T C A G T T G G G G A A A T G A G C C A A C A T G T G A G C T C C A A G A G C A G A T A A G C T T G G T A G T A G C G G T T G T C T T T T T C C T A T C C G G A\n",
            "2 2 T G G A A G C G G A C T G G T T G T A T A A A C T C T T G C T T T G A C G A C T T T A C A G C C G T A T A C T G G C A T G T G C A C A T G G T G A T A A A T G T T G G T T G G A A A G G G T T C T G T G T G C T T A C T C G G T G T T A C C C A A G G G C A C A G A T G C T C G G C A A G T G A G C A T T C A C G A A C T G G G G G T G C T G G A T G G C C T A G C A T C T C T T C T G C A C G G A A A C T C C\n",
            "2 0 G G T T A A C T A T G C T A A C G G A C G T G T T T C A C T C G C T T A T C A C C A C G C G G A T T T G T G T T G A G A A T A A A T G G G A T G A A T T G T C T T G C A G A T G T T C G A A C A A T C G T T T T G A T A T C C T G T A T A G A T A C A T G G A A T T C G G T A G T C T T G G T T A G G G A C A C C T C A T T C A T T A C G A C T C C T C G C A T A C C A T T G C C G T C A C G A T T C T A C C A\n",
            "2 2 C G C G G G C C A C C A G A T G G T A A C C T A T T T A T T A T C G C A C A G G T G G T G A G G A T C A G G A T C C A A C C A C C T C T T G G A G G C A A T G C G G A T G C G C G C A G A T G G T A A G G A A A A G T G T C G T G A A T C C G A C A C A G T C G T G C A T T G G G C T C T G A A C C A C C G T T T T T A A T G G G C A C T T A G A A C C A A A C A C T A C T G T A T G A T A G A A G A T A A T C\n",
            "0 0 C A C T G G A G A A A T A T A C G A T G A T C T G T C G A C C T C G T C T G T T A G T C C G G T G G G T G T T A T G C T T G C G A G T T C G T C G C A G G G T G C T G T A C G A G C C A A C C C A T A T T A T T A T A T G T A C G C A A C A T T C C A T T T C C A T T A G C C G T T C T A A C C T A C T T A A A C G A T A T A T C C G G A G T G T C A C G G G C A A C G C T T A A A T C C G A T T C A A T T G A\n",
            "1 1 T T A C T T A T G T T C T A C T A A C T C A A G G A G A G T C T C T T C A T T G G G A C A T A T G A G T A A C T C T A T T G C C C T C T G A T A A G A C A G A G G T G C T G A T C A T T A G A C T T G A C C C A G C T G C T T G T A T T G C G A G T A T G T T C T A T G G A T C A G T T G A A A C T C T G T C A G A T A C G A T C C T T T C A C C G C G T T C G T T A T T C A G C C A C A T G T G G C C T A T C\n",
            "1 1 C A T C G A C T C C T C C G C C T G A T A A G C T G A G A A G C T A G G G G A T A C C C A G C A A G T A G C A T T G A C T G G G C C A G A G C C A C G T T G T C A G A C C G A T A A G G T G T T A C A A G C A T C T C G A A A A A T G G T C A C T T G T C G T C G C G A A A C G C G T A T G T C T G T T C G G C G A T G G C C C G A G C G G G A A G G G C T C T C A G T G T C A G C G T A A C G C C G T C T G C\n",
            "2 2 A G A T C A G T T G A C A A C A G A T G G T C A A C T A G G T T G G G A A C A G A T G T T G G G T A G C T C C A G G G G T T A T A C A A A A A A C A G A T G G C C C T T T T G T T A T G G C T T T G G T T C A T C A G T C A G C G T A G A T A C C T T A G T G T A T T G C A C T G C T A A C T C T A T G A G A A G C A T C C G T T A T G A C T G G C G T C G G T C C T C A G A C C C A C G T C A T C T T A G T T\n",
            "0 0 T C G T G T C G A T A T C C G C A C A T T A C G A G G T A T A C A G C C G C C T A T C C T T C A C T C T A A C T T G T G C G A A A G A A G G T C G C T G A T T T C A T C T G C G T A G T A T C A C C G C C C G A A T A G G C C T T C C T T T T T G T A G C A C A A C C T A A T T A G A C A T C G G T A T G C C G G T G A G A C C T G A A G C G G C A A T G G A G G A C T A A A G A G G A C A C T G C A A T G T A\n",
            "2 2 C T G G G G A G G G A C T C G T T C A G A C C G C A T C G C A A C C A C T A A A G A G A A T G T C C A T G A A T G G A C T A A A C G G G G A C G T C C C G G G G C C T A A T T G A T C C T A T A A G A C T T A T T A C A G C C A G G T T G A T A G A A C A G G T G G T A A T T T T T T A G A G T G A C C A G A T G G T C C G C G G C T C G T A T A C A T A A C C G G A T C A T A A A A T C C C G A A G C G T G G\n",
            "1 1 A C C A T C T G A G T C C T A T G T T T A G A T T G G T C G G A T T A G A T A G G G A T G A T A A G G G C T C G A G G C G C G A C T A C G A A C G A A G T G G C T T G G T T C T T C T C A G A T A A G G A A A C T A C C G G C C G T A G C T A G A T G G G A C C A T G T C T A A A A G C T A G A G T A G A A G A T G C T A A A G T T G C T G A G A A C T G T G G T G A C T G G G A A A A A T G T A T C A A T G T\n",
            "1 0 C T C C C G G G A A T A C T T C C T G G G T C T A C C C T A G A T C A A T T G G T C T A G T T G C G T A G C G C C T G G T T A C T A A A G C T T A G T T C A A T A A G G C C A A A C T G C C G G G A A T A C A C C C T C C A T T A T T C T G C A T C C T T T C G C A A C A C A C C T G A A G T C G T T G G C A T A A C T T A A C C G G A C C G A G T T A G G T A T A T T T C C A A G G T A C G C A G A T A A G A\n",
            "0 0 C C A C T T T G T G G C T T G T T C A C G A C T T C T C C G A G A C A G A A T A A T C T G C C C T A C A C T G G T C C A C G C C T A T G C G G C A T T A G A T A A T C G T T A C T T G G A T T A T T T T G C A C A T T C A C A A T C C G A T C A A A A A A T T T G T G T T G A T G A C A G A G A C G C A G C G T G A T A T C G T C C C T T C G T A A C T G T A G T G T A C T G C T G A G C G C C A T A T G T G C\n",
            "1 1 C A A C A G T A G T C G C T G A T A A G G C G G C T A T T G A G G G T T G G A A G T G C T T C A C A G G A G G G A C G G T C T C G C G T A G A T A A G G T A T G A C A C G A G C A T A G C A C G C G T T T T A C T A T T C A C T T T T T T G A G G T A A C T C A T C C A T T T G A C C A G G C G A G A T A A G C A T G T C T T T A G A C G T G C A G A C T T A A A T A A A G T G C G C G T T G C G T A C A G C A\n",
            "0 0 C A A G C T C C G T C C A C T C C T T C T G A C C T A T G A T A A T G C G C T T A A A G A T G C T C A T A A C A T G A A T G C C A T G A G C C G A G T C A A A G T A C G G A G A G T C A T G T C G T G G T G T C C A G T C A T G C A G A C G T G G A C C C C T C G G G A C C A T A A G G T C A C G C G G C C T A C C A G T G G C T T G A G A G A A A G A C T A A C G G A C G T C T T T C G T A T A G G A A T A T\n",
            "2 2 G T T T G C G T A A T G G G C C T T T T T G G A T T T T G G G G T T G A T C G T G T T C T A A A C A G A T G G T T G C T C C G T C A G T A G G G T A T A T T C G T T T C A T C T A G T A T C C A T T C C T T C A T A A T A C G C T G C G C T G T G G G C A A C C A G C G G G T C A G A T T T A C T G T G A C T T G T C G A T G C C C A T G T C T T G A A A T T G C C G G G T T A T T T T T T T G G C G A C G G T\n",
            "1 1 T A G T T A G A G A T A A G A A G C G A G A T A A G G T T A T T A C G G A G A T A A G G C C G A A C T T T A G T G A G T C T A T C T G T C T G A T A T C A A A G G G T T A C T T G A A G T C A G A C C G T G C G C A C A T A T G T C A C G A G T C A C T C C C T C A C C G T G A A G T C C C T G T C T G C A T C C A T T T G G A C T T T A T G C G G G T A G A A T C G A C A C G A G A C T C A A C A A A G C G T\n",
            "3 3 A G A C A G T T C C T T A G T C T T C A A A A A G A C A T G G T T T G T T A T T C T A A C C A C C A G G T G T C T T C A C A G A A T A G C G A G A C C A C C T C C T G C C G G C T C T A T A T T A A G A A G A T G C T A C T T A C T G C C C A G A T G G T T T G G G A C C C T G G A G T C G T G A G T G A T T A C G C C G T G G T T A C A C G G T G C G A T A A G G C G C T G A G A C A A A G C C C A G C C T A\n",
            "3 3 A A T C T G A T T C T T A C T G G A A G A T T A C G A C A G T T A A G T G T T C C G T A A G A G G A G C C A A A G C G T A C C G A G A T A A G G C C T T T A A C G C A T T A A G C C C A G A C C T T A G A T A G C C G G A C G A A C A G A T G G C A T C A C G T G G A G A T G G C T G A C C A G A T G G T G A G C T C C G A G A G C C G C C G A T A A G A C T C C T G T A A C G T A G A A C C T C G C A C A G A\n",
            "2 2 T G G A G T T G G A A T G T C C A G A A A G G A C A A G A A A T T T T G A G T G C T C C C C A C A C T T A C G G A C A G A T G G C C C T C G A T G C G A G T C C C G A T G T A A A A T T G G C G C G T C G G G G T T T A A T T A T T G T C G C C A A A C C G G T C C G G A G T G G A A G T T G A C T T T G T G T C C C G G C T C A T T A T T G T A G T A T G T C G G T G G G A T A G G A A G G C T T C A A G C A\n",
            "2 2 G A T A A T C A T A C G A G G T C T G C G T T A C T A G G G C T T A C T G C T A C G G G T T A C T G A A T G A T T A A C T A A A T C T A C A A C A C A A C A C G G A G G G G C T A G A A T A C C C T C G T A A G G A G A C A G A T G T T T A G A G T A C C A G A T G T C C C C C G G C G G C C A G C T A A T C G T C A T G A C T T A G G T T T C G G G G T T A A T C C G A G C T T C A T G T A A G G G C T G G T\n",
            "3 3 C T A T A A T G G C T G C A G G T T T T A T A A A A G C T T A C A A T T T A C C T G G A T C C C A C C A T G C G A A G C G A T G G A A C G T C T G T T C A G A T T A C A T T G T G C G G T G A C C T A A A C G A G T G C T C C A A A T C T A T G G G C A G A T A A G A G A A C A T G C C T C G A A T T C T C A A T A C G T G T A G T A T T A C G G A A A A T G T T C G T C C C A G A T G G C G A T T A C C A C C\n",
            "2 2 A C C A C C G A A T A A G C C A G T G A C G G G A T A G T A A G G A A C A G A T G G T C T A C T A T T T A A T G T G G T C C G A T T C G G C A G G G C T A G G T C T G G T T T C C C G G T T C C A T G C C C A G C T G A T T C G A C T T C C A G T T T A C G G T T C T A A A T C A G G G T G G C C C T T T A A C T C G C T G G A T A C G A A C T G A C G C G A T C T T A A G G G G T C A A C T T A T C G T A A A\n",
            "2 2 A A T T C T G C T T A T T A T T G A G A T A A C C C A C G T A C C G A A T G T T G A C G T G C A C A A C T G A G C A A A C T T C T G A A C G C G G G G T A T A T T C A G A C A G G G C C A T C A G A T G G T T T G G T A C G T G T G G A C G T T A A C C A T T C T C T G G T T T G T C G C C C G A A C A G A T G C T G G G G A A A T G C T C A T T T A A T A T G G G A T T C A T G A A G T C A G G G G T T T A A\n",
            "3 3 A T T T T C G A C C G A T A A G A G C G A G T T A A C T C T C G T A C G G A C G C T G A A C G T T G A G A T C C G A T T G G T A A A T C T A C A G A T G G T C G A C T G T G G T C G C T T G C C G A C A C T C C A C G C C A C C A C G A C G C T T T A A G C A T C A C C T C T C G T A G G T C A G G T C C T G C G A C G C G G T C C T C C G G C G G G G C C T G G G A C T A T C C T G C T T G C C T C A A G G T\n",
            "1 1 A A G T G T T T T A A A C T A T T C G C A C C C A A T G G A G C C C C C G T G T T G T C T C T T T G G A A A T A T T T T G A A A C C G A C A C A T C A C C C C T T G T T C G G A A T T C C C T T T G G A G C C G A T A T G T A G G T T T T T A T T A C C T A C A A T T C T T G A C C G C C A A T G C G C T G T A C T A T G G A G A T A A G G C T T G G A G C C G G A A A C T A A C A C C C T T C A C A C A C T A\n",
            "2 2 G T C G T T T T C A A A T T A G G A G T G A C A G A T G G T A C G C T C A A T T C A A G G C C C A C C G T C C G C G C T A G A C A T A G T A T G T C G T T T A A T T G C T C T T G C T C G A G T A T T C T G T C A G G C A T T A G A T A C A A A G A G A C G G G C C A G A T G G T T A G T T C T C C A C A C C A T A T T T C T T T C G T A C C T G A T C G G A C T C G G C C A G A T G G T C T T C A C T C G C G\n",
            "0 0 A C G C T T T T T G G A A T A G G C T G G A T C A G C A A G T G T T C T G G A T C C T A T C C C A G T G T T C G T T C C C T A T T G T G A T T G C T A C C C G T T T G A G A A G A C G G T C G A C T T T A A A C A G A A C C C G A G A G T G C G T G C T C A A T G A C G T G C G C A T G A T G A A G A G C C G T A G A C A T C C T T C C C C T A A A T G A T A C G G G T T A C G G G A G G G G A T G T T T A A T\n",
            "3 3 C C A A T T C C G A A C A G A T G T T C G G C T T G A G C G A C G C G A C A G A T G T T A C T A C A G A T T G G T G G T C T G G C G C G T A C G T T T T C A T T G A G T T G C A C G A C T G A G G G C G T G C A G A T A A G G G T A C G C T T T A T T T C T G A T G T A C A T G A A G G A T A T T C A G A T A A G C C T A G A A G C G T A G T G A T A A G A G A G G T A A A C C C G A A A T G A A T T T G A C G\n",
            "2 2 C G G A G A T A G A C T C A G G C A G A T G G T A T G A A G T A A G A G A A C T A C A G A G C A A T A A A T T A C A C C C G C A T A A C T A C T A T G T C C T G G G C A G A A C A G C A G T G T A C G A C T A C G C A T C A T C A G A T G C T G G G C T T G G C A T C T A A C T C T C G G T G G T T C T C T A G C G G A A T C C G G T T T G A G C A C G A T T G T G T A T A T A C T A C T G T A T A G T T C T A\n",
            "2 2 A G G T G T C A A A C A A C T C G A G A A C A G T A T T G C C A C C T A C C A G A T G G T C T A A G T T A T T T G G A C C T A G A C G C A G T A C T T T G G T A A C T G A T G G T G T C C A G A T G G T T G G A C T G G C C A G G A A A T G A T A T T A C C C T A T A C G T C T G T G G A G C G C C T T A A T A C A T A G A A T C C T A A C T G C A C A A C A G C G G T G C T C C A T G C T C C C G C C T T C A\n",
            "0 0 T A C C G G C G A C T T T G T G T T C G T A A C T A T C A G C T C C C G A C C A A C G T C T C T A G C C A A A C T T C A G A A T T C G C G C T C T G C T T C C G G C A C C G A A G T G G G T C A C T T A C T G T G T T G A G T A C C T G C G A T T T A T T T A A A T G A C A G C T C A A T G A C C T T G G C C G G C G A A C A G A T T T G C C T A T C G T T G T A T G T C T A T T G C T T T T A C G T T G T C T\n",
            "3 3 C A T C G T T T G C A G A T A A G C T T C C G C G C T A G G T A A T C T T T A C G T A A C A C T C G A T G C T A T G A A C T C G T A C C G T G C A G A C C T G T C C C C G G A G G G C A G C A T T A C A A C G A T A A C A G A T G T C C G G C T G C C A G T A G G G A T G T T C C T C T C A C G G C G G G C C C G T A A G C G A T G A T A G G C G T T A T C A G G T A T C G G G A G A C T A A C C T T T G G G A\n",
            "1 1 C A T C C G A A A C T T C T A A T T A G G G A G T C G A C C T T A T T C T A C C C G A G T G G G G C A G T A C G C T G T T C T C C A C A T T T G C A C G G C G A A T T A G G G A G A T A A G A G G T G A T T A T G G T A A G A C A C C C T C A G T C C C T A C T A C C A A A C G C T G G T A C T T T T G G A C A A G G T A A C T T G A T T A G C G C G C T G T C A C A A T A C C C T T G T G A C G C T C T G C A\n",
            "3 3 G C G G A C T C T C T C T A G C T C T T A G T C G T A T T G G T C A T T T G T G C T T G A C A G A T G G T T C C C C G A A G G C G A G A T G G T G A C C G G A T C C G T A A G T G G C C G C G A C T A C C A A A T A T C G C G A G C G C C C G T A A C A C G G A G A G T T A A T T G A A T G A T A A G G T G T T C T T T T C G A G T A C T G T A C C T A A A C T A T A C C G C A T C C G G C A A A C T C G A T A\n",
            "2 2 G T T C C A G A C G C G G A G G C T T C A A T C A C C T A A C G T G A C G C A A T G G C T G G T A T A T T C T C A A C A G A T G G T C A T T A G T C G T T C G A A A A A G G T C G A A C A A G C G G G C G G A G T T A G C C A A G A T C A G A C G A G G A A T A T T C A G A A A T C A G T C C T T C A T C T T A G C A A C T G G G C A C A T G T T T A G G T C G A A G T C C A C G A G T G A A A C T G A C C G G\n",
            "1 1 A C A C T C A G A A T T C G C G A C A G C G C A G A T A A G G C T C T T C A G C G T A T T T A G G T G A T A A G C A T A G G C C G C T T T C A G G A A C T A T A C T A C A T C A G G T C T C A G A G G A T A A A A C G C C C A C G G G C A G A T A A G C A C G C G A C T C T A T C C T G C T T A G T T A C A C A T T A G C G C T G G A G G G C T C C A T C C A A T C G A A G T T T A A A C T C C C G C C G A A T\n",
            "2 2 T G T G C C A A G T G T G C A T C A G T C G G C G T A A T C G G T G G T C A G C T T C G A T A C A A T C T A A C T A A C A G A T G T T A G T A G C A A A A C C C G A A C A C G G A A A T T C G G T C T C T A C A T G A C T C A C T T T C C C A A A A A C G G C C T G G T T T T T A A A G A G A T A T A A A A A T C C T G T A T T C C T A C A A A G T G G A C A A T G G T T G A A C G T A A T T A A A G G T G A T\n",
            "1 1 A T A G A G G A C T G G G T G A T A A G G T G G G A G T C T A C A A A T C T G A C T A A A C C A A C G T A T G A A A G T A A G A G C T T A G G T T G G A C G C C A G C C C A T A C C C G C A A C C G A A G G T C A T G A G T T C G T C A G A C T G C C T T A C T T A A T C A C G A C A G A T A A G A A T T C C T C T C A G G T A G G A G A C C C C T A C G C C A C G T C C C G T T G G A A G A G T T C C C T C G\n",
            "3 3 C A T G A A G T C T A G C G A G C G G T G T G C T T C G T G G C A A A C T G G C G T A C A G A G T A A G T T T G T A G T T A C T A C C T C G T C A A A T C G C T A G G T G A T A A G G T C C T A C A G A T G G T C C A C A G T T G G G G G T C A C T C C A T C G A A A A C C A C C C G T T G A T G T T G G T G A G T T G C A G A G A C C A G A T G G C C G G G G T A G A T G T C C T A T A T T T C C T G T C A C\n",
            "2 2 T T G C C C A G A G T A G C G T G G C G C C C G C T A G T C C T C A A T T T C C G T C C C A T T G C G G A T T G A C C T C G T C T G T A C A G A T G G T C T G G C A T C C T G T T G A A G C T T C A A C T G A A T C T C G G T C A A A T G A T C A G A G A C G A A C T T A A G T C T T C G A T C A G G T G G T C C A A C C G T G A C T A T T G A A T A G T A C A G A T G G C G T G G T C T G T G T G G T T C A C\n",
            "0 0 A C G A G G G C G A G G C A A A G G G A T C A G C C G T A G T C A G C T C G T G C A G T T T T A T C A T G T G T C A A A A A A A G G T G G T G T G A C C T G C T C A G A A G G C C G T T T T T T T C C A G A A T G T G A G A A G G T A G A A A T G T T G A A G T C C G T C C T A A T A C C T G G T C A C T A C C A C A C T T A C G G T C G A T T G C C A T C C G G T C A A G G A G G A T T G A T T C A T A C G C\n",
            "1 1 A A C A C G T G T G G A A T A A T A A A A A C G A C A G G A T T C T C A G C T C C C C T G A T A A G A G G A G A A T A T T T G G C T T G C C A G T C T T G T T A G G A T C A A T G C A A G G A G A T A A G G G T G C C G T G A T A T C A G A C T T T G A A C T A C A G A A A T T C C A A C T G A T A A G G G T C G A T G C T A G T T A T C G G G C A T G T T T A T T G C T C A G A G A T A G T A C A A G G C C C\n",
            "0 0 T T G T G A C T C A T T A G A A T A C T G T C T A C A A G T T C A A C C C T A C G T C A C C T C A A A C A T A T T T G T A C C C C C C T G G A A G C C G G C T G A A A A A T A G A A C G G C C A A A C G C C A G T C T G T A A T C T T G A T C A C C T C A A C A G C A C T G G C T C T A C T C A A T T T A C A T T G A C T A G G A A C T C G A T G C G A G A A G A C C G G C A C T C C G T C C A G A T C G C A C\n",
            "0 0 C G G T A A C G C T C G A A A G A G A T G T A G A C C T T T T C G G A C G T C T A A A G A C T G T T T C A G A G T T C T G A T G G G T A A T T A C T G C T A A G G G T G T T G C G G C C G A G A C C C C G G T G A T G A C T C A A C C T T G A T T C A T C T G A G G T C T G G A A T C T T A T G G A C T A C G A A C C T C T C C C T C G G G T T C T G A A T G A T T T A G C A C G C A A T C A G T T C T C A C T\n",
            "2 2 T G C G T T T T G G C T C C T G T A C T A T C A C G A A A G A G A G A T A T G G G A A A A T A A G A G G G C A T G A A G G C G A A T A A T G T G G G C C G A T G T T G C G A A C A T T T T A G T G G G A T A C C T C A C G T T T A A G T T G C C A G A C A C C C C A C G A C T C A G A T G C G A G A A C A G A T G G C C G G T A T G A T C T G G A G C G A C C A A A G C C C A T T C A G T T G A A A A T A T T T\n",
            "2 2 T C A A G A T C T T A A T A T A C A G G G C G G G G A A A A A T A C T G C C C A G T G T G T G G G G C G G T A C T C T A A C T T A A C C T T T A A G A T T A T C C G C A A C T T G C A T T A C A A G C A A T T A A T T T C G G G A T A A T C T G T T C T T C G T C G C A G T C C C T A A A C C T T A C C A G A T G G A A T T A T C A A T C G G G T A T C C C G A T A C C C A C T A A A A A T A G A G G G A C G T\n",
            "0 0 C C G C G A A T G T C C T C T G C A G A C T A T A G G T G T C T C G C A C A A C C C G C A G A A G C T A G T C T G C C A A T T G T A T A G C C C A C A T A G T T A G A C A G A G C T C A G T T G T G T C C C T G G G A T C G C G G T T G C A C A T T G C A A A A A C G T G G T T G T T G G C C T G C A G C A G A T C C A C C T T C C A G T G A A G T C C A A C G C G C G T C C C G C A A G C C C T T T T C T G A\n",
            "2 2 T A T C T C C C T A T G C G T G A C T A G G T C A T C G G A C T T A A G T A T C G T A G T T T G G C A G G C T C T T A C G A A C C T T C T C G C A T C G C C A G A T G G T C C G T T C A G A T A A T C G T A G A T G G G A A A T G C G T A C C C C A C C C G A T T T T C A A C C T A A T G C T T A T T C A A C A A C A G A T G G C A G T C G A A C T G C G G T G A G C A A C A G A T G T T G A C G T G G T C G G\n",
            "3 3 C C A G G G G C G G T A G T G A A C G T T C G A T A A G G C A A C A T T T A C G G G T G T T A C C T C A T G C A A C C G C T A C G C C G A A G A C G C C T G A T T A G G A G G A A C A G A T G G T C A T G G A G G T A C G A A A C A G A T G T T A G C A G T G G T A G T T G C G A T A G T G A G A T C C C C A G A T G T C G A T T A G C G A G T T C A C G T T A G A T A G G C G C A G A G T T C G T A T T T A C\n",
            "2 2 T T A T G C T G C G A A A G C T A T A A A A C C T G T C A T G G G T T A G G C G C C C T G T G A A G G T A A T A A T C G A T T C G A A G C T T T T C A A G A T T G A A C A G A T G G T T C T C A C A A A A C A C T T T C T A C T G G G G G C G T T T T G C G C C T T G G T T C C T C A A T T A G A A C C C C C G G T T C G T A A C T G A T T T T G T A G T G A T G T A G T C G G G A A G T C T C A G G T G G T A\n",
            "3 3 A A A G G G C T G A C G T G A G T G C A A T A G C C A A G C A G G T C C A G C A G T T G T A T C T G A G C A G A T G G T C G A C C T A G C C C G T G G T T C C G T G T A T G C T C G G G C G G C G T T A C A G A G C A G C G G T C C A C C C G G G C G C A G A T T A G C G C T G T C G T T A A C T T A G A G C C A A G T G A G C G C A C G G T C G T G A T G T A A C G G A A G A A G A A G A T A A G A T C A T G\n",
            "3 3 A C C T T A T G G G T A G G A G A G T A A C C C T T C C T T T A C A T T A T T A C C T G T G A G C C G A G A T A A G G C T T A G A A G C C A C A G A T G T T C T G T T A T C A T A T T G G T C G A C A C C G A C C C T C A G A G A G T C G C A A G G T G C A A C G A C G C A G T A G C G G C T A T G T G C G G A T A C C G A G A G T G G G T C T G C A C A G C C A A T T G C A G A T T C G C T T A A G A A C A A\n",
            "1 1 A G A A G T T G G A A C T A G T G A T A A G G G C G G C G C A A T A T C A G G A T A T C A G T A T T T C T G T A C A C C A G T G C C G A T A A G A A T C T C C C T C T G G A T G G T C C T A T A C T T A A A G C C A C G T G A G A C A G C A T G T A T T A T T T T A C C A C T G C T C T T T A A T A A G A T C A A C C A T C T C C T G T A T T T G G C G T A T C G C G A T A G A T A A G C T G A A A A C G A G T\n",
            "0 0 C C C C G A A C A C T G C C G T C G A G T G T A T A T T T C A A G C G G C A C G G A C C C G G T A T T A A G C T A G G G A A T T C G G T A T A A A T C C A T A T C A A A T T C A C A C G T G C C G T C A C T A T T G C G G T C C G T G T A T G C T A G A G A A A A A T A T C A C C T C C T C G G C G T G T C T C C T A T C G C T A G T C C G G A C G T C C A C T C T A G A C C C G T C T C C T C G A A A T T G A\n",
            "0 1 A T A A G A C C G A G A T A A G A C C A C A A A G A A A T A G C G A T C T C T G T A G A G A G T A T G T A A T T G T G T T A C T A T C T T C T T G A T G G T G A A A C C T C T G A C T T A A A T A T G G A A G T A G C G C G A C T G A G T T T G T T A T G T G C G G C C C G G G A G T A T T C G T T T G A A A A T G C A A A A A C C T A G T A A G T C T C A A T A T T G T T C A A T T T C G G C A G T T T G G A\n",
            "2 2 G T T T T T G A G G C A A A A T A G A A C G T C A T A G G T T A G A T G T A C T A A C A A A T C T T C G C C T T C T C G C C C T C A A C A G A T G G T T A T A T G A G G T C A G A T T T A A C G C C G T C T T C T G T G C C A G A T G G T G G T T A C C T T G C G T G C T T G G G C A T G A G C A A A T A A C C A G A T G G T G G G T A A A A A T T A C C G A C A G G G C T T G C C A T T A T A T G A A T T A T\n",
            "1 1 C C T C A A C A G A T A A G G G G T G C A G A T A A C C C T T T T C C A T A T T T A A T C C G A A G C G T A T A C C G C C T A C A C A T A C T A G T C T T C T T C T T G A T A C T T T C T C A C C A A T T T A T C A C G C T T C A G C C A G T T G C A A T C G C T T A T T A A A A T T A C A G A C G C C A T T T T T A G C G A T T A G G C A G A T A A G G A T T G C T A G A C A T C A A G C G A A G A A C T C C\n",
            "1 1 C A A T A A A T A C A A T C T A T T G C C C A G T G C A A T C A A C A G A G G C A C G T T C T T T C C C C C G A A T A A G C G C G A G A T T A G G C C T C T A A G C A G A T A A G A T A A T G G T T C C C T T A A T C C A G C A A G C A C C G G A A A T A T A G C T G C G C A A T C G T G T A T A T G T C T T A T G G T A A C C T C T T G A T T T C T G C C T T C T G T G T C C G A A A A C G G A G T T C A A T\n",
            "1 1 A A T A G A T G C T G A T C C G T C C G G A A A A G T T T A A T T T T G G C T C C G A C A A G T T C T C T G C C A G T G T C C C C A G A T T A G G A C C A C A G T G A A T A G A A C A G G A C C A T G A A G A C T T G A T T A G C C A A A A G G C G A T A A G G A A T T C C G T C G T T G A T G G G G C G G A G G T T T G G A A T G A C A T G T G A C C A C G A A A G T C A G A G T A A G G G A C A T A G C T T\n",
            "2 2 T A T T A G T T A T C T G C T T T A C C G T C G A C A A A C A G A T G G T C T C A A T C T G G G A G T C A A A C C G A C A C A G A T G T T T A G T C A T C C C T T C A G T G A A T G T A T A T T T C T C C T C C T C C T T C A G A C C C T T G A G T A T A A A T A C A A G C G G A G G A T C G T C C C G T C G C T C C C G A T A G G A T G C A T C A A G G A C C C G C T T A A A G A T G A T T G G T A C T G T A\n",
            "3 3 C T C A G A T A A G G C G A A T C A C T G A C A G G A G G A A C G T T A C C T C C G T C A T A A T A G A T C T A T A C T A G A G A T T A G A A G A G C A C G T G G G C C G T G G G G A C C T A A C G A A T G G C A G A T C A A T A T T T A G G T G G T T G G A T C T C G G G G G G A C A G A T G T A T G G G A A T A C C A T T G A A G A C A G A T G T T C A T C A G A T G G C A A G A A G A T A A G G C C G T T\n",
            "2 2 A T T C T A T T G G C C G A A T C T C G C C G T T T A A C C A T G A A G T A C A G A T G G T A T A A T C T A G T G C T A A T C G A T A A T A G T A T A C T T A T T C T G G C C G C T G C C A G G T G T G A T C G C T G C G C G A A C T G G T C C C G A A A C C A G A T G G T C A C A G A T C C T A C A G C T C G G A G C T T A C G G A T A T G G A G G G C A T C T C T T C T T T T A C C G T A G T T G A C T C C\n",
            "3 3 C T A A G C C G T T T T C T A C T T G T A T G A C G A G T T T T C G T A C G C G T G C T A T T G T A T G T T A A C A A C A T G G A C A C G G A T A C C G A T A A G A G C T C C A C G A A T G C G A G T T T A A A C T T C A A C A C T A T T A T T C T C A G A C T A A C A G A T G G T C G T A A A A G C A T T A G T G A A T G T A A G T T G G A T G C G G C A G G A C A C C T C T A G T A A G C C T T T A G A C G\n",
            "0 0 C C T G G C C T T G C T T G A A G C T C T T G T C T T G A T G T T A G C C G T G C T T A A A C A C A G C G G T C A G A A T T T A A G G A G G G T C T T C A T G T C T A T A G G G T G T G C G C G T T C A G A T T G T A A C T T C C A C C C G C C C G A A T A T G C A T A C T G C T A T G G G T T G G A T G T T C A G A T T G A G G T G G A C T C C T C A A C C G T A T G C C T G T G T T T C G C T G A T T G G T\n",
            "3 3 A G G T A C A T A G G C T T C T C G A C T C G T T T T A A T A G C A T C G T A G C A A A T C A A T C A C C T T C T C G A G T T T A A A G A T A C A G A T G T C C G C T T A T G G T G G A G T T C T G T G G G A T A A C C A C A T A G C T C G A T A A G C A C G A T T T G G G G T G T A C C A A C A G A T G G T T G T C T A T C C T A G A A C T G G G T A G G C T T G G T A C G A G G T C T T C A C T T G A G T C\n",
            "2 2 A C C T G C C T T A A G G G T T T G A T T C C G C T C G T A A G T C G T T T T G T G C A C C A T C G T G G G A T T T A C G G C A A A G T A C G A A G T A A G T T A A C T C A T C C G T T G G C A A C G G T A A A G T T G T G T G T G C G A T G G A G G T A C G A A C G A A A A A T C A G A A C A G A T G T T G C G T A T C C A C G T A A A A C A T A T G T C G A A A G A G A C T G A T G T C T G T G T C T T A A\n",
            "3 2 T C G T C A G G T G A T T A C G A C T C T G A C G C T A C G A G C A A T C G T A C T T G G T T A G A C A A C G C T T T A T G T T T G A C C G T A G G T A G C T C A A G G C G G A T T A C C G C A C G A G A T G A T G T A T T G G A A C T A C C T G C A A T G G C C G A C A G A T G G T C T T T A A G G G T A C G A A G A G A T G T T T A A A T T T C C T C A A C T T G G C G T G A C T C A G G C C G G T A T T A\n",
            "3 3 G C A T C C T T G G A G T A A C G A T A G G C G C C G C A C C A G A T G G T C A C A T T C A C G A T T T A C A G A T A A G G G C A A A C C C G C A G A C A C C G T T G T T A A A C A T T G A A T G A C T G C T G C T C T T C G C A C G C C A C C C C G T G G T C C G G T C T T A A C T G C A G G C G A A A A C A C G G T A A A G A A T G C G C T A G T C G C G C A C T T G G A G C T C T A A T G G A A A G A G T\n",
            "2 2 T A C T T T C A T T A A C A A C G T G A G C C G A T T C G T A T C T A C T C C G C T C C A T C T C G C C A A G C T A G G C T G T A G C C G G G T T G C G G C G T G T G T G T T C C A T A A A G T G C T A C A T T C G T C G A A C A A T C T A A A T G A G T T A T A C T T C A A C C T G A C C A G A T G T T G G C C A T T A G T A A G T C T A C G C C A A C T G T A T G C C T T T C C G C C C C G T C A G C G A C\n",
            "2 2 T A C A C G T C G A A C A A A A G A T T T C C T C T G T C C A G A T G T T T G G A C A A A T A T T C G G T C T A T A A G T T G G C G T A C C G C C A A G G T A A A T G A T C G T T A A C A C A A T G A T T G G C G T T A T T C C C A T T A T G C C C T G C T A G C A C T T A G T C G G A A C A G A T G G T C T G T A A T C T C C T A A C G C T T C A T A G A A G C G C T C T G C T T T C C G C G T C A G G A A C\n",
            "0 0 G T G A G C T T T C C T C G T A G C G A C G C C C G A A T C C A A A C T G G T C T G G C A G G A A T C G A G C C T T G A A A A T G G G G A T C G T T T G T T C A T A T A A C G A T C T C G T T A G T G T G T G A G A A A A T G G A C G A C G G C G G C C T T G G C C T T C C A A T T A C A G C C A A C T T C A T A C C C A G C T G G C C G A G G T T T A A A C C C C C G A G G T C G A C T T T G T G T C G G G T\n",
            "2 2 A C G T A C A G G A T A C T A T G T C A C T A G A A A C G G T A T A T T T G A C A A T C G C G G A T A G A C G A G T T A G G G G C G A G T T G C A C C T G A C C G C T G A A A T C T C T G A C C C T C A C T C A T G C C C C C A A C C G G A G G A C T T T A A A T T C G G T C A A C A A A C T G C C A T C T A A C A C A T A G A T T T G G C C G A C A G A T G G C C G C C G G G A A C T A G A G T G A T C C G T\n",
            "1 3 G G A G A T A A G G T A T G T G C G G A A C G C A T G C T G C G A A T A A C G A G G A T T C T C A A G G C T T A T G C A T G A T G T G A T A A G C T A T G T C A T C A C A T A G A C C A G G T G G G G C G C T A G C A A A T T G G A A T G T A A A T A T T T C G G C C A G T G C T G C C C A T C T A A G A C G T C T C C A G T A A C T G A T G A G T C T G A T A A G G T T G T C T A T A T C G G A A G T C G G G\n",
            "0 0 T T G C A A G C G G T G G A G C G T A T A G A G G C G A T A A A G T G A C A T A T T G G C A A A A T T C T C T A A T T A T A T C A T T A A A G T T G A A T A G T A T A A C A G C T A T G A T T G T C C C A T C T G T C T C T C A T A G C A G C T G G C A T G C G G A T T C C A A T T C G T C G G G A T C G G C G C A A A A T C G A T A T C C T C T T G A T G C A G A C C G G A G T C G A A G C T T A C T A T G C\n",
            "2 2 T T G A T A T T G A T G G T A C T A C T C C C G A C C G G C C A T A G A T A A C A C T C G C C C A T G A T A A C A C A C T C T A A A A C G T A T C G A G G G A T A T A C A C T A G T G A C T G A C G T G A A C T A T G A G A C T A C T A T T G T G T G C A G A G A T G C A G A C G A T T T T T C A A T T C C C C G C C G T T C T G G T G A C T A G T G C G C T G T G A T C A G A T G G T G A G A A C T T T A A G\n",
            "3 3 A C A G G T C C C C T C G G C G T T A G T T G A T G C A G C C G A T C C A C T A A G A A A C G C G A A C A G A T G T C C G C A T C C A T C G T C T C T A C T A C C C A G C T A T G G G A C C G T A T T T A C G G A G T G G A G A A C T T G C G T C A A C T T T A A T T T C G G A A T A A C T G T G G G G G A G G A A A G C A C G A G T G C G C C G C G T G G T C G G A G A T A A G A A T T G T A T G C G G A G A\n",
            "1 1 T T A A T T G A G G A A A A G A G G T T C G G C A C A T A G A C C T C G T C G C T T C T G T C T C T C C T C C T G C G A T G A A T C C T T C C C G T C G A C G G A T T A C G T A T T T A T G C T C T G T C A T G T T G G G C T G T C A G G A A G A G A C T A G G G C G G C C A A A G A T T C C T G C G C A A T C C T T G C A A G T G T C T T G C A T T C A A A T C G T A G G A A A G A T A T A G A T A A G C T G\n",
            "0 0 A T A A A T A A T C G A A G G G T G T C T A T A C T T T T T G A G T C T T G T A T A G G T A T C G G G A T C G G G C C A G T C A C C C T T A T T G G C C T G T G A T C G G T C C A G T T A A G C T C T G T C G G A T C G T C A C G C C G A C G C A C T C G C A T T A G A A T C A C C C T G C T G T G A T G T T G A G T T T C T C A G C C A G C G A T T G A C T A G G T G G A T G A T T G G T C A A T T G C A A C\n",
            "3 3 C T A C C A A T C T T A G G A A A G A A T A G C G A C A T G A A A C T A A A T A A C C A A C A G A T G G A C C A A C G C C T A G A C A G A T A A G C A G T G A A A G A A G C A G T G C C C G A T A G T A A T G C T G A A T A T G T C T C C G G C A G A A C A T T A C T G G C T G G T C C T C A C C G C T C A G A T G T T C G G G A T T G G C C G A C G C C T C C A T T T T A C T G T C T T A C G T T G T A A A G\n",
            "0 0 T T T G T A C C T T A A G G G C C C C C G G G T A A A A T T G T A T G G T G C C C C G A T C C T G A T C A A G A A G T G T G C C C C A A T T A G G G A A A G G T C A A T A T T T C T A T T G A C T C C T T C T A G A C A G G C C T A G A G G A G A A G A C G C G A C A T G T A G C G A A T A C A A T G T T C T A T C T G C A A T A C G A A C T G C G A G C C C C G A G G C G A T T G G G A A G G T T C A T A T G\n",
            "2 2 C A C T C A C A T C G C G A G G T T A G C C A A A C A G A T G G T C G T G T T A C A T T C A T A C C T C A C G G A C C A C G A T G G T A G T G G G T G C G G A C A G C C C G A C C A C T T G T C A A G C C T T A T G G A G G A C C A A T G G G T C G T T T C C T T C A G G T G A T C T G G G T C A A T T A G C T G G G G G C T C C A A A C G A C T G C C C C A A C G A T T A T G T T T C A G T A G C C G T C A C\n",
            "2 2 C T A C A A G T T T A T A C G G G T G A G T A T A G T A G A G C T A A A A C T T T A A C A G A T G G T A T G A T C G T T G C C T A C C G C C A G A T G G T C C A C A C T C T G C A C T C G T T A T A C A C T G C C A G T A T A T A C C A G A G T C G A G C C G T C A A C G C G T T C G C C T A A A G C G T G G G T G C A C C C A T C C G G T T G C G G C C T A A A C A G C T G G T C T G A C A G G C T C G A A A\n",
            "3 3 G T A T G A G A G C A C C A A C T G A T A A G C G C G C G G T G A T A G T A G G C A C C A T A T A T T A A G T G C C C A C T C T G C G G C A T T C T T A T A C C G A A C A G A T G G C G A A C A T C G T A A G T A G T A T T T G T G T C T A A A G C C A A A A T A T C G G G G A A G C A T C G T A G T C A C A G A T G G T G A G A T A G A T G C A C T C T T C T G A A G T A A C T T A C G T A A C C G A A T C T\n",
            "2 2 T C A T T G T T C C T G T G T G T C C A G A C A G G G C C A A G A A T A A A A T A G T T T A T G T C T C T C A A T A G A T C C T G G G G C G C T C T G A T C T G T C G T G G C A G C A C T T T T C A C G G T A T A C A T T C G A C G T A G C G T G T C T T T C T C A G A C C A G A T G G T T G C C C G G A A G A T C G T C T A A A C A T G C C G C G G A T G C A A G G T G C T A T A G T G G G C T G T T A A T G\n",
            "2 2 C T G G A C G C C C A A C A G A T G G T C G C T G T C T G G A T C T A C A C C G T T T C A T C A C A G A A G G C G C A T T T A T A A G A A T A G T G G A A C A G A T G G T C A C G A T T T T A A A G A G A C T T C G A A T C C C A T T C C T C A G G A C T C A C C A G A T G G T C G C G A G T G A C A A A G A C G T C T A G G G G C T C T G G G G C G A G G T C A G A C G C T G C G A G G T T T G T T T G G T G\n",
            "2 2 A C C T C C A T A C A A C A G A T G G A G C C C T C C T A T T T A G T A C G A G A C T T C C T T C C A G A T G T T A G T T A G T A C C A G G C C T C C T C G T T C A T A C G C A A G G A G T A T C G T G T G A G C C G G G G C C C T G A C G T A C C A A A C C A G A T G G A C C G G T G C G G G C A G G A A G T C C C T T A C T C G T A T C A C G C A A G T A C T C C C G A A G A T A A C A G A G T G C C G A G\n",
            "2 2 A G T G A C G A A A A G T T C G A T G T A A C A T C A A C G T T C A T A A G T A G A C G T T C A C A A G C C T A T G T C G G C C A G C T G G C G T T T G T A A G G T A A C A T T G A C A A C C A G A T G G C A T C T G G T A A C A G A T G G T T T C T C G A A C C A G A T G T T C C G T A T C T G T A T T C A T A G A G C A C G C T G A C C A T C T T A A A G C G T T G C A C A T G G C A A T G G T G T T A C G\n",
            "2 2 C A T A A G G C A A T A G T C A A A T G A C C C T C C A A C A A C T C T G T G C A G A G C A C G G T A C A G A T G G T C A A C C T T A T G T T G G T T A C A C C A T C G A A G T C A T G T T C G A A T G C C A T T G T G A T A A A A T C T C C A A A T G C A C A T A A A G T C A T T G A A C G A C T T A G A A C G T A T C A T T A T T G T T T A C A G A T G C T A C C A G A G C C T G C G T T C A C G A T C T C\n",
            "3 3 T A C A A A G G T T T G G G G C C G C A A T A T G G A C C C A G A T G T T C A T T G C A A A C T G C G A A C C G A A C A G A T A A G A A A T T A G G G G G G G C G A A A G G A C G A T A G C A A C G G A C T G T C C A T G A A A T A G T C C C A T T T A T A A C G A A C T A T C G T T T C C A A C T A T T A C T T T A C A C A A G A G T T G A T C G A A C A G G T G G T C G A T T T A C T A C T A A C C G T A G\n",
            "3 3 A A C A T T A T C A A T G G A A G A T C A A T C G G A C A G A T G T T C C T T A A C T A T T C A G A G A A A T C C T C C C G A T G C T G A C T G A A G C A G A G A T A A G G G C C A C C T C T C G A C A G A T G T C C T A G T A C A A G C G T A C G G C A T T T C C C G A A C G C A C G G T G A A G C C C C C A A A T T T C A C C G T A A T C A C G T C T G T C C A A G A G T C G A A C G C A G G G T T A G T G\n",
            "3 3 C C C A A C A C G C T C A C A G G G T A G G A A A C A T T G G T T A A T G C G A G T G C T C A T A G C G T T C A G G T A A G A T C A A T C T G C A T T C T C A G T T A T T C G A G C A G G T A T C G C G G A G A A A A T G C A G A T A A G A A G C A A G G A C A G A T G G C A G A C C A C T T C G C T T T G G C T A C T A T G G G A A A C T A T G G A A T A C A A T C G T C C T G C A C A T A A C A T C T A T A\n",
            "3 3 T G A A T C G G T T A T T T G G T C T T C A C G G A C C T T G A G A T A A G G A T C C T G G C T C A C G T G T A T C G T T T A T A A G A T A A G G C A G C G G A G T C C A C C A A G A A G G A T T T G C G G T G A T A A G C T T G G C G G A T T C G T A A C A G A T G G C A C A G G G A G C T G A C G G A G C A C A C A C T C G A A A A A C G A A G A A G A A T A G C C A G T A T C C T C T A G C G A A T C A A\n",
            "2 2 T G T G C G A T A C C T C A A A C A C T G G C A C C G C A A A A A A C C T T T A A A C A G A T G G C C G G T A C G G T T A C A C A C T T T C A A C C A T A A T A T G C A C C A A C T C C T T A A G G A C C A G A T G T T C G C A C T A G C A C A C C G T C C C T T T C A C T A A A T T C T G A T T G G A T T A T T T C A G C C C G T C A T A A A A C A A G C C G T C A C C T T T A A C T A C C A T G G A G C T T\n",
            "3 3 A A A A G G A G A T A A G A G A C A T A A A G T C A C C A G A T G T T A C T A C A A G A G T C T T G C A G A G A A A G A A C T A G C G T C A C T T T T T T C T C A T A T G G G C C A T C C A G C C G C C T A A A A G G C G C A A G A A A A A A A G A T C T T A C G A T A G A T T C T C T C G A C T C A A T G T C A A G T C T G A A A T A G A T A A G A T T T G G G G G T C G G G T T A T T G C T G A G G A T C T\n",
            "2 2 T T A C G C A C A T T G G A T A A T A G G T T A A C T G T G C C C C C A T G G C T C C C A T G G A A A T C G T C T A T G A C C G A C G C T T C A A C A G A T G G G C G C A T G C C T T A G G C C A G C G A T G C T T C T C A C G T G G A A G A G C G T A G T A A C A A C C A G A T G T C G G A A T G G C C C A G T T T C C C G A T C A G A T G G T G G T G T A C G G A C A T C G C T G C G T C C G T T C G G T A\n",
            "0 0 T T T T A G G A G A G A G G C T T T G T A T T T C G T C A T G T C T T C G C A C C T C C A C G G T G G C T A T C G G A C T A T A A C C T A G C A T T A G G G A G A G T C T A C A A G C G C C C T T A C G C T A G C T T G T C G C A C A C T A G G A G A G C G G T G A C G A T C G T A C A A A G T G C G G C T C A T C T C G G G A C C T T C A C G A G C A A A C A A C T T C C A T G A A G T G C A T A C C A G C T\n",
            "0 1 A G C A A A T A T T T A G C C C C A C T A C A T C A T A T C A C C C C A G A A C G T C T A C T T C A G C A G T T A A T G G G T C G T T T T C G C T G T T C C T T C T G C G T T T G A G A T G G A A G T C C A C A C T G A T G A T T A A T G C C A T C A A A T A T G A G A A A A A A T T A A C G A C A C A C G G A T A A G A C T C G A A A A T T C G T T T A C T A C C T A T G A T C T C C A C A T C A C T G C G A\n",
            "2 2 A C A C G G T C T A G C T C T T T A C G G T T G T T A T T G T A T T T T G A A T A T T C G T C A T A C C G G T A G C G T A A T A G A T C A G G A A C A G A T G G T A C G A A G T T C T A T G T T A T T A A A G C A A A A C T A T T A G T C G T A G C G C A G T T C G A A G A A T A G C G C C T C T C A T G T T C G G C A C T C G T G G T T T G G T C C A C T A T A A G A A A C G G G A G T C A C G T T T T T G G\n",
            "1 1 T C C A A A C T C A T A A C A G C A A T G A T C A A T G G T G C A T A G A T C A C C A G A T A A G G A C T T T A G A G C A G G C G A C T T C G T T T C T A T T A T T T C T G A T A A G G A A T A T T T C A C C G A G G G A G G T G T T C G T T A A A C G A C T C C G C G T T A C C A T A A A C T T G C G A C G C T A A C C G T A G C A G A T A A G C A A T T G A T A G A T A A G C C G A A T A T C G T C T C A A\n",
            "1 1 A A G C C A T A A T T G A A A A A A T A C C G A T G T G A G G T C A C T C A G T T T A C A G A T A A G C A T G C A T G G A T T T C C G G G T A A T A T A T G T C G T C G C T A C A T G T C T G T G G A A G A T A A G A A C C C T T A T C C T G A A G G C C A T T A T C G A G A T T A G C C A G A C A A T C A A G G C G G A G T A G G G T A T T T G A C A T G G A C A T T C A C G T A G A A G A G G T A A C G G A\n",
            "0 0 G A G A C T G A A G T C T T G A C C G G T T T A C T A G A A A T C T G T T A C C C C C A G T A C T C G C A A T G A G T A G A T T C A C A T C C G C C A C A T A T T T T A G A C G C T C A C A A T C C C T G A C G A C G A A C C C C G A G A C A A C C C A G A T C T A C A G A A T G A A A G A A G G G A T A G C T A T A C A G T C C C G T G G C T A T C C T A A T G A G G C A A C G G A C A T G A T T G G C T C A\n",
            "1 1 A G A A C G T C C T G C T C A G G G A G A T A A G A A A A C A C T C G A C A A G G A C T A A C T C G G T T T A A C T G A T T A C C T A C C G A G T T A T T C G T G C G C T T C A G G A A C T T T C A C T A G T G T C G T T A G G C G T T T C A T C C A T A C G A T T C G C A T C A G G A G A T A A G G A A G T C G C G C A G A T A A G C A G T G C G G A C G C T C A G A A C A A T A A T T T C T A A T C A A T G\n",
            "1 1 G A T T T A C C C A A G A T A A G G T A A C G C C G G G A G T T G A C C G T T G T A G T A C T A T A T G C G A G G T T A G T A T G A A A C T T C G A C T C A T A A C A G C A C A A G T A A G T G C T A A A G G T C T G T T A C G G T A G A T A A G G C T C A C T G T T T C A G G T T C A A A C G T G T T C C T T T G A C G T A T T C T G C C T A C T A A C A T T A G G A T C T A T T C T T A A T C T T A C G C G\n",
            "2 2 A C A C T G A C G A C C G T G A C G A G T T G T A G T G T T C G C C C A C C A G A T G G T A C T A G G G A A C C A A T C A G T G C C T C C C A C G G C C C T C A A A A T C G A C C T T A C A C T T C A A G T T A G T A T G G G A C A T T A T A C G A A A C A A G C A C C C G T T A T T A C C T A T G G G T C A C T C C C T T A C G T C G A C C G A A C G C T C G A G T G T A T G A T A T A T C G T T T C C G T G\n",
            "3 3 A T T A T G A C G C G T G T G G T C G G A G T A T A T T T A T G C C C A C T T T C G C T T T G C T T A C T A A T G C G G A A C A T C A C T A T T A T A A C C A T T C C C G G G C T T A A A G T C A T A T C G T T T G A A C A A G A C A T G T T A A G A G A T A A G G G G C A T A C G C A A T T G G A G C G A A C A G A T G T T T G T C T G T A T T A A A G G T C G C G T C G G G C G C T G A T C T C C G A G T T\n",
            "2 2 A T C T T G T T G G A C A G G T G T T C G G G C T A T C C T C G C T A C A C G A T T T A G T T C G T G T G T C A A T C A A G T A A A T A G A C C C T T T G G G G G A A A A A A G G C G T A G A C C T G C T T T T A C C A T C A T C C G A C G A T C T A A G T G G G C G C T G A G A G G G T A G A A A T T G C A T C A A A C A G T A G G G T T C C A G G T T A G T C A C C A C A C C A G A T G T T C C G A G G C C\n",
            "2 2 C T A T G A T C A A T A T G C C C C G G T A T G C T A C C T A T T G A C C G T A A C C T A G C T T C G T G G T G A A A G T A T A C A G G C A A T G A C T A A C A G A T G T T A T C A T G A T G T G A A T T C G T T T A C A T A A T G C A C A G A T G T T C T T C C A G C T C C T G C G C T A A A G T T T A A C G A C C A A G A A T A T A A T G A A T C C T C A T G A G A T A G A T T C T C C T A A C C C G C C G\n",
            "3 1 T A G T T C A G A T T G T C C A G G T G G T T T G A C C A T A G G A A A C C T G C A A A C C C A T A T G G C G G A C A G G T G T C C G G T C T C A T T A G A T A A G A G T A T A T G A A A C C T A T T T G A G A G C A T A T C G G G A C T A G T A A G T G C A A G A G A G A T T C T C A A C C C T T C C T C A C A C A G A C C A C G C A A C A A T T T T G A G G A A C G A A G A C G G G A G A T A A G C A T C G\n",
            "2 2 C A T T C A T C G A T T C A G C A A G C T C C C T G A T T T C C T C T C A C C A T G A G G C C G C T G T G G A G C A C A A T A T A A A C C G A A C C C C T T G A C T C T G G A T C A A A G T C G T T A G C T A G C G A A A C G C C A C A T T T G C G C T A T T A T T G T T C A A T C A T G A G T T T T C G T T T A G C G C C C A G A T G T C G T G G A T C A C A A T G G C G G A G C T A T A A C A T T A A C A C\n",
            "1 1 A T A A A C T A A G A C C C A A T T A G A A T A T C A T T A G T G A A A C A C A T C T G G A C T T A C C A T T T G G G T T G T G T G A A G A T C G G G T T A G A C G T C G C G A T G A G A T A A G C A G G G T G A C A A A A C G C A G A T T A G A G C C G T T C C T C G C C A C C C T T G G A A G G A A A G A A G T A A A T C G G T C G G G T A T T A G C G A A G C T G A T T C C T T T A C T G A C A G G G C G\n",
            "2 2 C G G T G T T G G G A G G T A A T T G A A C T A A C T G T A T T T C C G C A A C A G A T G G T G A C G G T T G A A T C T A G C G T C A T A G T T C A T G A C A A G C G G G A A C A T A C C G C G C G C A T T G A T T A G A A G A G G C G G G G G T T A G T T G A A A G C T T A A A G C G A G A C C T T T G C T T G C T A G T A T G T G A T T G A C G C C G T C A A T G T C T T A G G T A T T C C C G T C A C A G\n",
            "3 3 C G A T A G G A C T C T G C C C A T C A C G T G T G T G A T A C C C A A C T A A G T A A T T G C A C A A C A T T T A C G A G T G G A G T T C T G T T G T A A G A A T T C T T A C T T C G C C C C T A C G C A T T A A C T G C A C A C C A G A T G T C C G A G T G G T T G A A A C A G A T G G C T G C T C T G A T A A G G A A C C G T C C A G A T A A G A G A G T A G T G C A A T T G C A C G C T C T C G G C C T\n",
            "0 0 G T T A G C A C T C G A A C C C G A A A G T A C G A C A G A G A A C A A A T T A C C C T C C C T C G T A A C G A G A G T A G T A A T T T A T C A T A C G T G T G T C A C A C T G T T C G G A A G A C A A C T A G C T T A T T A T C T A C T C A C C A C C C C T C A G A A T A C A G C C G C G T G A C A C C A C G C C C G T C G T T T A C T C G T A A C A A A A T T C T A T G C G A T G A A A T A A G T A A T A C\n",
            "1 1 A A A C A G T G G C A G T A A G C A A A A C C A A C T T A T G G A A T C A T G A T T G A T G C A T A A T A G G A A A G A C C G C G A C G G C T T C T T G T A A G A C A T A A G C T G G T A G G A G A T A A G C C C T A A T C A A G A G A T A C A C T T G T A A A A C A G C A T G T C G G A T G A T G T C C T A A A T C C A C A C A A G A T A A G A T T A T G C C G T T T T G C G A T A C A G A T G C A A T A T T\n",
            "1 1 C A G T C G G C T A A T C G C T C C G G C A C G G A A A A A A C G G C T G T G A C A A A A G T A G A T A A G G G G C A A T T G C T T A A C C C G G C T G G A G G C C T C G C A G A T A A G G C G T T T C C C C T C A C A T C A G A G G G C T A C T A C T G A G A T A A G G A A C C G C A G T G A T T T T T T A G G A T T A C T A T A C T G C A C T A A A C A G C G C C T A T A G C A A G A G C A A A G A T G G C\n",
            "0 0 C G A A A G C C A T C G G G G G T T G G G A G T G A A C A T C T G C A G A G A T A T T A C A C C T C G C A G G T C A C T A T T G C A T C T T T A C G C T G G T T G T A C G T T A A A A A A G C C T A A C A T T A A A T G G G T C T T T G T T A A A G T C C T A C A C A C T C T C T C C G A A A T G C A T A C A T A T G G C A G A C A T T C A T G T T G G A A C G T T G A G T A G A C A A T T C T T C T C C A G C\n",
            "0 0 C T T C T T G G C T G A G T T C C C C A A T A A A T G T G C C C C T G C A C G T A T C A T A T G T T C C G T C A C A C T A C G A T C C T G G A C C C A T T C A C T G T T G C G G T G G T A G G T T T A G A G G G T T T T A G T G C T G A A A C A T T A G A T G C C T C T C A C A A T G T A A T A C A T C T G T T C T C C T G T A A T G A G T A C A C G A C T G C C A A A A C T C A T G T C T G T C A A C T G T C\n",
            "3 3 T C C G C C G A C G G A C G A T C G C G C C C C G C G C A G A C T C G A C T C G T C C T A C A C T C T G A G G G T A T G A A T C G A G C T C A C C C A G T A G C A A C T C A G C C G A A C A G A T G G T C G A C G T C G A C A G C C T A T G A G T C T G A T T C A C A T G A T A A G C C T C C A T A T G A C T A T G G C T A C A T G A G T C C T A G A T T C C A T A T T A G T T T A A A G T G A A T A T A T A C\n",
            "2 2 G A G G C T C A T G A G A A C A G A T G T T C C C A C G T A A C C C C C A A T C C A T A A C T A T A G C A C C C A A G G G C C A A G G T G G T A A C T G C G T T G G G C T C T A C T A A T A T T T T A C A C C T A C C T C T A T A T T G C A T G G C C C C G T T A T C A A G T T T G A A C C C A G A A T C G G T C A T G T A A C A G A T G T T A C G C T A A C A T G T C C C C C A A T T T A A T A T G C T A G T\n",
            "3 3 C C A A C A A T T C A A C A T T G G T C T G C A G T C G G C G T T T A T G T C C G A A T T A C G T G C C G G T G A T A G A A A C T T C C G T C G C C A G T G A G A C C A G A T G G T C G A C T T G C T G G G C C A A G T C G A C A G A T G T T G C T T A G G A T C A G A T A C C C G T A T G T T G C A A T C A C G A T A G A G A T A A G G T G G T C T T C A G T G C A G G C A T G A T T G T G T G G G G C G G A\n",
            "2 0 T A T G T T T A C C G C T C C A G C C G G T A T T T T C A T T C C T G G T T A A A T T A A C C C C G T A G C A A A C A G G A A T T A C T T G T T T G G T G T A T T C T C T A A T C T T G G T T A A T T A T G A G C T T G T C G T G T G C G A T A C A C G T T A C C C T G T C T A A T T T G C C C C A T T A C T A A A A T T A G A C G T T A C C A G G T G G T A C C A A G C T A A T T G C T T G G C G T G G G G T\n",
            "1 1 A C T C T C C T C C A T A A C A G C A G A A A A A G A A C A G G C G T C A G C G A C T T A C T T G A G A G G G A C T T T A T T A C C G T C T G T G C A G A G C A A G A G G C C G A T A G A A G G C C G A G A T A A G C T C G C A G C T A G G T T G T T T C T G G C A C C A G C C C G C C T G G G A A G A G G T G C A T C T G A G G C C C G T G A A G C C T G A G A G G G A G A C C G C T T T C C T C C T C A T A\n",
            "2 2 G C A T T G G G T C G G C T T A T G C T G C T A T A G T C G C G A C A A T G A T A A C A G A T G G C T A A G A A A T C C G C C A T C G A T G A G A T C T C G A A G T T G C C A T C A T A A G A C T C C C G C C T C C A A A A A T G G C T G G G G T G A G G A C C G T A G A G T A T C C C A A C G G C C A G A T G G T A G G T G G G A G C G G C A T C A G C C G A C A G A T G G T A G G A G A T C C G C T T A A A\n",
            "3 3 T G A G A A C T G G A T C A G C A G T A C A A G G C T T A C T A A C T C C A G A T A A G A G G G T T T C A C A G A T G A T C A C G G G T G G T A T C G G T T T T C G C T A T C A G T T G G C A G T G T A T G C T A T T C G G T T T G A T A G A C A C A A G T C T T G C C T G G T C A T T A G C A C T A G G G G T C T G A G G T T T A A A T C C G A G A A T T G A A C A G C A T T T G G C G A A A T T G A G T T T\n",
            "1 1 C A C A A A C G A T A A G A G G G C C A A C G A C G T G T A G A G T T T T T C G A T G C T G A G C T G A A C T C T C G A T G A C G G G T A G T T T T C T T C A A G G G A A G G G G C A C T T C A A T T C T T G C C G C C T G A T T A G A C A T T T A C T T T A A T G A T A C A C G G T G C A A A T T A G T A A T C A G C C G C G T C C A T G C C A G A A T G A C G G A G C A T G T G T T T A G T G T A T A T G C\n",
            "3 3 T A C T G T C A T A A G C C C G G A C G T G G T G A T A A G G A G T T C G C G C A G C C G T T C A A T C C T A A A T T A T C T T T C G A C C A T T G C C C T C C A T C C A G A T T G A T G G G T T T C A G T A A T T G T C T T T A A T G C G T G A A G T C T T T C C G A A C A G A T G T T T T G T T A T C A C A A G T G G G G C T A A C T C C G T G A C A A A C T A C C A T C T C C G C T C A C A G G A G A C T\n",
            "3 3 T T T C A G G G G T G A G G G T T A A T T T G T T T A T A G C G A A A G T T G A G A C A G A T A A G A T T A A A T A C A G T T G A T T C T T C G A C C C T T T A C C C C G A A C T A T A A G A C T T G T A C C A G A T G A T T G G A G T T T A T A A A C A C A C C C A G G T A T T A G T T G C C A T T T C C T T A G C C A G T G T C T A C A G A T G T T G T T C T G C G T A T T T A G C G A T T C A C C A A G A\n",
            "2 2 G T T T A C T T T T C G C G G C G C G C C A C A A C T A G A T C T T G G A G G T A A C C C T A A C G A T G A G G T T A A A G T T C C C G A G G A G C A A C C A G G C A C A C A G A A C A G A T G G T C G G C T T G T A C C T G C T T A T T G C A G C T T A C T G A C C A C G T G G T G G T T T A T T C T A T T T A A A T A C A A G C C T A A A C G A A C A G A C C A G C C T A G C C T A T T C A T T A C A C T C\n",
            "0 0 A T G G A T T C G A T T T T G C A T C A G G T A G A G A T T G T G A G T A A T G A A C A G A A T G G T C G C C G A A C T T T T C A T T T T G A A T G C T T A G A T T A T A A A G T C C G A T G A A G T A A T G T T T A G G T T T T C C C C G G G A T C A C A A A A G T T C T C T A C T T G G T A G T T C A T G C C A A G C G T G T C A G G A A T A T G A G C T A C A C T G T A A T T C T C G C A G A G A T T C A\n",
            "0 0 G G T G T C T A A A G C C G G A C G T C G A C A T G T T T C A T C G T A G A C A C C C A C A C C G A G A A G G T T G G C A T G A G A G T C A T A C A G C T A C T C A T T G T C G C C G G A C C C A A A C A A G G C C T A T G G C A A T G A G A C A T C A T T C A C G C T T G A T T G A G G T A A A T G A T T A C T C G T A T T T A G G T C T C T A C A A C T T C T T A T G T C T C C A C T G G T G G G G C T G T\n",
            "3 3 T A G C G A A C A G A T G T T C C C C C C A C T G T G A G T C G A C A T G C T C G A G T A A T C G G A A A G T C A A G A A G A A A T C T T C C C T C C A T A C T G A C A A T G T A C T T C A T G A C T A A G A T G A T G T C T T G T C G G G C A C G C T C T G A T T C G A A G C A G G T C A C T G A T A A G G C A G G T G A T A T G G T T C C G T A C G T A C A A G A T A A G C C A C G T C G T A G T A A A T C\n",
            "2 2 G A A C A C G T T T T C C T G T G G G C G C C C A A A T G T A A C C G G G T T A A A T A T T A G G G C C T G G A A C G A A T C T T A C C C T A C C A C A A C A C A T C G C C G T A G A C T G G A C G A G A A A A T T G T T G C A T G T T T A C G T T G T T T G T G C T T A C G G A G T A C C A G A T G G T C G C C T A C T T T G G T T T A C A T A C G A A A C A G A T G G T C T C T C T T A A G G C A C T A C T\n",
            "2 2 T C A T T A T G G C G C G G C G G C G A A C C A C T G G T C A A C C A G A T G T C G G T C A C C T A G C T T A A C T G A C T G T C T C C A T C A T G C T A T G C C A G A G T T C A T C C A C C A C C T A A T G G T A A A G A A C A G A T G G C G C A A G T A T T T T C C C A T C T A G A T A G G A T C T T A A T G A G A C T A T A T G T G G T A A T A T G T G C C A A T G C T T T G T A T C T G G G C C G T G T\n",
            "3 3 A G T A G A T C C G T C T A T T C A C T C G G T G T T A G A A C A A C G G A C A T T G G T A G G T T G A T A A G C T G C C C T A T G A C A A C G T G A A C A G A T G G T C G C T T A G C A T C G T A A G A A C C C G A T G T T G A C G C G A G C T T G G C G C A T G T T A T A A C C A G A T G G T C T G G C T A C A T T A C A G A C A C A T G G A C T C A A A T G A A G G T G C A C C C C C A A G A G T G G T G\n",
            "1 1 C G C T C G C A T G G T C A G A C A C A A A G C T T G G G A T G A T A T T T T C A G T C C C G T C T A C T G C T C A C T T A C C G A G T A T A T C A A C G T A G C C C G T G C G C G A C A T C T G C A A T T T T T G A C T A T G C T G G C C G A T A A G G G A A A A T G T A A C C C C C A T T T T A G A G A G A G T G T T G C G G T T G G T G A A C G C C T G A A C T T G A T G A A C G T T C A T T C T A G G A\n",
            "2 2 C A C G T G G G G T A T A G T T T G G T C A T G A A C A A T C A C C T T T G A C T G A A A T C T A C A G A T G G T C T C T T T G A T C G T G G C A C A A A C T T T C G C A C T G T G A A C T T C A C G C A G G T A A C G T T C A C A C T C A G C G C C T G A T C T A C A A A A G T T C A A T A A T A C T A T A A T A T T T T C T T A G C A T A T G T G T A T G T C A G A C T C A G T A A G C A A C C T C T T C C\n",
            "0 1 G T T T G C A T G A A A G T T G T T T A T T T G C C A G A A A G G C A G A A C G T A A G A G T T A C T C A G T T A G A C G A C A A A G T G A T T T A C A T C G G T A C G A T A C A C A T T G A T T A A T T C A C A C C G A C T G A T A C G A G A G G A T T A G C T C A C C A A C G A A C A T G A G A T A G T T G C G A G T G A A C G A G A G T C T A G G T A C A A G G C T T G A A A A A T A T G A A C T C T T T\n",
            "2 0 G A T C A T T G C G A T A G T C A T C T C T C A C A A T G A A C A C A G A C G C G A C G T C C A G G T G T T C G T G C A C C G G A C A A A G A A C A T T G G C G A C T G T A G A T C T A C A G T G A C C T G C T G A T T T C A A G G A G T C C A A A A T T G C G C T G G C A G C T A C G C G T T G A A G G T G T C T A G A C C C A G C T A G A C C A T A A G T G A T G T A G T A A G C A C T T A A A T C C T T C\n",
            "3 3 C G C G A A C A G G T G G T C G A C T C A T C G A G G C G G T G G T G A T A A G G G T A T A T A T C A C A G T A A A C A G A T A A C G T G C A T T T A G A G T A C G T T C G C G G C T T C A C A G A A C T G G A G A C T A A G A G T A A G C T T G T A A C G G A A A T G G A G A T A A G C G A A A C C T C A A C T T A A A A C C C A C G T C T G G C A A G T C A C T T G C T A A T T T T C G G A G T T A T C C C\n",
            "3 3 A A T T A A T C T G C T A A C C A C C C A C T A C T G C A T G T T T C A T A A T T C T C G C T T T A A C C A A T C T A A T A G A C A T A T C A A A A C T A G T T G T G C C C T G C A C T A G T G G G A C C G A T T T A C G G G C C G G A A A G G A C C A G A T G G T C G G C T T C T T C A C G C C A T T A G T T G A C C C G G G C T G T A C T A C G A G A T A A G C C G G A A G G C G G C G A T T G T C G G G C\n",
            "3 3 A G A C C T T C A T A G G T C A C G C C G T G T T C G C G G C C T C G C T A G G G G C A G C C T C A C G A T A A C G T G A C C C G C G A T T A T C A A A G C T T A T G A T T A A C A G G T G G T C C A A G C T T T A C A T T C G G C G A G A T A C T A A T T A A T T C A G A T A A G A T C T G A C C G A A T C A T C T C A C T A C T T T T T T A C A T T T C T A A G A T T G A A G G A T A G C G A A G A G C A A\n",
            "0 1 T G T G T G G G A G G G A G C C A G A G G C T C A G T G T T A A A G T C A A T A A C C T T A C G A G G C A A T C C T T G A T A A G T C G G C C G T T G G A C A T T T T A T T T T C A G T T T A C G T A C C C C T A T A T C C C A C C C C T G G T T T T T C T G T T G A T T C C T G T G C G A T T A G C G G T C T A G G A T T C C A C G C A G T G T C A C G G A C T A A C A C A A T G A T G G G T A T A C A A T A\n",
            "2 2 T G A T A C T C C A A C T T G A G G T T A A G A C C A G A T G G T A T A G A A G G T T C C T G C G A C C A G A T G G C C A G T C C T T A G A C C C T A G T G T G A A A G G A A T A C A A G C T T A A C G A T A T G T C G A T T A G C T C T T C C T A C A A C A C C C A A G G A G T C T T A A T T A C A T A A T A A C A G A T G T T A A C A G T C T G C A G C A G A A T G G G T T C A G G C T A C G A A G T C A A\n",
            "3 3 C A A A T A T T G T T A G A T G C T A T T A C G C A G A T A A G C T A T G T G G C A A A A G C C C T T C G C T A G C T C C G T A C T A G T A A A G G G C C T C C T G C C A A G C A C A T A T A C G C C G A C G A G T T T G G T A T A A C A A T T T A C C A G A T G G T T A C T A T C A A T A C T A C G A G A G C C T A C A G A T G T T A A G C A T C G T C T G A C G T T C C T G T A A T T C G A C G T T G C C C\n",
            "2 2 T T G A G G A A G T G C A G A T G T T G C A G T T G C T T C T A C A G A G C T C T C A A C G T A A C C C A C C C C G A G A G A G T T T C A C G C C A G A T G T C G T A C A T A T C C G G G A A T G G A A A A A G G G C C T C C C T G C A A C C G C C T T C T C C C T A C C T A T C A G A A C C T T C C A T C T C G A C T G A A T A T C T T C C A C C T C T C A G A C C G T G A C A G A T G G C T G A A T A C C C\n",
            "0 0 A C A C T G C G T A A T A G C A G T T A A C T A G C C A T C T C A C G A A G A G G A T G A G T T G C G A C A A T A G A C C T A C C T G A C A A G T A A A A C A T T G C T C G T C G C G T A A C A C C T G T G C C G T A A A T A C T C G A T A G G G T A T C G T A C A A A T A T C C G T T C T A T C A T T A A A C T G G A T A C T G T A G T A T G T G A T T G C T A T T G C G C G A G G G T A T T A C C T A A A G\n",
            "2 2 G T A G G A C G C G A A G A G G A T A C T G T T G T T T C G G G T C A G A C C C A G T A G T T T A G G T A G G C G C A A C A G A T G T T G C T T T A G A G A A G A T A C A C C C A A A G G G C C G A A C A G A T G T T G G G T A C G C G T A G C T C T G G T T C C C T C G T C A C G T G T A G G T T T T A A T T G A C T C A A T T C G G C C C A G A T G T T C T G G A A C C T A A A A T A C C T C T A T T C A C\n",
            "3 3 T A T C T T A C C G C G A T G T A A C A A C A A A T C A T G G A A A A A G G C A C A C G A C A A C T C T C A T A C G T G G A T A C G A C C A G A T G G T A A C C T G T C T C C G C C T G A A A C C G A T A A G A T A A A A A A T A C C C T A C G A A G G A G A T T A G G G G G A C G G T C C G G C T C C T G C G G C G C T T G C T T C G C C G G A G C A G A T G G T C A A C G A C A G G C A C A A T T A C G T G\n",
            "0 0 T T T C G T A G A C A A A A T G A C A T T C A T C A G A T C G T A C T G G A T G G A G G T C C G C A G A C A G T A A T T A C A C A G T A A C A C G G G A T C A T C A T G C T A C T C G A T A G A G T A T A A G C G A A C A A T G G G A A A C C G T A A A A T G G G G C C A G T C G T G T C G C G C A C A C G T C G A G A G A C T A A A A T C T T C A T G C C G A C G A G G A A C C G T T G C A G T G G G T T G G\n",
            "1 1 A G A G A C G T C A A G T T A G A A T G A T A A G A A T C C T G A T T G C T A C G T G G G G A A G A G G G T A T G G A A G C T A C G A A A T A A A C T A T C A A C G A G T C A A T A A T A A C G T A C A A T A C G T T A A T A G G C T G C G A T A C G G C T G C G T T A C G T C G A A A C T A G G C C C A G C G A T A G T C T G T A T C A C A C G T T A C A T C A C A G A T A C G C A T T A C T C C T A G G C T\n",
            "2 2 A A A C A A T C T A T A C G T T T C G T G T A A T A G C G A T T G T A A A A T T A C C T C G A G C G A A A A C T C G C T T T A T T T T C G A C C A G A T G G T T G T A G A C G A A G C G T G T T A A C A G A T G G C C T T G T T A T T C G C C A G G C C G A A G A G A A C G T G G G A T T T T C G G T A A G A G G T T T T T A A A T A T C C C G T A C C G A G G G C G T T T T G T G G A C A G A G A T T G T G G\n",
            "0 1 C T T T C G T T T G T C G T T A C T A G T G G T G C T G A T A G T T A G C G T T A G A G T G A G T G A G A C A T C C A G A C G T G G G C G G G A G C T G T A A T G A T A G C A G C A T C G A T G G G A A G C C G T G C A C G G T A G T T C G G T A G T G G C T T T G G C G T G A A C A T T T T A G T C C T T G C C T A T C C T A A A T A A C T C G A T T T T A A C C G G C A T G A T T A G G T C G C A A G T G T\n",
            "1 1 T T A C C C C G A A T A T C T G T C A G T A G C A C T C T A C A C T A T C C A C T C G A A T G T C A T C G A A G C G T T C T T G T G A T A A G G C A G T A A A T G T C C T T T G C G A T A C G G A G G A A A G C T C A G A T A A G C A C T C T A T G C A C A G G T T C C C A A C G A A C C A A T T T G A A A G T C A A T A C A C T T G C A T A T A A C A A T A T T G C G A T T T A A C G A A G A A A G C G G C T\n",
            "3 2 T A A C T T C T T A C A G A T G T T A G G C C A A G G G G T G C A T A C T C A C G A A A T T G G A C G T A T C A G T A T A G A C C A G A T G G C C C G G G G A T G A T A A C G G T C A A A G T G A C T G C T G T A C C C G C C T C G A T A G C T G T G C C T G C C G C T T C T C A A G G C G G A A A C C G A C T T C C T T C T C T G G C T C A C C G G T C A G A C C C A G G C C T A A G A T A A C T G C A T T A\n",
            "3 2 C G T A T G C T T A G G C T A G C G C T G T T G G A G G T T T T C T G A A G A T A A C G T C A G C G A A A C A T C G C A A C A G A T G T T C C T G A G A G T C G A C A G A T G T T C C T T T C A G A T G T T T T T C G A A C A G G A T C G C G T C G A A G G A G T C A T C A A G C C G C T A A C C C T T T C G T T C G T T T A G C A C C A C C G C A A A A T T A G T A T A G A A C A A T C G T A C A C T C G G C\n",
            "0 0 T G C T T T A T T G T A C C A A C T G G T A C G T T A C T G C A A G C T C T A T C G T C A G A A C A A C A G G T A T G G C C T C T A G T T A C A C G T T A T T C G T T C T T A G C T A T T G C G G G G C T T G A C T A G G A A A T G T A A A T T A G T T A C T A T G A C T C G T A A T A C G T C T G A C T T A G A G T C A T G G C T T A T A A G G A A A T T G T T T G G G A C C G C A G T G C A C A C C G G A G\n",
            "2 2 C A T G T A G T A A T C C A T T G C A T G G A G C T T C G T A C T C T G A A T T A G T G G G G T G G T G C A T T A A A C G G G G G C G C G C G G C A G C C A G C A A T T G G C G A G G T A A T A A T A T T A T C G A T C A T C G C A C A A G T A C G A A G G A G T T A A C A G A T G G T C A C T T A T T A G C C T G G A C A G G T G T C T T T T T T T G A G A C C T G C A C A A G T C C T A T G A A T T T C C G\n",
            "1 3 C G G A C G A C G A A G A T A A G G A G G C A A G T C T G A G T G G T T C A T T G A T C A G A T G T T G G G T T C T A T T C C T T T C G T T C G C A A C T T A C C A A C T A G C A G C G G A A T T T T C G T A G A A C T T T A G T A G T G C A T T G C C A G G G G A C C T C T C C A A C A A A C C A C T G G G C C G A G T C G G C A C T A A T T G C T C A C T C T A T G G A A C C T C C G G C G A T T A G G A G\n",
            "3 3 C A T A A C G C G A A T A A A T G A G A C C G G A A A T T T C A G C A T A T G C C G G G C A G A T G G A C A G A T G G C A T A A C A T G T T A T G G C A G A T G G T C G T C G T A T C G C A T A G G G G G C C A T A C C A T A T C G T T C G G G G G T C C G T C C C T T A G A G A G A G C C G C A A C C A T G A A T T G G T G C T T C G A C T C G C G C C T A A A T C T T A C A A T A T G A A G A T A A G C C T\n",
            "0 0 T C C C C G A C C T C T T T A G T C A T C C T T A C T A T A T C T C T A T C T T C G G C C T C G A A C G A G C A T G A A G T A C T A T C A T T T T G G A T A T A A A T G A G C C T A T C A G T A G G T C T T C T A C C A A C T C C A C G A T A A A T A G G A T T T T T T A T C G G G G C G A C T T G G G T T G A C C G A G G C A C A T G C C A T T G A A T T G A T A A A A A C T C T T C T T A C G A G C G A A A\n",
            "2 2 G A T T T G C C A G C A C G G C T G A A C A G A T G T C C A A T A C T T G C T T T T C C G T A A G T G G T G A T A C C C T G T G G A C G T C C C A T A C G T A G T C T A G G C C T C A C T G G G C T G T C G T C A T C G C T G A C C A G A T G G T T G G C G A C C A T T G T A G C C G A T A T A G G T A A G G A G A A T A G T T G G C A G T G T A T T A T T C C G C A G A T G G T C T T A T C A C C G A T G C A\n",
            "2 2 T G C A G C T T T C A A C G A G C G C A A A G T G A C T T G C C G A C G C T G G T T T G A G G A T T C T T A A C C G A G A G C G A T C C G C A C A G A T G G T T G T G A G A A G A A C A G A T G G T A G A C T A T G C A G T T C T A G A C C G C G C C A G T T T C G G T A G G G A G G A C C C C C T T A A A T A C A C T A C T C T A C T C A C C T C A C G T C A G T T G A A C A A A T C G A A G G G T C G T G A\n",
            "1 1 C T G G A G G A G A T G G T T T C T C C G C T G A T A A G G C T G T C C G A T A A A A G G T A C A A T T C A A T A C A G G C C T T C A C C G C C G C C A G A T A A G C A C A G C C G A C G T A C T A G G G T A C C T G A C G C C C A A T A T G A G C T G C C A C T T T T A G G C G T A T T C T G T A A A C C T G G T G C A T C A G C T G C A A T C A T G T G T C G C G A T G C C C G A G T G C C C C G A C G C C\n",
            "0 0 T A A A A G A T C G G A C C A A T G A T C G G A T C A T G G T C T C T G G T C T A G T T G A T G G C G T C A C G A G T C A T A C C C C G C G C G G G G C T G T C G C G A G A T G A A G T A A T T C T T C A A C A T T A C T A C T C T C T A T C G A C A A A C T C C T T A C T C A T T G G T T A C C T T C A T T G C G T C G A C C G G T G C A A T C T A G C T C G T C G A G A C T G G T C T T A T T C G T A G T T\n",
            "1 1 C C G G T A G A T T C A G G A T A G T C A G T A G T T C C T T A G T C A A A A C A A T T T T G C C C G C C T T G A A T T G A G C G A A A A G G T C T G A T A A G G T C G C G T G C C A A C C G T T C G T G G G T C A C A C T A C T C A T A G A G A C A A G A A G G T G G C C T G A T T T G C A G A T A A G A A C A T G T C C A T T G C A C G C A C C C T A G C T G A T A A G C T T A C T C A A A C T G G A C G C\n",
            "3 3 G A C G T G G A T T T A G A A A A T G A A T C A T A A G A T T A A G C A A G T A C A C T T G C G G T A C C C A T A G G T T T A T A G G T C C T A T A C G C G A A C C A T A T T C C G G G C C A G A T G T T A C C C A T A A T G A C A T A C T G T C C G T G T A C G A T G T G A A G C A G A A A A G C G A T A A G G G G A G T T C G C A G A T A A G A A T C G T C T G A T G A T A G G T T G C A T G T G A A C A G\n",
            "1 1 G T T A G T C A C C T C G A T A A C A C T T T C T T A C A A C A G A T A A G A G C T T T T A G C A C G C C T C A C G G A C T G G A G T G A A T C A A G C A A C C T A C C C A T A A T T T T T G G C G C A G A T A A G G G A A A T C C G A G C C C G T G A T T T T T G T C C G C T C C A T G A G G C T A A A G G A G T A C T G G G A A A T A G G T A T T C C A C C A T G T G T A C T G A T A A G G A A G A G C A T\n",
            "2 2 G T T C C A C A G A T C C C A C T G A T T G C A T T C A T G C T A C A C C A A C G T G T A C G G G C C C A T A T T T T C A T C C G C T T A A T T C A T A A C T A A G T A A G G A T C T A A C A G A T G G T A G A C G A A A G T A G A C A A A C T A G A T A G G G A T T C G T C C G G A T G A G G A A A C G C C A C G G G A C A G A T G G T C G C C T T G A C A T C G A G T T A C C G T A C A A C A T G A A T T G\n",
            "1 1 A A A C G T A T C T C A G T C A A T A A G C A A C A G T G A T C G G C C G G A T T G G T T C G T A C G G G G G A G A T A A G C C A T A C G C C T T C T A A C G T G G G T A C G A A A A G C T A A A T T G A A C T A A G A T G T T C C C A G A A C C A A A G A G C C C T A A C G G G C T A G G G C C G C G C A T T G G C G A T A G C G A T C A A C T T C C A C T T A A G G C T G C A T C C A C T A C C G A C C T A\n",
            "3 3 G G T G T G A C T C A T G A G A G A T A A G C G T T G T G T G T C C A T A C G T G G G A G A C C T A C C C A A T G C T T A T C G A A G A T A T G T A A T A C T G C G C G A T A A A C G A T G T C A C C C A T C A C A T A A C T C T C T T A G C A A A A G A T T G A T A C G G G T A G G C G T T C C A T G C A T A A A A T G C G C G T C G C A T A T A C T A G C G A A A C A C T G G A C A G A T G G T A T G T T G\n",
            "3 3 C T C A T C C G A A G A C A G T A T C A T T A G C T G C T T T T T C C C T G A T T G G A A T A A G T A G A C C T A G A T A A T G C A A A T C A A C A G A T G T C G C C A C A T A A C G A G G A T A G C G C G T T G T A T T A T G A C C A G C A G C G A C T A A A T G A T C C C T A A C A G A T A A G G T C T G G T G T T T G T G G G T A C A C G G C G G C G C T A C T A A A G T C G T C C C A T C G T C A T C G\n",
            "1 1 C A T C A A C G G C A A C A A G T C A G C C C C A G A G G C G G A A T C G A A A G C C T G T A A A T C A G T G G A C G C A A C T T A A T C G T T A G G A T G C C G A A G A T A A G A G A C T A G G T A C G C G T A G T A G G T C A A G A A G C C C T T T A C C C C T G G G A A A T C T A A C G G G T T G A C C G C A A G C T A G A C G G T G T G G A C T G C A T T T A T G G G C A C G C A C A A A C C T A G A A\n",
            "0 1 A C C A G G A G C G A G A C A C A C T A T T T T T C T G G T A A G C T C T C A A C G T C G A A G T T T C A T C C A A C C C T A T T A C G T T A C G G C A A G A T C C C C A T C G C T G A T A A G A T T G C A C T A C A C T A G G T C C C G G G G C G A C C C G G G T G G T C T T G G A G G T G C A A T G T G C T G C A A C C T T G T T C G G A G T A A G G G G A G G G C A T A A A G T C A A G T A G C T T C A T\n",
            "3 3 C A C G C A A C T G A C G A A C A G A T G T C A G G G C A T C C G C C A G C G A A T A C T T A G T C A T G G G T G C G C A G A T A A G G T C A A C A G T T C A G G A G A C A G T T G G T A T G G G A T G T C A A C T C G C T A A G T C G T T A A G T T G T T G C A T C G T G T G T A G G T A T G T C G T A A C A C C A C A T C T A G T C T A G A G G A A C T G C A C A A A G C A G G C A T T G C G G A T C G A G\n",
            "1 1 C G G A T T T C G T C C A A T A G T T G G C C C G A G A A C G T G C A T G T G A T T G A C A A A G T G A T A A G C A G T C T T G A C A T G A T C A T C G T C C A A G C T G A T A A C C T T A A T T A G C A T C T A G C A C T A G A T C T T G C G A A T T A A C A T T G C C T C T C C A A G A T T C G G G C G G G A G C A G A T A A G A G G T G G T C T C A T G A T T A A T G G G G G G T A A T T A T G A C A G A\n",
            "3 3 G A C A A T T T T C T T G G G T T G A A A A G A G A T T C T A A T T A G G G C G C C T G A T A T C C A C A G A T G T T C G G T G C T G C A T C T T T G A C T C A T C G T G A G A T A A G G A C A A G T A G G A A G C A A T A T C C C A T A T T C C T A T A A A G A A G G G G T A C A C A T G G C C G A C C G T T A A T C G A T T A A G C T T C C A C T T C G T A G A C T A A T C G G G A A C C C A G A A A T T C\n",
            "1 1 G A A G C G T A G T C G A C T T A G A T C A G A G G A A G A A T C G T A G T G A T T T C C C T G C G C T T G C A C C A C T A C A T T A T G T T C T T G A G A T T A G T A A T T G C G T G A G A C T T T T A A G A C T C A G C G C T A G C G G C G T A T T G G A T G C C A G A T A A G C T C A T A A C C C T A C A C C G A T A A G G C G A A T A G C C C C T G G C T G T A G G C G A A A G A T A A G G C A T A T T\n",
            "0 0 G C A G T C C A G C A T T G T A C A A A A G G C G A C G T T G T G A A A G A C A A A C C G C A A G G G C A G C G C T G G T T A C C T T C T G T T A T A G A G C A C C G A A T G T G C A T G C A G C C C T T T T T A C A C G A A A T C C A A C G A A A A T T C A A A G T G A A T G T C A A T T G C T C A C A A T G T C A T G C C C T C C A T C T A C T A C T G G C A A G C T G T T G A C T C G G C C A G C G G T T\n",
            "2 3 A C G T T T A G T G T A G T G T A T C G T A C A T G G T C G A T G T A A C C C C A T A T A C G C G A C A G G T G T T C A C T G A C C A C A T T A G G T C G A T T T A C T G G G G A A T G T A C A G A T G G T T A C T C G G T A C A A G C A T C C T C T G A T A T G A C C T A G C C T T C A T T T A A A G C T T A C G G G G A T T A G A T A A C G C C A G G C T G C T C A A C T A A G T T T C C G A C A A C A A C\n",
            "3 3 T C C G T T T G C G A A A G A T A C G G G T G T G A A T A T T G C A T T A A A T A A T T G A A A C T T T C C C T A T T G T C T A A A G A G C T C A G G T C C G T T T T C A A T G A C G G C C A G C C C T G C G C A T T T G C T A A A G G G C C C T G C C C G A C G A G A T A A G G C A A T A T C A C A A G C A C G G A C C A G A T G G A A G C T A T A A T T G G G C A G A T C G C T G T A A C T A T T A C T C C\n",
            "3 3 T A G A A G T C T A C C C G A C G T G T A A G A G A G T G A A A T C A G A T G T T A C C G T T T G T A T T G C A G G G G A T A A G G T C A C T C G T T G A T T A C A T T C C A A G A T C T G G A G A G G C A T G G G C A G T C G A A T T A T T G A C C T A G A A T C C T A A T G T A G G G T C C T G T C T T T A T A A G C T G A G C T C C C T A G T A A A G G G G C C A C C A G C C C C G A T A A G G C T T A T\n",
            "0 0 C C C C A G A C A T C C G A G A A G C G C A C G C G G A A A C G T T A T A T G C C G C T G A A A A G A C G A T T C A C C G G C A A A C C G A T C G T C G A A G A C G C T A G C C T A G G C G G C T T C T T A C A C C A C C T T C C T A A A G T A T A A A A A A A T T T A C C C C G T G T C T C C A G T G C T G T G C C A A A C A A T T A G G C T T G T G T G A C C C G C C C T G T G T G A G G C A A C G T A C A\n",
            "2 2 C C A T T T A T T A T T G T G T T T A G A A C T A G C T C A T A A C G T A C G T G C T G G T C C G C G G T C T C G G T G C T A A C T T A G G G G T A C A G A T G G C T T G A G C T A T T A C C A T T T A G A T G G C A C A G G G A A T T G A C C C C T T A C A A T C C G G T C G G C A A C C G C A A G G A C C C T G T C G T A G T T T A A G T C C G G A A C A C G C G A A C A G T T G G T C T A T A C G C G A C\n",
            "3 3 G G T C T T G G A G G G T A T T G A T G C T A A A G T C C C G T A T T A C A A A C T A G A A T G A A C G C T C A G A T G G T C A A G C A A A A T A G G G T C T C A G C T A C G C G T A A C C G A T A A G G C C T T G C T T G T G A C T C C C C T G A C T G T A G C C G T T T G C A C C C G A A C C G C C A C A G A T G G T C C G C A G A A G T T T C C A C A T T C A T G A C C A G A T G G T C A C A T A A T A T\n",
            "2 2 A A G T T A A A A C T A C C A G A T G G C C A A G A G G T G G A T T A C G T T C T C C A C C A G A T G G C C G T T G T T T A G A G A C G A C G T T A T G G G C G C T A T G A G T C G A G T T T G C A C T A T C C G G C G G C A G T A G G T A C A T C T A C G A C T T T G G C A G G G C A C T T T A C C G G T T G C G C G G A C C T C A A T T G G T C T C A A C C A G G C G T T A C T C A A C A G G T G G T C G A\n",
            "1 1 T T C T A C T G A T A A G G G C G G G A T G T T A C A C T T T G A T T C A T A C G C A C C G A C C A A T G C C G C C T A G T A G C C C G C G G T C G C C C G A T A A C G A T G T C T G T T A C G T T G T A G G G A A C G A G G T C A C G C A G C G G G T C T G C A C A T T T A G T C A A T G C G T C C T G C G G A T A C A T A A C A G A T A A C A A A C C T A C G G A C A G A T A A G C T T C G C C C G A T G A\n",
            "1 1 A G A C G G G T T C A G T C T C A A A T T A T T G C C C G G G C G T G G A C C A A A G A C G A T A A G A G C C G T T G T G T T C T T A T G T A G A G G G C G G T A C A C C G A T G T G T G G C G C T G A C T T T C A A A T A G T A A T T T G T A A A T G A G C C C C T C A C A G A T A A G C C G G G G G A G G G G A A A C G A T T C A G G A T A A G C T G A A C C G G C A C T T C C T C G C C G A T A A C C T C\n",
            "0 0 C C T C A A G A A T G G C C C A G G C G G C A T T A T G C C A C A C A T C C A T A T A T A T T C C G A G A T G A G G A T A G G T G C G C G C T G G C G T C T A G A C A T A T T G G A A C T T G A C C T T A T T A G A C G G C T G C A A T G C A A T T T C C C G A C T C A G A G T G T G G A A T G G A A G G C C A G G G T T A A A G A T G T A T T A G C T C T T A C T A C T C C T A A T T C A A T A C A G T G A T\n",
            "0 0 G C A T C A G C T A C C A A T T G A T A T G A T A G G T A G A C C A A T A A T C A A T C A A A A A T G G C T G G T G T C G G A C T T A A A A C A A C A T C A G T A A T G G T C T C G C C G A A G A C T T G G G G T T G T C C A A C A T G A T A A A C G A C G C T T G G C A G A T G A A G A G A C T C T A C A T A A A A T G T C A G T G G T T G A C G C G A C G T C C T C C A G C T C A C A A T G G C T T A T A G\n",
            "0 0 A T G T C G G C T G G C C C C A A A A G C A G G G T T A C G G G T C A A A C T C C A A G T C T C A C C A A A G C G G T G A A T A C G A G C A T A T C A G C G A G C T G T T C T T C T C G C T A C C A A A G G G A C C A C G T A C G G G G T C C T A C T T A C A G G C C T T G A T C C C T G G T A A T G C C A G A C G C A A C A T G T G T T A C G T G A G T T T T C G T A A G A G C C G C C T T T C G C A A C T A\n",
            "1 1 G C C A T A C A G G A G C A A C A T G A T G G G T G A T C C G C A C A C C T T G A T A A T G T T G T C T C A A A C A C G C A C G G T T T A C A G T G G A A T T G A C T C A G G A T T C T G G G G T T C A G T T T A A G T G C T A C A C A A A T T G G T G A T G C T G T T G T C A G T T A A C A G A A T G G A G C T C T A A A T T C G T A G C A C A G A T A A G G T A C G A A A G T T G C A T T G A A C G A T A T\n",
            "0 0 T C A A A G A G G T T T T C C T G T G G G A A C T C C A A T A G T T G T C T C C T G T G A T A A A A T T G G G C T T T G T A T A G T G C A T G T A C G C G C T A G T G G C T G G G C C C A T C A G T A A T C G T C G C T G T A C G C G G C G T G G G C T G C T C T A G G A C A G C C T A A G A G A C G C T T C T G C A G C G A G G A A G G C A A C G C G C A T A G C C A C C T C C T G C A T T G T G T T G G A C\n",
            "1 1 A C A C T T A T A C C G G T G A A G T C T G T A G A A C T A C C T G C A G A T T A G G A A A C A G A T A A G G A G A A C C T G T T T T C G A C A C A T G C A T T G C C A A C C C G G C T T T G T C A T G A T G C A T C T T A A T A A T T T T A A G C C A G A G T G A A A A C A C A G A T A A G G G G A T C A T G T G A C A C T A G A G C A A A A A C T C G T C G G T T G T A T A G A C G C A T T A G T C C T C C\n",
            "2 2 G C T T A C G A A A C A G A T G G T C A T G C T C A A G G G C C G C G T A C C A G G T A T G T A T C G G C T A A A G A G T G T A G A G T A C T T T C A A C C C C C C T A T A A A A T C A T T A T C C A G G T G G C G G A A T A A A A A G T C C G G T T T C T C T A A T C C A C A C C G T C G C C T C C C A A T A T T G A G C C G G T A T T A C G A A C T A T T C G C T G C T T A A T T G A C T G C A T A G C A C\n",
            "2 2 C A T G G C C C C T A A T A A T T A C C A C T C A T G C C T C T T G T A A G T T C A A C C G G T T C C C A A T A G G A T A T T C G G T G C G A C A C C G T T A T A C T C G G G T T C A T T C G C C C C A G A T G G T C C G A T C C A T T T T G C G T G T A C A A A T T A C A G A A T T C A T A A G C A T T C A G C G T A C A C T A G C T C T C G A C G T G A T C T A T A A C T G C T C C G T G G A A C C A T C T\n",
            "0 0 G C C C A C A A A C T T G C T G T T A A G A A C A T C A C A G A T C T C A A T T A A C A T G A T A A G T G T T A A G C T A C G A C A C T G C G C T T C A C A A A C T G T A G A T T A T T C T A C C A G C T C T G T T A T A C C C G T A A G A C T G T A G G G G G G T A C G G G G A G A G T G A G A T A C C A C C T T C C T T C G T T C A T G G G A T G A T A T C T A T T T A T T A C A T C T T T T G A T T T C G\n",
            "3 3 C T C C C C C C A G A T A C C G C C C C T G C A T G G A T T C G C G A T A G A A C A G A T G G T T A G C G C A A C A G A C A G G T C A G T A A T G G G T A A T G T T A T T A G G A T C A T G A T A G T C T G G C G A G C T A C T C C A T G C A G G T T C A A G T T A G A A A A C C C T C G C C A C A C A G A T A A G A C T A C T G A C C A G G C A G T T A C C G G T A T T G C T G T G C T A T C A G A A G T T A\n",
            "3 3 T A A G C G A G A T G G T G G G A A G C C T C A T C T A A T G T T C C G A G A T A A G C G A C G T T G G T C A A C A A G T G A A A T C T A T C T T G C T C C A C A G A T G G T C C G T C A C C T A A T T A G A G G T C G G C T T C T A C C T A A A G T C T G C A A A T G T A T G C G G A A A A T T A C A T C A A G C C A G A T G T T T T G T A C G C A C G A T G A T G T C G A C C T T T A C A A A G A A A T A T\n",
            "3 3 T T A A A C A G A T G G T A C A G A C A A T C T G A G G C G C G C A A C G G A A C T A G A T A A G G A C C A C A T G C T C C G A T C A T G A T A A G G C T G C G A T G C G G A T A A C T T T G G T T G C T T C C C G G G A C A C A A T C C C C A C T A A G T T G A C C A G A T G G T C T T A T A T G T G C T G G C T C G A A A G A T T C G G T A A T T T C T T G G G A T A A G A G A T T A G G T C T T A T A T C\n",
            "3 3 C T C A A T A C G A G T A A T T G T T T G A A T G A A A T A C C C G T A G A A A C T G T A C C A C C A T G C G G C A C C T T C T G A C G G C A G G A T G G C C C A G A G A T A A G G A A C T G G G G G G A T A T A T C T T G A A G G A G T A G G C G G G C A G C A G T C G T A G A C G G G T A C A G A T A A G G T A A C C C A T T A T A A G A A A C A G A T G G T C C G T T A C T G G A T T A T A G T A C G C C\n",
            "3 3 C A C A A T T A A T G G T A A C G A T A A G G A G T G C C T A G G T T T C G G A C A T C T T A G C A T G A A G A C G T A T A T A C A C C A A A C A C T T G A A A G A T T A C C A G G T G G C C G G G C A C T G A A T C T A G T C T A T A G C G G A C A G A T G T T T G G G G A C C G T C C C T A T C C G C T A A C A G T T C G C T A C T A G G T C T T G T A C C G C A A A A G A T A A G A T G T A A G C T C G G\n",
            "2 2 T C C T T A C G A C C G C T T G A A G A A T C A T A C A A A A G A A C T C C C C C T C T C T A A G T T C T A A T G G A G A G T A C C G C G G G G T T G A G G G T T T T C A G A T A C G A A A A A C A T T T G C T T T C A A A T G C A A A G T T T C C A A A C A G A T G G C A T T T C T C T T A C C T C T G A G C C A T C G G T A T T T A G C T T G C C G G T C T A T C A G A A T A T T G C C A G G A C G T A T A\n",
            "2 2 T G G T C A G T T C C C A G C A T C A C T A T T A G A A A T G A G G A C A G A T G G T A C A C A A A C C G A G A T C C A C T G C T C G G A C T G G T T G A T C T A A C T G C G T T A G A T G C G T T G A A A C G T C G G T G A G G C T C T T T T T G A C T T G G C G T A C A A A A C G T C G G G C A C T A A C A G A T G T T T A G G C T A T C A C A T C T C A A T G T A C A A C A G A T G G C A A A C A A G C G\n",
            "1 1 A C A T A A G C C G T A A G A C A A C A G A T A A G G A A A T G A T A G G T G A C C T G T C T G A T T A A A A A C T G G T A A C C A A A G T G C G T T G C G T A G C T A A G A G C A T A T C G G A A A G G C C T A G A G T A T T A T T G T T G T A G A A A C C T C T T C C A T A C T C A T A T G C A G A A A T T T C C C T A G A T T C A G T G A T A A G G G G G A T G A A C A A A T C A G G A C C T G C A G T A\n",
            "1 1 A T T G T C A C T C A T C A T G T T T T G G T G A G T G A A C A C G A T C G A T T T G G A G A T A A G C A A T C T G T A A A G A G A T A A G A G A G G T G T T G G A A T C C T G A C T A T T T A T T A C G C G A A T A G T C G C G C T T G G T G C G T T C G T C C A T T G A A A A A A C G C T T G C C T A A G A T A C T C C G C G G C A C T C G G C T T G C G A T T C C C G A C T C G A G C G A T T G C T T A T\n",
            "1 1 G A T T G A C C T A G A A C T A A C A C T G G A A A C T G C A T T G C A G G G C A A T C T A G T G G C A C A C C G G T T G A C T T C A G G A A A T A C T T T A T C C A A C C A A A A T G C T C A A T C C G T G T A G T G A T G C T T C G T A A A G A C A C A G A T A A G C C A C T C C T C C G C T C T A A T C T G A G C C A C T T T A G T T A T A T A G T G G C T C A G T G G A C A T G C T G A C A G C A G G C\n",
            "1 1 T C G A A T A C T G C A T T T A G A T A A G A T A A G C T G T T A T T A C A T A A A T T A T T C G G T A C T G C T A T G A G A A T A A T T T A C A T C A C T A T A T G T A G C A T G A C A A G T G G A T G A A A A T A C G T C G T A T T A A G A A C C T A G T G A T T A A A T G C A T A C G G T T C C A C A G A G C C C A G A T A A G C T A G A C C G C A G G C T A A C T G C A T C A A G T A G G A T G T G A C\n",
            "2 2 A G C A T C T A C C A G G C G G A T A T C T C A G T C G G T T T T A G C A A C C C C T A G G G A C A C T A G C T T G A A T G T T A C T T G T G C C T A A G G A C C A G A T G T C T C G T A C T C T T A T T T G G A G A G C A A A C A A C C C G C C A C C C T C C A A G T A A T G C C T G T C T G T A T G C C C C T A G T T G A T A C T G T C A T G A A A C G T A T A C T T A A C C G G A C C A G A T G T T C G C\n",
            "2 2 A A T G T T A G T G C C G C C C A G A T G G T C A C C A C C C G A T A C A T G T G T G C T A A T T G C C G C C T G T C T T C G C C T A T C A C A G C T C A C G A G G G C G G A G C C C G T A A A A C C T A G T C C G C C T T A C A G G T G G T T A G C G C C T A C C A A G A A T G A G A G T A C A C C G C C C T G T G A T A A A A A C C C C A G G T T C C A C C T T G G G A G T G A G T C G A C C A T G G T C G\n",
            "3 3 G T A G T C T G A C A A T G C T A C C A G A T G G T C G G A A A A T T A G A A T G T G A C A C T A A A A G A T A A G C C C G A A G G T A A A A T C C C T G A A A A A G G T A T A G T T C A A T T C C C T G C G G G G G C G A G G A T T T T T T C C G T T G A G A T G T T C T A T T T T A A C A G A T C A C C G C A T C T T C C T C C T T C A A G G T G T G C C T A T G A C T C C T G C G A G G C A T A C A C G C\n",
            "3 3 A C T C A C T G A T A G T C T C A A G G A A C A G A T G T T C G A C A A C A C C A G C A T A G C C T G A A T A A C A T G A G A A T C G C G C A G C C T G A C T T T T G A T A A G T G C T C T G T C C G C A T T G A C T G A T A A G G T C T C A A G C G C A A A C G T G G A G A T A A G G A A A A C A C C T C T G A A G G G C C C A G G T G G T T A C G C C A G G A G A C C T C C A C C T A C G C C A G A A T A C\n",
            "1 1 G C A A A A A C T A A C C T G G T G A T A A G G A A G A T G C T G G C T G T G G T G A T T T G C A C C G A T A A G G C A C T C T T G C C C G A T G G A G T C A A T G T G T G C A T G C G G C G G A C C C G A C C T T T C A C G T C T C A A C C C G T A G C A T G A T G T C C T C G A C C G C T G A T A A G C T T G T C C C A A T A A C A C A A G G A A A T A C G G T G C A C A C G A A G A T C G T C C G C A C T\n",
            "1 1 G C C A T A A T T G T A A A A T C C G A T G C G T G G C G T C A G T A A G T T G G T T C T C T T A T T C G G A C A C T A C G A G T G A T C T C G G C G C T A A C T C T A T G A A T C T G T G C C T T C T T A C T A T C A C T G C T T G C T G A C T G A A G A G C T T A G A T T C G A G T G G A G A T A A G C A G A G C T G G T C C G T G A C A T A T G T A G T T G A T C C T T G G T T C T G C G T A A A T A A G\n",
            "2 2 A A G G G G T G C A C A C C T A A T C T T T C T A A T A C A G T G C T A G A T C G T G A A A T A A A G T C C A G A T G G T C A C A A G G G A A T C T A C C C A C A A C G G T C G G G C G G C C T A C C G T T T C A T A T A T C A G C T T G T G A G C T T C T A G A G C A G T C C C A A C T C G C A T A A T C T T T T T G A C G G T A G A A T G T T T A G C G C G A C T G A C T G A A C C T A T C A A T A T A A G\n",
            "1 1 C C T G C G C T T A A C T T C C A A G C T C G C T A A G T A T A A G C C G G T T G T G G T C A A T C A G A T A A T A G C G A T A A G A T A C T A T T G T G T G G T C A T C G T T T G A T T G C A G G A A G T A C T G A A C T C T A T A A C C A T A T G G T T T C A C T C A A T A G A T A C A G A T A A G A T T A T G A A G C C T G A G G G A A A T G T G A T C A G C C C T A A C G G C A G G C T G A T G C G G T\n",
            "1 1 C A G C A T A A G A C C A C T T A A C G T T G A T G T A T T T T A G G C A A T T A A T G T G T G A G A T G C G A G T A A A G C T C C G C A G A T A A G A T G A G C A A G T T T G G A C A G T T C G A G G A G G T T G C A C G A T T A G A G A T C A G T A T T C T C T C T T A G G A T T A T A A T G G A A C T A A C C A T C T A T A C T T A G T T T G T C T T C T A A C A A T T A T C A T C A T A A T C G C C A G\n",
            "3 3 T A G C A C T T T A C C A G G C G A G T A A T A C T G C G T C G T T C G C A G A T A A G A G G T C G G G C A G G C C G G T C C C A G T T T T C A T C T A A T G A C C G C C C T G A A C G A C G T A T G C C C A T A A A A G A A G C G A T A C T T T A G T C C G A T G C G C A T G C T C A T A G A A T T A T T A G T G T C C T T C T T A T G A G A T C C A A T G G A C A G A T G T T C G T C A G T T C C G G C A G\n",
            "1 1 A G T T G C T G C C T T A T G C A G T C G C G T A A G T T A C A A C A T T A G T G T C G C T T A A A C A T G A A C G C A T A A A A T G G T A A A T C A T A A G C G C G G G C C G T C G A G A C C T A A A T G T T C A G T C A A G T T C T T A G G G G C T C C A A G C T T A C T T A C A C G T G A A C C C A G A T A A G A T A T A T A A T A T C T G G T A G T C C G A G A G C T A G C A A C A T C T A G A G C T A\n",
            "3 3 C C G G T T A T C G T G G C A A C C G G T T T C C G G T C A G A T G T T C T A C C G G A G A T T A G A G T G G C A G A G C G T C T A C T G C T C T G T C T T C C A C A A T A A G T T A C T G G T C A G G G A G A T A A G G C C G G A G G G G T T C G C A A T C T C A A A C A G A T G T T C T G A C G C G T C G C G T T A A G A G C T C C A T T T G A T A A G G C G A G C A A G T C T A G G A A C G A A A T T A G\n",
            "1 1 C T A A G C C A T G T C G T G T T T G A G A T A A G G T G C G T G G C T A T G T G T T T T T A G T A A G A G C G A C C T A C A A G C C G T G T G G T G G T C A C G A G A T A C G G A T T T C A A T C G G A G C T G G C C A A C A C A A G A G G T C T G A A C G A T C T G T G T A A C G A T G T C A A C T T A A T G A A C C G T T G A A A C A A A C A G T A C T T C A A A T T A C T T T T T G C C T A A G A T C A\n",
            "3 3 C C A G C A T A T A A T C A G A A G T G T T T C G A C A C C T A C T T C T T C G A G T C T T T T T A C A T A G T A T C G C A A T G T T A A G C A C A G A T A A G G A C G G A A C G G C G G G C A A G A A C G C A C T G T T A G G T C C T C G T G T G C A C A G A T G G G T A C G G C A G A T A A G C C C T G A T A A G A G T A A C T A C C C A G C G T T G A A G G T A G A G C C C G C A A C A G A T G G T C G C\n",
            "3 3 G G A C A G A T T A G A T A C A G C T T A C T G C G T C T A G A G C A G A T A A G C G T G C G G G C A G C T T G G T T A A T C G T A T A G C G G G A C C G C G G A G G G T G T G T G T G A C C A C T A A C A G C T A G T A T A G G A C G C T A A G C T A G T C T A C A T C T G A G A T G T T A G A C T T T T A T G G C A G T A T A C G T A A C A G A T G T T C C C C C T T A C G C G T T T A T A G T C T A T A T\n",
            "1 1 A T A T G G G A G G C C G C C C G G T A G G G C T A G T C C G G G T T C T A T A G C A T G C A T G G T G T A A T T G A C G A A T T C G G C C C C G G G G C T G A A T C T G G C A G C T C C G A T G A G A G A A G A G A G T G C G A G A T T A G G A C A G G T C G A T A T T G A A T T T G G T G G A C G A A G G G T T A G T A A T C G A A C C G C C G A T A A G G T A G G A A A T A G T G A T C T C A C A A G A A\n",
            "0 0 A T G C A G A T C A C C G A T T C C C C T A G G A C C G C G C C T C T T A A A A T A A A G T A T A T C C G A C G G T A A G C A A G T C A A C T A T T G T A C G T C C C A G G G T T C T C G T T G A A G T C C A T C C A A C T G G G A T A G G T T G A T G T C T C T A A A T C C A G G G T C T A G T T T C G A G A G G G T G T C T T A A T G A A A T A G A T T C C G G T A C C T A A G A C T A G C T T C A G A C T\n",
            "2 2 A A C C C C T T A G T A T G A G G A G G A G C T A C G G G G G C A C C A T A T T T C A C C A G A C T G A G C G A A T A A C A G T T A A G A C A T C C C T A C C T C A A C A G A T G G T T C C C T G A T C A A C A G A C G A T A T A A T G G G G T G C A A T T T A C C G A A G A G T C G T A C G A T T T G T G T A T C C A T A A G A G G A C C A G A T G G T C C A A A A A A T A G T T A C T A T A A T C A G G G T\n",
            "3 3 G G C G T C T G T G T C C G C A A A G C G A T C G C T G A T C C T A G T T A G A A A C T A A T T T T T G A G T T G C C A C G A A A G A G C T C G G T T A T C A A C A G A T G G T C G T C A A G A G A T A A G A A A T G C G A T A C A T G A T A A G C A C C G A T T A G C T T T A T A A A A G A C A A A A T T G A G C A C C A G T T A G T C C A C A A A A G A A G G G C C G C G G T G T G C C C C C T A T A G T C\n",
            "1 1 A T C G A G C A G T T G A C G A T A G G A G T T C T T A C T T C G C A A T C A T A G T T A C C G C G C C C A A A G T T C G G C T T C C A A C T T G G T C C G A C C T C G A A T C T A C A T T G T A G C A C T C C A A C G C A A A T G C G C A A T A G C G T C A G C G G C C G A G A A A A T G A A G T C A A C G T G T A G T T T T T C G T T T T C G T G C A T C A G A T A A G G T C T A G A C A G C G A A C G A G\n",
            "1 1 A G C G G C T G A T A A G C C A C G C A T T G T A T C A T C T C A C A G G G T G G A T G A T A A G G G A T C C A T C G G C T A A C C C T G G A C G A A C A C C T G A C C A G A T A A C A C G C A A T G T C G A A C C A T T A T T G C A A T C T G C G C G G A G A C A T G G C G T T T G T T A T A T G G C A G A C G C A C T T G T T G A C A G C G A A A C C A T T T G T A C A T C A C C A C A G T G C A A G C T C\n",
            "0 0 A C A C A A A A G G C G A A A A G G G C T T A C C G T A G A G T G C T A T T T A A A T C T G A A T C G C C G A C G G A T G A C A G T C A C T G C A A A G T A G T A G C C A G C A A A T G T C T C A A T C A A C G T C G T G G C T A C A G A C T C A A A G C A T T C A G T A A A G T C G A C G G G T C A A G C G C T A A A T G T A A C G A C C G C A T G T A C A G T G C G A T C T C A A C C A T A A T T A A T A C\n",
            "1 1 G A C C A G T C T G G T A T A T C C T C A C A C C C T G G G C G C C T A C C G A A G C T T T T G A T T T G A G C C C A G A T A A G A T C C T A C T G T C C C C A G A G A T A A G C G G A C T A G T G T A T A A G T A A T A T T C C T C T C T G A G T C G C A A C C T A T C G G G C C G C A G T A A A C T G A A A C A C C A T G G T T G G A T A A A T A C G A A A A C G C A T G G T T A G G T C C G A T A A C G G\n",
            "1 1 A C C G A C C A C T T C G T C T A C A C T A T A A G T G A T T A G G C T G C C G A T A A G A G A C T G A T T A G G C C T T A A A C A G T T T A T T A C C T T A C C G G A T A G G C T T A A C T A C A T A A C A G G C C A G A T A A G A G G A G C T T A C A C A A G C C A C G T T G T A C G T G A C C T C T G A T G A A T C T C C A A A T T G A A T C G A T C T G T G A T C C G T A T C T G T C A C C A A A C C T\n",
            "0 0 T G A T T A A G T G T C G G C C T T C C T C G A T T T A A C G C T C C C T T A G T C C G T C T A A C A A A A A T T T G G T A G A A A G T T A G T C G C C G T G G C C A C A T C T T T G T A C G T A A T G T C C G A T T G A T A A A C T G G A G G A C C T C G G T G A A T A T A A A C G C G A C A T A A G C A C T T C T A A C G C C G T T A T A C A T T C C G T G A T C A C G G T C T G C A A A A A T C C C T A G\n",
            "0 0 G C T G C C A G A A G A G A A A C A T T C T A A T C A A T G C G T G A C G G C C G T T C C A A T G G A C T T C T T A G A T C G A A C C C A C A A G T C A T C C C A A G G C T C G T T T G G G A T A A T C C T A G G T C G A C T T A C T G A A G T C G T A T G A C G A A C C A A T A C G A A G G T G G C A C T A G T C T A T C G T A G T A A A C T C C C G G C A T T C A G C T T C T T T T T T A T G C C C T G A A\n",
            "1 1 G G T C T T T T A G T C C T A A G G A T G G A A G A G A C G C C T C C T C C T G A G G G C G G T T T C T A G T A T T C T G T T G C A T G T A G T T A C G T C T C G C T G A A T C G A T T A A C T G C C T C T A A T T A A C A A A T A G T C T T G A T G T T T A T C C A C T G T T T T T C A A A T A G G C G A A T G A C G C G A C G A C C A G A T A A G A T A A T C T G C C T A A A T A T G C G G G T G T A T C G\n",
            "3 3 G A G A A A T C C T C A A G G C C G G T A G C C G T C T C A A T G C G C T T A G G C T G T G C G T T C G A A A T G C G A T G A C T G A T T A G C T A A G A T C T C C T T G G G T G C A C C A C C C T A C A G A G T G A T A A G G C T C G T T T A T A T T G A A T T A T A A C C C G T T T C T T C C A G T G A A G C A T G T T A A C A C T A G A T G G C C A T C A G A T G G T C C G C C T A A T T A T T A C G C A\n",
            "0 0 C T G A T G T T G A A A C G T A A C A C G A C A T G G A A T C A G T T G G G A A C C A T G G T C T G A T A C T C G C G A A T T T G A C T T T G A C T T C G A G A G C G G A A A G G C C A A T G C A T T G C C A C G T T C C G G T A T A T C C T T C A T G A G C C G T A A C G C A A C G G C C A G A A C T C A T C G A A G A G T A T C C T A C A C C T A A C A G G T G C G A G T A A A G C G C T A G G A C C T T A\n",
            "0 0 A C C A G A G A G T A C A T C T A A C A A G C A T T T T G T C C C A T G C C G G T G G A A T G C A C G T A C T G A A T A A C A C G C C T T G T T C G G G A C C C A A C T C A C A A C G C G A A G C C C T C C T C T A C C A G A C C T T C C G T G T T T G T G C G A T G T G A A T A A C T G G A C T C A T T G G T A A C T T T C A T A C G G T G G T A A T G T C A G G G C G T C C T A G T T T G A C G A A C G G A\n",
            "2 2 A A C T A C A A T G T A C T T A T T G C G A T A A A C C A T A G A C T C A C C A G A T G G T C C A C A A G C A T T A T T G A G T G C A A G G T G T A T A T G C G G A G A G T G T C A A A T T A A G C A A C C T C T C G G A G G T C A A T C A T A C A T T A C C A T G A T T A A A G T A C C T C A C C A G A T G T T T A A C G A A A G G A A C A C T A G T G T T G G C T A C G G A C A G A T G T T C T G A T A A G\n",
            "3 3 A A G T T C C C G T A A A T A C G G G T A C T C C C T C C T A G A T T T A G T G A T A G C T A A T G A A T T A A A A A T T C G G C T T A G G T G C T T A C A C G T C A G C C C A T A G C C G T T T C C C A T C T T T G C G T C G G G T C A C C A G T T A G G G G G C T T G C T T A T C T C T C G C C A G A T A A G C G T A A G T A A A G A T A A G C T A C C T T T T A G T T G T G G C C A G A T G G T T G A G T\n",
            "3 3 T T C C T C A T A A A T G G C A A C C C G G C A T T C A G A T A A G C C T T T G A G G G C A A G A T G G C A A T C A C T G A A G A G G C A A T T G A A G C G T T C A T T T T G A C G G A C C A G A T G G T C T C G A G G A A C A G A T G G T T G T A A C A A C A G T T C C T C G T G A A A T A T T C C A A C T G A T C G G C T G A T A A G G A T T A C T A T T A T T G T C A A C A G A A G C C C T A G G G T G A\n",
            "0 0 G G C C T G T C T A G T A A C T A G A G G C G A C A C G G C C T C G G C G T A C T T T T G C G G T T C T C T G C C A T A A C A C T G T A T T G C T T A C T C A A T T T T C C G C G C G T C G G T T A T T G C A T T C A C T T T T T A G A T A G G C G A T A C C G G T A C C C T G G G A A T G T C A C C C G G T A A G T A T C A C A C T T G C C A T C T T G A C T C A G A A T T A T G T C T A C C C C G T C G C T\n",
            "3 3 C T A G C C C G C A G C G A T G T T G A G T T G T C G A G A T A A G C G G G A T C T T A A T T C A A G G C A G A T A A G C T T A T A A T A A C A A A T A G C A A C A T A G A G A G A T A T C T A T T C G T A A G T T T C C C T C G C C T G C T G T C A A C A C C A A A T A G C T G A A C A G A T G G C T T A T T C T T A G G G G C T A C A A A C A G A T G T T A C T C G G G G A T G C T A C G G A G C T A C T A\n",
            "0 2 T T C A G A G A C A T A A T A G G C T C G T C T G A T G T T G T G G A A A T G T A G A A C A A T T T C A G T T G A C A G A T G G T A A G G A A A T A A C C C T T A T A A T T T T T C G A A A A T C G A T C G A A C G G A C G A G C T G C T T G G A T A T C C A T A C A G C G T G C G T G T C C C C T G T C A A G A A G G A C G A G T C A T G G T A G T C G G A G A T A G T T T C C G C G T G A C A G G C C T T T\n",
            "2 2 T C T C T C A C A T T T T C G A T G G T A C A C C C T A T A A T A T C C T C C T G G A T A A A C G C A C A C C C A G G G A G C G T C T C T A A G T A T T A T G T G C C G T T T A A A A G T A G G G G A T T C G T T C G C C T A T T T T G A G T G A A C A G G T G G T G G A C T T C C A C C G G G T T C C G A C A T G C T A G G T G T T C A G G A G C T G A G A T C T A C A T G G T G C C T T T G C A T G G T A A\n",
            "1 3 A A C C G G T T G C G C C T T A A G T G A T G C A C A C C A C C C C C A C A T G C T C C G A A A T A A G T T G G T C A T T T C C A C C C T T G A T C T T A G T C T A A A A T C A T A C A G G C C C T A C A C A T T A C G A G C C G A A A T T C G C T G A T A A G G T A C A G A T G T G C T A G T A T A C A C C A A A G T A A A C C T A A C A C C T A T T T C C T C T T G C A G A G C C C C C A T T G G T T T A T\n",
            "0 0 A G T T T A T A A G G T A T A G A A G A C T C A C G C A G G C A A T C A G C A T A T C A G T G C G C T G G C T T G G A G A T C C A C A A G C G A T C C A C G G C C T A G G G A A C T A C A G A A G G A G T G C G G C T G T T A A G A G A C G G G C T C C A A A A T A G T C C A T T C G A A T A G C C G T T A A C T C A A T T G A A C C A T A C A T C G T A T C A T C A A C A C G G C T C G A C T A T A G T T T T\n",
            "3 2 T T T T C C C A C T T A G T A G G A G A T A A C G G G T C A T G T C T A T A C A A T G G A T C C C A T G A A A G C G T G C A C G C G T C A C A C G A T C C A G C C A T A A A A C G A G C G C T T A C G T C A T A T C A T A A G G A C G A A G A A T A C G T G A T C A A C A G A T G G T C G C A T T G T A T A T A T A T G A T T A A A T C G A A T T T C A C C A A A T A C C G C C C T T G A G A C G T T T A A C G\n",
            "1 1 T T T G A T A G T A G A C T A G A C A C A T A A T G C G C A G A G C C C C C T A A T T T G T T A A G A G A C T G A A T G C A A C A C G C A T G T T A T C C A G G T T T A T T T A C G A A T A C C T A G C T T T C G T A C C T G A T A A G C T T C T A T G A G C C A G A A C C T T T T T G A C G A C A T C A A C G G G A G A G A G T A G T T C G T A C T C A G G C C C T A A T G G G A T A T G C G A T G C A A G G\n",
            "3 3 C T G G G C A C A T A C T G T C G A C T T A C C A T T C G C A T T T T T T G A T T T A T G C A C A G A T A A G C T A G A C G C A G A A G G A T G T C C G A C C G G C C A T C T T A C A A A C T A A T G T A A C C A A C A T T G T A A T A T C T T T T C G T A G T C T C C C A T T T C G C A C T T C T A T C G A G T G A C A G A T G T A G A G C G T A G C C G C T G G T T T T T A T G C T G T C T C A G C A G C G\n",
            "0 0 A G A A G G T T C T T T A G A C A G G C C A T T C G A A G C C A T T G C A A C G T C T G C T T T A C G G A A C C T C C G A G T C A A C T T A T G C T G T C G C G A C C C C T C T T T G G C G T T T G T T C A C A T A T T C G A A T A A A C A G T G A T G C T G A T C A A G A G C T G G G C A C T T C T C A G A A A A T A G A T T T T A C A A T A A A G T T G T T C A A A A G A G C C G C G C A A A A A C A C C G\n",
            "3 1 G T G T T A T A A A C T C T A A A T A T A A T A C C G A A T T C T C A T G A C A A C T G C A C A G C G G C A T C C T T C G T G A T A A G A T A A C A A G A C G A G A T A G A G A T T T T A G C G A C A G A A A G G G G G A A G A T T A G G T T A T A A T C A G G T G T T C G G C G A G T T G A T T A C C A T G G A C C A A T T A A C C A A A A A G G T A G A C T T T A C T T G C A G A T A G A A G T A T A A T T\n",
            "0 0 G C T T G A A C C G T G G T T A T T T C T A A C T T A A G A G T T C C T C A T T A T C C C A G G T T T T A A G T G C A A C A A A C C T C C C A T A T C G C T C G C T A G T T C C A T C G G G T A T T A A C T A C G A A G C T C C T T G A A G G T A A T A T A A A T C T G T T A A T G C A C C G T A G T A C A C T A T G A C T T G C A C G A T A A A C G T A A G T G G T G C G A T G T A A T A A C C A G G A G A G\n",
            "3 3 C T A T G C C T C C T A T C G C T T T G G A T A G C G C C T T A G C C G A A G G T T T A G T G T C T T G C T C G G C C A C C A G A T G G T A G T T C C T G T T T G T T C T C G G G A A C A G T T G G T T G T T C G A G T G T T T A G C A T T C A A C C G T A G G T G A T T A G G T C A T G A A G A T A A G C C T T C A C C G T A A G G G T A A C T A T A A C A T T C T G T G T A A T A A T T A G C C C C G T C G\n",
            "0 0 G G T A A T G T T T G G T T A G T A T C C T A A T T G A C A C T G G T C A C A A T G T T T C T T A T T G C A A A A C C T A C G T T T T G G A G C C A A G G T T G A T C A C T C A A A C C G C A A T T C T G T C G G A C C T G G A T C G G C C T C A G A A T T A C C G A C A A T T T G C C G A T A T C A A A C C A C A T C A C T C C G C C T G A A T T G T T G A T T T G C C A G T A C G G T T C A G A A T A T A T\n",
            "2 2 T A C G C A A C G A T A A C G A C T T C T A A A G A C C A G A T G G T A C G G A G G C G C T C A A T T C T G A G A A A C G T C T G T A T C C G G C A A G C G A G T C A A G T A C G C T A T G A A C A T C C T C A G C A T A T C C G C G T T C G T A C G A C T C C C T C T C G T C A C A G T C T T T G G C A T T A C C T A A T G G C C C A C A T C T A G T T C A C A G G G A C C A G A T G G C A C C C C A C C G G\n",
            "2 2 T A T G T C G C C C A G G G T T C G T G A A C A C G A C C A G A T G G T C A A A A T A G T G T A T A C G A A G A T C A T C A C A G T G T G G A C T T C A G C G C C C T C T C A G G T T C C T G T A A A A C C A A G T G C A G T C C A G T T A C C T A G T C A G A T G G T A G C C T C A G C A A G G T T G G C C C A T C G C G T G T C A C A T G A C C T C C C A T T T G T T T C A C A C G T C G A A T G T A G T A\n",
            "0 0 T T A A T A A G A G A C T C T C A T C A G T C G T T A A G A A T C C A C T A G T T A C A G G C G G A G G T A T C G C A A G C T C A A G C T T G T C T A A C G T T G T G A A T T G T G G C G A T C T A A C C T G G C G A A A T T T G T T T A A A T C G A T T A T G G T A G T T A A A C C A C G G C C G C T A T T T G A T G T T A C G T T T T G C C G T G T T A G A G A T C T T A A T G T T A A G C C C T T G C A T\n",
            "2 2 C G A G T G C G C C T A A A A T T A G C T T C T A A G C A G A A C G A G G T G G C C A G A T G G C C C G A T A C G A T G C A C C T A G T T A G C A C T A T T C C C A C A A G C A C T G C G T T C C T G G T T C G C T A C A A T C G G A C G G A C T C A C C G A A A C G A A A G G T T C T C G G A C A A A G A G C C A G A T G G T G G A T A C G A C T G G G A A A A C C T T C C A T C A A A T A C C T C A G T G T\n",
            "2 2 A A G G T G A C A A C C A G A T G G T C A A A T A G A C T G T T A C C G G T C A C C A G A T G T T C G G T A A T T T C A C A A G C A T C A A C T A G G G G A A C T C G A A C C C T A A T G A T C T C G A T T G T T C C T A C A T G G A T G C C A A A T T G G A T A C C G G G G T A T C G T A G T G T T G C G C T T A T T A T C C T A T G G A C A A T A G C T A T A G A T T A A T G G C G A G T G A G T G T C C T\n",
            "3 3 G G T C A C C A T G C G A G C A A T C T G G C C G A C G A A A C A G A T G T T G T G C T G G A T A A C T T T T C G A A T C A C G C G A A T G C A A C A T T C A G C T A A T T G C G C G G C C T T A T C T G A C A T C C G G C A T A G G T T C T G G G G T T T G C G A C G C A A G T A A T C G G T T G A T C C A G T G A T A A G A G C C C C C G G T T A C G C A A C C C C T G A T A A G C G A A T T A A T C T A G\n",
            "1 1 G T T A T C G G A C T T C A C T T C T G G C T G C C G T T T C A G A G C G A T T A G G A G A A T G G T A T T A C G C C C G A T A A G G C A C T G A T C T A T C A A A T C C C A C G A T A A T C A A A G T A T T A A G C A G C T A C G T T A G C A G T C G G A A G T C G T A C G T T A T T C T C T A A A G C T G G A T A G G A C T T A C A C G A T G C C T C G T C C T T T C G G G C C T C C T G C G A T A A G G T\n",
            "3 3 T C C A C A T A A C C A T A A C A G A T A A G A T C C A C T A G G T C G A G T C G A A G T A T T T A C G A T T A G A A A C G A C A A T G C G G T C A G A A G A A A C T C T C T A A C T C G A T G C C C G A T C A G A T G G T A C T A T T G C A C T A C C T T G A A T G A G A A G T T T G G C G T A A C A C T C C A C A C A A T C A G G C A G C T C T C G T C T C G A T G C C G G G T G T G A T T A A G C C T A G\n",
            "1 1 T C A A T G A C C T C A T C C T G C C C T T G T C C G G G A T G T A A G C A T G C G T C A T A A A C G G T T T G T A T A C G G C T G G T T C A A A T A C A G A G A T A A G G T G G T T G T A A A C T C A A A A T C T C A A T T T T G T C A G C G A T T C A G C C A C C G G G A G A T G A C A G T C T A T A A C G T A G T C T A G A A G T G C A G C T A G A G C A T T A G C G C C G A A G C T A A T A C G T A C G\n",
            "1 1 C A T C T G A A C A G C C G G T G G T G C C C G T T A C G T C T T C G A G T G T T T G G T T G A T C C T T A A A C C C A A C C G A A C A A T A A C G T G G A G T A T C C C G G G A C T G G T T A C A G T C G C T A A A A T G G A T G T A G G T T C G C T C G T A T G C G A T A G C G G C C A C T T C C C A T T A G A T T C C A T G C G A T A A G C T C T A T C T C A C G A T C T A G T A T T G A C A C G T T G C\n",
            "1 1 A A G T T G G T C G C T C A G C G C T T A C C T T G T G C G A T A A G G C A A T G T G T G A T G A T T A C C G T C T A T C G T T A T T T C C T C T G G T G G A A A T A G T A T A G T C A T T T T G A T A G T A A C A G A T A A G G A A G T T T A T T C T A C C G A C G G C T A T C A A T G A G A C C G A C T A T A G T A G A T G C A T G G A T A T G C T G C A A T T C C G A C A G T A C T C G A C G A T C C C T\n",
            "1 1 T C T G A G A A A A T G T A G T A G G A C G T C T A A A C G A A G C C G T C A C G A A A G C T C T G T G C A A C G G A G A A C G G T A A T G T A A G T G A T T A G C T A A A C A G T C G G T A C C C C T A A A C T A G T A C G A A C C G C A C G G T C A A C T G T C A C T T T C C C A G G T C C G G A G A T A A G G C T A A A A T T T C T A C A G A T A A G A C C G A G G A C A C T G T A C C G A G C A C T G C\n",
            "2 3 T A T C G C A C C G A A A G T G A G T G G G C C G T G G A G A C G T A G C G G G G A T A T T A T A T C A T C C C A T T T T C T A G A A C C A G A T G G T A G T T G T A T G G T A G A T T A G G G T G A G A A G T T A T C A T G G C A G G T T A C C A T T T T G A A T A A C T C G T T T C T A G C T G T G A G T A A G C T A G T C A C C A A A A C C C G T T A T T A A A A T C T T C A C A G G T G G T G C A G T T\n",
            "2 2 C C T A C G T C G T A T G T T T T G C C T T A G G C T A G A G A C T T T C G C T A T T C T T T G A T C T T T T C T A C A T G T C G C C C A C A G G C A G A A C C C A G A T G T T G G C T A T G C A G G A A A A T A C G T G C C T A G C A A A G G A T T A A T A G T T G G C C G T A G T C C G C G A C C C A C A T A C A C G A A C C T A A G C A C T C T A T A A A T T G T T C T G G G T A C T G T A A T A G T G G\n",
            "3 3 C G A A T T T A T T G G C A G A C T G T G T C G G T A C C T A G C G G T C C T G G A A G A T T A G A C C T G G A G T T G G G A C T G G A C A C C G C T A G T C C C T G A A A C G A C C G G T C A G A T G G T T G C C G A G T T A A C T A T A G A G A T A A G C T C C T G A A A T T C G C C A T A T C C A T G A A A A A C A T A A G G T G A A G C G C A G A G A T T G G T C C G C A G G T T C T T C A T A G C G T\n",
            "2 3 G A G C A A C C T A G G C C C G G G A C C A G A T G T C G A T T A G T C G G C A C G A T T T T G A C A A C C A A T A A G A C C G G G A A T A A T C A G A T A G G C T A C A T G A T C A G C G A T C T G G C T A T A C A G A T A A T A G C A T G C C C G A A A A A T G G A C A C C G A T A A G A A A G T C G C C A G A G G G G T T C G A T G G C A C G C A A A C A G A T G G T C C T T A T C G C G C A A G G A G C\n",
            "3 3 A A A G A A T G G G A G T A G A A C T G G A G T A C C C C A T C T G G C C C G A T A T A T T G A T A A G C C C A C T T C T G G G T T A A A A T A A G A A C T C G A C C A T C A A G C T G G A A C C C T C C C C G G T G C A T T G T C T A T G T T A C G T C G G A G G G A A T A C C T A G A C T T A G G C T G G A A C T G G C A C C A C A G A T G T T C A C A T T T T A G C A T A C G G G C T G G A T C C A C C A\n",
            "0 1 T C G C T T C C G A A T T C A T C A T T A T G G G T A T C T C C A C A C C T T C G C G C A T A G C C C A C T C G C A T A A G A C T A A T C C C T A A T C C T T G C A G C C A G T G T C G G A T A A G T T C T T C T A C A T T C C T G T G G T G A C G C T T G T A C C C C T T G G A G T C C G A C A T A C A T A G G G C G C G C T A A T C T A C T T C A A G T G G G A T C T T A A G T C T G G T T G C C T A G G C\n",
            "1 1 T A G T T T C A T C A G T G A A T A A A G T C T C C T A G C C G T G C G G T A C C G T A G G C G G G A A G C A G C C A G A T A C T A G A G A C A T C A G A A G A G G G C A A G G T G A T A A G G A T G C A G A T A A G G C C A G T T G C G A G C G T G G G A A A T C G T A T A C T C C C T T G A A C T G T C C C A C C G A T A G G C C C A A T C C T A C G G C A C C C G C A C G G A G A C T G A A C G G A G T A\n",
            "2 2 C T T A T A C T A C T G T C A T C T T T C A A A C A A C C A A C T C A A C G G G G T C A T T G G T G T T T T T A C G C C A A C A G A T G G T C C T C G T G A G G T G G C T G A A C A G A T G G T G C A T C T A C C A A G T A G T G C A A C C A G C G A T C A A T A C T G T G C T T A A T C T G C T C T G T A C T T A G C T T A A A A A C A C T T T A T T C G T G C C A G C T G C T G T G A A T A A C C T C A T T\n",
            "3 3 T T A A A A T T C A C T G G A T C T G T T G G T A A G T G A C A A T A T C T A A T C G T T A C C T C A A A T G A G G C C C T A A C A G A T G T T C T C C C C G C C C T C A C A G A T T A G G A T T A C C C G G T G C A T G T A G C C T G G A T C G C C A A T G G T A A A T T T C C C C A T A A T G G T A A C G A A G T T C C T A C A G C C C C G T A C C C G A A C A G A T G G T T A T A G T C A C T T C G A A G\n",
            "3 3 T G C C A C A C T A A T A A T A T C A C G C A G A T A C G G G C A T T A C G A T T C T C A C C A G A T G T T A C G T G G G C C T A T T T A G G A C C C A T T C T C A C T A C G A T A A G G C A A G G T A A A T T C T T A C A G G T C T C T C T A C C A C A T A G A T T G G C A A A T A A G C A A G C G G T C A G A T G T T A G A A T G G G A A C A G A T G G T C G C G A G T A A C G G C C C A G C C T T T C T G\n",
            "3 3 T G C G A A A G G C A T A G C T C A G A G G C A T A C A C T G T T T A T C C A T C T G A T C A A G T T A C A T A A C A G G T G G T G G G G A C A G G A T T G G A T T T C A A T A A T C T C T A C T T A A G T A C A G G C C A G A T G G C A C G A A G A C G C C A T A T G T G T C A T G T G A A A A A G T G A A T A G C A C G C T G T C A C A A C C A G T T G G T T G G T T A C C G C A G A T A A G G A C A T C T\n",
            "3 3 G T T T A T A G T T G T A A T T A A A G A G C A T G C A C T C T T G A C T G C T A T C T A G G A G C A G C A C T A C T C C T G A G G T C T G G G A C T A A C C A G A T G G T C C T G C A A T G C T A T C T G C A C C A G C C C C G T A C C C G A G A G A T T A G A A T T G T T A A A A G G A A T A C C C G A G T G C C C A A T G G T G A T C A G T T T C C A A G T A G G A C A G C T C A T T G A C G T C G A G G\n",
            "1 1 A A C G G A T A T T T C T T A T A C T C C T T A T T G A C T A G G G T A G C C C T G G G A G C G A G A T A A G A G G T C C A C G T G A C C C T A G A C G T A G T T A A A G G G A G T C T G G C G T A T G G T A C C T T A G G A C A G A T C G A C A C C T C G C G T G C C T T C G G T A A A C A C A G G T A G T T C C A G G G C C A G G C C G G T C T C G C T C G T T G G C A G G A C T C A G A T C G T T C T C C\n",
            "3 3 G C G T A C A G G T G T T A A A A A C A T A T G T C C T T C T G G C T A C A G A T A A G G C C A G T T C G T G G G A G A T A A G G A G T A C T G C T G A A C A G A T G G T C C G G A C G G T T T T T T C T A G T C G C A A T A A C T T A T G C A T T T C A T T G T A A A G A A T G C A G A T A A G G T T T T T T C C A G A G G A G C C G A G C C A T G G A A G C A T A G G A C G G A A C T C A G T G C T G C C A\n",
            "2 2 A G T A A A A G A G G C C A G G C T C C A C A T A G T C G A G G G A T C T T C G C G T G A G A T A G C C G T C C C G A A C A G A T G G T C G C A C T C T A A C T G G T C A G A T G G T C A A T C T G G A G G T C G C T A C A C T A C C G C C A G G A A A T T T A A G C T A A A T T G T G A C A A G G C T C C T C C G A A A A G C C T A T G C A T G A C T T T T C T T G C G C T G A C C A T A A G A A C T A A A G\n",
            "1 1 A C T T T G C A G C A A G A G G G T G A T T T T T C A T G C G C A A A A T A G T A A G A G G A C T T A A C G C C A G A T A G T T A G C C C A C C T C G A G A T A A G G G G A C C T G A T A A G G T A C G C G C T T G T A A A T T T C A C T T T T A T G A A T T T T A T C T G T C G G G G C A A T A T A T G T G C A G C T T G A A C A C A C T A A T A T T C G G A T T T G T T T A T C G T C C C G A C G G C A C G\n",
            "2 2 T T G G T G A T G A A A A C T G A A C A G A T G G T G C C G T G G G T T T T G A C T C A A T C A A T A T T A G T T C G C G A G C G A T A C T T A T T C G C G C T T T G G T A C A A T T G C T G C C G A C T T G A G A A A A A A C C A T T A G G C A G G T T G C T C T C A A C C C T G A A T A A G T A A A A T A C A G A T G G T C C C C G A G G T A C G A C C G G T A C G G T G G G G A A A A T G T A T C A T A C\n",
            "0 1 G A A A A C A G A A T G C A G A T A C T C T C G G T T G C T G G A G A T G C G T G G C A G A A A T T A A G A C C G T G A A G C C G A C G A C T G G T G A A A T G G C C T C C C A C G T T C T G A T A A G T T A A C G T A T C T C T G C G A C T T T A T T T A C G C C G A C G A A C A C A T T A C A G G A A C G T T G G G G C T A G T A C G C G C T A A T T C T A A C G C A T T C G C G T C T C G T C T A A T G T\n",
            "0 0 A G T A A G C T A C G T C T G C T A G T T T A G T G T T T T C C C A C G T C C A A C G G C C T A G A G C G A A T A A A G T A A A A T A A A G A A C T G C T T A T C G A A A G C T C T T C G C G T G A G C T T C G G T C T G T C T T T G G G G T T A A C A C G G A C T G G A G A G G A T T G T G C A C A G T A A T A G T G C T G T G T C A A A A T T T T C G A G T T T T C A T A A A G C T A T T G G C C A A G C A\n",
            "1 1 A A A T C T C G T A G A G C T G A G A G G T T A T G A C C C A T T A G A C G T A T G G T A C T A A T A T C T C T G A T A A G A T G G C C A T G T G A T A A G A C A A A T C T C C G A G A G A T T A T G T C T A A A A A T G A G G A G T A A A G A T A A G C C A T G C A C T T A T C G A C C C A T C C A T A G G T A G A C A C A C C C T C G A T A A T C A A T T C G A T T A A T T C C T A T C G C C A G T G T G T\n",
            "0 0 C A C A A T T T A G T T T T C A A G T T A C T A G G T A T C C A G T G T T T G A A C C C C A C A C T C T C C C G A A C A G A A T A G T T G T G T C G T C A A A T A T G A A G G T G C G T A C A G A G T A C T T A G A G A C A T A G G T T A A G T A A G T A G C C T C A C C A T C C T T G T G T G C T C G T A T G T T C A A T A T C G T T T A G A T G G C G G T T G T G A G T C A T A C T C T G T C G T T G G T G\n",
            "2 2 C T A T T C C C C C T C A C T C G C G A A C A G A T G G T C G G G T G G G G A T G G G C A T A T A C T A T C G A G G G A T G A A A G G G G T T T C G C C G A G A A T G T T T G C A A C T C C T G G A A C T T C C T G G A C C A T C T A G C C A C A G A A T G A A A C A G A T G G C A C A A G A C T G C A A C G T C C A T G C T G A A C A G A T G T T T G C A C C T T G A A T T C A G A C G T C G T A T C G G T C\n",
            "1 1 A G T A G A A A G A A C C T C C C G A A A A T C T C G C T C C C A G G C G T G T A A C T G T C A A T T T T A G C T T G T A A G T A C C C A C A C T T T A G C T A T G A T A C T C G A G C T T T A G T A T T T T A C A A T G T A A T C T T T T T A G A G T C T G C A A A A T G A A G A C A C A T A G C T T G G G G G A T T T G C G C G A T A A G C T T G C A A T G A A A A T C G A A C T T G G G G T C G G C T T T\n",
            "0 0 G T C A C G C C G T T T A C T T T T G A G C T T G A G G T G G A T G A T A C G A G T T C G G A C G T A G G T C T C T G T G G T C C A C C A T T T T C G T G A T T G C C G C T T C T C A G C G C G C C T G C A A T C G G T G T T T T A A A A G G A C A T C A T A T G T T A C C G G G C T G G T A A T A A G A A G T A A A A C A G T A C C G G C G T C C A A C T T T A G A A T G A T T A G C G T C T T C G A T C T G\n",
            "0 0 A A T A A T A G C G T A T A C T A G A C T T G A A T T A G T C G T T A T T G G A T A C C A G G T C A A T C T G T A G G T G G C C C T A C G C T C C T T G G T T C T A C G T A G T T A T G C G T G T T G T A C C G C G T C G T C A C A G G C T T G T C C G G A G A T C A A C T C C C G A C T T A T C A C G G A G A G A A A A G A C T A G G G T C A G C C T C G G C C G A C G G G T T C T C G T T G T G G A G A T C\n",
            "0 0 C C T A G T T T G G A A T C T A T G C G T C A A T G A T G G G T G C T T A A A T G C A C A T G T C G C C G C T G A T C C C A T G G A G A A A C G T A G C C T T C G A T G A G A T A T T A T A T A G T C A C G C A T T C T C C G G T A C T A C T T T G T G T A A T T A G A G T C G G C C C A G A T A G G A C C A C C G G G A G C A A A C A C A A G G T C T C G G T A G C A G G G C A G G T G A C T G C A T G G C A\n",
            "1 1 T A C A C T T A A A G A G A T G T T G A C C G C A G A T A A G G C C C C T G G T C C C G C T G A A A T T T T A T C A A G A A C G G C A A T A C C T G A T T G A T T A C A A G T A A A A T A G T A T A C G T C C T C G T T T A C A C G T A C T A T C T T G T T C T A G A G C A A G A T A A G A T T T C A C T A G T C A C G T T A T T G A G G C T C T C G G A C T C T T G T G C T C C T C T G A G A A G T G T T T A\n",
            "0 0 A G A A G A G G T G C G G T G C A C A A A C C A A A T G A A C C G T G A T C C T G G A G T T T A G A A G T T G A A C T A A C A A T T A A G T T G C A T G A T A T G T T T C T G G T C A C T A G T A C C A C T A C A T T C T G G T A C T C A G T C T A G T T T C C C T G C A A C C A T T T T G A C G G T A A A G T A A A A G G A G G C G C T G T G T C G A C C A G T C T C G T T A A G G T G C T G C A C C G A A G\n",
            "1 3 A C A C G T C A G A T G C G A A A G T G T C A T C G A A A T C A C T C T A C C G A G G A A T A G G C G G A A G G T T C T A C A G A T A A G C T G G G G T C G C A A A T T T T C A T C C G G G C C G A G T A A C T T C G G T G G A T A T G T G A G G C T T C T C G G G A A G A G A A C T C A C T A T G G C G C T T C A T C T C T A C T C T C G A G T A A A G T T C C T G G G T G C C C T T G A G C G C G T T T C A\n",
            "0 0 T C G A A A T G A T T G G C C C G G G A C T C T C G G G C A A G C C A T T T T A G T A T C A C A C A A C G C T C T G A A T G T C A G T C C C C A A C G T A C G T T C A T G A T A T A A G T T T C G T T A C G A T G T T T G C G A C C G G A A T A T T C T A C G A C G A C A G C G A A A A G C C A C G G T T G A A G G A C A C G T A C C T A T A G A G G G T G T C G G T A G C A T G C T T A C A G G C G T G G C G\n",
            "2 2 T C A A G C A T T A C G C C A A C G T C C A G A T G G T A C G T A C A C A T T A T A T A A A G T C G T A A A A T C C A A A T T G T A C T A C T A G G C T G A C A T T A A A A G C G G A T T A C A A G C A T A G C G A A G T A G T T G A G A G A T A C A A T T G T T G A G A T G A G T C C G G C G C T T G C T A A T C G A A A G G A A A G G G G C G A C G A C C G G T A C C A G A T G T T T G A A T A T G T A C A\n",
            "2 2 T C T A T G T C G C C G T T C A C A C T A T A C G T A C A C T C T C G A G T T G G T A G G A T A A T T T T T C A T G T C G C A G T T A A G T A T T A T A A C A G C T A G T C T A G T C C G C A G A A A G A C A A G C C T C A T T T A A T A T C C A A A T T T A C A G A C A G A T G T T C T C G T A C G C A A A A T G A G T A C C C T T A A T G G A G A T T T C T A T G C T T T C C A C T T G G T C C T A T G A A\n",
            "1 1 T G A T G T T A C C A T T T A A T A T T A T T T G C A G A T A A G C C A T G A G C T A G T A C A T C T A A C A C T G A A T G T A C A C T G C C T A C T A T T A C G T T T A A C G G T G A T A A C C T G A C A A T C T T G T C A T G T G T A C G C C C C T A C T G T G A T A C T C C G T T T T G C A T C A T C T T A G G A C T A C T A C C G T C A C A T A C A T T G A A A A G T G A C C C A C T A C T T A A G G C\n",
            "1 1 C C G A C T T A G A A G G T C T C G G A T A A A G A T A A G G T C A C C T T A G T T C A T C A T C A G G A T C A T C A A T C A A A C A T C A G A T A G A T A G A T A A C G C G G C G A G G T A G A A T A C C G C C T A T C C T T C T G A T G A T T T A T G A C G G G A G A T A A G G A A G A T C T A T C G G A C A C C G C G A C C A G A T A A G C A A G G C T C G G C C C A G G A A A G G G G C A T G A G A T G\n",
            "1 0 A A T C A G T T C T C G G C A G A A T T T G A G G T G G C G G G G T T G T T G G T T A T A A T A A T A G G G C A C T C C T C G T A A C A G G G G A A G C C T C T A T C A T A T A A A A C C C A A C T T A C G G A G A T G T A A G T C A G A A G G G C T T A T C T C T C C A T G T C C G G A C T G A C A A T T A G T A T T C A T C G T G T T C A G A A G G A C A T T A T A T T A C T T A T T G G C A G A T A A G G\n",
            "3 3 A T A A T C C T C A T A A C A G A T G G T A G C A C A C A T T C C A C A C T C G A A A G T A C T C C A T G A A T G T C G A G A G G T A C A A C C A C A G A C T T T G G C A A C G C C A G T A G C G G C G A C A A T A C A T T C G C G T G C A C C G C G T G A A C C A T C A G C T T C A G A T A A G A G G G T C T T C C G A G C A C G G A T A T G G T C C T A T A T T G T T G T C A C G A A A A T G A A C C G C A\n",
            "0 0 G G A A T A T G A A C C C A C A G T G T A G A T A G T G T G A A G G A G A T A T G T A C G A C G C G C C C T T G C C A G G G G C G C G C C A T G C A G T A A T A G A G A T G G T C C G C G A T A C G A T A C G C A C G C C T T G C C C C T A T G A C T G C T C T C A C C A A A G A T A C A G T T C C T C A A G T A T A G G C T G A A G A T A A T A G T T C G A T G T A C C C A G C C T A C A G T C T T G C A C A\n",
            "2 2 A C T T G A C G T A C A G A T G G T G A T C A A C A C A T A C C A A A T C C G A T A C A C C C T G T G A T G A A C A C A A T C C A C C T C G T C G T G T A C T A A A C C C A T C T C A A T T T C C T C A T A T T C A A C T A C C T C A T C T G G C C A A G G C G A T T T A G C G C C C G C C C A A C A C T A G C C T C C C T T T T T A C C C G T G C G T G A G A C C G A C C A G A T G T T G C A A G G T C A A G\n",
            "0 0 T G G G A G A G T A A T T A C A G T G G T A G C A C C T A C G C A G C A G A C A A A C G A T G T T T G C G G T G A A G G C A G A A G T C G A T T G T G C T T T G A G C T G G G T T G T A T G C C C A G T A G T G G G A T A G A A G A A A T G A A C T G T C A C C A A G T T T C T A A G C T C C C A A C T A A T T G A G C T G A T T A C C C T T T T A A T G T A T A T T G C T A T G G C G C A G A C T A C T A G C\n",
            "2 2 T G G A C A T T G A G C T C T G A C A C C T G C T C C G A A T A C T C G G T A G C C C G T C A T G T A G A C T G C T A A C A G A T G G T A G G T A T A A A G C A A C T C T G A T T A C T A C T A A T T A A A A T C G C A A G A A G T A C G T C C A G A T C G C C C C A A C C G T A G C G C G C C G T G T T T A A T C C T A A C A G A T G T T C C T A T T A C G C G C T A G T A A G G A A T T T C C A T T A G T C\n",
            "2 2 G A G A T A G C T A G A G C T T T C A G A G C C G C T T A C T G C A A A C A C T G G G T C C A G A T G T T C C T T G G A C G A A C T A C T G A T T A C C A A T T G A C T A A A G A G C A G T C C T T A C A G T C C G C C C A G A A A G C A A A A A C T T G C C G C A C T G A A C A A C G G T A T A A A C G G T A C G A T C G T T A G A G T A T G A A C A G A T G T T C G A A T G A C T T T T T A G A C A A A C A\n",
            "0 2 G C G C T T G T T C A T A G C A C A T C T A G G T G C T T G G G C G A T C C C A C C C A T G T A G A C T C C A G G T C A C A G C C A A G C A C T G T T G G G G C G T T A A A A C T T T A G G A A G A A T G T G G G A G A T T C G C C T A A T G G G T T A A C G C A T G T A A T T G T A C G A G T A G T T T T A T C T C G T T C A T A C A G A T G C T A C A C G T C C G C G C C C A T A C A C C G G A C T C T C C\n",
            "2 2 T T C C G G C A G A T A G T C T G A G A A A C C G A C A G G T G T T G G T T A A C C G A C C C T G T T A C T C A A C A G A T G G T G T C G C T A C T C G G G T T T T A C G G G G C A T C G G T A C T A T G T A A G C C T T C T T A T T G T A T A C A G T T T C G A T G T G C G A C T A A A A A G G T A T T G G C G G T T T T C C T A C T C C T A A T T G T A C C A G A T G G T A T C T C T T A C T A A A A T C T\n",
            "1 1 C C G A G C G C T G A T A A G C G T A G A C A C C G C A T T T A A C G G G A A C A C G T G C C A C A C T G T C T T C A C T A C C T C A A G C C T A A G G A C T A T T T G A A G A C C G A T A A T A T T G C G G T A G G G G C A G A T A A G G C C A T C T T T A A C T T C A A T C A T T T T G T T G G G A T T T T A T C G C G C G T G C A A A A G G C G G A G A T A A G C T A T T C C C T G T A C T T G A G T G G\n",
            "2 2 T G T C T A A C A G A T G G T C C A T G C G T C A G C A T C C T C A A A G C A C T A G T T G C T T C A T C G T T T G A A A A T C C T G G C G A T G C C T G T C G A A A A C C C A C C C C C T T G G T A G A C C A A A C A T C G G C T C T A A A T T A C A C A G G G T T A C G A C T T A A G C A T T C T T C A T A G G G C T T G C C G T G T T C A C G G A T A G G A C G A G G T C G G A T T T C T T A T T A T C T\n",
            "3 3 T A G C A A T A G A A G C G G A T C A G T G C T G A T T A G C A A A A G A T G A T A A G G C T G A G G A A A T C T A T C A C T T G T A A A C A T A C G G T T G T T T A A G C A C T T A C T G A C A T C A A C G T A C C A G A T G G T G A C C C C G G A G A T A A G A G T A C G C G T G C A A C G A A C G A A A C G T G A T A G A G C A G T A C A C A G G T G G T C C G C C A G C G A G C T A G A T T G G T C A A\n",
            "3 3 A G T A G A A A A T C T T C A C A C C G G T T T A A C G C A T A A C T T C A C T A G A G A T A A G C A C C A C G C C A T A T A C G A T G C A G C C G C C A G T T T C T C A T A T C T G A G G A C G T C T A G A C G A C T C A T C C G A T T T G G T G T C C G A C A G A T G G T C C G G G A C C T C T T C A G G G G T A T T T A C T A C T G A G G A A A A T G C G T G A A C A G A T G G T G A C C C A T G C A A T\n",
            "3 3 A A T A T T A T T A T A A A T T C C T C G G T G T A G C A G A T A A G A T T G G G A T A A T G C G C C T A G G G C G T G C A C C T C A A A A A C C T T C T G T G C T T T G A G A T C T G A T G G T T G T G T A G C A C C A C T A T T G A C T T A A A C T C C G T G C G G C T T A G C T G G G A T G G T C G C C A G A T G G T C T T A C G G C T C T G C A C T T A A A C A T G G T T G A C C A G A T G G T A A C G\n",
            "3 3 A C A A T C C C T G A A A C C G T G T A C A T C A C C T A A A A C A T G G G G T T A A C G G G C A A A C A T A G A T A G C T G T G A A C A G A T G G T T T C G G G C A T T T C A T T G T A A C T T G A C T A T T A G A A T A G G G A T A T G T G G T T T A T T G T A A T C C A G A T A A G G G T A C T T T G A G G A A G T C C G G G T A T C T T A A C A A G A T T T T T C A G T T T G A G A T G C A T T C T T A\n",
            "1 1 C G T G T T A C T A G A A C A G A T A A G A C G T A C T C C A C T A C G A G T A A A C A T C C T A A T T T G T G A C T T G C G T G C C A A T C A A G T T A A G T T T G T G G A A T C G T A C C C G T A A A C G A A A G G C C G A A T A G C C T A A G C T T T T T A G T T A T C C G T T C A T A T G T T C A G G A A C T A T T G A T G G T T G T G C C T C T A C T C G C C C T G T C T T A A C T C A A A A A T T C\n",
            "2 2 A C A T C C G A G G G A A T C C T A G A G C T G C G C C G G G C T G A A A T C C G A G T G A C A G A T G T T T C C A T A T T C A C A G T A T A T C C C A A A T A T C C G G A C C A G G G G G T C C A A A T G T G A C C A G A T G G T C A G G G G A G C A T A C C A C G A T G T C G T G A A G C T G C C T G C A T A C A G A T G T T A A G C A C A A T A A A C T T T G A T A G G G A A T T C C G C A G G C C A C T\n",
            "3 3 C A A C C A A C C G G C T G A A C A T A C A C A G A T G G T G C G C T A T T A T C C G T T A G G T C A T C G G A T T T A C C T A T G G C T C A T A T C C A A T A T C G C C C G G C A A T G C A G C T C G T A G T A G C C T A G C G T G G C T T A T T A C T C A T C G C T A A C A T A G T A G C C A A C C A G A T G T C G A T A C G T C G A C A C G T A C T A C A G A T A A G G C C T A G T A T T G T T C A G G G\n",
            "1 1 A C A T T A T C A T T C C A G A C T T G A A G T G A G A C T G C C C C G G A T T T C T A A G T A C T G T G C T G G T A C A G A A G G A A T G A T A A G C A A T C C G A G A T A A G G A T A T C T T C C C T T C G G T T G C T C T T C G G A G A T A A G G C C A C A A A C C C C T C C C A C A C T T A T C G G A C G T C C T T C G A T A C C A C G C A A T G A G T T G A C T T G A G T G G A G T A T C A G A T C C\n",
            "2 2 G G T C G T A A C A A T T G A T A A A T A G T A C G A T C A T A C A A A A A T T C T G T A T T T A A G C A A A C A G A A C A G A T G G T C C G C T G C G A C A T T C C G T C A T C T C A T C A G G T G T C T C A T A T T A C A T G C T A C G C G T C G A G C C T C T C T A C G T G A C C A G T T G A T A A A A G A G G G A G A T C C C T G A T C C C T C G C C C T C A G C G C A C A G A T G G T G G G T G T G T\n",
            "3 1 C T T G A C A A A C A A C C C A A G C C T C A T G C T C G T A A G T A C A G G T G T T C G C T T A A G T A A C A T T C G T A A A G C A G A T A A C G G G C C G T T G T C T A T A T G T T G T C G C A G C T A A C A A C A G G T G T T T A A A A T C T G C C G C A G T T C G C G A A C C A A T A C G T C T G C G C A C T G G C G C T C C C C A A T G A T T A G G T G C A G C A C G T T C A G A T T A G C A A G G T\n",
            "2 2 A C C T T G A A C A G A T G T T C T T A T A A A A T G G T T A A T C A A A C C A A A C T T C C C C T C T C C T A A G G T G C C A A G T C A T T C A T T A A T A T G T A A G A C C G T G G C G T C C G G C G T C A G A T G G T A A G G C C C T C C G T A A A G C G G C A G T T T G C A A G G T C T C T T T A G C A G C C A G C A A T T G C T A G G C G A G C A C T G A T G A T G C C G T C G A T T A T T A T G C T\n",
            "2 2 G T A A A T A A C A C A A G T T A A G C T T A C A T T A G A T T T C T T T A A C A G A T G G T G G A A T T C G T A A T A T T C A T G T G C T A A A C G T T T A A A T C G C T A T C G A T C T C A T A C C T T A G A T A T G A G T A C T A C A A A T G T A C A G T A T A C C T A A T A G C C C A A A G T T T A A A C C T A A T T A T A G A G C T A C T G T T T T T C T T T G T C T A T G A A C T G A C T G C C T C\n",
            "3 3 A G G A G A C A A T C G A A G G A T A C C A A T A T T C G C C T C G T A G A T A A G G T A A A A A C T G C A G A T C T T A C A T T A T T A G T A A A C C C A G A T A A G G C C T T G C T G T A G A G A T A A G G A C G T G C A A G T T G G T C C C G A T T G G G C G C C A C A T A G A A C T G C C A T C T A C T A A G C A T C C G T T C C A G A T G T T C A A C G C C G A G G A G T T C G G G A T C G T T G G T\n",
            "0 0 T A A A T G A C G C G T A T G A A T G C C T T T G C A G T A G G A C A C T T T T A C A A T G A C C A A T T C G A A T G A T A A A T C T C C T C G G T C T T A C A C T G C C C A A A C C A T C C A G G C A T C T A C C T G T A G A A T C G G T T A A G G T A T T A G C G C G A T G T T A C T G T C G G T A G T C A A T T G C C A C A T G T T C G G A C G C C G G T A C G C C A A G C A T G G T G A A C T T C A A T\n",
            "0 0 C A A C A C A C A A A T T T A T A G C G A G A C A A A A T C C T G T G A A A G C G C A G C C A A A A T C G A T G A A T C C A T C C T A T G T A G C C A A C A C C C T T T T T T T C T T G C C A C C G T G A G G A T C G C C A G A A T C C T C A A T A C T T A G C C C A C T T C A A T T A T T T G A T A A A A A G A G A G G T T A T T G G C T T A G C A A T C G A T T T C A T C G A G T A C A G G A G A T C G C A\n",
            "2 2 T C C A A A G T T A G G C T C T G T C C C C C T G T G C C G A A C A G A T G G G C C G T C A A A T T T T T A C T T A C G T T G T G T G A T T A C T G C T T A G A T G C A T A A C G A A C A G A T G G T C G T A G A T A A T A T C T G G T A A T T C G G T A T C G T G A C G T A A C A G A T G T G C G A C C A G A C T G G T G C G G T C A A A T T C G G A A C G G T G T G C G T A A C T T T T C A A G T A A G A A\n",
            "0 0 G A A G G A A C C G A T C A G G G G G A A A A A T G G C C T C G C C G A T G T T T T T G A T G T C G C A T G C C G G A T G A T T G T G A C T T T T C A T G A G G T T G G T G C G T C G G C C T A C C T T G G C C G G A T T T G G C C G T G T T C T T T A T C T G C C C C C T A A A C C C T G T G A T C C C T G G T A T T A T C C C T A A T G C T G A C G C T T C G G T A G T A T G A A C T C A C G C A A C T G C\n",
            "0 0 A A C G T T T A T A G A G A C A A T T A T T T T T C A T A C T C T A G C C T T T T C G C T C G A A C A G T A A G A A T G G T T T C A G T C C A A T A G T T T C G T A A T C T C G C C A A T C G A A C A A T A A G T A G G C A A G T A T C A A G G C T C A C G A A T T G T T C T T T G T A C A T C T T A C C C A A C A A G A G T A T A G T T T T A A G C T C T G C C G G A A G A C A G G A A G T A C T C C G A T A\n",
            "3 3 C T G C C C G C C A G A T G G T T C G T G A A C G T C A A C T G A G T T T A C A G A T T T T C A G G G A C A G A T G T T C G T C G T G A T A G T A G G A A G A T C C T G A C C C G A T T A G G G G T C C G A A G C A A A A T G C T A C G T C A T C T C A C A T C A C A T A C T C C T T G G G C A C C G A G C A T T G G C G A C C A G G T G T T C C C A G A C G T C G A C G T G A T A A G G T C A T C A T C G A C\n",
            "1 1 A A C A C T A C T A A T G G A T G A T T A G G T T A T A C G C T C A G A A T C C T T A A C A A T A T C G G A A A A T C A G T A A T T G G G A T G G G A C C G T C G C G T C T C T T G A G T A T A C T T T G T A G A G A A A C A T T T T T A T A A A A C C C A A C C A G C A G C C A T C C G C G G G T T G C T A G G A A G A A T A C A A C G T C T C T G G C G T T A T C G G G C C G T G T C G T G G G G A A T G A\n",
            "0 0 G T A A T T A C G T C T A T T A G C A T T A T A A A A A G A T T G G A C C G C G G C T C G C C T A G T C A T G A C C A T A G A A A G A G T G T G C T G T A G G C A G G T T T C T C C G A T A A T T C T G A T T T T T C T A T A A C A A G A C C A A A A T T C G T G T C G C T T A C T G T G G T A G G C C T C C G T G A T A G G T A G A A G A A T G A C G C T C C T T A C T C T A C T T A T G G T A G T C A C T C\n",
            "1 1 A C G T C T G T G A G G C G A G A T A A G G C T G A T A G T G G T T G T C C A G C C A C A T T T T C G T T T G C G G A A T C G A G T T T A T G T G A T A A G A T T A T A T A G G C G T T T T T A C G A A A T C T A C C A T C G A C A G G T C A A T T C C A G C G T A G T C T T C C A G T A A G A A G G G T T G G C C G A C A G A C G C C G G G G C G T G A C C T T A G G A C C G A C G T T G A A G C A A G G C T\n",
            "1 1 C G G A A A G C C C C T C T A G A T T G C A G A G A T A A G G C T A A A G A A T C C A T C G G A G C A G A A T C G A A A T A A C T G G C G A A G G T G A T A A G A G A T T G C A C T G A T A A G G T T T G G T T A A G A C G G T A A A C T A C C A T A G T G T T T C A G C A A A G G C T A C A C A A T T C G T G T T T A C G A C G C A C A A A C G A C C G G A A G A G C G A A A T A C C T A A C C T T T G A T G\n",
            "3 3 C C G T T G C A A T C G G A C A G A T G C T G C T A T A C A T G T T G C C G G C C T C G A T A C C T A C C T T T T G A A T A G T A A A T T T T A A C C T G T G T A A A G C T A T C C T G G T C C C A G A A A T T G A T G C T C T T A A G C A G A T A A G A T G G G G C G G A T T A A C T G G C G G T A T T C T A C T G A C T A T T G C C A A G A G A G A C T G G C T A T A A C G A A T C T C A T T T G C C G G A\n",
            "1 1 T C C T T C T G C C G G C G G G A A G T A G C C A C A A G G A A C T G A G A G C T G A T C T T G G A T G G A C T T A T C T A T G T A A C A C C T T T A T T T A A T G T A A G A T A A G A T T A T T T A C C C T C A C G C G C G T T C T G A G T G T A T T T A A G T A C C A G A T T G G A C A A C A A A A C C C A T T A A A G C A G A T A A G G A A C A T C T C C C T C G T G G T A C T T T C C A C A A A T A T T\n",
            "1 1 A T A G T G T C T C C G A A C T C G T C A A T G A G A T G T T G A T A T C G C C C T G T G T T A A T C C T T G A G A T A G G A T A A G G A A T A G A G T C C G G G T T T G G T A G C T G C G G T T T T T T T G C T G A A A G T T C T C A G A T A A G G T C A G T G C T A C A G A G C T G G T G A C C G A A A A A C C A A A T G C T G C C G A T A A G A G T T G T T A A A G T A C T A C T C T C G G A T T T G G G\n",
            "3 3 G C C G A T G A C C G C A G A A C G T C T C A A T G G T T C C C T A A A C T G A T A A G C A G A C C C G C T C T G A T A T T G A T T C G G T A A A C T T C T C T C C A G A T G T C C A C A G T A T G G C C A G A T G T T C A G G C A A G G A G T A T T C T T A C G T G G T C A G A G T C A A T T T G T G C C C C C T A G C C G A G G T A A A A G G C A G C G T A T T T T A G C T C T T A T A T G A G A T A T T G\n",
            "1 1 G G C G A A G G T T C G G C C C G C A C T G A A A C T C G C A G A T A A C C A T C G G G G T T A T C G G T A A A G A A C T C G G G T T A A T T C T C C T C C T T C G C A T G T G G C A A C C T A G G G T C C G C T C T T A C A A T G G T T T T G C C T A G C A G A T T T C C A T T C T T T C A T G G T G A T T T T A T T T C A A A C C A G A T C T T C A T C A A G A T A A G C T G A C A A A T A C G C G C T A G\n",
            "3 3 T T A A G G C T T G A A G G G A C G G C A C G G G G A G A T A A G G T C A T C C C A T A C C T C C C A T A G T A T T C G A G A T A C G G C C C G A C G T G G G A G G G G T A C A G G T T C A C A G A A C A G A T G T T T C C A T C C A C A C G T C G G T A G A A G A T A C G C C A C A C G T C T C G C A A G G T A C A G A T C G C C A T G G G G T A A A A T T G T A T G T C G G C T T C A G A T A T T C A C T G\n",
            "1 1 C G A G T C G G A A A T T A A C A A T G A A G A T A A G G C A T T T G A T T A G G C G A A A A T T A G T C G C T C C G G G G A T T C A A T T C C A T T A T C A T G T A A T C T A C C C C A A G C G A G T A A T A T T C A A A G A T C G T T A A T G A T G C G C T A T C A A C A T T A A C T G T G T G T A C A T G A T A C C G A A C C G C C C C C A A A A T A T G A G C T G C A A A T A C C G T G T C C G C T T C\n",
            "2 2 G C G A G A C T T T T T T C C C G G C G G T T C T G C G T A G G T C C G T T T A T G A G A G C C T A C A G A T G G T A G T C A G G G T T A T A A A G T A A T T G G T A C T A A G G C C T A T A C A C T T C C A A C G A T A T T C C C A T T T T T T C A A G G G A C A C T T C T A C G T T T G G T G C T T C C T T G T T T A C A C G G G C C A A T T C A T A T G G T C G A C G C G T C A G C G T A G G C G G T A G\n",
            "0 0 A T G C G T T A G A A C T G G C G G A C A C T C T A C T T C C T C G G C C G C C A G A G A A A T C G G G T T A T C T T T G A C A A T A G T T C A T C T C T A C C A G A C A G G G A A A T G A C A C G A A C C A C G C G A A G A G T G T C A T G T G C G A C T T A A A A G G A C C G T A G A A C A G T A T G T C C T G A T G T C G G A C T A A A A C C C T T G A C C G T C A A A G A A A C A G A G C T C A A C A A\n",
            "3 1 G A T A C G T C A A G G A G C T C A C A C A C C G G T T G T C A A T A A C G C G C C C A A A G A G T G A A G G A G A T A A G G G G T A G T G A G T G C T A A T T C C A C C T A G C G A C T C C T T A A G A T T A G C A T T T G T G A A A C C T A C C G T C T G C T C A T A C G G T G A A A C G T A G A A G G C T G A G C A G C G C C A T T C G A C G G A A C A G C T G T T T T A G A C C A T A A G A C T A T T C\n",
            "2 2 G G C A T C C T T G T C A A G C A G T A G G A C G G T G G A T T A C A C T C C A C C G G G C A G A A C A G A T G G G C C T T C G T C C G C T C G T C C T C C G A C C C A G G T T C C T A T T A G T A A T T A T G A G T A C T C C A G G G G A A T G T C T C G T A A T T T G T A C A G C A A A T G T C A G G T C G C G G A G T T C A A A T C A T G A G C A G G A A C G G C C T C A A G C C C A G G A G T G T G C A\n",
            "2 2 T T C A T T C C G C A T A C A T T A G G T C T A A A T T A C G T A C G A T A G C G T T A T C T T C A C G A C A A G T T C G T A A C A G A T G G T G T G A T C T C T G A C G C T A C C A G A C C G G T G G A T T C C G A A G T C G A C G G C T T T A T G T G T T C A G T T G C A G T T C G A G T G G G A T T T C T C A T A T A A A T G A C C T G C G G C A A A T A G T G G C A G T C G T T A A A G C A T G A T G C\n",
            "0 0 G C T T C G A T T T A T A C A A T A T G G T T A C T C T T G G C A G T C G G A G A C C C G T A T T C T T T G C T A C G T T C T C T C C A T C C A A A C G G A G T A T G T G T T C T T T G G A T A G C C C A A G T G A T A G A T C A C G A A A A A T C C T C G T T A T T A C A C G C C A C G T C A C G G C T C C G T A A G G C T G T C G T A G C G C T C G T T G A T A T T A T A C T T G T C A G C C G G T G T T C\n",
            "2 2 C T A A G G G C G A A C A G A T G G T C G T A C G C A A T T A C A G A G T T C T A G T G G A G C C G C T C G T G T C A A G T G A G T G T A G C A C A A T G C G C C T T G T A G G A G G G C A A C G T G T G C T A A T C A C T A G C C T G A C C C T C C A G A T G T T C G T A T T A T C A T A A C G T G C A A T G A G T A G A C T A T C T T T A A A A T T G C G A C T A A G C T C G G G T C C T C T T A G C T G T\n",
            "0 0 T C A T A A T C T C C T A T C G A T T G T C A C A T A C C G G C C A T C C G T T G T T A T G C C T A A G A A C T G G A C G C A G T C A C T G A G G T A T C A C G A T A C C A G G T C T A A A A A A G T A A C T A A T G A C A T C A G C G A T T G A A T A A G G C A A T G A A A C A C G G G C T C T G C A G A C C A C C G G C C G T G T T A A T C C C A C A C A T T C A C A A T C T G A G G C A C C C A G A T A G\n",
            "0 0 G T T G T C G C A C T C C A G G A G G A T T A C A A A T A T C T T T G T A G G G C T A T T A G A T T G G C A A A C A G G G A T T G G T G T A T T C C T G C A G G T T A T A T C G C G T T T A A G C G G T T A C T G T T A G T C A A C G T A C T T C T G C T C T T G C G A T G G C A A A T G C A T A C G A C T T G T C G C A C A C G C G T A T A T G T C C A A G C T A A A A T T A T C A T G T C A G A G G A T A G\n",
            "0 0 C G C C T A A G G G T A T T T A G T C T C T A C T A C A G T C T A C A G G C T T C G A A C G G C C C G C C C T T C A A C G T A T T C C T A T T T C C T C G G G T G T T G T G A C C C C C G G T C T G G T G C T A A A C T A T T C A T G T T T T A A G A A A G G C A T A G A A A A T A A G G G A T T G G G G G C A A G G T A T C A G C T C T C A C T A T C C A G G A C T T C A A A A C C T G A A A T T A T C G C C\n",
            "1 1 A A C A A A A A C A T C A A T T T G C A C C A G T T G T A G T T G A C G G C C G C G A T C A A A C A T T T C A A C T A T C G A C G G C G T G A T A A G G G T A A T G C A C G A A A T T G C T G G C A G A T A A G C C C T A A T T C A G G C A G T G G A A G G G G C G T C T T T C C G A C C G C A A T T T A A C T C T T T G G T T T G A G A G C A A T C T G A G T T T A A G C A C C A C T G A T T T C A C G T C T\n",
            "0 0 T C T G T T A T T G C A T G T G A A G C G T A T C A A C C T C C A G G T T G T C T G A A A A A A T A C G T T T C T T A A G C A G A G T G A G T T T C T C A A T A G G G G T G C C C C T C T A T T G C C T A G T T A T G G T G A C T G C T T T C T C G G G A C C G A C C C C A T G A A C T A A T G T C T A C C T A C T T A T A A G T C T G A G G A C C C T A A A A G A C G C T G C G T C T A T G G C A C C T T C A\n",
            "0 0 A T C T T A C G A T C C C T A G T C A C T T A T T C T T G G C A G T A T G T A C C C A C G C A A A A C A T A A C A C C A A T A T T T A A T C C A A T T T C T A C G T C T G A A C A T T C A A T A C G A A C C C A G C A T G C C G T C C T G G A T G T C C T G G T T A C C T A A G A G A T G A C A T G A C G C T A A T T A A A G A A C A A G G G T A A G G T C G T G T G G T T A G T T T A G A A A A T T G T T C G\n",
            "1 1 C G T A G A C A T T G G G G C T T T A T A A G A G A T A A G C T T G C C A C T G T T T T G T G T A A C A C C T G A G G T T G C A G G A A A G A C A G A T A C G C C G A A T C T A T A T C A A C G G A G G G T G T G G A G A C C A A C A A G A G A C C C T G A C A T C A G A T A A G G A C A G G G T T T G T G T T G A A T G A A C C C A A T T C A C T G G T T G T C A T G G A T G G A C A C C T C G T G G G A T T\n",
            "2 3 A G A G T C A T T T T A A T T C T T C C C T T T T G G G T C T C T A T A A A C A G C G T T G A T A T A A T G C T C A G A T A A G T G A G G G C T T T T G C T T T T C T T C T A G A T T C A C T A A T C T C T A T A A G C G G C G T T G G C C A T C C G T A A A A G A T T G A G T T C C C A G A T G G T G T T T G C T A T G C C G T T G A G G A G C A T A A G A G A T C A A G T G C C T T T C A G T C T T T T A A\n",
            "0 0 C T T C G T A G C T T G T A T G A T G G A G T T C A T A G G C C G T T G C G C T G G A T T T C T C C T C A A A A T T A C G A T G G A A C G A A C G G A A C T A G T C A A T A G A T G G T A C C G C T T A G A A T T T T C G T G T G G G G C C T T G T G C C C T C T G G A C G G C A G C T G T C T T A A G G G A T A A A G T T G G G T T A C T G A G T C T A T G G A T A C T T C A T A C T T C A C C T C A C G G C\n",
            "3 1 A G T T T C T C C C C T G C C C G G A C A G G T G T C C G G G T T C C G T T T G G A T A A T T C C G C C A T G C G T A A A A C C G A G T A C A A A A T T G T C T T A T T G T T C T G T A A C G C C C A A A C G T G A A A G A T T A G A G G G C C C C A A T T C G T T T G T G T G A T A A T T A A T G A T G A C G C A A C C A T C G C G G C G G C A A G C T C T C A G G G G T G A A A T C G G A G T T C A G G G G\n",
            "2 2 T G C G A C G G C C A G A T G G C C A T C T G G G A G T T A T A G C A A C A A A C G C G A T T G T A C T T C T G T T T T G A G G T T C C G G C A G T T T C A A C A G A T G G C C T G C T G A A C A G A T G G T C G G T A G G A G C T T C G T G T G A C A T G A T C T A G T G G C T C A G T G C G T T T C T C C C G T A C A T G C A T T T C T G A C C C C A A A C A T C G C A A T G T G A T G G A A T C A G C T T\n",
            "1 1 C G G C G T T A T T A A T A G A T C A C T T T C C A C G T C A C G C G A C G C A A A A A A T T G C A T C G G T A T T T C G C G C C A G T T C A T T G A C C C A G G A G T T G T G C G G G T A T T A A G G G G T A C T G A T A A G A G T A T G A C A G A A C G G G A T C A T T A T A T G T C A G A G C T T T T T T G C T A A A A C G A A T C A T A C G A A C A A A C G G T T A C T T A T A G G T G A G A T A G T G\n",
            "0 0 G T C T A G T C A T A G C T T A T G G C C A T G C G C C T G T G G C G C G T A T G A A G G G A A A G G G C A G A A C T G C T A C T T A T C T A C T T C A C G T T C T G A C A T T G A G C T C A T T G T A G T G T A T G G A T T G T C T C T T T C A G G T G G A G G T C C A A G C T G A G T T T A A A G G C C G T T G G T T T A C T C A A G C G C G A C T G C G G G T A C G G A G T C G T G T A T T G A G C A C A\n",
            "2 2 T G C T C G G A T G A G G T G G C T G G T G T T A C C T A C T A A T T A C G T A A G T C G G A A C A G G T G T T C C A A C C C T G C T T T T A A C A C T G C G C G C T T C C G G G T A G T C G A A A T C T C T T A G A T C T A A A G T C T A T T T C A A A T C C T A A T G C T A T T C C T C C T A C C A G A T G G T C A G T A T A A G A C A C G T T A A C T G A T G C T C G T T A G A G C G C G C A C A T A C T\n",
            "1 1 A A G A A T A T A T A T T T C G T T A G G G T G A G A C C C C C A G C T C T C A A G T G C A T G A C A A A C C A T G G T C G G G T G G A G G A G C T G C C C T A C C A C G T G C C G A T A A G A T T C G C A C T A G C A G A T A A G C T T C T T C G G G G G A G A T C G C A A G A A G A T T A T A G A T A A G C C T G C C G T G C T A G T T G C T A C C T T G A A G G T T A T G C G T G G T A T A G G C A C G T\n",
            "2 0 A A C T G T T A G T C T A T T A C G A G C A G C G T A T G C T C G G G C A T G T C A T G C A C G A A T C T G T A A T C A T G G T A T G A T A A C T A T A C A A G G C C G A C G T A T T A T G G A G C G C G T C T C G A G G T A C A G C C T A T C G G G G C C A G C T G G G T A C C C T A A T T T T T T T C G A A T A G C A A A C T T A A A G C C C T A C A T G T G G A C G A A T C A G G T G G C C T A C T A A C\n",
            "3 3 A A T G T C T T T G T C G A A C T C G T T A C C G C T T G G G A T T A G G C C T G A T A T A A A T A G A C T T C G G C C T T T T C G G A T A C A G A T G T T G T C G A C T G A T C T T C G A A A T C T G T T G C G A T C G C T A A C A T T A G A C A G T A T G G A G A T A A G G T A C C C A G A T A A G C G C A A T A T C C T G C T A A C T C T T G T C G C G C G T C A C T T C A C G T A G A G T A A T G A C G\n",
            "2 2 A C C G C T T C T T A G C A T C C C T T A T A T C G T T T C A T T A G C A T C G G A G G C C C A T A A C C G C G C A C C G G T G C T A A A T C G A T A G C T A A A T T T A C G A A A A C C C G A T A A C A T C C A A A C C G A T G A C A T A A A C T T A T T A T T C C G G A A G C A G A A C C G A G C C A T T C T G A G T T A G C C G T A G A C T C T C T A G T A T C A G A T G T T T G T A G G A C A T G A A A\n",
            "0 0 A A A C C C A T T T A G A T G G A T G T G T T G G A G C G A T G T T C C A T A A T A G T G C T A G T G A C C T A T A G A C C A C A A C G T T T T G A A T A C G A T T A C T A G T A T C G T C G T A C T A G A A C G T G A T A A A A A T T A A G C T A T G C G T T A T A T A A A G G C G A T T T T C G A G G G G T G C C C A C G G T T C T A G G A A G G C C A C T C T A C T C C G T A C G G T G G A T C A A T G G\n",
            "0 0 A A A T G T C T T G C A C A C A T C C G T A A C G C T G C T A A G C A G A C C G A G A A C T A C C A A A A A G G T C G C G A C G A A A T T C T A C C A T C A C T G G A A C G C T T A T A C G C A G A C C C T A G C G T T T A T T C A A A T G A C A A T G A G C T C T A A C T A T C C C C T T C T A C T A G A G A C G C A A G A T C G A C C T G G T A G T T T T A T A T A A A A G T T G G A A A G A A T T A G C T\n",
            "3 3 C C A G A C G G C A T T T G C T T T G G G T G C G G G T G G T T T A A T A C T A T A G G A A T A T T G C C C A T C A G A G C G C T A A A C T T A C C A T T T G C A C A G A T G G T C G C A G C G T T G C A G T T A G C T T T G A A T C T C T A G C T C T C T T G T T T G T G C A G T A C C A C G G C T T C C A C T G G G T C T G G A A T A C G C A A C A G A T G G T C G G G C C G A T C G A G A T A A G G C T C\n",
            "2 2 G T A C T T A T T A C G G G T G C A C G C T C A A C T T A T C C A G C A A T T G T C G A A G A A T C G A T T G G A C T T A T G C A T T T A G T G T A C A T A A G C A G G A C G G A A T T G G T C G T G T T A G A C A A C C C T C T G T C G A A C A G A T G G T C G G C T C A G C G G A G G T T T A G G G T G G C C T C T A T C T G T A C G G C T G T A C A A T G A T A C T A G T G T C A A C C T C G G C G C G T\n",
            "0 0 A A C C G C C G A C G C A A G C T A A C T G T A A G G T T G C T C C C C C A A C T T T C A G G T A T A T A G A G G G A C A A G A G G T C C C T T A A T A A A T A G C T T G A T A G C C G A A G A G T G A T G T A T A A C T G C T T A A G T C G G G T C A A A T C G A T C G T T C A T G G G T A G C A G A T A C A G T A C C G C C C G C C G C G T G T A C G G C C C T A C A G T T C G A T G A T G C C T G G C C A\n",
            "1 1 A G T A A C T C T A G T A A T C G T A G G A C C T C A G G G A C T A G A A A G C T G A G T G C A C A G A T A A G C C C G T C G C T A C C G C G T T T T G A T T C A T C A C T C T G A C C C G A C T C C G C G A A G G A A G A T C G C C T T G A T C T G T A A G T C C A G T C A T A G C A G A T A A G A A C G A C A C T A C A T G G C G T A C T T C C A T C C C T T G A G A G T C T A C A A G C G T A T A C A G G\n",
            "1 3 G C T T A C C A G G T G A T A G G G T A C G T C A T G G C T T A T G C C A C T C C A C A G G A G A G T A A G A G T C G T G G T C G C T A A T G T C A T C G A A G G A T G A C G A T A A G G C T A C A G A T G C C T T C C T C C G G T C C C G A G T C A G A T T C A G A T T A G C C A G G C C C C A G A A G A G T T T T G T A A G A A G C A T A G T C A T G A C C T G C C T G T A C G C A T A C A G A G T T C G C\n",
            "1 1 G C A G A T T A G C A G G T T C G A C C A C A A A T G C G T T A C A T T A A G A A C C T T T T G T A A G T C G A A A A C T T C A A C T C A T C A A A C T G A A G A A A G T A C A T A A C T A A A A C G A A G T A G A T A C T C T G A T G C C G G A T T G A T G T A T G A G A T T C A C C C T A A C A T C C C G C C C A C G T T G A T G G C T C C A G A T T A G G A G A G A T A A G A T A G T G T A G T T C C C G\n",
            "3 3 G C C G T T G T A G A A G A G G G G A A A G C A C T T A A G C C A G A T A A G C T T G G A A C G T A C A G A T G T T A T C C G C G A C A G A T G T T C A C T A A G A A C A G C C G C T C A C T T T T T A A G C G A A A T T T A T G A G G T A C T A A A C T A T G A A A A C A T T C G C T C A A C T C T G A T G C C C A C A A G C G G A G A G A T A A G G T T C A G C A A C G A G A C A T C C C T A A G G C T A G\n",
            "0 0 A C G A A C T T T C T G G A G A A G C C A A C G A T A G G A C A T C A C A T G G G G T T C T A C G C G G T T T G A G G T G T G A T G G A C C T G T A G C C C T T G G G G A T A A T T T A C A A C A G G T T A C C T C A T C A T C C A T A T T A A C A T G A G A G C T C C C T T C A T A C C A A G A A T T C C T C A G A G T C G G T C C A A A A T T T A C T C A T C A A C T T G T C C G T T T A C G T T C T G C G\n",
            "0 0 T A C G T A G A C T T C C A T G A T C T T A A A G T C T G T C G A A C C A T T A C C T T G G G G A A T A T T A A T T T G A G A C G C A C T C A C C T T A C C A T T A T A T G A A A T G C T C C T A T T T A G T A A G C T C C C T T A C C A T A T C T A T T G A G C T G T T G A C A C G C T G G A C A A G C A G A C T A G T T C T G C A A C A T C G G A C C C A T C T G C T C T T A C T C C A G T A G T T C C G A\n",
            "0 0 A C T T G A T T C C C G T C C T T A G T C C T C A T T T C T A A G G T A A T C A G G G T A C T T A G C A G A A G A T T C A C G G T A C C A A G A A A A C G C C A T T G T C A C A C C T G G G T A T A A A T C A T C T A A A A T C C C T G C C C T G A C C C G C G T A T G G G G G A T T T C G C A G A C T G C G C A G G C C A G A C C G T C T T A C T T A A T A A G A A C G A C T T T A A G C A T A C A A C A G T\n",
            "2 2 G T A T C C T A C A G T C A T T A T A A C A T C G T A A A G C C C A G T G C C T T A G G A G C G C G T A A T A C A A T T T G G T C T A C A T G T T T G C T C C A A T G G C G A C G C T A T T A T C A G C A T G C T T A A G T C A T G G A T T T T A G G G G C G G G T C G C G A A C A G A T G T C C A T C A G G A G T A G G T G T C C C A T C A A A A G A A T T A A A T C A C C G A A G C C G A G T G A C C A G A\n",
            "0 0 C C G A C A T A G A G C A T C G T A A A T A A A C A A T C C A T T T T C G C C T G A A T T T T T T G T A C C A C G C A C A C A G A T C G G G T A A C A A T T T G G A A G G T G C C G A G C G G G A T G C G G T A A A T G A A T G A G A C A A A T C C A A T T T A C G G T A G C C A T T T C A A A T A A A G C C T T G C A G G C C C A T A G C A G T A C C C C C C C G T A T G T A G G A A C T C G C A A A T T T T\n",
            "2 2 G G C G C T G G C C G T G A G G G G C A T T G C A A G A G T C T T G A C A T G A A T G C C G G A C C C G G C A G A T G G T C G A G A A C G T A C G T T T G C A G T A T T A G A G C G A C T C C C A G A G T G C C G G A A T G C G T C T T C A C A G A T T C C C C C C C G A G C T C G C G A T G A T A A C C C T C T G G T T T A T C T T T T T G G A C T T C A C A T T T A C A C A A G G G C A T T G T G T A G A C\n",
            "2 2 T C T A A C G T C A T A G A G A G C A A A C G A G G C A G T C C A G A T G T T T T T A G C C T T T T A A C T G A C C A G A T G G T C G T C T A A A G A T A T C G G A A T A C G G A C A G T T G T T C A G G G G T A A T C T T A T T A A C A C G G A T G A T G G A T A C A C G T A A T T T T T T G C T G A A G T C G A C G G T T T T C C G T T C C G G A C T G C T G G C A T T C T T A C A T G C G C A A T A C T T\n",
            "2 2 T G G G G A G A G A T C T G A A G G A G T T A T T T A A C T G G G T T G T C T G G A T C G C A C T A C T C T T A T C A A T T C G A T G G C T A C C G C C A G G G G T A A A C G C C T G G A G T C A A G C T C G G T A C G G A A C A G A T G G T C A G A A T G C T A G C T A T T G T A T C C C T C C G G G C G A G A G C C A C C T G T C T A A C T A C T G G A G C C C A T G T G C A C C C C A G T C C G G T C C A\n",
            "1 1 G A T G G C T G G T T C C G G C C A G A T A A G G G T T A T C C G T C G C G G C C C G A G T T T T A G T A T C A G G T A T A T G C A A T G G C G T A G A G G C T G G G C G T G T T G C A C T A G T A G A G T G G G T T G G C T C C A T A T C G C A G G T T C C T T G C G G T C A C A G G A A A A A G C G C G A A T C T T T T C C A A C A A C C G T C G T C G G A T G T C G T A C T C G C A G A A A T G G C A A T\n",
            "1 1 G G A C G T T T T A T G T C G T C A T G G C C A T G A A T A C A A C T T C A G C A C G A T G A A T A C A G T G T T C T A G C G T A T A T A G A T A A G G C C G T T A G A T G A C C A G C C G C A G A T C A C C A T G C A C A C G T C A T G A C G C C A G C A C A G C G T T A C A A A C G A G A T T A A A G C C T G G A T G T C G A T T T T G T C G A A G G G C T A C T C G C T A G G A A T G T C G G C A G T T G\n",
            "1 1 T T T G C G G G A T G A T A A G A T A C G C T A A T T C C T A G T A G A C C G T G A A T C A G T A C C A C C A T G A A C A T C A T A G A G T C G G T T G G A C C A T C G G C G C A A A G G A T C C C T A T G C A C G A G A G C G A G A T A A G G A A G T A A C A A G T T C G T A G T C T T C G T A C T C A C G C A G A A T C C A T A C C G A A A A G G A T A C G A T G C T C T G A T A G T G C T C T T G C C A C\n",
            "3 3 A A A A G A G A T G A A G A T A A G A A G G T T A C C A G A T G G T C A T A A A T A C G G A G A T C G T T G A T A G C G A T C T G C C T G T C G A T A A G A A G T A A G C G T C T A G G A T A C G G T T C T G T T C T C C G C C T G C T A G A A C C G T A T A C A A A A G A T A A G C G A G C C A A C G C T G A T G T C C A T T T G T A A T A T C C T C G A A A G C C T C C A T G A G A T A C A A A A A A A T T\n",
            "2 2 A G G A C C T G C C A G A T G G T G A C T C C G C A G C T A A G C C A T C T G A G T T G A C A C G A C A A C A G T T G G T G A G A A C A G C C T T T T G A G A C G A G A C A A G A T G A A C C A C A T G A G G A T A T A G C A A G G C A T T T C C G C T A T T C T A A T C G C T A C A A C C T A T G T A T C T T C T G G C G C C A A C T C C T T G C A C G A C G C A T A G A A C A T A C C T A T T A A T C T A C\n",
            "1 1 C G G C G A C T T T G T T A C C G G A G G T T A C G G T C A C A A T T A A T C G C A C A T G A A A T A A C A T T G T A G C C T G C C A G T C A C C T G C C C G A G A C A T A C C T A T A T C G G C G C G C C C T G A A A A T A G G A T T A A C G C A G A T A A G A C C A T T T A G G A A A G C T A A A A C A A A T G A C C C T G A T G T A A C A T G T A G A T T G C C T C T C T C T G G G T A A T G A A G A C G\n",
            "3 1 C G T A T G G A C T T A G C A T G A G G T G A A C T G C T T A A C T A A T C G C G T A C G C C G A T G G C C T A A T G T A C G T G G T C A G G T A G A G A T A A G G G G A G T G T C A C C C A G G T G T T C G C A A T G C T A A T A A C T A G G T A C G T C T A T G A C C T C G A A C T A C G A T G A T C T C T T G A A T A T C G C C G A C T A C A T A G C A A T A C T G T T A G A G C A G C A A A T C G A A G\n",
            "0 0 C C A G G C T T G A G A T G T G G G T A T T C G G A C C G T A G A C C A G T T T C A A G A G T G C T T G C T T T T G C T G T A A G G A T A A T T A C C G T T C A A T C T A C G T A A C C G A G C T A C G G G T A C C G G T G T A A C G G T T G T T C T C C G C C A A G C G G A A G T T C G G C A T C T A G A G T A A G C C T G A A T A A A T T C C G C A A A G A A C G T G G T A T T A G A T G G G A A G A C G T\n",
            "0 0 A C G C T G C T T G T T A A T G T A A A G A G C T T C C C C A G G A T T G T G G A G T G A G A A A T C G G T T A C A A G C T G A A A C T G A G C A C A G G C A A C T T T G T G A T C A A T T G G C A T T G G A T T A A C G C G A T C T T G A G G G G G A T A A C C A T A T T C A C T G G T G G T A C T T G C A A T A T T T G C A A G T G G C C T T T T A G C G T A G C G C A A T T A G T T T G G A A A A C A G A\n",
            "1 1 G A T G G C G G C T T A A T C G A A A C A A T G C C C T G A A T G C A C A T T G A G C G A G T C C G C G T G C A T C A A G C T C G A C G T A A A G C A A G T T T A C T A C C T A C A A G A A G T A A C T G G C A A C C T T A C G G T T C T T G A A T C A C T C C A C T G A G A G A T A A G G A A A C C A A C A T G T T G T T T T T C C G A G T T T T A G A C C A G A C C A G C A C A T G C G C A T C G A G A A G\n",
            "1 1 A A G A G G A C A A G C A G C C A A T G G A A T C A A A T A T T G C T G A T A A G G T G A T G C C C C A A G G G C C A C A T G A G G T G C C A G C T C G C C A T G G G A G T C A G A A G A A T G T T G A A G A A G G A G A A C A A G A C G G G G T C C C G A G G G C G G A C G C G C G G C G G A A G G T T G A C A G G T G G A G G A A T G G T G A G C T A T T G C T C T T A A C G A G T G G G C C A T C G T A T\n",
            "0 0 C G A C T A T A G G A A C G G T G A T A T A A T A T T C A C G C G A T G C T G T C C A A T A G C C T T T A T C T T G T A A G G T C T A C A G T A C A A T G A G A A A T G A A T C G A G G C G T T C C A T G A T T T C A C G G G A A A A G A A A T G C G T A C A A A C T C G A C A A T A C C T C T A C T C T C C C T A A T C A A G A T G A C G T G C C G G A G G C T C A G A C G A T T T T G T T T A G T C A A A T\n",
            "0 3 C T C A C G C C T A T C G A G C T T C C G C A G G G T G G A G G T A A T A T C G G C T T G T A C A C T C A G G A C T T A G C A T T C C G A T T A G G G A G A G T T T T A G C G G C G T A C A G A T G T A G A G C A C C C T A C T C C A G A C A G G T G T C C G T A C T C C A T G T T T A T G C C A G C G C G G A C A T G C G T C A A C A A C C A A C G C T C T A G G C C A T A C C G A A A C C T C T G C A T A A\n",
            "0 0 C C A T G G G A A C T A G A G A G A C T G A G T T A C C G G T T C G G G T T C T G T T C A C T C T T A T A A A G T T C C C A A C C A A T T A A G G G T A T G G G G C A C G G T G G A G A T G T C A A T A A A G A C T T T C G T A G T G C A T C T G C A A A A G A A A A T T T G C C G A A A C G G T T A A C G C C G C T G T A G G C C A A T A G G C G T T A T A C T C A C C T G T C T A A A T C A T G A G G G T C\n",
            "0 0 A C G G C G T C G C T G A T T T T G C G A T T A T C G G T C C C T A T C C C G C G G G G G T T T C T T T G G T A A T A C G G A T T A A A G G A G C G C T A A A C C A T T G T A T G T T T T G T C A C C G T C G T C A A T C T T A T T C T C T T G G A T A G A T G G C C G G T T G A T T A T C A C T T G T A T G G G A T A T T T G A C G C A G T C G C A G G A T T C G A A G A A T G A G A T T C C A T A C A A C C\n",
            "2 2 A G A G C C G C A A T C C T C C C A C C A G A T G G T C G G T A T T G C T A T A A A G A G T T T A T C T G G A A T C G T A T C G T G G A C A C G T G C T T C G C G C A T T A C A G A A C T C G T A G G A C G A G G C T T G C A G G T T T G C C G T T C T C G T T T T C G C T G A A G C G T C C G G A G T G A C G A T C G T A A A A A A T A T A G A T T A A T A A T C A G A T G G T C G G T C G T T G C C C T G G\n",
            "3 0 A T A A C C A T A T T A G C T T G C G T A T T G C C A G A C T A G G A C T T C G T C C A T A G C G C A A A A C C G G A A G A G C A T C A T T T A T A C A A A T G A C G T C G T A A C C G G A T T G G A G G A T T A A C T C A T G A A T C G G C G A T A A C A T C T T C G C A C T A A G T T A C A G T C C A T C T G G A A A A A C A A T A A G T G T C T C A A C C A G G T G T T A T T C A T A A C C A G A T A G T\n",
            "0 0 T G C T T T C C A A G T A C T G C T C A C G G C C A A A C T T G A A C A T G G A A G T T T C T T G A C A C T T A T G T A A T A C G C A C C A C A A C T A C C G A C C C T G T T A T C G T G A G T T C T T T C G T T T G A C C G A C C A G G T G T C A T A A T G G C T A C G C G C A G C A G A T A A A C A A A G C A G G A T G T G T T G A A T C T G T G T G C G G T A G T A G T T T C A C C G T C G G T G G A A G\n",
            "3 3 A T T C T A A C C C A G A A G G T G T A A C C G G G T C A A C A G A T G G T C G C A A G C G A T G A A G T A G G A T G A A G T C T T A A A A A A A G T T G A A T A C A A A G A A A A T T T T A A C T T T A A C T A T T C C T C A A T T A C T T T G A A A A G C G T T G A G A T A G G G C T A G G C C A C C G G A C T G C T C T G A G A T A A G G G A T T G G A G G T A T A C G T A C A A C G G A C G A C A G A T\n",
            "1 1 A G G T A G A T A A G G A A A T C A C C C G G A C T T A T A T C T T T G A C T T G C G T A A C T C A A A C C A C T A T T G A C C G C G G A G G T T A C G T G T G A T A A G G A T A A A T A G T A G T C G A A C C T C T C A C T A C C C T A T A A C T C A T C T T A C G G G A C A G A T T A G C A A C G C T G T T A T A C G A A C G G G T C T C C T T T C A A G A A G T C A T A T T G A G T C T A T G T C C G A A\n",
            "1 1 C G A C C T G T A C A C C A G A T T A G A A C A G A T A C A A A A C C C G T T T C G A T C A A G T T T T A A G G T T G G A G T T C C G T T C A C G G C C G A T A A G T T G T T G G A G T G C G T T T T A G C A A C T G A G C A T A G G G A A A A A G C A C C C G A G T G G A G A T A A G A G A A G C C T T A C C C A A T C T C T A A C A A T T A T C T G T G A A G G A C C G G A T A G G T G T T A T G G T A C C\n",
            "1 1 G C T T C T C T G C C A A G C T C G G A C T A C G A A G A G G C T G G A T T G G A T T T G G G G G C C A A G C T A A T T A A G T A A A G G A G T T A T A G G G A C G C G G T A A A G G A A A T C A G T G G C G A A C T C A G T A A A T G A C A G A T A A G G C C T A C T G A G A A T A A A T C C C T T G C A T A A C G T T C C C A T C C T C T C C C A A C G A C G C T A A T T C T G A G T C G T C A C A C A A A\n",
            "3 3 C A G A C G C T C G A G G A C A T G T T T G G G G A C G T C C A C C T C A G T T T T T G A G A T A A G A G C A C C C C G C C T C A A T G G C G A T T C G G T T C G A A A T G A G A G A T A A G A T C C A C G T T C C A C A T T T G C C T C G T C A G G G A T C T C C T A A C A G A T G G T C A T T T C G A A C A G A T G T T A C C T G T T G T C C C A T T T G G A C G C T A A T G T A G A C A G A T A G A T G C\n",
            "3 3 G T G A A G T A T C A T C T T C G C A T T A A G A A G A T A A G C A C A T A G G G T T T C G G A G A T T A A C G G C A G C C G A A G A C A G A G A T A A G G A C T T C T G T C C A A T C A A G C C A C T G G G G A G A G C T A C C A G A T G T T C C T T C A T A A A T T T T G G A G A T T A T G C A G C C A G C C T C A T A T T A C G C A A G T T A A C A G A T G T T C A C C G C G T G A A T C T C T G A G C T\n",
            "0 0 A T T A A G A G T C T A C G T G T C G G A T G T T G C T A A G G G C G A T G T A G A G G T C G C G A T T T C A A T C C C T G C A A G A T C G G G T A A C A C A T T A C A C A C A A T A C G A T C C C T G C A G A G C A C G G G G G C T A C G T C G G A C T A T A G A C T C T G G A A C G T T T A A A C T C A A A G A T G T C A G C T G G G G A T G G G A G G C A T A G T T G C G T T C A C G C G T A A C A C A T\n",
            "1 1 T C C A T T T C G T A T A A T A T A T A C A T G T A T A A T A A A G C G G T A G G A T G C G C A A C G A T C G A G T C G A G A A A G G T A C T T T C G T T T C C G T T G G A G T G T A A G G A C T A C C A T A T A C C A G G C A C C G A G A G A G A G A T A A G A G T A G T T C C G T C T A G G G A G C A G A A T T C G T A G G C T T G A T T T C T G T A G G G A A T A C T G T G T T T A T C T A T G T G A G C\n",
            "2 2 T T A G T T G G A G C A G C G C T T G G T A A T C A A T G A G G G C T A G C T C G G G G A A T T T A T G A C C T A T C T G T C T C T A A T G T G G T A C C A G G T A C G C G A C G T T G C C G A T T A C G C A A A G T C C T C T A A C C T C C C T G A A C A G A T G G T G G A C T C G T G G A C C G T T A G A A G C T T A G A G G A G C A C A A T G T C T G A C T T C A G T A T G A G A A G A A A T A G C T G C\n",
            "0 0 A C T T C G G G T G G T T T C G C G G A A C T C G C A G T T G T T A G A A G G A C T G C A A A C G T G G C G G C G A A G C C G A G A A T T A C G A A G A G G A C C A G G G T T T T C G G C C A T A T T A T A T T C A G C A T T A T T T A G A T T T C A C C A T G T A T A A A A C C A C G T C T T A C A C C A A A A T A T C G T G T T G C A G T A T A A T C G G T C T G T C T G G A G C A T A T G T T A A C C C T\n",
            "0 0 T T G A A T T G C G A C T C T A A G G C A C T T T G A G G T A G A T T A T A T A C C T G G C A A A C T C A T G T A C C T T G G C C A A C G T T A G A T C G A C C T G G A A A A T C C A C A A A G G G A G A T C G A T T G A C A G A T T G C A A T G C T G T G C C C T G A G A C C A C C C A T T G C A A G G T G C A T A T C A A G G T A A A T C C A G A A A G C C T A A T G C G G G G T C G T A G G T C A A T T T\n",
            "0 0 T G T T A A G A A G A A G A T G T A A A A T G A C G G A G G A T G A G A C C G T G T A T T C T C T G G G C G T A G C C A C C G T A G C A C G G C G A A T A C T G T G G T T A A C A A C A C C C C T C C T C A A G G C G C A A A T A G T C G C C C C C G T C C T C A C C T T G C C G T A C T G C G G A T C G T T A A T G A C T T A T C A A G G A T G C C G T C A A A T A T G T T A A A A C T G G C A A A A G G T C\n",
            "0 0 C A G G T T T G A A C A A A G T C T T C C C A G G A G C C C A T G T T T T A T T A A G A T C G T A T C T G A G G C G C G C T C C G A G G C A A C T C C A A A G T A G G C A C A C C T A A C C G G G T A C T G T G G A T G G C C T T A C T C A A T A T G T C C G T T G T G T T G T A T A G C T G T C T A T G T C C T T C T G A A C G C C G T A T A C G C G G T C C A T A G G T C A A C G A C C G A T C T C T C G A\n",
            "2 3 A T C G T T A C C A G A T G G T A G A C T A A A A C T A G T T T A T A A G A T T A C A C G C A C T G T T A G A T G T G T C C A T T C G T C C C A G A T G T C G C C C T G G G T A A T G A T A A G G T T G G A G A T A T G T C A G A T C C C T A T T G G A G C T C G T T G G A G T C T A G A T G T T C C G C A G A T C T A C G A G A C C T T A G G T A T C T A A G T C A T A C A A A C C T A A A T G A T A C G T A\n",
            "3 3 G T C G G G T A T A G T T T G G A T G G C C G A C C T G G C A A T A T A G G T C G A C A G A T G G T T G G T A T G A A A G T C A T G T A G G T T T T G T G T A C T T C A T G C T G A T A C G G T G C C A G A A T T A A C A A T G A T C G C C A G G T C A A A A A C T T G A A G C T T A C G C C A T G A A G A T A A G G C C T T G G T G C G A A A A C A C T G T A T T T G A G G A C G C T G G T G G C A G T T T A\n",
            "2 2 G T G C G T G T G A C C A G A T G G T G A G T C G T G G G G A T G C A A A A C A C T C T G G T T C G T T G A T A G A C A T A C A G G A A C T A T G T T T A A G T T C A G T T T G C T A C T A A A G T A G A T A T T C T C A A G T C T T C T T A A T G T C G C A G G G C G T G G T C C A A T A A C G A G G A C A A C A G A T G G A C G T C A A T C A A C A G A T G G C T A G C G A T T G A G A A A A C T A T T T A\n",
            "0 0 A T C A T A A C A T C T G A T A T T C G G C G T T T G T T G C A T G A C G T A T A A G T A C G C A T C T C T A A G T T A G A T C C A T T A C G G T C T G A T A G A G A C T C C T G A A T A C T G G A T A A T G C G A G A C G A A C A G C G T A C G T T A G A T C T G A T A A T T C C G T G C G T C A G A A C C G G G T C T G T G C T C G A T G T A T T A G G C A G C A C G C T T T T G G T G T G G C T T C G C A\n",
            "1 1 T G A A C C T T T A G C T T A A C G T A C T A G A C T T G T C C G A T G G T C A G A A C A G A G A T A A G G A A A A C G G A G A T A A G C C C G G C G T G C T T A T C T A A G G C G C T A G T C G C C C T A T C A T T G C A T G G T T C A G G G A G C G T G T C T A T T C C A A A T C G G C C A T T C G A C A T C C G A C G C A A C C T T A T G C C A C G T G G T A T C C A A G A G A A G G G G G A C T A C C G\n",
            "2 2 T T T G G C G C G T C T T T G C A G T T C G A A C C A C G A G T A T T G C G A A A G A A C G C C T A C G T T A A A A C G C C A T T C C A A C C A A C C T C C T G C C A G C T T A C G C A T C A G A T G T T G C A G T A C T A G C C A A C A G A C G T A G T G C T G A A T T T C T G G C G A C C T A A G A G G A A G T A A T T A A T C A C A T A A C A G A T G T G C G A G G T T T C A A A A A T A A C A C T C G A\n",
            "1 1 C A T T A G T T G T C A T G T T A T A A C C G A C G T G A T C C C G A C T G A T T G G A G A T A A G G A C A C C T A T A T A C G A G T C C C T T G T G C T A A C G A C C T G C T A T T G G T A T C T T T G A C T T T G A C A T G A A T T A A G A T A C A T A G C G C G G C C G A G A A T T A T C A A C C A A A A A G T C G A G G C G G T C G G T A A A A A A A T G G T C A A A G T A A A G A C G T A C A A G C T\n",
            "3 3 T T G A G G A T A A C T G C C C G A G C G G A G T G A T A A G A A C G T A T G A A C T A A A A G A T G A A G T T C C T A T A T T T T C T T T C G A T A C A A G A T A A G G C T A A T A C G T C A T G G G C C T G G C G C C C T T G T C G A G A C C A G A T G T T C G C G A A T C T A C A C A C G A A T C A C A G C T T T G T G A C T T A T C C A A A A A G T C T G T G A C C A T A C G A G C G G T C T T A G T G\n",
            "3 3 G T A T G A C T G G T G A T C A T G G C G A C C C A G A A C A A T T A C G A C C A G A T G G C A T G A T G T C T C T A C T T T A T C A T T A C A C T A C G T G T C G T G A G A C A A T A T C G G G T G C A G A T A A G G C C A G T C C C C A G A T G T T C A A G G C G G A A A C G T T C A G G C G T T G A G T C A T C C A G G G G A G A T C T C G G T T C G T T G T A A G C C T T A T C C A G A T C A G G T G C\n",
            "2 2 C G A A C T G C A C A C A G C G A C A C T T C G T A A C A G G A C A G A T G T T T T G C G A C A G T T A C C G T G C A G T A G T G A G G T T A C T A C T G A C A G A T G G T A A A A A G C G G G A C G G C T G A T A T G A A A A C T A A C T T T T G G T C A A T G T T C G C G A C A T A T C T A A C G G G C C T G G A C T A A A T T C T A C T T G C C T G G T C G G C A C A G A T G G T T G C G A G C C T T C C\n",
            "1 1 C A A T A A C T A A C G A C G A T A C G C C C A G T T G A C G G G G G C A T A C C T A G T C G C T C T G T C G C G A G C A C C A T C C C A A T A G T T A T A A G C C C A C G A T A A G A T C A C T G A A C T T T T C C C T T G G T T A G T A C T A C G G G A A A G G T T T G T C G T T T A G G A G A T T A C G A C T T T T A C A A A C G T G G G A A T C C A A G A G G T G A C C A C C T C A G G C A A A A C G G\n",
            "0 0 G A C T A C C A C A T A G T A A C G T G G T C A A A C T T C A G T G T G T C C G T C C T A A C C T G C T A C T A C A A A C T T A T T A T G T A C T G T T G T A A C T T C C G A T A G T C G T T A A T G G A T G T G A G G G A G A T G A C A T C G C C A A A C C A A A C G T A G G C A C T G A A T A T C T G A A T C G A C C T T A A G A A T A G A C T G T C A T C T T G A A A G G A A G A G T C C A C A T G G C T\n",
            "0 0 A G G C T T T G G A T G A C G T C T A T T T A G C C C C T T G C C T T G T G A T A T A C G A C A C C T T A T A A A T T A C T A C A T A C T T G T G C A G C A G G T C A T T G G A C G T T G A T C G T C G G G T C G C G T A T G G T C A T A T A C C T G G A C A T A G C T A T T G T G T C A A T C C A T C T C A T A G A G A T C A T T T A G A C C C C A T A T C A A G A T T T A A T C G C A C A C C T C G C A A A\n",
            "2 2 A G C A G C G C T G G T G G G G T C A T G T T G A A C A G A T G G T A A T G T A T T T G G T A T G T T T T G A A C G T G C T C G G T G A C A A G T C G A C T G A A A T C C T A T T T A T C T C A A A A C T G A T C C G A G A T G A T C G A T A T G T G C C A C C A G G T G T T C A G T C A A C A T C A G A T C A T A A C A G A T G G T C C G T C T A T A C A T T T A C C G A T T A T T T T A T A G G C T G T G C\n",
            "1 1 C G A C A G C G G C T A G C G G A T C T A A T C A G A T A A G A G C T T C C T T T T C A C T T G A T A C C G G T G G T A T C A A A A T C A A A T C T T T T C T A T A T G G C T G C A A T T A G C T T G T A A T A C C C A A C T A T A C G T G C C A G A T C G C C T A C C C C C A T A A C C G G A C T A C A G T T G A G C A C G A A T A A G G T A C C C C C C A A C T G C T C G T G C A A A C C G A A A G G T G T\n",
            "2 2 A C T C A C A C T G G G A T A T A A A A C G A T A T C G C T G A C T G C A C T G G C T G G T C G T T T G T T T A A T G T T G A G A G C C T C C C A A A C A C C A T T T C C G A T C A C C C T C T T G A T A A A C A G A T G G T T C A A C C C G A G A G T C T T T A G C T T T A G C A C C A T C C T T G A A T T T C T T C T C A A T A T T C G C T C G A A T C C C C A C C T G A G G C A T A A G A A A A A A G T A\n",
            "1 1 G T A T T A A C G G G A T A C T A C T T G A T A G G T T T G G C T C G A G A C T G T T A A A T C A A C G A T A G C T G A C G C T G G G G A T G A G G T C A A A A C C T C T C T A G T T G C A T T A G T A T A A G T T T C A T A T T T G T A G T T G T A C C T T G A C A T A G A T A A T T A T A T C T A C G A G G G C G G T T T A C G T C T G C A C A G A T A A G A C G C G T T C T T C C C T A T A T C A A G A G\n",
            "0 0 T G G G C G A G C A T C A A C G A T C A G G A T A C A C T A A A A T G A A A G A C A G G G C A A C T C T T C T A C C T T A A G G T T T A A A C C G C G T C C G T C C A T T A C C A G A A C C C T C G A C T G C A G A C C A T G G A G T G A C T C G C C C A T T T A A C T T C C A G C A T A G T C G A T T A C G A T G C C G C C C A T G G G C A A G G T C C G A G A T G G T A A A T C A A A G G A A C C T G G C G\n",
            "0 0 A C A A T A A T T A C A A C T A T T A T T G C C G G T G A T T A C G T G G A C G C A C C A C A C C G A T A G T A C G T C G G T T C G T C A G C C G T T A C C G T C T C A A G A T T C T T T A A C G C C G G T T C T T C C T G A G A A T A A C T A T C C C A T A T T C C C C T A G T A A A G A A G C T G T A T G T C G C G G T A T T C A C T T A T C A A C T C G C G G C C T C T G A G T C G T G G G C T G T A G T\n",
            "3 3 C A G A T G T A G A T C A C A C G G C A T T C G G T A T C A G T C C T A G A C A A A T A A G T G A G C G C C G G A A A G T C C G T T A A C A A G G G G A G C A A G C T T C G A G G T G T T G A A A T A A C G A A C A A C A G A T G T T T T A A T T G T T C C T G C T T G T A G C T C T T G T G A A A G T A A A T A T G C A A G A G T T T G G A G A T A A G G A T A T A A A T G A G A A A G A G A G A G A T A A A\n",
            "2 2 T C G C A C G A G G A T A T G A G G T T A C A A A A C G A T C C T A T G C A A G T G G T G C T T T C G T T A A A G C T A C A G A T G T A A T T A A A T C A G G A G T A C T T C T G A A C A G A T G G C C T T C G T C T C T C C G A G G C A C T G C A A C A A G C A C G G A A G A A A A T C C C C A A T G T T T T A G A T A G G C T T C G G T T T T G A T A A C C T G C G G C T G G T C C A T T G A G A C A G T A\n",
            "0 0 A T A G C A G T C T C A C C C G A T A T C G T A G A T C T A C C G A C T C T T T C G C G C C G T T A G G T G T A T A T G G A G G T A G A T A G G C A C A A G T C G C A A C T T A G C G G A A T A C C G C C C A C A T T A A A A T A A C T G G A G A C G T C A C A G C C G T C C T G A G C G A C A C T A T G C A T G A C A C C C G T A C T G G T T A G A G T G G G T A A T T T C T T C C A C T G A T T T C G G G A\n",
            "0 0 A C A T G T A C A G T A T A C A C A A T C T G T A C A T C T T A A T T A C T A C C T A G G T C C G G C G A A G T T T C A T G A C G T A T T C C G G A C G G G A A A T A T A A C C G G T G T C C C C C G G G A T G A T G T C G G C C G G A G C A T A G T G C A T A A G T C A A G G C A C C A G T A A A C G C T A A C A C G G A T A T G T T T C G G T G T C T A G G G T T G G G T G C G T C G G C A A C T C C T C G\n",
            "3 3 G C A G A A G T T C C A T G T C T G C T G G G C C T T G A C T T G T G T T T A T A C G T C T C G C C C A G T G T C A A C C T T C T T G G A G A T A A G G A T G T T A A T A G G G T G T T G A G C C C T A T A A A C C G T A T T C T A A C T C C T T A C G A G A T A A G G G A A T A C A T T T C T T A A G T C T A C A G A T G C T C G T T A C C A C C A G A T G G T C T A C C T T G T A T G T T A A A G C G G G G\n",
            "3 3 C T C A T A T G T G G G A C A C T T C C A G A T T T A C C A G A T G T T T G T A G A C G T G C G A A A G A G A T A A G C A T G C G A C A G A T G C T A C T A C G A C A T A T G G T T A G C C A G C T G G C T A C A G A T A A G G T C A C T G A T A A G G T T A T C C G G G A A A A A A A T A G C C C A C C C G T T A G G G G C T G G C T A G T C T A A A T G C T C T A G T A C A C G C C A A A T C G C T A A A A\n",
            "0 0 T A G G G T A C G A C C C A A A T A C C T G G A A A C T T G G T C T G C G C G A G A G T A G C T T G G C C T G C T T T G T A G T G A C T T C A T T C C C A C C T A T A C G A C A G T C A A T A G C C C G A C A G T T C T A A A T T A A A T T C G A A T C C C A G C A A G C T G C G C T G C T A T C C T G G T A T T G T A T G T C T T G A A T G A A C C G C G C A C T G C T A T T T A G A T C G T G C T A T C C C\n",
            "0 1 G C C A A T T A C A T A T G T T T A G T C C A C T G C C T A C T G G G C C T T T A C G T T A A T C G A C T T T A C C G T C T T T A C T T C A T T G A T A A G A T C C C A C C T C A G G G C T A G T G C C A T C T A T T T C G T C A T A C T C C T T C C A C T C C C A G G T G G G A G G C A G G C C A C C A G A G G G T A C A C G G A A G G A C G T A A G C G A A G T A G C A T G C C G G G C T A C C G G T T C T\n",
            "0 0 A T C T C T T C T C G G C G A T T T A G C T G G G T C G G T C T T C A A A A C C C T G G T C A A A A G A C T A T G T A A G C T C G A C C A A C C G C G C A C T G T C C A C G T A A T T G C G C A G T A A G T T C C T C A C C C C T G A C T G T T T A G T T G T G G C G T C T A T C T T A T G A C T A G G A C C G A T A A C A C A G A G T C C T A T A G G A G C T T A C A A C T C C G T C A T A T G T A A A C C A\n",
            "2 2 C A T T G G C A G T A T C A A T A C A C T A A G T C T G A T G G G G A G C G T A A C G T C G G C C T T C T A A T A T T C T G A G T T C C T G A A G A T G C A C T T A T A C G G A T C T T C C T C A G C T C T T A T G A T A T A C T C T G G C C C T G G A C C G T C T A C A T A T G A G T C C T G A G T T T A A A G A A G C A T T T T T G T G A A A A C C C A A G G G G G C T C A T T A A C A G A T G T T C G A A\n",
            "0 0 A T T T C A G C C T C G G G C G G G G C G C T T A T T A A G A C A G G C A A G T T G A T A A C T A T A C A T T A T A C G C G T C G C T T G C T T T T A G C A A A A T T T C A G T T T C A T T T T A G G A G A C A C A G A G T G A T C G T G C C A A A T C G C T A G C A G T G C A G A T G C T T T G A C C T T T A T C C T A C T C T G C C G A T T G T C A C A G G T T G G T C T T A C A C C A A G G G A T G T A C\n",
            "3 3 G C T T T A T A C G A G T T G G G C C G G A G G T C G G C C C T G C T A C A C G G T G G T A C C A C C A G A T G T T C G C A A T G A C A G A T G C T T A C T G G A G A T A A G C T T A A A G A C A T A T G G T A A T T C A C G G G T G A G A T A A G G C C C C C A T A A A G T T A T G C T C A G C C T G G G T C T A G G G C A C C G A C T A T A T T A T C A A G T T T C A C C A G A T G G T A G A G G T C T G A\n",
            "0 0 A G C G T A T A G T G A T C A A T T T A A A G G A T T A C A C G G G T C G C G G C T A C C A A C C C G A T T A A G A G T G T A A G C A G T C C A A T T C T C T G C T G G T G T A G G A G C T T G C G G T T T T C A A C A T A T C G A A T C G T A T C C A T C T T A A A A T C A T T G C G G T T C A A T T C G G A A A T G C C C T A A T A G A G G C A A A C T G C T A C G G G C T T A G T A G G C C G G C T T G G\n",
            "0 0 G A A C C T A A A T A A C A T T T G A T C T G G G C C T C T A A G C T A G A T C T C C G C G G G A C C T T T A C C T T C C A C G T T C A A T G G A C T A G C A A G G C A A T C A C G C T C T G A A A C T T T A T C T C G G A G G T A A T G T T A T G T A C A A A A T G C C C C T A C G A G A T G C T T T C A G T G A T T C C G T A C A T C G C C G C G A G A A C C G A G A T A T T T A G T A A C C G A A T C G G\n",
            "3 3 A A A T C T G C T G G A T G C A G A C G C G A A T G T T A A C T A C G C C A G A A C A G G T G T T C G T A A C G A A T C G T A C G A C T G G T T C A T A C C A C C A T A A T G T A C A T T G C T T G T T G G T A T G G T C A T C A G T C C C A G A T A A G A A G A G T T G T G G A C A G T C C T T A T C C T C T C A C C A G A T G G T T G G G C C C A T G A T C A T A A T C T G C A G T G T T T A T T T T A T A\n",
            "2 2 T G A A C A G C G G T T T T A T A G C A A A T C T T A G C T G A A T T A G C G C G C A C A C A G A C A G A A A T G C G G A C T T A C A A A G G C C G T G T A T G C C T C T G A C G C T C A G A T G C T T A C A C C T C A G T A G G A T T C A A C T T G T T C G T T T G A T C T C T C T A C T A T T A C T C G G G T G T T T A C C A A G A C A C G T G C T T C A G G T G A C C A G A T G G T C A C T G A G G A G C\n",
            "2 2 C C C A T A G T G A T C A C C T T T G G G A A T A A G T C T T A T A A T A A C C T T T A C T G C T C T A T G C A A T A G T A T G G A A C A G A T G G C C C C A G G G T G A C A A A C A C T T T G T C G A A C G T T A G C G G T C C T C C G T A A G C T A A C C C T C C T T C A G T T A G A A A G T A T A C T T A T T G T C C G T A C T T G T T C C G T T C A G C T A G T A T G G T A T G C C G T G T C G C G T T\n",
            "3 3 T G A T A A A A A C C A C C T C A G G C G A C T G C A G A T A A G C C G C G C A T T T A C G T C C T C G T A A C A A G C C T T C G T G C T C A A A A T C T G T T G C T G T G T T A T C T T A C T A T T A A C C C T A A G C A G A T A A G A G A C T T A A G C A A T A A C T G C G A C C T C A A G C C A T A T A T C T C C G A T A A G A A C G G T G G C C A G A T G T T T G G T C T A C G A A C T G T C C T T C G\n",
            "3 3 G A G G G A G A T C T A C A C A G A T A A G G T G G G G T A T C T T T G T T C G T T T C G G A A T A G C T G T C G T G C T G A T A A G G T C C C A A C C T G C A G T T A T C A G A T G G T A G G T T T G T T A A C A G A C G A A T A A G A G G T A G C C G C T C T G A A A A G A T G A T T T A G C T C G T G C C T C A T C A A A C A G A T G G T C G T C T A C T C G G G T G G C A G A T T A C C C T T T T G C A\n",
            "0 1 G A T A T G T A A G T C G A A T T C A G T G T A T C C T C A T A C A T A A A G C T A A T C G G G C A T G C T A A A G G T A C C C G G G C T G A T A T T C G G T T G A C C A C C A A C T C C T C A C G G G T C A A A T C A G C A T A G C G T T T T A G A T C G G T C T G C A T A A T T G A A G C T C A T C G C A T A G A G T T A A A C G A G A T T A G T T G A G A T T C A T T G A G C T G C A A C T T T G C T T G\n",
            "1 1 A T G G G G T A T T A T T T A T T A T A A G T T A G A T T A T C A A A T A G G C A A A C G C T G A T G G G A G C T T T T C G C A C C C T T A T T C A A A G C A G A T A A G A A G T T A A C A T C C G T T A A G G T G A G T T G A C A A G C T T A G C A T G C G T T A A T G G A G A T A A G A A G G A G A T G A T A T T T C G C C T G C T G C T T A T T C C G A T A A C A T T A A A C A G G T C A G C G T T T G C\n",
            "3 3 T C A T T G G C C T G A T A A G A A A C T A G C G A G A G G C C A T C G A G A A C C A G A G A T T T A C A C T A A T A T A C C C T C G G A C C A G G T G G T G G T T G G C G T A T A A T G T C A C A C A G A T G C T A A A C A C G T G T C T G G A G C T G C T G C A G T T A C A G G T A A C T T T G A A C A G A T G G T T A G A C A G G A T C T A C A C C G C C C C C G A G T C G G T G G A C T A A T G T T T C\n",
            "2 2 A G T T G T A C T C T C A A C A G A T G T C G A A C T A G T C C T G G A T A C G T C G C G T A A C T A G A T C T G C G C A T C C C G T G T C T T A T G T A T C G A G T T T T C C T T C G A G G A G C A C T A T A G T T G T C C G A C C A G A T G T T T C G A C A G T G A A T G T T G G T A G G C C A A G A C G C C C C G A T T G A C C A A C G C T T C G A A G T C A C T T G G G A G A T G G T C G G A T C T A A\n",
            "2 2 A T C A G T A G C C C T C A A C C G A G T G A A C A G A T G G T C T C T G G G A G G A C G G G A C C A G A T G A T A G C A C A T C T G T C C C T G T T A T A G T G G C T A C G T C G C A T C G C G C T C A A T T A A T C C C C A T G T A T G T T G C G C C G T G A A C A C A T A C T G T C A C C C G C T T G A C C C A A A T C C A A C T A G G G A C C A G A T G G C G G G G A A G A C G A A A T A A A T G T T A\n",
            "2 2 T T G C C A C A T A C A T A T C G A A C C C A T A C T T A G T G T C A A C A G T C T A C A C A A C A G A T G G T G A C G T T T A G A C G T G T C A A T G C T T A A A T A G A A A T T A C C T G C C T T T T T T G G A T A A C G A G T T A T G C A T C T G A G A A A A A A C T T G T C T T G C G A A C G A C T A A C A G A T G G T C C C C A A T G A A C A G T T G G T T C T T T A A G G G A G A T T C T T A T T A\n",
            "0 0 G A A T T G T G C C A T C A A T C T T A A T C A C G G A T T C T C A A A G T A A A C T C A A T A C C C A G T T A C G T T A A C T C C G A C C T G C A G C G A A T A T G A A A T C G G C T C C T A A T A G T C A G C A G A C G T A A A G A G A A T C T G C C C A T A A A T T A T G A G T A C A G C A T A A C T T T A C G C G G T C C A G C T A A T C T G T A T C A C C G G G C C A T A C G C C C C C C T A C T T G\n",
            "3 3 C C T T C G A T A A G G T A A A A G T A C T C T G C G G A T A C G T G T T A T A A C A A G T A G C T C G G T G C G A T T A A T C A G G A C G C G C G T A C T T G G T A G G T C A G A C C T G C G T A C G A C G T G T C G C C T A A A G A T C A C C G C A T C A G C G G A A C A G A T G T C C C T G T A G T G T A G A G G G T T G G C G T A A T C T C A G A C C A T T G C T C A A C G A G A C T T A A A G A A T G\n",
            "1 1 T T T C T A T C G A G A T A A G T T T T A G T A T C C A G T G T C A C C A T G A T A A G G A T A T G A C A C A C T T C A C A T G C T G A C T C G A A A C T A C C T A A T T A A T C T A G A G C T C G T G A C T A T A G G G A C G T G A C A A C A T C A A C A G G A A T T C A T T G C C G G T G C C A A T A A G A T G T A G G A C A C G C A T G A G C A G T G G T A G C A A C G A C A A C C T T C G C C A G A T T\n",
            "3 3 A G C A G A T G T C A T C T T G G C T C T C T A A A C G A G G A A T T C G T T T G C A A T C G A G G A T T T C A T A A G C C T C T G T C G G G A G A C A A C G A C C A G A T G G T A G T C A G T T G A C C A A A T C C T C T G C A G G T C G T A C C C G A A A C T C A C A A G A G A G A T A A G G G T A A C A A G C C T G T A T T G A C A G C A A G A G A C T C T C T A A T G T A A C A G A T G G T G G G A A T\n",
            "0 0 A G T C G G T T T T A A C C G C T A G C A G A A T C A C T C C A C C C A A C A G T T G C T C C T C A A C A T A A C T C C T T G T A C A G G G G T C G A G T A T T T C G T C G G C C C A G A G C A A T A A G C C A T T C C T A T A T A T A A T A A C A G G C C C A T G A C T T T C A T G A T T G T T T G G G C G A C T T A A G A A T G A T T C A C C C C G T T T T G T T A T G C G T A A G T C T G T C G G A G C C\n",
            "2 2 G A A G C T A G A G A T A A A C C C G C G T C T A G T G A A T C A C T A A A C T T A A T A C A T G A C G T G C T T T C G T C T C C G G T G A G G A A C A G A T G A T C A A G G C A T T G T A A C T C G T T T T C A G A C C A G C G G T C A A A C A G A T G G T T C G C G T C C G G A A T G T G A A T A T G C G G T T A C G A C A A A C T G A C A G A T G G T A A T C G G G T A A A T A G T T A C G G C T G G T G\n",
            "1 1 G A T G C C A G T G T A C C A T C A A T C A G A T T G G C G A A G A T A A G C A A A G A A T T A G A T T G T G A G A T A G G G T T A G A G G C A C A A T T T G G T T A G A C T T A T C A C G A T A A C G A G T T A T C G T G G C C A T G C G G C G G G T G A T C G T C C G T G C T C A G C T G A T A A G C T T A A C T T C T C C G A T A A G T T G A G G G G G T A G T G C C G T A G T C G A A A A C T A A C G A\n",
            "1 1 C T A A A A C G A G T C A G A A G C G A G A T A A G G C A T A A G G G C C A G C C T T A G C C A A G T T C C G C G G C A T T C T A A C T T A C T C A T T G T G C A T G A G T T T A C C T A T G A G A T T C C T A A A A G T A A T G C G A G A A C G C T T C T C G G A T C C T G T T G A G G T C C C G G C T A T C G T A A A T G G A C G A A G A T A A G G G T A G A G T A C T C G T A C C A A T C T A C A T A G C\n",
            "3 3 C G T T A G G A C T A C C G C A T T A G C C A G A C C A A G G A G T T A G A G A G C C T T G A G A A G G C A C G T G A G G G C A G G C A A A C T T A C T T A A T G A A A C T C G A C T A C C A T A T A A G T T C T C T T G A A T A A T A A C A G A T G G T G T C T G T T A A A A G A A G A T A A G A T C G C A C T G T T G T A G T G C G C T T T G A A T G A A T A T C C C T G A A A G T C C T C C G T T C C G T\n",
            "2 2 G C T G T T G A T T G G C C A G A A G C G C C C T T C C A G A T G G T C G T T A G A C G C C A T T T C T C A A A T G C A A A T A A C T A T A T A T C A C A T A C G A G G G G A G T T G G C A G C T G T A A C A T G T A G A A G C A G T C C A T T T A A C C G C C G A T T G G A C A A G G G A C T A G G A T T C T A T C T C A C C T G T C C T A A C C C T C C C G C T A G C C G T G A T G T T C A T T G G G A G G\n",
            "3 3 T G A G T A G T G G G T C A A G G A G G A G A A G A C T A A C T T A C T T G T C G A A C T C C T T T C T C G T C T T A T A C G A A A G C C G A T C A G A T G G C C T C A T T C A G G C G A T T T G C G G A A T T A T T A G A G A T A A G C G A C C C A C C G T G C A A C A G A T T A G C T C A A T T T G G C A G A T A A G G A A T T A C T A T T T A A A C A G G A T T A A A A C T C C A A G A G T G T G T C G T\n",
            "0 0 C T A C T C T G C C A T T G T A T G A T G T T A C C C C T T T A A C A C T A C A G T C T T T G T C A A A T A G A T G A A G T A C G A G C A T C G A G G T T A A A A C G C T T G A A T G C C A A T G A A A G A G A C A C T C A C A T T A G T T T A T G G T C A T C T A C C G C A G C A A C A A G G T C T G T T G A A T C A A T A A A G C C T T T T A A C A T C G C A G C C T C A G C A T G G C T A C C C A G G G G\n",
            "3 3 T A C C A A A T A A G G G T T T C A A T C T A T A A C C G C C A A G A A G A A T C C A A T T G A C G C G C G G C T T A C T T A A T C T C T T A A C A G A T G T T G G G A T A C T C A G A A T T G T C C C C T T A T T G T T G G G A A G A T T A G G C G C A G A T T A T A A G G A C A T C G C G G T C A C C A C T T C T C G G C T G A C C C T G G C C T A A T T A A C T C G C C C C G A A C A C G G A C C C T G G\n",
            "3 3 T G G C T T G G G T G T G C T G A T A A G G T T G A C A G G G T T G G G A T T G G G A T T T C A C G A C C A G A T G G C A T G T G C C A C G T A T G T A A G G A A G T C G A A T G A G G G G T G A T A A G G G C A G A C A A G A A C A G G A C A G A T G G T T A A T A A C C G T A A A A T C C A T A T C G C C T C C G A G A T A C A G G C T G C A A C A C C T C T C C A C T T T A A A T A A G T C G G G G G G G\n",
            "0 0 C A G C C C T C G A T A C G C A A T T G T C T T T A T A T C T A T T A C T T A C T A C C G C A T A G T G G A A A G T A G A T C A G T A A A C A G C A T T A T C A G G A T C G A A A G A G G T C A T T C A T A C C G G A T G T A G G A T A T C T A G A G T T T G A G T G C A A C T G T C C G G T G C A T G T G C T T C T A A C C A T G T G A A T G T G A G A G G C A T G C T C G T G C A C C C A T T C A T T G T A\n",
            "2 2 A G G C T G T T G A A A C G C A C T T T C T T T G A A A T T C C A T G A C C A T T T T G C A C C T T A T G T C T C T A G T C C G A A C G A T C A T G T G G G C G C A A T T A C T G C T C G T C G A A G A C A C T G T G T C A T A A T A G G A A T C G C C T A G C A C A G A T G G T C A C G C G C T T A A T G G C C G T T G A G G T C G G T G G A C T A T T C G T C T A C A A A A A A A T A A T C A T T A T C A T\n",
            "1 1 C C A A A C A A C A A C C C C C T A C C A T G C C C T T C G A T T A A G G A T A A G C C T C C T G A T A A G G G C C C T G T T A C A G T C T G C A C T G T T C T C G C A A C A T C C A A G T T A A C G C T C T T G G C G C T T C A G T T T C G C G C A A A T G A A A C A G C A C G T G C T A C G C C C A A C G A C A A T T T A A T C A C T A A C C C A A A T G A G A C G C C T A C C T A A G C G C G T C T G C T\n",
            "0 0 T T C T A G T C G G T C T G G C A C T C A A A C A C T T T A C G C C G A G A T G C C G T C A A C A T G G G A A T A T A A T T T T C A A T A G T G T G A G A T T G G C T A G A G T T T G G T G C A T G T C A C T C C T T G C A G A G A G T G C T T A T A C A C C G C T A A G T C C G G G T G G A T G C T C T A A G C C C A G G A C G A A G C C G A C C A T A T C T A G T G C A C G T A G C A A T G T T T T C G C G\n",
            "0 0 A T T G A A T G A A A A T T A T A C A A T A T A A A T A T T T T A C G A T A A A T G A T A G C G C A T G G G T T A A T C C A G C C C G A G A C C G C C A C C G C C G T G A A C G C C A C C C C C G T A T G C T T T A G T G A T A T C A G G G A A T G G C C C C G C A T T T T T A A G T G G C C T C A C A C G G C A G C T A T T T G T G T T C C C G G A C T A A C C T G C C A A G T A A G G T G T T G G G C G C A\n",
            "0 0 C C G T C A T C A T T T T T T G T T G A A T T T C C G G C A C C A A C A C G A A C A A T T T T A T G G G T G T T T A G T T A T A A A C C T T T C T T T A C A A A C A G A A C G G A C G G A C C C G T T T A A T G T T G T C G T T T G G T A A G G C C G G A A C T T C A A G T T A T G A C C T T C A A T A A T A G G C T T C G T T G T A C A G T A G T G T T C C T T G A C G A T T C T C C A A T G T A A C G G C C\n",
            "3 3 G T T T T T G A G C A A A A A C T A T G C A T C T A A T T G G T T G C G A C A C A A A T C G T A C A C T G T T G G A A C A G A T G G T A G T T G T T T G A T C C C T T C G G C G A T A A G G A C T T G C C T G G C T C C A G A T G G T G C C A T A A G G C C G A C C A A T C G A G T T C G A G A G C T C T T A A A G G T A C T A A A A T C G G T G A A A G C A A T G A C T A C A T A A A A T C G T G C T G C T T\n",
            "2 2 G G C T C A C T T C C G G G T A G G A A C A T G A T T G T A C T T G C A C G A C A G A G A C C A C C T A T G T G A C C G C G T C C A T T T T A G A G G A C A G G A C G C T G A T C T A C G A A A T T A C T G T G G T G C A C T C C A G A C C G T T G A A T T C C A C A C C G C G A C T G G A T T A C G G T A C C A G A T G G T C G G C T T C C C A T A T G T A A G G A A C T G A G C A T G G A A A G G A A A A G\n",
            "0 1 A T T A A C C T A C T T G A G T T C G A T A A G G T C G G G C G A C T T G A A C C G T A A T T A T G G A T T G A A C T A C C T T G T C G A G G C G T G A A A C T T G T A A A C A C A T A C C G T A G A T A C T A T T C A G C T C A A A A T G A G T T C A C T G T T T A T A C C T G T A T C G C T T A A A G T C G C T C T G T C A C G T A G C T T A C G G T A G C T C T A A G T T T G T G T A A G A A A A A A C C\n",
            "1 1 C C C C A T T C C C G A C C G T C A A C A G T T C A A A G A T T C G T A G C A C C C A C C G C G G C G T T T T G C T C T A G C G C A T T C C A G A T C G C A A T C T C C A T A T T T A T A G C A C T A A C A C T T C G T C A A T G C A C T G T T A G A C G A T A T A G T G G G C A C C A C A G C C A G T T G A T A A G G C G C C G A T G T T G A A A G C G A A A T G C T C T C T T G C C C C G G A C T T A C A T\n",
            "2 2 G G C A C C C A T T C C G C C G T T G G A A T T T G T G T T C A A T A T G A A C C T C A G T G C A A A C T G C C A C T T G C T T T C A T G T A A T G A G C G A C C G A C T T A C A T A G A G T C G A T G T G A A C A G G T G G T G A T G T A G A G G A C A T C T A A T A C C G T C C A A T G A C T G T T G T C G T C G A T G A A T G C A G T G G C C A C T T C A A A C T T G T T C C T A A C A A T C T A A C G G\n",
            "2 2 G A T C C A A A T T C C A T T A T C C G T T T T G A A T A G A G T G G C A T A T C C G T A G A T G C G C T T T A A C A T C C G C G A C T A G C A G C A C C G T C T C T G A T T C G C G C G A G G A T T C C A G G A C C A G A T G G T C T T A C G A C T A A T A C C G T C C C T G T G C T A C A T A G T G A G G A A T C T G A T G T T A G C A C G T A C A A C G T G G T G A G A C G A G G A G T T A T C C G T T C\n",
            "3 3 A G T C T A G A G T G T A C A G A T G G A C C G A G T T A T G G C G C A C T A C G C T A T G C T G G G T C A G T G G T G T A T C A C G C C A A C A C T A A C G A T G C C A G C G A C C A G A T G T T A G G C C A A A C A T A T A T G C G T A C A A C T G A T A A G G G T G A A T A G G G A A C A G A T G T T A A G C G A G A T G A A G G T T T G A T C C C T T A A G A A A G G T G A C G A T A A G G T A A A A T\n",
            "1 1 C C T C G G G T G G A T T C T A T C T T T T A A G A T A A G A G A A T C A C A T T C T T G A A C T T C A C A A T G G T C C T T T C T T T T G A A G C T A C T A A A C C T T T T A C A A C G A C A G A C G C G T G C C C G C T C T G G C T C G T T A C C T C A T T A T A T A G T A T G T T G C G C G C A G T G G C C C C C A A A G A G C A G A T A A G A G G A A G T G G C T G A T A A G A A C G C T A G T T A A T\n",
            "0 0 A A G G G A T A T A G A T A T A A A T G A C T A C A G G A G G G C C G A T A A A A T G A C A A C A C C A C C T G A C G A T T G C A T G G A A C T C T C C G G T T A G C A C G C G C G A A C A A C C C A G C C G T G C G G T T T A A A G A C T C A T A T A A G T A A C G G G A C G T T T G C G G T C A T T G C G T C T T T A C G T A A G C G G A A A A C T C T T G T C G C C G C T A C T G C G A T C G A G T A T A\n",
            "3 3 G A T G T A G C A A G C C C C T G A C A T C A C A T T T T A T G C G A A C G G T C G C T T T G G A T C C C T A T T T T T A A T C A A T A A T A G A C T A A T G C C T A C A G A T A A G G G C G T C A G G T C T C C A G A T G G C G A C C G G T G G T A A T C C A C A G T A T A T A T C T A C C T G A C A T G C G G G T C G A C C A T T T G A T C T T A C A G A C C C T A C A G C T T G A G T T A G T A G T T A A\n",
            "0 0 T G A A A C C A G G C T G G T A A A A G A G G T G T G A C T A A A A G G A A T G G A G A G C C T C A T G G T T T A C T C A A G T T A A T G G C C C A T G G G G T T A C T T G A T G T G G C T A T C G A A C C C G G A T T T G T A A G G T C T T C G T A C A T G G C T G T G C A T T G T G A G G G G G T T A A C G T T T A G G T G A G C G T C C T T A T T C C C G C G A A T G A C G T C G A G C G G C T A T T T G\n",
            "1 1 A C G C C C C T T C A C A C T C T A T G C A G T G A G A T A A G C T T A C A C A A A C C A A A A C T C A G T C C G A A C C A A T T G C T C A C A G A T A C G G C C G T T C T G C T G G A T G A C G C A G G T A G A C T G C A T T C A A C T C G C C A T T C A G T A T A C A T A T T C C G T G C G G G A A G G T C C A A A A C T T G G G T C C C A C A G G G A A T T T G A G T G T A G G G C A G C C T C G T G A A\n",
            "1 1 C G G T G C T G A T A A G C A A T A G A A T G C G T C A G C A G G C C T A T G A G A A T C G T A C G G T T G A C C G A A T T G A A G T C T T T A A C A G A T A A G C T A T T G A C A G G T T T A C A A T T C T G C C G G A C G T A A G C G G T T G G T G T A A C C G G G T C C T A C G A A A C A G C T G A T A A G G C C A T T C G A G T T G G T A T A A T T T C T G A C G T C T G C T G A A A A C T A G A A A C\n",
            "1 1 A T C G C G T G T A C C C A G C T A A A A C G C T G A G A G C T G C A A G A G C T G T G A T A A G G G T G T G A T G G T A C G C A A C T C T G A T A T G G C A G T C A A C A G A A T A T A C C A G A T A A G C C T G G C G C G T T C A G G G T A G C G G A T A G T T T C T G G G A A A C G C G G A T T T G G A T T A G A A C G T T G G A G C A T T T T G C T A C G T T G T G A T T G G A A A C A A G C G T A A G\n",
            "0 0 T T C T T A G A T G A A T T C A A A C T G A G G G C T T A A T A A T G T G G C T G C T T A T T C G T C T G T A T G C A G A C T C T T T A A G G T A A A G T T T C A A C A C G C G A A C T T T G C A T C G C T T T A T C T T A T G G A T C A C T G C G G C G G A T T G C A A A T T C T C T G G A T A C G T A C T T A C C C T T T G G T A A A G C G A T T G A A A T T C G T A G C C C A G A T A G A A A A C T T T A\n",
            "1 1 A G A C T G T A G G T A T C T A C A G A T A A G A C G T G G G G G C T C A G A T A A G G T T A A T G A T G T C A A C T A C T A A T T T C A G A A A C T A T C C G G T T G G C A A G A T C A A G C A A A T T C A T A T A G T A T T C A A G T A C A G A G A T T A A A G G A C T T C C T A G G A C C G A G A T A A G G T T A G T C A G C G A G T A G A T T A A A G A G A A G C A T C C C T T T T C A A G A C T A G A\n",
            "3 3 A T G A T C G T T G A A T A C G T A G C C C G C G T G C A G G T G G C A A G C G A G A T T A G G T G A G C G C A T G T T A A A T C A T A A G A A G T A T C A A A G A C A C G C G A A A T C T G C G A T T G C T T T T C C A G A A A A C G A C A G A T A A C C A G A T G G A A T G C G A T T C T C G G T A C A T C A T A G C C C G G G T A G C T T C G A C T A A G A T A C T C T T T T A A T C A A A A C A T A T C\n",
            "1 1 T T A C T T G A T T G T G C C C A A A C G A C T A A C T G A T A A G A C G G G C A G A C G T A T G T T G A C A A A G G T T G G T T G A C T C T C G G T A G G C A A G C T A T T T T T C C G G C G G C A A A G T A G T A G A T A A G G G A A C C T A C G A T C C T T A C C G C T C G G T T T G T T G T G G C T T G A T T C T C T T A T A A T G T A T A T A T C G A T T G G A C A A G T A A T C A T A T T T G A A T\n",
            "2 2 G T G C C C T G G G C A T G C T G A C G G A G C T C A C T T G A C T T T T G T C G T G C T C A A C T T C C T A A C A G A T G T C C C C A T C A C G A T G C T A G C C A G T C T G A C C A G T G G T T A A C A T A C T C G C G G G G T C C G A C C C C T T T T C G C C T C T G G T A A G A T C T T C A T A T T G T A A T G A G T A G A T A T A A T T T A A T C G G A T G C C C C A G T T G G T G C C C A A G C C A\n",
            "2 2 A G C A A T T C G T T T T T G A A G A A G G A T A G T T A G C G A G T C C C A C C A G A T G G T C T C T C A T C T C C A T T C G G A T T A A C A T C T G T A C A A A G T T A G G A T G C C G G A G C C C T T T G T G A C A A G T T G T T T G T T T T T C A G T A C C A G A T G G T A G T G T T C C T T T T C G G C C C G A T T C G T G T A T G A T A T C G A T A C T A T A C G T T C A T C G C G G G T T T T G T\n",
            "0 0 C T C C A A A C C G T A A T T A A C G C A T A A A C A T T G G G G T C A T C C A T C G T G T T A G C C G A A G C A A C T C T A C T T G T A A G T C T T T T C C C G A G C A G C A G T T A G C T A C T A A A C A C A T T C T A G A T G G A A T C T A T C C C C A A A A T T T C T T G G A T T C T A A A T A T C G C A G C C G T A T T A T C C G T T G G A G G C G A C T C A A T T A C A C G G G G C T G G A A G A C\n",
            "2 2 C G C C C G A A A T T T T T T A A A T A C G A C T G C G C A C C A G G T G T T C A C T A C T C G A G C A G A T G T T C A G A G C A C A A G A G A T T A A A T C T A C G T C A A T A A C A T T T A T C G G T C C C A C T A T A G A C C C G C T G C A C C G T A G A A C A G C G C C T C T A G C A C C A C C C G A G T T G A T C T C G T T C G C T A A G A G A T A T C A A C A G A T G T T C G A G T A C C C G G T G\n",
            "1 1 A C G A C A G A G T G A T G C T C A G A T A A G G G A T G A A T C G T T G T T C G T G T T A T A T C T T C T C A T T A A G C G T T C T C G C G T C T A A C A T C C A C A T A G C T T A G G A T A T A C C C C A C G G A C G T A C C G G G T A C C C A C T A A C A C C A A G G G C A G C C C C T G G T T T G A T G T G A C G A A A C C G T G T G T A A C T C C A G C T A T A C A A T T T A C C A C G C T A A G C T\n",
            "1 1 T A A C T G A T A A G G T T A A G G C T G T A G C T G A A A G G A C G C G C T C G A T C G T G A A T G G T A G G C G T T T T A G C T T A T T A A C G C T G A G C G G G C G G T G T A C G A G C G C T T A G A T A T C C T T G C G C T C G A T G T G T G C T A G A G C T T T T C A C A A T T A T G G T G G A T C G C T T C C G G C C G T C A A C T G T G G C C T A A C T G C A G G G G G C T A T T T A G C C A T C\n",
            "1 1 T A T G C T T T C C T G T C A G A A G C A G C C T A C T A C A G T A G T A G A T G A G C A C G A T C C T A G A T T C A A T A A A C A G C G G C A T C A A G C G T C A A C T T A A C T T C A T G G T C T C A A A T A C T C T T G A T C C T T C A C C G C A T T G T T C C C A C T A A G T T G A G G T C A C G G T G G C A T A A T G T C G T C A A A A T G A G G G T G A T A A G G A G G G T T T A C C C G C A A C A\n",
            "1 1 A A T A G T A A A A C C A C T C C T T A A A A G G A T G A C G C G A C G G G A A T T T G C G C A T C T A G C G G T A T T A A G G G G C A G A T A A G G T T G A A C T T A G G C A A A A G A C T T T T G C A C C G A G C G G G A C T T C C C A A C G A C G T A T A C C T C C G T G C G A C A T A A C T T G G C A G A T A C G G A T A T G T T G T G G T A G A A T G C G G T C T G A G T C C G T A T G T T G A G G G\n",
            "2 2 G G C G A C C G C T G T G A G T C G G A A C A G A T G G C T A A C T C C A G T C A C G C G G A G G T T A T G T A T C A T C T A T T G A T C G T T C A C A T C C G A G T T C G C C C C C A G G A G A C T G A C T G T C G C T T G T T C A A G T T A T T A C T C C A T G A T G A C A C C T G C T G T G T G C T A T C C G C T T T A T A G G G C A C A G A T G G C C G G A G C C T G A T C A G C C T T C T T T A A C G\n",
            "0 0 T G T T A C A A A T T T T G C T G G A G C G C T T T T T G G C T A T T C T C C G T G T A T C A C C G T G G C A G G C C T T C A C G T C T G A A C A A G C C C A C A C G G G C T A T A T A A T A G G G T C A G G G C A A G C T T A G C A T T G A C A A G T G A C C A G G T T G A A A C T A G A T G A C T T C C T G G A C A A A A T T C A T A C C A G G A T C C C A T G C T T G A G C A T A A A A A A G T A G C T G\n",
            "3 3 C A T G T T G A T T A A T T G G C T G C G T T T T C T C T T A C T T C G C T A G G T T A A A G A G T C G C C A G A T G A T C A C T A A A A A T C A G A T A A G G C C A A T A T A G A G A T A A G A T G A C G T T A A T T T C A A A C C C A G T G T T G T G G C T T A A C T A G T A T A A T T C G C G T A A T C G G C T A C T T C C A G A T G G T C T C T T T A A A T A T G T A C T T A C A G G C A T G G A G C C\n",
            "1 1 A G A C A T G T A G T G T C C T A G T T T T C T C T C G G A C T T T A C T C G G C G T C A A A G A T A C C A T G G T A A T A C T A G T G A A G C T A C T C C G G G T C A A A A G C G A T T A G T C T T G C A T T T G C C A G A A A C A T A A G A A A G G T A G C C T T A G A G A G T G A T A A G G A C A C T G A A C G G A T G G C A A G C C A T G A G C C A A G A T G A C C C A C A C T T G T A T C C G T C G G\n",
            "0 0 G C G C T A G A C G A A A T A A T G A A G G G T T G A C C T C T T T T C A A C G C C A A T C C A A T C G G G A G A C A G T A C A G A G G T T T T A T C A T G A C C A G A T T G A G C T C C T G G T T C T T C A T G A C A T A C G T G C A G T G G A T T T A G T G A T G G C G A C A T G A C A T T T G A T C A G G C A G A C C G C C A C G A C A A A A T T A A A G G G G A G T G G C A T C T C C G A T A A A C C C\n",
            "2 2 A T G T T C G A C T C A A T T T C T T T T G A A C G C C T A G C A T G G T G A A C A C A C C G G A C A T G A T T C G T A G G G C C T C T G G C A T T G A A G T C A A A A C T G C G C G A C A A C A G C C T A A T G C G A T G C G G A T T G T T T A T G A G G G A C G A T A A T A G A G G A A G T C T A C C T G A A G A G C G G C C T C C T A G C C T G C C T T T G C G C C A G A T G C G G T T C C G A C C C A A\n",
            "1 1 G G C T A C T A T A G C G A C T T T T C G G C A G A T A A G A C C A G C A G T A A A A C C T G C T C C A A T C C T T A C T G A A G C G C A G A A G T G G T T G C T T T C A T A A G G G C G T A T G T G T A C C G A A A A T A C A T T G C A C G G G T A A T C G T A A T A C C A G T A G A G T T A C T G A T A A G G G C C A T T C T T G T C C C A C T G G T T G A G G G A T A G G A A G G A G A T T T T C C G C C\n",
            "2 2 A G A G A C C G G A A C C C A G C T T C T A T C C A G A C C C T G C A C A A A G C A A A A A C A A C A G A T G G C A A T T A G G A C C A G A T G T T G G C G T G A A A T C T C A T A T A G T T C T C A T C A G A T G T T A T G G C A C A A C G G G T G C A G T A T T G T C G C G G T T A A T C A T G G T C T A T C C T T T T G C C C A T A T T C T C A A T G C T A C C G A C A T A A G A A T T A C C A T T C G A\n",
            "2 2 T A T T T A C A A G G T T G T G A T G T A C A C T C C G A G C A A A T C A G T T A T T C A T C G C A A A C C C T G G A A A A A T A C A G A A G C G G G A T C A G A T G G C C A A T G T T G A C T A C G G A A C A G A T G C T G C T T A G G G T G C T A A T G C T T G T C T A G C T A G C A A A T T C C G T A C A A C T C G C A T A A T G A T G C T A T C C A A C T G A G A C C T A T T A T A C T T G T G G A T A\n",
            "2 2 A C A C G A G T G T T C A G A C C G T T A G G G A T C A C A G A T G G T T G A C A T G T G T A A C A G A A A A T G G C A T T G C A A C G T G T C G T T A T T A T C G G T G A A C A G A C T A G T T C A A T T G T T G A G G G G G T T A C G T G A G T G T G C T T G A T G G G A A T C T T G A G T C G A C A G A T G G T C G A G C A G A C C A C T G C A A A C A G T A G A G C A A T T C T A G C G A A T G T G C C\n",
            "1 1 T C A G C T G G G A A A C A T A T G T C T T T T G G G C C A T A T C T G A A C A G A A C A C T C T G C A T T T A C C G C C C G T A G C T A A A A C G A G T T C G T A G A A A T A A G A C G A A T A C A A C G T G C T A A T G C A G A A T T C G C A A G T T A A G C C G T G T C T A A G G C C C G G A G A T A A G G G C T T A A T C C A T C C A C A G A A T G A A G A A G C C A G A G A T A C A A G G G A A C T A\n",
            "3 3 T G A G C A C G C G A G T A G T T C G A T T T A G A G C A G A T T A G G A A G A G T A T T T T G C G C A G A G A T A A G C A G G T A A C A T A G T G T A C A G G T G G T C A T A T A C G A C G C T C A C C A G A T G T T T G G G A C G T G C C C T C G C T T C G T C G T T T T T T G T T T C A G T T G A T A C C T C G G G T G A C C A G G T G T C A A A A T A C G A T G G T T G G G A G G T A C G A T T A T G T\n",
            "2 2 A C C A C A A T A C T A T T C C T C T T T A T A A T T T T C C G A A A G C T A A T T A T T A G A C T A A G T A G G A C A T T C C T A T A T A C G C T A A G C A T C A G A T G G T C A G T G C C C T A C C A G A T G G T T C G G C A A A C C A G T C C A G G G G T C T A C C A G A G A T G C C A T A G C G A C C A G A T G G T C C C C A A A T G T A C A A G G T G T A C G G T C G G T C A G T G A G A A G A T G A\n",
            "3 3 T T A T T A A G G T G G T A G C A C C C T C C G C G G T G C G A C A G A T A A G G T A T A T T C G C A A A C A G A T G T A A G G G T C C G T T A T C G G G G T A A C A T A A A T C T G T G A T A C C C C G G A A T A T T C T A A T A C A G G G T C G A G G C T T T T T A T G A A A A C G A G T G C A G T T G C C C G A T T A A A A G T G A T T A A G G G T C A G G T C G G A A G T C T A T C A T G T T G T T T T\n",
            "1 1 G C G G C C T T C A T A A G C C T G C G A G A T A T C T T G A T G G T A A T A A C G A T G T C C T G A T C A G T A C C G T A C G A T G T G C G A C G A A A T G C G T T C T G A G A T G G G A T C C T C A T A A G A C G G C C G C A C A T G T T C G C C C A C A T C T T C A A A T T A T A C G C G G C A C A T C G A C C A G A T A A G C T T C A G A C G C A T G C A A T C G T C C G A A C G T T C T G T A T T G G\n",
            "0 0 T T T C G C T T G G T C G T T A T A A G T C G G C T C G G A T T G A C T T G G C G T C A A C G T T C C T A G C C C T C T G C G G A G A A T A G T C A G G T G A A A A T G T T T T C A G T G A T G C T C A A A G A A C T G T T G T A C A C G C A C A T C G A T C T T A C A T T G T C A T G G A A C C C G C T C C T A A A T G A G G T C C T T T A C T A A T C T G C A A T C A A A T G G T T T A C C A C T C T T C A\n",
            "0 0 T G G C A G T A C T G C T G C T G C G G T T A G C T T C T A C C G C C G C C G T C C A G T C T A C T T G A G A T A T G G G G C G T A G A A T T A T T T C A T C A G T T A A C T C G T G T G T G C C C G G A C A T A A G T C C G T T A T G T T A C T A T T T T T T T C T T A C G T A G C A A T T T T G A C C G C G G C T T A C T T T C T A G G T A A A G G T C T A G C T G C G T C C A T T G T T C C G A G T T T T\n",
            "1 1 G C G C C G G C G A C A C T C C A C T C G T G A T A A G C T G T C C C A G A T T A C C A A G T C G A A G T A T C C G T G T G A A G A T A A G A C G T G C G A T T C C A G G C A G G G C G C C G A T A T T A T A C T T A A G A T C A C A C A C C G C A C A G A G C C T G C C A T G C A G A A C C C A A G G G A T A T G T T G T C C G T A A G A T T G T C G C C T G C T C T C T T G C A G C T G A A G T T A A T C G\n",
            "2 2 T T T A C C T C C C A G A T G T T C A G A A A G C G T C A C C A T C G T A A G T G T A A T A C A C A C T G A T C A A A C C T G A C G A T G G T G G A T G C G G A T T C A C G A A C T G A C C T A C G T T G C A C T C A C C A T T G A T T A A G C T T C C G C T A C G C C T C C A G G A A A G A A C G T A A C C A T T T A T T T T T T T G A A T T G A C T G G T G C A G A T T C T T T A G A T G C C T C T C T T G\n",
            "1 1 T G C T T A T C T A A A G G A A T G G G C T G C G C C G A A G T C A G G C C C C G C G C T A A C C A T G A G A T G A A A G T C A T A G A A C A C A T C A C C A T G G A A G T A T C G A G C A C C A T A T G A T T T C A T A T A T C C G C A G A T A A G G C A G C A G A T T A G G C A C A G T C C G A G T A A C C A G G C A C T A C C A G A A G A G T A T T G C T C G G A A T G T G T A G G A G T T C G A C A C A\n",
            "0 0 T C C A G A T C G A G T T T C G A C G C A T G T C A A G T C C A G C A A A A A A T T T A T A T A G C C C G A A G T C C C A T A G T C T G A T C G T G A G A A T G G T A A C C G G G T C G T G T G T C T C T C G T T C C T A C T C T T A T T T C G G T A C A G T A G A G A C A C T G G T C T C A T G A A A T T G A G T T G T T G G A G G C G T C T T G A C C G C A T T G A C C T A C T C A G G G G C T G T A A T A\n",
            "1 1 A C C T T G A T C A T T C G A A A A G G A T T A T T G C T A G G C A A A C A A C G A T A T T G T T G T A T T T C C C C A C T G C C G G T G T G G A G A T A A C G T G T C A C G T G A T G A T C A C T T T A A T A G T G T C T T C T A G C A A C C A G T T T A C T A T A C G G G A C A A A T A G A C C A G A T A A G G C G A G G C A G C C T A G C C C T G T T C T T C C T C T T G G A A C A G A T A A G G G A A A\n",
            "0 0 C T G T C A A T A C A T A C A A C C G C G T G A C C C A G T A G C C T C C T C T T G T G C A T T G G A C A C T T G A G C T T T C G T G T A A G C C A T G A A T G G C T G T G C G C C C T A C G T T A T A A G G A A A G A T C A G A C G T A T A A C G G A T A A A G G G T G G G G C T A T C T G A G A A T T C T A T C T C G C A A A A A A C A C A T G T A C A G A C A T G T A C T T G T A G A T T C C G C C C T C\n",
            "2 2 T C A C A T G C G G C G A T A A A T C G A A A G G G T G A C C A C G G G C C A T C C G G G C C A G A T G T C C A A T C A G T G C C A C T T C C A T A T A A C G C G C T G C T T C C G G T T G C T C G C T A T C A G A T G G T C C A G T C T C T A T G G A A A T C C T A T G G A A C C G T C T C T G T C C C A C A G A C G C C A A T G C G T T A A G G T C T T C A A T T C C A T G T G C G G A G T T A G T T T A A\n",
            "2 2 T C A G A G A T A T G A C C A G A T G C T C A G A A T G T T A C T T C G A G G C T G T G G A G G G T G T A A C T A C C C C C G G A C A T T A A A A G T C G C C A A C A G A T G G T C C G C C G C G A A C C A G A T G C T A A A T T C A C C A A C C G T G A G T C C C G A A G C C T T G T T C A T T A T G T T G A C T C A A A G A A T G C A G G A T A C C C A T A A C T A T T G A T G A A T T T C T A G T T A T G\n",
            "0 0 C T T T A T T T C A G A A G G A C G G A T G T A A C A C T C T A G T A T G A T C A G A G A T G A G T C C T A C C C G C A T T G C A C C T T A A C C G G C A C C A C G C C G G G C C G G G A C G C T G G A C T T G C A G T C T C C G T G C G T G T C T A G A A C G G C T A A T G A G T A A T C A A A T T C A G A G A A C G A C C T A G A T G T T A T T A G T C T T G C G G A A A G G T A C C A T T T T A A C A A G\n",
            "3 3 T C T G A A A C C G A C T T A A C A G A T G T T C G G C G G A C C A G A T G G C C T G A G C G T T G A T A A G G C A T A C G G C A A C T A A G A C T T C A A T T T C T C G G G T G A G A T A A G A C A C A G A G C G A G A C A T G C A C G G T T T A C A G C G A G T A G G T C C A A A T C C T G G A G T G C A A T T A G G A T G C A C T A C T T C G C A A G A G A T A A G C A T C T A A A C C G A T C C T T T G\n",
            "1 1 G G G A G T G C A C G A G T C T C C A C G C G A T C A A C T T G G C C C C A C C G C T T A G G A T G C G A A T A G T T C G G G G C G C A C C G C T C A T T C T A A G A T G A G A C A C T A T T A T T C G C T A G G T A T G T A T G G G G G G C G G A A A C A G T C G G G G T A C G G A G A T A A G G C C T G C A T T T A C T T T C C C A G T T T A C T T A T A A G G A A C G A T A T C C C G T T T T C T T T G G\n",
            "3 3 C T A T T G T C T T G A A A T A T A G C A T A C G T G G A T C C G G T A T T C C T A C A C C C A G A T A T T G A A G T T C A T T A A C A G A T G T T A C A C A C A T G C G T A G G C A G A T A A G G T A A T A C G T G T G G T C A A A G G A T A G A A G G C T A A G C G G G T A C T T T C A G G A C T A T A T A A T C T A G A T A A G A C A C A G T G A A A A T C A A G T C C G A A G C C G A A A A A G C G A A\n",
            "3 3 T G C G A G C A T A G G G T G C T T G C T G A T G T A A G C A A T A G C C G A T C A A T T C C A C C G C C C C A A G C A A T T C C T A G A A C T A T A C A G G T C A G A T T C G C T A C G A C T G C T T G A C A A G A T A A G A C C G G A G C T T C C C A T G G G T T C G T G T T A A T A T C A T T T G A C A A T C G C T C G A A C C G T A C C C T G A G C A G A T G G T C G A G C C G G G A T C T T G G T T T\n",
            "2 2 A C A A C C G C T G T T T T A G T G A G G T T T G A G C C C G T G C A G C C C T A T A G T G A T A T T G C T T G C T C C T A T C A G T C C A T C A C T C G C A C G C G G T T G A A C A G A T G T C C G G C A T A G T C T G T C C T C A C A C T C A A C T C A A T C T T A C C T G G A C A G T T G T T G G T A T A C A T C T A A A G G T A C G T C G T T C T C G G A T T C C A T G T A G G C C C T T G T G A C G T\n",
            "1 1 G C T T A T C C G A G T T T A A A T G G T G G A T G G T T C C G C A T C C T T C C A G G A T C C T A G T G G G G T A G C A A G G A G A T A A G G C G G G C T C G A G T C A G C G A A T C T C T T T T C T T C C A A G A G A T A A G A A T C T C T A A C A G A G G C A T G T G A A T G C A C C C T C C G G T G A A C G C A G A A T T G G C G G T A T C C A T T C C C T T G C T G C G G A A C T C T A T A C C T A G\n",
            "2 2 G T A C A C G C C A G A T G T T A A A T T A A T C G C A A C A G A T G G T A G C G C C T G G A A C T G C A A A G G C T T A T G G A T C T C G G C T A T C G T A G C G A T A T A T A C A A T T G T T G C T C G G T A G A T C G A G T T C G T A A A G T C A T A T G C C G G G G T G A C G C G T A A C C A G G T G T T G C G T A C A G A T G G T C C A A T G C A G A A G G T G A C A G T G T G A A G G A A A G G A C\n",
            "2 2 C C A C A C A T C C G G C A T G T C G T A A C T G T T C A C A G G T C A A T A A A A C T C C A G T C T G G T G G C C A G A T G G T A A T G A A G G A C T T T A C C T C C C A A G G C A A T G T C A T A C A C C A A A C C C A C T C G T A T G T A G A T G G T G G A G G T T A C G C A G T G G C C C C C G G T C G T G C C C C A C A T G C T G C G T G G A G C A A C G C T G T A T T A A G T T T A G G A C T A G A\n",
            "2 2 G G C T A G T C T G A T T G A T T A A G A G T A T G A G C A T A G C C C A C A A T G C C G A G G T G T A A C C T T T T A T C T T T T G G C C G T C A A C T T C C C T G C A T G A A A A C T A T T A C T T T T A G C G G A A A A C C C G A G C G C T G T C A C A C A C T G T A G A T C T T G A A C C T T T A T G A T C A G A T G A A T A C C A A C A G A T G G T G C G A C A T T T A C T G A T A T A A C G T C A T\n",
            "1 1 G T G A T G A A A A G A T C C A T C G C T T A A C G T T G G T T T T A A C T A A A G T T A C A G T G G T T C T T T A C C C A A C G G C T G A C G G T G C G A A T T T A G T T C A T T C G T T A C T A G T A C C G T A G T A C G G A C T G G T T A C G A G C A C G G T T C A T A T C G A A C T A A C T C A G A A A C G C A G A T A A C A A T A C T G A T A A G A A A A T T T G G C C G A T A A G G T G C C C A G T\n",
            "3 3 A C T A G C A T A A G C A T C A C G G G C C A G A T G G T T C C C G T C C C G T C C T G T C G T A T T C A G A C T G A A A G G G T T A A G C T C G A A C A C G T C A G G G C G A G G C A T A A T G C C T G A A T A A C C G T G T T C A A C G A T T A G C G T T C T C A G G G T C G G T A C A G G T G G T C A G A C A A C C C C T T A T G C A G A G T G G C A C G G T A T G C C G G G C T T G G T T C A C T A T T\n",
            "1 1 G A C T T G T G A G C G C T A A C C C T T C C C A T G C T A C C G T G G T T A A G A T T T T C T C T T C C A A C G C C A A A C A A A A T A G A T A G C C A C C C T T C C A G G A G A T A A G C A C C A C G A G A T C A G C A G G A T A A C A C A A C T A A A T A G T G T G T C C G A G A G A T A A A A C C G A G T G A C A G A G T C T C A A A G A T A A G G G C G A T G T A T A T A G A A G A T A A G G T T C T\n",
            "0 1 A A G C G G A G T T G A A T C G T C G C C A T A T T G T G A C A A C A A T C A A T G G C G C C T C A A A C T G G C G A G G C C A G T T T T C T G T G A T A C T T T G C A C A A T C C A C G G T A T C G A A G C C G T T T T A C A G T G A C T A A T C T A C G T G A T C A T G A A A G T C C A A T T C A A C C T G T T A T C T C G T C A G A A C C T C T A G T T A T G T T A C T C C G A C T C T G A T A A G A C C\n",
            "2 2 T T C T G G T G A C T T T C T A A A T A T T A A T T G A A T G A C C G C T C T A T A G G T T G A C A G A T G T T C C G G C C C A G T A T A T G C T T A G T C T C T T C T A A T G A G A G G C T A G G T A C C C C T G T T C A C G A T G T T G A G A T C T T G C C A G A A A A C G T G G G G T A A C C G G A G T A T C G A A C A G A T G G T T C A G A C C A A T A G T T G T C C T G C G T T C C T C C G C A C G G\n",
            "0 1 A T C T G T G G G G G T T T G T A T T G G G T G T G G T T C A T A A G T T G A C A G C T T A A A C G G T A T G C C G T C G A A T A A C C T T T T G A C C A G C G C G G A T G A A T G A A G T T A T C T C A G G C C G G A C T A G T G C T G A T A A G G A A A T A G T T C C G T C C C G A G C G A C G C A A C G G C G T C A G G T A C C G A C T G T A T C C C G C C T T G T C T T G G C T A G G A G A A G A A G C\n",
            "2 2 C A G A G T A A A T T T C C T A T G A A C A G A T G G T A T A A T G A G A A A A A A C C T A A A G G T G T T G A C T C A A G C A G G T A G A G G T C C A C A T C T C C T T C G G G A A T A C C T C G A T T C A A G C C A G A T G G T A A G T G G T T C G A A T T G G C C C A T T C C A G T T A A A A C A C T C G G A C C C C T G A G C A A G A A A A A A T C C A C C A A G G C A A T T G T A G C C C G A A C A T\n",
            "1 1 T A G C T A C G T T G A A T T C G C G T A C G G C A C G G T G C T T G T G T T A G A C T C T C T A C T G A C A G T A G T T A A A A A T G G C T G C T G C A C C G T G C T A T G T A A G A T A A G G C C T T C C T G G T G T G C A G T T G C A G A T A A G C G C G A T C A A A T C T A T T C A T C A A C C C T C A C T A G A C T T A A A C T A T G A T A T T G A G T G C A G A T G C T G T G G T G A T T A G A T G\n",
            "1 1 T A A T C G T G A G G A A G C A T T G T T C G T G A A T C C G C T G A C A T A A G G T A G G C A T G C G C C T A G T A T G G G A T T T C T A A C T A T T C T A A T A A C A G A G A G G C A T T T T C A T G T G G C C C A T T C A G A C T G G T G T G A T A A G A G C C C A T G T A T C A G G G G G C G A T A A G G A A G A G T A C A G T T A A G C G A A A G T A T T A C A T C C C T A A A C T G C T C A C A G A\n",
            "1 3 T A T T A C C C T C C A A A T A A C G A T A T A T A C A G A T G C C C A G A C G G T A G A A C G T A A C T A A T C T C C C C A A G A G C C A G G G A T A C G A T A T G A G G C A C C C A C T G A A G C G T T C A C G A T T A T G G A A C A C A G A G A T A A G A C A G A A G A A T T A C G G T C A G C G G T T C A T A T T T C A G C C C T C A G A T A A G C G A A A G T A T T G G C C C C A C C T G G A G G A A\n",
            "3 3 A C A T A C C G A G T T T G A G A A A G A T A A G A T G G G A C G A T A G T G A A C A G A T G T T C G G G A C T G T T C G A T G A T A A G C C C G T G G A A A C A A A C G T C A A C A G A T G G T A C C A G A C C T A A G G G T T C T C T T C A C A A G T G T G C A T C G A A G T T T T A T T C A G G T G C T C G T G A C C A G A T G G T T C A G T G A C G T T G G C A T A T C G C G C C G A C G C A A T G C C\n",
            "2 2 G C G T C G T T T A G G A T C G G G G G A C T T C A T C G T A C T G C G A C T G C T T T G G G C A A A C G A A T G A T G G T G A A A T T C A T C C A C T A G G C A T T T G C G G C G C T G C A C T C A T G G G A T G A T C C G G T A C A C A G G T A A T G T C T G T G A T A C G A T C G A T A C T C A T A G A C T T C A G T A C G T T T A A A G A T A T A C A G A T G C C C T C T G T A T A T G T C G A G A C A\n",
            "3 3 T C C G A A C A G A T G G C A T G G A A T T C G T T T A G A C G A G C G A C T A C T C T T T G T T C C T T C G T G A T T C A A A G C A C A T G T T A A C T G A T A A G G A C A T T T A T T T T T G A A A T G G G T A G A G A T A A G G T G G T A T C G G C C A G C T T T C C T T T G A A C A T G T C G G C A G G G G T G T G G A T A G G A A G G A T A G A C A G C A T T A A T C T T A T T G C G G T A A A A A C\n",
            "1 1 C T G T A T A T T T G A T A T G A A T A C G T A T G A G C C G G T C C C T C G C A G C C G T T T T A A T A A C G A A A T A A A G T G T G T C C C T T C G G G C C G G A C C A C A G A A T A C C C A A T A T C T G A A A C A G G T C C T C C G T A G T A G G T T A G C A G A T T A G G T A T A A C C A T G T T G A T T A C T G A G T G G T G G T G C T A A G A T A A G G C T T G T T A G A C T T A G C C A C G T T\n",
            "2 2 A G A G C C T T G C C A G T A G A T T C C A G A T G A T C T T T A C A T T G T A C C C G G G T C A G G T G A A A A G A G A A T G T G A C T G T C A G C T A A T T C T C C G A A C G T C G G A C A A G G T T G A G A C A G T T G C A C T A T A C T T G G A A G T G C G C A C T C T T A A T T C A A T T A C A C G C T G A A C G A C G A T G T T G G T C C C G G T A T G A T C A G C T A T C A T A G G A T C G C C G\n",
            "0 0 A G A C A G C T G C G G C T T T A T A G C C T G C G T T T G A T G A G C T T C C G A T C G T T G C A G A C C G A C T A G G G T T T T T T T A A C G G A C C G T G A G A A C G G A A G A C T C C G G C A G C G G G G A T T T G T G C G C C A G C C T T C T T A C T T G A G C C C G T G G A A C G G C A C A T T A G C C T T T T T C T T C A A C T T C G G G T A T G A C A G G G G A A A C T C G T T T T G G C A G A\n",
            "3 3 T A T C G T T C C A A G A C A G A T G T C G C G A C G C C T T A A T C T A G T A T G T A C T T G A T A A A C T C A G G G A G A T C C G C G T G T T A G C G C C T A T T G G A A A G C C C T A T T C T A A A C G G T G G T G A T A A G A C G A T C A A T T T G C T A G C G A T G A C G A A C A T A A G A T A C G G G G G T A C G A G C T C G C G A G G A C T G C T G A T A C C C G G G A T T T G T G T T T A C A A\n",
            "2 2 G T G A T A T G A A G T G T G G A C T T C T T A A C A A T G C A G C A A A A C T C A G T G T C G A C C T T A C G C C A A G T G C C T T A T A G A C T A C C T T A A A C C C A T T T T G T G G C G C G C T T C C A T C A G A C G A A A A G C T C G G A A T G G A C T A C C G A T C A G G T G G T C C A C G C T C A A A A T A A C A C A T A T C C C T A C G A A C A G A T G G T A T A G G C T G C T T G A T A A T T\n",
            "2 2 T A G G T G C T T A A G A G G G A G C T T T T T G G T T G A T T T T C C C A G A G T G G G T T C T C A C C C G A T G C T T T T A A C A G A T G T T G A G C A C G A C T T C G C C G C A G T C A A C A T T T T A C A A C G C T A G G A G A T C T A G A A A G G G T G C T G A G G C A G T A T T G T A C T T T T C G A T A C C A A C T A A C G T C T A C T A A C A C C G A A C A G A T G G T C A C G A C G C A G G G\n",
            "0 0 G C C T A G C C A T A A A G A T T A C T C T A A T G G T T G C A T A C A T C C A G T A T G T A C C G C A G G T G T C C G G A G C A G T G C C G T T A T G T C A G A A A A T T A G G G A A T A C T T C G G T C C G T G T C C A G A T A C T C C C C G T C T A A A C A G G C C C T A T A G G G T T T T C A A G C T T T T A C T A G A A T T C G G C T G A T C G C G C G T G A A G A T A T G T C C T T C A G G T G A T\n",
            "0 0 T G G A T T G T A G A T G T G A C G G T C G T G G C T A G A T A T C A C T A A A G T A A T G G G G T A T C G A A G A T G C C G A G A A T A A A T A G A T C T A T A T C T G G A C T A A C C T T T G A G G A G T G G C T C G G T T C A T A T T T T G T C T G C T A C C G C A A T A A C A A G T A T T T T C A A T G A A G C T G A C C A G T A T G G T C T C G A G C A T T C A T T A A G T G A G T A C G C C A A T A\n",
            "1 1 A C A G A T A A C A A C T T T G A A G A G C T C G G A C C A T G C A C A C G C C A T A C C A A A T C A T C A G G T T C A A T G T A G G G G T A T A A A C A A A G G T C A C G A A C T C A G T A T C T C C T A T T T C A A C A C G G A C G A C G A T T T A C C T T C A T G G T G T C A A T T A T T G C C A G A T A A G A T G A A G A T A G G T C C G G T T A A T A C C T A A A G A C A A T G T T G T T G A G A C A\n",
            "3 3 A T T G G A G A C C A G A T G T T G G C A C G T A A T A T G C T G G T C A C A T A G T G C A G A T A A G G T A C A G T T A G A G A T G A G G T T C T A C C T T T C C A C A A A A C T T T C A A G G T T A A C A T A A G T A T A A A A A C T C A T A A G A G C A G A T A A G C T G G G T G G A A C T G G T T C C A T G C T C G C G T C C T C A G A C T T T T T G A A T A C A C C G C T G G A A C C A G A T A A G G\n",
            "3 2 G G G G C C T A T A A T A T A A T G G T A C A C A A A C A G A T G G T G G A A G T C G A T C A G A T G G T G G C C T T T A T T C C T T C C T A G T A A T T A G C A A G T C G T G T C A A C A G A T G G C C C T C G G G A C A T T T T A A C T G C C G G G A G T C A C C T A C G G G A A T C A G G A G A T A A C A C G T T T C A T C C T C G G A T C C T G T A T A A C A T A T C T C T A T T T C T G C G A A A T T\n",
            "2 2 T T G A C T G G A T A C A A T G T A C C T G T G C A T C A T G G C A G G G T G T G G T C A T C A C T T C A C G C C C A A A A A G A T C T G G A C A A T G C G C C C T A A C G A A A A T G A G A C C G T C G A A C G C G G C G C T A C T T G A G C A G T T G G T C A G T C C G C G A A C A G A T G G C C G G C A A T T G G T G T C G G A G T G T A T A G G C C C T A A T T G G C T T T A A T C C A T A T A A G T A\n",
            "0 0 A T G T A G A G A T G A C A G A T T T T A C G T A G C A T G T C T G T A A T C T C T A T A T A A A A G C A C T C C A T C A T C G G T A G G G G A C A G G G A A C C G G A T T T T C T G T T G C T G G G C T T A A C A C G T A C A C G G C C G C T C C A T C G T T G G A C A C A A T C C A C A G T A C C T A G T A A A T A A G A A T A T G G G T T T A A A G A A A C A G T T C G A T A A T G A A C T A T A G T A C\n",
            "0 0 G A G G G C G A G T T T C T C G G G T T A T C A T T T A T A G C A G A G T T C G T G A T G G T A T C A T C G C T T A G A A C C C A G A A C A T A C T C A T A A G T A C G A C A T C C A A C C G C T G A G T A A T G C A A C G A A G G G T T A C G T A T A C A T A A G T A C T C C C T T T A A C T T G G C G A C A T A T T A T G C T A A T A T C G T C G T T T A C T A T A G C A C A A G T A A T C G T A A C G G C\n",
            "2 2 A T T C C T C C A T T C C T T G A A A G G G G A C C A A C A G A T G G T C T C G C A T C A A C G C T A T A A C T T G G C G A C C T C C T C G A G C A G C C T G G A A G T A G G T T A G C C T C C A C C G T T A C C G T T A C A T A G A C C A G C T T A T G C A G C A C C A G A T G T T G C T T A A T G G G G C A A A A G A G G G C C T A A A A T C T G G A C C A G A T G G T C G G A G T T G G T G G T A A G G G\n",
            "0 0 G T T C C A C A T C T A A C A T A G G C A T G C C T G A G C A T C G G C C G T C C A T A G A C T A C A G A C A A A C G C A T A G G A A T C A A C A A T T C C C A A C A T A T C G C A T G A T C A G C A C G C A T G A G C A G T C T A T G A T T G G T C T C C C T G G G A T A T T G A A T T T T T G T T T C G A C A C A T T T A T C C T G G C T G A A A T C A G C C C C A G C T T A A A G T A A T T C C T G T A C\n",
            "2 2 T T T G T G G A A C A G A T G T T C A G A T A T C C T A T T G A C G A G A G G T G G C C C G C T C A G G C A G G G C G T T C G G T T A C A G A T G G T C G A A G C G A G C G T T A T C A C C A A C A G A T G G T A G A T G C G A T G T C C G T C T G T G A A G A C T G C A T T A T C C G G T T T G A A G T T T T C G T G C T T C A C C T C C A G G A T A G C T T C G A A G G T G C T A A T C G T A T A T T C C G\n",
            "0 0 G C C G C C C C T G T C A G A C A G C G A T C G C C C T T T T T G A A C G A G G C C A G G A G T A G C A T C A A A A C G A G A G A G G A A C C G G A A C G T A C A C C C C C T A G T G A G T G C T T T T A T C C C C T A G T C A A T C C G C G A G A T A A T T G T G C T A T A C T A T C T T A A T C A T T G T T G G C G A G G G C T C C A C T T T A A A T A T G A T A T C T A T G T G C A A A A A G G T A C G G\n",
            "0 0 A A T A T A G T T G C A G A C A C C A C C C T G A C C G T G G A A A A G A G T T G G A T T A T A T T C A C C G C A G C T A T C T A C G C C C A G G T T A A G C T G G T C C A T C A G A T A G G C C A C A T T G G T T T A A C C C A C C A G G C T G G A C T C T C A A G T A G G T T G G C T A C A A T G T A T G C A G C C A T A G T C A C A G A G G C T G A G A A C T C G A C G A C T A A G G A T C C A C G T C C\n",
            "3 3 G A T A T A T C C T G A T A A G C A G T T A G C G C G T G T A A G C T C A G C C C T T A T G G A C T T G G A G T A G T A A C T G C G C A C A G A T G T T G C T A T T T T C A G A T T A G A T G T A C C G T G T G C C C T G T T G A A C T C T G A A C A G A T G G T C T T A C T A G T G G C A T G T A G G C G G C C T G G G A C A T C A G G A T G A T T A T G C A G G G A T G C C A A C A G C A C T T T A T T T A\n",
            "2 2 A C A T A G G C T A A T C T C A T A G T C C A T A T A G A T C C G C C C T C C A C G A C G T G C C G T A C C T C T G T C T T C T G T T C C A G G A A G A A C A A G T A T T C T G T A T G C G A A C A G A T G T T C G G C A T C A A A C T C C C A A G G A A C G T T C A C A G C G C G G A G T A A C C C G G A G A T A G G G T G G G A C A G A T G G T C C C A T A C A T C C A T G G G T G G C A G T G C G G C G A\n",
            "0 0 A A G A G G T A A G G T C T A G T T A C A G G A G G C C A A A T G A C G C C T T C A T T G A C A C T C A A G G G G T G C A A T C C G A C G A A T G G G A T G A T A C A T T A A G G T T G T C C T A G A T T T T G G G A G C G T T G C A A A C A G G G T T T T T T C A T T A C T T G T A T A T T T T G A G A C T C T A G G C C T A T C A C C A C G C G T T G G C G G A T G G C A A A G G C A A T T T T A A C T C C\n",
            "3 3 A A G C T A A A A T C G A A T G T T T T C T A C T A C T G A T A A G G G C A G A A C A G A T G G C T C C G G A A G G A C G G T T T G C G G C C A A G G G G G G A G C T G G T A A G C A G T G A A C A G A T G G T C C A A C T G C A G A C T A A G A T T C A G C T C G C G C A A G A T A A G A A C A G A T C G A G T T A C A G C G T C G A A C A G A T G T T T C C C T T C T A A T G A A C T A C T C G C A C A C G\n",
            "2 2 G C T A T A T C A G T T G A C A C C G A T T T G C A G A T G G T A T T G G A A G T A G G G G A A C A G A T G G T A T G T C C G C C A G T C G T T C A A T G T T G A A T G T G A G A C G G G C T A A T A T A T A G A C A G C A T C C T C A C T C A T A G T T T C T T T A C A T C A G T A C C T G G A A G T C G T C C C A T A G C T G A A A A T T A T C C A C G C A A C C T A T C C A A T T C A A T G G T A T G G C\n",
            "2 2 G C A A A C A G A C G G G T T T C A A A C A A G T G A A A C A G G G G T A T A C C A C T G G G T A G G A A C G C T T A G C G T A A A T C T G T C A C T T A A C G C T A T A C C A T C T G G C A A C C A G A T G G T G T G G T G T G G T T T T A A A T T A A G T A G A G G C G G A G C C G T T C C C C G T C A A G A G C T C A G T C C C G T T T C T A G T C A T C T A C C G A G A A A C A T T C T T A C A T G T T\n",
            "1 1 A T T A C C T T A A T C A A G G G C C C A A A T A G T A C A G A G A G T T A A A C T C T A A A G T A C G C T A T C C T A G A C A G G T G C T A C G A G A A C T C G T T A A T A C A A T G A C G A C C T A G C G T C A A C T C T A C T C A T C A C T T T G G C C G C G A A C T G T G A T G A A G T G G T T G T G C G T A C A T A C T C A C C A G T C C C T A T G A C T C T T A A A T C T G A T A A G C A A T G T T\n",
            "2 2 G T A T C A T A C G T T A T A A C T A T A G T T C T A C G A C T A A A G G G A A C A G A T G G T C G A T C T T C C T T A T C A G A C A G G C T G T A A T G G A T C G A C A G C T C G A C A G A T G G T C C T G G C G A T T G G T T A C C A G A T G G T C A G T G C T T T A G G A C G T C A G G A A A C C G A T T C C C A T T G C A A A C G G A T A C A T G T G A T G G G C T C C G A C A T A C C C C A T C C A G\n",
            "3 3 A C C C A C A A A A G A G A T G G G C G T G A T A T C G A G T T C A T T G A C C T G C A A T G G T T A G T C T A G C G A C A T C G A C G G T G C T A T C G T C A T A A A G A A A A A G C G C T A A T C A G A T G G T C G G C G A A A T A C A C A C A T A T A T A A A T G A T A A G C T A C T G C C C G G A A T C G T T T G G T T A G C A C C T C A C G G G A G T A C A G A T A A G G G C T A C A T G A T G C A T\n",
            "1 0 T C C A C T A C T T G T A A T C T C C G C T G C G G C T A C A C A A G T T T C T A A G T C T G C C G G G G G A G A T A A C A A C C T C T A T A T A C C T A C T T T G A C T C G C T A T G G A A C A C A C G C A G G A T C A T C T C C G A C G A G A T A A T G A G A G A T T G T A G T G C A C C T A G C C G C C A C T T T A G T G T A G A A T G A T A C A A C T T A T G C T C T G G T A G A A C T C C A A C G T A\n",
            "1 1 A C G A G A C A A G C A A T T T G C C T A T T T A C T G C G T T A C G G C A G C A C A A T A A A T A C T C C T T T C A C C A G T A A G T A A G A T A T G G A G G C T A G C C C A A T A G T G G T A T T C C C T A T T A A T C T A T G A G G A G A T A A G G A C A T G G A G G T A C C A G G G T T T G G C C A C T A A G G G A T C A A C A C T G C A G C A C G A A A C A A T T T A C T T G A T C A C C T C G C A C\n",
            "2 2 T C G C T T A T A G C G T T A C T T T T T A G G A A A G A C A A A T A C T A C T T A T A G C T T T A A C C C A A C A T G C T T G C T A C T A C T A C G C T A T G C A G G G T T A A C G T A T T G C G A T A A T G C C G C A T C C G T T A T A A A T G T T A A A G G G G C A A C T T A C C G T G T C C T G C C G T T G T C C G C G A C T C A G A T G C T A A G A G C A A T T G T C C A C T T G G C C G G C C A C G\n",
            "2 2 A A G A T T A C C A G G T G T A A T G T A T A G C C G G G G A A C A G A T G G C T G A A C T G A C C G A A C A G A T G T T A A G G T G T C A A A T A T A T T C G T G A A T C G A A A T C G T A G T T T T A C T T A A A C G A T T A A T A T G A G G C C G G A G A A A T A T T C A G G A A A A C G C T C T A T T C T A T A T T T G G T T G T C C T C T C A G C G A C A C T A A T G A A G G T A A T T T G C G G T C\n",
            "0 0 A G G G G T G G G C T G T A T G T G A A T A T C A T A C A G G T C C C T C C A C A T C A T T T A G A A C T G A C A T A T A T T A A C A G T G G A A T G G A C G A C A T T T C C T A G C G C A G G C T T A C T A C C G T A A T A G C C A C C A T T G T T C T G A T T A G G G C A C G T T G C C T G A A T C T T C C T G C C C G C A A C C G A T C A C G C G T T C C G G A A G A A A C T T T C A G G A A C T C T A G\n",
            "2 2 G A T T A A G T T A T G A A A T C C A T C G C T G A C A A C C T G C G G T G C G T T C C T T G T G C A C G A T C A T G A G A A T G A A C A G A T G T T C C G C T A T G A G T G C C A C A G A G T G A T A C C G C A C A G T G A T C T C T C C C T C G A A C C T A T C C T G T C A G C C A C A A C T C A A A T G T A T T T A T A A C C G G C G A C C A G G T G T T T G T G C A A C A A G A A G T T A T T G A T T A\n",
            "3 3 C G A C C T T T C A T T A A G C A C T A T A A A T T A T A A T T G G C A G T G C G G A C A T T G C C C T A A T T T G A G A A A A C C C A A C G G A G C T A T A T T A C C G T A A T T G G T C A G G T G G C T T G C A C G A G C C A A T C G A G A G A G C T T A G A A C C A A C A G A T G G T C A C C C C C G C A C T A T G A C C T G C C A A C A G A T G T C T G A A G C T G A T A A G A C A A C G T G A G T C C\n",
            "1 1 C T C A C C G C G T C A T C C T G G T G T C C A A C T C C G A C C G A A T T T A A G A G G G T T A A T C C C G G A C A G T T G A T A C G C T C T T C G T T A A A A C T G G G T G C A A T T A A T C G G T A G A G G C T C A C A A T A A T T C T T G A G G G C T G A T A A G G T T T A A T G A T A A G G A A A G A G C G C A G G A G A A T A G A T A A G G C T G A T G T G A T A C A G G G G C T T A T A A G G A A\n",
            "0 0 T C G T A C C T C T G G A C A A C C A G T G C T G A C A A A G G A C C A G T A G A G T C A A T G A C T C C A G G T C T A G T G G T A G T C C T T C T G T T C A A G A G T A T T G A T T G T A A T A T G T A T T C C A C A A A G G G C G G A T G A A G C C G G A G T T A G C A A A G G A A C C T G A T A C G C T G C G C G C T A G T A G G T G C A A C C A A A T G C C T A A T T G A G A C G G C C C C G C C A T T\n",
            "2 2 G A G C A T C G A T A G C G A T C A T A A C C A G A T G G T C G C C C T A T T A T T A T C A T C G C T A G T G T C A C T C G T G A C A T G G A A G T G A C C G G G G A C A G G C G T C C C G T C C C G T A G A C G T G A A G T C T G A C C A G A T G T T G G T T G A T A G T A A T A G G G A T T T G T G A A A C G A G C T G T G A C A T C T T C G G G C G A T T C G C A G C A T C A A T C C C A A A A G G A T G\n",
            "1 1 C A G A T G A T C G T G A A G A G T A C C T T C G A C A C C C T T T G G T G G G G G A G G T A G T T C C T A G A T A A G G A A G T A G C C G A G A G C G C G C A C A G A T A A G A T A T C C G A T G A C T C C A A G C T G G T A T A C A G A G A C T C T G A T C T T G G C T A C T T G T G G G A T C T A T T T T C C G T T A C A G T G A T A C T G T A G A T T A G G A C A A C C A G T T T G A T T C G T C A A C\n",
            "1 1 C C T T A A G A T T T C C G A G T C G T C C C A G A T A A G G G A G A C G C C C T T T A C A A A C A C T T C A T G G T A T A T C A T G A T G A C C C C G A T G G T A T A G A T G C T T C T C T C G T A C C T A A C A A G C C A C T A A T T G T C A C A G G T G C G A A C G T T T T A T A A C A T A T C A C A T T C T C T T T C A T A C G T G C C T G C G G G T A G C A T T A A A A A T A G A G A C T C T C A C A\n",
            "0 0 C G C T T C T A A G C C A C C C C G C G G C G T T T T C C G G T T T T G G A G T A T G T A C T A G G G G T A T A T C T C C C T T A G T A T T G G T C A A G C C A T A T T C C T T C C T C C G T C C T T C C T G A T A G C T G A T T G T G C C T A G C T A C G C T T C T T G C A T G C A A T G T G T G T A G G C A A C A T C G A G G G G C A G A A G T T T G C T A G A A C A C C T G G T T T A A C T G T T G A A C\n",
            "3 3 A A G A A A T A A C G G G T T T C T C A T G T G T C C T T C C A G A G T T G A G C T C G C G C T C C T C C A A T T C A G G G C A G A T G G T G A G G C T T G A C T G A T A G G T A C G T G C T T T C T C T A C T G G T G G A A C G G T T A T A T T A A C C T T G C C T C C G A T A A G G G G T T C T C C A G A A T C A A T A T A T T A G T C C A C A G A C C T G A T A A G G T C C G G G C A C A A G G T C A G C\n",
            "1 1 G T A A A A C A C C G G T C G T G G G A G A T A A G C A T T A C T C A G C C G T G T G G C A T G G C C T A G A T C C T T C G T G T C A A A C G C T T T T C A A G T G A T C T G C A T A T T T C A A C A T C T A T T T C C C A C A G A G C G A A T C C A T G T A A C T G A T A A G G A T G A G G T T A C A G G G C G G T A A G G A A A G T G T G C G C A T T C A A T T T T A A A T A G T T A G G A G T C C A T C A\n",
            "3 3 A G T G G T A T A G C T A C G T T C G C C C T C T C G C G T C G G A T C T C T T T A A G A A G C G G A C T A G A C G A T A A C C C T A C A G G C T A A T A A T T A G C A T T G G A C A C T A T G T C T T T C A C G T T G A A T C A T G G T A A T A G T G G G C C G A G A T A A G A C A A T A C A T C C C A T T T C T A T G A T C G T C T C A G T G C C C T A G C A G A T G G T C G C A G C T T A G A C A A G C T\n",
            "0 0 C G T T G A G A G G C A A T G A T C G T T T A T T T C T T T T G C T C C G G C T A T A A C A C T G T C G T A A A G T A T A T T C A G T G G C C A A C A T C T C T G T T T G C A T C G G T G G C C A C A T C A C A G C G A A C G T T T C G G T G C A C T T A T G C G A T C T G T C G A T A T G G G C C C C C C A C T G A T C C T C T A G C G G A A C T G G T G C A A A A A T A G G T T T G T C G C C A T T T T C A\n",
            "0 0 T G G C C T G A A T A T C T A A A C C T A A T C A T A A A G T C C A C A A C A A A A A G C T T G G A C T A G G A T A A G T T T C C T T G C A A C T T A T A T A C G T C A A G T C G C T A C A A A T T G A T A T C C G T G C T T A T C C A G G C C A A T T T C T A T C T G C T A T T T G C C C T T A G T G A A G A C T T A G G A C C C T C C G C C C C T T G A C T G A T A C A C T C A A G G C G A G T T T A G C G\n",
            "1 1 G A C A T C C G T C G T G A C T T G T A A G A A C G T A C T C T A C A A T C C C T T C C G A T G C C T A A A A G A T A A G G C T T G G G T C G T A G T G A T A C G A T G T C A A G G G A C G T T G A G G C A A C T A T T T G G C T C T C G T G T A A C C A C C T A A T C G T G C T C C G T C G A C A A T C T T G C T A G T G G T T T C G T C A G T T T T A A T G C G G A G T C A G A C A A T G T C T G T C G G C\n",
            "3 3 G G G A A A T A A C G A A A A T T A C C T G G T T C G C T G C A T G A A A A G G A G A T A A G G T T A T G T A G G A A A C G G A A A G C T C T G G C G G T T T C A A A A T G C T C G C T C T C G A G A A G C C A A G T C A C A C T G T A T G A T T A A G A G T G T T A A A C G G A C A G T T C C C G A A C A G A T G T T A C G A T G T T C G A G C A T T G T G G T G C C T G C A A G C A A G A T C T A G T T C C\n",
            "3 3 T G G G C T C G G C A T G T G T A A G A T A T A T G A G C T C C G A C T T T A T T G A T A A A T A A G T G G A G G T T C T A T T T G G A A C A G A T G T T C T T C G T A C C A T A A A G A G T C T C A A T T A A C T A A T A A A C G T C T C A T T A G G G A G A T A A G A A C C C T A C C T C A A T C C T G G G G C G C T C C T C T T C G A A A A C A C T A T G T T C C T T C C G T A T A T T G A A A G A G T G\n",
            "3 3 T C G A C T T C T T G C A T A G C G A C G C A G T A A A C C A A G G C C C G T A T A C G T A A A T A G C T T T A A A T C G A T C C C G A A T A T G T G A C G C C A A C G C T T C G G C T A A T A T C T A G C C A A A C A T T T C T C C T G G C T C G A A G A G A C A C T C G A A G A G A T T A G C A A T A A T T T A A C A G A T G G T C C G A G G T C T G T C C G T G A G G C A G A T G T T G G G T C T C G G C\n",
            "2 2 T A T A G T G T G A C T T T C T G C C T A T T C A T G T C A A A C T A A G G T C T A T G A T G T T T C A C C A G A A C A G A T G T T A A G T C G A C G G G A C A G G C A A T G T G A T C C G A C C G C G T G G T T G A C G T G A A G G T A T T G T T C G A C A T A A T T T A C A G A A G G C C G T G C C C A T G A G T A T A A G T A G T C G T G A C A C C A G A T G G T G A G A C G C C C A T C C A T A G A T T\n",
            "3 1 C T C C T T A G C C A G T T G T T T A A A T G C A G A T A A G A T A G A G T T T A C C C A C C A G T T G T T A G G G C A A C C C A A A A T C C C A C G A A T A A A C C C T C C T G A T T G G A A A T T C A A T A C C T A C A T T C G C C G C T T G T G T A T C C T G C C T C A T C T G G A G C C C T C A A T A C C T A C T G T A T C A A C T G G A C T C A A A C A A T G T A T A C G C G C G A A C A C C G T G G\n",
            "3 3 T T A A A T T C A C G C A G T G T T A A A T C T A A G A T A A G C C A A T A A G T A C A A C C A G A T G G T C A T G G A A G A G T A T G C G A A A C T T T T A C G A C G T T T T G A C A A G A T T G C T G A T G A G G G C T G A T A A C A G C A T C A G G G T C G C A G G T C A A G G G A T C T C A G G T A A C G C T A C G A C C G A C G C A T T G T T G T T G G C C A T G G T C G C G T A A A C C C A A G G A\n",
            "2 2 T G G A G T T C A G C C G T T T A A T T C A A G G G A A A C C G A A C A C C G A G C G A G G A G A C C T T C G A G C G G A C A G A T G T T C A T A G G A T C G G T T C C T C C C T C T C C T C A A T C T G G A T T G C C T T A G T C A G G C A C G C C T C T T A A A G A C C G A T T A A G G G C C T A C A A A C C T T T A T A A T G C C C C T A T T A G T A A T T A T G A A A T A C T G T A T C G A T C A A T T\n",
            "3 2 T G C T T G A T G C G G A G C C C A A T A T C A C T A G G A T T A T G A C A T T G G A C G T G C A A C G A C A C T G T C C G T A A A A C C G G A T C G C A T A T T T G T A C C T C C C A A T T C T T C G A T A C G T G T C A A T G A A C G T T C C A A C T A A A C C C C A T A T A A C C A C A C C A G A T G G T C A C T T G T C G A A G A T T C G A C A C C G T A C A C T A C A T A C G T G T G G T A T G A A T\n",
            "0 0 A A G G A T T C T T C C C T T C A C T A T A A G T T T T C T G G C G T G G G G C T A T A G T A T G G A C A T G G A C A T T A T T T A G T G G A C G A C C T A A C T G G A A G A A G C A C C T T C A T G G T G G T A T A A G G T T A G A T G T A G A A T C T G C C C A T A A A C A G A A A G A A A G G T C A T C T C A C C C T C G A G C G G C A A G A C T C C T A C G A G C C A T G T G C G C A C A C A A G G T T\n",
            "0 1 A A A G C G T C T G C A G T T T G C T A A G A G C T G A T T T A A G T C T A T A T A G G G T T T C A A T A C A C T T A T T A T T T C G C A A A G T A G A T A A G G T T A T G A T A T G A C G T T T C C G C T G A T A A A G A T T T T A A T A T T A C A T A A C C A A C C C T G C C T T C G G C T C A G C A A C A T G A A G C C G G C A G A A T T T G A A A G A C G A C G T T T G C C A C C A G G A G A G A T G T\n",
            "0 0 C G A A C G T C C G A T G T G C G T A T C G T T T C T G A A T C T G A A C C C G A C C A A C C A A A G C A A G G T G G T C C T T C G A C A G C G A T C G G C A C C T G T C G G A A C C A A T T C A T T T G A T T A A G G C T T A C C A A A T C G A A C A A G G C C T A A A C G T T A A C C G C A G G C A G G T T T A A A T G T G T A T T T G C C T G G A A A A T A T G G C C G A C A G G C G T T T T G T T G T T\n",
            "0 1 T G A T A T C T T C C A G A G G G C G G G A G A T T A T T A C G G A A T T G G A A A C A C A C A A C A T A T A C G C A C A G C A T T A C T T T T C A T T A G T G G A T A A G C G T A G T C C T T G T T C T T T T T C A A T G A A C A T A A A C T T C A A T C T A G A A T C C C A G A G A A C C A T G G A C T T A A G T C G C G G A C C A C C G A T T T A T A T G C G C A C A C C C T A T A A T T G G G A C T C A\n",
            "1 1 A T A G A T G A T T A G G A C G T A C A T T T G G T G C A A T T C A C G C G A G A A A C C G A C A A C C T T C T C C G A T C G G T G C A T G G T A C A A G G G T T T T A A G G A A G A A G A G T T A T T A A A A A T C A C T C A G T T G T T C A G G C A G A A A T A G C C C A C C A G A T C C T C C A C A A G G C A A A C C A G G G A G T A A G C A G A T A A G C C T T G A A C G G G C C G G A C A T T T A G A\n",
            "1 1 A C A G C T A A G A G C C T T G A T G T G G T A A G C C T G A T A A G G G G A G A G T T G T C T T G A T G T G C C A A T A A C G A A A T A T G A A C A C T A G G T C T G C T C A T G A C C A T T C A C A G A T A A G A A T T G C A A G A T A A G C A C G A A T A A G A C T T C G C A A C A C A C G T G G G A T T T T C C C C A G C A A T C C T C C G G C A T G G T G C A A T T A G A C G G G T A A T G G C G T G\n",
            "3 3 A A G G A G A T A C C A G T G A T T A C C A A G A A A G C A C C T T A A G A T T C G A T C T G T C T C G A G G C T G C T T G T T C T T A T G T G C G G C T C T C C A C G T C G A A G C G G A C A A T A C C G G T C A C G T G C C G A A A A C G T G C A A T A A C T C T C A G A G C G A A C A G A T G G T A A A T C C T A T G C A G G T C A T G A C T T A C G T C C G A T C C T G A T A A G A A G A A G C G T T A\n",
            "2 2 C T C C T C G T T A A G T C T A G A A G C C A T A A G C G A G A C C C T C T T A G T T T C G A T C T G T C C C T A A G A C G C G A A A T C A T G C A A T G T T G C A A G C G T G C T C T C G A A C G C A C C A G A T G T C A C G C G C C G A G C A C A C C C T C T T T C A G C C A G A C G G A G A T A G C T G G G T T T C A A A C G T T A C G C A C A A T A A C A G C C C T T T G G C G T G C G C A G A T G G A\n",
            "2 2 T G T G C C T T A A G A T T T T G T A A T A A T T C T T C G A A T T G T C A T A C T T T T G G C G T G C C T T G C T A A G A C T C G T A C T C C G T T C C G C A G C T T T C A A A T C C C G C G A A A C T T A T C G G C C G A G A T A A C A A A C C C G T A T G T G A A A G T G G C G C C C A C G G T G C T C G T C A A G G A C A C T A C A A A G G A A C A G A T G T T C A C G T T A C T A G C C C T T A C A A\n",
            "3 3 A G G G C G T C T G G G C A C T T C C C T A A G C C C A T T G G T G G A G A T G A C G G T T C G T G A A T A C G C C A A A T T G A G A A T A T A C A T G A G T C T C A T G G C G G A A G C C G T G A C C A A C T T C A G A G A T A A G G C T T G A T A G C G A C T T A C C A G T C T G T T T C C A C C A G A T G T T G A C G A T C G A C T G G C G G T T T T G T G C T A A G A A G A T T T T G C A A T A A G G A\n",
            "0 0 G G A T A A C T G T T T C T A G A G T T A T C T G A C G T G A A T T C T A T G G T T T A T A T G T G C T A C A C A C G G T T G G A A T A A C A T A C A A G T T C C C T G C C T T A A A G A G C C A T G A C C G A G T T A A T T T T T G A G C G T A G G T C T C A A T G G A A T G C T C C G G T T A A C C C G A T A G G G T C T T A G G A T A C T A C A T T T G C C T T A C G T A G A A T T C T C G T A A A T G G\n",
            "1 1 T C C A T G T T A A A C G A G A C A G C G A G T C T C T T G A C C A T C T C A T T C A A C A G A T A A G A A C T T A T T C A G T T G G A A T C C C C T T T G C A A C A A G A C T C T G T T T T A G T C C A G T A A A A G T T T G T C T G C T A C A G G A C T A G C G A C T A A A G T C G A A T T C T G A T A A G G C C C T C G T A C C A C C T C T T G C A T A T T C A G A G T C T C G T T T G C C A G T G C C C\n",
            "2 2 T G A T G C G A A G A A C T A A T T A A A G G A A C C A C A G A T G G T G C C G A G C C C A A C A T G T C G T A A T T G T A G G C T T G T A A C A G C T T G T A A T C T C A T G T A G G G A A C A G A T G C C A G G C A C C A T C C G T G C C G T C T T T A A C T A C A C C T T A T T G A A C C C A C G G A A G C T A C A G G T C C C C G T C G T T C G C G A G A A C A A C C A T G C T A C A G C G A G A T G T\n",
            "2 2 C A G A T C C T G C A T G A A G A G A A C T A C G G C A A C A A C C T C G G G G G T G G G T G A C G C G G C A T A A A A T G C A C T G T A T G A A T G G T A A G T C C C T G T G A T T G C A C C G C C C A T T C T C G C T T A T T T T C C G T A G C T G G C T A A T A G A A G T C C G T C T C T A C T T T T C C A C G T G C C A G A T G T T C C T C T T A A C A G T G G A G C T A C A C T A A G C T G T A C T T\n",
            "3 3 G C A G T C G T T C T C C G A A C A G A T G T C C A T A T T C T A A C C T G C T T C G A G A T T A G G T G T T A T C T C C C G T G G G T A G C C A C T A A C A C T A C A C G C T A A C C G A T T T C G T C G C A G G T G T C T G T C A C T A T T C G A A C T C A A T A T C C T G A T A A C G T A A T T A T C T T A G G A G C G A G C A A T G G T A T G T A G G A T G A A G T C G C G T C C G A T A T G A C G C A\n",
            "3 3 T G G A A G T A T A T T T A T A A G C G G A G A C C G T C T T C T C G T A G T T A A T G A A G G C A A A C C G A A A A T A G A A C A G T A G C T G T A T T A C C C G A C A T C C T T T A C A G C C T C A C T G A T A A G C C A T T A A A A A A C A G T T G G T C A G T A G G A T G T G A C C A G T T G C T G T C T A T C A G G G T T C A T A C G T A A G T G T G G C G T T C C T T T A C A G C G G A T A G G A T\n",
            "3 3 T T A T T G G C G A A A A T A C A G A T G G T A T C G A T A A G T C T C A G A G A G A C C A G T T A A C A A G T G G T T T A T T C G A G G C A G A T T A G G A C A T T A A A G A G T G T T A A C T G G T C A G A C C C T T A T G A A A T C T G A A C G C A G T A C A T A A C G C G A G G C T T C G C A C T A T T T A T C C A G A C G T C G G T A C T C C C G A A A A T C C G T A A G G T T A T A C A C C T A A A\n",
            "0 0 G A T G T A T T T G C A T A T A C T C T A C A C G T G C A A T A T A T C G T G C C G T T C A A A C G A C T C A A C A T T C C G C A T G A C T C A T T C A A C T T A A T C A A C C T T T C A A C A T G G C C T C A G G G C A C C T T A A A T G T G A G A T C T C G G A T C A A T G A G T C A A A G T G C T T T C T A T C C G C G C T G C T T T T A G A C T G C C A C A T C C A A G T A A C T G T C C A T C G G T C\n",
            "2 2 T T A T G A T G C A T G A C A A C G C T T A C C T C C C C T C C G C G A T A G A T T T T G G T T T T C T G A T T A T A A G A T G G A C G T T C C T A C A G T G T T A G C A A T A A C C G C A T G C A G T A A T G T A T G T A T T G A A C G C G T A A A T C T G C A A A C T A A C A G A T G G C T A C G G C T G T A T A T T T A A A G T A C T C A G C T G A C G C C T C A T A T A C C G T G A C A C T A A T A T T\n",
            "0 0 T T G G T G A G C A C C T C G A C A G A G G A C G T G C C A G A A C G C C C A C T T C T G C A A T A A T T T A A A A T T C G A C A A A G A A G G T G T T A A C T A C G C C G A A G A T A T G G G T T T A A A T C T G T C G C T T T C G C A A A T A A G C A A T C T A G A A T T C A C G A A T A T A G C A C A T T A C G C A A T A G A G A C C C C C T A C C T G G C A A A G T C T C C A A G C G A G G A C T T C T\n",
            "3 3 A T A T G A A C A C T G A A G A T G A G C T A T T G A T T C C A T G T A G C A T T C T C T C A T A A C T T C T T C A G T A G T G G C T G T A C T C A A C A G A T G G T G C C T A T C C C T T T G C G A T T T T G A G A G T A G A T A A G C C T A G A T A T T G A T G C A C T T G T G C G G T C T G C G T A C A A T A G T T G A T A A G G C G C T T A C T C C G C T A C A T C G T C C G T G A A C A A T C C T A G\n",
            "1 1 T G A C A T A T A T T C G T G C A T A C C T C A T A G T T C C T G C A C G G A A G G A A T T A T C G C C G T A T A C T C T G A A A A G C A G A T A A G G A C A C A T A T C C G A G A T A T G T G G C A C A A A G C T G A T A A A A G A G C C C A G C A G A T A A G C C G A A A G T T T A C T T G C T G A A T T C C C T G G A C C C T C A A G G T T T G A A G A T T A G G G G A G G C A A G G T A A T C G G G A G\n",
            "3 3 C A A A T T C C A T T C C A G C G T C A G G A T A C C C G A G A T A A G C A A A A G G G T G T G G G T T T T G C A T C A G T A C A A T A A T G A T C C T T G C A G T T T T G C G A A A A A C C T C C T C A A G A A T A A C C T C G G T G A G A A T G T C A G T C G G T T G G C G A A T G C A G A T G T T G T A T G A T T T A A T A G C C A C A A G A C C A G A T G G C C C C A G A G T G A G G G C C C C G A C T\n",
            "1 1 G G G T G A T A C G T T A A C G A T G C G A A A A A T G C A G A T A A G G C C T T T A T A C A A T C A A C A C A G C G T G G G T T G C C A T G G A C T C C T A C T G C T G T A T T T T G T T T T A A T C T C G T T A T G C C G C G G C C C G A A C G G G T C A A G T T A G T G A T A A G G A A C T G C C C G T C T C A G T G G A T T T T A C T C A A G T G A C T A A A C A C C C G G T T C C C T T G A A G C G C\n",
            "2 2 A G G T G A G C G A C C A G A T G G T A C G C T A G G A C T T T C T T G C T T G A T A G T A G G C C C C G T G C G T C A C C G A C C G A G C G G G G G C A A C A G A A T T A T T A A G G A G C A G T G C C C G C C T A T G G T G T G G A T A T T T A G G A C G G A A C A G A T G G T G T A T C T G T A C A G G G A C C A G A T G T C A C T A A T G T T A T A T C T C C C G A G T C A C G T C C C A A C A T T T C\n",
            "3 3 G T C C G C A T G T T A A T A T T G A A A A A T G T G A T C G G A G T G C A A C C T C T A T C T A A C T G A C T A A T A A T A A A C A G A T G G T C G G T G A C A C T G A C G C T C T C C T A A G T A A T T G C G A G T T C G G G C A A C A C A G C T T C C G G T G T A A G C A C T C A A C A T T T C C C A A A G G C A T G A G G A G T T T G G T T T A C T T C A A A T T T A C G A G A T A A G A A C C A A G T\n",
            "2 2 A A G T C A G T G A T C G T A C T G A A C A G A T G G T T G C C T T A A T A C G A A A C T T C G C T T C G C T G G G A A A T T T A G G T T C A C A G T A T T T G G C C G T C T A G T C G A T T A A C T G C A A A C C A A T T T T G C T C C T T G C C A A T G G T A C C C A T A G G T T A G T A A A G T C A A C A G A T G G T T A A T C G T G A T G T A T T A C A A C A A A A C A A A T C T A T A G A G C G C G T\n",
            "3 3 T T T A A A T T C C C T G T G A C A C C T T C C G A G T T A T A G T A T G G T A A C A G G A C T T C G C G C A C A G A T G G T C T T C A A T T A C A T T A T T G T T T T C A T G A C G A G T A G A T G A C A C C G T C G G A T T G A C G A A A A A C G G T A G T C C A C T A A T A G G C G A A C A G A T G T T T A C G C T A A T T A C C T A A T G A T G C T C C G A A G G T G A T A A G C A G C T A C C T G T G\n",
            "3 3 C T G G T T A G T T C C C T G C A T G G T C T A A A A T C G A A T T G A C C T A A A T T C A C G G T T A C A A C G A A A C G A A G G A C C A G A T G G T T A A T T C C G T T A T G A C G C G T G A A T C C A A T T C C A A T G T A A G A T A C T T G G G A G A C G T G A G C G C A C A G C A G T G A A C A A A G T T C C T A A A T C G A T C C T C G T A G T T A A T A A C T T G T G C C A G A T A A G G T C G C\n",
            "1 1 A T C T T G G G C A G G G C A T C C A T T A C C G T T T A G A C A A A A A C T G A C G G A G G G G T G T C C G G A G C T G A T A T G C A G A T A A G A C C A T A G G A C G C G C G C T C C C T G T T G A A G C T G T C T T G G T C T G A G A G A A A A G G T C G T C T C C G A T C A C T C G T G A T G A T A T T G G C A T A C T T A A G C G A G A G G T C C A T G T G G C A G C C T T T G C C A C T G T A T T A\n",
            "3 3 T A C A A A G A T A A G A C T A A T C A A A A G A A C A T T G G T T A C G G A C G C A T A C C A T G C G A A A G A T A A C G T G G A G G C A T T A G T T G G G G T A T T A A C C C C T T T A T T A C G C C C A C A G C T G C G G G G T C A C A G A T G G T A G C T T T A T C T A G C G A C C A C T C G C A T T A A A C G G C A G A G G A C A A A C T C C G T C C T C T C G C G G C T A G A T G T C G T G A A C T\n",
            "2 2 T G G A G G G G C C T T C A C G T C T G T A T T C T A A A T A T T A C T T T G G A A C C A C T T C T A A G C G T T T C G C T A G A A T A A T C T G C T A G A A G T T A T C C G G A C C A G A T G T T C A C T C C T G C A T C A C T A A T A T C T T T T A C C A T A C T A C T C G A A T A A G G C T G G A C G A A C T A A T C C T A T T C C C A T T A T G A C A T G A C C T A A C C A A A A C T T T T T A G G G C\n",
            "3 3 T A C A C T G T C G G A A T G T T T T G C A A C G T A C A C T T C T A A A C T G G T T C T C T A T C A G A T G G T G G A A A A C A C G G T C C A G C G G C G G A A A T C T C A C A C A A G T A C C A G G A T A T T A C A T T G T C G G G A A C G A T T C G C G T C A G T C G C C T T A T C A C C A T T T T G G G T A C T A T T C C G C T G A T A A G G T T T T C A T G T A C C G G A C G T T T T G A T C C C G G\n",
            "0 0 C G T C C C G A T T C T T T C C C C A T C T A G T C C C C T A A G G T A T G T C G C C T G A A A C G G T G G G A G G A G C A G A G T A T A G G C A T T T A T G G A T C C T T C A C C C T G T T C A G C C T C A T G C C C A T C G C A A G A T T A T G A G T A T C A A T A C G C C G G A C T T C G T A T G A G C C A G G C A G C T A A T A G C A A G A T C T A C T C A A T C C G A C C T A A C G A A G T G G G A T\n",
            "1 3 G T C T A T C C A G A T A A G G T G T A C A A A G C A G T A C A G A T G C C C A C G G T G A T G T G C T A T T T C G A T T T C C C A A A T T T A T T A T T A A A A C A G C G T C G G G C G T G G T C C T G T A C G A C A G A G C T C A T T T G T T C G A T C T G T T T A G T T G G C A A A A T A G T T C C T C T C A G A C G G G G G T A T T C C A C C G A T G T C A T C G C T C A A A A T T T T G T G G G G A T\n",
            "0 1 A T G G T C T A G G T T C T C G G A A G G T T C A G T C C C A T G G T G T T G G G C T G G T A T T A C G T T T C G C C C T A C A T T T G T G A C C A G C A A G C C T C T C T C T C C A C G T G A G T A A C A C G T C G T G T T A T T G G A C G G T G C T C T G C G A T T C C T A A T T T T C C T C G T T G G T G T G T G A T T A G A C T G T T C G C T A A A T T G G A G A A T C T G G C G A C T C A T G A G A G\n",
            "0 0 T T A C A A C T A G C T G A A A T C T C G G G C A T T C A A A A A A A A C A G T G A C T T C A A A T T G T A C G C T C A C G C T C A A G G T C A C C A T C G A A C T G A A C A T A C A T C T C C T T G T T T G A G C A G G T T A C A T G A A A A C C T C C G G C A G T C A C A C A G A T C C C A T A G A G G G T G T C A A G T T C A G C C G T G G A C A C T G C A T G G T G C G C T A A G A T A T C T T G G T G\n",
            "2 2 A C G C G T G T C G A T T A C T T A T A G T A G C C A A C A G A T G G T T T C G A T C C G T G A A C A G A T G T T T C T T A T A G A A T C A G A A A G G A T T A A G C T T A T T G C T G A T T A G C T T A A A A T T G C A A T C A A G C C G T G C C C C C G A T A A T T A T G T A G A C C A A G T T A A A A A A A C T A A A C G T T G C C G G A A T C G A C G G T A A C G C A A T G T C T G T G C G G T T G G T\n",
            "3 3 C G T C A C A G G C A A T A A A A C A T T T C C T C C A G G T T T T T C C T G A A A T T T A T T A G T G A G T A T T G C A G A T A A G C C C G T A T T G C A C C A G A T A A G G C A C G T T T A A A G C A A T A T T G G T G T T G A A T G C C C T T C C T G T T T G A T T G G G C T G G G G G G T C G A A A C C T A G A T G G A T C T T T G A G C A G C C G T C T T T G A C A C A A C A G A T G G T G C G T C A\n",
            "1 1 C C T A T A G T C T C G A C C A T T T T C C C C G C C A G G C T G A T A A G C A G G A T G G G C G T T C C T T T G A T A A T A T A A A A C C G T G G A T A T A G C C T T T C T T C C A A T G C A C G A G T T C T A T T T C A A G C A A T G A A A G A G A C A A A G C T C G T T A A G T G C A G A T A A G G A C C C G A A T A A C T T T A G T G T G A T A A G G A G T G A T T C C T A A A A A T G A C T A G T C A\n",
            "3 1 G A G T T T A T A C C C C G A T A G A A C A T G T G C C T G T A G A T C G A C T C A C C C C C A A C A G C T G G C A C T T G G G C T T G C G A A C A G G T G G T T A G T C G C A C A G T C T A A T G T G T G G C T C C T T T T G C G A T A A G G T A G T C C C T C G A A T A A T T T G C A C G T T G T A A C G A T G G T A A C C T A G G C A A A G A G C G T C G C T C T C G C G A T A A G G T G A C T G A A G G\n",
            "1 1 G G T G A T A A A T A C T G A T A A C G C A C T C C A A G A T A A G C T C G G A G G A G T C T G T C G T A A T T A C C G T C G T T A A G G C G G A T A C A A A C C C C A G C T C C A T G C C A G A C G G A T C A A A C G G A C A T C C C C A C C G T C T C G C T G A A C C G G T A C C A G T T A C G G A C C T T A T A T G A G C A A T A A T C C A A T A T G T C A G A G A A A C G A C A C G C T T A C G G T C G\n",
            "0 0 G C C T T C G G T T G T A C C C A C T G G T T A T C A G A A A T T A C A T T A T G T T C T G A A G T G T C A T A T A A C G T A A G A C A A G A C T A C T T A G C C A G T A T C G C C C A A T T C A T G A C A A C T G G T A T G C G T T G G G C T C A T G A G T C G A C T A A C G T A G T T A C C C T G C T G G T C C C C C A G G A A C G A T G A G T C G A G C G A T A C T C A A T A T A G A T T G C G C G C A A\n",
            "1 1 A T C A C A C A G T G C T C C G T A G A T A C T C G A T A T A C T A C T C G C C T T T C A A G A C T C G C A G C G A A C A A A G C G T A G A A C A G C A T T A G G T G A T A A G G G A C A C G C C C G C C A T A G A T A A G G A G A A C C G G T T C C C G T A G A A A G T G G C G A G C A A A G G A T A A G A G G A A C A T A A A A T G T T G T A G A A G G T T T T G T C C A C G G G T A A C T G G T C C G C A\n",
            "2 2 T A A G C C C T C G A A A C G C C T T A G A A T A G C A C G T T G G A T T T C A A T C C C A C C G T G G G G A A C C G T A A T A C T G G G T C A C A G C T G G T G G A A G C T T G G A A A A A A A G G A A T G T A A G T C A T G T A A T A T C C T T A G A T A T C C G A A C A G A T G G C T C G C A T C C G C G C C G C A A G C C C A C C A G A T G G T C A A G A C C T C G A G T G C T T G A A G G G C G A T A\n",
            "2 2 T G C G A G T C G G G T C A G T T G G T G G G C A T T A C G G T G A T A G T C C T C T A A A A A A C C A A C C G T T A G A C T G C G A C C A G A T G G T G G T C G A T T A A C C G A G A C G A T G A A C C T C A C A C G T C T A C C A G T C C T C T G T T T C G T C A A C C G A T A C T C T T G C T A G A T A A C T T G T T T T T A G T G A A C A G A T G G T C G C C T A G A G G T A A G A A A G T A A A C C T\n",
            "3 3 A T G A G G T T C A T C C T G A T A A G G A T C C G A C G A T C G A T T C A C T T C T C A A C C T C G A T G T T A T G A G A T A A G A C G A C C T A A T A A T A C A T T G T A A G A C C T G C C C T A A T T A A C G C T A A T C A G A T A G C T A A A T C C G A C A T T C A T T T G A A G G C T G A A C A G A T G T T G G T T A C C G G A C T T G G C G A T A A C G A T G T A G A A C T A T T A A A C T A G C C\n",
            "0 1 G T C T G C A C A A G G T T C T T A T A T A G C A C G G T T T A C T G A C C T A G A A G G G G T C A A T T C A C G T A G C T C T G G C G T G A T T G G G T T T G G T T G A T A G G C A C C T T C A C T A T G A C G T C G T C C A T A G C T G A T T A G G A G C G T C G T T A C C G C A A T C A T T T C T A A G G T C C T G A T A C C A T G C A C C T C T A T T A T T G T G T T T A A T A C A C T C G C A T A T C\n",
            "0 0 C A G C A T A A C G C A C C C T T A T T T T A C A G C G T A A C G T C A T T T G A A T T T A T G T T G A G C C A T T T C T T C T C T A C A T A C A C A A A A A G C T G C G A G G G G G T A T T C A C C C T C A T C G C A C G T G C C G T A A G T C T G G T A T T A A T T T A A A C G T G G C A A G A C A T T A T G G C A T A C C G G A G T A T C T C C C A A C A A A A A T T T C A T C A A T G C A C A G A C A T\n",
            "2 2 G A C T T A T T A C G A A C A C C C A A T G C C G C T T T A A G T C A T C A C C A C G G C C T T T G C T A A C G C T T T A A A C C T G T G T T T C G C T T A C C C C G G C C C G C A C A G A T G G C C G A A G C G A A A T T T C T G A G A G G C T A T G T G T T A A G A G G C A A A C A T G A G T C A A A C T A A G A G G A A A C A G A T G T T A G T T G G G G A C T G T T C A G A T G G C G C C C C A T A A G\n",
            "0 0 G T A T A T C T G G C A C A C A C G A T A C C C A G A A A A G G G T T A T T T G G A C G T T A A A T A G T A C C A A A T G T G A T C G G T G T G T C A C G A A G A A A G G A A G T G A G G T G G G T A A T C T G G A T T T A A C T C T C A A T A T T C C C G A C A G T A A A T T C G T A G T A G G T C A G C C A A A A C G C G G T C T A G T A T T C C G A T A A T G T G T T C T T G A T T T A G C A T A T C A A\n",
            "1 3 A A G C A C A G G A T C C A T C C A T C G G G G C A C A A C C C T T T T G A T G T A A A C T A C A G A T A A G G A A A T C G T T T C A A C C A T T G C C A T A G C G G C T C G C C G A A G A G C A T G G A T T A C C A A A G T A T A G A C T G A G C G G C T G G G C A G C T T C C C A G A T G C C T T G A T A C G G G C A A T G T A A C C C A A G T C C G G A G G G C G A C A G A T G A T A C A C T A G A A T G\n",
            "2 2 A T T T C G T G G G A T T T T T T A T T T G T A C A G G G G C G T A C C T T G T G A A T C G A A T C T C A C G T C C A C C T G A A C T G C T A A C A G A T G G C C G C T G T C T A C A C A A T A G C C T C G A A T C C T C G C G C T T T C A C C T T A A G C G T T T G T C T A G C G C A T C A G A T G G C C T A T C T T A C A T C C A A A A A C A A T C C T C T A G A G T T A C A G G T G C T A T C A G G T T G\n",
            "1 1 A C A C C A T G T A G C T A G A G A C G G A T T C C T G C T A T C A C A G C T G G T T C G C T A A T G A C C A T T T C G G T A A C C G A T T A C T T C A A A T G A A T T G G C G T A C C A A C C T A T G T T A C C T G A C T T C G A A C G T T C G C G A T A A G G T C C C A C T C C C C C T A A T C T G A G T A C T C T A C C T A T C T C T G T A C A A G A T T T G A T T C T C C C A A T C A C G T T G T G A A\n",
            "3 3 T T G T G C A A C T C C G G A G A A T T A T A A G C G C A A T C C A C T G C C T C G A G G C C C A A T T G C A T G A C C A A C G C T C C A A T T G C A A C G C A T G T A C T C G A C C G G G C G A C G T C T A A A T A A C G T G A G A C G A T G C A A G T C T G C A A C A G A T G G T T C T T G G G T G A C C T C T T G T A C T A T A C T C C T G A T A A G C C C A A C C A T G A C A G A T G G T C G C C A T A\n",
            "3 3 G G A C A C T G A G C T C A C C T A T A T G G C A C T T G A G C C A T G A C C T C A G A T T A G C A A G A A G G T G A T C A G A T G T T T A G C A A C T A T T C A C C A C T G T T T G T C T C A T G G C A A C C C A G A T A A G G C A C C T A A G T T T A T C G G T A C G T C G A G A T T A G G G T G G A C A G A T G G T T A A A C T A G G A A G A G C G G T A T G A C A G G G G G A T T C T G T T A A G G G C\n",
            "2 2 A T T T T T C A G G G A G T G G G T C A G A C T T A A A T G A C C C G T T G C T C A C T A G T G T A T T A C C A T A C T A G C T T A T C C G T A C T T T G G C T G A T C T T A G A A T A G G C C C T T G A G G A G C T G G C G A T A T G G C G G C A T A C A A A T G A G C C A C C T A A A G C A G A A G A C A C C A G A T G T T T G A C G T A A T C A C A C T T C G G G C C A G T A T A G A C A C C G G G A C C\n",
            "3 1 C A G A T A G G C G C A T T T T T T T T A A A T A C A A A C T G A T G T A G T T G T G G T G G T G A A G A G C T C A A T A T G G T A C T C C C C T G A C C A G T T G T T C T C C T C C A G A G G T A T A T A C T A T C T C A A C A C T G A G G T T C G G T T G T C G A T C G T T C A T T A C A A A T A A A G T T G G A G A A T T T T C G T T G T A C A A A T G G T C A A G A T A A G A T A A A C A A C G A C A G\n",
            "3 3 G A C A A A T A G T A G A C T G C A C C A G T A G A C C A T T G T C A C A G A T A A G G C A T C G A A C A G A T A A G A A A C A C G A G G C A C A G A T G G T A G C T G T T T T A C A C A A A T C A T C T T C T T G C T G G G A G G T T G G G A C T T T C G T C G C C A A C C A G A T G T T T A G A G C A G A T A A G G G G G G G C C A G A T G T T T A T G C G C A G T T A A C A T G T C A A A T C T T C T C A\n",
            "1 1 A G C A A T A C G A T C C T G T T C G T T C T T G C A G G A G C A C A T G A A C G C A T T A T G G T G G A G A A C T G G C A G T A G C T C T T A G A T G T A A A G A A C G G A G C G A C G T C C T A G C A G G A G A C C T C G G T C A C G C C G A C A A G C C G T C A G A T A A G G G G G G G A T A T T A G G A C T G C G A A G T C C A C A C T G T T T T T A A A A C T A C G T A A C A A T T T G C G C C C T T\n",
            "3 3 T G C C T G G A T C C G T C C A G A T G T C C A T G A G A C C C T C C T G G C G G T T T T C G A T T A A A T A G A T T A T A C A T C T T G A A G C G T C A A G C C G G C A T C G T A G C C G G A G A C C G A A C A A A A T C C G T C G T C T A T G C G A C G A G G A G T G T A T T G G A T A G G A G A T A A G C A T C A C T A C A G T T G A C C C C A C A A C T G T G C T A G A G T A A C T T G G T A T T G G G\n",
            "1 1 C T A C C A C T A C G A C C C T C A G C C T C C C C G T A C A G A A C T T A A A C G C G A A C G G C G T C A G A G A A T T A G A A T T G T C G A A G C T T C C G A T A T C T A G G G C A T G G G T C A T G A T A A G G G T A A G C G G G C G T T A G T A C T G T A A T C T T A G G C C A A A T C T G T A G C G G A G A T A A G G G G C A T C T G A G A A A C G C G G A C A T T T A A A G T A C G T A T A G C G T\n",
            "1 1 T G G G T T C G T G G G T G G G G A T T A G G G T T A G C C A C C T C G A T G C C G C G C G C G T A A C A G A G G C C T T C C T G A T G A A C G C G T A G G G C T A T A C T T A A G T G G C T C C G C C T T C T C A C T A A A C T G C G A G A T A A G A A G A C C G C G A G C A G A T A A G C A G G G C A G A T T A G G T G G C C G G A T T A A T T T T T C A T G A A A A A G C A G G G T T A T T C G G G A T C\n",
            "2 2 T T C A C G A T T C A G A T G T A A T C G A A G T C A A C A G A T G G T A C A A G C G A C T T A T C A G A G C T C A T A T G T G T G C C G T G G T A T C T A T G C C A T G T C C C A G C A G C A C T A C T A T C T C T G T G A A T C G T T C T T T T G T C G C C C C C G T A A T G A G T A C C T A G A G A G A C T A T C G T A G A C A A C G C A C G A T G A T G A G G G C A G G G C T A T T A T A C A T A C A G\n",
            "1 1 G G T C T T C C A C T G C G T C T A T G C G A T A A G C T G G G A C G A C A C A G A T A G G T G A T A A G G A G T A A C C C C C G G A A G A T A A C G C C C G A A A C G C G G A G A A C G G C C A T A C T C G T T T G A G G G A C A G A T C G A A C T C T G C G T G A T C T T G A T A T C A T A T C T C C C C T G A G A C T C A G G A C A A A C G G T A G T C C C T A A T T A A C C A G A A C G A T C T G T C C\n",
            "1 1 T G A A C T A T G T G A G T A T T C T G G G T C C C A A G T T A G G C A T G G T T G G G C T C A A C A T C C G C G A T T T A A A A A G C A C A T A T T G T A A G T C A G C A T G C T G T C T G G G A A G G G G C G G T A A T T G T T C T A G G A T G G G A T G A A T T G G G C C G T G C T T G C G A T A A G G A C G C A A T A G T G T A G C G C C A T T T G A G C G A G A G C T C T C G T G C G C C A T G C C G\n",
            "3 3 T A G G C A G G C T G C A C C A A T C T C A G A T T C T A T A T T C T A T A C A G A T G G T C C T A C G C A G A T C T G C G A A T G C T T C C G T T A A T G A G G G C C A G C T A A T G A A G A T G T G A C C A G G T T A A A A C A G A T A A G G T C T A A C C G G A T A A T C C G C C G T C A T A T C T C T T T A G G A T A T T A G G T A A G A T A C T T T A G G C T G A A G T A T C A T T C T G A C A C T T\n",
            "0 0 A T G C T A A C A T T T A G A C A C A G C C G G C G A A T A G T G C C A G T G G T T T C C C G G C A C A C A C C T T G A T G C G G A C T A A C T A G C A A T G C C C C G G T A C C A T T C T C G A C C T A A T T T G A A T T G T T C A G A C A G C G A A C G C G A A G T A A A T C T A G C A C A C A T A T C C C T C T C G A G C C C G A T G A G G C T G A G A G C A A A G T C T A A C T A T T C A G C C T T A A\n",
            "2 2 A C G C C G A G T A G T A A A G C T C G A A T C A A T A A A A A C G C A A C T C A G T T A A T G T T C G G A T A C A A G T T A G T A C A T G G A G T G A G T A C C T G T G A A C G T T C C A A C T A T T G A T T G G G C A T C A C G G G G C G G C A A G G A C T G A G C A G A T G T T T G A T G T T A C A T G T T A G G A G G T T A T T C G C G G C A G A T T G G A C A T G G C T C C C A G A T G G T C T T A C\n",
            "1 0 A T A T A G A A T C A A C C A G A C C C T T T T A G A G A C T A T T T C G T T T C A G A T T A G A A T C T G C C C T G T T C C C T A G T T A T C T T A T T A C C T A T T T G T T G G T T T T G A G A G T C C A A A G G C G C C A T C T G A A G C T G G C G T C A T G G G C A T T C G C T A G C T C T T T A T C C A T T T A T T C G G G G T C C G A G G C T A A C C C C A G C C C A T C A T T T A G A A G C A A G\n",
            "3 3 T T A G T G A C T T A A C T A A G T G C C T G C C A T A G A G T G A T A A G C G T A A T C C A G A T G G T C A G T A A C T G T C T A T T C T G G C T G T T C G G A A T A G A A G G G C G G A G A T A A G G T G A T T G T A A C A A T A T G G A C A G A T G G T C G C C T T T G G G C T G A G C A A C A G A T G G T A A T A G C G A A A C G C T A A T C C A A A C A C C T C G C A A C A A A G T G C C T A T G C T\n",
            "1 1 C T T A C G T A C A C C C A C T G T A A T T A A C C T A G T T T C G A A C T A A C A T A C A T A T C G C A A A T C A A A C T G C A G T A A A A A G T C C T T C G T T C G T C T A C A A A G G A G A C A A A A T T A G C A C C A T T T C G G G G C A C T G C T T C C T A C A T T C T T C C A C T C G C T T T G A G C G G A T C T A G G G A G A G T T G G T G A T A A G G T G C G A C A G T C C C A T A T T A A A G\n",
            "1 1 A T C G G A C T A G T A A T G T C C G A G C T C T A G G T C G G T G G T A A C C G C A T G A C A G T G C C A C A G G A T C G A T G G A A T C T C C A T C G C G G C T A G T A G A T T T C C A C T A C C G C A A C C C A C A C T G T G C A T G G C T T G T A A T A A T A G G C A G T A A G T C T T G G T T A G G A T A C C G C A G A T A A G A A A A T T A C C C C A A G A T T G C A G A T A A G C A T G A A A C C\n",
            "2 2 G C A A C G G A G A C C G C C T T T A A A G T C G C G C T C G G A C G T C A A T T T T A A T G T T G G T C G A T C T A C T A G T A G G A A G C A C A T C G C T C A C T C T A G T G T G T T A T T A A G T G A C T C G A T T C G T A C G G A C T A A C C G G T G A C C A G A T G T C G C A G A T A G A A A C A C G T T T G C T G C T T A T A C A A C A G A T G C T T T G A A A G A G T C C C A T A C C C T A A A A\n",
            "3 3 A A T T T G C C G A T A A G C C T T A A C T G C T G T G G C C C C T G G A G A C T A G G C G C G A T A A C T G C A G A A G T G C C G G T C T T A C G T A C T G A T G T C G C T T C C A A T T A G A A G A A A A G T G T G T C A A A G T A A C A C T G A A A A C C A G A C A C A C T C C C T G T A G A C A G A T G G T T A G G T G T C A T G C G C G T C A A C A A G A T A A G G C A C G G A A C T A A A G G A C C\n",
            "1 1 T T G C T G A T A A G G A A G A C G C C A C T T C G C G A G A A G G T A T T C G T T G G A C G T G T A A T G T T G A G A A T G A A T C T C G G C A G A G A G C C G A G C C C T T T T A T C C A A G T A C A T C T C A G C T G C G C A C T G T C C A G A T A A G G T C T T A C T G C T T A G C T T T A C T C C A G A A A G A T C A C A T T G C C A T T A C A A A G A G A A A G T T C T C T C A G C T C A T G A T C\n",
            "1 1 T T T C A A T C T C G G G A C C A C C A G A T A A G G C A A C T C C C A C G C T T A T T G T C A G T T A T A G A A T G C T A A G G C G A G G A T A T A T A T G A C T C G A C C A A A A G T A A C A T T G T A C A C G A T G A C G G G T A T T A T A G G A G G T C G C T T G C C A T T A A T C A T G C C A T G C A A T C T A A T T G C C G C T C G G C T C T C T T C C G A T G C A C T G T A G G A T T A C T T T C\n",
            "0 0 A C C C A A A A T G A G C C T T C C A A A T G C A A A T C G G C A A C C G A C G G C C A C G T C T A A G C T C G G A A C A T T G G T C T T T G T G G G C T A T T G G A C C C C T A C G G G C T T A A C A C G A G A A G T C C A C T G C C G T A A T A A G T T C T A A T A T G A C A A A G G C T A T A G C G T A G T A C G A C C T T G C G T G C C A G G G C A G T T T A C A T A T C T G A T A C A C G A T T T T T\n",
            "2 2 G C G G T C T G G G C G G G T T A G T C G G A A A C C C T A C C A G G T G T T A A A G A T C A A G T C G T T A G C C A A C A G A T G T C C T G T C G A T G A C C T T C G A G G G T C T A A C T T A T A A A G A T C G A C C A A C A G A T G G C C A C A A T C C A G A T T T T T A A T T T T A C C T C T C G T T G G A A T A T A T T G T C T G G T A T T T G A C T A C G A A C C C G T C A T A T T C G G G C T C T\n",
            "2 2 T G T C T C A A C A G A T G T T A G T T G C T G A C A T A T C A T G A T T T T G A C C G C T C T A A T T G G T C G A G C T C C A C G C A A G G A T A A A G T C A C A T A A C T G C C T A A C G G C A A T G T A C C G G T T G A T A G C A A G C G T T G T A C G A C T G T C G A T A A C C A T A A C T T T T A T T A T G G A G A C G G C G T A C G G A T A T T C T G G G G T G C A A C A C A C G T T G C A A T T C\n",
            "1 1 A C T T T A G G T T C G G G A C A G T A C T G C G A G T G T T A T A G C A C T C A T G G G C G C T G G A A G G A A G T C G G C C G A A G A T A A G C C G T C G C G T C A A A C T A T C A C C A C A G T C C T C A T T A G T G A A T G A G T G G G G C T G C T C A T C T T A C G T C A G C C C T C T T A C C A G T T G T C C A G T A T A G C C A G G T C G C A T T C T G A T A C C A C C C C A G A T T A G G G T A\n",
            "2 2 A A C G T C T A G A G C G A G C T C A A G A C T A G T G T G T A G C C C T T T A G T G A C G C A A A G T T T T T T A C G C T G T G C G T G T T C A A T G T T A A A G C C T T A G A G A C T C G T A G C G A A T T A G A A T A G T T T A A C A G A T G G T A C C G T T G C G G T A C A C T C A A A C C G G A T C T G T C G A T C C G T A G C A A A A T A T A C G A G T G G T T A G A A C T A G A A A T C T C A G G\n",
            "2 2 C A T A A T G G G G A G C C C G A C C G G G T A C T G A C C A G A T G G T C A T G C A G T G C C T G C C T T A A T G G G T A A C G G C T C G C C G T A C A G A T G G T C T G T G T C T C T C C A A T T T C C A G G T A A A T A A T C T T T A T A A A G C A T G T T T A G A A C C T T G T T G T T A T C G G C T T A A G A C C C A G C G C G T T A G G C G C G C A C T A G C C A A G C T A T G G T A A C G G T T G\n",
            "2 2 T A T T G G A T T C A C T G G G G T G T G A T G T T T T C G C C A G G A A C G T A A C T A A A T A G T T G G A C A T A T A T A C G A G G C C A C A A A A A A A A A A T T C T C T A G A G A A C A G A T G G T C A T A C G G C G C C C C A A G A C T C C C T A T C C T C T C A G G A G A G C A A G A G T T A A A G C A G C T G T A T T A C T C A G C G G G G C C T C T C G A A G A T G G T G T G G G T C G A T T T\n",
            "2 2 T A A T C A G A A A A C C T T T T C G C G G A T C C C T C G T G G C A G C G A G C C A T A G A T T G A C T G C A A C T G G C A T C G C G A C A G T C T T G C A G C A C G G G A T A C A G A T G G T C A A T T C G A G G T T T T T C T T C A C C C C T C G C A C G A G G T A A G T T T A T A C T T C A C A G A G C A A A T G T C A C A A T C G C T G G C T G T G C A C A C T T A A A C A T C A T T A G A C T C C A\n",
            "3 3 T A T G A G T A A G A A T C G C A A C G A G T C A T C A T A A T C T C G T T C G C A A C T C A A C A A C A C C A G A T G T C T C T A A A A A G C A G G C G T G T A G A T G A C C T T G G T A A G A C T T C T A G T T G G T A A G A C T G C G C G A T C T C C T G T C C T A A C A G A T G G T C A T G C A A T T G G A C C G A T A A G G A G C T A T A G A G A T A A G G G T G A A G T C C A C G A G A T A A C A A\n",
            "1 1 T C T G T C T G C T G T T G C C G A T A A G G G C C A A T G G T C G C C G G G C C C T C T A A A G G G C G C C G A T A A G C C A T T T C T T T A T C C C C T C A A T A T C C A G A C C T T C G G T G T G C A G A C C A G A T A A G G G G C G G T A T T T C T T A C T T A A C T A C C C T T C A A C G C G T T C A A G T T T C C C C C G T G C T G A T A T C A A G C T T T A A G A C A C T A A G T A G T C T A C A\n",
            "1 1 G A G C T A C A A G C C T T A A T G G T A C C A T A A C G T T C T G T G A A G A T G A C T T A G C G C C G A T C C C T A A G G T T T C C G A G G A A C C C T C C G A G C C A T C T G C C A A A A C C T A A A T A C A C A T C A C A G A T A A G C T A C G C C C T G T C T C C C C A G T G G G A A A T G A A T C G C G T T C T A T A G T G C C G C A C C G C C T C C T C C G A G A C G G T T A A C A C C A A A G T\n",
            "0 0 A A T C T T A C C A T G T T C T G C A C G T A T T C G C G A A A C C A A C G A T A T A A A A A G A C C G A T G C C C C T T T G T T G A T T T G G A A G C C C C G C C C T C T T T C A C G A C T G C A T C T T G G A C C T G G A G C G T C T T C A C T G T A G C T C T G T A T A A C A G A C G C C T A C C A C G A G G G T T G G A C A C C G C A G A C A T T C T T C G A T A G A G T C T G C G C C T T A T A G T G\n",
            "3 3 C G C A T T A C A G A A G T A A G G C G C G A G C T T T A A T G A T T G T A A T C A T T T A C C A A A C A A A A A A A A C T T A T C C C G A C A G A T G T T T G G G C A C T C A G T C T T C T T T G C A G A T A A G G G C A T G A G G C A A A C C T C C A G T A C C C G C A C C T G G C T T T A G A G A G A T G A T C T G T G C C C G G A T T A A G G C C C A C C A C T G T T A C G G C C A T G G T G A A G G C\n",
            "2 2 C A G G G C A C T C C A A A G A G A T T G C A T T T A G T T T A C C A G A T G T T C G A G A A C A T A G A G A T A T C G T C C C C T G A A T G T C T T G A C C A C A G G T G C A C A G A C T G C G A C C A G A T G T T T A A G G A A G A T A T G T T G C G G T T A A C C T G A A T C T A T T C A G A C A T A T A A C A G A T G G T G A G G A C C A T T C C G C G T A A A A A G T A T T A T A G A A T T A C T T T\n",
            "3 3 G G G G G C T T C A G T T A C T C A C A C C T A C T T C A G A A A C C A G A C C C G A A T C G C A A A C A G A T G G A T A A A A T A T T T C C T T A C C T A A T C T A A T T T C C A A A T G C G T C G C G A A A C G G C A A C A G C G A C C C A G T C C T A A A A C T T T A A T G A C G C T A A G T C T A A A T T G A T A C C A C A C C T A G T C G A G A T A A G G C T C G C A T A C A A G A C T A A T A C T G\n",
            "0 0 T A T A C C A A C C A A C C G A A A G T C A G A C A G T A T T G C T C G C G T G G A A G G C T T G T C T C A G T T T T A T C T G A A A T A G C C G C A T C G C A T T C T T G A A C T C T C A A T T T A T C C G A C A T T A A T G A G G C T C C A A A C A A T G A G T A C A T C C C T T T C A T C T T A T C G C C T T C T C C G A A T A G T T T G G G A G C A A T T T T A T G C A T T C C T G G G A A C C C C A T\n",
            "3 3 G T A C A T G T G C A A C G G T G C G A G G C G T T C C G T C A T T A T A T T A C A G A T A A G A G T A T G T C A A T T C T A C C C C C C A A A G A C G A T A A C A T T T T C A A T G T A G G T C G A T C C C C C T T C C G G A C C A C A T T C A G A G A T C A T G A A G A G C A T G T C G C C A G G C T G T A A C A G A T G C T G G G G A C C C G G A A G T A C T C C T C T T A G A G C C A A C A A A A G T G\n",
            "0 0 T T A G C C C T T A G C G T G A G C T G A C C T A T T G A C G G A C A C A T A A G T C C G A C A A T A A A T T A A C T C C C G T T A A C A A G A G G A T T A C G G G C G G T T C T C C C A A C A A C A A T G T A T T A T C T T G C C G A A G T A C G A G C A T A G T T G T G G A T A G C A G G T A C T C G T C A T C C A C T T A G G T T G T T G C T T T G C A A C C A C T A T A G A A A G A A A T C G G A C A A\n",
            "2 2 A C G A C G A T T G G C G A G T T T A A A C A T T A C A A C T G A T G T G T T T C T T A T A T C T C C G A G C C A C A C T A A C A G A T G G C C G T G A C C A C T G A G C A C A A G G T A T T G G A T T T A T T A A T G G A G T G G A G C A T T C A T A C A C G T C G A A G G T A G G C A C C A G A T G G T A A G G G C A G A C G T G T A G C C A G A T G T T C G C C C T A A C C T C T G A A A G T G T A T T A\n",
            "3 2 A C T T T A A A A G A G A A T C G T G T T C G G A C T C A G C A G A T G G T A T G G T C A G C A A T A T A C A G A A G G T A C C T G T G G C C G T C C C T C C G A C A G C G C A C C T C G T A T T C G T A C C T A T T A T T A C T A A T A A T A T A G T T A C C C T T G C A G A T A C G A A C T A C A A G T A C T T T T G C T T C A A G C C A G A A T A T A A T C A G T C T A T A T T G T T A C G T G A C A A T\n",
            "2 2 T T T T T G T C T T G G G C T C C A C A T G T A T C C T T C A A G T C C A A C A T A T A C T C T A A T C A T G T C G C G T T A G A G T A C C A G A T G G C C T A C T C G T G A A T G C C T C A A C C C C T A A C A G A T G G C A A G T A T A A G G A T C T C G G A T T T T G A A C C C A A T C C T T A C A G A T G G T C A T T T A A T C A C A C T T T C A A C A A A C A T T G G T G T T T A G C A G G A C C G A\n",
            "3 3 C G A C G T A C C C C A C T G A G T T A T T G C C C C T T T G A C G T C G T G A G C T G C T C A C C A G A T G G T T T G A G T G T A A T C G A A G G G G A C A G T T G A G A T A A G G A A A G T T A T A C C A G A G G T A C T G C A G T T G T C A C T G A A T C T G T T G T G A A T T G A A T T A A C T T T T G G T A T T G C G G G A T A G A A C T C A T T C A G T C G T A T G T G C C C T G C T T C G C A A C\n",
            "3 3 G T G A G A T A A G G T A A A T A G T T G A C G T C T T C T A T A A G T A T A C G T T C A T T T G A A C A G A T G G T T C G A A G T A A A T A T A A A G A T C A T C A G A T G G T C T C G G A A C T C C G A A T C G A C G C C G A T A T T A A G T A G A A G A T A A G A A G T C C C G C C A T A A G T T T G C C G T A T C A A G G T T G A T G A G T G C A C G C A A T G T A T A C T A A T T C C T A T C G C G A\n",
            "2 2 C T A T T T T A A C G G T G A G C G A C A C C T C C G C C G A A A C C C T C A T A A A T C C A G C A T G A A T T C A A C A G G C C T G C C G A C G G A G A T C A A T A T C G C G T C G C G G A C G A T A C A T G A G G A C C G T C A G A T G T T C T C T T C T T G C C C A G G A G G A C C A G A T G G T C T T A C G T T A C G T T C C A G T A A A T A T C G C G T A C A G A T G G C G A A A G T T A A T G A G C\n",
            "1 1 A G A A C T A C T A G A A G A T A A G G A A C A C G C A C G A G T G A T A A G G T G C T T G G T A G C T C C T T C A A T C A A G C G T G A C T G A T T A G G T G A A C C C A T T A C G A T A C T T G A C T C G A T T G G T A A C A A A G A T T A A C A T C G G G G C C G T G G C A A A T C A T C G C C T G A C T G G A G G G T G A C C T T C A A A C C A A T A A T A A T A C C T C A T C T T T A A A T C G G T A\n",
            "0 0 A C T C G T G G C A A A C A T G A C G G A T G A G G A C G T C G A T G G G T T T A T G G G C T G A G A C C C C T T T C A A A G A T A A A A G C C A T A A T G A A A A G T T T C G C T T T G G T A T C C G A C T A T T G T T T T T A T A C A G A T T C G G G A A T T A C T A C G T A A C T T T G C G C T A G T T G T T T G A A C G T T T T T G T G G C C A A A T T C A G A T G A T G A A G C T G C G T G C C A T T\n",
            "3 3 A C G T A A A T G T T T C C G T G C T A G T A C C C C T A T C T G A C T T T C A G A T G G T G C G A C C A T T A T T T C T T T T C A G A T A A G C T T T A T T G A C A G A T G G T A C A G T C C T C C T T T T C A T G C G A G C G A C A T T T A C T T T A C T G T A G G C A C C T C C A A T C G G C A G T G A C C A G A T G G C G G A A G T C G C C T G A C G A A G G A T A G A C A T A T T C T C G T C A C A T\n",
            "3 3 G G T C C A G T C G G G G T A T C C C C G G A T A A C A T T C C T T G G T C G T A G C G A G A T A A G C C A T T A G G G C C A A A C T A G C T T T A C A G A T G T T T C G G G C A A A C C A G T C C G T G T G G T G A T T G C A G A T A A G C A G G C A C C T G C A C C C C A A C T T T G G A A A A G A T A A G C T G A T G C C G T A G C C C T A A C A G A T G T T C T A T C G A C T G T C T G T C G G C G A A\n",
            "0 0 G T T T T C T A T C A G T T A C T A T A G T T T G T A G A A C C A T A A G T T G T C C G A C A C T G A T G G A A A C G T G T C A C C A T T G T G C A T A C A T G T T A C A T G A G C G G T A C A C T A T A C A T C C A T G G G A G A C T C A T G C C C G C T G C A A A T C G G T A A A C A C T T C G T T C G A A C G T C A C C T G A T A C G A T T C C C T A T G C A T T A A T T T T T A C T C G G C A G G A T C\n",
            "0 0 G T T C A C C C G C A A T T T C C A A T C G G T T G A C A G T A G A G A A T G T A A G T G G C T T G C A G A A C C G T T G A C G C T C A A T A C T G T G G G G T G C C T T T T C C C T T G T A G G G T G A T G G A G G C T T A T C T A C T A C T G T G G T C C C G G C T C T G G C C C C C T T T G C A A T C A T T T A T A T C A C C T T G G G A C G T G C A G G T A C A C C G A G T G C T C T T A A T G C A A C\n",
            "3 3 C T G G A T A C T T G C T A G T T G T A T T G G T A G A A A T T T G C C C T G T T T C G C A A T G C A A C T C G C A C T G T A G T C C T G A A C G T T A A G A A G T T A C C A G G T A T G T G C G C T T G C T C G C T G A A C A C T C T A G G C C G A T T T G A A A A C T A A G A G A T A A G C G G A T C T A C A G A T G G T C T G G T G C T T C A A T G T T T A G G T A G C A G T A G T A T A T C G A C C A T\n",
            "1 1 A C A T C C A A T C T A T A A A G A A C T G T G G G A A T A T T C A T G T T A A T T T G G C T G A G T T A A T G C C A T A T C T A G G T G G A G A T T A G C A G A T C C T C T G G T A T C T G T C T T C T T A G T T G C T G G A A C T T T T C G G G C T C A T G A C T G G C C A T T G G A G A T A A G A T T A A A T T G T A C T C C T T C G C G G T T G G G G A G C G C A T T C G A C C A C C A T A C T A T A A\n",
            "2 2 G C C C T G A C G C C A C T A T T C C T T T C A T T C T A G G A T C A G A T G T T C A G A A G T A T G G C A T G G A C A A A C T C A C G A C G C C A C C T A A C A G A T G G T A T T C A A A G C A T G C T A T G C G G G C C G G T G T A T T G T G A A T T C A G C T G A A C A G A T G G T T T A G C T C T G G A G A T C T T A C T C A A T A T T C T A C A G A G A A A T T G C T C A G T T T G G A G G G T G T T\n",
            "3 2 A A T A A A T G A C C A G A T G T C A G G C G C T T G G A C G T A T A A A G C T T G A A A T T T T T C A C G T A T C G G G C G G T T A C G G A G A A C A G A T G G T C G C G C G T A A T C A G A T C G T C G T C C T C A G G G T T A A A A C A G G T C G A A A G G T A C C T A G A T T T T A A T C A A C C A T G A G C T T T C C G C A A G A C G T A T T G T C G T G T T G C T G C A A C T A C T G A T A A G A G\n",
            "2 2 T A A T G G A T A C A A G G A G G A C A G C G A C G C C A C T A C C T T G G C T A T A C G C T C G G G T G G A A T T G C A T A A C G G C A C G T A G A A G A A T A A A G T T T T C G C C A T A A A C T T T C A G T A T T G C A A A A C A G A T G T T A G G G G A C A A C C A G G T G G T A G C A T C A A C A G A T G T T G G A C T C T C A C T G G T T C T C A A A T T T A A C G A T G A G G G T C T T C A T G T\n",
            "0 0 C G C G A C T A T T A C C C T C A G T A G T A T C A C T A C C C A T T G A G A C C A T A C C G T G A G A T C G A C A T A T A A A T C T T G C T C T T G C A A C C T C C A A C C C A A G T G T A G G G C C G G C T A G G A C A G C A T C A G C C A T T G C A A T A C G G T G A T A T A A T T G C T A T A A T C T G G G C G C T A C G G G T A A A C T C G T G C T G C G A C T T G A T C T G C G T A C G C A G A G T\n",
            "3 3 A G G G T T A G T T G G A A C C A T T A A C C A G T C A G A C C C G C G A A A C A A G C A C A T C G C A C T A T T C T C A T G G T G C A G A T A A G A G C G C G C T A G G T C G G T A G C T C T A A A T G C G C C C A G A T G T T C T T T A C A C G G A T G G T G T T C G A A C G C C T G A A T G G C C A T T C C T G A A G C A T G A G T C A A C T T A C G C A A A C C T T T T T T A C A G G T C C C G C T A G\n",
            "1 0 A T C C T T C G A C A T A T G T G G T C C T C A T A A T C A C T G T G A T C G G A T T T A G A A G T A T G A T T A C G A A T C C C A T T C T C A T T A G A T G T T T G A T T G C A C C G G A G T G A G C T T C T A T T G C T A C A G A G G A G T C T A T A C T C G A T C C C A C A T A G A T C C C T T T A T C A A T A T T G C C T A A C T C A C A T C A G A A G G T A T T T T A T T T C A T A C C C T T A T A T\n",
            "0 0 G G T A T T A C T C T T T A G C T A T A G T C A T G C A A C T A G G G G G T C T T C T A A A T A A T G T A G T A G A T C G C G C T C A A T T G C G T T G C A A A C A C C T C T T A T C T C C T C C T T G G T G A G G C A A A T G T G A C T A G T T C G A G T G C G T C G T T G T G G C C T A C C G A T C C C A T A T C A A T T A C A T G G A C C T T T G T C C T A G T T C C T A G G T G C T A G C A C T C A G T\n",
            "2 2 C T C G T C T T G C A C A G A T G T T G A T G T C T G C T A G T T G T C T C G G T C G C G C A C T C T C C G G A C A G T T G T T C T G G G A G G A C C G A A T G T G T G A A A A G A T G G G A C T C A G C A C C T T T T G G G G A C G C G G T G T A T C A C G T G G A G G T T T A C A G G C C A G A T G G C C T C A G A T T A A A G G C C C T C C T C A A T T C G G C C G C C G T T A A G T C G G A G C C G G A\n",
            "1 1 G C T G T T G G A A C T A T G A A T A T A C A T C C A C G A T A A T A A A T A A A A G A A C A C G T A A G T A T A C G C G C T A C A A C T A G G A G A T A A G G A T C A A G A A A T T T T C A T A C A G A T T A T G C A C A G C T T G T G G C T T T G A G G A T C A G G A T T T A A T C T A C A G A T A A G A G T C G T G G A G G G C G G C C C A A G G G A A G G C A C A C T G C C T A G T A A T C A T T C A G\n",
            "2 2 T T T G A G A G C C A C A T G G C A C T T T G T C T C A C C A G G T G T T T G C A A C T G C G T C T C T T G C G G C A C T A A C G C G G C A T T C T G A G T G T G A C T G A C A A G G C A C T G C A T C A T A C G G G A A A A A G A A T A G A A C G G C T G A G G G A G A C T G G C C C A A T G T A A T A G G G A A A C G T A T A A A T T A A T A A A C A G A T G T T C C A T A C C T A T C A C G A G C T A A A\n",
            "2 2 C G A A G C A C C A G G G T A C C G A A C A G A T G T C G G C C G C T A C A G A T G G T C A A T C T G T A G A C T T A G T C A T G T C C T A G G G A C G C A T G C A A T A A A T G G C G A G C A T C C G C T T C C A T T A A A T T C G C T A C A T T A C G G C T A T G T C C A T C A A T A C T G C T T A A A T A C T T G C C G T G C A T A T C A G A T G T C A A C T G A T A T A C C T C A G T A A T A A T G G T\n",
            "3 1 C C G G T G A A G G G T A G G A T T T A G G G A G C A C A T C T C G G T G A T A A G G G C G A C A T G C A A T G G G T T A G C A T C G A G T A T C C A A A A G T G T A C T T G A A A G T A G A T A A G C A C G A G G A T C C C A A C A G G T G G C C A C A A C A A C T A T A G T C T G G G A C G A G A C G T A A T G G A C T T C G G G C A C C C T A A C A A T G A C A C T T C T A G G C T A C C G A G A T C T A\n",
            "2 2 G T T G C A T G T G A C G A T G G C C T A A C A A T T C A A G A G A C C A A C G A G A T A T T A C C A G A T G G T C C A T T A G C T T G C A G G C A A T T G A G G T G A C T T C T A A A G T G C T A A T G A T C A C G A A C C G A C T C C A A C A G T G C C A A G T G A G T A A A G T A C G A C C C T A C A C T G A A T A C G T A A C A G G T G C C C A T A A T G G T C T T T C A A C A T C C G T A C C T T A A\n",
            "1 1 G C T C G T C T C G T T C A T A A A C A G A G A T T A G A T G G C A C C G A T G T T G A A T T T A G G C C C A C C G C A T C A T A T G G A T A C T C C C T T T T C A G A G C G C T C C A A G A T A A G C G G A A G T T C A A T A A A T C G A G T G A T C C A A T A A A A G T G C T A A G T C T T G C A T G G C G A G C A A T A C T A G T C C T A T A G C T C T T T A A T T T T T T A T A C A G T A T C A G A A A\n",
            "1 1 C G C G T G A T T A C C T T G A T A T T A G T T C A T A T G G G T C A T G C A A C T G T A A A A C C C C T G T C G C A G C A T A G A A G T T C A T A C C T T T T C T A T C G T G G G T T C C C G C T A T C C C G T C C A G A A A T A G T T T A A G A T A T T A T T A C T G G G A G G C C T G C C C T T G G T C T C G G A T G T A T A C A G C T A T G C G T T G A G T A C C G A T A A G G C C G A T C G T T T T C\n",
            "1 1 T C A G A T A A G G T G A T G C G G A G T T G T A T T C A C G G A T T C G A A C A T A C T C G G G G G C T A C G C G T A T T A C G G C T A G C T C G G T C A C A A C A T C A T T C A A A G C G C A A G T T C C C T A A T G A C A T G G A G A T T G C A T C G G A C A G A T A A G G T G T A T G A C A G C T T C T T G A G G C A G A A C T C C T T C G G A G G T C A T G A A A C C A T G C A C G G C T T C A T G A\n",
            "0 0 T A C C G T T C C C A A G A A T C T A C C G A A T A C C T A G A T T G T T G C T A G G C C G T T A A C T T T C C A A C G A C A C C G C G T G C T C G T C T T G G A A G G C A T C C G T A A C G T C A G A T A G G A T G T G A T G A G C T G T G C A G C C A C T G A G G A A C T G G A T G A A G C G C G T A A T T A C C T T A G A C A C A A T C G C G A A C C C T A A T T A T T G G A A G C G T A A A A T C A T T\n",
            "3 3 T T T T C G A G A G A T A A G C T A A C G A C C A G A T G T T A G C G T G A T C G C C T A T T T T G C G G G T G A T A A G G T T A T C T C T T G C G T G A C C A G C A A T G C G A C C A G T G A C C T C G A C A G A T G G T T G C A A T A A G T T T C C G C A C G A A G C A C C A G A T G G T A G C C T G T T G T T G G A C G T G C C C A T G A C T T T T A T C T G A G C G A G T C T G C G T T T T A T T G C T\n",
            "1 1 T T T G C T A C G G G T C G G G T T A A A G A G G G G A C A T T T C C G T T T A C T C A T T A T A A G A G G A G G C T G A A A T C C A C A G A T A A G G G A A C C T T G A C T C T G T T A G T A G A T A A G C G G G C A C A A A G T T T T G G A C C C C A G A C A A A C G A T G A T A A A T T T A T G A T A C G G T G G A A G C A G A T T A G G C G G T G T G C C G C G G G T G G T A C C T G A C A C G T C G T\n",
            "1 1 A T G C G G C A C G A T A C T C C C G T T A A T A A G A A G G T G T A C A T C T C G G G T A T C G T A G A C C C C A A A A T G A A C T G C A T A A A T A A A A T T A C C G C C C A T T G A G A G G T A T G C T C A T T C T G T G T T G A A C G C A T C A A G T T T C T T A C G A G T C G G A T A G A G A T A A G C G T C A G A G A G A G G C T C T A A G C A A A A G A T A A G G A A T T T T C C C T C A A T G T\n",
            "3 3 C T C T T T T G T T C T T T C A A C G G G C A T G T C A A C T G G A A C T T G A T A T T T C A T T T C T T C G G C G C C C T A T A G A C C A G C A G C A G A T A A G G A T C G G T A G A T A A G G C C C C T T T T C C C A G A G G C T A A C C A T G G A C A G A T A A G A G A A C G G A G T G G G C T T C G C T G C C G A C C A G A T G T T C A T T A T T T G T C A T A T A G T T G A C A A T T C C T T T T T G\n",
            "0 0 G T C A C A T A G C T C A C A C G T A T C A A C A C A C A C C A C T G C G C C C C C T C G A T G C G T A G T G A T G T G A T G G A G A A C T C A T A T T G G C T C G T T C G A A C C T A A T G C C C T T T C T A C G T T G C T G T C T G T G T C C C C C C T G G T C A C G T T C C C A T A A A A G C A G G G C A C C T G T G G G T G C T G A C T C T A G C A T A T T C C A G G C A G G C T A C A G C G G C T G A\n",
            "1 1 T A T G G T C C A G A T A A G C C A T A C T T T G G C A C A G T C G G T A G T G A T A A G A A T T C G G A G A G T T G G G A C T C C G C T A G T G A T A A G T C C A A T A A T G A A A T G G G A G T A G C G T A G G T T T A A C A T A C C T T A G C A T T A C G A A C A T C T T G A G G G G T A C A C T A G C A T T T T A G T G G T C T G G T A A T C C A G G A A G C A G C G A G A T T A G A T A C T A A A A T\n",
            "1 1 T A C C A G A T A C A A A T C T A A T G T T C G C G G C C A G A A T C A A T T G A G A T C T G T A T G C G A C C G C T C A A G A G A G C A G A T A A G C G A A A A A T T C T A A C A A C T C T T G A A C G G T T A T A A G T G C G A C A A A A G G G T C A A G A A T C A A A G T T C T A G C C T T A C C G A C A G T T C T T A T A G C G C C A G T A G A T C T A T T C G G T G T T G C G G G C A A C A C T C G A\n",
            "2 2 T G T C T C C G G C A G T C T A T G T T T T T T C T T A C G G C T A C G A G C T T C G A G A T C T T G C A C T G A C A C C A G A T G G C A G G G G G T C T T A C G A A C A T G A G G A G A T A A T G C G A A G G G C C G G A G G T C C T C T A T C T T A G A C T T A G G T C A T T T G C T G T A T T A A C A G A T G G T T T G C T C G C G T T T T G T A C T A A T A A A A C T A C C A C G T T G G A A T T C T C\n",
            "2 2 C G G T A G G C A A A C G G C T G G A G G T C C T A C G T T T T G G G G G A A C A G A T G T C T T C A G T A G A G A T A C C T A C A C G T C T A G G A C C A T T T T C A A C C A T T A G A T A T A T G C A G A G G A A C G G G A A A G A C T T C T G C A A A A C A G A T G G T G T A A T T C A C T T G A T G C C A A C A A T T G C G T T C C G C T T A G G A C A A G C T A G G G C T A G C G A C C C G G C G G T\n",
            "2 2 A G C G A T T G C C C A T G G G T T T T T A C G C G G T G A G G A T G G A G G A T A G A A G G C G G C C C A G A A A G T T T G C T C G A G T A G A T A G C A T C A G T A T G C C C A C T A A T G G C A G T G T C T G A T G T T G C G A T A A A C C T G G T C T C C A G A T G G C C C A T C A T T T C C G A A A A T G G G A G T C A G C T G T C C T T A T A A A A T C C T C C G C C T A G G T G A T G G A G C T C\n",
            "1 1 A T T A G A C G A T A A G G T A T C T C A T T G A A C T T A A A C T T G A C T A A G T T A G A G T T A A C C T A A G G A G G G C A C A C A A A C T A A A G T T T A A G C G A A T C C A G G A A C T C G A C A G T C C A G A T G A A T A A G A C G T T T G T T A C A G C C A C C A G A T A A G G T A T C A A A G C A G G A T T A G G A C A T T A A C G T C C A A C T T A G A T G A T C T A T T A T T G G T G A G G\n",
            "0 0 C C A A T G T G A T T A C A T T C A T A T G A A T A A T G T C G G T G G C C A G G T T C T G C A C C A G T A G T G G G A G G A T G A G C C C C A G G G G C C A T T C A A A G T G T A A T G T G A A C C G C G G A A A A A A A C T C G C A A A T G A C G G A T G C C T C G G C C C G T G G T A A A G T C A C C T A T C C G T A A G A C A G C T C T T T A C C G C C T A T C T A A T A T C A A C T T G C A A A G G A\n",
            "2 2 C G A G G T T C G A T C G C G G G C T C A G A T G T C C A A G A C T A A T T T C A A T T A A T G G G A T A C G C C G T C T G C T A G G T G T G A C C A C A G T C G C G G G T G A A T C G G G C C C A A T A A C C C C A G T T T A T C T G G A A C A G A T G G T G C T A A A C G G T G G T C C C T A A T A T G C T T T G G C G C G A T T A C T T C C G A A T C G T C G A A G G A C A T A T G A C C G T A A G G G G\n",
            "3 3 T A T T A C C G A G C A A C A G G T G G T C G A C C T T C G C T G T A T A T G C T A T A C G A T A G G G G T G A A G T C C A G A G A T A A G G C A A G G A T C G G C T G G T A A T C G G T C C A G A T G G T A A G A G C C C A C C C C T A A A T A C T A A G C A A G G C C C T T G T G A G T C C A G A G A T T A G A C T T A C T A A T T C A C T A C C A C C A G C T T C A C G A C T T T A A C C T G A T A C A G\n",
            "3 3 C C A A G A G T G T G C C A A C A A C C A C G T G C G G C C G T G C C T A C C A A C A G C G T C G C G T C G T T T C A A T A G G C C G T G G T C T G G T C C G T A T T A G C A A C T C A T C T T A C A G C G G T A T C G G A G A T T A G A T A T A A G T A C C T A A C A G A T G G T A A C A A T C A G A T A C T G A C G T G C C A C T A A A T C C T T C A A T A A A A A C C C G A G C T A A A A A A C A C C T C\n",
            "0 0 C A G G A T C A T A A G G G C A T A G C T A A C T T A T T G G T C A T C A A C A G G A G C A A T C T C G T T G C G G G T T G T A T G T T G C A T A T T A A G C C T T G T T T A C T T C G A T G A G A C A T T G G T A A A C T A T G G A C A G A G G G C T T A A G G G A A G G T A G G T A A A C G T A G T T T T C A A T T T A G C T T C A C C C G G C T T A T T G T A A C G G G T A G G G G T G G G G T C A C T G\n",
            "2 2 T T C T G A G C A G T A T T A A T T C A A C A G A T G G T G A C G T G C G C C T C C G T A G A C G G A G G A G C T G T C C G G G T T C A G C G A G T C A A C G A A G T G G A T C A C G T G T C A G A A T A A A G A T C G C T A A T G A C T T T G C G A A T A T C A T C C A A G A A A C A T A T T G T T A C C C G T G T T A C G G C T A T T A T G G G G G A A A G G C A A T C C A T A G A G T T T G G A C T C T A\n",
            "2 2 T T A G T A C C G C A T A A T G G A G T A G A A A C T T A G C A G A G C A T C A G G G A C A T A C A A T C A A C C C T T G A T G T C G T A C A G G A C A A C T T C T A T G G G A G T G C C C T A A C A A A T G C G C A C T T T G A G G T C T G T G A C T A A C A G A T G T C A A T A G T A A C A G A T G T T T C G T G T A G G T C A A A C G A A C T A T A A A C A G G A A T G C G C C A T A G G T A A T A T C G\n",
            "0 0 C G C G A G A T T C T G T C G C T G G A T A C T G C T G C C A A T A T A G T A A T G A C A A A T C T T T A T A C T C T A T A C T G G C C G C T A C C T G T A T C C T G T G A A C T G C T A A T A A C A G G G A C T C C A A A T A A C T C G C T C C A T T T A T C A A G A C G A C C C G C A A C A T G G T C C C C T T T G A A A C A A T T T A T G G T T T A C G A A C T G T G G T A A C G C G G G C T G T T C A C\n",
            "3 3 T A G C C C A T A A C A A A A A T G C T G A A C A G A T G G T A A G G G G G A A C T C C G G G T C A G C G G A G C C T G A A T G T A T A T C C A C A T G C C C T T A T T G A G C T T A C A C G T T G T T T A C A T A C A C G G A A G C A C A T T C A C A A T A G C T G T T C G A A T G A C A A C C A T G A A C A T C A T A C T A T C C T T G A G A T A A G G T T C T A T T C C T T A G G A T C T G G C T C A C G\n",
            "2 2 A C C T A C A A T G A C C C C C A T G T T G C G A A C T A A T C A T T G A C A G T G C A C A T T T G C C G C A T G G G T T G A C C C T C C C G G T A A A G G C A C T A G C T G A A C A G A T G T T C G A T A T A T T T C A G A C C C T C G A C G A G T A T T C T T T A C C A G A T G T T G A C G A C G A C T C C T G A T T G T T G T G G C C A G A A T C C C C A A C C T A A C T G A A A A C G A C C G G C G G A\n",
            "2 2 T G T A G G T G A A G T T A C A A G C A A T A T C T G C C C T A T T T T T G G T G A T T T A T T A G A A T C A C G C C T C A G G C A C G G A T C T G C A T G T C G T G C T G G T T T T G G A A T A C T A C T A A A G T A A A T G T G G G G C T G C A G A C C T A A A C A G A T G G T C A G A C G T C T T T G A G C T C G C G A C C G T C T A C C C G G C G T A A A C T T G G C T G T A C T C C A T T T A A G A G\n",
            "0 0 T C T T T A C G G G G A T C A T A A G G A T T C A G T C G A T T T T A G T C C C T G A T C C C T A G C A A G G A T A G A A T C T C T C T G T G C G G T G A G C G A A G C G G A A T A A G G C C G G G G T G G G C T T G G A T G A C A A G G C G A C A T C T A T T T C T A C G T C T A A C G A A C G C C C T G G T T C G C A G G A G C G T C T T A T T G T A C C C G C A T C A G T T C C A T T T T T A T G T G C C\n",
            "0 0 T T A T C A G G T T A A A T C C G G C T G A A A C A C C A C C T G T T G G C A T A T G A C C C A G G G G A A T G C T A T G A T T A A C C A A G C T T G T A G G T T A T C C T G G A T C A G C G G G G A G G C A G C G C G G C G T C T C T G A T A C T A T G T G T A A T G C G A C G T C T C T C T C C G A G C G T G C T G G C A T A C A C T A G G A C T G C A C C T A T C T C A T C T A C A G C A T A T A G G G T\n",
            "1 1 C G C C T A T C T A C C T G G G A G G A A G G A C A T G A G A G T G A G A C A G G G G T A T A G G C A T G G T T C A A T G G T T T T T A G A T A G T C T C C G T A G G A T A G A T A G T G C G A A G C C C T C G C G G G C A A G A G G T A A A T A C A A A G A A G T G A A G A T A A G C T T G C A G T C A T G A C C G C C C A G G T A T T G A T T T A T T T T G A C G G C G C C G C T G A G C G A T T T T T A T\n",
            "1 1 A G T A T A C C A T T A C T T G T A G T T C G T G C T G G T T T C A A A C T A A G T C C T T A G A A C A A T G G C A G T A T A G T C G T G C G A A A C G T A G G T C C C C G C A A G T G A C A G C A G C T A C A C A C T A T A G A C G T C C A C G G T C A A T T T C G C C C C T A G A G A T A A G G T C T C T A A C A A T A G A G C T C G T T G T T T T C A C C C C T T A G T T A G T T C C A G T T A A G G A C\n",
            "3 2 A G C T T G A C C A G C A G C A T T T T T A T C T A G C T T C C C T G G G G T C G T A T T C C C G A T T A G C A A C C T A G T C T A A T C C T T T T T A G T A A C C G T T A A A A G A A G A A C G T C T G T T A G A G G G A C T C C T A T G A C A T C A G A T G G C T C G T G C G G C G T G C T T T C A A T A A T T A T T T A C G G C T A T G T C T A T C C A G T G G T G A G T A A A G T C C A A T C T C C C A\n",
            "0 0 C A C T A A T G A T T G G T A A C C A C T A C G T G G C T T G G T T G A G C A A C T T G G C T C G C T G T A A A A C A T T T A G A A A C T G T T G A C T C C C A T A A T C G A T T G A T A A C A C G C T A A C G A T G C C G A C T A A T G T C C T T G T T C T T G A C G G T A G G C G T T A G G T A A C C A C A T A A A G G A C A C T G C A C A A T G G G A A T A C A A A C A G T A C A G A C T C G C T T C C G\n",
            "3 3 T A C T C A C A T C C C A T T T G A A A T C G C G G T G A T A A G G T A G T T G C T C G C C G T T T T A A C A G T G A C A C A C C A G A T G T C C T G A T G T A G C G T G C A C C C G T A T A T T G A T A T A C A A A T A G T A C T C C A C A G A C C T C G G T A G C G T C A C A A A A G G C A C T C A T C T G A A A G G G T T G T T C C C T A G A T G A C A A C A G G T G G T A A A G A T T A G A G C C A G A\n",
            "0 0 A G A T T A A G T A T T A T T C A G T A T T G A C C C A G A A C A G G A A G A G A C A A A A A A C G C T A C T A C A C G G T C T G A A G C C G A A T C A T G C A A C T G G C G A T C T C C T T C T T A A A T T G T G G C A C G G G G A A A T G T T T G C A G C G T A C C C C T A G T T G T T A C C A T G A T A T A G A A C T T T T C T G A G G T T C A G T C A A T C T T T T T G A A C G G A G T T C G A T C G C\n",
            "1 0 T G T A T A C G G C A C A T T C C G A A C T C A G A G A C A C T C T T G A T G C C G A T T G C C G C T A A A T C T G T G C T T A G G G T C G A T C T C A T T C T G T T T T C A A T C C T C T T G T A C T T T A T A T A T A A C C T G C T A C A T C G T A C A A G C G C G A C A T G G A A G T A G T T A A G G G A C T A C A T C C A G A A C T T A A A A A T A G T G G C A A T T G T T G A T T A G C A A A C C T A\n",
            "2 2 T A T G T C C T G C G G T G G C T G G A T A T A A C T T G T A G T A T C C A G T G G C A C A T T A T T A G T G A G T C C T G G G A T G T C A T T A T T C G T T T T T T A C T G A C G T T A G C A T T G T A A T T T A C T C C T G C G G A G T G A A G G T C C A C A T G T C A T C G T C G A A A T A A A T T T A C G C G A A A C A G T G A A T T G G A C C A G G T G G T C T T C T A C C A T T A T T A A C G C T G\n",
            "2 3 A C G G A C A T T A G C T C T C T T C A T A A G T G A A C A G T T G T T G G C A G A G G T C C A C T G G G G T A A A T A A T G A C C C G C T T C C T C A G G C C G G A C T T A A G T A T C G C T A T G G T G T A T G T G T A G C G A C C G T C T T A A A G C T G T A G T C A A T C G T A T G A A T C C T A A T A T G A A A G A C A A C C A G G T G G T G C G C G A T A A G A A A G C C A C T T T G T G T A A T G\n",
            "2 2 A G C C T C T A A C G A A A G G T A T T C G A G C G A T G A G A G G A C A G G T G T T G A T C C G G T A A A T T A T A T C C T C A C C T T G A C G C T C T C A G C A A A C A G A T G C T C A T A C C C A T C C T T A C G C T C G A T C A G A T G G T G C C T G A G T C A C G C T T C C A C T G T A C T T C C C G C G T G T A C A G C G T T C C C T G C T C G T G T G G A G C A T A G C G C T C G C A T T T G G T\n",
            "0 0 C T T C A A G G A T G A G A A C C T A T T T G T C G A A A T G G A G T C A C T C G A G C A T T G A C A A G A G G A G T G C A C A C A C G T G C A A G C T C G T A G A G G C C T A G T A C T A C T C C A T C C G A G G C A G T T A T A T A G T A C T T G C C C G T T C A G T T T C G G A G C G C G A A C C G A T G G T T T A C T C G G C T T A A C A T A C G T A T C T T C G G T C T T T G C T A T A C G G A G T A\n",
            "3 1 T C C C A A G C A T A T A T T C A T A C A T A A G G G G A G C C C C C C C A A T T G T A T A A A T G A G C A G T T A T A C C T A C A A A G G T T C A G T C A T G T A T C C T C T G A G A T G A T A G A A T T A C G C T G G C A T T T A T C T A T G A T T A T A C T A C T A G G A T G A T A A G G G A C C C A T T A A C A G T T G G C A G T A A A A A T G C G A C T A G A T A A G G A C T A T C A C T C G A T G A\n",
            "2 2 A C A C T T G T C A A C T T C G G A C A T T G C G T T A T G G G A A G A C A G A G A T G T G A C C A G G T G T T C C T C T G C C C C C A T A T A C C G A C G T A A T A C A C A T A C A C G C C G A A G T A A A G C T T G G C G T C A C G T A C T T G C G T C A A G G A A C G C T T T T A C T T C G G A A T T G C A T A G A C T G A T C C G C A T A A T T T T T C G T C A A G T T C A A A T G A A C G T T T T C T\n",
            "0 0 A G C C C C C A C G C G T A T T A C C T T G A T G T G C C T A C C A C C G T T G T G C T A C A G T G C T A C A T A G G T T C C A A T A A C A T T C C A A G C A T A G C A C C C T C A A T C T G T C C T A C C A C C T T G A A G T A G C C C T G A T T G A A A G T G A T A G A C T G G A C G A C C T A G T T C T C C A A C T G A T T C A T C T A C C T A G C T C G G T T A A T T T A G C G A T T T C G C G A A G C\n",
            "1 1 T A A A G G G C C G G G C C C A T A G A T A C C T G G G T C G C T T T G C T G T C T C C C T C C C G T T T G T T G C G A A A G A A G A T T T A T T C A C T A C G G C A T C G G C A G A T A A G G G T T G A C T G T A A T G C T G A G G C A A A G A C T G A G G T A A T C G T A C G T T T G C G G C G G A A G A T A A G A T T G C G T T A C A G G A C T T T G A T T C G A C C T T G C T C G A G A C A T G G T G G\n",
            "0 0 T T G G A T G A T A C A T A T A A G T C C A A A C A A A A T A C T A G T C C G G T A A C T G T A G T A T A T C T A A G C C T T A T C C G A A T T T A A C A T A T C T G C A A T A A C G T T C A C T C C T A T A A G T A T T G T C A A G A C T A G A C C T C T A C A A C T G A G T G C G G G C T G T G T C A A T A C G G A A G C T G C A C G C C T G A C G G C A T G G A G C G A C A G G T A C C T C T C A A G A G\n",
            "1 1 G A C G A T A A G G A G A C C C A G C A T C C A T G T A G C C A G T A A G A C T A T T T T C T A A A C G T T C T A A T C T T A T G A G G A G A A A G T A A A C A G G C T C A A A C A A G T T C T T T T G C A T T G T G A T A A C G A G T T G T C G G A A T G A C T G C T T T T T G T T C C T T T G G T A A A G G T C A G G T C A G G G T G G C A T T G G C C G A T A A G C G A A C A T T T A C G C T C C T T C G\n",
            "1 1 T C T G C G T C G A A A T A A A T A A A G A A G T T C A C G T A A G G C A G A T C T A T C T A C G G A A A G A T A A G G T T A G T C T A A G G C G T T G A A G A A T T G G C A T C A C T C A G G A A T T A G T G A T C A G G C A T T G C G C A C T G G A T T A G A T G T G T T T T C C T A A A G A G A T G A A A C T T C T C G C T T A C A C A T C G T C A A C C A T A C G A A G G A T G T T G C A A G A T A A A\n",
            "1 1 T T C C A G G C C G C T A A G G G T C C T A C T C A T A A T G T A C T T C A T C A T C G A A T T A G G G G C C T C A A G G A G C T T A T T C G T A G T C C A T G C G T G T C T T G G C C C T C T A T G T C C G A G C C A A C G G T G G C A A G T G G C C C A G T G A A A C C T C C A G C A C T G G G T G G G G G G A A T A A T T C T A T G C C A G A T A A G C T T A A T T T A C C A C G G G A G T C T A T A G T\n",
            "1 0 C T G C C T G A C T T C C G T T C C A C T T T A A G A A A C A A T G A T A A C C C A A A T C G T A T G T A G C G C C A T T A C A T T T A T T C T A T T A G A G C T C G T G G G G T C C A C C T C T A A G G G T T A C T G T T G C C C T T A T C T T C G C C G G G A C T A A A T T G A T C T C G A T G T C T T T C G T T T C T G C T T A G A T C A A A C T A A T T C A G T G T C G A C G T C C G T A G T G A G C T\n",
            "0 0 C G T C A A A C A A C G T G T G A C G A C A A T T T C A A G G C T A A C A T A A A A C A T T T A A T T G C T G C C C T G A C T T G G C G T T A T T A G C C T T G C C T A C T A G T C A T T C C G A A T T T T T T G T T A C G T C C C G T T A G C T G T T C A C T T C G A G T G T G A T G T T A C G G G A C T A G T A C A C G T G C T C T T T G C A A G T G C T T G G G T A C T C C A C T A T T T A C C C C G A C\n",
            "0 0 G G G T T C C T C G A G A A C A A C T C C G C T T T G T T A T C A G T C A T A A C T C A T G C T G G G G G G T A A A G G G T T A T A G C T C G A G A G G T T C T A G C C C G A C A C A A C T T A A A G T A C G C A C C C C A A C T C G C C T C T T A G G G G T A T A C G A G T T C G A G T G T C C C G C C A C A G T A T G C A A A A C A G G A A T T T A T G T T G T C A A G A T A C T A C C A G C C A T C G G T\n",
            "0 2 C C G T A T G C T G T T T C T A A C G C T A A C A C T A C C G C C A T C G T G A G C A A C G T T A G T C C G T T A C C C G T G C T A T A A G C G A A T G T C C T A G A C G T A T G A T A G T T C C T G T T A T A A T A T G G T G C A C A A C G C A G A C G G T T T T T C G A T G A G C G A G T G C C C A G A T G G G C A C G T C T T G G T C A G C T C T A C C G T C A T A T T A T A T T C T A T G T C T G C T G\n",
            "1 1 A C T A C C A T T C T T G G T G T T T A T A T G T G T A G G A T C T A C A A A T T G A A A T C G C C G G G A G A G A T A A G C A G A G A C A A G A A A G G G A C C A G A T A A C T A T T T G G C G G G T G G T G A A A C A A G A C G T A C A C G G C A T T T G C G T T A T G G C C T A T T C G A C A G T T A G C G A G C T C A G A G A T A A G A T G C T G T C A A C A G A T A A G G G A T T C G A C T A C T T C\n",
            "3 3 A A T T T A A A C A T G C G T G A G T A A T C G T A C A G A T G G T C A G C C T A T C C T T G T G T A C T A G G A A A G G T A G T G T T C G A G C T A A T A T G T T T T G A G G T C A A T T T A A A G A T T G A T A G T C T T A G G G A C C C C G A G G T C G A T A G C C A C A C A T T A C T T A C G A T T A G G T T T G C A A A G A A G A A T G T A C A G C T A T A C T G T A C T G A T A G T C A A A A C A C\n",
            "1 1 G G G T A A G C G T A G T G C A T C T G C T T T C C A C A C C G G A C T T A G G C G A T A T C G C G T C C A A G A G A A C T T C C C T T T T A A C T G T T A C A T G C G T G A T T G A T C C C A G G G A C T A A G G C C A T A A G T G G C A C C A C T T A C G C A T A C G G G C G G T T T T A G T A T A A C C G A T C C G A A G A G G G A G A T A A G A G G A G G A G T A A C A T C C A T G T A A C T A A A C C\n",
            "2 0 A A G T T C G T C G A T A T A G T G T C A G C T G A C G C T T T C T T A C C G T C T C C A A G T T C T G A G T A A T C A G T T G G T A T T A G G G T T C C G C T C C C G T T A A G G G A C G C A A T C A G G G A G C T T G A A G A G C T G G G T A C C T A G T A T T G C T C A G T A C A T T A G T A A A C C C A A T G G C A G A A T A G C C A A T T G T G C T G T G A C C T T T T G C T T C A T A C T C T G A T\n",
            "0 0 T A C C C C C C T A T G C G T A T A C C A A C C A A A C A A T T A T G C A C G C C A G A T T G T C C T T G A T A G C T A G T A C C T T G T G G G T T G G T G A T G T T A A G A T A A T T A C G T C T C T A A T A G T C C C C C T A G G T G T A G A A G A T G T G C A G A A T A C A C G T C G C T C G A C C G G C T T G A T A G T T A G A A C T T C T T A G C T A G T T G A G T G A T A T G A G T A G G G C T A G\n",
            "3 3 C C C G A A C A G A T G T T A G C G A C A C T G A T T A G G A C C C C A G T C A T C T A C A T G C G T C G C T T T A C C C A T T C G G A G A G T C A C A G T G A A A G T G C G T T A T A G A C A G T A A C C G A C T C T C A T T G A A T G G C G G T T A T A C G G G T G G A T T C A T C C T C T G G C T G C G A C T A G G T C A A T C G C C T A G T A C A G G G G A A T G T T T G G T C G T A A A T G A A T C C\n",
            "1 1 G C C A A A T C A A C G G A C C T C T A G C A T T C T A T C C A G A C A C C C A C C A G A G G C T A G T G A T A A G C T A T A A T G G C T T T T C G T A C A T G A T A A G C G C T T T A G T A A A G A T C G G T T A T T A G T A G G A T G C C C G A C T G C C T G A C G G A A G T G T A G T A G G G G A T T T T G T G C T A C A C A A A T T T A C G T A C C A T T T A A T G A A G C A C G T A C T T G A G G A A\n",
            "3 3 T T G C G T T G C T T G G G A T T T A G C C C T G C A T T A A C A G A A T C G T T C T T G A A C A G A A A A A G C T C A A A A G A T A A G G A T G C A T C T G T G G A C A G A T G G C C G G A G T A A C T A C G G T G C A C A C G A G G T G G A A C A G A T G T T A T A T C A G A C C C G T A A G A A C A G A T G G T C T A T G G G A T C T T C G A G A T T A G T T T T C T A T G T G T C C G G C G C T A T A T\n",
            "3 3 G G G T G G C A A G T C G C C A A A A A A T T T C C G T C A A C C T A C A G A T A A G C C G C C T C A A A G G G C C T A A A G A A A A G A T A G C C A A T C A G C G C A G A T A T T C C A A C G A G G G A C C T C T T G T A T C A C C A G T C G G A C A G A T G G C T A T C C G A A G T T C G A T C T G C C G G C T C C A G G T T G T T T T C T T T A T C C G G G T T A C A G C T G T A C A A T C T G C G A T T\n",
            "1 1 T T T A A A T C T A A C C G A C C T A T A C C A A A C C C A C G A T C A T A C G T G C C T C T G C G A T A A G A G A C G A G T G A T A A G A C T A A T C C G C G T T G A T A A G G G T G G A C C A C C C T G T T A G T G T G A A G A T A T T C C A T T A T G T G G C C A A C G G A T C A T C A T A A G C A G A G A C C T A G T T T T A G G C T G T G T T A G G C T G C G G T A G T G A C G C C G G C A A T A C A\n",
            "0 0 A T T A A A G C A G C G G T A A C C T T A T C C G T T A C A A A A G T T G T G G C C G A C T G A A G C A G T G T T C C C C T A G C T C A T C A A A C T T C G A T T A G T A T G C G G T A A G C G C G T C G A C T C A C T T C T C T A C T G C T G G C T A A G A A C C A G A C C T T G C G C C T T T T G A C C C G T T T A G A A T G C A T T A C G T C T A G T A T A G A G T G C A A T A T A T G A G C A A A T G T\n",
            "3 3 T A T C A T C A T A T A C A C A A T C C G G C T G A G G A C T G G G A T A C A A A C A G A T G T T C C G C T A C T T C T T T C A A A G A T A A G A G G A G A G A T A A G G C G C T A T C T C A T T A G A C T T T A A G T C T G T A C C G T G T A C C A G A T G T T C G G T C A T G A C G T G C T T C T G A G C G T C G A A T C G A G A G A G C C G C C G G G A G A A A G A T A A G C A T C A A A A T C A G T T T\n",
            "1 1 A C T C A G A G C G A T A A G G T G C C G T C C G T A C G C C C T A G T A C C C C C A G A A T A A G G C A A C C G T G C A G C G C T C C T C T T C T A A T T T T G G T C G A C T T G G T G C C C A T T G A T C A T T C T A C C A G C G T A G G A G A G T A A A T T G T T C C A G A C C A A T G G A G T A A C A G A T A A G C A A G G T G C A T C A T A G A A G A C C A T A A C G A G C A T C G T T C G C A T A T\n",
            "3 3 C A C A T A G A T T A T C C C A A G T A A G C T C C C C T T G G A C C T C C A T G G G T T G G G C C A G A C G T C T A C A A T C C T A G T C A G T G T C G C C A A C A G C A C T A G A T T T T A G G G G A C C T T T C A T A A C A G A T G G T T C A T C G A T G A A C T G G T A A T T C T G C C G A G C A C A C A G A T A A G G T C T A C T C C G T A A A A C G A G T C G A G A C A G A T G T C T A A G A G T T\n",
            "0 0 A T T T T A G C C T C C A G T T G C A C G G C C A A C G G C T T G C T T T A G T T T C T A G A A G T C A G A A A C C T C C G T C C A A C T T C A A A G C A T A T G A G T A C T C A T T C T T G T T T G A C G G T A G C A G G A T T T C G C C A T C C G G G T C A G T T T T G G C T T C T A A C C T G C C G T A A C C A A G A G G G G A G T C C T A A C G C C A T A A T G A A C C G C A C G C C A G T C A T G A G\n",
            "0 0 G G C C T T C G G G C C A C T T G T T A G T G G G G G A C C G A A C G T A C T A A C T G T T G A T C T C A A G G G G T C C C C T A T C C C T G C G T T G T G T A A A A C C G G C T G G C C T C T C G A A C T A A G G A A G T A C T A T A C T A T T A C T T T T A A G T T T C C A T T C T T C G A T G G C T G G A C A T A C G C T T C A A C G C A C A T T A T G A C A T C C A C T G A A A A T C T A C C G C A T G\n",
            "1 1 T C A C A G A T A A G A C A T C C C T A T A T G T T T T T A A T C G T G C G A A T A T A G T T A A T A T C C C T G C C T G T C A A C A C A T G G A G C A G G C A C A T T G G A G T C T G C C A T A T G G C G G C C C A G A C A G T A A G C C G C T C C T A T T T G G A A T C C G C G T T G T A G T G A C A A G T G A T A A G G T C T T G C G A C C G G G T C G A G T G T C T G A A A A C T A T A A T C C G C T A\n",
            "2 3 T T T A C C C C T G C G G T A G A A T T C T T C T T T C A G C T A G T T G A C G T C T T T G T A C G C A C C G C T C A T C A G A A T G C G C T A T A G G G A A T A G T A A G C T T C T T A T G A A C G G A C A G A G C C C A G A T G T T T A C C G T G G T A T T T A A T G C A A C C T G A C C C A C C G C A A C G G G G C T A T C A G C C T A A A G A G G A T T A G G T C T C C A C G C A G T G C C G A T C C C\n",
            "3 3 T T G A C G C T A T A A C T T C T C T T T G G G A T G C A T G T G T C T G T A C G A G T G C C C G T C G C A G A G G G A G G T G C T G A T T G T A A T G C C G T C G C T C T G C T T T G T T A A G A T C A A C A G G C C A G A T G T T A C A C G A C A T A G T T G G C A G A T A A G G T C T A G G C T A G C G A C A G A T T A G G A T T T A C C C G G T G A T G A A T T A G T C G A T T G G T A G G C A A C G C\n",
            "1 1 C C C A A C T T A A C C C C C A A G T A A C C C G T G G C T A G T T A C A T C G A C G A G G T A C T G G A A T A T G T A A C T T C C C C G T T G C A G G C G A G A A T T G A G T A G T C A G T T C C A G G A A G T C G A G T C G G T T C A C G A G C G G T A G C A G A A T C T A C T C A G A T A A G A A A A T C C C C C A T C G A A T T A T C T C G A T C C T T T A G G G A C T T G G T G T A T A A T T G A C T\n",
            "3 3 T T C C A A G A T A A G C T T A A A T A T A A C A T A T T A G G A C T A A T G G A G G T C A C C A G A T G G T C C A G A G G A G C C A G C C A A A C A C A G G A A G A T A C C A G A T G G T C A T A T T C T G A G T A G T G C G A T A A A G G C A A C T T G C A C T C G G T G T T G C A G A A G G G A G C A T A T G G T C G A A G A T A A G G T C T T G C A G C C A C A C A A G T G G T A A G G T T T T T C T T\n",
            "0 0 T G T G T A C G T T G T G T A A C G A T A G T T C G G C G T T T A G G C T T C A G A A C C A A A A C C A C G A G A C T A G A A G C G T A C G C G G T T C A T A T A T C T T T C C A G C T G C T T C A G A G T T C G A G A A G G C A G C G A T C C C T A C A A C T G A T C A G G G T A G C C A C A C C A C A C G G C G G C G C G A A G C G C G T G A C G A A T G T T C T A G T A C A A C T C C C C G G A C T A A A\n",
            "0 0 T T C C T C C A A A T C T A T T A C G G A T C C A C T T C A C T G G A G G A C A A A C C C A T T G G A T A T T T C C C C A C G C C G G G A A T A A T G T T A T C C T T T C C G T T C C A C G C G A A T G A A T A C A C G A T C C A C T C G A G C C T T G G A C T C C T A A C C T A T T T C T G T A C T C G G A C G A T T T C C C G G A G A T G C C T A A G G T C C G T G G C T A A G A C C G G C G T T G A T C A\n",
            "1 1 A C A A A C A A T T A C G G G T A A G A G C G A C G A T C G C G A A G G T G A T A A G C C G C A A A A C C A A G A C T A G T A C A T C T G G A C G G C T G T T T C A G G T G A T T A T T T T G T T C G A C A G A T A A G G T C T T G C C A A T T C C G T C C G T T A A T T A T A C T C C G G A G T A A C C T C A A A A A A T T G C A A G A C A T G G G C A A C G A T A C G G C A C C G A G T A T C A C T T C T G\n",
            "0 0 T G T C A C T T A T A C A G C A T T G C T G G G C A G T A G T C T C T C G C T A A T T G T G T C T G T T C C T A T A G T A A T A T G A C A C G T C A A C A G T G A T T T A A C A C A A G G C A C A G G C G A T T A T A T C T A G G A A A A T A G T C T A C G T A C C G T T T A T T G G A A G A G G T A G T G A C G C T G A T G C T C A C T C C G C C T T A C G A A A T C C T T C G A A T G T A A C A A T A A T A\n",
            "1 1 A G C C A A T G A C T T A A T T C C A G T G A C T C G G C A A T T C T A C T A T G G A G C A C G C T A T G T G T A T C A C T A C T T G G A C A T G G C G G C A G T T T G A G T A G C G T C A T C C A T T C C T T A C A C T A C T A G G G T T G C G G T G C C T G A G A C A G C A A A G C T T A G T T G A T C A T G A G T A A G C T A C G C A G A T A A G G C T C G T T A T C A A C A G A T A A C G T G G C T A T\n",
            "1 1 T A G A G C T T A C G C G G T A T G G A T C T C C A A C G C C A T T C C T A T A A T T A C A C A A G C T C A C G T G G T G T A A G G T G G G G A A G T C G C C G G T A G G A T T T T A A G A T C C T T T T T G G C A G C C C A A T C A C A G T T G A A G G C A A C G A A C A A C C C C C G T A C C A A C A G A T A A G G A C C G C G C T G A A G G A T C A T A A T G G A G A T A A G G T A G G C C A A G T T T G\n",
            "2 2 C A C A G A A C A G A T G G C T T G C C T G T C A A C A C G C C G C A A A G A G C G T G A T G A T T A G C T T A A T G C T A T T C A C A G G C A A T T C T T T T G C G C A G A G A T G C G A A C T C T T T A C C A T A T T G T G C A A C G G A A G C A T T T A T G G A C C A A G G A A T C T G C G T T A C T G T G A A A G A G T A A C A G C G C A T C G C G T G C G G T T A G A C T T C G C A C T A T T T T C G\n",
            "1 1 C A A G A A A T G G T A G T C C T C T A T C T G C T G G A G T A A A T G T A T C G A A A C T G T C T C A G A T A A G G G C C T C T C T T G T G G A G A T G T T G A G T A C T C A T T C G A G C A A T T C G A T T G A T T C A A A G T C C C G A A C C T C T A T T G T T T C A T C A A T G C G C T T G C A C T A A C G C C T T G A G A T T G G C T G C C T T A A A C C A A G A T A A C C G C A C T G A A C A C T C\n",
            "1 1 A T T A C G G A G A T A A G G A A C A C C T A T T C C A G C T T T T C C A T A C G T A C A A T G A G C C A G A T T A G G G G A A G A T T A G G T A C T G C C A A C C A T T T T C T T G C T C A G G G A C A C C G A T A T C A T T G T G T G C G G G C C T T T A C T A C T A T A A A G A A G T C C A T G G A G G C C A A C G G A T G C G C A T A C T T C C T T C G A A A A C T A A A T C G A C C T T A T A A G G T\n",
            "1 1 C G T T G G C G A T A A C A A G A A A C A G A A C C C C T A A G A G T A T A T G C T G A T T T G G T G T C G G T A C G G T C T C T A G G C T A G G C C T C G T T G C C C A T T C C T G A T C A T G C C C T G T G G A C A C T C T T T C T C G A C C T A G C G G A T A C A T T A A C A A C T A C C A G A T A A G C T T A A G C G A T A T C A C T A C C A A C A G G A C C C A C G T G T T T C C T T G G C G G T G G\n",
            "3 3 G G C C T T A A A C C T A T A C G C G C A T G G C T A G A A A G C A A G A C G C T A G G A C T T C T T A C G T A G C A A G C A G C C G C T C A T G G A T G C C A T C T C G T T C T G T G A C T G A A C A G T G A T A A G A C A C A C C C G A C G A C A A T T A A C A G G T G T C C C T A T A T A C C T T A G G A T C A G A T G T T T G G A A G T G C T G C A T C G A C T A A C A T T C C A A T C C G G C T A A G\n",
            "2 2 T G A T T C A C C G C A A A G C T G G C G A A C A G A T G T T C A T C C C C G G C C T A T C C A T A A G A C C T A T C A G T T T G T G A T T T A T A A T T T A T C T C T T G C C C C A G G C C T G T T C A T T A C A T A A C A G A T G T T G A T T A T C G T T T A C T A T A C T T C C C T A C C G C C G A A C C A G A T G T T C A C C A C T G A T C G A C G C C A G G C A T G A A G G C T G A T T G T G G G T G\n",
            "2 2 G A T T C G T G C G C C A G A T G G A A T A G C G T G G T T G G T A T G A A G A G G A C A G A C A G A T G T T G G T T A G T T T A T T A C T G A G G G C C G T G C G G G T T G A C A G A T G T T T G G A G G T A C G T G A T A G A C A C T A T C A T A A T A C C C T T G C A T C C G C G T C C G A C C A T A T T A T A G G G G A G G C C G T G C T A A G G G C G C T C A C G A G T C T C C C G T G T T C A G A C\n",
            "3 3 T A C T T A G C C A T A T C C A C T A T A T T G A C G A G T A A T A A C G T C C A T G A G A T A A G G A C G A A C A G T G C T T C T T A G T T G C C G A T T A G C C G C A A C A G A T G T T G T T G G T T T G T C T G T G G G A A T C C G C C T C T T T A C T G G T C T C A T G G C T A G G T A A T T A A T G A G A T A A G G A G G G T T A T C C A A G T G A C G C G C G G C C A G T A T A A A C G T G C A G T\n",
            "0 0 T A G C G A A A C A A A A A G G G T A C G C A C C A T C G T T T C G T C C C A T C C A C T G G T C G T A C A G C T T G A G A T A C G C G G A C T T T A A G T A A G A A T T A G A G C C C T T A C A G G A A T A C G G C C T A C T C G G G A A T T A T G A C T C C T A T A A C A A C C C C A C G A T G A T T T T A G A C G C T T A G T G T C G T C T A C T T G A C C T C A T A G A C T C T T A T T G A T G A T G C\n",
            "1 1 A C C C T G G A T C A A T G A C C G G A A T C C G C C T T G C T T T G C A C G A T T C G G G T C A A C G C A G T A C T A C C A G T A G T C G G A G A T A A G C T T A A T T A C T T A T A C T A C A C A G A A A T C T G T T A T C G C A C C G A A T A C T T T A T C A A G A A C G A T C G T G G G G C G G T T A T G T A A A G A G A C C A C G T G G A T G T G A C C G C T A A G T A T T C T G G C C G A C G T T T\n",
            "2 2 C T G A T G A A G G T T G A G G G C C C A G G T G T T A A G A A C G A C A T T T C C C G C A T G A C A G G A A G T T G A A A T T G A T T A A A T T G T G T G G C T T T C C T G A A C T A G T C G C G A A C G G T C G T C C C A G G T A C A T A C A G T G T T A C A A A T G A A T C T T C A A T G T G A A C G T G G C A T A G T A C T A G C T C G G C T G A T A C A T G A T G A T G C C C C A G A T G G T G G G A\n",
            "0 0 C G C T A G C T A A A A C T A T G C T T A C G C T C A G A C C T G T T T T T C A C C A T A A C T T G T A G C T A A T A A G A T T A G C A G G A T A T T T G C C T T C C T C T A C C C T G A A A G T A G T C A C A T C G T G G G C A T T C A T T A C C T G T G C T A A T G C C A G C G T A T C A C T T A T C C T C A T T T T G A A C C G T T A A T A A T A C T C A C A A G C A T T C A G A T T G C C A G A A G A A\n",
            "0 0 G T C G A G A T A T C C G C T G A C C T T G T G C T C C T A C T A T C G C C A A C T C A T T C C G G T T G A A C G A G T T A C C A G C A T A A T C T G C T A G C G A T T A T C C T G A G A C T T T A C C T G T T T A C C C C T T T C G C G A A T A G C C A C T G T C G C T A G A C T G T A A A G C T C A C A T A C C C A T T A C G C A A A G C T T T C A G T G A A T C C A A T A C A C G G T C A A A T T C T C C\n",
            "1 1 C G A C G T C T C A A T G A A G T A T G G C T A A G C T T G C G C G A A A T G C G G A C C G T G A C C T C C G G A A G A A C A G G A A G A T T G T C A A G C G A T A A G C C C A G C T T A T C A A T G G G A T C C T A C A G G G G T T A G G G A C T C A A T C A T A T C G C A G A T A A G C G G A G A G A C A T G T C T G T G T G T C C A G C T C C C C C T T C A G G G A T A T T A A A T G A A G C C C T C G G\n",
            "0 0 C G T A G C C A A T T G C C T C C G T A T A C A G T C G G C G G A A T T A T A T T G C T T A A A A T C G T G G C A T T A A G A T T T A C A T G T C A C G T A G A A C G C G A A A T C A G C A G A T A A A A G T T C G C C C A C A C G A A A C A A C T A A G G G A T C A C G G G A T G A G G C C A G G T T C T C C A G G A G T T C G G T C C G G C T G C C G G A A G C A A G C A A C G T G T A G T A G G G C G A C\n",
            "1 1 C A T A G G T C T G A T A A G C C A T C A T C G G G C G A T A A G G T A G T T G G T T C G T T A C T G T A T C C A T T C G G A A C T A A G T A C A A C A A C A G A T T C A A A A G C T A A T G T G T T G A C T A A A C C G T C T C A G C T A A A T A A T C C A G T A A A A G G G T T A G G G T G A T A A G G C G A C T T C G A C C C T G C T A C C T C C G A T A A G C G G T A T G C G C C G A G G G A A T T A T\n",
            "3 2 G A A G G G C T C G T C A G C T G G A A C A C T C T G A C A G C C A T T T T G A T C A G C T C T G A T T T G T T A G G T T G T T G A G T T T G C G G A G A T T G A A A G G A C A G A A G T G C A G C A T C A G G G A A T T A A T G A T A C G C G C A A A G T G C G A A A C A G A T G G T C A A G A T G G A T G A A G G G A C A T G T T C T A A C A G G T G G T T C G T T T C C T C G C T A G G T A G A A T C A T\n",
            "3 3 A A C C C G T T T A C G C T T A G T T G T C T C T G C G T T G T T T T T C T C A T G G G C A G C T T G T A A G A C G C G A G C G T T A A G G G G A G C A A T T G G G C T G C G A C T T A T A A C A G A T G T T A G G T A G G G A A C A G A T G G T T G T A G T T C A C G C A A A C G G A G A T A A G G T A G G C G T A A A A T T A T G T A T T G A C A A G T A C A C T C G C A A C A T G C C G G T G T C A G C G\n",
            "1 1 G C A A C G A C C C C A C G A A T A A C A A A A A A C C G A T A G T G G T T C C T A C A A C T C G A G T T C A C T T A T T A G A A T A G A A C G A C A C G T C A A C T A A G A G G C C G C A T G C G G A T A C A T G C A G C G G C A T T T G T C A C A T G A A T A T A C T G A T G T T C G A A G T T G C A G T A G C A T T C C A T T G A A G A A G G C T G T G T T A A G A G A T A A G C A A T C T A A T A G C C\n",
            "2 2 A G A G A C C A G A T G G T A C A T T C G A G T A G A G A G C C T G C T G C C T A A T C C G G C A C A A C A T G A C T C A C C T T T A T T G C A G C A T A G C G T T C A T T C G C A A T A T C A C G A G G A G T A G T T A G T G A A C A G A T G G T G T A C G C T C C C C A C A G A T G T T A G G A A G A A G T G A A G G A G A T T T C T T C C A C C C A T C A A T T G C T G T T A A T C A C A A T T C T C G C\n",
            "2 2 T T G C T A G T A T A C T C G T T T C T G A T G G A C T C A T A T A T A G T T T G T C G C G C C G C C A A T G T C T T A G T T T G A T C A T T T A C T T G C G A T C A A C A G A T G G C G C C G G A A T A A C G C C T T T A G G G C C A C T G C A C A G T T G G T T C A C T A C T G C A A T T G T G G C A C G G A A T A C G A G C A A A G T A T T G T G C A G G G A G G G T G G A C C G T G T T A A G T G A C T\n",
            "3 3 C G C A A T C A C C G G C G G A A C A G A T G T A A G C T A G A C C A C A A A C A T T G T C A T G A A G G C C A C G T T G T A A A A A C G T A C C T T G T A G A T A G C T G A T T G C A C T A C T T G G T A C A T G G C A A C A G C A A T G A A T T T T G A A T T C A G T C C G A T T A A A C G T G T T G T G T G C C C T C A T C G T C T A C G A G A T A A G C C A C C G T C C G A T T A G C A G A T A A G A C\n",
            "2 2 T A A C G A G C G G T A C T C C C A C A A C T T A A T A A C A C A G G A T T G A T A T C T T A C C A G C C G T A C A A C G G C A A A G T T G T G T C A G T A A G A A C A G A T G T T G G T G T C G A A T G A G G C G T T G A A C G T G G C A C C T A T G T C A C A G C A G T T T G T T T A T A G A T T C C C T T C C A C A T A T T T C A T A T G C A C C G A C T A A A C A G A T G T T A G T G G G G G C G G A G\n",
            "2 2 T G A C T G G C A G C C T G T C A A C A G A T G T T C T T G A A T C A A A C A C G T G G T G G T T T C T C C A A A A T T A G C T C C A T T C A C A C C G A G C C G T T C A G T C G A A T T A T G T G G C C C A C A T G T A T G C A T C A T T A A T C T G C C T A T G A A C G T G C G G A A A T C T A T A G A T A A C T T C G G A C A C G T A A T G C C G C G A C A C G C C T C A G G T G T C C A T A G T T C T T\n",
            "1 1 C A C T G G A C A A T G T A T C T T G C T A T C C A A A G C G T G C A A T C T G A T T T G A C T G A A T C T G A T T C G T C C T C A G C A G A G T A A G C C A G T C C G G C T A G C G C A C G C C A G T G G T T G T C C G A C G C C G T G T C T T A C T A A A G A T C G A C T A G A T G G T C G G C C T T T C C A G G A T A A G A C T T G A G T A A C G T T G T G T C G G T T A C G C G A T A A G G A T G G G T\n",
            "3 3 G G A A G C G T C T G C T T A C C T A T G G C C T G G T G C G C T T T A T G A G A A A G A C A C A T G T G A A A A A T C A A G C A C A G A G A G G A G G A C T A T T G T A G T C A A T T C A C G T T C C A A A G A A A G T G T A G A T A A G G T T T C T C A G A A A C T G G A C T T C T T A G C T C A G C T C T A T C T T A C G A A C A G A T G G T C C C G G G G C A A A A T C G A G A T T A G C A C T C G C A\n",
            "3 3 T T T G A G A T A A G C A G A C G A T A G A C G G G C C A A A C A G A T G G A C G G T C T A A G A G C A G A T A A G C C C A C A C A A A A C G C A G A A G T A G G A T A C T T C C T A T C G T C T G G C G G T T T G C A G T C T A A C A G A T G G T C C C A T A A T G A C T T A A A G A C G A G G C A C C G G C G A C T A C G C C A G C A A A C G T T C C A T T T G T A C G A A A C A G T A A G A G T T T G G T\n",
            "2 2 G A T A T A A G A G A A T G T A C T A A C C T C A T G A T T C A G T A T T C T G C C C A A C G C A T C C A T T A T C T C G C A C T G C C A A G C G T C C C G A A C A G A T G G T T C C C G G C G A A T C T G T A G T A G T A A T C G G A T G T A T T C T A A T T T G C A C C C A A T T T A C G T G T T T A A T C A C T C A G A G C A G A T G T T C G A G A G A A G A G T G C C G G T C A A A G G C G A G T G C T\n",
            "1 1 G T C A G A T A A G G T C G A G C C G G T T G G A C A G A T A A G G G A G A G G A C T G C C T G C A A C A A T A T G C C C A T C C C C G T T T T T T A C G G T G T T A T G T T C T G G T G C C T T T G G A C T G G T A T C A A A T C A G A T T G A A A T T A T T C T C A C T A G A C C G C G A T G A C C A A T G G C G G A T T T C T A G T A C G G T G T C A C G T T C T T G A G G A A C C G A A A A G G C T A A\n",
            "3 3 A G C A C A A A A C C A G A C C C A T T A T C A G G G G A A C T C C A G A T A A G G G G G T T T A C C G A A A A T G A A A C T G T A G A G T G G A C G T G C A G A T A A G G A G T A T C G G A C A T G C G C G T G A T C C A C T G G C T A T C G A T A C A G A T G G T C A G T G C A A C G T G G A T C C G C A T A C C G T G G G C T G T C T T C A A G T G A T A A G G T G G A C G T T A T A T C C G G G T A A C\n",
            "3 1 A A A A A A T G G C A A G C T G T T T A T T T T T A T C T C A A A G A T A A G G C A C T C C A T T T A G C C G T A C T C G A T G A A G A C T T A G G A A T A G G A A C T A A A T A C G A C T A G G G G T C T A G T A C G T G A G C C G T G T G G C A C T T A G G C T T A T A G G T C C A G A T A A T A G G T G T C G G T T G T G T T C C A G C C G A A G A C A G G A C T A C A A C A G G T G G T T A C G C T C A\n",
            "0 0 G G G G C A C C G C G G G G A G G T C G A T G A T A G A A A G G G A G T T A T G T C G G G A G T C T G T C A G C A C A T T C G T C A G C A C G T G A T A A A A T A C C C C A T G A T A A G T A A A G G C C A A T T A A C A T T A C T A T A T A A T T C A A T G G G G C A G C G C G T G C A A C A A C A T T T T C T C C A G A G C T A T G A G T T C T A C T G T T A T G G G T T T T T C A T C G A G G G A A A A A\n",
            "1 1 T T A T T T G C T G A T T C T T C T T C T T C G G A T G A G C G A T A A T T T G A A T T G C G G G A G T A C T C G T G G G G C T A G A A C A A G C G G C G A T A A G G A A T A G G C G T C C A C A C T G C A G T T A G C T A G T C C T A G T C C G T G A T C C T T T G A T G C T A A C G C A C A T G G C A G A T A A G A C C T G A C G C T C T A C C A A T A G C A G A G T T A G T T A C G T T G T C C C C A C T\n",
            "3 3 C T C G A A G G G C G T C T T G A A G A C T T G G C C G C C G A A G A T A C T G T T T C C T C A C T C G C G A G G G C T T T C C T A A C T C T G A A A A C A C A G T G A T A A G C T A A G G A T T T G G A T C T A A G A T G G T C C C A G A T G T T C A C A C C G G C G C T C T T T A G G G T A G C A C C C T G C T T T A C G A A T T A G T G T T G A A T T C T T T T C A C G C A C C T A G T T C A A C T C A G\n",
            "1 1 C C G C T T T G T A G A T G A G G A G A T C C A T A T T G T A T T G C A G A C T G G G G G G C T G G T T G C C A C G A G C A G A A G A G A T A A G G G T T A A T A G A G T C A C C G T A T A A A C T G A T G A G A T C A C G A C A G C A T A C T C A G T C G A C A C G A G A C C A C T G G T G T C G A G T G A T G T A T T C T G T A T G A C T T A G T T G C C G G A A A G G C T G T C C C G A A A C T T A G T A\n",
            "3 3 G T A G G G T C G A A T C T A T T A C C G T A C C T A C A G A T G T T C C G C G T C A G A A C T G A T A A G C G T T T A T G C G T A C C A G G A A C T A T C C A T G T G C G A A G A G T A A T T A C C G A C T C A C G C T T C C A T A A T T C T T A A C G A G C C G G C T G T C G C C G G A A C A G A T G T C A C A A C T A A G G T G A G C T T G C T T C T C T C T T T T C A T A T G A T C C G T C A G A T A C\n",
            "1 1 T T C C T G G T G C C G T G T C A G A C A G T C A C A G A T A A G G T T T A A T T C C A A G G C G A T A T C G T T C G G G C A G A T A A G C G T A C C T T A A G T A G G T G A T A A G A G A G T G A A A A A C T A T G A C A A C T G T G T G T C G A A A C C A G T A C G T T T T T G T C T T A G T C G G A T C C G A C T T T C A G G A T C G C C G T A A G A T A G A T T C T A C A C A G G G T T C T T T T T G G\n",
            "2 2 C A C C A C A C C A G T C A C G G T C T T C C C G A T C T C T T A A T C A A G T G G A A G C A G T T C C T A C C C G A C T G A T T C T A C C A G A T A C A T A A A C A G A T G G T C G G G T T C A C T G T G T G A T T T C A G T G C A G A T G G G G G G G T C T A G C G T T C C C C T A A C A G C A G A C T G T T A G A C G G A T T C C A T A T G C G T G C A C C G T A G T T T T A T C T A T C T G A A T T A C\n",
            "3 3 G T G A A G G T G A T T G T A T A G C T A A T A T C T T T T C C A A T T A A A A T A C G A A A T C C C A A A C C A A C C G C C G G G C C C G G T G G C A T A G A C G G A A G C A C T A C A A T C C G T C C A G A T G T T A A T G T G C C G T G G T T T G A C C C T G A T T A G C C A T T G A G A T A T C A G A T A A G C T G T T T T G G A A T A T A T T G C A G A C A T A T T T T A A A G A C T A G T A T T A G\n",
            "0 0 A T T A C C G T G G T A C G T T T A T A T G C G C T A C G C C A T A C C T C C G G A G C G T C A C A C A A A C A G T T A A C A G T C T G T A T G A T A T G C A C C A G C T T A G C C G T G G T C G T A C A C C T T A C C A G A G G T G A T A C A T G T G G C T T T A T C A A T C G A G G T T G A C T T A A C G C C C T G A G C G G G G T T C T C T C T A T A A T A T A T C C G A G T A A A T A G C A C T A C A G\n",
            "1 1 C T C G C A T T T G G A A C A C G G C T A A A G C A T A A A T A A C C A G G A T A C G A C C T A T C A A C T C A G G G C G A C G A C T A G G C T A G A T A T T C T C A C T A G G A G A C G C C C C C C C C A A G A T C G A A T A T T C G T G G G T C A C A C G G G A T A G G T G A A G A C T T C A A C A T G A G A T A A G G T C T A T A A G T A G T G A G T G A G A T A A G G C G T G C C G C A T T C T A C T T\n",
            "3 3 A G C T T A C G C G C G A T A T G A G A A C G A C G T C G T T C G C C T T G C T G A T G T A T G T G C A A A G G G A C A G A T G G T C G T C A A G C T A C T C C C T A G T A G A A T A G G G G G G T C T G C T C A C C C T T T A G T C T G T T A G A T A G C C A T A A A C C G C G A G A C T A A C G T T G T G A T T A G G G T A C C T A G T A C A C T G A T A A T C A C C T A C A C T G G A G A T G C A G G A C\n",
            "1 1 A C A G G C T G C A T A T T A G A T A G A C A A C C A T C A T A C G G T G C A G A A T C A G T T A T C T T A A G C A T A T G G C A T T T C G G T T G C G G T T A T A T A C T T T G G T C A G G C G T C C T T A T A T C C T G A G A G C C T A T A A G T C T T A G A T A A G A G C T A G T T T G G G A A G T C T C A T G T C T A T C T G T T A C T C G G G C G C G A A A C T T T T A T T A G T G G T A C A T T C G\n",
            "2 2 C C G A C C A G G C C A G G C C T T G C A C T C G A T C G T T T T A C C T T C T C A C A T C C G A C A G T G T C A A T G A T T T G C A T C C C T C T C A A T G C T T T G C G T T A C C C G T A C A A C T G G G G T A T A A C C A T T A C A A T C C C C C G C T G C A G A A C G A T G T G A A C A G A T G G T T C G T G G G A T G C A A C A G T A G G A T T A A T C A G A T T A A T G A G T T T A T G C G C G C A\n",
            "3 3 A A A C G G T C G T C C G A C A A T T T G T T T A T G C G A A C A G G T G G T C T T T T C C C G G C G C T G A T A A G G G A G G G A C A C T G G C T G A A T G C G A G G A C G G T G G C G T G G G C A A G T A G T C C G G G C C T C A G T T A T A C A T G T T C A G G T C G A T T G A C C T A T C G T A A T A T A A A T G T C C C G A A T A A C A G A T G G T A A C G A A A A G T T C A G C A C A C C A A T C T\n",
            "1 3 G C C A T T G C G G A A A G A T G G G T A A C C T C A C A G A T A A G G C C A T A T A T A T C A C T C T T T A A G T C G A C C C C T A T C C A A T G C A A T T C T A C G T T C T G T G T C C C A G A C T A T C T T A T T A C A G A T A C G C C C A G A T G G A G T A A A C A G C G C C G A G C A A G A T C A G A A G T A T G T G T T C T C A A T G T G T T G A C G C C G T G A C C T A G C T C G C G T C A G A G\n",
            "3 3 T G G T G T T G T A T G A C G T G A A C G T C A C C A C A T C T T A T G A G T T T T A C A G A T A A G C A C T T T T A T T G A G G T T T C T C C A C C T T A A G C G C C T A G A T G A G A T A A A G G A T A G T G G T G G A A A A T G T A T G G T A A T A G G A T A A C T C A G T A G C T A C G A T A G G T A G G G A T T A C G G T A G A T G C G G G C C A G A T G G T C C C T C T G A T A T T G G T A C G T C\n",
            "0 0 T T G T T C C C C G T C T A C A G C T A G G C T G C T C T A G A C T G T A C A A C G G T G T A C T C C T G G G A T T G T G C C C T T C C C A T C T A C A A G C C G T T C C T A A A G A A A T C A C G A T C A G A G C A G T C T G G A A T T A A C G C T A G A A C A C A A G G T T G T T A C A T C T C C A A T C A T C A G C T A G C A T T C G T G A T G T T C C G A C A T C G T G C C A G A C C G G A G A T G T T\n",
            "0 0 C G A C A A C A C C T T A C C C C C A G T G T T T A A A C G G T C A T C A G G A T G T A T T A A T C A C T T G C G C T C T A C A A C T T A G T T G T G A C T A A A A C C T G C T C T A T A C C G C G T G A C A G C A G G T C C T G C C A T G C G T C A A G G C A T G T G A C A G A C T T C G C C T A T C A C C T T C T A G C T G A G T T G T C T A G G A T A T G A T C T G C A T C T G C T G G T C C G G G A T A\n",
            "3 3 T G G G G G T A G C C A T G C A T G G G A C G G A C T A T C T T A T G T C C T G C C C A G T G G A A A G G T T T A G C T G G G T G A T A A G C T G G C T C T C A A C A G A T G T C A G A G A C T T T T A C T A G G A A T G A T A A G G G T T A A C A G A C A G G G G C C C T T A A T T G A A G A G T C T C G A C G T A A T T T A A C T T G G C T C G A C C G A G G C A A A G G G G T C T T A T C G T C A T C A T\n",
            "1 1 T A C T A A G A G A A C C A C G T T A A C T C A T G T T A G T C G G T C A G G C A A T A G G C A A T T A A T T T G G C C A A G A C C A A A G A G G A C A G G G G C A G A T A A G C A C A T G T C T A T T G A A G G A T T T A A C A A C A T C A G T C A T A A C G A A A G T C G A C T A A T C C T A A G T T C A C T T T A C A C A C T C A A C G C C T G A G C T G C A C A C A G C T A A G T C G C A A C C T A C T\n",
            "3 3 C A C A A A C A A A G G G A C C A G A T G G T C T T T T A C G C T A C G T A A A T T T T C G A G G G T T A C G C A G A T A A G G T A G A A G A A C T C T G T T C A T C T G T G G G A T T A T C T C A A G C A T T A G G A C A G A C C T T T G A G C C A G C T T T G T G C A T A G A G C C G G A C A G G C G G C A G T T G A G C A C T T T A T T C C A A G G A G T G A A T T C T C G C A G G T C C T C C G C A T A\n",
            "1 1 T G G G T A C C C C A T T T G G T A G T T G G T G C G A C T A T A T T G A A G C T C A T T A A T T T T T C G T T A G T G A A C T T T A A C T C T A T T G T C G T C G T T G C G G T G G C A A G A T C A A A G T A G G C T G G C G A T A A G C G C G T C A T T C A A C C T T G G C T C A T A A A T C C A C G C T C G T G A T A A G T C G C A G A T A A G G A T T T C A G G A A A G A G T C A A C A C A T C G G C T\n",
            "1 1 C G T T A T G A C C A A A G A T A A G A G G T T T C T A A C C A G C A A C T A T T G A T T T C T C A A A C T A A T C T C A G G A T C T A T T C A T C C C G T A C G G T A C T C G A T A A T G C C G C G G T C A T T A A A C C A G T A T C G G T C C T G A A T A C T C T G G C A A A T C C A G A T A T C G A C T T A G A G A G A C A C C T G G G A A C G T G A T T C T T T C G C G G A G A A G T A C C A T A C G C\n",
            "3 3 G C C T G A G C A C C A T G A G A T C A C C G T C C G A A C A G A T G T C C A G G A A T A T T A T C G T T A C A C T T G C G C C G T C C A G G T G G T T A C C A G G G G A T C C A C G A A G A A T A A T C T G G T G A G A T A A G G T T G T G G G T A C G C C A T T G G A G A A G A C T A A A C A G C A G A T G T T A T C G C A C T G C G A G C C G C T G T G C G G G A T A T T C T T A T T G C G T A G T T A T\n",
            "2 2 G A T G C A A A G G A C T G A T A T T G A G A T A C C G A A T C T A C A G G T T C A A A T C G A C A A T T G C T C C A T T G C G G C A T A G T T C T T G A A C A G G T G T T A T G C G C T A G A G A C T A C C G G A G C C T A G C A C T G C C A G A A C C A G A T G T T G A G T C T T A C G A A T C G G T A T C T A C A C G C G A A C A G A T G T T A G C T A C T C T C C T T T C C A G A T C A T C G T T A T G\n",
            "2 2 T A T T T A A G C A G A A A A A A G G C C C A T T A T T C T T C C C T A A A C T A T T C A G A G A T A T T A C G A C A G G G C T T T C T G G A T T T C A T A A C A G T T G G T C T G A G G G C T A G C T A G A A G A A C A G A T G T C C C G G G T G T G A T G A A G G A T G G C T A C A A T T G A C T G C A T G G A C C C C G G G G G A T C C T A G G C T T T C T C A A G T C A T T T G A A G A T A C T T A G G\n",
            "3 3 C G C A G C G C G T A A T T T T A A G A T G T T T G G G T C G A T G C A C A G A T G T T T C C G T G G G T C C T A C A G A T G A T C T A C C G A C T C T T G G T G C A T G C A T A T A A G C G C A C A T A C T G T A G T T G T A A C A G A T A A G A T G G C A A A G A G T G T C C A A C A G A T A A G C G C C C G T A G T G C A G G C C A G A T A A G G C G C G T C C G G A A T A G G A A A A T C A G G G G C A\n",
            "1 1 A G T A A T A A G C G C T A T C G A G C G C T T T G T G A A T T C T C T A G T C C A C C G A A T C A A G C A A C A T T A T A A C A A T G A C C G C G A G G T G T T G G A A C G A A G T C C G A C C C C A G G T T G A C A A A A T C G C G A C C C C G A G G T G C T C T C G G T G T T G G C G C C T G A A C A C G G A A C T A A G C C G T G A G A T A A G G T T T A T G A A G C C T C T C C C G A G G C T T C A C\n",
            "2 2 C C A G T A C A C A C G T T A C G A G G C C C C C A A T T A G T T G A A G C T T A A T A C C G G C G C C A T A T G T A G C C T A A T G G G T T T T G G G G T T C T T A A A C A A C T G A A T A G C T G G T A C T T T C C G C C A T C C C T G A A C A G A T G G T G G T A A T G G A T G G T T T G A G G C T T T T A A C C T C C T T A C G G A T C T C A A C G G A T C C C G A A A T A T A G A T T G T G A T T G G\n",
            "3 3 T G C G C A G T A C G T C C A T T G G A A C C T G C T A A A T T C G T C C A A A T C G A A A A A G G G C G T C C G T A A A C A G A T G G T C G A G G A A A G A T A A G G C T G C A A T G G T G A T T A C A G A G T A G G C A T C T A T G C G A T C T G C G T T G G T C C G C A A A A T A A T C A A C C A A A A C A T A G T T A C T T T T A C C C A A C C G G A T C C A G A G A T T A C C G C G T A T C A C T C G\n",
            "0 0 G A A G A T C A T A A C C C G C A A G A A T T C T C C C A C C A C T G C A G T C C G T C A G T T C G C A T G T A T T A G G T T T C T G T G C G G A T T G A T A A C T T A G T T T G G G A C A T G T G A T C T T A T C C C C A G G G G A T A C T G T G A G T T C A T T G G C C G A A C A C A T C T G A C C C G C C C G G G G A C T A T C C A C C A C C A T C C C T G A A G A T T A T G C T T C G G A G A A G C T A\n",
            "1 1 A T G T G A T A A G A G G C A G A G A T T G G T C C T A A C G A G A G G G C G T C A C A G A T T A G G C T C C A C C C T T G T A T G T A T T A T A C G A C T C G C C G A A A T T C T T T T G A C A A T C A C A T A A A C A C A T A A C G C G G G G A G A T T A G C G C C A T C T C G G T G T G A A G A C G A G G T A A G C A T G C T A C A G C G T A A G A G G T C C G T T T G C A C A G A T T G A T C T A G C A\n",
            "3 2 A T G G G C G G T C C T C T G T A A C C A C A A G C A A G C T C T C A C C T T C G C A T A C A T T C G A G A A T G G A T G T G G G T A A A T C A T G A A A T G A A G T T G T C A G A C C A C A G C A G A T T T T T A C G A A T T A T C G G A A A C A T T A C G G T T G C C T A T G C C G C G T C T T C C A C C G A A C A G A T G G A C A C G A T G G A A G A T G G G C T C T C A C C C T A T T G A T A A G C A C\n",
            "1 0 T T G T G G T A T T C A T T T C T C C G A A T C A T C T G G T T A A A A C G T G C A G C C A A A G G A C A G G A T C T G A C G A C A A G G C C C T C G T A C C T G C T T G A T C T T G C A C T T G C A T A C T A A G G T A C A T T G C G T T A A C A A C T G G A T T T C C G T A A G G T T T G A T A T G G T T A G C G A A G G A G T A A A C A A A G C T A C T T G G T T C C C A G A T T C G C T G T C G A A A A\n",
            "2 2 T C C C A C G C A C A A G T T G G C A T A C C T G A G C C G T A C G G C G C C C T G C T T C G G C G C G T T G C A T G T T T C T T G G T A A T G T A G C G A C A G C A C G G A G A A C A G A T G G T C C G C T T G G G C T A C C T T A A A G G T C A G C A T G C C T A A T T G C G A C G C T A A T C A T T C C T T T A C C C G A T T A C C G T A G G G A A C G G A T C T C C A C C A T A G G G A T T T C A A T C\n",
            "3 3 A G C A G A T T C G C T T C A G G A T T T T C G T G G A C C A A C T T A A C C A G T T G A T G G G T A A G G C G C T T G C G G A A A G C C T T G G G A C T T C C C T G G A C C A C A G A C A G T T T G A G A T T A A G T C G A G A A T A A G A T G A T C C A T C G A C T C A A G A C G A T T T A A T T T G C G A A C A G A T G G T A T A T A A A A T A T A A T C A G C T T A A G A T T A C A G A T A A G A G C A\n",
            "2 2 A G G T A A G T G G G A A C C G C A A G C A G C G G G G G T A C G A G G C C C T G C C C T T T G C C A C A T T G T C A A G G C T C G G A A T A G C A C C G T G G T C A A A A T A A G T A T C A T A C A A T C C A T T T A C G T C A G T C T T G T T A A C T C T A T T T T A T A T A C G A T G C G C A C A C G C C C G T A T A C G T A C A A G C T G A A A G C C A G A T G G T C C G G C A A G G A C C A T T G G G\n",
            "0 0 C C C C C A T A C G T C G T A G A T T C C G A A T G T T A T C G G G A A A G A C G T C A C G T A A A G C T C T A C T G G A T A T T T A G C T C A G A G G C C A T C C G T C G T T G G T C A C T T A G T G C G A G G G G A A G G G C G C A C T A C G A A C T G T C G G A G T A C A T A G C C A G G A G T G G T A T T T C T C C A A G T A T G G G C A C G C G T G A C T T G A A A A A T T C A A G T T C T G A T G T\n",
            "2 2 C G G T T T T C T T T G C A T A G T T A T C A T A A G G T T T T C C T T C A G A G G A C T T C T T T A T T A G G A C A A C A G G G C T C G A C C T G G G T G C A G A G G C C G A G C T T C T G A A T C C G A G C T T G G C T C G T T T G T G C C G G T C A T C G G G T G T G A A A A T A G A G C C G G A C A G A T G G T C T T T A T G G C G G T C G T T T A A G C A T G T G T C A A T A G A A C A A C A T C T A\n",
            "0 2 T A G A T T T C A T A C A T C A T A A G T T A A C T C T T T A A C C A G A T G T T A A C T A G G G T A A C A C A C T A T G A C T C G A A C C G G A A A G C T G G T A C G A A A T T G A A C G C G G C A T G C A G T A A T C C A A A A C T C A G G C A T T A A G G G C A C A T T A T A G T A A A C C A G C A G C T G C C C A A G A T A G T G C A C T C C G G T C A T T G T C C G A G A A C C T G A C G T C T A G C\n",
            "3 3 A C C G A T G A A A A T C A G C T T A T A C G T T G A C A G A T G T T C A T A A A C T A A C G G T C A G A C G A T G T C A T T A C A A T T C A A T C A C A C A A G C G A T G T A A C T A T G G T A T T T A T A A A C T A T C C A A C A G G T G G T A T T A A T T A A A A C A G A T G G T A A T G T G T C A A A T T C A G A C G C A A A C C A T G C C T A A G T G G C A A A A G A T A A G C A C A T T A T T C A T\n",
            "0 0 T A T A G A C T G G T A A A A T G T G T A C C G C A T A T A G G G A C C T G C G A T T C T T T G A T A T C T C T G T G A G C A T G C G A C C G C A G C A T C A A T A C T G A T G T C G G A T C C G T C G T T T G A A A A G C G T G C T C A A C C G C A G T G A G A C T A A A A C C A T A T T C C C A G C C A A C A A A A G C A T T G A T G T A C A T T A G T G A A T T T A A A G A T A G C C T A A G C A T A A A\n",
            "2 2 T T T G C C C A C C A G A T G T T C G G T T A G A T C G T C G T T A C T C T T G A C T A G A G A G G A A C A C T T G G A T G T A C T C A G T C T A A A G C A A G G A C T G A G A T T G A T C C T T A G T G A T C G T T T C G T G T G A G A T C G A A G T T G C G C C A T T G G A G C T C T T T A T G T G C A T A T C A G A T G G T C C T G C A T G C T G C G C G C T C A A T T A A T T T G T A C G A A T T A A A\n",
            "2 2 T G A C A A G G G A G A A C C T T A C A G C T T C A T G C T G G A C A G A T G T T C A T C T C G C C G G A T A A C T G G T C G T A A G A T G C C C C G T G C T G G A T C A T T A A A G T T G A A T C C C C G C T A T C A C G T A C C T C T A C A G A A G C C C T A G A G C G G T A C A A A T G T G C C T T G G C C C A G G A C C C T C T C T A A G A A G G G A C A G A A A G A T T G C A A C C T A G A G G G A G\n",
            "3 3 G G G G G G C A T T T C G C T C A T C C A A A C A G A T G G T T A A G T G A G C G G G C T A G G A A C A G A T G G T G A G G G C A C C T C C A G G T G G C T C A G C A A T T C C T T G T A G A T A A G C T C T C G T A T T G T T C C C A C G G T A A T A G G C T T T G C A A C C G C A T A G A G A T A C T G A T T G G C T G C C A A C T A T G C G T A T T C A G C G G T T G G A T C A T G C G T A G A G A G A C\n",
            "3 3 G C G T C T A T C G T G T T T T T C T A A A T G T C G G A A A G A T G A A C T T C G C T C A A T G G T C C C C T C G G T A T C T G C C A G A T A A G A T A C T G T G A A C A G A T G T C A C G G C G A C A G G A G T C T A A G T T G C C A T A T A T T G T T A C G C T A C A A C G C C G C C A A C A A T A T A A A A G G T A A C A G C G T T T T G G A A T A C C C T A C A T A C T G A T A A G C C A A A G T T A\n",
            "0 1 T T T T T G A T G C A C C A A A A G T G T A C G C C G G G A T A T T G T T C A A T C C T C C G T C A G G C A G G A A A G G C T T T C T G T C C A G C C C G G C C A G G A G G A C A T A C G G T C T G T G A C A A T T A C C A A T T T A T T G G A T A C T T C T A A T A T A G C C C A G C T T G T A G G G A T A G C C G G G A T C A T A A T C T C T G C G A T G C C T A T T A G A T T A G A T A T C G A G C G C G\n",
            "0 0 T G A A T A C T T T T T T T G A T T G T A T T G T T A T T T A T T C T T A G G T T T G G C T G C A T G C C C G A T A A A G C G G C T A T T A T T A T A T A A T G G T G C T C G C A C C G G C T G T A A T T G C G C G T C T T A C A A G A T C A T C C G C T G G C C C G G T T T G C C C T C A G A T A T C T A A T G T A A C T T A C C T A T A A A G G A T G G A G C A T A C G T C T C T T A G T G A G C T G A A C\n",
            "2 2 T A G T C A C A G T A T T A A A T A G G T T C T A T T C C T A A A A C T C A A A C A T G T C T T T A T A G A C T T A C C A G T T T G A A A A C T A A T G T G C A A T G G G G C G A T A A C A G A T G G T T A G A C G G A A T G G A A C G C T G T A T G A T T T G G G C A G C G C T A A A G C T A G G T G A T C G G A T G G C T C C A T C G A T A C G T G G C T T G C C C G A G T T C T G T G C T T G T A G C G T\n",
            "1 1 G C A T G A G A T C C C C C A C G T G A T A A G C C T G C A G C A G T G C G T T C T A A T C G T A T A G C C G A C G A G A C A G A T A A G C C A T T C A T T G A G A A T T G C C T G C A A A C A T G G T C A C A G C A A A A C G C T A A T A T C C A C G G A G C A T T A A A C A T G T A G T A G C C T C T A T T G T T G A A C T G A A G A C T G T A A T A A C G T C G C T A A T A C T T A T A A C C C T T A C G\n",
            "0 0 C A T T C A C A T G C T A T A T G A G T C G T T A A C T T T G A T G T T C T C G G A T A G G A G T A C G T C G C G G A A C C A G G C G C A C C C C T T A T T T A A G A A A T C G C A T A A C T G T G T C A C T G C A G C C T T A A T T G A T A A C A G T A T A A T A T C G G A T A C C G G G A G T G T G T G T G G C G C A T G C C A T G G G T T C A C A T G A C C A C C G G A C G A A C C T A C T C G C C A C G\n",
            "0 0 T C T T T A C T A C A C T T G T T G C C A C A G C G A G C C A G T T G C A C G A A T T G C T G T A A G G G T A A A A C C A T T G C A A G G G C G T A C G A T T A A C T C G A T C G T A T G C A G A G G C A T C A G C A A C G C T A A T C A G G G C A T G T G A G T C G A T A C A C A T T G C T T A G G C A T A A T A C A A T C T A A T A G A C C C C A T A A C A G T G C A A G A G C T G T G A A C G G A T A T G\n",
            "1 1 T C A C A T T G A G C G T T C G T T G G C A C A A A G T G T C T T G G G A T G T A C G A T A A A A C G G A A C C C A A A A A T C A A C A T A C T A G G A G T G G G T C C G C C G T C T C T C A A G T T T T C C G T G A G T C C A A C C G T T C C T A A G A T A A G C G A G G A G A T A A G G C A T G G A T T T C T G A T A G T A A C A A T A A G T G C A A A G G G G G G C A G A T A G T C G T C A C G C A T G A\n",
            "1 1 A T T A G G G A C T G A T A A G A T G G A T A G G C C T T T A G G C C T A A C G C A G T G T C T A G A T A C G G T G A T G A G T C C C A T A C A A C C A A G G T T C T T C A G T T G T T A T T T C G T T A T A T G T T G G C A T G G C A A G G G T T G C T T A T T A C C C A T G T A T A A G G T C T G A T C C A G T G A C C C C G T A C T C G A A A C T C A G G T G C C G A T T A G G G G T T G A G A T A A C A\n",
            "2 2 A T C T A T C T C T T A T C A T A C A G A T T C T T A C A G T A C A G A T G G T C T G G G C C C C G T T C A A G G A T T T T T T G C T A C T C A A G A G A T T A A A T T G A A C T G A A C A A A G G T T A G C C C C A G G G A T C G A T T A A C G T C T C G T T A C C A G A T G G T G G G C A T C G T A T G C C A A C G T G T G T C A T A C A G G T C G G C C T A A T A G T C G G T C T G G A C T C T A T A G C\n",
            "3 3 C C G G C A T C T C T T G C C C A C C T T C A G A G T T C T A G C C C C T T G G T G G A T A T A G A T A A C G A G A T A C G A T A G G T A G C A T A T T G G T A G A G G T C T C A A G T C T G A T T A G C T T G C A A A C G A A C A G A T G G T C C G C G G C C A T T G C A G C C G A C C A A A T A C C A G A T G C T A G C C G A C C G C A C T G T C T A G G G G G G G C A C A T G C A G C C T A G A T A A G A\n",
            "3 3 A A A A C T G C A G G T A T A T A A A A G C T T G A C A A G T G C A T G C T T A A G C A T C A C A T T T A C C A G T G C C G T T G A G A C C C T G C C G A A C A G T T G T T T T C A G G A A G A T A A G G C T A C T A A T C A T C A T C A T C A G T T G G G A A C A G T T T C T T T T C T T T A G G G A A G T A A G T C T G T G T G A G G A G T A A A G T G A T A C A A T C A G T G T A G G T A G T T T A A A A\n",
            "3 3 G C T A C T T A G G T T T T T A C C G T G A T A C T G G A A C A G C C A A A C G T T G A T A G A A A G C C C G A G C G T T T G A T T A G G T A A C G A A C T G A T A A G G T G A A A A A T A A G T C C T C A G T T G T G C T T T T G G A T G A A A T G A C C T C C T G A G T A C C G C C A T T T T T A T T A T T A T C A G A T G G T G G T T G A A C T G A A C G C C T A A T G A C C A G T T G G T T A G A G T G\n",
            "2 3 A A A G A C A A T C T T C C C G T C C A A A C G G G A G G C A C A C A T T T C A G A T G T T A G G A G A C A A T C A G T G A T T A G G T A C T A A C A G A T G G T C A G A C A A C C T A T C T C T A C T A C A T T G A A G C G T C T G G T A G C T A G A T G G C G T G T G C A A T T G G C A A C A C T C G G A A G A G T A T A C T T A G A G T T T A T T T T A A A A C T G C G A C G A T C T G A G C C G G A G G\n",
            "3 3 A G C G C T T A C T T G C T T A G C A T T T G G A C T C A C T C A C C T T A T T T A T T T A A A C C G A C T T C C A G G G G C C G A T T A G A T G G A C T A C T A G A G G A A A A C A T C T C T A A A C T C G T A G T T T G T A A T T T G C T C G A C A G A T G T T G A C T A A T G A T A A G G A G G A A T A A C C C T T C A C T C G C C C C A G A G A T T A C T A G T T A T G T G A T A C G C G G G T T A T G\n",
            "0 1 C T T G G C A G G T T T C G A G A G C G A A T C A G T T G A A A C C G G C A A C T G A G A A G G A C G C T T C G A A T A T C G G T T C C A C C A T G A T G A G A G A C T A A A C T T G C T G T A G T T A G G A G A A G G G C G C G T A G T C C C A C C C A A T T T T T T T T T G C C G C A A C T T G T C T T C A G T C G A A C T A T T A T G T A A G G T T C T A A C C G T T T C T G G T A G A T T A G C C T C G\n",
            "2 2 T G C A A C A C T T T G C T A C A A C T G T T C T T C C T G C T G T C G T A T A T T G G G A A A G A G G G T A A A C G C A A T T A A G A C C G A T T C T G C A A T G A T A C C T G G A T T T A C A T C T A A G T C A A A C G T G A T G T T G T A G A C G G G T T A A G C C T A A G T C T T C C T C G G T C T A C T G G A A A A G C C C A G C G A A T A C A T A A T T A G A G G A C C A G A T G C G C G A T A G A\n",
            "2 2 C T C G T A A G C C C C G C C C G C T T G G A T A G C T G C C C A G A T G G T C G G G C T C G A G A T G C T T A T T C A G T A A T C T A T G T G C T T C C T C T C T A C G T T G C G T T G A T A A C A A T T A C T A A C A G C T G C C G C T A C A C T G C G C T G A G C A A C A G A T G T T C C A A A A C G A T C G T C A G G C G T A T C T G T A G C C T G T G C A G G T C T A G C A T G C A G T T A C C A C T\n",
            "2 2 A T G A C T C T C C A G A T G G T C C C C G A A G G A C C G A A C A G A T G G C A C A G G C T A A G T T G C G A A A G A G C C G C G G C A G T C G A T T A C G T C G A G A C C T T T A A C C T C G C C T A A C T A A G G A T A C T A T G A T G A A C T A T T C G A T C A A T A A G A T C T T G T A A T A A T G G A A T C T G C G T T C A A C A G A T G T T T A G A G A A G T T A C T T T A G T C G A C A C G A A\n",
            "1 1 A T C A G C T C A G A A C T A G A T A C G G A G A A T T G A A A A C A T T A C C C C A G A C G G A G T A T G C C A C T T A A G T A A G A T A A G A C T C C C T G T C T T T T C C C T A T A A T T A C A G C A G A T A A G G T T C C C G A T G C C G C G C C A C G C T T G T T G C T A C T A C C A A C C T T A C T G A T C G A C C G T C C G G T A G G G C A C T A T T T A A A T G A C A A C A C A A G A T A T A G\n",
            "1 1 G C G T T G A T A A G A T A A G C C C G C T C A T C G C C G A T G A A G C T A T C A A T G T G G A T G C T T C T G A G T T T C T C C G G A C A T A C T T T C A G C C C G G A G G A A C G C T C A C A G A T A A G C T G C G G G C T C T A G C G G T G G A G T C G C T G G G A A T A G T A C A C G G A C G G A A A A T C A G C G C G G A A G A T G C G T C A G A T A A G G G T A C T G G T A G T T A G G G C T G A\n",
            "0 0 A G A T T G G T A C C C T T G T C C A G A C C G T T C G A T A C T A T T C A T G A A T G G A A A G T A G A G A T C T G A T T T T C C G C G A A C A A T T C A A A A G G T T A A T T T G C G C T G A T T A G C C A T A A T T A A T G T T C A C A C G A C C C G G G G G T T G G C A G G C A G G G G A A G A T C C T C A A G A C T G A C C C T T A G A T A C T G A T T G T A T T A G C C T C T T A C G A T C T A T C\n",
            "3 3 T T T G G G T G C T T A C T C G T C G A T C G G G T T G G G A G G G C A A A A G A C A A T C C T A C A T C A G G G T A A T T T G G T C A T C T C T A C A G C T A C A A A T C C G A T A A G G G C A T C T A T T T C A T T G A C A T G G G A G G T A A C C T C T C T T G T A C G C C A A A A C C A G A T G G C A A C A A A G G T C G C T C C C G G T A G A C T C T C A G T T A A G G A A C C G C A A A A C A G A T\n",
            "2 2 T C A C T A G T G A A A G G A C A C A T C T A A A A C G T T A G A C C C G T C G A C G T G G C T G T A C C C C A C C C T A G A A G T A T G A G T A C T T C C T A A A T G G A A C T G A G T T C A T A C A G A T G G T A G A T G C C T A G C A T T T C T T G T C G T A C G T A A C A G A T G T T C T G G T G A C A G G T T C G T T T C G G G C A C C A A A A C A G A T G T C A G C T A A T C C A G C G T G C T A A\n",
            "0 1 A A A A T T A G G C T T G T C C C A G T A A A A G T C A T T T C A G T T A C T G G T G T C A C G A T A A G C G C A C C T G G C C T A A T C C C T A G C G T T A A A C T G C A C A A C G T G G C A A A T G G T T A C T A G C A G G A G T T T C T T T A A A T T A G C G G T G G C C G T A T C A G T C T G T T G G T T T C A G T G T G A G C A C C A C A T T G C A A T C A A G G A A T T G C G A A T C G T A T T C G\n",
            "2 2 C T T T G C A A C C G C C A G A T G G A C C A A T T C T T A C T A C T A T G A C T A T C A G A T G C T G A G G G A G T A T T A A A T A A C T C A T C T A T A A C T C A T C G C T C G T G T T G C A A A G G T A G C C G C A T T T A T G G G A T A G C T G A C A G A C A G A A T A A C A A T T T A C A C C C T C C C C T A T G C G A C T T C A G A A T A G C T A A T G G T C A C G T C G A A C T C T A T C A G A A\n",
            "3 3 G A C G A C G G T G A T A A G A G C A C G C A G T A G C A A T G T C C T A A A A A C T C G G C T T G A C T A G T A G A G G T T G A A G A T A A A T A G C A C G T A G A G G A A C A G T T A T C G T T T C T G T T C C A A G G T C A G A C G A G A T T A G A G T A C A C G G C G C A C C A G A T G G T C A A C A A T A A A G T C A T G A C T T T A A A C C A A A C T G A T C A T C C A G C G C T C T G G G G T C T\n",
            "2 2 C C G T A T G T A G C A G A C A A C C T C C A C A C T G T G T T C G T A C T G T T A G C C A A C A G A T G G T T G T T A G A T T T G G A G C T A A C A T A A A A A A C A A C T G C G G A T G C A A C A A G A T A T G A A G G G G T C A C C A C T T A T C A G A T G T T A C C G C C C T T G T C G T A A G A T T G G A G A C C A G A T G T C C T C A C T G G G C C T C A A C T T C C C C C A T C T T T C G A T G T\n",
            "1 1 A C G T G C G A G A T A A G C C T T A G A A G T C A G G T A G T G G A C T T A C T T A A A G G G C G C T A C T T G T T C C A A G A C A A G T G G A G T T T G G C A A A A C C G T T T C G C A T G T G G A T T T A A G C G G T G A C A G T A C G T T C T C G C A C A C G A G A T A A G A C T T T G T T T G T C G G G G T C C G A T A G C A A C T G T A C C G T A C G A G G T A G A T G A G C T T G A A G T G A T G\n",
            "3 3 A G C G C G T G A C A G A T G C T C A T C C A C T T G T T T T A C A G T G T A C T A C G C T T A G G C G T G C T T C A T A A A A T G G C C A G G T G T T C A G G G A C C C G T C T A G C A C G T A G A T A A G G T G A G G T C A G C T G A G A C A G T C A T A A G C G A T G C C A A T A A A G T T C A C A G A T C T C T C A C A A A T G G T A T A A C T T C T T G C A T C T G G C A C A T A C T T A A G G G A A\n",
            "3 3 G T T A A C A G A T G T T T G T A A A C A A A A G T G A T A A G G C C T C G G G A A C A G A T G T A G C A G A A T A G A C T G G C A G A G C C C A G A T G T T G A T A T A C T T G C A C C C A T C G G A A G A T A C C T G T C G T A C C G C T T C T T T A C G T C A C A C C C A G A T A A G C C G T G G C T T G A T C C T G A C G G T A G A T T A G A T C T T T A T G C G T T A T G C A C T G G A C G A A C A T\n",
            "0 0 C G C T T G C T T T G C A A A T T G A C C A T A T G T T C G T T T G C C A T A T A G T C G G C A T T G C A T G A A C A G G C A T C A C T C T G C G T A C C C A C G T T G T T T A C G C T T A C A T G C C A G G G G G A C T G C A C A C C A C T G C T G A C A T A A C G C T C T C A G G C G T C G G A G G G A G T A G A G A C G C T A A T A T A G G C T G A C T C A C T A C T G T A T C A G C G A T T C T A C G T\n",
            "1 1 C A T A A C T T A T C C G T A G G C T T G T T A A T G C A A T C G G A T G G T G T A C A G A T T C C A T A C G A G C T A G T C G T C G G A A T C G G C T G C C C A G T G C T T T G G A A A T T G A T T T G C C C G T G T A G G T T T A A A T T C T A T T A G G G C A T T G G A G A G G C G A T T A G A A A A A A C A T C G T A A T G G T G A T A A G G A C A G C T A T T G C G A T A A G C A G T C C T T G T A T\n",
            "1 1 T G G G T T A T T A G A T A A G C A T T T A C A G A T A A G G G C T G C T T A G G C G T G C A T A C T A A C C C T A C A T A C C C T A C C C C A C G G A T A C T A A G T A T A A A T T A A A T C C G C A C C C A A T T G C T C G T G T C T A G G A A G T A C A A T G G G C T T A C T A C C T A G C G C A A C A T A C C C A G C C G A C C T A A A G G A A T C T C G T A T C C C G T C C G G C A G T A A C C A T C\n",
            "2 2 T G A G C A G A C A G T G G T G G T C G C T T G A G G A A A A A T G C A A G G A A A G T A C A C G G A C C G T A C A T A C A A T T C T G C T G G T T T A A G G T C T T G T A T G G A T G G C C A A A G A T C T C G C C A A G C C G T T T C T C C T C G G G A T G G G A A A A C G G A A T T G T G G C A A C G C G C T A A C A G A T G G T A G G A T C T A T C C A C T A G T G A T A T T G G C A A T G T C G G G C\n",
            "3 3 A T C C T C A T T G C T T C T C C A C A G A T G G T C C T A C C C T T C G A G A T A A G G T G T T C T G A A C T C A G C C A T C C T G T A G A C T A G C C T G G C G G T C A C A C C C T T T C T G T C A T G A T C T C G A T T T A C G C C T T G C C G G T G A G A G C T T G A T A G T T T T C T C A C A A G C C T G C G T A C C A C T A T A T C C C G A T C A A A C T A A A A C C C A A C T G C T T T A G G A C\n",
            "1 1 G A A A A T G C A A A A G A C G G G A T T T T T C A T G T A G C A T C T A A T C A A G T A A T G T C G A T G C G C G A G T G A T T C T A T A G T A A A G A G A A C G T C C C C T C T C A C G A T A C A A T A T C G C C C C G G T G C G C A G A T A A G G C G C C T G A A T C T T A G T A T A G G A T T A T A T T T T A A C T C A T T G T T T A G G G G C G G C A C C C T A A A G T C G A G A T A A G C A A T G G\n",
            "0 0 A C G T A C A C A C G A T G G G A A A G T G C C A G C T C T A A T G T G C C G T G A A C A A C A A T G A A T T C C C C C T A C G T T T G G G C G T C T A T C G G A G G T G T C A G A T T G G G T T T A A A T G A T T T C C G G G A T G G C G A C T T T G T A C C G T G A C G T C C G G T A A G C G C C A C A C A T C G A G T C T G A C G T C C C G A C G C A T G T T A C G T A C G G G T A T G T C T G C C G A A\n",
            "1 1 T G C C G T C T T G C C T T T A A A G A T G G T A G A A G A A T A C C T T T G T A A G G T A A A G C A A G A G C G A G T C G A C T G C A C C C G T T A C T A G G T T T T T A G T G C C A T G G T C A T C C G T T T G A C G G C A T G T C G A C A A T C A G C G A T A A A G G T C A C A A A G A T A A C G A C C A C G C A G A T A A G C A A G C C G G T C C T T A C A C C A G T G A A G G G A G A G A T A A G G C\n",
            "3 3 G T A T T T G T T T G A A T T G A G T A T A C T C G G G G A T T G G G A A G A T A C G G G T G A T T G T G A C C A G A T G G T C A G T G G G C A C A A C T T A A G T A C A T C C T T C G T C G A C A T T A A C A T T T C C A A T G T T C C A A T T C A T A T T C A G G C A G T G A A T A A G C C T T C G A T A A G G G G G A G A T A A G G A T T C A A C C A G A T G T C T T G T T C T A T A T G A C G T T G G C\n",
            "0 0 A A T C G T T G C G A A T T A A C T A C C T A C T C T T C A A A A G A A G C T A A C A T T C T C C T C G A T C T A C T A A T A C T T T C T G G A A A G A T T T C T G A G G A C G A G C A A G G A C C T G C T T G A A C A C T C T G T C A C G C C A T T A T G C G T C T G T A G G T G C G G T G C A A T A T T C T T G A G A T T C C G C A T C A G T C A A T C A A T C T C G A T C G A C T G A A A G C A T G C A T\n",
            "1 1 G T T G C C C G C A T C C G A T G A C A G A G A C G C T T G T G A G A T A A G G C C A A G A A A A T A T T T T T C G G C T C T C A C G G C A G C A A G A C T T T A C A C G G T G A T C A C C A T G C C G C T A C A T T T C T G C C T T C C A C T T C G A A T A C T A A T T C G T T C A G G G G C G T T T C T A G T C A A A G A A A A C A A G C T A G T G C A G C C A A C A G C T C A G T C A C A A A A G C A C A\n",
            "1 1 G C T A C C A A T A G A T A C A T G T T G C G A C A A A G T T C C A C C C A G G T G T A A T A T G G C T T C A C T A C T G T C A T A A G A A C G C C C C G A A T A C A G C C T G A G C A C A A G C A T G A T A A G A T G A T C T A G A C C T T A G A A G C T C A A A T A T G G T G C G A A T T T A A A G G C C T G T A C A A G A T A A G A A C T T A A C A T A G T A G T T C G A C T G C C T A G C T A T T C C A\n",
            "0 0 C G G G G G T T G G C T T T T G C A T A G C C G C G A T G C A A C G G C T G T A G C G C G G A A A A G A A A T T C T C C C C C G T C G A A A A A C A A C A G G A A T G A G G G A C A G T G T G A G C A A A A T G G G C T A C G T T C A T T C T G C A T G T A T A G T T A C A T A A T A A T A G A C A C A T A G G T T T A T A C A G T G A T T G A A T G T C A C C A T T T A T C T A T A A A C C A A A C A C C G C\n",
            "2 2 A A A T A G C A T A C A G A T G T T T C G G A C T G T C A G T G G G A A T T G G T C G C A G T A C G T G T G C T C T A A A C G C G T T T T G A G G C A T C A G A T G T T A T A C A A T G A A T G G A A G A G G A G A T A C C C T T T A A T T T C C G G C G T G C T C A A A A A G T C C A A A C C T A C C T T T T T T C T C C A C A G A T G T A G C C A T C A T A T G A C G G G G A C C T T G G C G A G G A G A G\n",
            "1 1 G T G A T C C A C G G G C G A T A A C A T A G C A G A T A A G A C C A C T C G T G C A G A A T A A G A C C A T T G A A C C C A C A C A C G C A C C T A C C G A C C T A C T C T A C G A G G C T T A C C T A T T A G T G A T C G C G G G C T A G G C A T T C C C G T A A C T T A G C C A T A G T G T T T T A A T T T G C C G A T A A G G C T T C G T A A G T T C A G T A C A G C T T G A C A C G C T G G G G A C A\n",
            "1 1 T T A T G C C A A G T A A A A T T A G A A A A C A G A A A G A G A T A A G C A C G T C A G G A T T T C G C G T A T C A C C C C G T G G T G G T C A C G A T G C A A G G G C T A C G T G T C T T C C C C C T C C T T A A A C G T T T C G C A A T G G C G T G T T T A T T T C G T T T A C A C T A G G G G A T G A C T C C C A A C C T A A A T T G T G G C C C A C C C G A G A T A A C G G C T T A G A A T C T T C C\n",
            "2 2 C T C C T G G T C T A G G C T T A T T T G A A G C C C T C A A G A C C G A C C G T G G T A C A T T T A A T C T T G T C T G A A T C G A T A G G T T A T G C T T C G T A T A A T A G A G A A T T T C G A G C A G A T G G A A T A T C A G C T G G T G A T T C A G T G T T T C T C T A C T A C G G C T C C C A A G C C G C T A T A T C A C G C G G G G A C A G A T G G T T G G A A A G A T A T C A T A T A G C A C A\n",
            "2 2 A T A G A A C A G A T G G T C G C T C A A G G T A A G T T T C C A T A C A G T A T T C T C T A C T A A G T A G T T A A G G C A T T G G G T T C C G C G A G A C A A A C A A A A T G G C T A T C G G C C C C A G A G A T T G T A G A T T A C C C T C A C T A A C A G A T G T T A T G C T G A G T C C T T G G T A C A C G A T A C A G A T G G T C T G A A T C A C A G A T C A G C A A G A G T G T C G G T A T G A A\n",
            "3 3 T T A A C T G T C G T A A C A G A T G G C C G A T C C A A A A G C T C G C C G T T G C A G T T G C T G C G A A C G G T A A A G T G A C A A G G A G A T A A G G C G G G T A A G C C A C C T A A A A A T A T T C G T G A C A C T A G A A C C A G G T C C G G A G T C G T A A A G G A A T C C A C C G T G T A G T G T A A T T G G C G T C A A A G T T G A G T G A A T T A T A A G C T T C G T A A C T G C G C C A C\n",
            "2 2 C A A G G A A G C G A C T C G T A C G T A A C C T C A T A G G T A T C T A C C C C G T T G G A A A C A C G G A C A C A C C C T T T C G T A T G T T A A T G T A T A A T C A G G C A G C A G A T G T T T C G T T A T C C T A C C A T A T G A A G G C T T G C A G A T G G T G A A T G T A T T A C G T G T C T T A G T A A A G C T A G T A C C A A A G A T T T C G A T T T T A A A A G T T C T A G T G T A T T A C C\n",
            "1 1 T A T T T A A G A G T T T A C A T A A T G T T A G C C T G A A T C A G T G C A C T G T A G T A G T A C A G T C C G C A T G A G G A A A A A C A T C C T A G C T A A T T C C G A A T G T T T C T G A T G A T T T T T T G G T T C T C A T G G A C A C C T T A G A C A C C T A C A T A T T G G A T C T G A T C A C C C G C A T T T C A G T T A A C G C A A A C G A T A A G C C C T G C G T T G G G T A A A T T T A A\n",
            "1 1 A T C T G G T G T C A G A T A A G G G T T A A G A T A A T G G G A C T G T C G T A C C T T C A G C C C T G T T T C G T T G G G C A T T A G A T T G C G A A A A G C C G T A T A G A T A A G G C A T A T G A T T C A G T T A T G A G A A G C G G C A G C T T C C T A G A C G G A A G G G T T A T G A G A A T G T G G T C G T A T C G C T T T C T C A A T C T T C A C C T A G T A C G A G G C A A A T G T C C T T C\n",
            "1 1 C C G G A T T G C A T A C C C C T T T T A A C T T G T T G G T A A G A G A T A A C T T T A A G C C A G T G T C T T T A T G G C A C G G G A A T A G G G C C T G T C G T G C A C C C A T G C T C T T T A G G T T C C C C A G A T A A G C A G C C G T G G A G A T A A G C G T G T A C T C G T G G T A T G G G C T T T T C C T G C T A A A C G C A A G C C A A T C T A A A A C A A A G T C C A T A C G A G C A A G C\n",
            "3 3 G G T T C G A C G C G C C C T G A T G A T G T T T C T C G G C A T C C C G T C C T A G C A T A C A G A T G T T A A G A C C T G T C G G T T T T A A T C T A C C T A C C A G T A C C A A G A C T C G T G T T T A C G G T C T A G C G A T C A G A T G G T C G G A G C G A G G T A C G G A A G T C G T C T T T A C T T G G T A T G C T T A T G T G A A G T C T C T C C A T A G A T A A G G T A C A C T C G T A A T C\n",
            "2 2 C C C A T G C C A T A C C T G A A T G G A G A G A T T C G T G C A G A T C A T C A A G A G G G G A C G G T T G T A C T A T A C A G A T G G T A G A A C G G G T A T G T C T C C A A C C G A C A T T A T G C T C T G G A T C A T A C A G A T G G T T G G A C A G G G T A T G A A T G A C C G C A A G C G C T G T A T C G A T C C A G C C C A G A T G T T C G G C A T T A G A C C G A C C T T T G T G A C T A G G T\n",
            "2 2 T A A A G A G A T C C C G C G C T A T A G C G T C A A G T A T G C A A A G C T G A C G T C T G A A A G A T C A C C T A T A G C A A C T C C G A C G C T A C T C A A C A A A A G C T C C C A G C A G A T G T T C T C T C G T C T C A C T T C A T C G G G T A T T C A A A G A C G C T G A T A G G G C T T A C C A G G T G T C G G A G T A A T A T C G T G A A C A C A A G A G G G C G C T A G C C T T A G T A A G G\n",
            "3 3 T T G C A G T C A G T T A G T C T C A A A A T G T A C A G C T A A A T G A G C T C G G T G A A A T A T T T C G G C C T T A A A T A G A A T A T A G A T A T A A C C T C A G T G T T T A T C G G T T C T A G G C T A G T G G C T A T A C C A T T A C T A T T A A A C G C T G A T A A G C C A C G A T A G G C C G G A A C A G A T G G T C T A T T G C A A G A G A A G G C G C A A G C A G A G A T A A G A T A G A A\n",
            "2 2 C A T G A T T C T T T T A T A T G A C G T T C A A T A C C T T C C C C G G G T G T T C T C T A T G C C A G C T A A T G C C G G C T C A A A A T G T C A A G C T A G A G A A G A A C A G A T G G T G A A T A T A A C A G A T G G T T A G T T C T C G A G G A G A T A C A T T T G T C C C G C T T A T T A A T T A C G G A A C C C T C T T C A G C A T T T T G G G G C A G C T C A A T G G C T T A T G G C T C C A G\n",
            "2 2 T A T G A T T A G T C T G G G C C C A C A G C C A T G C G T C G G C G G T C T G T C T C T T T T C G C G G G C C C T A T T A T G G T T T A G G T A G C A A G A A C T T A G A G G G T A G C T C G T A G G C G G A C G T C C C A A A T C A A G G A A G G A A A C C C A G T A C T C A C T A G C T T T T C A C A T C T T A T T G C C G G A C G G A A G G T T A T T T T A C A A G G T A C C A G A T G T T G A T A A T\n",
            "3 3 G G G T A C T C C C G T C C A A C G A C C G G T A A C A G A T T C G A G A T T A G C A T A G T C T C A A G A G T T A A A T T G T G T T C C T C C G G A T T T T G G G A G C T T C G C C G C T G T C C C A C T C G C A G G G A G A G T A G C A A C A G A T G G C A T G C G A C T A C G C T G A G C A G A T G T T T C C C A T C C G C T C A T G G A G A T A A G G T T G G C C C A T G A G A T G C T C C T T A C A T\n",
            "0 0 G G T T A T T G G C T C C G C A A G A G A C A C T C G T A G G A G G C G G C G T T T G C C C A G T T G C A A C A T C A G G T G G T T C T A G A A T G C A G A C C A A T G C G C C T A A G G A A T C G T T A C A A T C G G C A C A T C C A A T T G A T T A A A C T C C T T G A G G C A A A G G G T A A C A T A G C T G G C A T T A G T G A T C G C G A C T T T G A A G G T C C G G C A G C C T A G T A C G T A A T\n",
            "2 2 A G G A A C A G A T G G T A C A C T A T G T G T G C C T T A G T A A A G C T A A T A A A A C C T A C A A T C T A A C A G T C T C A C C A G G T G G T G A G G G C G T G T T G G T T T C T G G G C G T T T T G G G C C T C T C T C G T C G G C G T T G A G G T G T C G G G G T T A C C C G C T A G G G A G A T G G G T C T T T G A C T G T A A T G T C A G A G A C C C T T A G G G T C C C T T C A T A T C T A T T\n",
            "2 2 C A A A C C C A T G A A C C A T G T C C A A G G A A A C T T C C G G A C A G A T G G T A G T C T C A A C A A A T T C A G C C G G G G G C C T G T T G T A G T A C T T C C A C A A A G G C G C A A A G T A C A C G T T T C A C G G A C A G A T G T T A T A T C T T C G A A T T C C A T G T T G C C A C A C C T A A T T A T C G G G A G A A A C A C T T A C T G G C G A C T A C C A G A T G G T C A G A G C C T G C\n",
            "2 2 G G A G A C T G G A A A C G T T A T A C A A C A G A T G T T G G G T A C T C C T G C G A A G C G A C G T T T G A G G G G G A C C A G A A A T C C G A G C C T A A T A T G C T G A C C G T G G C A A C A T C A A T C C A T T T G A A G T A T G G T T C C T G G A C A G A T G T C C G G T A T C A A T T T A G C T G A A T A C A T G G A A G G A T C A A C C C A G A T G G T C G A A C A T G T A A T C G C A G C A A\n",
            "2 2 T G A G T C T A C C C T T C C T A G G C G A G A C A T C C T T G A T A T A A T C G A C C A G A T G T T A T A G T G G A C T T C A A C C A C T A C T C A G T G A C T A T C G C G C C T A A A C T G T T T G A T G G T T C G G A A C A G A T G G T T G C C C C T A C T G G T C C T G T C G C G C C G A T T G A C A T G G C G C T A A G G G T A G C C T T T A G T A G T A C A T C A G G C C G G A A T G C A T T T G C\n",
            "2 2 G G T G G C C G T C C C T A G G T A A C A C T A C T A A G T C C T G A A C A G A T G G T T A C T C T A A C C C T A T A C C A A A A A G T A T A C T A T A C G T T C T C A A A A A T G T T T T T C A G T C G C T T G A A T C T A G C C A T G C G T A T G C G A G T T A G C G G A T G T C C C G T G G A T G A T C T T T T T C T T A A C A C T T C G T C C C C C A G T C T C A G T C A A T G C A G G A G T T C C T A\n",
            "2 0 A T A G T C C T T G G C T C T A A C T A T T A G C A G T G G A T C T C T T C T G C A G T A T G G T G G A C G G A G A C A C T A G A A C A G G T G G T A C C T G C A A G C G C G T A A A C T T T T G A G A C G T A A C A G T C C T T G A C T C C G C C A A A G A T G A C A A A A G T G A T T A C A C G G G G T T A T A T A T T T G T T C G A C G C T C A A A C T T T G C C C T G G G C A T C G T G G A C T T T G C\n",
            "0 0 G C G G A C T A T C T C T A T A T C T A G T C A C T G T T T C T C G A C A G T T C C T G T T A G G T A T T G C T A T G G T T T C C C A T T A G A A G A G C T A C G T C T C G G G C C T T A T T C T T A C T A T G G A C T A A C A C A C T C C C G T C T C G C G A T A G T C T T A T A A A C A C C A A T T A C A G T T G T G C T C C C C C C T C T C T T C C A A A A G A A G T G T G T C T C A G T G A T C T T C T\n",
            "2 2 T G C C A T G C G G A G A T A A A T T T G T T G G C G A T T G T T G T C A A A T T A T T T C T G G C G G C C T C T A A A G A A C A G A T G G C C A G C T T G A G G C A G A C A T C C A G A A C A G A T G T C C G A A T G A C A T G A C G G G G A G C T A T A A T T G A C A A G G G A C A T A G C C A A C A G G A T T T T C C G G G A A T T C T A T C A G A T C A A C C C C A G G C C G T C C A C T A G T T G A C\n",
            "2 2 T C C A A G A A A A G T A T T T C G A C C C T C T G A A A T G G A T T C T C C A T A T A T A T C G C G T C T G T A T G G A C G T A G A A C A G A T G G T C T C A C G C T T G G C C C A G A A T C G A G T T T A A A T A T C T G T C G G T C G C C T A G C T G A A T G A A T A A C T G A A G A G T A T T A A T G G T A A G A C A C A G G T T T T T C A A A C A C T T A T T G T A T T T A G A T G A A G A C T C C A\n",
            "3 3 G A T A A G T T C A T A A G G C A G G C A A A A T G A T G G A T G T A C T A A T C C C T A A G A T C G G T G T G G C T T C T A C G C A A G A G A T A A G A A A A T T G G A T T C T T G A G A C G G G C G G A G T A C T C C T T T T A G A G T A T C A C G C A A A C A G C C T T C A C A G G A A A G T C A A G C C A C A T T A T T A G T C C T A G G C T T C G A A C A G A T G T T T T G T A T G T A A T C T G G T\n",
            "3 3 C G T T G T C A G G T T T C C A G C T T A C A C T G T C G C G A T A A T C A T G G T C T A A C A G G G A G A T A A G C T G A T G C T G A C T T A T G G A C C C T A C T A T C T A A T T C G T G C G G T G C C T A C A C T G G G T T A C A G A T G T T A T G A C C T A C A G G A G A T A A G A T C T G G T A G A T C G G T C G A C C T G A T G T G G C A T T A T T T T A G A C A T C C A T T A T G T C G A G T T G\n",
            "3 3 G A C A A T C A C A G T C A T A C A G T T T G G A C T A T G C C G C C G G G C G A A C C A C C G A T A C T T A G G A T C A G A G C T T T G G G A T C T T A G C C A T A T A T G A G C C T C G G T T C G G C A A G G C G G T A C A G A T G G T G T G C T A G C T T G C A T G A T C G C C G T T T A T A C T T A T C C G T C T G T G A A A T T T T C T C T C C T T A C G T C T C C G G G A T G A T A A G G A G G G T\n",
            "3 3 G A C A C T C A G C T A C T G A T T G T G C A T G A A C A G A T G G T T G G T A G A T T T A T C C T T T A C C C T T G T T G G C A A G C G A T T T G T C T A C G A C G A A C A G A T T C A C A G G G C C A T C A T G T T T T T A A G G A A G A G A T A A G A A T T C G G T G T G T T T A A A G A C T T G T A A C G T C A C T C T A A T G T A A A G T A A G T A C A A G T C A C T C A T C C C T C C C C T G G C C\n",
            "3 3 A A C C A C G G G C T C G T T C T G G C C A C A G G T T G C C G T C G A C C G A C C G A A C A G A T G C C A G G T G T A T A C A G G A T G A T A A G C G G A T T A T T G G A C T C C C A G A A A T C C A C A A A A C T T G A A G C G T G A T A A G G T C C C C A C T T G G A G T C A G A T A C T G C A G A A C A G G T G T T G A C A G G G G A G G T G G T A G G A C T G T A G A T T G A G T A A G G C A C T G T\n",
            "2 2 A C T T T T G T T T G A G T A A G T G C G T A C A G A T G T T T C A G A A C C A G G T T T C C G A A T C C G T A A C T A T G T G T T T G G A C A T T C G C C T G T A C T T C G G C A T C A G A T G G G A C A T G G T T G T T A T T G T T A T A T T A C A T G T A A T T T A T C G T A C G A C C T A A A A A C G C G A G T A T A G C C T T A A A C G G C T A G C G T C C G T A T G A C T A A C T A G T A T T C A T\n",
            "1 1 C G T T G G A G G A T C G A T G T A T A A C G T G A C T T G T G C A T T G C C G C C A T A C G G G G T C T T A G A G C A T A G A G A T A A G C T T G A C A A C A T C T T T A G A A G C T G A T G T T T C A T A A T A A T A A A A A G T T T G T C G A G A T A C C C T T G C A A A C G G G T T C A C C A C A T G C T T T G T C C T G A G A G A T A A G A T A G C C T G T A A T G T T C G C G A A C A C A A A T G T\n",
            "1 3 A C C G T C T A A C G C G A T C A G G G C A A C A G T G G C C G C A G A A A C A G G T G G G C C A C A A C T T C C G C T A T A T A T G G C A G T T C T A G G A C T G T A A C A G A T A A G C G C A T C G G A A T T A T G A C G C T A T C T C T T G G C G T T G G A T C C T T G C T G A T C G T G C C A G G G A T A T C T A C T A G G C T A A A A G T G T T A C T A G G T A T C T C G T T A T C A G G G T C A T C\n",
            "1 1 A A T T C G A G C T T A C A T A G T A A G C T A G A G A T A C G C T C T G C A A A G A A G A T G T T T A T A A T G C C G C C A T C T A T A T G C G C G T G C A C C C G A T G T T G C G T G C A T G C C T G A G C T T G C T C G A C C T T T C C G A G G A G T G T T A T A C G A A G T T A C T A C A A G A T A A G C G T A C T C C G A A G T A G G G T A A G G T G C G A A C A C C T A G A C A A C C T A T A T C G\n",
            "0 0 A C A A C T A C A T A T A T A A G G G T T T T T G C T T T A A G C A A G G C T T A A A C A A T G C A T C T T C T G C T G C T G A A G C C A C C G G T T A A A C G G T A T G T C A C A G A A T G T G G T T A C T A A C G T G A G A T A T C A C A G G T C A G G T G G T C C G A A C A T G T G C A T G T A G G G A T T A T G A C G C T G G A G A C A A C T A T G T C A A A A C C C C T T G C G A G C T A A T T T T T\n",
            "1 1 G T T C A T T G G G C A C A G A T T A G G T G A T G A G G G A C T T A T T C G C A C T T G A A C A G T A T G T C G G G T A C T A T T C A A C A T A T C G A A G T G G C T G C T A A C C A A C A C T G A C C A G A T A A G C T T T A C A C T T T T A C G T G A C A A A A C C T T C T C A T T C G G A G A T T T C G A T C C T T T C A C A A G T C G A T G G T T T A G A C A T G A C G A T G C C A G G A C C C T G G\n",
            "3 3 C G G T A C T C C C C C C A T A T C T T G A C A T T T C T A C T T A A G G C C T T C C G A C A A C A G A T G G C C A A T C C T T T T T A T G C A G A T A A G G T A C A G T A G T C G C G T C A C C T A T G G C T A G A C C T G C T C A A T G A A T T T G T T T A A C A A C A C A C T G T T C G A G T G C C G G G A A C A G G T G G T G G G A T A C T T T A A G G T C T G T C T T T A T A A G G G T C G G A A C A\n",
            "1 1 C G T T G A C T G C G G C C G A G G C G C A A C T C G C T C G C C G A A G C T A A A A A C C C G T C G A G A A G T A A G G G C G A T A A G C G C T G T A A G A T A A G G G G C T A T T T C C A C A G A T A A G G A T A A T C G A A T A C C C C T G A T G T C C C C C T T T A G T C G G C A G G A T T T A T T T A G T A T A G C A A A C A C A T C C A A G T A G A T C C A G C G A G A G G C A G T A T T C A G C T\n",
            "0 2 G C T G G C C C T T A A G T C T A T C G T A A G C G A A T G A T C T C T C G A C C T G T G A T G G C T T T A T A A T T C A C T T G T C A T G C G C A T G T T A T C C G G G T A C A G G C G A G T C A A G C A A C G T G T G C T A T A T C A C A C T T G G C T C A G A T G G A G T C C T C T T A T A T G T T A G A A T C G T G T C C T C T T C A G G C T G C T T G A G T C A C C A T T G T T T A G C A T A T A C T\n",
            "3 3 C A T C A A G T T A A T A G G G A G G A A A G G G G A T A A G G T G G A A A T G C T G G A T A G G T G A T T A G A C A C G T T G A A T T G T G G G G G C T T T G T C A A T G G T C C T C T C T A C A G G G C G T G T T G G G T T A C A G A A C A G A T G T A C C G A T A T G T T C C G C C A G A T G T A C A G A T C A A C A A C C A C A T C C G C A T G A C A T A A A T A T A A G C C A A G T A G G T A A A C T\n",
            "1 1 A G T C C A G C T T A G C T T T A C A G A T A A G G A A A T T C A G A T A A G C G T T C C T A T C A T A T A G G T A G C T A G T T G C C T T G A A G C G A A C C T A G G A A A A G T A C A A T T A G A T G C A G A C T G G G A T G T G A A T T G T T T C G A G A G C C C C A G G C T T T T C T C T T C G T C C G A A G C A T C G G A A A G C A T G C T G C G A A C G C T A C T T G C C T G A T G C T A T G G A T\n",
            "0 0 C G T T A T T C A A G C C A A C C G A G G A A T T T T T T A A T A T C C C C G G G C C G G G T T T G A C A A T T T G C C G T G C G G T G G A G C C T A C A T G G G A T C C A G C G A G C T A G A C A T A G T A T A A A C A G C G T A T C G G T A G T G T G A C A C A A A C C A C T T C C G C A A G T A C T T C A T G G T T T G G C T T G C G A A C G A A T C C G C A C C A A A C A C T A A T A G T A G T A A T C\n",
            "3 3 A A A T G C C A G G C C G A C T A T A G C T T A G T A A C G A G T C C C A A T A A C C A G A T G G C G G G C C T A A G C G A T A A G C T C A T C A T G A A C A G A T G G T C A A A C C G A A A C G C A G C A C T G A C A T G C T C G A T T G T G A T A A C C A C C C A G G G T T T C A T A A C A G A T G G T C A T T G A C G C A G A A A A T T G C T T A G C C G A C C T G G T T A T A A T C T T A G G G G A C A\n",
            "2 2 A T A G T A C T C T C C C T T C T C C T C C G G G C C A T C A G G T G G T G A T C T T A C A T G T C T A C T C C G C C G C T G T G G C T C G A T A A C T C A T G G A A A C C G G A C T G C A G A C C A G A T G C T G T T C C T G A G G A C G C C C T G A A C C G A T T C T G C T G C C A A G C C A A G T T A C A G C C C A A A C C G A A A C A T A T G C C A G G A A A A A C G A C C T G A T T T C G C A C T T T\n",
            "1 1 A A G T T G A A C C C C G C A A G A T G A A T A A A C T G A T C C A A G G C A A T G G C G C T C G C T A A A T C T G T A T C G T T G A C C G A C C T C G T T C C G T T T T A A C T C C C T T A G C C T A T T G T T G G C T A A G C G C G G G A T T A A A G A T A A G C C T C G G T A A T G G A T G A G G G C G G T G C T C T T T A T T C C A G G C G A T G C C G G A C C C G A T A C A T T A C T A T A C C C A G\n",
            "2 2 G C C G A A A G C G C G A A T C A G A T G T G A C G C C A G A T G G C C A T A T A A C C C C C T G G A C T T C C G G C T T G G A G T T G T G A C G T C C A G G G T T T A T A T T G A T C G C T C G A A G T C A G G C C T A A A G A C T T C G C G A A C G G C A A T G C G A T G G A C T G T A A C A T C T C C C G A C A G G T G G T A T A C A T T C T T A A T A A G T A T T C A C T A C A C T A A C A T C C C A T\n",
            "2 3 G T A A A T A T A G G G C T T G A T T A G C G C T G T A A C A G T T G T T G C G C G A T A A T A T G G G A C T G C C C G C A A A A A A A A A G T C A C C A G A T G G T C G A C A G A G A T T A G A C T A C C T G A T T C T C A T G G C C C A T C C A C T A T C G G C A A C C C A A A G G A C G G T G G T C A T C G C A G A C T C T A G C A A C T A A A G T T T T G T A C C G A G G T A A T G G C C G C C A C A A\n",
            "0 1 G G G A G T T C T A A T T G A C T A A C G C T C G A T C C A C A C T G T T C G T G T A G T A A A A C G G A T A A G A A T T T T A A G G A A T A A A T T A C T T G T C G G T C A A C A G C T T G G G A C T T A C A G C G A A G G C T T C G T T A C T A C T T A A G G G T A A G G C A C G C A A A C A C T A G G T T C C T C A C T C C G G T G T A G T T A T G C G A A G T A A A G G C A G C A G G A T T A G T G A C\n",
            "0 0 C A A A G T G A T G A T C A T C C A T C A C G A T G C C A A C A T G T A A T T A T C A A G T C A A A G C T A G A T T A T A G C C T T T C A A G T T T C G A A G A A A T G G T A G C T A G A A T A G T A A T T C A A A A T T A G A A T A A A A C T C T A T A C T T A T G G T G C A A G C C T C T T T T T G G C C T T A T G C T C C A T C A T G T G C C T G C G A A A A A T A G A G T T C C G T C T G C A A G C G A\n",
            "3 3 G C A C C C G T C T T A G C C A T A T T T T G A G T A A G A T C T T C G T T T A A G A T A A G G G G T C C G A A A C A C C T A T A T G G T A A T C G T A C C C G T A T A T T T T A G A A T A T C G A G T A A A C A T A T C C A G A T A C G C T T C G A C T A G C G C G C T G A G T G T C A T T C A A G G G T A T T G T C G C G C C G A A A C C A C T C T G A A A A T T A A G G G C A A A C A G A T G G T T A T T\n",
            "2 2 T A C T T C C C A G T T G A G T A T A G G T A A A T T A T G T A C G C A C G C T C A A C T T C T G G A G A C C A G A T G T C A T C G A G A A C T T C A C T C A T T G C C G G G A T G C A A A A A T T T A G G G A A C A C T G C A T A G C C A A G A T C C A T T A A T C C C A T G C T C C G G T A G A G T A T T G A C A G A A T C T T C T T T G C G C A A C C A G A G G G T A C T G C C T T G T G G G G G A T C G\n",
            "0 0 A T C T A G T T G G A A A G A T G A C G G C A G T G G C C T T G G G A A C T G A T C G G C A A C A C A T T G T A T T C A A A C T T T A G A G T G T G C A G A A A G G C A G G T C T T A G T C A C A G C A G T T C T C A A G C T C T G G G A T G A C G T G T G C G G T G T T C C T G A C A G A G G G G T C G A C A T T A T G A G T T A A A C C C C C C C C G T T C T C G C T A T C T T A G C T G T T C A G A T C C\n",
            "2 2 G C G T G T C C G T G A A A G G C G T G A A G A G T G A G G T G T A C C T A G C T T G C A T C A C C T C T T T C A G A T G G C C G A T A G T C G T T C A A C T G T C A C A G A G C G G G A G T A T C T A A A A G T C T A C T A G A T A T A C T G A A G C A C C C G C A C G T A A C A G A T G T C C T G A A G T G A C A A T C T G T C G A C G C G T C T T A T A A C C A T C A T C G C C G G G T C A A T C C A T A\n",
            "1 1 C A C C C A T T G T C G C T A C T A A A C T C C A G C A A C A C A C A T A C A C C A A C C T T G G G G A C A C C G G T C T C G C A G G G C G A T G T T A A G T C C T T C A A A T G A T A A G G C A G A C A G A C C G C T A T G T C A G T A A G C C G A A T T T T C T C T G A G A T A T C T G A C T T A A A A A C T T A T G A G G C T A A C G A G T G A T T A A A A G A T G C A A A T G A A G A G T G T T T T C G\n",
            "0 0 T G G A C T A G A A T T G G C C G C C C T T T T A G G T T A G A C A T T A C G T T A G T T G A C A A A C C C T C C G T C T A C C A A A G C T C C C T T C G T C T C C C T C C G T C C A C A A G T G T C A A G A A T C T T C G C T T T A T G A T T T A T T A G G G T C C G T A A G T C G G C T G G G T C G T C G A A T C T G G T G A C C A T C C A G T T C G T A G C T G T C C T C T G T G T A T A T T G A A A G G\n",
            "0 0 T A T A G G G T T T A T G C A A G A G T T T A G C T A T T C C G C T A T G A T T A T T C C C C G C A G C C A C T A C A T C A A T A T A C T T G A G G T A A G C A G A G T C A A G T G G G T G T T C A A G A T C A G C A G T A G T G C G C T A C C G T T A G G G C A C T A G C C G T T C A C G G A C G C G T A A A A G C C A T C C C G C T C T T G C C C G A G G A T A C A T G C C G G C C C C G C C C A C C A C T\n",
            "2 3 C T T C T T A A A A T C G C A C C G A T A A G G A A G G C A T C C C A C T A A A T A G G G T A G T C T T T G T C T T A G G T T A T G C A C T A C G A A A C T A T A C C C C G A A C A G A T G T C T G C G G A C T T A C G A G G T C T A A A A T C G G A C T C G G A T A T C C G C G G T A G G T C G G G G A C A G A T G T T C G G G T A C G T G C C A C A A T C A G G T T G A A C A G A T G T C C A A A A T T G C\n",
            "3 3 G G A A A T T C G C A A A G C A T A G C C T G A T T A C G C T A A A T T A A T A T C T C C T G C T A A G T G A A G A T A A G A C A G A C T C C G A A T C A C T A C T C C T G T A A T C C T A A G T C G T G A A G T T C A C A T C T C C A C T A C T T G A C A T G C A T C A G G A A T T T T A C A A G T C A C A C T C C C C A G A T G T T T T G G G G C A A C A C T G T A C G T A C C A T T G A G G T T T T T G C\n",
            "0 0 A C C G C G A T T C T G A A A A C T G T C G G G G C G T G G A C A C C C T T A G T T T T A C G C T A A A T C T T A C T T C C G T T A C T C T C G G T A T A G T G G G C T G T A A C G C A C T C A T T C T G G G G T T T T T G G T A C T T C C C A G C A C C G C C A A A A G G A T A A T C C T A C A A G G C T T T G T A T A C A A A A A C A C G G T T A C G C T G G G C C T A T T C C T A G C T A A G A T T C A G\n",
            "1 1 T G A A T C T A G T T T C T T C A C G G T T C G T T T C T G A C G C A G A A A T C G G A G T C C T C A T C A G A C T C G T C G C G G A A G A T A A G C G C G C T A A A T A T C C G A T G T T T G A A A G C G C T G A G G A G A C A T T A C A G A T T C A T G T G A G A A C A T A T A A A T T C T C A A A T C C T A T G C C T G T A G T G T C C G T G T A T T C G A T G A G C T C C T A G A A C C T A A A C T G A\n",
            "1 1 T C T G G G A T T G T T A T C A G T T G A G T A T A G A G C G G T A C C A A C G G T A C G A G A A A C C A G A T C C G G T A A C G A G C T A T G G A A G A T A A G G A C T T A A C G G G C T G A T A A C C A A A T C C C T T T G A A T T A T G A T C G T C A A G A G G A G G C G G C C T A T G A C T T T C T G C T C G C A G T G A A C G A A A C T A T A T A T A C G G A G T A C C A G T C T C G G T A A C A A G\n",
            "1 1 C G T G A A C G T A C T T T A C T G T T T T A T C C G C A G C T C A A T T A A T G C A A T C G A C A G T T A T C T G C A G A T G A C T G C A T C G C G T A A A T A T C C C A T G G T C C A A A C T G C G C T G G C C A T G T C C A C A A G C T A T G T C T C A C G T A C A T C T A C G C A C A A C A A A A G C T C G A A T A G A T A A G G G A T T T T G C A G C A A C G C C T T A C G C C C A C C G T C A T C T\n",
            "2 2 T T C A A G T G G G T T G C G T C T C C G T G C A A A T A T A C C A T A C A C A C C T A G C G C T A C T A A A T G C G T T C C G G G A G C G C C A A T A C T T A C G C A C T C A A C G A G C C A G A G G A A G A T G G T A A G A A T G A G G A T A G G T C G C A A C G C A T G A A A T A G A A A C G A C G A A C A G A T G G C T C G A C C G G T C T G G T C A G A T G G T C A A C A A G G C A T C G G A C G T C\n",
            "3 3 A A T A C C A G T G G C T A A T T A C A G A T A A G C A T T G T A A T G T C A T C A C G G A T T G G T T G C G T T T T A G A G T G G T T A G A A A T G T T G G T C A A G C T C T A A C A T T A T C T T A A A G A T C A C G C A A G A C A G A T C A G C A C G A C A A C T T T C A C T G T C T A G C T A A C T C A C G G G C A A A A C A G A T G G C T C A C C A C A T T C T C A T A G T C G A A G C A C G C C C T\n",
            "3 3 T C C T T A A C A T A G T A A G C G T A A A G C C T C G C T T C G A T T G A T T A C G T A G C C T C C A C C T C C G A A G C G C G G A A T A C A A C G A T C A G A A A T T T T A G T G G T C G A G A T A A G A G A G G A A G G A T G A C G G C C A A G C A C T T G G G C G C C T G T C C C A C G G T A C A G C A G G T T A T C C C C G T T C A T A C G A G T A T T A T T T G C A A A C A G A T G G T C A C C C C\n",
            "0 0 G G T A A G G A C A G A T C A G T A A G T A T A G C C C T T A A T T C G C C C G A T C C A A G T T T C C A A A T G C A T C A C A T G A C T A T G C T G G T T T G G C G G T T A T C C A C C C A G A A T C T G G C T T G C C C T C A A T A G C C C C T T A A A T C A G G C T T C A T G A T T G T A C A C T C A T G G T T A T G A G A T C C A C A C G C A G C T G G A C G T A G T C T A A A C C G T T G G A C C G C\n",
            "3 3 T G A A G G A T G T T A A C C G A T A A C T T C T T T T T C T T C A G C C G A A A C T T G G T A G T A C G A C T T G G G C C A G A T G G T C T G G G T G T G C G G G C T T C A C A A C T T C G A G C A C A T G A A T C C A G T T T C G A G A T A A G A A C G C A C A T C G A C G G C C T G C A A T C C G G G A T G A A C T A A A G G G C C A T G A A C T C C C C C T T A T C G G G T C C C A C A C A T G C C C G\n",
            "0 0 T C G G G T T A C A A C C C T G T A T A C G C G A A T C T T G T G C T C A G G T C A T A G C T G G G T C T C T G T C T G T A A G A G G T A C T C C C A T C G T C T C C T T C C A T A G A C T G T G T G C C A T T T A T T T G C A C C A C T G T C T A G T A A G C T G G T A A T A T G T G G T A C A G G A C C C T G C T A T T C T A G T C T T A G A A T A T G T C G G T T T A T G G T T T G T A T A G T G T T A G\n",
            "3 3 A G A A C A G A T T A G G A C G A T T A C C T C T C G G A A G A T T A G A C C T T T G G C A A T T T C G C C A G A T G G T A C G C A G A A T G A G C C G T G A A A A T T A G G C C A A T A A G C T A A C A C T A T A T C A C T C A G C C C G A A A C A T G G T G A T A A C G A T C A T T T A T A C C T G A T A C C C G C A C T G T C A C G C C C C C T T T C G T A T G T G C G G C C A A A G T C G G C T G T G A\n",
            "1 1 G A C A C A G A T T A G G T A T A A T G G G A A C C T C A G T C A A T C A A G T T C G C A G A C C A T C A G C C T C C C G A C C A C C A T T G G C C T A A G G A C A G G T T A T T T A G G A T G A C C C T G A G A G A T G G T T G A C C G A T C A A T T A T A T G C T T T A T A A C T A C C T T T T G A G G A G A T T T A A T A A G A A T G C A A C G G T A T G A A G A T A A G G C A C G T T C A T T G A A G C\n",
            "1 0 T T A A A A A T C G G G A C C G T C G T A A G C C A T G G C G T G C T T G A T A C A C G G G A G A T A A C A C T C T A T A A T T A C A G C T C T A A C A G T T A T A G T C A A T T G A G A A G G A T A G G C T G A A A T A A T T A A A T A C G G T T C C T T T G T G T C G T A A C C A T G A G T C G A G C C T A T A T A C G C C A C G G C G T T C T A C T A T G A C A C T C G A A C C G A T T G A G A A A T C G\n",
            "2 2 C G A T C G A A G T T T A G T C G C G A T G A G T A T T C C A A T C A T T G A G A A A T G A G C C A C C T A A T C C A C C G G A A C A G A T G T T A A C C T A T C A A G T G T C T T A G A C C C G C G A C G C C A T T G C C G T C C G A T C C T G T T A T A G C A A T C C A C A T A A A C C A T T G A G T G C T G T C C C C C C C A T G A C A G C G A T T A C C A T G C A G C A C C A G A T G T T T C A C G A G\n",
            "2 2 T T T A G A T C G C C G A C A T G A T A G T C C A T A C G C C A A C A G A T G T T C C T T C G T T C T T A T C G G T A T A A C C C G A T G T A A A T T G C T A T A A A G A G T G C A G C A A A G G C A A A G C T A T C G T T C A A C T T C A T A A A C A G A T G T T C C G C A G A T T T G A C G A C T G A A A G G A T A A T A C C G T T T G A C T T A C T T C G A T A G A A C G G G G A T G T C C T A T C G C T\n",
            "3 3 G T T C A C G T C C T C T A T C G G G T G A T A A G G G T T C G G A T C G T C A T T T G A T T C T T A C G G C A C T A C T T T T T T T A A G A A C A T A T C T T C T G T C A A G A T T G A G A T T T G A T A T T A G G C A T G A A C T T C T C C C G G G T C A A C T A A C T T C A A C T A A C T C C G A A C A G A T G G T C G C T G A T A C G A T A T A G C G G A G G T T A A C A T T A C C G A T G C A C A G C\n",
            "2 2 C G G T A T A G G A A G A A G G C G A G A C T C G C C T G C G T G T T G A C C A G G A G A A G C A A A C A G A T G G T C T G G T A A A G C A A T T G C T A C T G G C A C T T A A A T G C C C A A T T T C A A T T G G A C G G A C G A A C A G A T G G T C G G T T A T T A C G T C A T A T G C T A A C A G A T G G T C A G A T A C A A T T A A T G A A A A A T T G A T C G G T A T C C T A C T T G T G C T T T T C\n",
            "0 0 A A C A T T T A T T T G T A G A C T A A A C A T A C A A A C T G A T T G G G T A C C A C C G G G A T A C A C T T T T C C T C C A G G T G T C T G C A T C C C T A A C C G A T T C T A C A C T G A C C T C C T C A T C A C T T G T A A C A T C G T C T T A T C G C T C G A T G G T T T C T C T T T C C C C A A G T T T G G A G G G T G A T T A A A A T A G T G A G T T A C G C G A A T C C G C C A T G A A G G T T\n",
            "0 0 C A A C G A C A A C A A T T T A T G C G G T G G C C T T T C A C C T T G T C A C T A C A T G A C G C A G G A A A C G T G G C C T C T T A T T G C A G C A T T G G C G T T T T G C C T C G T G A T T A T A T G C A A T C T T G G A C G T C A A T G A T A G C C A T G C T T A C A T G A T T T T C T C A A C A C A C G A A A G A G A C G C C A G G T T C C A A A T T G C A T A C T T A A C G C C A G A T T C A G C T\n",
            "3 3 G C G T G C G C T G C G C G G G T C T G C A C C A G G A G A T A C G G T A A T T G C C C A T A G T C C A A C C T C C A T T T C A A G G C A G A A A A C C T G T C T T A C G A A C C A T T G T T A G T T A G C C C C T C A T T T A T G A C T A C G G A C A A G T A T A A G T G T C T A A A T G C G C G G C A G A T A A G A G C A G G A A C A G A T G C T C A A C G T G T G T A C T G A G A T A A G C G T G A C A A\n",
            "3 3 C C T T C G C T T T T T G G T A T G T A A C T C G C C G T C G A T G A A G T G C A G C T G C C A G A T A A G A C T A C C A T G A G C C A G T C C A G A T G T A C T G G T C G C G C C T G T A T A C C C A C G C A G A T T A G G C G G G A G T C C A C A G G T G G T T A A C T C A G A T A A G C C T C A T A C C A G A T G G A C T A A C T T G T A C A T G G A C T G G A C A C C G T C T T G C T T T T C C A T G G\n",
            "1 1 T A T T C A A T A T G A G C C G C A A C T G C G T T T C C C A A T T C G A T T G G T T A C C A T A C A A A C T T T T T C A G T G C T G G A C G G G T A G A C T G G T A T A T G A A T G G C A G A T A A G G A C C G T C G C A G A T A A G C A T C G T T C C T T C T A C A G A T A A G A A C C A C C T C G A T A A A A A A G C T A A C C T T A C T C T A A C C G G G C T A G G A A C A A C A C T C C T T T A C A G\n",
            "0 0 G G A T T A T T A C T G C C G C A C T T G C A C A C A T T A A C A A G G A G C C G T G T C T A G C T A A T T A A G A G C T G C A G A T T T A T T C T T G G G G T C C C A A T A T T T T C G A T G T A C C C G A T C A C T C A G G T T C C A C A T A A A T T T T C C A T C C A G C T C T T A C T T C T C C G A A C G T G A G T G C G T C C T A T C A A T G G A C A G C T A A G A C G A G G A G A A A A C A A T T T\n",
            "1 1 T T T C T T G A A T C A T T G A T A C T G C A G A T A A G G A T G C T A C A C G T T T G T C T G A C G G C C T G G A G T A T A A G C G A A G A G G A A A A G T G A G T A G G G C T G A T C A C T A T G A G A G A T A A C G T T G G T C A G T C A G T T G C C G A C G T T A G C G A G C G A C C A A A C A A A C T A C G A C A G C T T C G T A C G A T T G C C T G A G G A C T G G T T C T G G C G G C C G T C G A\n",
            "1 1 T C C C A G A G G G A C G A T A A G G C T T A G T A G A A T T T C C A A G A A A G C A G A T A C C A G T T T T T T T C A T G G A A T G C T A G C C T G C G A C A G C C G C G G T A T C G C G A G A T A A G G T G T T A T A G A T A T G T C G G A G G G G G T A G C A T T G A G T A A A T T A C G A A T A T G C A A A T T C A T G T G A T C T G A A C A T A G A T C T C C C A C T C T C G G A C A C T A G G A A C\n",
            "1 1 T G C C C A A A G G A T T G G C C T T A C T A C A G A C C T T A A T G G A T A A G G C A T C A T T G G T A G G G A T G C T C T T A T C T C A A A C G C C T G C A G C T T G T G A C C G T T G T G A C A T A A G C T G A T A A G T G A T A A G C C C C A G T G C A A A A C G C T G G A A G A T A A C A G A A C A C G G T A G C A G T A C G A T T A A A A C A A A G A G T G G C T C A G A A G T C A C A G A G T C G\n",
            "3 3 G A G G A T T T T T G A C G G A G A C A G A T G G T T A C A C T C C T C T C G C C T G T A A A A A G A A C A G A T G G T C C C T A A A C C C G T C T A A T A C G G G A A A T G C T A T G A G T C G C G T T C A A A T C A C T C A C A A C T C C T C G C C A C C A C C C T A A T T C T T A T G A G C A T T T G G T T A G A G G A G T A C G A A G A G A T A C C C A G A T C G C A T C A C A T T C T G A T A A G A T\n",
            "2 2 T T C G A C A G T A G C T A G C T C G G C A T A A A C G A C C C T A T G G C G C A G G A T C C A T T A G T C G G C T A T G A A A G A T C G G C T G G G C G A A C G A A G C G A T C T G C C T A C A G A T G T T C G C C T A A C C A G A T G G T T T T T C T A G T C C T G G C A T T G A G T C A C A A T C A C T A A A G T G T A G C G C A C C A C G A C T C G C T T C T G T A T C A A A T G T A T A C G G G T T G\n",
            "0 2 C G C C A A G C C A A G A A T T T C G A A G C A G G A A A T A G G G T T A A A A G T T A C C A G A T G T G A C G T G A G C G G T G A C T G C A A C C T G G A T G G T T G G T G G A G G C A G A A T G T C G G A T C C A T C G T T G A C A G A T G C A G C C A T A A C G A T T G C C T T C A G C G A C T G G C A T G A A C A T C G T C G A T T C A T T C A T A G G C T C T C C G T G A G T C T G T C A C T G G A A\n",
            "3 3 C C T G G C A G A C A T A T T G A T C G A G G A A G T G A G G T T T T T C A T A A T C G G A G A C G T T G T A A A C G C G G C C C G A C G A A T G A A C A G A T G G T G G C G C G T A T G T C G T C G T T T T G C A G T G A T G T G T C C A G C C G G C C A A T G C G G G A C A G A T G G C C G C C T G T C C C G T C T A T G C T T G A T A A G A T G C A G G T C T C A G A C G G A G A T G T A C A G G A C C T\n",
            "3 3 T A T G T G C G G C A G A G T T T A G A A T G T A T G G C A G C C G A A C C A T G T A G C T A C A G A T G G T A C T A G C C T A T A T A C C A C C T A A C T G C C C A A C C A A G A T T G C T C T G C A G A C T T T A A G A T G C T A C G T A T G T C A C A C C C C T G C T C G G A A A T C G C A A T T A T T C C T A G G G T G A T A A G G A A A C C A A G T G A C A A T A T C G G C T A T T G A A G C C A T T\n",
            "0 0 G C A T A A T T A C T A C T A A A G T T C A A C G G G A A T C C T T C T T G T G G C C A T T T T A A A T G G C G T T C G A A T G A G A T A C A G G G A A T C T C C C C A C T G G A A C A A A A A T G T A C T A T T C T T G A T C T C G T C T T A G A T T A T G T G T A T G T G T T C G A A T T T A T G G C C G A C T A C C A T T T C C C A A A A G A T G C A A C C T T C C G A T G C A C A A A C G G C A T A A A\n",
            "2 2 A A T C G G T G C C C A G A T G T T C A A C G A C A T A C T A T A T G C A G T G C C A A T C G C A C G A A G C T C C C T A C T G A C G G A A T G A C C A G T G G C G A C C A G G T G G T C G C T G T A G G T C T A C A T C G A C A T A G C T C T T T A A A G G G A A T G T A T G T A T A T A A T A G G A G T C T A C C G A A G A C C A T T A C A C G T C T A T A T A A T G C A A C G C G T T C A G A C C A G C G\n",
            "0 0 C A A G A A A C T C T G C C A T T T T A G C G C C A A G C C A A A C C A T A A C T T T A A T T A G A A C C C A A G C T C G T T G A G A A T T C A T A T T G C T C C C T C T G G G G A A A A C A G T C T T T G A G A G C G T A A C T G C G A G T G A G T G G C G A G G C A G T A A A T T C T G C G T A A A G G A G C A A A G A T C T G T G T T C A A A T A T G T C G T A G A T A G G T C A T C A A T C G A A C T T\n",
            "1 1 A C A C T T C A C A A C C A T G A T A A T T C C C T G C T A C C G C C A C T T A G T T A T G A C T A G C A C G C T C G G G T C A A C G G T T T C A G A C C A G G C A A T A C T A G T A C A A A G T C C G A C C A A A T G A G T C C C T A T T C G T G T G G T G G A G C T G A A C T T T T T T C G C G C T A C G G A T T C A G T G A A C T G C G A T T T A G A T A A G C A T C C A A C T C C C G G G C C A T A T C\n",
            "0 0 A T G G A G G C G T T C A C C C T C C T A A C T A A A C T G A C T A G G T C A T G C G A C T T C G A G A C T G T C A T C A A G T G T A G T C G G T A A G C T A G G T G C T T A C T C G C G G T G C A T C A A C A G T A T G G A T A T C G C A T A G T T C C A A G A T T C C G A C A T T G A T T G C C T T G T C A A A A G G T A T C G A T G C A C A C A A T T A T C C A A G C C A T T A A G A C T G T T C G T A A\n",
            "1 1 G A G T G C A T A G T T C C T A A A T G G T G A C T G A C T T A C C T T A C A A C T A G G G C T A C A T G A T A A G C A C T C A A A T A C T C C A T C A C G A G G G T C A C G C T T G A G G A T A T G A T C C G T A C T T T A C T C T G A T T G C C C T A C G A C T G G C C T A T T A C G T C C G A T A G A T T C G G C C A G G A T A C G T T T G T A A T A G G T T T T T T G C A G A A T G C T G C A T C G T A\n",
            "3 2 G G A T A G A A T C G C A T C G T G G A C T T A C G C G T T C T A C A C G G C C G A T A A C G G C C C T C C A T G A G A T A A C G A G C G T A T T T A G G A C G G T A A T C G T C T T G T A G T A C G C G A G A A T G A G G T C A G A T A G T A T A C A G A T G T T C G C C A A A G A G T G C T A T A A A A T G C C C G G C A T C G T T A G A G C A A G T T A A G A T A T A T A C T A C T G A G A G C C T C G C\n",
            "0 0 G G T G A A T T G A A A G G G G A C G T C T T T T T T T A C C C T A G G T T G A G C G G C A T A G G T A T C A G G G G G G A G A A A C G A T A C T C A G T A A G G G A G C G T A G C A C T T T G T C G G C T T T G T C A A G T A G G A A A T G C C G G T T G C A G C T T G C C T C G G A T C C T C A T T T A C G C A T T T C A T C T T G A G A A A T C C G A C C G G T T T T G T T G G A G T G A T A C A A C C T\n",
            "0 0 C G A C T C C T T T A G T T T C A C A C G G T G A A G G A A G T A T C G C T G G G A T G T T G G T C T C T T A G T T C G T A A T G C T T T G G A T A C A G G G T C C A A A A T T T T C G A T A G A T T T T C G G G A A A G T C G T C T C A T G T T T G T T C T G C T G C T C T T G A C T T T C A A T A A T G C G C A A T C G T G C A A T G T G C A C C A T C T A G A G C A T G G G A A T T A T G C T A G C G G G\n",
            "3 3 G G T C C G A C C A G A T G G T T G A C G G G A G T A A A T A A A A A T T A G T G C T G C C A G G C A A A T G T A T C A A A T T T C G G G A T A T G A T C C C A A A G T C C A C T C T G A T T C C A A A C C G C A C T T A T T A C G T C A A T A C C A T C T T G C T C C T G A G A C A C C G A T C G C A T G G C C G A T A A C G T T C T A T C T G C C G T T C T A G C A C G G G A T C C C T G A T A A G G T C T\n",
            "1 1 T A G G G G A T T A A T A T G C G G A A C A A A C C G G A G T A C T C A G G G C T T G A A C T G A C C A G C T T A G A T C T C C C G C T T G T G G T T A G T G C A G T G C T T G A A G T A A T A T G A A C T G A A T A T A A T G T T A G A A C T C T A G T G A T A A G G T T A C T T C A T T C G T T T G T G G T G G G T G A T A A G G T A C C T A C T A G G T A T G G T G A G C A T A G C C G A G A A C G T G G\n",
            "2 2 C C A A T C A A A T T G G A G T G T C A A C A G G T G T T A A C T G G A T C A T C T C T T T G C C T G A C C A G C C A T T T A A A C T G T A G C T T A A T C G G C T A A C A T T A G G G T A T A T T G A G A T T A T A C A T A T G G C G T G G G T A C A G A T G G T G A C A G C A A T A T G T C A T C A G A T G G T A T A T A G T A A C T A T A G C G C C T C T G T A C G G G A A C T T A A A C T A A A T G T C\n",
            "0 0 A A A C T G T T C T T A G T G G A C G A G C T T G A T C G A A G A A T G T T A G T G G C G A G T C C A A G A A T C T C A T T G T G T C T A T G G A A G A C A A T C A C C T T A A G A G G T G T A T G G T C T G A C A C T T T C T T G T A G A C T T G T C G A C A A G G A A A C A T C A A C A T C C G A C A T T C G G T A T T C G T C A T C G A T G T C C G C T G T C C G C C A A C G C A G C C C G G T G C C T C\n",
            "1 1 A C C A T T C C T A G A C C A G T C A T A A G A T T A G G A C A G G G T G T G C T C C T A G T A A T A C C A A C T C C A G T C G T G T G A G C A C G C A C G A T T T A A A A A A A C C T G A C T A A C C T T C G G T A T T G A C G T C T C T C T A A A G C T C T C A C A G T T A G A T T A G C C G C G C G T T A C T A T T T T G G T G A C C C C T G T A T G C T A C G C T A T A G T T T G A G G T A G C G G A C\n",
            "2 2 T T G A C G G A A A T C G G T T C T G T C G A G T A G A A C A G A T G G T C G C C C T A A C A G A T G T T C G G G C T T A A C A G A T G G C T A C T C A T A A A A C G T T C T C T C G G C C G A C A T G C A A G A A T G C G A G A G A C T A T G G T C T A T A C G G T G G C T C A C T G G A T A T A T G A T C G G A T A C G T A A A G A A T T C T G T T A A T C G C T A T C A G T A C G C A C G A T G C A T A A\n",
            "0 0 C A T T A C A C A T T G C A T G A A G T C T T A A G T T T C T C G A T A G T T C C G T C G C C T G T A A A A A T G C A A A G G A T T T C C C T G C C G C T A G T A A G T T A C A T T G A C G T G C A A G G T C G G G C A A C A G T T G T T T C C G A A G T T T G C T A T T C T A A C A A A T C G T T A A T T T G G A A C A G G G C G C T A C G G A T C C G A G T G C A C G C G A A G G A C G A T C C G A A A C A\n",
            "1 1 T G C A T C G G T T A C C C G T G C G T C G A T C T C A A T A A A A C A A G T T T C A G C G A C T G C T G A C T C A A G A A C T G A T T A C T C T A A C A G A T A A G C G A T C G T T A T C A G A G A T A C A G A G G T A T G G G A G T A T C T C T T A C G C G G C T A G A C G T G C A A G T C T G T C T G T G G A C G A G A A A T C C G G C T G A A G T A G G G G T C A C C T A C C T T G C T T C T T T G C A\n",
            "0 0 C C C T A A T A T T C C C G C A A G G C T C C A C A T A A C A T A T A G G C C C G C C G A C A C C G A T A T A C A A A C T G G A G T G G C C T T A A C T T T C C T C T A C A T T G A G G C C C C G C T A T A C T T T T T C T C C C T T G T C C A G C G G C A A A T C G T G C C C G T T G G C C A T A C T A T T G T C A A T T C C A T A T C C A G C G A T G A C C A G G C G A A G C C C T G T T C T A G C T G T T\n",
            "3 3 T A T G C A G T A C A G A T G G C C C G T C T A A C T C G G C T C C A C A C C C C T T C C T A C C A A T G T T T T G G A C T G A G A T A A G A T C A A T T A T T T T C C T A A C A G A T G T T C A G C T A C A T T T A T G A T A C C A T A G G T C T T C C A G T G C G G C C G C A A T C C C G T A A G G G T T A T A G C T T A C C A G C T T T G G G A A G A T C C A G C A G T G A T T A G C C A T A C A T A A G\n",
            "2 2 T C A T T T C G G A A A C G A G T C G A C C G A A A C C C C G T A G C A T T G T G C G T C C T A C T A C G A G G G C T G G G T A G G A C T G G A T A G C G A C C C A G T G T T T A T C A T C T A C T C G A G T A G A C A C G A C A T A A A G C C C C T T T G T T C T G C G A C A G G T G T T C A T A A C T G C G A C A G A T G T T G C G T C T A A C C G C G A A G A G G T G A G G T G A A T T T T T A A C T T C\n",
            "2 2 T T A A G T A C C G T A A C C A G A T G G T T G A A T T A A G C C T G C C A G T A T T C A G T A C A G A G A C C C G A T A A T A T T C C A G A G C A C C T T C A C T T G T G A G A T A A T C T C A C G C G T T C G C G A C C A G A T G G T A A C A G C T T G T C A A T A A T A C G A T C C A G A A G T A T G A T T T A C C A G A T G G T C T G C T T G C G T T T A C A G A T A T C T C T G C T C G C T A C C A A\n",
            "2 2 T T T G C T G G T T G G C A A C A G A T G G T C G G C A A G G T G G C T T G G G G A A A C T G A T A T A A A A T A A C G C A G A T G C C T G T G T A T T T C T C T A C T A G A G T T T T A A C A A T C G G A A G T T G C T T C A C A G A T G G A C A T T T T T C T C C T C A A G C T G T G G G C A C G A C A G A T G G T G G C T T T C T G T G C A T A C C A G G A C A A T A G T C C C A A G A G G T T G T C A C\n",
            "2 2 G A T T C A T C G T T A A A G A A C C A C G T G C T A A C T G T C T G G T A A G C G A T T A G G T T G G A C G G A C A G G G C C A G A T G T T C T G C C G G A A T T C T T T G T T C T T G T T T T T C A C C T A A A C T C T A A T G T C T A C A G C G A T G C C A A G C C A A C C A T A T A T C A A C A G A T G G T C A G C G G C G G T T A G A C A C A T T A C T A T C A T G T G A T C G A T C G C C T T G T G\n",
            "3 3 A T C T A G T T A T C A G C C T A G A A A A T G C C C A T T A A C C G C T G G A A T A T A A T C A T A C T G G T C A A T G T C A C C G A G A T A A G C T A A T G A A A C G G T C A A G C C C T G C A C A G T T G G C A C A C C T A T G A A C A C G G A C T A C A A G A A G G A A T T G A G G A A A G G G T T G A G G C G A A G A T A A G A A G T C C T T T A A G T T C C G C C G A A C A G A T G G T G A A T C T\n",
            "1 1 C T A A G G A G C A T A C G C A T A G A T A A A G T C A A C T G G G A G C T G A T A A G C T T T T A G A C T G A G T A T A T T C A T G A G G C G T A C A T T T G C G C C A T A T T T G C G A T A G T T A A G T A A A C C C A A A A G C A A A C T G C A G A T A A G C G C A G G T G A A C C T T T C C T G A C C A T T G A G A C G A C T G A T A A G G C T A G C T C C T G T T C A C A A A C A A A G T A A T A C C\n",
            "2 2 G C T T T A A G C C C C T A A G T T G T C C A T G T G C T C G A T A T G T A C G A G G G C G C C A C G T A T A G G A T A C G A G A C C G T C T G G A C A G A T G T T G T G G G T G G C G C G G C T C C T C T T A A G T A T G G C C A T C C C C C C C A T A T T C A T T T C A C C C A A C A G A T G G C C C C A C A A A A C G T A C G A C T A C G A C G T C T C C T A C G A T C G A A G A C T T C T A G G G T T G\n",
            "0 0 C G T T A C G C C A T G T A G C T G G T T G A G A A T G A G C G C T C G T G A G A A C C G T T A T A T A C T A T G C T G A T T T C A G A C T T A A C G T C G A C A A A T T G A C C T G G A T A G G G T C G A C T C A A T T T A A T C A T C A T G T T A T T C T C T T A T C T C G T G G T C A C T A T T T G A T C A C C C A T T T C C C A A C G A A G T C G G T G T G G G T T T A A A T G G A T G T G A C T A C A\n",
            "2 2 A T G T A A A T G G T T T A A G T G T G G C A T G C T A A G A G G G G T G C G T A T C A T C T G A T T T C A C G A G G C C T C T G C G T C G A A T A T G G C C A G A T G G T C A T C C A C G G T G A A C T A T A C A C C T T C C G G T C A G A T G T C T C C C G C T T A G C T T G C T T A T C A T C G A A C A G A C C C A A G T A G A G A A C C A T C C A C A A C A G A T G T T G C G T A C T T G G C G G T C T\n",
            "0 0 T A T C A T A A A A C A A A C C A T G A T G C A G T T T A G T C C A G T A G G G A A T T T A C G A A C T A C G C T C T G T G G A G A T T G A G T C T A G T C A A A T C C A G T G T A G A T A C T G T C C A T A C G T T T A C T C T T T C C G C A A G A T T T A T A G A A G A G T G C C A G T A T G G A T A T G T G T A T T G T T G A G C C C G A T A T A A A T G G C A G T T G G C A T A T T G A A C C T C A G C\n",
            "3 3 A G G C G T T C T C C C T G T C G C C G T A G G G G A T G T T C T G G A G T G G C G T G G T T A A A A T T G G T T A T A C C A G C G G G A C T T C T G A T A C A G A T A A G G T T A A A C A G T T G G T G A G T C A G A T T A G G G C C C C A C T A G C A T A A T A T C G C C A G T C A C C T T T A C A T A C G C A G T G T G G C A G G T T T C T C T A G G T C A A C G A A G A G C C G A T C A C G A T C T G A\n",
            "0 0 G A A C G G C G C T T C C A T T A A A G T G G G T A G T C C T T A T T A C A G C G A T T C T A A T A T G C C G G A G T C A A G C T G C A G T T A T T G T G T T G A G T A G T C A G C A G T G T C C G T T A A T G T C C C A A G A C A A C A C G T G A A C A G C A G G G T G C G T G C C G G A A T C C C C A C C A A T C C C C G C T G G G C T A T G T G G G T T C A A C C C C T A T C T G G G C C C T C C G T C A\n",
            "3 3 T T T C C G T A C G A C C G A A C C T G T A A C T A C A C T C C G T A A G G T C C G A G C T T T C T G G A G A T T A A A C T G G C C A G C C A G A T T A G G A T G C T C T C A T A T A A G T A A T G C G A T A G G A C A A A G G G T A T G T G A G C A A T T C A G G C A G A T G C T T G G C C G G G A G C T A T T C T G G A A T A T C A A C A G G T G T C T A C C G G C T T C T G C T C T G C G C A T G T G G G\n",
            "0 0 G A G G T A G A C A G T A C A T C T T G T T C T C C T G T A C T C A T T G C C A G T C T T C C A T A T T A C T A G T A T A C C A A C G T C T T T C T A C A T G C G C C T T T C C G G C C C A G G C T C C A C C A A A G T T A C G G A G T A A A T G C G C C T A C T C G T T G A C T A C G A C G T G G A A A G T C A T T G A G A A T G T C C T T C C T G A C T T C C T G A G T G C T A C A A A T C T A A T C G C C\n",
            "2 2 G T A T C G T C T G G A T T C A C A A G A A A G G T A C A A T T T T G A A A G A C T G G T C T C T T C A T T G T T T G G G T C A G G T G A C C G T T G G A C G T A A A C C G A A T A A T G G T C A T C A G G G G T T A T G A G C A C C C T T T G T T G T G G C T T A T G T G A A C A C A T C T A T C C A G G T T G T A G C C C A C T T G T A G C A A T C C T A T T C G C A T T A T G A A C A G T T G G C T C G G\n",
            "3 3 A C A G C C A T A A A A C G C G C A A A C G A T A A G A A T G T T A T A T G A C C C T T T G G C T G G G G C T G G C T G A G A T A A G C A G G T T C C T T T A G G A T G T A A T T T C C A A C C A G A T G G T A G C T T C T C G G A C T A A C G C C A G G T G T G A T C C T T C T A G A C A C A T T A A G A T C T T A G T C C C T A A T G A G A A C G C T G C C T C G T G C G A G T A T G G T T G C A C A A G G\n",
            "2 2 A C C G T C C C C C A T G G G C C G G G C C G C G T T T G C C A G C G G C C C T G G T T A A A G A T G G G A A C A G A T G T T A C G T T A G A T G T T A C G C A C G C A C T C C A C T T C A C C A T G C T C C A G C C T A T G A G A T C C C C G C C C G A T G C T G T C C T G C C A A T C C C T A T G C T T C C A G C G C G A A T A A A G T T C T A C G T T T G G A C G C C T T T T C G T A A T G T C C C T T T\n",
            "0 0 T A C G T A G G A C C G C G T G T T C T G A G G C C G T G C T C T C C G A C T T C G A T A A A G G T T C G C G G A C A G T G A G A T C A A C A A T T T A A G T G A C C T A A G T T C A A A C G T A T C A A A C A T C C A A A C T T C G T T A T C G T A C A G C G T A T G A T G T T G C T C A G G A A T C A A C T C G C A A G G C C T C G A T T G T G A T T G G T T G A G G T C G C T G C C T C A C T A A C T T T\n",
            "0 0 A A G C A T C T T G A T A A A A A G A G C T G C C T T T T C A T C A A G C G A A G A T A A A T A G T A G C A T G G A G A G G A C G T A A T A T A C A G C C G C G T C G A A A G A C C C G C C C T T C C G T A T A C G A A C T A T C A T C T C T G G A A C C A A C A A A T T T T T T C G A A C C T T A T A G C G A T G G G G T G A G T T A C G G A T T G G T G C T T G A G T T G T C A C C T A T C A A T A A A A A\n",
            "0 1 G A A C C C T C A A A A G G G A T C C A T C T A G C T T T G G C C A C G A G T G T T A A T C C T C A G A C G T C G A G A C C A C T C T A G C A T A T A A A G T A G C A A C G C T T A G C A T A G G T A C C A A G G G A A T T G T C G C C T A C T A C A T G T C G A G A C G A A T T C T C T C G A C A T T T G A G A T A A G G T A T A T A A G G A A C G C T G T G G A T T T C T C G T A A G T A A G G A G C C A T\n",
            "2 2 A T T A G T G T A A G C G A A T C G A A A A C T A C A G C A G G T G G A G G G A T C G T T T T C T C C G G G G T T T A T T A G C C A T C A T T T A A T T T C C T T C A C A A A G G T T T A T G T A C C C G T G T C G A C A T A A G A A G A C A G A T G G T C T C T A C A G C G A G T A T A T C A G G A C T A T C G A T A T G T G A A C C T A T T A T A A A T C C T G A T T G C T T C T A C A A C A G C A G T C C\n",
            "1 1 G G C T A G C A A C G C A C T C T T T C A G G A A C T G C T A C T G T T A C A T T A A T G G G A A C T A T T C C G C A T G A A T T G A T G A T G G G A G A T A A G C T A A C A G G T C G G T T G G T T T T A C T T G C C C G C A G G G G A T C C C T G A T A A G C G G C C T T A C G G A T T A T G A G T C A C T T C G T A A A T A T T T A T G G T T A C G G T C G G G A A C T T G T G A T A T T T C A T C G T C\n",
            "1 1 C A C T A G A A C T G C C G T G C G A A T T T T T A A A A C C T C A A G A T A A G A G A A A A T A A T A A A T C C A T C C G A T G A T C C C C C A T G A C A T T A T A T C G A T C G A A C G T T C T C A G A T C A T A G T T C A T G G C C G T C T G A A A C G A G C A C A C T A T C A G G G T A T C G A T T G C C T T C G G C A T G A A A G A T A A G C C G A T A T G A T A A G G G G A T G T T G C G G A C C T\n",
            "3 3 C T A A T A G C T C C T G T C G A T G T A A T G C G C T T A T G C T G C C G C C G A T A A G C C G A G A A C A C A T C G A G A A G A A C T A T C G G G C T T A T C G G T C A T T A T A G T C A A T G A C T C C A G G C T C A T A G A C C G C G C T T T T C C A A C C A T G G G T C C T G C G C C A G C A G A T G G T C G T G T C G T T C A C G T G G A C C T A C A G A A A T T C A A A C G A T A A G G C C T G T\n",
            "3 3 G A C A C T C T T C T A A T A A C C G G G A A C C A A C T G T G C C C A T C A T T T T T A T A C T T A T A G G G C A G A T G T A T C A G T C A T A C G C A C C C A C T T G G A C G T A C A G G T G G C C C C G T T C C C T A C T A G A C G T T C A A A T T G T A C G A C G A C T A A G C A G T T A T G C A G A T A A G A G C T C A A T A C T A C C T T C A G G A A G G T A A A G G T T A C G T T T G A C G G C C\n",
            "3 2 A C G C C T T T C T C T A C A T A G C A G C T A T C A T G G A A A T G T T G G T G A A A T A C G A C C C C T C C A T T C T G A G G G T A C G A A A T T C T T T T A C T C A C C A C C G G T C A C C A A C A A G C C G C G G A G A T A A C G C A G A A T T A A A C A G A T G G T T C G G C A T T G T C A A C T G G T G A G T C A G T T A T C C G C T A T T T C T C T C C C T C A G C C C A G T A G C G A A C C T C\n",
            "0 0 T A C A T T C T T G T A T C C C G A G A T A C C G C T T T A A T A T G A G T C G G T G T C A A A A T T G C A G A A G T T T A G G C C A G A G G A A A C G G C T C C T C T C G C A C G T A T T C A A A T A G G A T C A C G A C C T T A G A T A T G C C A C G T C T G T G C G A C T A T G G A A A G T A T C G G G A G C A A G C T G A G C A C A T C A C A C A A T G C T A A G C G T G A T C A T C G T C C C A G G C\n",
            "0 0 C A G G C A G G C A A G A T T C C C C T A C T T G T T T C A T C G G T T A C T C A T T T G A G G G T C G A T C G T C G T A C A C A A A T C T T C T G A T G A T G A G G G A C C A C C C T T A C A C G C A T C C T G C A T T T G A A T T C C C C C A A T G A A C A G T T T C A A C G T A T T T C A A G C C C A G C T A A C G T C T C T C T A G C G G T A A A G T C G C A A T A C A A G T G A G C C A G T G A C T C\n",
            "0 1 A T A A G C A C G G A G A A G T T G G A C T C T G T G G A G C G C C T A A A G A T A G G G A T C T T G T T T C C G A G A A A T A C A A T A T G T A C T A G C A A T C T A G C G T A G A T T A G C G C C A T C A G T A T C A G A C G T T G C A T A C A A C A A T A A A C G C A C C C A C C T T A C A A T A A C T G A C T A T A C A G A T A T T A C C C C T A T C C C T T A T C A C A T C C G A C G C A A C A A T G\n",
            "1 1 T A C T G T G A A A G A T A A G G A A T G G G C A T T C A T G A C C C A T G A A A T C G G T C G A G C G C C C A G A T A A G C A A T A G C T T A A C C G C T T G T G C T A G C G T G G C C T A G A A G G C T C T C G T C A A T T C T C C C G C T A T T T A A A G C A A A T G A T A C G G G G C T G C G G A T T T C T A C C C A C A A C A G A T T A C T G A T C G T A C T T C T A C A A T A T A T C T T T C C A A\n",
            "3 3 A G C A T T G C C T C G C C G G T C A C A G G G A G T C C A T T A G T A A T T G G G A A A T C G C T T G A G A T G A C T T T C T T T T A C A C T T A A C A G A T G G T G G T A A A T G T C A C A G G G T G A T A A G A T A A C T C G A C A G A T G G C T T A T A G G G T T C A A A C C T G C A T A A A T G G T G A G A A C T T T C C G T T T T A C A A T C C G T C C C A C T T C G G C C C G T T T G A C T G T C\n",
            "1 1 A C C G C T C T A G T A A G G A G A T T A G G G G T G T T C C T G A G G A A T A C T A A A A G C A A C T C T T A G T C C T A C T G C T C A A A A G T G A A G C T G A C G T T G A T T T T T A G G C T C T G C G C A G T A T T G T T G C C T C C G T A C A A T C T A C A C A C C T G A T A C C G C G C A A C G A T A A G C A T A G A G T C C A G T G T G A G C C T T G G G C T A A G G T C C G C T A G A C G C G A\n",
            "3 3 A G C C A A T T G T G G A G G C C T T T C T A G A C A G A T C C C T G G A T G A G A C G T A C A G G T G T T G T T G C A G A T A A G C C T G G C A G C G T A G G T C G C T A C A A A A T G A G A A T T A T A G A A G T G A C G A G A G G A A T C A G T C G A G C C T T C A C T C C C T G A A A G A G A A A G T T C T C G G T T C G A C C A T C T T T T A G T A C C A C C G A C G A C G T A A C C T C C A A A A A\n",
            "3 3 A C A T T C A A G C A C C T G C A T A A G G C A A A T C A G A T A A G A A A G C G G G T C C G A T T G C A G A T A A G A A C T G T T A A T T A G A A A C C A A C G A T A A G C A C A T T G C C C G C A G A A G C A C G C A A T T A T T G T A C A A G C T A A T C A G A C C A G A T G G T A C T C C C C T A A G A A G G G C C G C A C G C T C T C A T C C G A A A A A G A C G C A T A G A A T A T A T G C C A T T\n",
            "2 2 A T C T C C T A G C T A G T A T C T T G T C A G G T A G A T T G G C C T G T C G T G C A T C G T T C A G C A C T A T G A A C C T T G C A A C A T G G G T C G C T A T C A G T A C A G C G T T A T T T T A T T A C A T A G C T A C A A A T G C A A G A T A T A T A C G A A C A G A T G G T A C G G T C G T A A T T G G G G T G A T T C T C T A G C T C A T G G A T A C G A C T T T C T C G C G T G G G C C G A C T\n",
            "3 3 T G T C T C G G A T A A A T A A T G G T T T G C A T T T A G A C G T A A T C G G A C G C C T A T T C C C T A G C T A G T G C C G A T C C T A T T C T A C T T G T T G A C A G A T A A G A G G A G G C G G G C T T G A A T T T A T T A G A G A T A A G C A A C A T G G G A G A A A A G A C G G T G A T C T A T C C G T T T T G T A C A G A T G T T G A T C A C T G C A C C C T A T A A A C A G G T G G T T T C A G\n",
            "1 1 C C G A G A T G C C C G T T C C A T T T A T A T T A C T C A T T T G T T T A A T C T G C G T A A C T C T G C T A G A A G G G C G T T G G A A G A G A C A T G A T G G A A G A T A A G C G C T T T A C T A A A C A G A T A A G A A A G G A A T A A A G T G A T T G G T A T T A A A A T A C C T A T A C T A T G C T T C C T T C T A C C T A G G C A G G G A A T C C C T A A T C C C C G T C C T T T T G C G T T C G\n",
            "0 0 A T T C T C G T A G G C G C C G A A A C A A G A C C A G A G T C T C T C C T G G T C G G G A T G T C T C A C A A T C G T C G A A T C G A A G G G C A A T A A T G G T G C T T T A C A G C T C T A T G A G G T T T C T A G G C T C T A A C A T G A T G G A T G T G C A A T A C T T C T T C C C A T A T C A C G T A G T T G C T C C A G C T C C A A T C T T T C T C T C T C A G C T C G T G T C G A G A T A T C A C\n",
            "3 3 A C C T A A G G A C C C A A A G A G T T G T T A A C C G G C G A T A C T T T A T G G T A T C A G A T G T C C C C A G A G T T C C T C C A G G A G A T A A G G G C G C G C A C C G T A C G T A T C C G A G C A G A T G T T C T T C A A A A A C C C A G C A A T A T T G T C A G G G A G G C A A C A G A T G G C C G C T G T T C A G A C A T A G C G C A T T A C T C A C C A C T G A T A A G G A G T G C T C G T G A\n",
            "0 0 A A T G T C T G A T C C A T A G G G A A G A C C T G A G C A T T T T A A T G G G T A G T A C G T T G C C C A T T G C A G A A G A A A G G A T C T A A G C A T A A T G A A T A A C C A G G G T T G G G A T A C T T T C A G T C T G A C C C A A G G G C A A T T A T T A C A T G C T G C C C A T C C A C C C C G T G T A G A G C G C T C C A C A A G A G C T C T A T G A C T C C A C T T T G T A A T A A T C A A T G\n",
            "2 2 A A A C A T G G T G T A G G G G C T C A T T T C T A A T A T C C C T G A C T A C G T A C C C C C A T C C T A A C T G G C C T G C A C A T A T G T A A C A G A T G T T T G G G C C T C G G T G T T C C G A T T A G T A A G G C T A C A T T G G C C T A G A C T C T A T A G C C T T A C G T A G T T T A G G A T C G G A C G A C T C G T G G A C T A T T A T C T C G A T T C A T A T G C G C A C G T G G A G G A T T\n",
            "1 1 T G T G G C A G A T A A G C T C A G G C C C T A T T C A A G A T G A G G C G C C T G A A C C T A T A A C C T A C A T C A A T A G A G C G G T G A C C C T A C A C G G T G T C T T A C G T T A G T A C C C C A T C C A T T A G G T A G A T A C T A A A T C A G C G G G T T C G A T T T C C G T T T C T A T C A G A C G G A C A T T C A C A A G C T T G A A A A A A T A A T A T C T T T A C T C T A C T T T A A A A\n",
            "2 2 A C G G A T T A T C A C A T A C A T A G T T C A A T A G A G G G A C A T T A G T A G A G C A A C T A C T A C T G T C A C A A T T C T A A A T G T C C C G T A A T G C G C A C A C A A C A G A A C A G A T G G T C A A C G C C C A G C C C T G G T T T A G A C C T C G G C T G T T A C C C T T A C C G C C C C A A T T T T C G A T G G C C G G C C G A G T C A T C C G A A A A G T G C C C G C T T A G C C C A A C\n",
            "0 0 T A A C C G C T T G G T C G G T G G G T T A A G T A G G G A C T C A G G G T A G A C C A C C C G A A A C G C T T G A C G A A C C A G T T A A C C T T T C A T A A T A G T C T T C G G T G C T T C G C A A T T G T G A C G T A A G A C G G A G C T C T A T G A T C G A A T G G C C G G A A A A T T T C C A G G A C T C A T C G C G T A T C A C C A A C C G A T A G G A T C T G C T G A A C G T C A T C A A G G A C\n",
            "0 0 C A C C G G C C A A A T A A A A G C A A A T C A G G T T T G C T A T T C A A T G G C T G G G C C G G A G G C A A A G A T T T T G T T A G T G C T T C A G A A A G G G A C C A A G A T A C A G C A G A C A G T G C T C C T T T A C C T C G G A C T G T A A C C G C A A A C G A A A G T T A G T A T A C G C C A A A C T C G A A T A A G C G A T T A C T T C C A T T A T T T C G T C T G C C G A C G T C T C T C T G\n",
            "0 0 A A G A A T A C T T T G A A G G C G G A A C G T A C C C C C T T T C C C T C T G C A A T G T G T A T A C T T C C A G G A A T G T A G T G A T A T A G C T C T C C T T G T G C C C G A A A G G C C G G G A C G A G A A A C A G T C A A A T A G A T A G G A G A G C T G A A A A A G G G T C C G T A A C A G A T C T G T T G A A T A G G C T C A G A C C A C T G C G A C A T C T A T C T A C T T A A A A A C C A C T\n",
            "0 0 A T C T G T T A T C A C C A C C C C A G C C G A C T A A T T G A C T T T C C C T A T G G T T G G T C T A T G A C T A T G G A C T C T C T A T G T T A C A T G T T G T C A G G T G T G T A C C C T C A A T T G A C G T G A A A A C A A T G A G A C T G C G G T T T C A C G A T C G G T A A C T A C T T G T C G A A T G T T C G T G C G C G A A T T A A A A C T A A A A C G G A T T G T T A G C G G C G A C C C T T\n",
            "0 0 C T A T C T T A G C T G G C A A A T G A C T G T G G A C C C G C T C T T A C G C G C G A T G A T A C G T T T A C A T T T C T C G A G T T T A C G G T T G A T G A C T C T C T G A G C A C T G T T C T C G G C C G C A T G G C T A A C T G T C A G T T T T C T T G C C G C A C G G C A G T T A T G G T G A G G T G G C G G T C G G G T T G A T C G T G G T T T A G A C A T A C T G C A T C G T T A T C C C T T G C\n",
            "2 2 G T C C G G G T C A C A G A T A C G A C A A C A A T C G C G T T C A G A A T G C G G C G T T G G A G G A T C G T T T T A T T A C C G C C A T G C C T A C T C G C C A C C C C T T G C G C A T T G A T A G T G A A A C A G C G T C A T G T A A T A C A G T G A T T C C C A A G A A A A A G G T G T C A T A A A A C A T T A A G T C A C A G A T G G T T C T T C A T A T A C C A G A T G G C G C G A A G G T C C T G\n",
            "2 2 A G T G C A G C G G A A C A G A T G T A A A G A A T C T C T A G A T A A T T T A A T A G T T G G T T G T G T G A C C T C G A G A G A C G A T T G T C G C G T T T T A T A A T G T T T A C C T G C A C T T G T T C T G A T G T C G T T T T C G A A T G G C G G T A C T T C G A A A T T A A A A A A A A G G A T C A A A C A C C T T G C G G T G G C A G T A C C A A T G T C C C G T C T T T T A T T T T T A T G C C\n",
            "0 0 A C G A T A A A G T C C T C A T A T C C G T C C G A A A C C A A A G A G C T C G C T C C C T A T A T T T T G A A A A G T T C C A G A T T A T A T A T T A A A G A T G T C T C A T A T C G T T C A C C T C T A G A A A C C G T A C C A C G C A T A C A T G C T G T A A T C C A C A G T G T A G A G A T T G A A C G A T T C A C T A A G G A A T T T C T C G A T G A C C A A T C C T C G A C A C C T T C A C A A C T\n",
            "2 2 C G G C T T A A C A G A T G G T C A C T T T C C A T T C C A G C G C A G G A C C C G A G C T C C T G C C G T G A G A T T T G A C G T A C C C G T T G T T C T C C T C T C G C A A T C G A A T G C G A C A G A T G G C G T G C C C G A C G C A A G A A T T A T G C G T C C T A A T A T G A A A A C T C A G G C G C T G T A A C C C C G G G A A T C T C C C T C T T C G C A G C A A G G A A A A T A A A T A A C G G\n",
            "0 0 C T T T C G C T G C A A T A A G G C T A T A T T C T T A G G G G T A C G T G T A T G G T C C T C G C T G G A T T C A T T C T T G T A C G T T A A C A A T C G A T T C A C A C T A A C G T A G A A G A T A T A A C T G C T A T A T G G T A A T C A C A A C A A T T G C A C A A T A A C T T G C T G A T G G A C T G C C T A T C T A C C G T A G C A A T A A T C C G T G T G C A T A C A T A C T C T G T T G T T T T\n",
            "2 2 C T A T C A A C G T T A T A C A C G T A T G A G G G C G T G A A C A G A T G G T T A C A T A G C C A G A A T A C A C T G T T A G T A A C T A G T A T T A T G G T A T A C T G G A G A C G A A G T C T C G G T A T C G C G G A G T G G A A T T G C C A C T A T A G T T C G A C C A G A T G G T T G C C G C A A G A T T T G T G A G G C T A A C C G T G T A T T C A G A C G C G A C A G A A T T T A T A T G C C T G\n",
            "1 1 A T A G C C A A C C T A C C C T C G A G G C A C A T A C A G C T A A G A T A A G C C G C G A G T C C T A T C T A C G T G C A A G A T C T C A G A A C A G T G A A G A A T C T T T G T T G A C A A T C G T G A G T G C A G T C G T T T A A G A T G G G T C T T G G G C T T C G A A T T A T T T C G T C A T T C T A G T T A T G T G C T A A C T T T T T G G T C T G G G C A T T G A C C G T A C A G G C A A A T G G\n",
            "3 3 A A A G T C C G T C T A A A C A G A T G G T A C T A T G G G T G T C G A T T G A T A A A T C A T C C G T A C G C C C A A C G T A A G C G G T G T T C C A G A T G G C C T T G C G C C A A T T C G T A T C T T A A C A G A T G T T C G G A T C T T A G A G A T A A G G C T G T C T G A G G C C A A G T T C A T T T A C G C A T G C C A A A G G A T G A C T T T G T C G G G T A C G T A T C T G G C C G C G C T C A\n",
            "0 0 T T A T T A C A C T C A A T A A C A G A A A G T G T G T C A C A G G A A G T T G G C C C C A A C T G A A C T T A G C T C C G A G C A G A T T C A A C A A C G C A T T T G C G A T A A A C T T A T G A A T A T G T C A C G T T T C G A T T G A A T A A G T T A G C A G G C G C A A C A C G A A T A T A G G T C C T T G A T C A T A C A C A G G T T T A G A C T G T G C T G G C A T T T G C A G C T G T C C A C T G\n",
            "2 2 A G A C C G A G A G C C G A A C C G T T T G C C A G G A C C A C C C G G G C G T G A G G G G A G C A C T G C A A T G G A T A C G A T G C A G A A A G T T C T C T T T T T A A A T A G G C T G C A C A G A T G G C C G A G G T G A T C C T T A T A T T A G A T A G T C C T C T A T C A G A T G G T C A T T T A A C C A A C G G T A A C A G G C G A G A T G A A G T A G G C G C G A A C A G A T G G T G G G G A C C\n",
            "1 1 A G T C C T A T T A C T T T T A G A T C A A A T A A C C C A G G C T C A G A T A A G C A G C G G A A A G T T T A C C A C C T G G A C C G A T A A G A C A T T T A A T A C G A T G G T T C A T T T G T A G C A A C T G A C A A T A T G A A A T G T C A A T G C A T T A C T C A A A A T T C A G G G T C G A C C A T G G T C G T A G T A A T A A T G A C A C C C G A G G C T A T T T A T T A A G G T A G C C T A T G\n",
            "2 2 A C A A T T G G C C A A A T T C T C A T G T G G G T A G C C C C G A T G C G C G T C G A A C C G C A T A A C T A A T A G G G G T T G A T G G A T T T G T A T A G T A A T A A T T C G C C T G A T T T A T C T C T C A A C A G A T G T T T A G C C G C G C G G C T G T A G A T G T G G G C T C T G G C A C T A A A T A A C A G G T G T T T T A T A C A A C G T C T G C G G T G T T T C A A T C A G C T C C G G T T\n",
            "1 1 G T C A G C A G C T T C A A G T T G A T T G A G T G G T A T C G C A C T T G T G A T A A G G T G A G T A T G T G T C T G T C G T C A A T A C T G A T A A G C A T A G C G G C A C T G T T G A T G C C G T C C C T T T T A C T C C C G A C T G A T C G A C C G A C A T T G G A A G A C A A G A T A A G A A C A A A G C A G G C A A T T G G T C C G C A C A A G G C A A C A A C G A A T A C C A A T A A T C A C C A\n",
            "3 3 G A C C A A G C T A T C G G A G A T A A G G A A T A G T A G A A C C T C A C G A T A A G G C G T C G G C A T T G A G A A A G T G T C G A C G C G G G A A T A A A A T G A A C A G A T G G T G G C C C C T C A C A C G C G A G A T C G C C A G C G G G A C G C G C G G A T A C G C A G G A T A A A A G A T A A G C T A A C A T T T A T T C G A T C T T T T T C C C G A C C A G G T G T T C A T C A G A A C G T A G\n",
            "2 3 T G T G G T T A A T T A T C T C A G A A A G A T T A C A A C T A A T T A G A C C C T A C A G A T G G G G A G A C G T G G A C A C C A G A G A C A G G T G G T T C T G G T T G T C A A C T C C A C G T T C T A A T C C T T G G C T C T T T A A A A A T A T G G A G A A C A G C T T C T A A G T T T G A A A C C C G C T A A A T T T A C A A C A G A T G G T A G C A C T A A C C A A G A T A A G G A T G T G G G C A\n",
            "0 0 C A C T A C T T T G C A T A A C A G A C G A C G G A A C T A T G C C A T G C C G A T G T A T T T A C A A G A G A T G C A C G T T A C G A G A A G T G C A A T G C T G T A T A A G C T T T A A C T G A A T A A A A G C A T C A A G G C T T T T C T T C A T G A T C T T T G C A A A C C A T G C C A T A G G T A T A T C T A C T G A C A T C T T A A G T G C G G T A G A A T G T A G A G T T A C T T T T T G C T C T\n",
            "3 3 C T C A A A A T C T C G A G A T C T A G T G C A T C A C A G C A C C T C C T A G G A T A G A T T A T C A G A T T A C T C G A A C A G T T C G T C A G A C T A C C C A A G T T G C A A C G T C A C C G T A A C G A G T C A T C G C G C A T T G T G C C C G T T A A G G C G G T A A T C A T A G G G T A G C G A A G A T A A G G C C T T T T C G A C T A T G C C A A G G C G T C G A T C T C A C A G A T G T T T A C\n",
            "0 0 G G A A T A A A T T T C T T T A C C C A T G T A G G T G A C T T A T A C C C G C C T T A C C T G C C C A G A T T C C A G A A C C C A G T C G C C A C T A T A G G G T C C A T A G A G C C G A G A C G G T G C A C G G A G T C A T A T G C A C A G T G A C A A T G A T A T T C T T G C C A T C T T T T T T A A T A T C T A C A T A T C G C C A C T T C G G G G G A G T T C C G T G G A G G A G C G A C G C C C A A\n",
            "3 3 C C C T C T G G T T A G A A A C A T A T A T T A A G T C T G A T G C T G T C G C A G A A C A T A T T A A G G C A G A T T A G A T T A C C C A A C A T G C T A A A C C A T C A A G C T T C A A T T A C C G A C T G A A A T C C T G A C A G G T G G T C G T A G T A G T C C C T A G T G A C C A G G T G G T T C G A C A C C A C C G T A G C C C C C T G C G C T G C G T A C A G A T G G T C A C A T T T C T A A T G\n",
            "3 3 C T C T T A T A T A G A A C C A G T A G C G C A C C A G A T G G T T C G A C C C G A T G G T T T C C T G A T A A G G T C A G G C A G A A C T T T A T T T C T G A T A T T T G C C C T G C C T A T A A T C G T A C A C G A G A T A A G G T T G T C A A C C T C A T G A A A G A T C A G A C G A C T T T C G A A G C C A A T G G C A G A G A G A T A A G G G C T T T T T A G C A C G A C T C T C C G C G A T A C G G\n",
            "2 2 T T C T C G G C G A G C A G A T G G C A T T G C C G T C C A C T C G T G C T T T A T T C C A C C G C G T A A T T C G G C T G G C A T G T C A T T C A G T G A C C A G G T G G T C T G T C A A G T T A A G A A G C A C G A C T A T C G T T G G T G A A T A T T A A A T G C A A G C C C A C A A C T T T T T T G T C A G G T G G T A C C G C T A T G C C G T A G G T T A C G G C C T G A T G C T G G G G G C T C T T\n",
            "3 3 T C A C T G A T T T A A G C T A C C G A G G G G G G C A G A T A A G A G C C C A C T A T G C A T T C G A A A C G A A C A G G T G T T C G C T T G T T A G G G T T G A A T C C C C A A C A G A T G T T A T G C T G T C A T A C G T T T A T C C C C C A G A T A A G G T G G C A A C A G A T T A G C A C C C T A C G C C T T C C G A T C C A A G A T G C A C G A C A T T C A T C C A C A A C T C T T T G C A A A A A\n",
            "0 0 A G C T C G G C G T A T G C C T G C T A A T G T T A G G T T C C A C C A G C A T C C A T C T C G C A T G A T A T A C G T T G T T T T C T C A A C T A A A C T C T C A C C A A A T C T T T A A T A C T T C C A C A A T C G G T A T C C T T G T C T T C C A G C G T C A A T G C C C G G C G G G A A A C C G C A C G G C A G C T A T T A A C T C C C G G C G T G A G C T G G T A C A C G G T C A G A T C T C T C A T\n",
            "3 3 A G T A T A C G T T G A T G G A G A T A A G G T T C A A T C C G T T T T A A A C A G G A T A T C G T C C T T T A C G C T A C T T G G A A G G A T C T C A A G A C T A G G A T G G T C C A A C A G A T G G C A T A T C A C A A T A G A C C A G A G G T A G A T T A A A C C G T C A A G A G C A T G G C A G A T A A G C C A A G G A C A G A G A C G T G C G G G C C G A C G G C C A T C G A T G C G T A T G A C G A\n",
            "3 3 C T C G T C G T A G A T T A G T A G G A A G A T A A G C T T T G G C A A C T C T G G C T T G G A T G A A T C C T A C C A C T T T A C T A A T C C G G A A G A A C C A A G T C A T G G G C A A C C C T T A C G G C G T A T A T C C G T C A C G G T T T A G G A C G G C T G T T G A A C G A G T A T T A C C A G A T G C T C C G A C C G A G A T A A G G A T G A G A T A A G G C G T T G C A C A A C T A G T C C A G\n",
            "0 0 C C C A C A A C G T T G G T G T A C A A C T A T A T T T C T A C T A G A T A C C T C G T A C A C A A G G C C T A T T G A A A A T G A A A T A G G T A G C T A G A A T A A A T A C A G G G A T C A A A C T A T G C C G T A C T C G T A T A T G G C C G T T C T G C T A C C G G T G G T G T T T C C G C A C A A T A T A A G G A C T C A G T C A G A A C T G C T T C T T T A T C G C T G A C C G C T C G C C A C A T\n",
            "3 3 A G G T G A T G C G A C C T T C A G G T A A A G T G G T C A G G C A A G A T C G T T T T A G G G C A T G A G T G A A T C C T C T T C T C G G C T A T G A T C T C G C C C A G A T G G T C T T G T T T C A T A T C C G C A C A A C A G A A A T A T A A A G A A T A C C A T G T A A T T G T A T A C A G C A A A T T G T C A A C A G G T G G T C T G T C T A G G C C A G A T A A G G T C T C T G A A C T A G T T G T\n",
            "1 1 A C T A C T T T T A C T A A C G T T A A G C G G A T G T C T A C T G G T A G C G C T G T G G T G A G A C T T A G G A G A G A T A A G C T A C A C T C C G T G C G A A C G A C T C A C T C T C G G T G T A C A A G G A T C T G T A A C C C A C C C A C C T C A C T C A C T C A G A C A C A T G T T A C T G A T A G G C G A G C T T A A C T C A G C C G C G A G G C T C C T T G A T T G A A A T C G T T C G A T G T\n",
            "2 3 C T A C G A C T C G T C T A T C G A T T A A A T T C G T C A C G A G T T A A C A C G C T C T A T G C T T G C G T A G C A G A T G G T G C C A T A A C T T G A A A C G T G A C C A T C A T A T T A C C C G T C C A A G G G T A A C T T G G G C T G A A C T C C T T G T G G T A A A C T A G A C A C A G A T A A G C C C C T A T C A T A G A T A C G C C A A A T C G T A A A A C G T T C G G C A C G T C C A C A G T\n",
            "3 1 A A A A C A T T G A C A G G T G G T T T C A C C G C T A C T G T T G T T T C C C C C C C A C G A C T A C T G T G T A T A A G A T G T T T A A A C T T T T T A T G T T G T T A A T A A C C G C G A A C T A C G C A T C G A C A A T C T T A T A G G C C A A T T A A A T C T A G T G G C T G A G A T C A C A C C T T A C A A G C T A G G C T C G G C T G A T A A G A C C A A C A T T G A T A A G C G T G C A T A T A\n",
            "3 3 C G C A G T T A G G T C A A C C T C A G A T A T C T C C G G A A A C G G A C A G A T G T T C T G A C T A G C G G T G A T T G A T G A T A A C C C A A A C C A G A A G A A G C G A T A C C G C C T A C G T A G A T G G A A C C T A G C C T A T A G C A T C G A G C A C C A G A G A T A A G A A G C C A G C C C A G T G A T A C G T A G C C A G A T G T C G T A A C T T G T C T T C C T A G G G A G A T T T C C G G\n",
            "2 3 G G T A C A A C G A C T A G T A C G C T G C T G T T T A G A A C A G G T G G T C C G A C C C T C G G C A G G A T A T G C T C A G C A A C A G A T T A G A A C T T A C C A T A C C C T C G T G G C G A G T G A T C G C G T G C A A C A C A A A G G C T T G T C A G A C C T T T C T C G A C T A G C T C T T G T C T G T A C A G A T G G C A A G A T A G C A C A C G A A C T G C C T G A C G T A T A A C A A C T G C\n",
            "2 2 G G T T C C G C T T A G A C T T A C T T A T A G C A A C A G A T G G T T G A T A A C G C T A G G T G A C C A T A C T C A C C T A C A C G A C T A G C C A C G C A G A A T C C A G C T G A C C A G A T G T T A G C A A C A G T A A C G G A G C A C A G A T G G T G A G G A C C T T T A A G A C C T A A A A A T A A C A C G T T C C G T C C T G C T T C T T A T C C G G T G A G G C C G A C C G G T G A T T C A T T\n",
            "1 1 T T C T G A T G A T A A G C A C T T C C A G G A C T C G C A C A C G G A T C C T T T T G G A C G T A A G G T C C A C T A C A C C T G C G G T A A C T T C C A G T A G C G T G G G A A G A T A A G G T A G C T A A G T G C C C A C A C C A C A C C C A G C G T G A A G T T A C A G C T G T A C G G T A C C A T T C G G C C A A G A T A A G G G G A G G T G A G A A A A T A C G T C C A T C C C A C A C G T G T C T\n",
            "2 2 T T G C G C A T G C G A A C A T T T T C T T G A G G A G A A T C A G C G T T C C A G G A G G A G A C G C A A A T C A A T G T T T G C T G C A A T T A T G G T A G C A A T G C G C T G T T A G A T T A C A G A T G G T C G A A T G A G G C T T A C C A A G G A A C A G A T G C T C G A G T C T G C T C A C T G T T G A C T A T C C C C T A A A T C T C C G G G T T T T A G T A A C A G A G A T G A A T A G A T T T\n",
            "0 0 C T A T G T G C G A G G A T C A G G C G G G C G G T G G A C T T C G C A G C T T A A A T C A C C T C G G C T A G T A T A G A G G C A C C G G T C G G G C G G T A A T G G G T G T T G A A A T T T A G C A C C G G A C C T T T A T C T T A T T T T A C A T A A G A A G C G G A G A G C G T G C A T C T A A G T G A A A A A G C A A T G A C A C C C C T C C C T G G C T A C T C A A C G C C A T C G T A A G A G C T\n",
            "3 0 G G T G T T T T A T C A A A A T A G T C T A C A G C T G T T C A G G C G G C A A A T T T G A T T T A G G A T A C A G T C T C G C G C T G G G G T A C A C G G C T A A C C C A C T A T C G C T T T A C T C A T A G A C A A T T T T G T G T A G T G G T G T G T C A T C T G A T A A C G T A T A C C C T T T C T A C G G A G C G G T T C T A A T T C C T T T T A A A T A C T T A T T G G G G C G A A T C G T G T C A\n",
            "2 2 C A T T G T G C G A T A G A G A C A T G A C T C T T C A T G A A G T A C T A T A C A A A G T A T A T A A T G T A A A T G G G A A C A G A T G G T T A C A T A T C T G A A T A T A A G C C C G C C C T G T A C A A T G A G A G T G T T G T G C C C A T G C G C T A C C A T A C C C T A A A A C C A T T A T G A C C A G A A A T T T A G A C G G C A T C G C C A G T C C A G T A C T C G T A C A A A C A A C A T T T\n",
            "0 0 G T T C A A C G A T T C G G G C G A G A G T T G A T T G A A C A G C G A C T A T T C A C A G G T T G C A G T C G A A C A A T C A T A C T T C T G A G T G A C G T T A G A G G T C T T C T T C G A A G C G T C T A T G A A T G A T T A G T A A T A A G A T G G G C C G C T T C G G A G C A T A A C C A G T T C T A A G A C C G G G C G A C A A G C T G G A A G C A T T G C A T C T T G T G T T T G G T G A T T A T\n",
            "3 3 G C T G T G G C C A A T G A A C A G A T G G T C A G G T G C A A C A A A G C A C A G A T A A G G G A C C T G G T T T C C C A T T T C A C A G T G G A C T C A G G C G A T A A C G A A G A G T G G T A T A T G T G T G A G A T G T C G C T C C A T C T T T C T G C T A A C A C G G G C T C A C C G A C C A G A T G G T C T G T A A A G T C A A T C G A A C G A A G A T T A G G T C C C A C C T A C T C A C C T T T\n",
            "3 3 T A C C A C T G A C G A T C C G G T G A C A A A A G A A T A G A A G G C C T C A A C C G C C G C G A A C C T A T G C G A A C A G G T G G T T A T T G T C G A C G A T C T T T C T C C A G A T G G T G A A A A G C A A G C A A A G G T G G A T G G C A T G T A T T C C G G G T A A A C A A G C T G C C A A A C T T A C A C T G G C C G C C A C A G T T G T C A G G G G A G A T A A G C G T G C T T G G A T G T G C\n",
            "2 2 T A A C T T G A C T G T T G G A A A A C G C A A T G A G C C T T A C T G G A C A G T C T T C C G A T A T C C G C T A T A T A G G T C C A G A T G T T A C T G A C A T T T C A T T G A T C T G C G C G A A A A G C A G G A G A A A C A A A A T C G A G A T T G C C G G C C A C C T G A A T C T A C T C C T T T G G C G T T T C C G T A G T A T C T G G A T A A A G C C C C T T T T A G G A C G T A A C A C A A A T\n",
            "2 2 T C C T T G G A A C T G C A G C G T T A C C T T A C T T T T A T C G A A G C T G T T G C G G A T C A G A T G G C G G G C T G C G A T G A T C G C A C G C C C C A A C A G T T G G T A C A T A G T C T C A T T G A A T T T A T A T A G G G T C C T T G T C G C T T C G C T C T A A A T A G C A G T A T C A A T G G A G T A T G C A T T G A A C A G G T G G T G T A G T G A A A T T G T T A T G T G A G G C T C C G\n",
            "0 0 G C C T A G A C C G A C C G C A C G T A A C A G G C C T G C A T A T A T T G T G A G A T T T T C A A A A G A G G C G A G C C T T A A T C T T G G A A T A A G T G G G A A C A A C A T G G T G A A G A A C G G A T C A A C G A C A T A T A C G A T C T G C C G C C T T T C T T G A A G G G C C G C A T G G C C C A T A G A C G T A G T C T C A A A T T A C T G G C T A T G G A A T G G A C T A G T G T G T G A T A\n",
            "2 3 C T C T A A G A T A T A A A A A C T G G T A G G G T A T T G T C A C T G C A C G T A T C T G G C T T T C G A A C C T G A C C A A T A A C A C C C C C G A A G C G C A G T C C T G A A A G A A A T G G G C C G A C A A C A C T C G T T C G A T T T C C G C T T A G A C C C A C G A T T A G A A A A T C C A T G A T C G A A T C G C T G A C T C T G C G G T T G G A C C A G A T G G T T C A G G G C T C C T T G A T\n",
            "0 0 T T C A T A A C C A T C G C C C G C T A G G C A T A T G A A G A T T C A A T T T C C A A A C A T T C T T G T T C A C C C T C T G C T C C A A G A T A T T G C A C A A T G G A A G G A A T C G G C C A A T A T C A T A T C A A T A G C A T T A A T C G C C T A T A C T A A T A G C A T A A T A A T A G G T G T A T C T G C T T A T C T G T T A C A T A T C A G T G C T T T C A G T G C C A T C A T C C C G C A A T\n",
            "2 2 G C C G C C C T T A A T A A A A T T G G T A G C G A G T A C C A C A G T G A C C A G A T G G C G C T C A G T C C A A T A A T G C C G A C G G A C G T C T G T A A T G T C C A T C C G T A C G G G T A A A G C C T A G C T A A C C C C T C G G T T G A A G A T T T G G G T C C A G T A G A G G A A A T A T A A G A C A G G G G T C T A C T C T C C A C T T A T G A C C C G T T G G A T T C T C T A A T A C A C G C\n",
            "0 0 A G T A G C T T T G A T C T G A G A A T A A A T C A T T A T A T A A A C G A T A G T T T T C T G A A G A T A T G A T G C A C A T C T T C C A T G G A A A G C C C C T C C T G T C G T G T A A T T T A C T T C T C C T C G T C T C C T T T C A G T T G T T C A G T G G T A A G G T T A A T G C A C T G G C G G C A A A T T T T C A A T C G C T G A G T G T T C C G T C A G T G G G C A T T G T A T G A C A T A A A\n",
            "2 2 C T G T G G C T A T T C C G C C T T A G G G C C G C A C T C A T G A A A G G C G G T T G T C C G A T T A G T T C C C C G G C T G A C T C A T G A C A G A C T T G C C C A G A A T T T T G T A A C A A C C C A G C A T C G A C T G G C T G G A T C A G G T G T T A G G A C C T C C A C A T T A C G T A G A C A T G T C A A C A G A T G G T T A C T A T C G A A T A C C G G G C C T T G A T T T A A T A G T G G C C\n",
            "3 1 G T T T G A T T T C C C A C G T A T T A G C A A G T C T T A T C C G G T T A T A G C T T T A T C T A T C T T A T A G T G C A G A T G G A T T G C C C G C A G T C T C T G C G C T C T A C T A G T A A G G T T C C T A T T T G A G A T A A C T G C G C T G T T C T G T T C A A A C G A C C T T C G G G A A C A T T G C C A C G T T G A T A A G G G A T T A G T T T C A T A A A G G T C G T C C C A A C A A T T G G\n",
            "3 3 T G A G G T A G A A A A C T C T C T T T G A A A C G A G G T G T G C T G C A G T C G T A A G A T A T G A G A G A T A A G C G C G T G C G T T G C C T G G G C A T A T C T C A C A A G G A C A A T G T A A G G T G A G A T A T T G G T A T A G T C T T C T A A G A A G G A A T T C G C T C G C T G T A A A A A G C A C C C G C C A G A T G G T C A C C T G G C T G C C T T G C A C C C T T G G A T G T C G G C T T\n",
            "3 3 T A C C G C T A A G G C A G T A A A G T G T A A G G C A T T G A C T G T C T A T C T G G C T G T T T C G G T T G G T A C C C C G C G A T T C A C T T G C T G T G G G A C C C G A G G T G A G A T T C G G G A T C G A A T T G G T C G C A A G T A C T T G T G T T G T G G C C G A C G G A T C T T G G G A C A G A T G A T C A G C C A T T G C G T C A C T C C T G A T A A G G G A A A C T T T A C A C C C C T G C\n",
            "1 1 A C A G A T A A G G A A T C G C T A T C A A T T G T G T T G T A T T G T C C C A T G G C A G A T A A G A T T T G C A T C G A C G T G A T C C G C T A C G A T C G G T G C T A T G C G G A C T A G G C G G T C T C C C A C A G G A G C G T A C C C G A A T A C T T C G G G C C A G C C A T G C T T C C A C C T A T A T T G T C A T C C A A T T C A T T A A T T G A A A T C A A T A T T T T A A C A G A T A A G G T\n",
            "1 1 A A G G C T C C C G A C A T T C A T C T A C A C A C G C T C C C T T C G C A G A T A A G G C A T A C A A G C T C G G T T G T T A T A C T G T G T T A G T A C C A C T A G G C T T T G A G T T T A G T G A T C T T A G A G A C C G G T T T C G A C T G A T A A G G T T A T T A T C A A C G T T A G T G G T T C T A A A T A G T T G C A A G A A A C G G G G T A A C A T G G G T T C T G A G A T A A G G G C G T G T\n",
            "2 2 T T T A A G A A G A T T T A G T T A G T A T A C T C G C C A G A T G G T G A G C C A C T T T T A G T T C G A G A A A G G C G T A C C C A T A A C T A T G G G T T A G G T A C G T A A A T G C C C A G A T G C T G T C A A T T A T C C C G A G T G A A T A A T C C T A G C A G A T G T T C A G T G A G G A G T T A A G A A C T G A T G G C G A T C T A T G G A C T G A G A G G C C C A G T C T A A C T C A T G G C\n",
            "2 2 T G A C A G A A C A A T A G G C C A C T T A A A T A T G T A A A C C A G G T G C T G T T T G A A A T C T A G G G A T A A A C A C G T G G C A T A A T G G C T G C T A A C A G A T G T T C A G A A T G T A A T G T A A C T T C A A C T C A C C C T T T G A A G T T T A T T T T A C A G C A C G C T A T C T G G T A C T G G C G C C G C C T A A T C A C A A T G T C T T A A A A T G A C A T C A C G T T C G C G T A\n",
            "2 2 T G A T T T G T C T T G T G A A C A G A T G G T T A T G A T T C A C G G T T A C C T T T T A C T G G G C T A G G T A A C C T C A G A C T G G G G C T A G C T C G T T G G T A T C G A A C G T A C T G T A C A T G T T G A G C C T A T A C G G A A A C G A T G C A C A A C T T G A G A T T G C C T T A G A T C T C T G G G G T T T T A G C C A A C A G A T G T T C T A T T A C G G T G A C T C G G C T C C G A G C\n",
            "2 2 A A T G C A T T T T A C C C A C A T G G A T A T C A T A T T C G G T C A A C A G A T G G T C G C A G T T C C A T C C T G T C A T T A C A T C A G C T T T C G A A C T G G G T A G G T G T T A C T G T C G G A T G T G T T G C C G A G C A C G C C T T G G T C T C G T G G T C T A C G G C A G A G C T C C G C T A A C A A A C A G A T G G T C G T T T T G G T C T T A G T T A C C C C G G A C A G A T G G T T G A\n",
            "3 3 A T A T C T G A C A A G T T C T T T G G A A A C A G A T G T T T C C A C T A A T A T G A G T G A G G T A A T C T T G A C A G A C C A G A T G T T C C A T A G T T C A C C G T A G A T C A A C G C A C C T C T G T A A T T T A G T T T G A A G A A T G A T A C G G G A C A G A T A A G G T T T A G C A A T T G A G T C A G A C A A T G T T C A C G T C T C C A T C A G G C T G A T A A G A T A A C A C C C C A A G\n",
            "1 1 G T T C C C C C A G G C G A G C C C A T C C T G G T G G C T G A A A G C G A T T T A A T T A C A T T A G C A C C T A G C A A C A T C G A C G G T A C A T G G T T T C T G C T G T C C A G A A G T A G G A T G A T A C T T C C T A T T G A A T A A T C A G A T T A G G T G C G G T T A T C C G T C T G C G T G G C C A T C C A T G T C C C A T T C C T T G C T A G A T G T T T G G C A A G A A A A C G A C A C G G\n",
            "3 3 T A C T T G G T A G A G A G C A C C G C A G C T A T G G G T T C A C C C G A G C G G A C A G A T G G T T A G A T A C A A A C C T T A T A A G T T A T T A G T G C T G A T A A G C G G C A T T T A A A A T G C A A C T C G G G T G T G G T G G A C A G A T G T T C C A A G C G A C T T A G T C C T G C G T C G G G G T T G G C T G C A G A T A A G G T T A A T C C A T T T G C T T C A C C T A A A C A T G T T A T\n",
            "2 2 A A C G G A A T T T G C C G G T C C A T C T A A C T T A T A C A G T A C A C T T T T T T C A C C A G A T G T T C T C G A A A T T C T A T G G T T T T G C T C A A A C A T C T T G A G G A C A A G C G A A T G A C T A T G A A G A T C T A T C T A C C T C G G G A A G G G T A T T T G G G C T C A G G C G C G A C C T G A G C A C A C G A C A G C A A C G C T G C G T C T C G C C T A G C G A C C T C C A A C T G\n",
            "2 2 A C T G A A T A G C A T C G C T T C A A T C A C C A A A T G G C C C G G C A T G T G T T C T T T A C T T C T T A A C A G A T G G T C G T C G G T T G A A C C A G G A T G T G T A T A A C A A C C C T T C G G T T A T A C G A T T A T T G G A G A T T A A A T A G C C C T A A C A A T A G T T A T A A A C T T G T G T A T G T G A C G T C T G T C T T A T G C C G A A C A G A T G T C C C C C T A C G T T C T C A\n",
            "3 3 T A A C C T C A A C A G T T G G C G A T C T C G A T G A G A T A A G A G G A G A G T G A G A T C C G T A T T A T T T C C G A A C T T G G C A G C T C C G C T C C A G A T T G G G A G C T A T G A A A C C C T A G G T T C G G A C A G A T G C T A G G T T A A C G A T G A T A A G C G C T T G G T G A A T A A C A G T A A G T G T A A G A T A A G A G A T T T A A T T T G C G C T T A G G T C C G A T T A G A T C\n",
            "1 1 A T G C T A G G A C T T G T G A C G T G C G T A A T C A A G G T G T C T C C A C T C T T A T A A C G G G T T T A G T A T C A C C A G G T A G T G A A C C T T T T A A C A A A G C G T A A A C C T T A G C A A C G T T T G C A A C C G T A C G T A C A G A T A A G C A A T G G G C T G A T A T A T G A A T C C A T A G C C T G A C C C G G A T C C T A T C T G A A A G A C G A C G T G T A C G T A C A A T T A G T\n",
            "0 0 C C A G A T A T A A T A C T C G T C C G C G A C A A G G G T A C T C A T T A G T G G C C G A A A C A C A T T G A A C G A A A T C A A T T G T G T A G A C T A G C G A G C G C A A A C T A G C G A T T G G T A T C G G T C G G T A C A A T T A A C T G A T G C G G T A A C A G C T T A G C T T C A C T G A A G T T C G C G T T C A G T C A T T C A C G C T G T G A T T C G G T C G T A T G G G G G C C T C A C A C\n",
            "3 3 C A C T T T C C G T A A A A T A C C A T C A G G A C A A T G C T C C G C G G C G A G A G A A C C T A C T T T G G C T T A G A T T A A G C A T C C A C T A T A A A C A G A T G T C A G T T A G A A G C G T A A C T C G A A T C A C T G G C T C A C A A A T T T G A C C C G A T G T C T A C A A T G T T G T A T T T G T T A C C A A A G G A G A T A A G G T T C T G A C A G T T T A C A C C A C T C C T C C G T G C\n",
            "3 3 G C T G G A G A A C A G A T G T C T A C T T C G A A C C G A A T A A A C A T A A T G A T T G G G C A A T G A G T A T G C C G G C A T A G G G T C G G G C G A C A A C C A A G T G A T G C G T G A T C A G A T A A G G G T C A G T T T G G G G A G A G G A C C A G A T G G C C T A A A A T T C C G G T A A T A A A A G C G G A C G C G A A G T G A A G A A G T T A T C C C G G C A C T A G T A G A A G C A T T G G\n",
            "0 0 C A C A A T A T T T A T T A T T C T C C G T T T A T A C G A A G G G G C A G A T T T A G C T C T C G A T G A G A G A C A A A T C C T A A A G T T A T C G G G G T G A C A C G C C G A G A G A C T A A G A G G C T T A C A A T A C A C G T C C T G G C C T C G G C C C T G C G G G G T T C G C T G A T T T A G C C G T T T A C G C G A T T T T T A T T A A C T C G C C A A C A A T A G C T A A T C G C A T C A A T\n",
            "1 1 A A T C T T G A A T G T A T G G T G T C G C C G C G C A T G C C C T T G G A G C A C A C A T C T T A A T T A C C T T G T T C C T G G C G C A A A A T T C T G A T A C A G C A C A G A T A A G C A C C G C A G T A A C T G A T A C A C A A C G T G G T C T A C T G G A G A T A A C G C A C C A A G T A C A C T A T T T A T A G G A T T T G C A C G G A T A A C A G G G C T G T A G G A G C T T G G T T A T T G A T\n",
            "1 1 A T A G T C C T A A G T A G G A C A T T T A G C G G T A G T A G G C C A A G A A A C T T C T C C G T C T G G T A A T G G G A T C C A G A G A T T A G G C G T T A G G G T A C C T A G A C C A A T A G T T C G A T T A A G A A C T G A G G C C T T C G G A C T G T A C T A T G A T A A T A A A T A T G T A G G G A C A T C A C A A C C G T G G T A T T A T T G C C C A A T T T A T A C C A T A A T T T A C C A A G\n",
            "1 0 C A A A G A A G G T C G A T T A T G A G G C G G T T T G A T A C A T C A A G A T C T T T T A T C T T G T G A T A T C G C G C G A G A G T T A A T C A A C C T G T A T C T C A C G A C G G T C C G G G A G A T A A C G G C G A C T G T G T C T C G A G A G T T T A G G A A G T A A G G G T G T C C C G A A C G C T C G G T A G T A A G T G A T G A A A T G T T A C G A G A T C G T T A T A A C C T T G A C C C T G\n",
            "1 1 A C G G G T T A G T T G T T C G T T A G T T T A C C A T T A A A C T G G G G C C C C T A A A C A A C A G C G A T A A G G C A C T A A G A T C T C C G C A G G T C C T G A T T G C T T C T C G C A G C T T C T A T C T A G A G A T G G T T A T G A T C G G A C T A C G G G A G T G G G C C A C A A G A T T A G C T A T T C A G G T A A C T G A A G A T A G C A A C A G A T A A G G C T T A T A G A A T A T A A C C\n",
            "2 2 T G C C C C T C G T G G T C A G G T A C C A A G C G A A C A G C A C C G G G T G G A C T A A T C C T C A T G A C T T A G A G A C G T G C T C G A C C C G C A A A T G A A G T G A A C T A G G A T T A A A C T C A C A G A G T C C T C T T A C G G C A G A T A C T A A G A A G T T G C G C C T G G A T T A T A C A G A T G G T T C A T T T A A T T A G C C C C A C C C C A T T C G T C T A G A T T G T C T C T A A\n",
            "0 0 A T A A C G G C A T C A C T T T C C A C T T C T G A A G T G C T G A G A A C A C T C T T T A A A A C T C A A G A G A G A T C T A T C T T A A T C A G G T G G A C G T C G A A G T G T G A T T T C T G A T A A T A C A T G G G A A A T A C G G T C G T G G G G G A A T T G T G T C A T G T T C G G T G A T T C T T C T T A T T G A T A G A A C T G C A G T A C C A T A G A C G C T A A C T G A G T G G C T C G A C\n",
            "3 3 A G A C T C A C C A G A T G G T T C A T T C G G G C G A C C C C A C A T C G A G G T G A T T A G C A T A A C A T G C G A C C G C G C T T G A A T C C G G C A C A G C G G A T G A T A A G G A A A T G C T A G G T G A T A A G G A A G G C C T T G C A G C A T G G C C A G A T G G T G C A T A A T A A G A G A T C A G G C C T T G A T C T C T C C T A A G C G G A C A G T T A T T C C G C G A T A A A T G G A G T\n",
            "3 3 A C A C A A G T C A C G A A A C C A A G C T A T G T T C A A G G C C C A T T C C C A G T T A A T A G C T T A A C A G G T G T T C A A C T T G T C C T G T G G C T C T A C G T T G T T C G G T A T T T G G T G A C C A T G C A A G A T A A G G T G A G A T A A G C A C C C C G G A C C A G A T G T T G A C T C C T T A T T A A A G C A C A G A T A A G C T C C G C A G C C G T C G T G C G A A T T T C G C G A C C\n",
            "1 1 A A A T C T A G T T A A C C T G A T T A G C A G C G T C T A A C T T G G C C C A T A T A A A G C G A T G T C A T G T T G G G T T C C T T A T C G A T A A A G A T A A G G G C T T A A A C A G T T T C A C C G C G A T T G G G G A A C C T C A G A A T C A T A C A A C T A G C G T G C G T T A A G C A G G T T C T G A A A T A G A G G C T C C G G A G G G G T C A C C C T G A T A A G G T C A A A C T A C G T G T\n",
            "1 1 T G T C A G T G T T A A T T T G C T C G C T G G C C G C A G A C A T A C C T A A G G G T G C T C C G T G A C T G C C C T G A A C A G T C T C G G C G G A A G T T C C C G T C C A T C A G G C A A T T T G C A C G G C A G A T A C G G A A C C T C G A C A G A C G A T T G T T A T T G G T C G C C T T C T C A A C G C A G A T A A G G A C C C C C A T A T C A G A T T A G C A A C A T C T T C T A G T G C T T T G\n",
            "2 2 A C G A T A A C C C T C T C T C G T G G C G C G G T A C T A C C T G C T C A C T G T A C G A A C G C G A C C A G A T G G T C G C T C G G A G C A A C G C C A C G T A T A A A T A T C T T T T A C C A G A T G G T C T A C T T A C A C T T T A C C C T G T C A T T A A A C A G C C C C T T A G A A C T A G G A G C C C A A C A T A C A G T T C G C G C T A T A T C A G C A A C A G A T G T T G C A C A C C C C A C\n",
            "0 0 T T C C G A A A G C A C T G G G A A A C A C C T T G A A C G T G C T T C T A T A C T A G A T G A G A C G C G C G G A G C A C A A A C C A T A G C C T T A G G A T T G G T C G T A C G G C G A A A A A A T T T A T C A T T A T T C T A T C T A A A G G A A A C G C C C C A T T G C A T G A T T A G T C C G C C G A A T G A T G C T G T T A T T G A A A A G G T T A C T A G A A A C A T G A C T T C A T C G T G A C\n",
            "0 0 C C T C G A C G G G G G A T G G C T A T C T C C A T A T G T G T A G G C A A A C A G T C G T A G A G A C G G G C T C T T C G A T T A A C T G G C G G A T C T T A G C T A C C A A T C G A G C A T G G G T A C T C T G A G A G C C C A C G A C G T T T G A A T G A G A C G C T G A A G T C C C G G C C C T A C T A A C T G A G T G C C C T A T G A A G T G C A A A C T A G A C C C T G G G T T G G T C T C C T A C\n",
            "1 0 T T G T A G T A A A C T G C T G T A A C C C T T A T T A C C A T T A G A G G G C G G A T T T T T G C A G C A A T T T T A G G C G G A A G T A T T T G A T T A G G C A A T G G T A C T C G G C A T T A A C T T A A A C C G T C T C C G G T C T G T T T G A A A A A T G T G C C T T G T A C A A G C T T A T T T C T T C A T G A G C C T A C C G T G T A G A G C T G G T A C T T G G C G T A A T G C A C G G G C A T\n",
            "2 2 T T G G T G T A C T G A A G C T T C G A A G G A C T T C T C C T T C C C T A G T C G C C T G T A G T A T T T T G G C T C C G C A C C C A G A C T G A C C A G A T G T T G G A A T A G C T A C C A G A T G G C C C G T G C T A A G T A T A A A T A T G T T G A C T G T A T T A G A A T G T G C G T A A A C A G T C G G G A A A A T A C G C C G C C G T T C A A A C G A T G A A T G G A C A C C A G A T G G T C G G\n",
            "1 1 C T T T T T G A A G T G C A A G A A A T A G T T T C C A G G T C G C A G A T A A G A A T T T A C C G A C T G C A G G T G T A C T T T T T A T C C T A C G G A G T A C C T A C C A C C G T A C T A T A G A A A G T C T C C A G T A C A G A T A A G G T G C A A T T C A G C C C A T A C G T G G C A A C A T T G T G T T A T G A G C G G A A A A C C G C C A A A A A A G A G G C A C A G G T G A A T G C T T A G G A\n",
            "2 2 A C G G C A A A C C C G G T T T G A G A A A G A A T G A C G G T G G A T G C C T T C G A A G A T A A T A A G C C T G C C A C T C T G T T G T A A G T C A G A A A G G T C T C A C G A G A T G T T C G A A C A G A T G G T C G T G G C G C T G G A C G T G T A T C A G T T A G C C T G T A T T G A C T C T G T A T T A T T T T A C G C A A C A A A G C G T C A A C A G G C T A C T C A G A T G G A T G T G G C C T\n",
            "3 3 C T T G A A A G T G A A G C A G A T A A G C A T G G A G T A A C G C T T T T G T A G T C T T T T G T T A T G T C A C G T A A A T T T G A C C A G A T G C T A A A T A G T T G A C A C T A G G G T C T A T G C G A T T A G A A T A G T A G A A T C A G A G G A G A T A A G C G T G C C A G A A A T A C A C C T T A G T C G C A C C G T T A G C G G T A C A C A C G T A A T A C C A C C C A G C G T A C T G A C C C\n",
            "2 2 A G A T T A G A C A A A C A C G C C T A A C A T A G T C G C T G G A T G C A T C T T G C A T A A C G T G G G T A C A A T A T C G G G G G T C T C T T C A A T A T T T C C G G T G T A C C A G A T G G T A C G C G G A T A G T C G G G T G G G G C T G A T G T T G T G C C A A C A G T T G T T T G C G C G A A G G A A A G T G A G C C G G A C G T C A T T T C C T T A G G C G A T G A C T C T C A A T T T T C G A\n",
            "3 3 C A A C T T C T T A C C C T G A A G T A T A C A A T A T A A C G A G G C C C A C A T T A A T G G G A C A T G A C C A G A T G G T C T C A T T G T G T A T G C T C C T G A C C A G A T G T C C C C A C T G A T A A G G T T T C A T C C G G C A A G C G T A A G T A T G G A T C A A G G T C G T T G T A C A T T C T G G C A G A T C C C C A G G G G C C A C T C C A T A C G T T T A C C T C T G C T A C A C T T A C\n",
            "1 1 T C A G A T A A G G A C C C A C T C T A A A A A G C A G A A A C T T A C T A C A A G G A C T G T T A C G A C C T C T G G A T G G C C G A T A A C G G A C G A G A T A A T A C G G G A G T T C C C C C G T T A T C C T A T T G G C G G G T A A T T T C C A A C T G T T G C G G T C T C A T G T A T A T T A G T C C G A G C A C G T A C G A C A A T G T A G A T C G A A A C T A A T C T A A G G G C G C A T C C T T\n",
            "3 2 G C G A C T A T G G A A T A T G C T A A A A G T G A A T A T A T A T C A G T A T T T A A G T G A T A T C G T G C A C A G A T G G T T G C T A G T A C T A G T G A T G C T G G T G T C G T T C A T A A T G A C C T G A C C A T G T C G A G A T A A C A T C C C T A T A C A G A T G T G T C C A C C G G A T A G C T A T T A T T G G T T A A A T C G C G G T G T G A C A C T A G C C G G G T C A C T G T C A T C T C\n",
            "1 3 G G T A G A A G A T T A G G C T G T T G A G T G T C C T G G G C T A A T T T T T C A C A T G A T A T A G C G G A T C C G G T G C C A G G A A A G A T A A G C G A A T A T C T C G G T C T A G T A G C A A C T A T C G A C A T G C G G A A C T A T A A C C A G C T A C A T G T G T A T T A T A A T T T C A C G A C A G A C C C A G A A C A G T T G G G T T C A C G C A A C G C G C G T G C C G T A A A G C G T G G\n",
            "2 2 C G T T A T A T C A A T A C T C C G G A T G T A C T T G C T A C G A C A T A A G C A C A A C C A T C T C C G A A C A G A T G C C C C A A G T A A T C A G C C C C T C A A G C A A A T C T A C G G T A T C T A A G C T A C A G A T G G T A G T A T T T C A C T T A T A T T A C T T T A T G A G T C C C A T G T T G C A T G T G A A T G A A T A C T T A A C A G C C T T C G C A T C T A T T C A C G G A G T A T A T\n",
            "0 0 A A A T A C A T A G T A A A T C A C A C A A G C G A A T T T A T T A T T A A C G T C C T C C T T T G G A C C T G A C A A T C A T A T A C C C C A G C C T T A G T A T T A A C C G A T T T T C T G C T A C A C A T C G A G G T G A C A T T C T G T A A G T T C A A A G C G T G T T T A A G A A A C G G A A G C A T T T T C T T G C A A A C G T G A C G T G G A G T A A T A C T T C C A C G G C T C T G G C C A A G\n",
            "3 3 A G G T A C A G A T G G T A T G A G C G A C G G C A T A T C C T A C A G T C C T C A C G T T A T T G A T G C G T C T G T T C T A T T T A C G T C A A T C C T G A T A A G G G T T A T A T G T C G G T G T C A A G C C A T C A G A A G A T T G G A T C T C T C C T T A A C C C G A T A T C T A C G A G T T A A C A G G A C T C T G A G T T T T T T A A C C T T C T C T T T G G T T C G A A G G A T T T G G T C C T\n",
            "1 3 T G C T A T A G A G A T T A G G T A T C A C T T G A T T A G G C A G T C A C A C T G A T A A G C A A C C A C T G T T C T G A C A T G G A T C C T A G A G C C A G A A A A C G C C T G A G G T T G T G T T A G G T C C A G A T G C A T A C T A A A T C A G T C C G T T T C C C G G A A T C A G A G C C G T T G G T A C C G T T C T T A T A G A T G T T A A A A A G A G C C T G C G T G A A T C C G G A T C C T C T\n",
            "1 1 T G A C G A G A G A G G T A A G C A A G A C A T A T A T T T T G T T G A A T G G C T C A G A A C A A C T T C A G G A C C G G A T C T C C T T C T C G A C C C C A G T G T C G G T T C A A C A G A T A A G G T A A G C C A T G T G C A G A T A A G G A T T A C G C A G A A A A T G C C C T G C T T G T C C A A T T G G G A G G G C C G A T A A G A A A T C C A G G C C T G C G T G T C G A A G C A T C C A T A A T\n",
            "2 2 G A A A A C G C T T A C A G G G A T C A G T T G G T T G A A A C T G T C A C G T T A G G A G T T A G G G A T C A C T G C A A A G C G A T G G C C G T T A T C C C G A T G A C T T A G G T A C T T G T T G C A A C A A A G A G C A T T C A C A G A T G G T T A G T C G C C A T T T C A C T A A A T G A T C A T G A G A G T A C T T G A G G T T A G C G A A G T T A A T G C C G T T A T G A T C G T A T G A A G C T\n",
            "2 2 C G G T T T A A G G G T A T T G C C T G A C A C T G G G T A A A C G G T A G G G A A T G T C T G A T C A T G G C A G C C A T C T C A A A C C A A C C T T G G C A T T A T T T T G A C C A A T A A A C A G A T G G T T T A G C T T T C T G G C C T A A T C G A T A C T C C G T C A A A A C A C C A A C T T G C G C A C A G T T G G T C G C A A A T G A T C A G C G G G G G C A C C A G G C G T T T A T G G A C A T\n",
            "3 3 A C T A G T T C T T C T C A C G T C G G T C T T C C A G A C A G A T A G T G A T A A G G C A T C C T A G T T T T C T C A T T A G A G A A A G T T A T C G A G G C G T A A A T T A A G G A G A A C A G A T G G T C T A A T C A G G T A G T T T C T C A C G G G C T A A C A A T G C C T T C G C A A G T T C T A G A C A T C T T T T A G G A C C T T A T T A T C A T A A A T A G C G A T C C T G A A T C T A G C C G\n",
            "0 1 A G C G G G A T G T C G G A T C A C C C T G T A T C A G T A T A G C G A A A G G T T A A A T T T G A G G A G A G C A C C G G T A G A A T G G T G T A T C G G T A T T T T A A G G G C C T T A A G A T A T A A C C T C G T C G T G A G T G A T A A G A G A C T A A A G C A T G G A A C T T C A G T A G A C T G C T T C T G G A C C T A T G C T C A C C T G A C G C G G T A G C T T C G A T A G T T C T A C T G C G\n",
            "2 2 A G C G C T T G A T T G T T C C A A C A G A T G T T A G A A A T T G G C C A G T G C C A A G C A G C A A T T G T A A T C A T C T T A C A A C G T G T A A C C A A T T T C A T C G T G A A A C T G G G C C G C T C T C T T C C G A C T A G T C T G C C G T G C C T T G A T A C A A G T T T G A T C T G A C A T T C C C T T C G A C C T G A T C T G C C T C G A G G G T T A A T G T G C C T G C T C T C G C T T C A\n",
            "3 3 T A G T A T A C G C T C T A T A C A A T A T C C T A G C C G C C G A T G T C G C G C C T G A T C A G T A G A G A T G A G C G C C T G A G T G A A G T C C T G A C T A G C G A G G A A C C C T A G T C C G G G T G A A A A G G G G C C T T A A C A G A T G T T G T T T C T T G G T G A T T T T T G A A G G C C T T G A C C C T A T C C T T A C A T A C A G C C T C G A C A C G A G A T A A G G T G A G G T T A A A\n",
            "3 3 T A G T A T G G C C T T G A G C T C T T A G A A G T T A G T C T T A A C A C C T G C T G A T A A G G T G G C G T G C T G C T A C C T C G A A A C A G A T G G T C G G A G A A A T T G T G A A G A T A A G C G G A C A A A T A G C G T A C A T A A C C A G C T C A T A G C T A A G G C A C G T C A T T G A G C A T T T A A T G A C G A G C C C A T G C A C A T C A A A C T G C T G A C C A T C A A A T T C C C C A\n",
            "2 2 G C A A T G C T A A C T G C A A C A G A A A G C C G A G C G G T G T G G C T T T A G G T T T C A C G A T A C T T C C A C A G T T A T T G T G A A A A A A C G A G C C T C G A C G G T T G A T A G G A A A T C T A C A T T G T C G T C C A A A C C T A T T G G G A G G C T A C T G G C A A C A G G T G T C C G T A T G C T T T G A T T G C A A A T T T C G C C A C A T G C G T A A G T A T C A A T G A T G T C A C\n",
            "2 2 G G T T C T T C A T T T A C T C G T G T A T C A A T A T G G G C A A A C T A C C C T T T C C A G C T T A G C T T T G T G T A A C C A A A G A G G G C C G T G G G G G T A T C T T G T C C C G A C A T C C C G C G T T T C C G C A T A G A C A A T C C G A A C A G G T G G T A C G C G T G A C G C C C C A A A A A A T A G C A A T A C A G A T G A T T T G T C G T T G G G G C A T A G A T A A T C G T C C A G G G\n",
            "1 1 G C A G T T C C T A G C A T T C A T T T A T C T G T C G A A C A G T T T G T G C G C C A C T T A C A T T G G T A A T A A G A A A G A T A A G C T G A T C A A C C T T T T C A T A T A G T A A G A C A G A C A C G C C G A C C G C A C A G C T T C C G C A C A A T G C G G G C A G G A A C C C T T A T G A A T C A T C A T T A T G T C A A A C T G G A G A C T G A T A A G G T A A A G C G C C G T G A A A T C G G\n",
            "1 1 G T C C G C A C G C T A T C T A G T G C G T A A C C C A G A C C G A G T T T A A T C G T T G G G A G G C G T G C G T C T G A G G A A T G G T A A A T C T C T A T C T G T A G G T A C C A T G A A T T G T A C G G T G A T A A G C A A A G C C C G G T T C G A A C A C G A G A C C T T G C A T C C C T C G A T A A G A T A T G G T C T C G G C G T A A G A T G A C G T A T C G T C C T T C A A T C C T C C G G G A\n",
            "0 0 T T G G C A T C C A A T G C T C T G G C C C T A C G C G A T G G C C C T C G T G A A T T A T A T G T A G C T A C G C T C G G T T G T C T T G T G G G G A C T C G T T A G T C C C A C G C C A T C G T A A C G T G A C T T C G G A A T C C C A T G T C A T G A T C A G G T T C C G A T G A T A A T C C G C G T T A C G A C T C A A G C A C A G G A G C G C G A T T G T C C A G C A A A C A G C G T T G T G T A A T\n",
            "1 1 A C A A C T A A T A A A G T C C A A T G A G A G G C C C C C A A G T A G C C T A G T C T A C T T G A T G G A A A A A T G T A T C G G T C G A G G T A C G T T A T G A A T C C G C G A G A T C T A A C A T A A A T C A C G T A G C G G C G A G A T A A G G G A T C G T T T C A T G T T T T T A A T C T A T C C C A T G A G A C T C A A A C G A G A T A A G G T A T C A T G A T G C T T C C T G T A G C A G G T G A\n",
            "3 3 G G A A A T G C G A T G T G A A T G C C A T A G G A G G C A G A T A A G C A T T A C A G A T A A G C G A T C C G A T T A C T A T A C T G C G C T C T A A A C T T A G C C T A C T A C A G C C T T T A A T T G A G A T A A G G T A C G C G C A G G C A T G G G T A C A G T C T G G G C A A G A A T G G G A A T G A A C A G A T G T T T A A G C C T T A T G T C G A G A C G G T G G G T T A C C C G A T T A A A G G\n",
            "1 1 A G G A G G A G A T A A G A A T G T T G G A G C G C A A A T A G T A A A G C A A T A G G C T T G A A C G A G T A A A G A T A A G C T T T G A T A A C C G T C A T C T A C C T C A A A G A A T A A G G T A T A C T G G G A A T A T T T G G G A G A A G A A T G C T C C C T T A A T A C C T T A T A T A C G C C G T C G A C A G A A T G T T T G T T T A T C C G C A C T T T T C G A C A C G T A A T A G C G C G C C\n",
            "0 0 C C T A T G A A T C A T T C A T A T C G A A A T G G G T G A C C T C C T T C T C C T C A G G A A G T A T T A A T T G C T A C C C G C A A A A A T T T A C C G C A A T A C T T A A A G T C T G A G C G T G A A A G A C A A A A A A T C A A C T G T T C C A A G C T A C C A A T C A C T C C G T C T C C A T T T A A C G A C C T T A G G T G A G C T G C A T A G T T T C C T C C A C T A C C A C C G T C G C T T C A\n"
          ],
          "name": "stdout"
        }
      ]
    },
    {
      "cell_type": "code",
      "metadata": {
        "id": "Xhelky7K5Sga",
        "colab_type": "code",
        "outputId": "3a77c4cd-80a0-4319-f7ea-5ed72101b2a9",
        "colab": {
          "base_uri": "https://localhost:8080/",
          "height": 34
        }
      },
      "source": [
        "estimator"
      ],
      "execution_count": 0,
      "outputs": [
        {
          "output_type": "execute_result",
          "data": {
            "text/plain": [
              "<tensorflow_estimator.python.estimator.estimator.Estimator at 0x7f3f56d435c0>"
            ]
          },
          "metadata": {
            "tags": []
          },
          "execution_count": 72
        }
      ]
    },
    {
      "cell_type": "code",
      "metadata": {
        "id": "5i5JgcaD5a61",
        "colab_type": "code",
        "colab": {}
      },
      "source": [
        ""
      ],
      "execution_count": 0,
      "outputs": []
    },
    {
      "cell_type": "code",
      "metadata": {
        "id": "75jtxybq66JP",
        "colab_type": "code",
        "colab": {}
      },
      "source": [
        ""
      ],
      "execution_count": 0,
      "outputs": []
    },
    {
      "cell_type": "code",
      "metadata": {
        "id": "E5LWkEqr8AmJ",
        "colab_type": "code",
        "colab": {}
      },
      "source": [
        ""
      ],
      "execution_count": 0,
      "outputs": []
    }
  ]
}