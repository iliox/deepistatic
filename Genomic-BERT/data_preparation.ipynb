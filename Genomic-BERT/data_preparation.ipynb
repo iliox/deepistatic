{
 "cells": [
  {
   "cell_type": "code",
   "execution_count": 1,
   "metadata": {},
   "outputs": [],
   "source": [
    "import pandas as pd"
   ]
  },
  {
   "cell_type": "code",
   "execution_count": 2,
   "metadata": {},
   "outputs": [],
   "source": [
    "fpath = \"/home/nishant/Desktop/BTP/bert_ns/transformer-drg-style-transfer/data/genome/sequences.simdata\"\n",
    "data = pd.read_csv(fpath, sep='\\t')"
   ]
  },
  {
   "cell_type": "code",
   "execution_count": 3,
   "metadata": {},
   "outputs": [
    {
     "data": {
      "text/html": [
       "<div>\n",
       "<style scoped>\n",
       "    .dataframe tbody tr th:only-of-type {\n",
       "        vertical-align: middle;\n",
       "    }\n",
       "\n",
       "    .dataframe tbody tr th {\n",
       "        vertical-align: top;\n",
       "    }\n",
       "\n",
       "    .dataframe thead th {\n",
       "        text-align: right;\n",
       "    }\n",
       "</style>\n",
       "<table border=\"1\" class=\"dataframe\">\n",
       "  <thead>\n",
       "    <tr style=\"text-align: right;\">\n",
       "      <th></th>\n",
       "      <th>seqName</th>\n",
       "      <th>sequence</th>\n",
       "      <th>embeddings</th>\n",
       "      <th>task1</th>\n",
       "      <th>task2</th>\n",
       "      <th>task3</th>\n",
       "    </tr>\n",
       "  </thead>\n",
       "  <tbody>\n",
       "    <tr>\n",
       "      <td>0</td>\n",
       "      <td>empty_1732</td>\n",
       "      <td>AGCTCTTTTGGCGGACCGAGTTCGTCGGACTTTCGCTAAATTGACC...</td>\n",
       "      <td>NaN</td>\n",
       "      <td>0</td>\n",
       "      <td>0</td>\n",
       "      <td>0</td>\n",
       "    </tr>\n",
       "    <tr>\n",
       "      <td>1</td>\n",
       "      <td>gata_only_1527</td>\n",
       "      <td>TGCAGATAAGAACTTTGGGAATATGGTAGGAAAAACCCCTGAAGTG...</td>\n",
       "      <td>pos-120_GATA_disc1-GCAGATAAGA,pos-1_GATA_disc1...</td>\n",
       "      <td>0</td>\n",
       "      <td>1</td>\n",
       "      <td>0</td>\n",
       "    </tr>\n",
       "    <tr>\n",
       "      <td>2</td>\n",
       "      <td>gata_tal1_62</td>\n",
       "      <td>AGATTATAGGCCCTCCACCAGATAAGATATAGCGTTCGAGGGTCAG...</td>\n",
       "      <td>pos-17_GATA_disc1-CCAGATAAGA,pos-139_TAL1_know...</td>\n",
       "      <td>1</td>\n",
       "      <td>1</td>\n",
       "      <td>1</td>\n",
       "    </tr>\n",
       "    <tr>\n",
       "      <td>3</td>\n",
       "      <td>empty_1289</td>\n",
       "      <td>TTTGGGCGCGGAAGAAGTCGCTCGCCTTTCTGTACTTGAAAATGAT...</td>\n",
       "      <td>NaN</td>\n",
       "      <td>0</td>\n",
       "      <td>0</td>\n",
       "      <td>0</td>\n",
       "    </tr>\n",
       "    <tr>\n",
       "      <td>4</td>\n",
       "      <td>empty_1515</td>\n",
       "      <td>GTAGAACCGCTGAGGCACTTTTAGAATGTTTCTTCCCCCCCGAACA...</td>\n",
       "      <td>NaN</td>\n",
       "      <td>0</td>\n",
       "      <td>0</td>\n",
       "      <td>0</td>\n",
       "    </tr>\n",
       "    <tr>\n",
       "      <td>5</td>\n",
       "      <td>tal1_only_660</td>\n",
       "      <td>TACCACCGCTTCCAATGTTACCATGTTAGCCATAGTTTCGGGAAGT...</td>\n",
       "      <td>pos-60_TAL1_known1-TAGACCAGATGGAGCC,pos-135_TA...</td>\n",
       "      <td>0</td>\n",
       "      <td>0</td>\n",
       "      <td>1</td>\n",
       "    </tr>\n",
       "    <tr>\n",
       "      <td>6</td>\n",
       "      <td>tal1_only_1375</td>\n",
       "      <td>AGTGGCCAGTTACGTGAAGCGCCCGGGCCATATACTATTACAACTA...</td>\n",
       "      <td>pos-168_TAL1_known1-ATGACCAGGTGTCCAG</td>\n",
       "      <td>0</td>\n",
       "      <td>0</td>\n",
       "      <td>1</td>\n",
       "    </tr>\n",
       "    <tr>\n",
       "      <td>7</td>\n",
       "      <td>gata_tal1_678</td>\n",
       "      <td>TGTTTATATCTGCCTGCGATGAGTAAATTGTCTCTTCTGAGCCAGC...</td>\n",
       "      <td>pos-97_GATA_disc1-CCAGATAACC,pos-44_TAL1_known...</td>\n",
       "      <td>1</td>\n",
       "      <td>1</td>\n",
       "      <td>1</td>\n",
       "    </tr>\n",
       "    <tr>\n",
       "      <td>8</td>\n",
       "      <td>empty_134</td>\n",
       "      <td>ATTCTTGTTGAGTGATAGCCTTCTACCGTATATCTTCCCAGTAGAG...</td>\n",
       "      <td>NaN</td>\n",
       "      <td>0</td>\n",
       "      <td>0</td>\n",
       "      <td>0</td>\n",
       "    </tr>\n",
       "    <tr>\n",
       "      <td>9</td>\n",
       "      <td>gata_tal1_1902</td>\n",
       "      <td>CTTGTATTGAGTTAGAAACCGCCACGGCACTGCTATGTATGACATT...</td>\n",
       "      <td>pos-151_GATA_disc1-ACCGATAAGG,pos-123_TAL1_kno...</td>\n",
       "      <td>1</td>\n",
       "      <td>1</td>\n",
       "      <td>1</td>\n",
       "    </tr>\n",
       "  </tbody>\n",
       "</table>\n",
       "</div>"
      ],
      "text/plain": [
       "          seqName                                           sequence  \\\n",
       "0      empty_1732  AGCTCTTTTGGCGGACCGAGTTCGTCGGACTTTCGCTAAATTGACC...   \n",
       "1  gata_only_1527  TGCAGATAAGAACTTTGGGAATATGGTAGGAAAAACCCCTGAAGTG...   \n",
       "2    gata_tal1_62  AGATTATAGGCCCTCCACCAGATAAGATATAGCGTTCGAGGGTCAG...   \n",
       "3      empty_1289  TTTGGGCGCGGAAGAAGTCGCTCGCCTTTCTGTACTTGAAAATGAT...   \n",
       "4      empty_1515  GTAGAACCGCTGAGGCACTTTTAGAATGTTTCTTCCCCCCCGAACA...   \n",
       "5   tal1_only_660  TACCACCGCTTCCAATGTTACCATGTTAGCCATAGTTTCGGGAAGT...   \n",
       "6  tal1_only_1375  AGTGGCCAGTTACGTGAAGCGCCCGGGCCATATACTATTACAACTA...   \n",
       "7   gata_tal1_678  TGTTTATATCTGCCTGCGATGAGTAAATTGTCTCTTCTGAGCCAGC...   \n",
       "8       empty_134  ATTCTTGTTGAGTGATAGCCTTCTACCGTATATCTTCCCAGTAGAG...   \n",
       "9  gata_tal1_1902  CTTGTATTGAGTTAGAAACCGCCACGGCACTGCTATGTATGACATT...   \n",
       "\n",
       "                                          embeddings  task1  task2  task3  \n",
       "0                                                NaN      0      0      0  \n",
       "1  pos-120_GATA_disc1-GCAGATAAGA,pos-1_GATA_disc1...      0      1      0  \n",
       "2  pos-17_GATA_disc1-CCAGATAAGA,pos-139_TAL1_know...      1      1      1  \n",
       "3                                                NaN      0      0      0  \n",
       "4                                                NaN      0      0      0  \n",
       "5  pos-60_TAL1_known1-TAGACCAGATGGAGCC,pos-135_TA...      0      0      1  \n",
       "6               pos-168_TAL1_known1-ATGACCAGGTGTCCAG      0      0      1  \n",
       "7  pos-97_GATA_disc1-CCAGATAACC,pos-44_TAL1_known...      1      1      1  \n",
       "8                                                NaN      0      0      0  \n",
       "9  pos-151_GATA_disc1-ACCGATAAGG,pos-123_TAL1_kno...      1      1      1  "
      ]
     },
     "execution_count": 3,
     "metadata": {},
     "output_type": "execute_result"
    }
   ],
   "source": [
    "data.head(10)"
   ]
  },
  {
   "cell_type": "raw",
   "metadata": {},
   "source": [
    "0   0   0  -> 0 empty\n",
    "0   1   0  -> 1 gata_only\n",
    "0   0   1  -> 2 tal1_only\n",
    "1   1   1  -> 3 gata_tal1"
   ]
  },
  {
   "cell_type": "code",
   "execution_count": 4,
   "metadata": {},
   "outputs": [
    {
     "data": {
      "text/plain": [
       "8000"
      ]
     },
     "execution_count": 4,
     "metadata": {},
     "output_type": "execute_result"
    }
   ],
   "source": [
    "len(data[\"task1\"])"
   ]
  },
  {
   "cell_type": "code",
   "execution_count": 5,
   "metadata": {},
   "outputs": [],
   "source": [
    "sequences = []\n",
    "labels = []"
   ]
  },
  {
   "cell_type": "code",
   "execution_count": 6,
   "metadata": {},
   "outputs": [],
   "source": [
    "for i in range(0, len(data[\"task1\"])):\n",
    "    sequences.append(\" \".join([i for i in data[\"sequence\"][i]]))\n",
    "    if(data[\"task1\"][i]==0 and data[\"task2\"][i]==0 and data[\"task3\"][i]==0):\n",
    "        labels.append(0)\n",
    "    if(data[\"task1\"][i]==0 and data[\"task2\"][i]==1 and data[\"task3\"][i]==0):\n",
    "        labels.append(1)\n",
    "    if(data[\"task1\"][i]==0 and data[\"task2\"][i]==0 and data[\"task3\"][i]==1):\n",
    "        labels.append(2)\n",
    "    if(data[\"task1\"][i]==1 and data[\"task2\"][i]==1 and data[\"task3\"][i]==1):\n",
    "        labels.append(3)"
   ]
  },
  {
   "cell_type": "code",
   "execution_count": 7,
   "metadata": {},
   "outputs": [
    {
     "data": {
      "text/plain": [
       "'A G C T C T T T T G G C G G A C C G A G T T C G T C G G A C T T T C G C T A A A T T G A C C A T T A A C A G G A G G A T A C C C G G G T G T C T C G G G A A G G T C G T A A T A C G G T A A T T A C G G A T G T G A G A G C G C A C A C A T C C T T T G G A T G A T A C A T G A T C T C G C C G T A T A T G G C C T A G G T C A A A A G G A C A G T C T C G C T A A T C G C A A T A A T G C A G C T A A C C G A'"
      ]
     },
     "execution_count": 7,
     "metadata": {},
     "output_type": "execute_result"
    }
   ],
   "source": [
    "sequences[0]"
   ]
  },
  {
   "cell_type": "code",
   "execution_count": 9,
   "metadata": {},
   "outputs": [],
   "source": [
    "split = int(len(sequences)*0.8)\n",
    "train_seq = sequences[0:split]\n",
    "test_seq = sequences[split:len(sequences)]\n",
    "train_labels = labels[0:split]\n",
    "test_labels = labels[split:len(sequences)]\n",
    "\n",
    "f= open(\"transformer-drg-style-transfer/data/genome/train.csv\",\"w\")\n",
    "for i in range(0, len(train_seq)):\n",
    "     f.write(train_seq[i] + \"\\t\" + str(train_labels[i]) + \"\\n\")\n",
    "f.close()\n",
    "\n",
    "f= open(\"transformer-drg-style-transfer/data/genome/dev.csv\",\"w\")\n",
    "for i in range(0, len(test_seq)):\n",
    "     f.write(test_seq[i] + \"\\t\" + str(test_labels[i]) + \"\\n\")\n",
    "f.close()"
   ]
  },
  {
   "cell_type": "code",
   "execution_count": 42,
   "metadata": {},
   "outputs": [],
   "source": [
    "import csv\n",
    "with open(\"transformer-drg-style-transfer/data/genome/train.csv\", \"w\") as out_fp:\n",
    "        writer = csv.writer(out_fp, delimiter=\"\\t\")\n",
    "        for i in range(0, len(train_seq)):\n",
    "            writer.writerow([train_seq[i],str(train_labels[i])])"
   ]
  },
  {
   "cell_type": "code",
   "execution_count": 43,
   "metadata": {},
   "outputs": [],
   "source": [
    "import csv\n",
    "with open(\"transformer-drg-style-transfer/data/genome/dev.csv\", \"w\") as out_fp:\n",
    "        writer = csv.writer(out_fp, delimiter=\"\\t\")\n",
    "        for i in range(0, len(test_seq)):\n",
    "            writer.writerow([test_seq[i],str(test_labels[i])])"
   ]
  },
  {
   "cell_type": "code",
   "execution_count": 44,
   "metadata": {},
   "outputs": [
    {
     "data": {
      "text/plain": [
       "'1.2.0'"
      ]
     },
     "execution_count": 44,
     "metadata": {},
     "output_type": "execute_result"
    }
   ],
   "source": [
    "import torch\n",
    "torch.__version__"
   ]
  },
  {
   "cell_type": "code",
   "execution_count": 23,
   "metadata": {},
   "outputs": [],
   "source": [
    "split = int(len(sequences)*0.8)\n",
    "\n",
    "codons = []\n",
    "for i,text in enumerate(sequences):\n",
    "    tokens = text.split(\" \")\n",
    "    codon = []\n",
    "    for j in range(6,200,6):\n",
    "        codon.append(\"\".join(tokens[j-6:j]))\n",
    "    codons.append(\" \".join(codon))\n",
    "\n",
    "sequences = codons \n",
    "\n",
    "train_seq = sequences[0:split]\n",
    "test_seq = sequences[split:len(sequences)]\n",
    "train_labels = labels[0:split]\n",
    "test_labels = labels[split:len(sequences)]\n",
    "\n",
    "\n",
    "f= open(\"transformer-drg-style-transfer/data/genome/train.txt\",\"w\")\n",
    "for i in range(0, len(train_seq)):\n",
    "     f.write(\"__label__\"+str(train_labels[i])+ \" \" +train_seq[i] + \"\\n\")\n",
    "f.close()\n",
    "\n",
    "f= open(\"transformer-drg-style-transfer/data/genome/dev.txt\",\"w\")\n",
    "for i in range(0, len(test_seq)):\n",
    "     f.write(\"__label__\"+str(test_labels[i])+ \" \" +test_seq[i] + \"\\n\")\n",
    "f.close()"
   ]
  },
  {
   "cell_type": "code",
   "execution_count": null,
   "metadata": {},
   "outputs": [],
   "source": []
  }
 ],
 "metadata": {
  "kernelspec": {
   "display_name": "Python 3",
   "language": "python",
   "name": "python3"
  },
  "language_info": {
   "codemirror_mode": {
    "name": "ipython",
    "version": 3
   },
   "file_extension": ".py",
   "mimetype": "text/x-python",
   "name": "python",
   "nbconvert_exporter": "python",
   "pygments_lexer": "ipython3",
   "version": "3.7.3"
  }
 },
 "nbformat": 4,
 "nbformat_minor": 4
}
