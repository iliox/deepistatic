{
  "nbformat": 4,
  "nbformat_minor": 0,
  "metadata": {
    "colab": {
      "name": "mtp2.ipynb",
      "provenance": []
    },
    "kernelspec": {
      "name": "python3",
      "display_name": "Python 3"
    },
    "accelerator": "GPU"
  },
  "cells": [
    {
      "cell_type": "code",
      "metadata": {
        "colab": {
          "base_uri": "https://localhost:8080/"
        },
        "id": "N8TJwGPXyNm1",
        "outputId": "f1771f96-f640-49a1-c554-5a36266f48e2"
      },
      "source": [
        "!wget http://cb.csail.mit.edu/cb/viral-mutation/data.tar.gz\n",
        "!tar xvf data.tar.gz"
      ],
      "execution_count": null,
      "outputs": [
        {
          "output_type": "stream",
          "text": [
            "--2021-03-18 05:41:21--  http://cb.csail.mit.edu/cb/viral-mutation/data.tar.gz\n",
            "Resolving cb.csail.mit.edu (cb.csail.mit.edu)... 128.30.2.148\n",
            "Connecting to cb.csail.mit.edu (cb.csail.mit.edu)|128.30.2.148|:80... connected.\n",
            "HTTP request sent, awaiting response... 200 OK\n",
            "Length: 74057478 (71M) [application/x-gzip]\n",
            "Saving to: ‘data.tar.gz’\n",
            "\n",
            "data.tar.gz         100%[===================>]  70.63M  15.9MB/s    in 4.5s    \n",
            "\n",
            "2021-03-18 05:41:26 (15.6 MB/s) - ‘data.tar.gz’ saved [74057478/74057478]\n",
            "\n",
            "data/\n",
            "data/escape_results.txt\n",
            "data/evcouplings/\n",
            "data/evcouplings/flu_h3_config.yaml\n",
            "data/evcouplings/flu_h1_config.yaml\n",
            "data/evcouplings/hiv_bf520_seq.fa\n",
            "data/evcouplings/hiv_env_seq.fa\n",
            "data/evcouplings/hiv_env_config.yaml\n",
            "data/evcouplings/sarscov2_config.yaml\n",
            "data/evcouplings/flu_h1_seq.fa\n",
            "data/evcouplings/hiv_bf520_config.yaml\n",
            "data/evcouplings/sarscov2_seq.fa\n",
            "data/evcouplings/flu_h3_seq.fa\n",
            "data/headlines/\n",
            "data/headlines/abcnews-date-text.csv\n",
            "data/headlines/headlines.txt\n",
            "data/hiv/\n",
            "data/hiv/bg505_regions.txt\n",
            "data/hiv/fitness_haddox2018/\n",
            "data/hiv/fitness_haddox2018/BG505-1_prefs.csv\n",
            "data/hiv/fitness_haddox2018/BG505-3_prefs.csv\n",
            "data/hiv/fitness_haddox2018/BG505-2_prefs.csv\n",
            "data/hiv/fitness_haddox2018/BF520-3_prefs.csv\n",
            "data/hiv/fitness_haddox2018/BF520-2_prefs.csv\n",
            "data/hiv/fitness_haddox2018/BF520-1_prefs.csv\n",
            "data/hiv/fitness_haddox2018/BF520_to_HXB2.csv\n",
            "data/hiv/fitness_haddox2018/BF520_env.fasta\n",
            "data/hiv/fitness_haddox2018/map_indices.py\n",
            "data/hiv/fitness_haddox2018/BF520_avgprefs.csv\n",
            "data/hiv/fitness_haddox2018/Env_protalignment_manualtweaks.fasta\n",
            "data/hiv/fitness_haddox2018/BG505_env.fasta\n",
            "data/hiv/fitness_haddox2018/BG505_avgprefs.csv\n",
            "data/hiv/fitness_haddox2018/BG505_to_HXB2.csv\n",
            "data/hiv/HIV-1_env_samelen.fa\n",
            "data/hiv/escape_dingens2019/\n",
            "data/hiv/escape_dingens2019/FileS4/\n",
            "data/hiv/escape_dingens2019/FileS4/fracsurvive/\n",
            "data/hiv/escape_dingens2019/FileS4/fracsurvive/VRC34.csv\n",
            "data/hiv/escape_dingens2019/FileS4/fracsurvive/PGT151.csv\n",
            "data/hiv/escape_dingens2019/FileS4/fracsurvive/VRC01.csv\n",
            "data/hiv/escape_dingens2019/FileS4/fracsurvive/10E8.csv\n",
            "data/hiv/escape_dingens2019/FileS4/fracsurvive/3BNC117.csv\n",
            "data/hiv/escape_dingens2019/FileS4/fracsurvive/PGT145.csv\n",
            "data/hiv/escape_dingens2019/FileS4/fracsurvive/PGT121.csv\n",
            "data/hiv/escape_dingens2019/FileS4/fracsurvive/101074.csv\n",
            "data/hiv/escape_dingens2019/FileS4/fracsurvive/PG9.csv\n",
            "data/hiv/escape_dingens2019/FileS4/fracsurvive/3BNC117-101074-pool.csv\n",
            "data/hiv/escape_dingens2019/FileS4/.DS_Store\n",
            "data/hiv/escape_dingens2019/FileS4/fracsurviveaboveavg/\n",
            "data/hiv/escape_dingens2019/FileS4/fracsurviveaboveavg/PG9.csv\n",
            "data/hiv/escape_dingens2019/FileS4/fracsurviveaboveavg/PGT151.csv\n",
            "data/hiv/escape_dingens2019/FileS4/fracsurviveaboveavg/3BNC117.csv\n",
            "data/hiv/escape_dingens2019/FileS4/fracsurviveaboveavg/3BNC117-101074-pool.csv\n",
            "data/hiv/escape_dingens2019/FileS4/fracsurviveaboveavg/PGT121.csv\n",
            "data/hiv/escape_dingens2019/FileS4/fracsurviveaboveavg/101074.csv\n",
            "data/hiv/escape_dingens2019/FileS4/fracsurviveaboveavg/VRC34.csv\n",
            "data/hiv/escape_dingens2019/FileS4/fracsurviveaboveavg/PGT145.csv\n",
            "data/hiv/escape_dingens2019/FileS4/fracsurviveaboveavg/VRC01.csv\n",
            "data/hiv/escape_dingens2019/FileS4/fracsurviveaboveavg/10E8.csv\n",
            "data/hiv/escape_dingens2019/FileS4/diffsel/\n",
            "data/hiv/escape_dingens2019/FileS4/diffsel/PGT121.csv\n",
            "data/hiv/escape_dingens2019/FileS4/diffsel/101074.csv\n",
            "data/hiv/escape_dingens2019/FileS4/diffsel/PGT145.csv\n",
            "data/hiv/escape_dingens2019/FileS4/diffsel/10E8.csv\n",
            "data/hiv/escape_dingens2019/FileS4/diffsel/.DS_Store\n",
            "data/hiv/escape_dingens2019/FileS4/diffsel/PG9.csv\n",
            "data/hiv/escape_dingens2019/FileS4/diffsel/VRC34.csv\n",
            "data/hiv/escape_dingens2019/FileS4/diffsel/3BNC117.csv\n",
            "data/hiv/escape_dingens2019/FileS4/diffsel/3BNC117-101074-pool.csv\n",
            "data/hiv/escape_dingens2019/FileS4/diffsel/VRC01.csv\n",
            "data/hiv/escape_dingens2019/FileS4/diffsel/PGT151.csv\n",
            "data/hiv/escape_dingens2019/BG505_to_HXB2.csv\n",
            "data/hiv/escape_dingens2019/Env_protalign_manualeditAD.fasta\n",
            "data/fitness_results.txt\n",
            "data/influenza/\n",
            "data/influenza/escape_lee2019/\n",
            "data/influenza/escape_lee2019/H3_site_to_PDB_4o5n.csv\n",
            "data/influenza/escape_lee2019/avg_sel_tidy.csv\n",
            "data/influenza/escape_lee2019/Perth2009_H3_HA.fa\n",
            "data/influenza/fitness_wu2020/\n",
            "data/influenza/fitness_wu2020/data_all.csv\n",
            "data/influenza/fitness_wu2020/HA_ecto.fa\n",
            "data/influenza/fitness_wu2020/data_pref.tsv\n",
            "data/influenza/fitness_wu2020/HumanH3N2_All_2018.fa\n",
            "data/influenza/fitness_wu2020/wildtypes.fa\n",
            "data/influenza/escape_doud2018/\n",
            "data/influenza/escape_doud2018/medianfracsurvivefiles/\n",
            "data/influenza/escape_doud2018/medianfracsurvivefiles/antibody_FI6v3_median_avgsite.csv\n",
            "data/influenza/escape_doud2018/medianfracsurvivefiles/antibody_H17L7_median.csv\n",
            "data/influenza/escape_doud2018/medianfracsurvivefiles/antibody_S139_median.csv\n",
            "data/influenza/escape_doud2018/medianfracsurvivefiles/antibody_C179_median_avgsite.csv\n",
            "data/influenza/escape_doud2018/medianfracsurvivefiles/antibody_H17L7_median_avgsite.csv\n",
            "data/influenza/escape_doud2018/medianfracsurvivefiles/antibody_FI6v3_median.csv\n",
            "data/influenza/escape_doud2018/medianfracsurvivefiles/antibody_C179_median.csv\n",
            "data/influenza/escape_doud2018/medianfracsurvivefiles/antibody_H17L10_median_avgsite.csv\n",
            "data/influenza/escape_doud2018/medianfracsurvivefiles/antibody_S139_median_avgsite.csv\n",
            "data/influenza/escape_doud2018/medianfracsurvivefiles/antibody_H17L19_median.csv\n",
            "data/influenza/escape_doud2018/medianfracsurvivefiles/antibody_H17L19_median_avgsite.csv\n",
            "data/influenza/escape_doud2018/medianfracsurvivefiles/antibody_H17L10_median.csv\n",
            "data/influenza/escape_doud2018/pos_map.csv\n",
            "data/influenza/escape_doud2018/H1toH3_renumber.csv\n",
            "data/influenza/escape_doud2018/WSN1933_H1_HA.fa\n",
            "data/influenza/escape_doud2018/candidates.fa\n",
            "data/influenza/ird_influenzaA_HA_allspecies.fa\n",
            "data/influenza/ird_influenzaA_HA_allspecies_meta.tsv\n",
            "data/influenza/h3_regions.txt\n",
            "data/influenza/h1_regions.txt\n",
            "data/influenza/fitness_doud2016/\n",
            "data/influenza/fitness_doud2016/Supplemental_File_5_sequencing_library_primers.txt\n",
            "data/influenza/fitness_doud2016/Supplemental_File_3_HApreferences_rescaled.txt\n",
            "data/influenza/fitness_doud2016/Doud2016_HA_replicate-2_prefs.csv\n",
            "data/influenza/fitness_doud2016/Doud2016_HA_replicate-3_prefs.csv\n",
            "data/influenza/fitness_doud2016/Doud2016_HA_replicate-1_prefs.csv\n",
            "data/influenza/fitness_doud2016/Supplemental_File_2_HApreferences.txt\n",
            "data/influenza/fitness_doud2016/Supplemental_File_6_WSN_to_H3_numbering_conversion.txt\n",
            "data/cov/\n",
            "data/cov/cov_all.fa\n",
            "data/cov/cov2_spike_wt.fasta\n",
            "data/cov/starr2020cov2/\n",
            "data/cov/starr2020cov2/binding_Kds.csv\n",
            "data/cov/starr2020cov2/expression_meanFs.csv\n",
            "data/cov/starr2020cov2/single_mut_effects.csv\n",
            "data/cov/gisaid.fasta\n",
            "data/cov/sarscov2_regions.txt\n",
            "data/cov/viprbrc_db.fasta\n",
            "data/cov/sars_cov2_seqs.fa\n",
            "data/greaney2020cov2/\n",
            "data/greaney2020cov2/escape_fracs.csv\n",
            "data/greaney2020cov2/significant_escape_sites.csv\n"
          ],
          "name": "stdout"
        }
      ]
    },
    {
      "cell_type": "code",
      "metadata": {
        "colab": {
          "base_uri": "https://localhost:8080/"
        },
        "id": "dhuTiry5yVmT",
        "outputId": "0ae1841b-0405-420d-ebc8-fe3fda30f35b"
      },
      "source": [
        "ls"
      ],
      "execution_count": null,
      "outputs": [
        {
          "output_type": "stream",
          "text": [
            "\u001b[0m\u001b[01;34mdata\u001b[0m/  data.tar.gz  \u001b[01;34msample_data\u001b[0m/\n"
          ],
          "name": "stdout"
        }
      ]
    },
    {
      "cell_type": "code",
      "metadata": {
        "colab": {
          "base_uri": "https://localhost:8080/"
        },
        "id": "E8pCftREye4E",
        "outputId": "41ecea55-8dca-4562-b14c-4b206fc18871"
      },
      "source": [
        "cd data"
      ],
      "execution_count": null,
      "outputs": [
        {
          "output_type": "stream",
          "text": [
            "/content/data\n"
          ],
          "name": "stdout"
        }
      ]
    },
    {
      "cell_type": "code",
      "metadata": {
        "colab": {
          "base_uri": "https://localhost:8080/"
        },
        "id": "mqkWnNsIyhJ6",
        "outputId": "fe744c74-fc62-4245-8b4e-988ba3fa5149"
      },
      "source": [
        "ls"
      ],
      "execution_count": null,
      "outputs": [
        {
          "output_type": "stream",
          "text": [
            "\u001b[0m\u001b[01;34mcov\u001b[0m/                \u001b[01;34mevcouplings\u001b[0m/         \u001b[01;34mgreaney2020cov2\u001b[0m/  \u001b[01;34mhiv\u001b[0m/\n",
            "escape_results.txt  fitness_results.txt  \u001b[01;34mheadlines\u001b[0m/        \u001b[01;34minfluenza\u001b[0m/\n"
          ],
          "name": "stdout"
        }
      ]
    },
    {
      "cell_type": "code",
      "metadata": {
        "colab": {
          "base_uri": "https://localhost:8080/",
          "height": 17
        },
        "id": "osKgfMyAykA3",
        "outputId": "0156dedd-811f-463e-991c-7496443ca0a4"
      },
      "source": [
        "from google.colab import files\n",
        "files.download('flu_embed.log') "
      ],
      "execution_count": null,
      "outputs": [
        {
          "output_type": "display_data",
          "data": {
            "application/javascript": [
              "\n",
              "    async function download(id, filename, size) {\n",
              "      if (!google.colab.kernel.accessAllowed) {\n",
              "        return;\n",
              "      }\n",
              "      const div = document.createElement('div');\n",
              "      const label = document.createElement('label');\n",
              "      label.textContent = `Downloading \"${filename}\": `;\n",
              "      div.appendChild(label);\n",
              "      const progress = document.createElement('progress');\n",
              "      progress.max = size;\n",
              "      div.appendChild(progress);\n",
              "      document.body.appendChild(div);\n",
              "\n",
              "      const buffers = [];\n",
              "      let downloaded = 0;\n",
              "\n",
              "      const channel = await google.colab.kernel.comms.open(id);\n",
              "      // Send a message to notify the kernel that we're ready.\n",
              "      channel.send({})\n",
              "\n",
              "      for await (const message of channel.messages) {\n",
              "        // Send a message to notify the kernel that we're ready.\n",
              "        channel.send({})\n",
              "        if (message.buffers) {\n",
              "          for (const buffer of message.buffers) {\n",
              "            buffers.push(buffer);\n",
              "            downloaded += buffer.byteLength;\n",
              "            progress.value = downloaded;\n",
              "          }\n",
              "        }\n",
              "      }\n",
              "      const blob = new Blob(buffers, {type: 'application/binary'});\n",
              "      const a = document.createElement('a');\n",
              "      a.href = window.URL.createObjectURL(blob);\n",
              "      a.download = filename;\n",
              "      div.appendChild(a);\n",
              "      a.click();\n",
              "      div.remove();\n",
              "    }\n",
              "  "
            ],
            "text/plain": [
              "<IPython.core.display.Javascript object>"
            ]
          },
          "metadata": {
            "tags": []
          }
        },
        {
          "output_type": "display_data",
          "data": {
            "application/javascript": [
              "download(\"download_57a54f34-1bfc-4148-9ebb-ae5081c234a0\", \"flu_embed.log\", 358)"
            ],
            "text/plain": [
              "<IPython.core.display.Javascript object>"
            ]
          },
          "metadata": {
            "tags": []
          }
        }
      ]
    },
    {
      "cell_type": "code",
      "metadata": {
        "colab": {
          "base_uri": "https://localhost:8080/"
        },
        "id": "30LcS6ZbytEg",
        "outputId": "b74c5356-6feb-4923-b12f-6c16a7be7a63"
      },
      "source": [
        "cd cov"
      ],
      "execution_count": null,
      "outputs": [
        {
          "output_type": "stream",
          "text": [
            "/content/data/cov\n"
          ],
          "name": "stdout"
        }
      ]
    },
    {
      "cell_type": "code",
      "metadata": {
        "id": "utH5mkcIz_8b",
        "colab": {
          "base_uri": "https://localhost:8080/"
        },
        "outputId": "e69ea38f-78fd-4462-8694-bacc7f4dcbaa"
      },
      "source": [
        "ls"
      ],
      "execution_count": null,
      "outputs": [
        {
          "output_type": "stream",
          "text": [
            "cov2_spike_wt.fasta  gisaid.fasta          \u001b[0m\u001b[01;32msars_cov2_seqs.fa\u001b[0m*  viprbrc_db.fasta\n",
            "cov_all.fa           sarscov2_regions.txt  \u001b[01;34mstarr2020cov2\u001b[0m/\n"
          ],
          "name": "stdout"
        }
      ]
    },
    {
      "cell_type": "code",
      "metadata": {
        "id": "xdKqVcvc0Ad1",
        "colab": {
          "base_uri": "https://localhost:8080/"
        },
        "outputId": "0f00f075-2628-4f65-f0cb-9178c3cbba74"
      },
      "source": [
        "!python viral-mutation/bin/flu.py bilstm --checkpoint viral-mutation/models/flu.hdf5 --embed "
      ],
      "execution_count": null,
      "outputs": [
        {
          "output_type": "stream",
          "text": [
            "2021-03-18 06:10:38.376465: I tensorflow/stream_executor/platform/default/dso_loader.cc:49] Successfully opened dynamic library libcudart.so.11.0\n",
            "2021-03-18 06:10:42.035370: I tensorflow/compiler/jit/xla_cpu_device.cc:41] Not creating XLA devices, tf_xla_enable_xla_devices not set\n",
            "2021-03-18 06:10:42.048501: I tensorflow/stream_executor/platform/default/dso_loader.cc:49] Successfully opened dynamic library libcuda.so.1\n",
            "2021-03-18 06:10:42.109899: I tensorflow/stream_executor/cuda/cuda_gpu_executor.cc:941] successful NUMA node read from SysFS had negative value (-1), but there must be at least one NUMA node, so returning NUMA node zero\n",
            "2021-03-18 06:10:42.110523: I tensorflow/core/common_runtime/gpu/gpu_device.cc:1720] Found device 0 with properties: \n",
            "pciBusID: 0000:00:04.0 name: Tesla P100-PCIE-16GB computeCapability: 6.0\n",
            "coreClock: 1.3285GHz coreCount: 56 deviceMemorySize: 15.90GiB deviceMemoryBandwidth: 681.88GiB/s\n",
            "2021-03-18 06:10:42.110590: I tensorflow/stream_executor/platform/default/dso_loader.cc:49] Successfully opened dynamic library libcudart.so.11.0\n",
            "2021-03-18 06:10:42.201026: I tensorflow/stream_executor/platform/default/dso_loader.cc:49] Successfully opened dynamic library libcublas.so.11\n",
            "2021-03-18 06:10:42.201127: I tensorflow/stream_executor/platform/default/dso_loader.cc:49] Successfully opened dynamic library libcublasLt.so.11\n",
            "2021-03-18 06:10:42.379364: I tensorflow/stream_executor/platform/default/dso_loader.cc:49] Successfully opened dynamic library libcufft.so.10\n",
            "2021-03-18 06:10:42.397830: I tensorflow/stream_executor/platform/default/dso_loader.cc:49] Successfully opened dynamic library libcurand.so.10\n",
            "2021-03-18 06:10:42.665958: I tensorflow/stream_executor/platform/default/dso_loader.cc:49] Successfully opened dynamic library libcusolver.so.10\n",
            "2021-03-18 06:10:42.686337: I tensorflow/stream_executor/platform/default/dso_loader.cc:49] Successfully opened dynamic library libcusparse.so.11\n",
            "2021-03-18 06:10:42.691595: I tensorflow/stream_executor/platform/default/dso_loader.cc:49] Successfully opened dynamic library libcudnn.so.8\n",
            "2021-03-18 06:10:42.691758: I tensorflow/stream_executor/cuda/cuda_gpu_executor.cc:941] successful NUMA node read from SysFS had negative value (-1), but there must be at least one NUMA node, so returning NUMA node zero\n",
            "2021-03-18 06:10:42.692418: I tensorflow/stream_executor/cuda/cuda_gpu_executor.cc:941] successful NUMA node read from SysFS had negative value (-1), but there must be at least one NUMA node, so returning NUMA node zero\n",
            "2021-03-18 06:10:42.695882: I tensorflow/core/common_runtime/gpu/gpu_device.cc:1862] Adding visible gpu devices: 0\n",
            "2021-03-18 06:10:42.696050: I tensorflow/compiler/jit/xla_cpu_device.cc:41] Not creating XLA devices, tf_xla_enable_xla_devices not set\n",
            "2021-03-18 06:10:42.696182: I tensorflow/stream_executor/cuda/cuda_gpu_executor.cc:941] successful NUMA node read from SysFS had negative value (-1), but there must be at least one NUMA node, so returning NUMA node zero\n",
            "WARNING:tensorflow:Mixed precision compatibility check (mixed_float16): WARNING\n",
            "Your GPU may run slowly with dtype policy mixed_float16 because it does not have compute capability of at least 7.0. Your GPU:\n",
            "  Tesla P100-PCIE-16GB, compute capability 6.0\n",
            "See https://developer.nvidia.com/cuda-gpus for a list of GPUs and their compute capabilities.\n",
            "If you will use compatible GPU(s) not attached to this host, e.g. by running a multi-worker model, you can ignore this warning. This message will only be logged once\n",
            "WARNING:tensorflow:From /usr/local/lib/python3.7/dist-packages/tensorflow/python/keras/mixed_precision/loss_scale.py:56: DynamicLossScale.__init__ (from tensorflow.python.training.experimental.loss_scale) is deprecated and will be removed in a future version.\n",
            "Instructions for updating:\n",
            "Use tf.keras.mixed_precision.LossScaleOptimizer instead. LossScaleOptimizer now has all the functionality of DynamicLossScale\n",
            "2021-03-18 06:10:42.710918: I tensorflow/compiler/jit/xla_gpu_device.cc:99] Not creating XLA devices, tf_xla_enable_xla_devices not set\n",
            "2021-03-18 06:10:42.711056: I tensorflow/stream_executor/cuda/cuda_gpu_executor.cc:941] successful NUMA node read from SysFS had negative value (-1), but there must be at least one NUMA node, so returning NUMA node zero\n",
            "2021-03-18 06:10:42.711661: I tensorflow/core/common_runtime/gpu/gpu_device.cc:1720] Found device 0 with properties: \n",
            "pciBusID: 0000:00:04.0 name: Tesla P100-PCIE-16GB computeCapability: 6.0\n",
            "coreClock: 1.3285GHz coreCount: 56 deviceMemorySize: 15.90GiB deviceMemoryBandwidth: 681.88GiB/s\n",
            "2021-03-18 06:10:42.711726: I tensorflow/stream_executor/platform/default/dso_loader.cc:49] Successfully opened dynamic library libcudart.so.11.0\n",
            "2021-03-18 06:10:42.711765: I tensorflow/stream_executor/platform/default/dso_loader.cc:49] Successfully opened dynamic library libcublas.so.11\n",
            "2021-03-18 06:10:42.711795: I tensorflow/stream_executor/platform/default/dso_loader.cc:49] Successfully opened dynamic library libcublasLt.so.11\n",
            "2021-03-18 06:10:42.711843: I tensorflow/stream_executor/platform/default/dso_loader.cc:49] Successfully opened dynamic library libcufft.so.10\n",
            "2021-03-18 06:10:42.711871: I tensorflow/stream_executor/platform/default/dso_loader.cc:49] Successfully opened dynamic library libcurand.so.10\n",
            "2021-03-18 06:10:42.711893: I tensorflow/stream_executor/platform/default/dso_loader.cc:49] Successfully opened dynamic library libcusolver.so.10\n",
            "2021-03-18 06:10:42.711918: I tensorflow/stream_executor/platform/default/dso_loader.cc:49] Successfully opened dynamic library libcusparse.so.11\n",
            "2021-03-18 06:10:42.711944: I tensorflow/stream_executor/platform/default/dso_loader.cc:49] Successfully opened dynamic library libcudnn.so.8\n",
            "2021-03-18 06:10:42.712021: I tensorflow/stream_executor/cuda/cuda_gpu_executor.cc:941] successful NUMA node read from SysFS had negative value (-1), but there must be at least one NUMA node, so returning NUMA node zero\n",
            "2021-03-18 06:10:42.712611: I tensorflow/stream_executor/cuda/cuda_gpu_executor.cc:941] successful NUMA node read from SysFS had negative value (-1), but there must be at least one NUMA node, so returning NUMA node zero\n",
            "2021-03-18 06:10:42.713118: I tensorflow/core/common_runtime/gpu/gpu_device.cc:1862] Adding visible gpu devices: 0\n",
            "2021-03-18 06:10:42.716702: I tensorflow/stream_executor/platform/default/dso_loader.cc:49] Successfully opened dynamic library libcudart.so.11.0\n",
            "2021-03-18 06:10:47.338556: I tensorflow/core/common_runtime/gpu/gpu_device.cc:1261] Device interconnect StreamExecutor with strength 1 edge matrix:\n",
            "2021-03-18 06:10:47.338608: I tensorflow/core/common_runtime/gpu/gpu_device.cc:1267]      0 \n",
            "2021-03-18 06:10:47.338622: I tensorflow/core/common_runtime/gpu/gpu_device.cc:1280] 0:   N \n",
            "2021-03-18 06:10:47.344550: I tensorflow/stream_executor/cuda/cuda_gpu_executor.cc:941] successful NUMA node read from SysFS had negative value (-1), but there must be at least one NUMA node, so returning NUMA node zero\n",
            "2021-03-18 06:10:47.345197: I tensorflow/stream_executor/cuda/cuda_gpu_executor.cc:941] successful NUMA node read from SysFS had negative value (-1), but there must be at least one NUMA node, so returning NUMA node zero\n",
            "2021-03-18 06:10:47.345819: I tensorflow/stream_executor/cuda/cuda_gpu_executor.cc:941] successful NUMA node read from SysFS had negative value (-1), but there must be at least one NUMA node, so returning NUMA node zero\n",
            "2021-03-18 06:10:47.346322: W tensorflow/core/common_runtime/gpu/gpu_bfc_allocator.cc:39] Overriding allow_growth setting because the TF_FORCE_GPU_ALLOW_GROWTH environment variable is set. Original config value was 0.\n",
            "2021-03-18 06:10:47.346381: I tensorflow/core/common_runtime/gpu/gpu_device.cc:1406] Created TensorFlow device (/job:localhost/replica:0/task:0/device:GPU:0 with 14975 MB memory) -> physical GPU (device: 0, name: Tesla P100-PCIE-16GB, pci bus id: 0000:00:04.0, compute capability: 6.0)\n",
            "2021-03-18 06:10:49.095081 | Model summary:\n",
            "Model: \"model\"\n",
            "__________________________________________________________________________________________________\n",
            "Layer (type)                    Output Shape         Param #     Connected to                     \n",
            "==================================================================================================\n",
            "input_1 (InputLayer)            [(None, 577)]        0                                            \n",
            "__________________________________________________________________________________________________\n",
            "input_2 (InputLayer)            [(None, 577)]        0                                            \n",
            "__________________________________________________________________________________________________\n",
            "embedding (Embedding)           (None, 577, 20)      580         input_1[0][0]                    \n",
            "                                                                 input_2[0][0]                    \n",
            "__________________________________________________________________________________________________\n",
            "lstm (LSTM)                     (None, 577, 512)     1091584     embedding[0][0]                  \n",
            "                                                                 embedding[1][0]                  \n",
            "__________________________________________________________________________________________________\n",
            "lstm_1 (LSTM)                   (None, 512)          2099200     lstm[0][0]                       \n",
            "                                                                 lstm[1][0]                       \n",
            "__________________________________________________________________________________________________\n",
            "embed_layer (Concatenate)       (None, 1024)         0           lstm_1[0][0]                     \n",
            "                                                                 lstm_1[1][0]                     \n",
            "__________________________________________________________________________________________________\n",
            "dense (Dense)                   (None, 29)           29725       embed_layer[0][0]                \n",
            "__________________________________________________________________________________________________\n",
            "activation (Activation)         (None, 29)           0           dense[0][0]                      \n",
            "==================================================================================================\n",
            "Total params: 3,221,089\n",
            "Trainable params: 3,221,089\n",
            "Non-trainable params: 0\n",
            "__________________________________________________________________________________________________\n",
            "2021-03-18 06:10:49.096594 | None\n",
            "tcmalloc: large alloc 58674692096 bytes == 0x5612fb54e000 @  0x7f17235321e7 0x7f171e38846e 0x7f171e3d8c7b 0x7f171e3d935f 0x7f171e47b103 0x561236e20050 0x561236e1fde0 0x561236e93ac2 0x561236e8eb0e 0x561236e2177a 0x561236e9086a 0x561236e8eb0e 0x561236e2177a 0x561236e9086a 0x561236e8eb0e 0x561236e2177a 0x561236e9086a 0x561236e8ee0d 0x561236e2177a 0x561236e8fc9e 0x561236e8ee0d 0x561236e2177a 0x561236e8fc9e 0x561236e8eb0e 0x561236e2177a 0x561236e9086a 0x561236e8ee0d 0x561236e2177a 0x561236e8fa45 0x561236e8eb0e 0x561236e8e813\n",
            "^C\n"
          ],
          "name": "stdout"
        }
      ]
    },
    {
      "cell_type": "code",
      "metadata": {
        "id": "eWV5HqPs4Kdc"
      },
      "source": [
        "!git clone https://github.com/brianhie/viral-mutation.git\n",
        "!pip install Bio\n",
        "!pip install scanpy\n",
        "!pip install anndata"
      ],
      "execution_count": null,
      "outputs": []
    },
    {
      "cell_type": "code",
      "metadata": {
        "id": "EqKyE0n56MX0"
      },
      "source": [
        "from google.colab import drive\n",
        "drive.mount('/content/drive')"
      ],
      "execution_count": null,
      "outputs": []
    },
    {
      "cell_type": "code",
      "metadata": {
        "id": "laIqrDTG-At1"
      },
      "source": [
        "mem = []\n",
        "while True:\n",
        "    mem.append(' ' * 10**6)"
      ],
      "execution_count": null,
      "outputs": []
    },
    {
      "cell_type": "code",
      "metadata": {
        "id": "mOk6ra_K-BJd"
      },
      "source": [
        ""
      ],
      "execution_count": null,
      "outputs": []
    }
  ]
}