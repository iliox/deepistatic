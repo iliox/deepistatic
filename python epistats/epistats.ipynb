{
 "cells": [
  {
   "cell_type": "code",
   "execution_count": 1,
   "metadata": {},
   "outputs": [],
   "source": [
    "from epistasis.models import EpistasisLinearRegression"
   ]
  },
  {
   "cell_type": "code",
   "execution_count": 2,
   "metadata": {},
   "outputs": [],
   "source": [
    "model = EpistasisLinearRegression(order=3, model_type='global')"
   ]
  },
  {
   "cell_type": "code",
   "execution_count": 1,
   "metadata": {},
   "outputs": [],
   "source": [
    "# wildtype = \"AAA\"\n",
    "# genotypes = [\"ATT\", \"AAT\", \"ATA\", \"TAA\", \"ATT\", \"TAT\", \"TTA\", \"TTT\"]\n",
    "# phenotypes = [0.1, 0.2, 0.4, 0.3, 0.3, 0.6, 0.8, 1.0]\n",
    "\n",
    "import pandas as pd\n",
    "\n",
    "df = pd.read_csv(\"train.csv\", sep='\\t',header = None)\n",
    "seqs = list(df[0])\n",
    "labs = list(df[1])\n",
    "\n",
    "seqs = [\"\".join(i.split(\" \")) for i in seqs]\n",
    "\n",
    "for i,lab in enumerate(labs):\n",
    "    if(lab==3):\n",
    "        labs[i]=1\n",
    "    else:\n",
    "        labs[i]=0"
   ]
  },
  {
   "cell_type": "code",
   "execution_count": 3,
   "metadata": {},
   "outputs": [
    {
     "data": {
      "text/plain": [
       "('TTCTACTTCACCCAGAATACAGCCATCAGCAATCAGCGAACAGATGTTAACTTCTAATAATAGATATGACGATGTTCAACGAGTTTATCCCCCGGATAGACACTACTCAAGCGGATCTTGTTCTTAGGTAGGATGCCGTCCACAAGTGACGTGCCATGATACAGATAAGAACCTAAGACTCCCCCAAAAGATCAGAAATT',\n",
       " 1)"
      ]
     },
     "execution_count": 3,
     "metadata": {},
     "output_type": "execute_result"
    }
   ],
   "source": [
    "seqs[10], labs[10]"
   ]
  },
  {
   "cell_type": "code",
   "execution_count": 14,
   "metadata": {},
   "outputs": [],
   "source": [
    "wildtype = \"AAA\"\n",
    "genotypes = [\"ATT\", \"AAT\", \"ATA\", \"TAA\", \"ATT\", \"TAT\", \"TTA\", \"TTT\"]\n",
    "phenotypes = [0.1, 0.2, 0.4, 0.3, 0.3, 0.6, 0.8, 1.0]\n"
   ]
  },
  {
   "cell_type": "code",
   "execution_count": null,
   "metadata": {},
   "outputs": [],
   "source": [
    "from gpmap import GenotypePhenotypeMap\n",
    "\n",
    "datafile = 'data.csv'\n",
    "gpm = GenotypePhenotypeMap.read_csv(datafile)\n",
    "\n",
    "# Add the data.\n",
    "model.add_gpm(gpm)"
   ]
  },
  {
   "cell_type": "code",
   "execution_count": null,
   "metadata": {},
   "outputs": [],
   "source": [
    "# Call fit method\n",
    "model.fit()"
   ]
  },
  {
   "cell_type": "code",
   "execution_count": null,
   "metadata": {},
   "outputs": [],
   "source": [
    "from epistasis.pyplot import plot_coefs\n",
    "\n",
    "fig, ax = plot_coefs(model.epistasis.sites, model.epistasis.values)"
   ]
  },
  {
   "cell_type": "code",
   "execution_count": 17,
   "metadata": {},
   "outputs": [
    {
     "data": {
      "text/plain": [
       "(<Figure size 216x360 with 2 Axes>,\n",
       " [<matplotlib.axes._subplots.AxesSubplot at 0x7f8c9dc193c8>,\n",
       "  <matplotlib.axes._subplots.AxesSubplot at 0x7f8c9dbb9668>])"
      ]
     },
     "execution_count": 17,
     "metadata": {},
     "output_type": "execute_result"
    },
    {
     "data": {
      "image/png": "[encoded data removed]",
      "text/plain": [
       "<Figure size 216x360 with 2 Axes>"
      ]
     },
     "metadata": {
      "needs_background": "light"
     },
     "output_type": "display_data"
    }
   ],
   "source": [
    "# Import a model and the plotting module\n",
    "from gpmap import GenotypePhenotypeMap\n",
    "from epistasis.models import EpistasisLinearRegression\n",
    "from epistasis.pyplot import plot_coefs\n",
    "\n",
    "# Genotype-phenotype map data.\n",
    "wildtype = seqs[2]\n",
    "genotypes = seqs[:8]\n",
    "phenotypes = [0.1, 0.2, 0.4, 0.3, 0.3, 0.6, 0.8, 1.0]\n",
    "\n",
    "# Create genotype-phenotype map object.\n",
    "gpm = GenotypePhenotypeMap(wildtype=wildtype,\n",
    "                           genotypes=genotypes,\n",
    "                           phenotypes=phenotypes)\n",
    "\n",
    "# Initialize an epistasis model.\n",
    "model = EpistasisLinearRegression(order=1)\n",
    "\n",
    "# Add the genotype phenotype map.\n",
    "model.add_gpm(gpm)\n",
    "\n",
    "# Fit model to given genotype-phenotype map.\n",
    "model.fit()\n",
    "\n",
    "# Plot coefficients (powered by matplotlib).\n",
    "plot_coefs(model, figsize=(3,5))"
   ]
  },
  {
   "cell_type": "code",
   "execution_count": 3,
   "metadata": {},
   "outputs": [
    {
     "data": {
      "text/plain": [
       "[0, 0, 1, 0, 0, 0, 0, 1, 0, 1]"
      ]
     },
     "execution_count": 3,
     "metadata": {},
     "output_type": "execute_result"
    }
   ],
   "source": [
    "labs[:10]"
   ]
  },
  {
   "cell_type": "code",
   "execution_count": 8,
   "metadata": {},
   "outputs": [
    {
     "data": {
      "text/plain": [
       "[0.0, 0.0, 1.0, 0.0, 0.0, 0.0, 0.0, 1.0, 0.0, 1.0]"
      ]
     },
     "execution_count": 8,
     "metadata": {},
     "output_type": "execute_result"
    }
   ],
   "source": [
    "[float(i) for i in labs[:10]]"
   ]
  },
  {
   "cell_type": "code",
   "execution_count": null,
   "metadata": {},
   "outputs": [],
   "source": []
  }
 ],
 "metadata": {
  "kernelspec": {
   "display_name": "Python 3",
   "language": "python",
   "name": "python3"
  },
  "language_info": {
   "codemirror_mode": {
    "name": "ipython",
    "version": 3
   },
   "file_extension": ".py",
   "mimetype": "text/x-python",
   "name": "python",
   "nbconvert_exporter": "python",
   "pygments_lexer": "ipython3",
   "version": "3.7.3"
  }
 },
 "nbformat": 4,
 "nbformat_minor": 4
}
